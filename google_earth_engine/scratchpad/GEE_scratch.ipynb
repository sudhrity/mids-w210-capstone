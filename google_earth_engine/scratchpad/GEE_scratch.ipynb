{
 "cells": [
  {
   "cell_type": "markdown",
   "id": "d3396798",
   "metadata": {},
   "source": [
    "# Google Earth Engine Component"
   ]
  },
  {
   "cell_type": "markdown",
   "id": "8c9c694d",
   "metadata": {},
   "source": [
    "## Initialize"
   ]
  },
  {
   "cell_type": "code",
   "execution_count": 2,
   "id": "dfa75a74",
   "metadata": {},
   "outputs": [],
   "source": [
    "#Import required libraries\n",
    "import ee\n",
    "import geemap\n",
    "import math\n",
    "\n",
    "import numpy as np\n",
    "import matplotlib.pyplot as plt\n",
    "\n",
    "import itertools\n",
    "# from varname import nameof\n",
    "\n",
    "import pandas as pd\n",
    "from time import time"
   ]
  },
  {
   "cell_type": "code",
   "execution_count": 3,
   "id": "d7c4a713",
   "metadata": {},
   "outputs": [],
   "source": [
    "#Initialize Google Earth Engine\n",
    "# ee.Authenticate() #just needed the 1st time\n",
    "ee.Initialize()"
   ]
  },
  {
   "cell_type": "code",
   "execution_count": 4,
   "id": "4cfde15c",
   "metadata": {},
   "outputs": [],
   "source": [
    "# Check if geemap is working as intended - plot the leaflet map\n",
    "Map = geemap.Map()"
   ]
  },
  {
   "cell_type": "code",
   "execution_count": 5,
   "id": "2e834877",
   "metadata": {},
   "outputs": [
    {
     "data": {
      "application/vnd.jupyter.widget-view+json": {
       "model_id": "5c75ce4b82eb442a8a68177dc63a901a",
       "version_major": 2,
       "version_minor": 0
      },
      "text/plain": [
       "Map(center=[20, 0], controls=(WidgetControl(options=['position', 'transparent_bg'], widget=HBox(children=(Togg…"
      ]
     },
     "metadata": {},
     "output_type": "display_data"
    }
   ],
   "source": [
    "Map"
   ]
  },
  {
   "cell_type": "markdown",
   "id": "c073da77",
   "metadata": {},
   "source": [
    "## Load Feature Collection - Shapefiles"
   ]
  },
  {
   "cell_type": "code",
   "execution_count": 6,
   "id": "3ae8c3a2",
   "metadata": {},
   "outputs": [],
   "source": [
    "#Data loads\n",
    "\n",
    "#loads feature collection data from Google Earth Engine - We can also upload other feature collections\n",
    "counties = ee.FeatureCollection(\"TIGER/2018/Counties\")\n",
    "\n",
    "#filter LA County\n",
    "la_county = counties.filter(ee.Filter.eq('NAME', 'Los Angeles'))\n",
    "sc_county = counties.filter(ee.Filter.eq('NAME', 'Santa Clara'))"
   ]
  },
  {
   "cell_type": "code",
   "execution_count": 7,
   "id": "66637b9c",
   "metadata": {},
   "outputs": [
    {
     "data": {
      "text/plain": [
       "(<ee.featurecollection.FeatureCollection at 0x7f95c22655b0>,\n",
       " <ee.featurecollection.FeatureCollection at 0x7f95c2265250>)"
      ]
     },
     "execution_count": 7,
     "metadata": {},
     "output_type": "execute_result"
    }
   ],
   "source": [
    "la_county, sc_county"
   ]
  },
  {
   "cell_type": "markdown",
   "id": "ecc84f89",
   "metadata": {},
   "source": [
    "## Load NAIP Imagery"
   ]
  },
  {
   "cell_type": "code",
   "execution_count": 8,
   "id": "d0d4adf9",
   "metadata": {},
   "outputs": [],
   "source": [
    "def apply_3bands(image, band):\n",
    "    i_8_bit = image.select(band).toUint8()\n",
    "    square = ee.Kernel.square(**{'radius': 4})\n",
    "    entropy = i_8_bit.entropy(square)\n",
    "    glcm = i_8_bit.glcmTexture(**{'size': 4})\n",
    "    contrast = glcm.select(str(band)+'_contrast')\n",
    "    \n",
    "    # Create a list of weights for a 9x9 kernel.\n",
    "    list = [1, 1, 1, 1, 1, 1, 1, 1, 1]\n",
    "    # The center of the kernel is zero.\n",
    "    centerList = [1, 1, 1, 1, 0, 1, 1, 1, 1]\n",
    "    # Assemble a list of lists: the 9x9 kernel weights as a 2-D matrix.\n",
    "    lists = [list, list, list, list, centerList, list, list, list, list]\n",
    "    # Create the kernel from the weights.\n",
    "    # Non-zero weights represent the spatial neighborhood.\n",
    "    kernel = ee.Kernel.fixed(9, 9, lists, -4, -4, False)\n",
    "    neighs = i_8_bit.neighborhoodToBands(kernel)\n",
    "    gearys = i_8_bit.subtract(neighs).pow(2).reduce(ee.Reducer.sum()).divide(math.pow(9, 2))\n",
    "    image = image.addBands(entropy.rename(str(band)+'_Entropy')).addBands(contrast.rename(str(band)+'_Contrast')).addBands(gearys.rename(str(band)+'_Gearys'))   \n",
    "    return image\n",
    "\n",
    "def add_neighborhood_bands(image):\n",
    "    bands = ['R', 'G', 'B', 'N']\n",
    "    for band in bands:\n",
    "        image = apply_3bands(image, band)\n",
    "    return image\n",
    "    \n",
    "def add_NDVI(image):\n",
    "    image = image.addBands(image.normalizedDifference(['N','R']).rename('NDVI'))\n",
    "    return image\n",
    "     "
   ]
  },
  {
   "cell_type": "code",
   "execution_count": 9,
   "id": "ac7e2b71",
   "metadata": {},
   "outputs": [],
   "source": [
    "def get_images(param_dict):\n",
    "    source_image_collection = params['source_image_collection']\n",
    "    years = param_dict['years']\n",
    "    counties = param_dict['counties']\n",
    "\n",
    "    image_names = []\n",
    "    images = []\n",
    "\n",
    "    combos = list(itertools.product(years, counties.keys()))\n",
    "    for i in combos:\n",
    "        year = str(i[0])\n",
    "        county = i[1]\n",
    "\n",
    "        image_name = str(i[0])+'_'+i[1]\n",
    "        image_names.append(image_name)\n",
    "\n",
    "        image = ee.ImageCollection(source_image_collection)\\\n",
    "                                .filterDate(f'{year}-01-01', f'{year}-12-31')\\\n",
    "                                .select(['R','G','B','N'])\\\n",
    "                                .median().clip(counties[county])\n",
    "        images.append(image)\n",
    "        images_with_3band = list(map(add_neighborhood_bands, images))\n",
    "        images_with_NDVI = list(map(add_NDVI, images_with_3band))\n",
    "    return dict(zip(image_names, images_with_NDVI))\n",
    "\n",
    "    \n",
    "    "
   ]
  },
  {
   "cell_type": "code",
   "execution_count": 10,
   "id": "837b9dc8",
   "metadata": {},
   "outputs": [
    {
     "data": {
      "text/plain": [
       "{'2010_la_county': <ee.image.Image at 0x7f95c23a1cd0>,\n",
       " '2010_sc_county': <ee.image.Image at 0x7f95c23a1eb0>,\n",
       " '2012_la_county': <ee.image.Image at 0x7f95c23a40d0>,\n",
       " '2012_sc_county': <ee.image.Image at 0x7f95c23a42b0>,\n",
       " '2014_la_county': <ee.image.Image at 0x7f95c23a4490>,\n",
       " '2014_sc_county': <ee.image.Image at 0x7f95c23a4670>,\n",
       " '2016_la_county': <ee.image.Image at 0x7f95c23a4850>,\n",
       " '2016_sc_county': <ee.image.Image at 0x7f95c23a4a30>,\n",
       " '2018_la_county': <ee.image.Image at 0x7f95c23a4c10>,\n",
       " '2018_sc_county': <ee.image.Image at 0x7f95c23a4df0>,\n",
       " '2020_la_county': <ee.image.Image at 0x7f95c23a4fd0>,\n",
       " '2020_sc_county': <ee.image.Image at 0x7f95c23a71f0>}"
      ]
     },
     "execution_count": 10,
     "metadata": {},
     "output_type": "execute_result"
    }
   ],
   "source": [
    "params = {\n",
    "        'source_image_collection' : 'USDA/NAIP/DOQQ',\n",
    "        'years' : [2010,2012,2014,2016,2018,2020],\n",
    "        'counties': {'la_county': la_county, 'sc_county': sc_county}\n",
    "         }\n",
    "\n",
    "images = get_images(params)\n",
    "images"
   ]
  },
  {
   "cell_type": "code",
   "execution_count": 11,
   "id": "4164ee01",
   "metadata": {},
   "outputs": [
    {
     "data": {
      "text/plain": [
       "['R',\n",
       " 'G',\n",
       " 'B',\n",
       " 'N',\n",
       " 'R_Entropy',\n",
       " 'R_Contrast',\n",
       " 'R_Gearys',\n",
       " 'G_Entropy',\n",
       " 'G_Contrast',\n",
       " 'G_Gearys',\n",
       " 'B_Entropy',\n",
       " 'B_Contrast',\n",
       " 'B_Gearys',\n",
       " 'N_Entropy',\n",
       " 'N_Contrast',\n",
       " 'N_Gearys',\n",
       " 'NDVI']"
      ]
     },
     "execution_count": 11,
     "metadata": {},
     "output_type": "execute_result"
    }
   ],
   "source": [
    "#see what bands each image has:\n",
    "images['2020_la_county'].bandNames().getInfo()"
   ]
  },
  {
   "cell_type": "code",
   "execution_count": 12,
   "id": "3a39d10c",
   "metadata": {},
   "outputs": [],
   "source": [
    "#test to see if NAIP plot looks correct\n",
    "Map.addLayer(images['2020_la_county'], {}, 'NAIP Test')"
   ]
  },
  {
   "cell_type": "code",
   "execution_count": 13,
   "id": "932d66ae",
   "metadata": {},
   "outputs": [],
   "source": [
    "poly = [[-118.180413,33.912948],[-118.193457,33.875639],[-118.285876,33.872960],[-118.280523,33.928753]]"
   ]
  },
  {
   "cell_type": "code",
   "execution_count": 14,
   "id": "5e9f3425",
   "metadata": {},
   "outputs": [],
   "source": [
    "p = ee.Geometry.Polygon(poly)"
   ]
  },
  {
   "cell_type": "code",
   "execution_count": 15,
   "id": "e1582f3e",
   "metadata": {},
   "outputs": [],
   "source": [
    "im = images['2020_la_county']"
   ]
  },
  {
   "cell_type": "code",
   "execution_count": 16,
   "id": "97813a35",
   "metadata": {},
   "outputs": [
    {
     "data": {
      "text/plain": [
       "<ee.image.Image at 0x7f95c22650a0>"
      ]
     },
     "execution_count": 16,
     "metadata": {},
     "output_type": "execute_result"
    }
   ],
   "source": [
    "im.clip(p)"
   ]
  },
  {
   "cell_type": "code",
   "execution_count": 17,
   "id": "9619a3af",
   "metadata": {},
   "outputs": [],
   "source": [
    "Map.addLayer(p, {}, 'POLYGON TEST')"
   ]
  },
  {
   "cell_type": "code",
   "execution_count": 18,
   "id": "1edd410e",
   "metadata": {},
   "outputs": [
    {
     "data": {
      "application/vnd.jupyter.widget-view+json": {
       "model_id": "5c75ce4b82eb442a8a68177dc63a901a",
       "version_major": 2,
       "version_minor": 0
      },
      "text/plain": [
       "Map(bottom=754.0, center=[20, 0], controls=(WidgetControl(options=['position', 'transparent_bg'], widget=HBox(…"
      ]
     },
     "metadata": {},
     "output_type": "display_data"
    }
   ],
   "source": [
    "Map"
   ]
  },
  {
   "cell_type": "code",
   "execution_count": 19,
   "id": "5a313630",
   "metadata": {},
   "outputs": [
    {
     "data": {
      "text/plain": [
       "<ee.image.Image at 0x7f95c21fd490>"
      ]
     },
     "execution_count": 19,
     "metadata": {},
     "output_type": "execute_result"
    }
   ],
   "source": [
    "#test to see if NDVI plot looks correct \n",
    "source_image = images['2020_sc_county']\n",
    "\n",
    "test_ndvi = source_image.normalizedDifference(['N', 'R']).rename('2020_NDVI')\n",
    "test_ndvi"
   ]
  },
  {
   "cell_type": "code",
   "execution_count": 20,
   "id": "d99677e5",
   "metadata": {},
   "outputs": [
    {
     "data": {
      "application/vnd.jupyter.widget-view+json": {
       "model_id": "5c75ce4b82eb442a8a68177dc63a901a",
       "version_major": 2,
       "version_minor": 0
      },
      "text/plain": [
       "Map(bottom=754.0, center=[20, 0], controls=(WidgetControl(options=['position', 'transparent_bg'], widget=HBox(…"
      ]
     },
     "metadata": {},
     "output_type": "display_data"
    }
   ],
   "source": [
    "Map.addLayer(test_ndvi,{min : -1, max : 1, 'palette' : ['blue', 'white', 'green']}, 'NDVI Test')\n",
    "Map"
   ]
  },
  {
   "cell_type": "markdown",
   "id": "7fc9eff1",
   "metadata": {},
   "source": [
    "## Load Labeled Data"
   ]
  },
  {
   "cell_type": "code",
   "execution_count": 21,
   "id": "a428a134",
   "metadata": {},
   "outputs": [],
   "source": [
    "PROJECT_DIR = 'projects/california-lawn-detection/assets/'\n",
    "\n",
    "water = ee.FeatureCollection(f\"{PROJECT_DIR}water_torrance_0610\")\n",
    "vegetation_trees = ee.FeatureCollection(f\"{PROJECT_DIR}trees_torrance\")\n",
    "vegetation_grass = ee.FeatureCollection(f\"{PROJECT_DIR}grass_torrance\").limit(400)\n",
    "turf_1 = ee.FeatureCollection(f\"{PROJECT_DIR}turf_torrance1\")\n",
    "turf_2 = ee.FeatureCollection(f\"{PROJECT_DIR}turf_torrance2\")\n",
    "pv = ee.FeatureCollection(f\"{PROJECT_DIR}pv_torrance\")\n",
    "impervious_1 = ee.FeatureCollection(f\"{PROJECT_DIR}impervious_torrance1\").limit(40)\n",
    "impervious_2 = ee.FeatureCollection(f\"{PROJECT_DIR}impervious_torrance2\").limit(40)\n",
    "soil = ee.FeatureCollection(f\"{PROJECT_DIR}soil_torrance\").limit(40)\n",
    "\n",
    "turf = turf_1.merge(turf_2)\n",
    "impervious= impervious_1.merge(impervious_2)\n",
    "\n",
    "LABELED_SET = water.merge(vegetation_trees)\\\n",
    "                   .merge(vegetation_grass)\\\n",
    "                   .merge(turf)\\\n",
    "                   .merge(impervious)\\\n",
    "                   .merge(soil)\n",
    "    \n",
    "Map.addLayer(LABELED_SET, {}, 'labeled_set')"
   ]
  },
  {
   "cell_type": "code",
   "execution_count": 22,
   "id": "c805d014",
   "metadata": {
    "scrolled": false
   },
   "outputs": [
    {
     "data": {
      "application/vnd.jupyter.widget-view+json": {
       "model_id": "5c75ce4b82eb442a8a68177dc63a901a",
       "version_major": 2,
       "version_minor": 0
      },
      "text/plain": [
       "Map(bottom=754.0, center=[20, 0], controls=(WidgetControl(options=['position', 'transparent_bg'], widget=HBox(…"
      ]
     },
     "metadata": {},
     "output_type": "display_data"
    }
   ],
   "source": [
    "Map"
   ]
  },
  {
   "cell_type": "markdown",
   "id": "b0aa85a5",
   "metadata": {},
   "source": [
    "## Build Training Set"
   ]
  },
  {
   "cell_type": "code",
   "execution_count": 23,
   "id": "e103c78c",
   "metadata": {},
   "outputs": [],
   "source": [
    "training_image_params = {\n",
    "        'source_image_collection' : 'USDA/NAIP/DOQQ',\n",
    "        'years' : [2020],\n",
    "        'counties': {'lacounty': la_county}\n",
    "         }\n",
    "\n",
    "TRAINING_IMAGE = get_images(training_image_params)['2020_lacounty']"
   ]
  },
  {
   "cell_type": "code",
   "execution_count": 24,
   "id": "e76924d6",
   "metadata": {},
   "outputs": [],
   "source": [
    "# Overlay the points on the imagery to get training.\n",
    "LABEL = 'landcover'\n",
    "BANDS = ['R', 'G', 'B', 'N', 'NDVI',\n",
    "         'R_Entropy',\n",
    "         'R_Contrast',\n",
    "         'R_Gearys',\n",
    "         'G_Entropy',\n",
    "         'G_Contrast',\n",
    "         'G_Gearys',\n",
    "         'B_Entropy',\n",
    "         'B_Contrast',\n",
    "         'B_Gearys',\n",
    "         'N_Entropy',\n",
    "         'N_Contrast', \n",
    "         'N_Gearys']\n",
    "\n",
    "training_set = TRAINING_IMAGE.select(BANDS).sampleRegions(**{\n",
    "  'collection': LABELED_SET,\n",
    "  'properties': [LABEL],\n",
    "  'scale': 1\n",
    "})"
   ]
  },
  {
   "cell_type": "code",
   "execution_count": 25,
   "id": "01d4a25c",
   "metadata": {},
   "outputs": [
    {
     "data": {
      "text/plain": [
       "True"
      ]
     },
     "execution_count": 25,
     "metadata": {},
     "output_type": "execute_result"
    }
   ],
   "source": [
    "set(BANDS)==set(TRAINING_IMAGE.bandNames().getInfo())"
   ]
  },
  {
   "cell_type": "code",
   "execution_count": 26,
   "id": "853951a7",
   "metadata": {},
   "outputs": [],
   "source": [
    "def training_area(image, training_class):\n",
    "    \n",
    "    area = image.reduceRegion(\n",
    "           reducer = ee.Reducer.count(), \n",
    "           geometry = training_class.geometry(), \n",
    "           scale = 2, \n",
    "           maxPixels = 1e13\n",
    "                )\n",
    "\n",
    "    return(area.getInfo().get('B'))"
   ]
  },
  {
   "cell_type": "code",
   "execution_count": 27,
   "id": "9c20997c",
   "metadata": {},
   "outputs": [],
   "source": [
    "def training_polygons(training_class):\n",
    "    return(training_class.aggregate_count('label').getInfo())"
   ]
  },
  {
   "cell_type": "code",
   "execution_count": 28,
   "id": "326e99da",
   "metadata": {},
   "outputs": [
    {
     "name": "stdout",
     "output_type": "stream",
     "text": [
      "water pixels: 486 , polygons 199\n",
      "vegetation_trees pixels: 17125 , polygons 772\n",
      "vegetation_grass pixels: 23681 , polygons 400\n",
      "turf pixels: 857 , polygons 215\n",
      "pv pixels: 1723 , polygons 344\n",
      "impervious pixels: 20360 , polygons 80\n",
      "soil pixels: 8761 , polygons 40\n"
     ]
    }
   ],
   "source": [
    "# training information\n",
    "training_classes = [water,\n",
    "                         vegetation_trees,\n",
    "                         vegetation_grass,\n",
    "                         turf,\n",
    "                         pv,\n",
    "                         impervious,\n",
    "                         soil]\n",
    "\n",
    "class_names = ['water',\n",
    "                         'vegetation_trees',\n",
    "                         'vegetation_grass',\n",
    "                         'turf',\n",
    "                         'pv',\n",
    "                         'impervious',\n",
    "                         'soil']\n",
    "\n",
    "try:\n",
    "    for i in range(len(training_classes)):\n",
    "        area_i = training_area(TRAINING_IMAGE, training_classes[i])\n",
    "        polygons_i = training_polygons(training_classes[i])\n",
    "        print(class_names[i],\"pixels:\", area_i ,\", polygons\", polygons_i)\n",
    "except:\n",
    "    print('ERROR. POSSIBLE MISMATCH IN CLASSES LIST AND NAMES LIST SIZES')\n",
    "\n"
   ]
  },
  {
   "cell_type": "markdown",
   "id": "39e6345f",
   "metadata": {},
   "source": [
    "## Separate Training Data into Train/Test"
   ]
  },
  {
   "cell_type": "code",
   "execution_count": 29,
   "id": "c763d72d",
   "metadata": {},
   "outputs": [
    {
     "name": "stdout",
     "output_type": "stream",
     "text": [
      "Labeled Set Size in Pixels 284710\n",
      "Training Set Size in Pixels 227871\n",
      "Test Set Size in Pixels 56839\n"
     ]
    }
   ],
   "source": [
    "#Split Training and Test Set Randomly - there might be a better way to do this\n",
    "print(\"Labeled Set Size in Pixels\", training_set.aggregate_count('R').getInfo())\n",
    "sample = training_set.randomColumn()\n",
    "trainingSample = sample.filter('random <= 0.8')\n",
    "validationSample = sample.filter('random > 0.8')\n",
    "print(\"Training Set Size in Pixels\", trainingSample.aggregate_count('R').getInfo())\n",
    "print(\"Test Set Size in Pixels\", validationSample.aggregate_count('R').getInfo())"
   ]
  },
  {
   "cell_type": "markdown",
   "id": "267879b7",
   "metadata": {},
   "source": [
    "## Machine Learning Model"
   ]
  },
  {
   "cell_type": "code",
   "execution_count": 30,
   "id": "b81ca80b",
   "metadata": {},
   "outputs": [
    {
     "data": {
      "text/plain": [
       "<ee.Classifier at 0x7f95c23a7b20>"
      ]
     },
     "execution_count": 30,
     "metadata": {},
     "output_type": "execute_result"
    }
   ],
   "source": [
    "clf = ee.Classifier.smileRandomForest(numberOfTrees = 100).train(trainingSample, LABEL, BANDS)\n",
    "clf"
   ]
  },
  {
   "cell_type": "code",
   "execution_count": 31,
   "id": "a34fee07",
   "metadata": {},
   "outputs": [],
   "source": [
    "training_image_classified = TRAINING_IMAGE.select(BANDS).classify(clf)"
   ]
  },
  {
   "cell_type": "code",
   "execution_count": 32,
   "id": "6d5e3f8b",
   "metadata": {},
   "outputs": [],
   "source": [
    "legend_keys = ['water', 'vegetation_trees', 'vegetation_grass', 'turf','impervious','soil']\n",
    "legend_colors = ['#0B6AEF', '#097407', '#0CE708', '#8C46D2' ,' #A1A8AF','#D47911']\n",
    "\n",
    "Map.addLayer(training_image_classified, {'min': 1, 'max': 7, 'palette': legend_colors}, 'Classification')"
   ]
  },
  {
   "cell_type": "code",
   "execution_count": 33,
   "id": "c59a8bdc",
   "metadata": {
    "scrolled": false
   },
   "outputs": [
    {
     "data": {
      "application/vnd.jupyter.widget-view+json": {
       "model_id": "5c75ce4b82eb442a8a68177dc63a901a",
       "version_major": 2,
       "version_minor": 0
      },
      "text/plain": [
       "Map(bottom=754.0, center=[20, 0], controls=(WidgetControl(options=['position', 'transparent_bg'], widget=HBox(…"
      ]
     },
     "metadata": {},
     "output_type": "display_data"
    }
   ],
   "source": [
    "Map"
   ]
  },
  {
   "cell_type": "markdown",
   "id": "86e8584b",
   "metadata": {},
   "source": [
    "## Evaluation Metrics\n",
    "\n",
    "### Train Accuracy"
   ]
  },
  {
   "cell_type": "code",
   "execution_count": 30,
   "id": "7e0e2f38",
   "metadata": {},
   "outputs": [
    {
     "data": {
      "text/plain": [
       "[[0, 0, 0, 0, 0, 0, 0, 0],\n",
       " [0, 1473, 0, 0, 0, 0, 0, 0],\n",
       " [0, 0, 54688, 21, 0, 0, 0, 0],\n",
       " [0, 0, 147, 75601, 0, 0, 0, 2],\n",
       " [0, 0, 0, 0, 2637, 0, 1, 0],\n",
       " [0, 0, 0, 0, 0, 0, 0, 0],\n",
       " [0, 0, 0, 0, 0, 0, 65382, 0],\n",
       " [0, 0, 0, 0, 0, 0, 1, 27918]]"
      ]
     },
     "execution_count": 30,
     "metadata": {},
     "output_type": "execute_result"
    }
   ],
   "source": [
    "train_accuracy = trainingSample.classify(clf).errorMatrix('landcover', 'classification')\n",
    "train_accuracy.getInfo()"
   ]
  },
  {
   "cell_type": "code",
   "execution_count": 32,
   "id": "e966e425",
   "metadata": {},
   "outputs": [
    {
     "data": {
      "text/plain": [
       "0.9992451869698207"
      ]
     },
     "execution_count": 32,
     "metadata": {},
     "output_type": "execute_result"
    }
   ],
   "source": [
    "train_accuracy.accuracy().getInfo()"
   ]
  },
  {
   "cell_type": "code",
   "execution_count": 31,
   "id": "e36c517d",
   "metadata": {},
   "outputs": [
    {
     "data": {
      "text/plain": [
       "227871"
      ]
     },
     "execution_count": 31,
     "metadata": {},
     "output_type": "execute_result"
    }
   ],
   "source": [
    "np.array(train_accuracy.getInfo()).sum()"
   ]
  },
  {
   "cell_type": "markdown",
   "id": "c743e8a5",
   "metadata": {},
   "source": [
    "### Test Accuracy"
   ]
  },
  {
   "cell_type": "code",
   "execution_count": 33,
   "id": "d01f43ec",
   "metadata": {},
   "outputs": [],
   "source": [
    "test_accuracy = validationSample.classify(clf).errorMatrix('landcover', 'classification')"
   ]
  },
  {
   "cell_type": "code",
   "execution_count": 35,
   "id": "1614cc3f",
   "metadata": {},
   "outputs": [
    {
     "data": {
      "text/plain": [
       "0.9786238322278717"
      ]
     },
     "execution_count": 35,
     "metadata": {},
     "output_type": "execute_result"
    }
   ],
   "source": [
    "test_accuracy.accuracy().getInfo()"
   ]
  },
  {
   "cell_type": "code",
   "execution_count": 34,
   "id": "b646e095",
   "metadata": {},
   "outputs": [
    {
     "data": {
      "text/plain": [
       "56839"
      ]
     },
     "execution_count": 34,
     "metadata": {},
     "output_type": "execute_result"
    }
   ],
   "source": [
    "np.array(test_accuracy.getInfo()).sum()"
   ]
  },
  {
   "cell_type": "markdown",
   "id": "31bc43bd",
   "metadata": {},
   "source": [
    "## Binary Classification and Area Calculation"
   ]
  },
  {
   "cell_type": "code",
   "execution_count": 34,
   "id": "cd95f537",
   "metadata": {},
   "outputs": [],
   "source": [
    "def area_calculation(image, class_number, shape,  pixel_scale = 20):\n",
    "    \n",
    "    areaImage = image.eq(class_number).multiply(ee.Image.pixelArea())\n",
    "\n",
    "    area = areaImage.reduceRegion(\n",
    "        reducer = ee.Reducer.sum(), \n",
    "        geometry = shape, \n",
    "        scale = pixel_scale, \n",
    "        maxPixels = 1e13)\n",
    "\n",
    "    \n",
    "    area_sq_m = area.getInfo().get('classification')\n",
    "    \n",
    "    area_sq_km = area_sq_m / 1e6\n",
    "    \n",
    "    return area_sq_km"
   ]
  },
  {
   "cell_type": "code",
   "execution_count": 63,
   "id": "4a106b65",
   "metadata": {},
   "outputs": [],
   "source": [
    "Zipcode_list = ['90802','90732','90744','90704','91362','91316']"
   ]
  },
  {
   "cell_type": "code",
   "execution_count": 61,
   "id": "ad8e1307",
   "metadata": {},
   "outputs": [
    {
     "name": "stdout",
     "output_type": "stream",
     "text": [
      "90802 completed in 10.099151134490967 seconds.\n",
      "90732 completed in 8.45103120803833 seconds.\n",
      "90744 completed in 8.424124956130981 seconds.\n",
      "90704 completed in 98.49644899368286 seconds.\n",
      "91362 completed in 21.4758038520813 seconds.\n",
      "91316 completed in 49.545308113098145 seconds.\n"
     ]
    }
   ],
   "source": [
    "keys = {'ImageYear','polygon','water_area','vegetation_trees_area', 'vegetation_grass_area', 'turf_area', 'impervious_area','soil_area', 'total_area'}\n",
    "dictionary = {}\n",
    "for i in keys:\n",
    "    dictionary[i] = []\n",
    "\n",
    "imagery = training_image_classified\n",
    "\n",
    "    \n",
    "for i in Zipcode_list:\n",
    "    start = time()\n",
    "    polygon = la_county_income_zipcode.filter(ee.Filter.eq('ZipCode', i))\n",
    "\n",
    "    dictionary['ImageYear'].append(nameof(imagery)) \n",
    "    dictionary['polygon'].append(i)\n",
    "    \n",
    "    water_area = area_calculation(imagery, 1, polygon, 20)\n",
    "    dictionary['water_area'].append(water_area)\n",
    "    \n",
    "    vegetation_trees_area = area_calculation(imagery, 2, polygon, 20)\n",
    "    dictionary['vegetation_trees_area'].append(vegetation_trees_area)\n",
    "    \n",
    "    vegetation_grass_area = area_calculation(imagery, 3, polygon, 20)\n",
    "    dictionary['vegetation_grass_area'].append(vegetation_grass_area)\n",
    "    \n",
    "    turf_area = area_calculation(imagery, 4, polygon, 20)\n",
    "    dictionary['turf_area'].append(turf_area)\n",
    "    \n",
    "    impervious_area = area_calculation(imagery, 6, polygon, 20)\n",
    "    dictionary['impervious_area'].append(impervious_area)\n",
    "    \n",
    "    soil_area = area_calculation(imagery, 7, polygon, 20)\n",
    "    dictionary['soil_area'].append(soil_area)\n",
    "\n",
    "    total_area = water_area + vegetation_trees_area + vegetation_grass_area + turf_area + impervious_area + soil_area\n",
    "    dictionary['total_area'].append(total_area)\n",
    "    end = time()\n",
    "    print(i, f'completed in {end-start} seconds.')"
   ]
  },
  {
   "cell_type": "code",
   "execution_count": 71,
   "id": "dd605011",
   "metadata": {
    "scrolled": true
   },
   "outputs": [
    {
     "data": {
      "text/plain": [
       "<ee.featurecollection.FeatureCollection at 0x7fa15d294820>"
      ]
     },
     "execution_count": 71,
     "metadata": {},
     "output_type": "execute_result"
    }
   ],
   "source": [
    "la_county_income_zipcode.filter(ee.Filter.eq('ZipCode', '90802'))"
   ]
  },
  {
   "cell_type": "code",
   "execution_count": 72,
   "id": "f27406eb",
   "metadata": {},
   "outputs": [
    {
     "data": {
      "text/plain": [
       "<ee.featurecollection.FeatureCollection at 0x7fa15d094430>"
      ]
     },
     "execution_count": 72,
     "metadata": {},
     "output_type": "execute_result"
    }
   ],
   "source": [
    "la_county"
   ]
  },
  {
   "cell_type": "code",
   "execution_count": 62,
   "id": "1b3915c4",
   "metadata": {},
   "outputs": [
    {
     "data": {
      "text/html": [
       "<div>\n",
       "<style scoped>\n",
       "    .dataframe tbody tr th:only-of-type {\n",
       "        vertical-align: middle;\n",
       "    }\n",
       "\n",
       "    .dataframe tbody tr th {\n",
       "        vertical-align: top;\n",
       "    }\n",
       "\n",
       "    .dataframe thead th {\n",
       "        text-align: right;\n",
       "    }\n",
       "</style>\n",
       "<table border=\"1\" class=\"dataframe\">\n",
       "  <thead>\n",
       "    <tr style=\"text-align: right;\">\n",
       "      <th></th>\n",
       "      <th>turf_area</th>\n",
       "      <th>vegetation_trees_area</th>\n",
       "      <th>polygon</th>\n",
       "      <th>water_area</th>\n",
       "      <th>impervious_area</th>\n",
       "      <th>total_area</th>\n",
       "      <th>soil_area</th>\n",
       "      <th>ImageYear</th>\n",
       "      <th>vegetation_grass_area</th>\n",
       "    </tr>\n",
       "  </thead>\n",
       "  <tbody>\n",
       "    <tr>\n",
       "      <th>0</th>\n",
       "      <td>0.164438</td>\n",
       "      <td>0.647374</td>\n",
       "      <td>90802</td>\n",
       "      <td>0.000000</td>\n",
       "      <td>12.688006</td>\n",
       "      <td>14.756617</td>\n",
       "      <td>0.760027</td>\n",
       "      <td>imagery</td>\n",
       "      <td>0.496773</td>\n",
       "    </tr>\n",
       "    <tr>\n",
       "      <th>1</th>\n",
       "      <td>0.159726</td>\n",
       "      <td>2.635687</td>\n",
       "      <td>90732</td>\n",
       "      <td>0.000000</td>\n",
       "      <td>2.946216</td>\n",
       "      <td>8.231549</td>\n",
       "      <td>1.869716</td>\n",
       "      <td>imagery</td>\n",
       "      <td>0.620204</td>\n",
       "    </tr>\n",
       "    <tr>\n",
       "      <th>2</th>\n",
       "      <td>0.190158</td>\n",
       "      <td>2.017314</td>\n",
       "      <td>90744</td>\n",
       "      <td>0.000000</td>\n",
       "      <td>15.849339</td>\n",
       "      <td>22.599279</td>\n",
       "      <td>3.527528</td>\n",
       "      <td>imagery</td>\n",
       "      <td>1.014940</td>\n",
       "    </tr>\n",
       "    <tr>\n",
       "      <th>3</th>\n",
       "      <td>9.193009</td>\n",
       "      <td>66.103575</td>\n",
       "      <td>90704</td>\n",
       "      <td>5.333700</td>\n",
       "      <td>35.695794</td>\n",
       "      <td>341.338173</td>\n",
       "      <td>138.000843</td>\n",
       "      <td>imagery</td>\n",
       "      <td>87.011250</td>\n",
       "    </tr>\n",
       "    <tr>\n",
       "      <th>4</th>\n",
       "      <td>0.023005</td>\n",
       "      <td>0.129558</td>\n",
       "      <td>91362</td>\n",
       "      <td>0.057541</td>\n",
       "      <td>1.716988</td>\n",
       "      <td>2.632023</td>\n",
       "      <td>0.202211</td>\n",
       "      <td>imagery</td>\n",
       "      <td>0.502720</td>\n",
       "    </tr>\n",
       "    <tr>\n",
       "      <th>5</th>\n",
       "      <td>0.763596</td>\n",
       "      <td>4.772787</td>\n",
       "      <td>91316</td>\n",
       "      <td>0.004292</td>\n",
       "      <td>7.122218</td>\n",
       "      <td>14.764068</td>\n",
       "      <td>0.461717</td>\n",
       "      <td>imagery</td>\n",
       "      <td>1.639458</td>\n",
       "    </tr>\n",
       "  </tbody>\n",
       "</table>\n",
       "</div>"
      ],
      "text/plain": [
       "   turf_area  vegetation_trees_area polygon  water_area  impervious_area  \\\n",
       "0   0.164438               0.647374   90802    0.000000        12.688006   \n",
       "1   0.159726               2.635687   90732    0.000000         2.946216   \n",
       "2   0.190158               2.017314   90744    0.000000        15.849339   \n",
       "3   9.193009              66.103575   90704    5.333700        35.695794   \n",
       "4   0.023005               0.129558   91362    0.057541         1.716988   \n",
       "5   0.763596               4.772787   91316    0.004292         7.122218   \n",
       "\n",
       "   total_area   soil_area ImageYear  vegetation_grass_area  \n",
       "0   14.756617    0.760027   imagery               0.496773  \n",
       "1    8.231549    1.869716   imagery               0.620204  \n",
       "2   22.599279    3.527528   imagery               1.014940  \n",
       "3  341.338173  138.000843   imagery              87.011250  \n",
       "4    2.632023    0.202211   imagery               0.502720  \n",
       "5   14.764068    0.461717   imagery               1.639458  "
      ]
     },
     "execution_count": 62,
     "metadata": {},
     "output_type": "execute_result"
    }
   ],
   "source": [
    "pd.DataFrame(dictionary)"
   ]
  },
  {
   "cell_type": "code",
   "execution_count": 45,
   "id": "63562337",
   "metadata": {},
   "outputs": [],
   "source": [
    "# classified = training_image_classified\n",
    "\n",
    "# water_area = area_calculation(classified, 1, la_county, 20)\n",
    "# vegetation_trees_area = area_calculation(classified, 2, la_county, 20)\n",
    "# vegetation_grass_area = area_calculation(classified, 3, la_county, 20)\n",
    "# turf_area = area_calculation(classified, 4, la_county, 20)\n",
    "# impervious_area = area_calculation(classified, 6, la_county, 20)\n",
    "# soil_area = area_calculation(classified, 7, la_county, 20)\n",
    "\n",
    "# total_area = water_area + vegetation_trees_area + vegetation_grass_area + turf_area + impervious_area + soil_area\n",
    "\n",
    "# water_percentage = water_area / total_area\n",
    "# vegetation_trees_percentage = vegetation_trees_area / total_area\n",
    "# vegetation_grass_percentage = vegetation_grass_area / total_area\n",
    "# turf_percentage = turf_area / total_area\n",
    "# impervious_percentage = impervious_area / total_area\n",
    "# soil_percentage = soil_area / total_area"
   ]
  }
 ],
 "metadata": {
  "kernelspec": {
   "display_name": "Python 3",
   "language": "python",
   "name": "python3"
  },
  "language_info": {
   "codemirror_mode": {
    "name": "ipython",
    "version": 3
   },
   "file_extension": ".py",
   "mimetype": "text/x-python",
   "name": "python",
   "nbconvert_exporter": "python",
   "pygments_lexer": "ipython3",
   "version": "3.8.3"
  }
 },
 "nbformat": 4,
 "nbformat_minor": 5
}
