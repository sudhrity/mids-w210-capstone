{
 "cells": [
  {
   "cell_type": "markdown",
   "id": "ae68adb4",
   "metadata": {},
   "source": [
    "# Google Earth Engine Panel Data Creation"
   ]
  },
  {
   "cell_type": "markdown",
   "id": "5e611da9",
   "metadata": {},
   "source": [
    "## Initialize"
   ]
  },
  {
   "cell_type": "code",
   "execution_count": 1,
   "id": "3e29866a",
   "metadata": {},
   "outputs": [],
   "source": [
    "# !pip install geemap\n",
    "#!pip install ee"
   ]
  },
  {
   "cell_type": "code",
   "execution_count": 2,
   "id": "a0028757",
   "metadata": {},
   "outputs": [],
   "source": [
    "# !pip install uszipcode"
   ]
  },
  {
   "cell_type": "code",
   "execution_count": 3,
   "id": "f374eaf6",
   "metadata": {},
   "outputs": [],
   "source": [
    "#GEE specific\n",
    "import ee\n",
    "import geemap\n",
    "import math\n",
    "\n",
    "#plotting and functions\n",
    "import numpy as np\n",
    "import pandas as pd\n",
    "import matplotlib.pyplot as plt\n",
    "import itertools\n",
    "from time import time\n"
   ]
  },
  {
   "cell_type": "code",
   "execution_count": 4,
   "id": "4050fd37",
   "metadata": {},
   "outputs": [],
   "source": [
    "#Initialize Google Earth Engine\n",
    "#ee.Authenticate() #just needed the 1st time\n",
    "ee.Initialize()"
   ]
  },
  {
   "cell_type": "code",
   "execution_count": 5,
   "id": "4219dc52",
   "metadata": {},
   "outputs": [],
   "source": [
    "# Check if geemap is working as intended - plot the leaflet map\n",
    "Map = geemap.Map()"
   ]
  },
  {
   "cell_type": "markdown",
   "id": "bc8c8221",
   "metadata": {},
   "source": [
    "## Load Feature Collection - Shapefiles"
   ]
  },
  {
   "cell_type": "code",
   "execution_count": 6,
   "id": "4b9e062f",
   "metadata": {},
   "outputs": [],
   "source": [
    "#Data loads\n",
    "\n",
    "#loads feature collection data from Google Earth Engine - We can also upload other feature collections\n",
    "counties = ee.FeatureCollection(\"TIGER/2018/Counties\")\n",
    "\n",
    "#filter LA County\n",
    "la_county = counties.filter(ee.Filter.eq('NAME', 'Los Angeles'))\n",
    "sc_county = counties.filter(ee.Filter.eq('NAME', 'Santa Clara'))"
   ]
  },
  {
   "cell_type": "code",
   "execution_count": 7,
   "id": "980becb0",
   "metadata": {},
   "outputs": [
    {
     "data": {
      "text/plain": [
       "(<ee.featurecollection.FeatureCollection at 0x7f7ee69cf640>,\n",
       " <ee.featurecollection.FeatureCollection at 0x7f7ee69cf250>)"
      ]
     },
     "execution_count": 7,
     "metadata": {},
     "output_type": "execute_result"
    }
   ],
   "source": [
    "la_county, sc_county"
   ]
  },
  {
   "cell_type": "code",
   "execution_count": 8,
   "id": "9fb14528",
   "metadata": {},
   "outputs": [],
   "source": [
    "#Income Data\n",
    "la_county_income = ee.FeatureCollection(\"projects/california-lawn-detection/assets/lacountyincome-final\")"
   ]
  },
  {
   "cell_type": "markdown",
   "id": "c82e8eb5",
   "metadata": {},
   "source": [
    "## Load NAIP Imagery"
   ]
  },
  {
   "cell_type": "code",
   "execution_count": 9,
   "id": "ccaec9bc",
   "metadata": {},
   "outputs": [],
   "source": [
    "def apply_3bands(image, band):\n",
    "    i_8_bit = image.select(band).toUint8()\n",
    "    square = ee.Kernel.square(**{'radius': 4})\n",
    "    entropy = i_8_bit.entropy(square)\n",
    "    glcm = i_8_bit.glcmTexture(**{'size': 4})\n",
    "    contrast = glcm.select(str(band)+'_contrast')\n",
    "    \n",
    "    # Create a list of weights for a 9x9 kernel.\n",
    "    list = [1, 1, 1, 1, 1, 1, 1, 1, 1]\n",
    "    # The center of the kernel is zero.\n",
    "    centerList = [1, 1, 1, 1, 0, 1, 1, 1, 1]\n",
    "    # Assemble a list of lists: the 9x9 kernel weights as a 2-D matrix.\n",
    "    lists = [list, list, list, list, centerList, list, list, list, list]\n",
    "    # Create the kernel from the weights.\n",
    "    # Non-zero weights represent the spatial neighborhood.\n",
    "    kernel = ee.Kernel.fixed(9, 9, lists, -4, -4, False)\n",
    "    neighs = i_8_bit.neighborhoodToBands(kernel)\n",
    "    gearys = i_8_bit.subtract(neighs).pow(2).reduce(ee.Reducer.sum()).divide(math.pow(9, 2))\n",
    "    image = image.addBands(entropy.rename(str(band)+'_Entropy')).addBands(contrast.rename(str(band)+'_Contrast')).addBands(gearys.rename(str(band)+'_Gearys'))   \n",
    "    return image\n",
    "\n",
    "def add_neighborhood_bands(image):\n",
    "    bands = ['R', 'G', 'B', 'N']\n",
    "    for band in bands:\n",
    "        image = apply_3bands(image, band)\n",
    "    return image\n",
    "    \n",
    "def add_NDVI(image):\n",
    "    image = image.addBands(image.normalizedDifference(['N','R']).rename('NDVI'))\n",
    "    return image\n",
    "     "
   ]
  },
  {
   "cell_type": "code",
   "execution_count": 10,
   "id": "6f6ffc5a",
   "metadata": {},
   "outputs": [],
   "source": [
    "def get_images(param_dict):\n",
    "    source_image_collection = params['source_image_collection']\n",
    "    years = param_dict['years']\n",
    "    counties = param_dict['counties']\n",
    "\n",
    "    image_names = []\n",
    "    images = []\n",
    "\n",
    "    combos = list(itertools.product(years, counties.keys()))\n",
    "    for i in combos:\n",
    "        year = str(i[0])\n",
    "        county = i[1]\n",
    "\n",
    "        image_name = str(i[0])+'_'+i[1]\n",
    "        image_names.append(image_name)\n",
    "\n",
    "        image = ee.ImageCollection(source_image_collection)\\\n",
    "                                .filterDate(f'{year}-01-01', f'{year}-12-31')\\\n",
    "                                .select(['R','G','B','N'])\\\n",
    "                                .median().clip(counties[county])\n",
    "        images.append(image)\n",
    "        images_with_3band = list(map(add_neighborhood_bands, images))\n",
    "        images_with_NDVI = list(map(add_NDVI, images_with_3band))\n",
    "    return dict(zip(image_names, images_with_NDVI))\n",
    "\n",
    "    \n",
    "    "
   ]
  },
  {
   "cell_type": "markdown",
   "id": "54d7b71d",
   "metadata": {},
   "source": [
    "## Load Labeled Data"
   ]
  },
  {
   "cell_type": "code",
   "execution_count": 16,
   "id": "ffe3f4ca",
   "metadata": {},
   "outputs": [],
   "source": [
    "## Loading feature collections from Google Earth Engine\n",
    "\n",
    "#water = ee.FeatureCollection(\"projects/california-lawn-detection/assets/water_torrance\")\n",
    "water_training = ee.FeatureCollection(\"projects/california-lawn-detection/assets/water_training\")\n",
    "trees_training = ee.FeatureCollection(\"projects/california-lawn-detection/assets/trees_training\")\n",
    "grass_training = ee.FeatureCollection(\"projects/california-lawn-detection/assets/grass_training\")\n",
    "turf_training = ee.FeatureCollection(\"projects/california-lawn-detection/assets/turf_training\")\n",
    "#pv_training = ee.FeatureCollection(\"projects/california-lawn-detection/assets/pv_training\")\n",
    "impervious_training = ee.FeatureCollection(\"projects/california-lawn-detection/assets/impervious_training\").limit(50)\n",
    "soil_training = ee.FeatureCollection(\"projects/california-lawn-detection/assets/soil_training\").limit(50)\n",
    "\n",
    "LABELED_SET = water_training.merge(trees_training).merge(grass_training).merge(turf_training).merge(impervious_training).merge(soil_training)\n",
    "\n"
   ]
  },
  {
   "cell_type": "code",
   "execution_count": 17,
   "id": "9131d938",
   "metadata": {},
   "outputs": [],
   "source": [
    "water_test = ee.FeatureCollection(\"projects/california-lawn-detection/assets/water_test\")\n",
    "vegetation_trees_test = ee.FeatureCollection(\"projects/california-lawn-detection/assets/trees_test\")\n",
    "vegetation_grass_test  = ee.FeatureCollection(\"projects/california-lawn-detection/assets/grass_test\")\n",
    "turf_test  = ee.FeatureCollection(\"projects/california-lawn-detection/assets/turf_test\")\n",
    "#pv_test  = ee.FeatureCollection(\"projects/california-lawn-detection/assets/pv_test\")\n",
    "impervious_test  = ee.FeatureCollection(\"projects/california-lawn-detection/assets/impervious_test\")\n",
    "soil_test  = ee.FeatureCollection(\"projects/california-lawn-detection/assets/soil_test\")\n",
    "\n",
    "TEST_SET = water_test.merge(vegetation_trees_test).merge(vegetation_grass_test).merge(turf_test).merge(impervious_test).merge(soil_test)\n",
    "\n"
   ]
  },
  {
   "cell_type": "markdown",
   "id": "074e81c0",
   "metadata": {},
   "source": [
    "## Build Training Set"
   ]
  },
  {
   "cell_type": "code",
   "execution_count": 18,
   "id": "ed4501b4",
   "metadata": {},
   "outputs": [],
   "source": [
    "training_image_params = {\n",
    "        'source_image_collection' : 'USDA/NAIP/DOQQ',\n",
    "        'years' : [2020],\n",
    "        'counties': {'la_county': la_county}\n",
    "         }\n",
    "\n",
    "TRAINING_IMAGE = get_images(training_image_params)['2020_la_county']"
   ]
  },
  {
   "cell_type": "code",
   "execution_count": 19,
   "id": "7ce39c54",
   "metadata": {},
   "outputs": [],
   "source": [
    "Map.addLayer(TRAINING_IMAGE, {}, 'TRAINING_IMAGE')"
   ]
  },
  {
   "cell_type": "code",
   "execution_count": 20,
   "id": "5e336cbb",
   "metadata": {},
   "outputs": [],
   "source": [
    "# Overlay the points on the imagery to get training.\n",
    "LABEL = 'landcover'\n",
    "BANDS = ['R', \n",
    "         'G', \n",
    "         'B', \n",
    "         'N', \n",
    "         'NDVI',\n",
    "         'R_Entropy',\n",
    "         'R_Contrast',\n",
    "         'R_Gearys',\n",
    "         'G_Entropy',\n",
    "         'G_Contrast',\n",
    "         'G_Gearys',\n",
    "         'B_Entropy',\n",
    "         'B_Contrast',\n",
    "         'B_Gearys',\n",
    "         'N_Entropy', \n",
    "         'N_Contrast', \n",
    "         'N_Gearys']\n",
    "\n",
    "train_data = TRAINING_IMAGE.select(BANDS).sampleRegions(**{\n",
    "  'collection': LABELED_SET,\n",
    "  'properties': [LABEL],\n",
    "  'scale': 1\n",
    "})\n",
    "\n",
    "test_data = TRAINING_IMAGE.select(BANDS).sampleRegions(**{\n",
    "  'collection': TEST_SET,\n",
    "  'properties': [LABEL],\n",
    "  'scale': 1\n",
    "})"
   ]
  },
  {
   "cell_type": "code",
   "execution_count": 21,
   "id": "ff31c79d",
   "metadata": {},
   "outputs": [
    {
     "data": {
      "text/plain": [
       "True"
      ]
     },
     "execution_count": 21,
     "metadata": {},
     "output_type": "execute_result"
    }
   ],
   "source": [
    "set(BANDS)==set(TRAINING_IMAGE.bandNames().getInfo())"
   ]
  },
  {
   "cell_type": "code",
   "execution_count": 22,
   "id": "13f6653b",
   "metadata": {},
   "outputs": [],
   "source": [
    "# print(\"Training Set Size in Pixels\", train_data.aggregate_count('R').getInfo())"
   ]
  },
  {
   "cell_type": "code",
   "execution_count": 23,
   "id": "89e4d5a4",
   "metadata": {},
   "outputs": [],
   "source": [
    "# print(\"Test Set Size in Pixels\", test_data.aggregate_count('R').getInfo())"
   ]
  },
  {
   "cell_type": "markdown",
   "id": "68482e63",
   "metadata": {},
   "source": [
    "## Machine Learning Model"
   ]
  },
  {
   "cell_type": "code",
   "execution_count": 24,
   "id": "faeff825",
   "metadata": {},
   "outputs": [
    {
     "data": {
      "text/plain": [
       "<ee.Classifier at 0x7f7ee6a2bcd0>"
      ]
     },
     "execution_count": 24,
     "metadata": {},
     "output_type": "execute_result"
    }
   ],
   "source": [
    "clf = ee.Classifier.smileRandomForest(numberOfTrees = 200, minLeafPopulation = 5, bagFraction= 0.7)\\\n",
    "                   .train(train_data, LABEL, BANDS)\n",
    "clf"
   ]
  },
  {
   "cell_type": "code",
   "execution_count": 25,
   "id": "93c043df",
   "metadata": {},
   "outputs": [],
   "source": [
    "training_image_classified = TRAINING_IMAGE.select(BANDS)\\\n",
    "                                          .classify(clf)\n"
   ]
  },
  {
   "cell_type": "code",
   "execution_count": 26,
   "id": "9871b67f",
   "metadata": {},
   "outputs": [],
   "source": [
    "legend_keys = ['water', 'vegetation_trees', 'vegetation_grass', 'turf','impervious','soil']\n",
    "legend_colors = ['#0B6AEF', '#097407', '#0CE708', '#8C46D2' ,' #A1A8AF','#D47911']\n",
    "\n",
    "Map.addLayer(training_image_classified, {'min': 1, 'max': 7, 'palette': legend_colors}, 'Classification')"
   ]
  },
  {
   "cell_type": "code",
   "execution_count": 27,
   "id": "cd43dcf1",
   "metadata": {
    "scrolled": true
   },
   "outputs": [
    {
     "data": {
      "text/plain": [
       "['classification']"
      ]
     },
     "execution_count": 27,
     "metadata": {},
     "output_type": "execute_result"
    }
   ],
   "source": [
    "training_image_classified.bandNames().getInfo()"
   ]
  },
  {
   "cell_type": "code",
   "execution_count": 28,
   "id": "9de8d0d5",
   "metadata": {
    "scrolled": false
   },
   "outputs": [
    {
     "data": {
      "application/vnd.jupyter.widget-view+json": {
       "model_id": "55faa1bbb5954a1d8ff76df2756279ba",
       "version_major": 2,
       "version_minor": 0
      },
      "text/plain": [
       "Map(bottom=754.0, center=[20, 0], controls=(WidgetControl(options=['position', 'transparent_bg'], widget=HBox(…"
      ]
     },
     "metadata": {},
     "output_type": "display_data"
    }
   ],
   "source": [
    "Map"
   ]
  },
  {
   "cell_type": "markdown",
   "id": "834d7efd",
   "metadata": {},
   "source": [
    "## Binary Classification and Area Calculation"
   ]
  },
  {
   "cell_type": "code",
   "execution_count": 33,
   "id": "e4657b2d",
   "metadata": {},
   "outputs": [],
   "source": [
    "def area_calculation(image, class_number, shape, pixel_scale = 20):\n",
    "\n",
    "    if type(shape) == str:\n",
    "        shape = la_county_income_zipcode.filter(ee.Filter.eq('ZipCode', shape))\n",
    "\n",
    "    areaImage = image.eq(class_number).multiply(ee.Image.pixelArea())\n",
    "\n",
    "    area = areaImage.reduceRegion(\n",
    "        reducer = ee.Reducer.sum(),\n",
    "        geometry = shape,\n",
    "        scale = pixel_scale,\n",
    "        maxPixels = 1e13)\n",
    "\n",
    "\n",
    "    area_sq_m = area.getInfo().get('classification')\n",
    "\n",
    "    area_sq_km = area_sq_m / 1e6\n",
    "\n",
    "    return area_sq_km"
   ]
  },
  {
   "cell_type": "code",
   "execution_count": 34,
   "id": "2d02b839",
   "metadata": {},
   "outputs": [],
   "source": [
    "def ndvi_calculation(image, class_number, shape, ref_image, pixel_scale=1):\n",
    "    \n",
    "    if type(shape) == str:\n",
    "        shape = la_county_income_zipcode.filter(ee.Filter.eq('ZipCode', shape))\n",
    "        \n",
    "    ndvi = ref_image.normalizedDifference(['N', 'R'])\n",
    "    image_clipped = image.clip(shape)\n",
    "    \n",
    "    NDVI_for_class = ndvi.updateMask(image_clipped.select('classification').eq(class_number))\n",
    "    \n",
    "    reducer = ee.Reducer.mean()\\\n",
    "                        .combine(ee.Reducer.max(),sharedInputs=True)\\\n",
    "                        .combine(ee.Reducer.min(),sharedInputs=True)\n",
    "    \n",
    "    \n",
    "    qty = NDVI_for_class.reduceRegion(\n",
    "        reducer = reducer, \n",
    "        geometry = shape, \n",
    "        scale = pixel_scale, \n",
    "        maxPixels = 1e13)\n",
    "    return qty\n",
    "\n"
   ]
  },
  {
   "cell_type": "markdown",
   "id": "2adb5e30",
   "metadata": {},
   "source": [
    "### Create Panel Data"
   ]
  },
  {
   "cell_type": "code",
   "execution_count": 35,
   "id": "5f18e2f9",
   "metadata": {
    "deletable": false,
    "editable": false
   },
   "outputs": [],
   "source": [
    "#import parcel shapes so we can clip by residential areas\n",
    "\n",
    "la_parcel_shape_filtered = ee.FeatureCollection(\"projects/california-lawn-detection/assets/LA_County_Parcels_Shape\")\\\n",
    "                             .filter(ee.Filter.eq('UseType', 'Residential'))\n",
    "    \n",
    "la_parcel_res = la_parcel_shape_filtered.select(ee.List(['AIN', 'SitusCity','SitusZIP','SitusFullA']), \n",
    "                                                ee.List(['AIN', 'City','ZipCode','FullAddress']))\n"
   ]
  },
  {
   "cell_type": "code",
   "execution_count": 36,
   "id": "7cfac749",
   "metadata": {
    "deletable": false,
    "editable": false
   },
   "outputs": [],
   "source": [
    "#import zipcode shapes so we can clip by zipcodes\n",
    "\n",
    "la_county_income_zipcode2 = ee.FeatureCollection(\"projects/california-lawn-detection/assets/income_zipcode2019\")\n",
    "la_county_income_zipcode = la_county_income_zipcode2.select(ee.List(['zipcode', '2019zipcod','shape_area']), ee.List(['ZipCode', 'Median_Income','Area_sqft']))"
   ]
  },
  {
   "cell_type": "code",
   "execution_count": 50,
   "id": "4a957252",
   "metadata": {},
   "outputs": [],
   "source": [
    "def run_inference(inference_params):\n",
    "    \n",
    "    #unpack inference parameter dictionary\n",
    "    inference_images = get_images(inference_params)\n",
    "    residential = inference_params['residential']\n",
    "    zipcode_list = inference_params['zipcodes']\n",
    "    ndvi = inference_params['ndvi']\n",
    "    zipcode_shape = inference_params['zipcode_shape']\n",
    "    residential_shape = inference_params['residential_shape']\n",
    "    \n",
    "    #add empty lists to data dictionary\n",
    "    dictionary = {}\n",
    "    \n",
    "    for i in base_keys:\n",
    "        dictionary[i] = []\n",
    "    if ndvi:\n",
    "        for i in ndvi_keys:\n",
    "            dictionary[i] = []\n",
    "    \n",
    "    base_keys = ['year','polygon','water_area','vegetation_trees_area', \n",
    "        'vegetation_grass_area', 'turf_area', 'impervious_area',\n",
    "        'soil_area', 'total_area']\n",
    "    \n",
    "    ndvi_keys = ['tree_ndvi_mean', 'tree_ndvi_max','tree_ndvi_min',\n",
    "       'grass_ndvi_mean', 'grass_ndvi_max','grass_ndvi_min']\n",
    "    \n",
    "    #warning message about selected options\n",
    "    if inference_params['residential']:\n",
    "        print('CLIPPING AREA TO INCLUDE RESIDENTIAL AREAS ONLY')\n",
    "    if inference_params['ndvi']:\n",
    "        print('RUNNING INFERENCE INCLUDING NDVI CALCULATIONS')\n",
    "    if inference_params['residential'] or inference_params['ndvi']:\n",
    "        print('---------------------------------------------------------------------')\n",
    "    \n",
    "\n",
    "    #iterate through data, append to data dictionary \n",
    "    for i in zipcode_list:\n",
    "        for j in list(inference_images.items()):\n",
    "            image_name = j[0]\n",
    "            im = j[1]\n",
    "            if residential:\n",
    "                im = im.clip(residential_shape)\n",
    "            imagery = im.select(BANDS).classify(clf)\n",
    "            name = j[0]\n",
    "\n",
    "            start = time()\n",
    "            polygon = zipcode_shape.filter(ee.Filter.eq('ZipCode', i))\n",
    "\n",
    "            dictionary['year'].append(image_name[:4]) \n",
    "            dictionary['polygon'].append(i)\n",
    "\n",
    "            water_area = area_calculation(imagery, 0, polygon, 20)\n",
    "            dictionary['water_area'].append(water_area)\n",
    "\n",
    "            vegetation_trees_area = area_calculation(imagery, 1, polygon, 20)\n",
    "            dictionary['vegetation_trees_area'].append(vegetation_trees_area)\n",
    "\n",
    "            vegetation_grass_area = area_calculation(imagery, 2, polygon, 20)\n",
    "            dictionary['vegetation_grass_area'].append(vegetation_grass_area)\n",
    "\n",
    "            turf_area = area_calculation(imagery, 3, polygon, 20)\n",
    "            dictionary['turf_area'].append(turf_area)\n",
    "\n",
    "            impervious_area = area_calculation(imagery, 4, polygon, 20)\n",
    "            dictionary['impervious_area'].append(impervious_area)\n",
    "\n",
    "            soil_area = area_calculation(imagery, 5, polygon, 20)\n",
    "            dictionary['soil_area'].append(soil_area)\n",
    "\n",
    "            total_area = water_area + vegetation_trees_area + vegetation_grass_area + turf_area + impervious_area + soil_area\n",
    "            dictionary['total_area'].append(total_area)\n",
    "            \n",
    "            if ndvi:\n",
    "                tree_ndvi_mean, tree_ndvi_max, tree_ndvi_min = ndvi_calculation(imagery, 1, polygon, ref_image = im).getInfo().values()\n",
    "                dictionary['tree_ndvi_mean'].append(tree_ndvi_mean)\n",
    "                dictionary['tree_ndvi_max'].append(tree_ndvi_max)\n",
    "                dictionary['tree_ndvi_min'].append(tree_ndvi_min)\n",
    "\n",
    "                grass_ndvi_mean, grass_ndvi_max, grass_ndvi_min = ndvi_calculation(imagery, 2, polygon, ref_image = im).getInfo().values()\n",
    "                dictionary['grass_ndvi_mean'].append(grass_ndvi_mean)\n",
    "                dictionary['grass_ndvi_max'].append(grass_ndvi_max)\n",
    "                dictionary['grass_ndvi_min'].append(grass_ndvi_min)\n",
    "\n",
    "\n",
    "\n",
    "            end = time()\n",
    "            print(f'Zip Code: {i}, Year: {j[0][:4]} ::: completed in {end-start} seconds.')\n",
    "            \n",
    "    return dictionary\n",
    "              \n",
    "              "
   ]
  },
  {
   "cell_type": "code",
   "execution_count": 51,
   "id": "dfdc1909",
   "metadata": {},
   "outputs": [],
   "source": [
    "inference_params = {\n",
    "        'source_image_collection' : 'USDA/NAIP/DOQQ',\n",
    "        'years' : [2018,2020],\n",
    "        'zipcodes': ['90802','90732'],\n",
    "        'ndvi': False,\n",
    "        'residential': False,\n",
    "        'residential_shape': la_parcel_res, #don't adjust this line\n",
    "        'counties': {'la_county': la_county}, #don't adjust this line\n",
    "        'zipcode_shape' : la_county_income_zipcode #don't adjust\n",
    "         }"
   ]
  },
  {
   "cell_type": "code",
   "execution_count": 52,
   "id": "5595d8ab",
   "metadata": {},
   "outputs": [
    {
     "name": "stdout",
     "output_type": "stream",
     "text": [
      "Zip Code: 90802, Year: 2018 ::: completed in 28.381202936172485 seconds.\n",
      "Zip Code: 90802, Year: 2020 ::: completed in 49.04420208930969 seconds.\n",
      "Zip Code: 90732, Year: 2018 ::: completed in 36.01553392410278 seconds.\n",
      "Zip Code: 90732, Year: 2020 ::: completed in 38.734976053237915 seconds.\n"
     ]
    }
   ],
   "source": [
    "dictionary = run_inference(inference_params)"
   ]
  },
  {
   "cell_type": "code",
   "execution_count": 53,
   "id": "a486ed28",
   "metadata": {},
   "outputs": [
    {
     "data": {
      "text/html": [
       "<div>\n",
       "<style scoped>\n",
       "    .dataframe tbody tr th:only-of-type {\n",
       "        vertical-align: middle;\n",
       "    }\n",
       "\n",
       "    .dataframe tbody tr th {\n",
       "        vertical-align: top;\n",
       "    }\n",
       "\n",
       "    .dataframe thead th {\n",
       "        text-align: right;\n",
       "    }\n",
       "</style>\n",
       "<table border=\"1\" class=\"dataframe\">\n",
       "  <thead>\n",
       "    <tr style=\"text-align: right;\">\n",
       "      <th></th>\n",
       "      <th>year</th>\n",
       "      <th>polygon</th>\n",
       "      <th>water_area</th>\n",
       "      <th>vegetation_trees_area</th>\n",
       "      <th>vegetation_grass_area</th>\n",
       "      <th>turf_area</th>\n",
       "      <th>impervious_area</th>\n",
       "      <th>soil_area</th>\n",
       "      <th>total_area</th>\n",
       "    </tr>\n",
       "  </thead>\n",
       "  <tbody>\n",
       "    <tr>\n",
       "      <th>0</th>\n",
       "      <td>2018</td>\n",
       "      <td>90802</td>\n",
       "      <td>0.400216</td>\n",
       "      <td>0.147730</td>\n",
       "      <td>0.153992</td>\n",
       "      <td>0.226933</td>\n",
       "      <td>13.764950</td>\n",
       "      <td>0.062795</td>\n",
       "      <td>14.756617</td>\n",
       "    </tr>\n",
       "    <tr>\n",
       "      <th>1</th>\n",
       "      <td>2020</td>\n",
       "      <td>90802</td>\n",
       "      <td>0.000000</td>\n",
       "      <td>0.303413</td>\n",
       "      <td>0.291956</td>\n",
       "      <td>1.127961</td>\n",
       "      <td>9.826548</td>\n",
       "      <td>3.206738</td>\n",
       "      <td>14.756617</td>\n",
       "    </tr>\n",
       "    <tr>\n",
       "      <th>2</th>\n",
       "      <td>2018</td>\n",
       "      <td>90732</td>\n",
       "      <td>0.029005</td>\n",
       "      <td>0.685563</td>\n",
       "      <td>0.771261</td>\n",
       "      <td>0.434912</td>\n",
       "      <td>4.708557</td>\n",
       "      <td>1.602252</td>\n",
       "      <td>8.231549</td>\n",
       "    </tr>\n",
       "    <tr>\n",
       "      <th>3</th>\n",
       "      <td>2020</td>\n",
       "      <td>90732</td>\n",
       "      <td>0.000000</td>\n",
       "      <td>1.393330</td>\n",
       "      <td>0.464795</td>\n",
       "      <td>0.486332</td>\n",
       "      <td>1.390442</td>\n",
       "      <td>4.496650</td>\n",
       "      <td>8.231549</td>\n",
       "    </tr>\n",
       "  </tbody>\n",
       "</table>\n",
       "</div>"
      ],
      "text/plain": [
       "   year polygon  water_area  vegetation_trees_area  vegetation_grass_area  \\\n",
       "0  2018   90802    0.400216               0.147730               0.153992   \n",
       "1  2020   90802    0.000000               0.303413               0.291956   \n",
       "2  2018   90732    0.029005               0.685563               0.771261   \n",
       "3  2020   90732    0.000000               1.393330               0.464795   \n",
       "\n",
       "   turf_area  impervious_area  soil_area  total_area  \n",
       "0   0.226933        13.764950   0.062795   14.756617  \n",
       "1   1.127961         9.826548   3.206738   14.756617  \n",
       "2   0.434912         4.708557   1.602252    8.231549  \n",
       "3   0.486332         1.390442   4.496650    8.231549  "
      ]
     },
     "execution_count": 53,
     "metadata": {},
     "output_type": "execute_result"
    }
   ],
   "source": [
    "df = pd.DataFrame(dictionary)\n",
    "df"
   ]
  }
 ],
 "metadata": {
  "kernelspec": {
   "display_name": "Python 3",
   "language": "python",
   "name": "python3"
  },
  "language_info": {
   "codemirror_mode": {
    "name": "ipython",
    "version": 3
   },
   "file_extension": ".py",
   "mimetype": "text/x-python",
   "name": "python",
   "nbconvert_exporter": "python",
   "pygments_lexer": "ipython3",
   "version": "3.8.3"
  }
 },
 "nbformat": 4,
 "nbformat_minor": 5
}
