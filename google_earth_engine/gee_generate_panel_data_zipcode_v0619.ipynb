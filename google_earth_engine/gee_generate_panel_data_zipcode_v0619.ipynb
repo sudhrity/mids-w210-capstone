{
 "cells": [
  {
   "cell_type": "markdown",
   "id": "273015d0",
   "metadata": {},
   "source": [
    "# Google Earth Engine Panel Data Creation"
   ]
  },
  {
   "cell_type": "markdown",
   "id": "91746692",
   "metadata": {},
   "source": [
    "## Initialize"
   ]
  },
  {
   "cell_type": "code",
   "execution_count": 1,
   "id": "7e627ea2",
   "metadata": {},
   "outputs": [],
   "source": [
    "# !pip install geemap\n",
    "# !pip install ee"
   ]
  },
  {
   "cell_type": "code",
   "execution_count": 1,
   "id": "1da56e30",
   "metadata": {},
   "outputs": [
    {
     "ename": "ModuleNotFoundError",
     "evalue": "No module named 'StringIO'",
     "output_type": "error",
     "traceback": [
      "\u001b[0;31m---------------------------------------------------------------------------\u001b[0m",
      "\u001b[0;31mModuleNotFoundError\u001b[0m                       Traceback (most recent call last)",
      "\u001b[0;32m<ipython-input-1-166a6f3a8297>\u001b[0m in \u001b[0;36m<module>\u001b[0;34m\u001b[0m\n\u001b[1;32m      1\u001b[0m \u001b[0;31m#GEE specific\u001b[0m\u001b[0;34m\u001b[0m\u001b[0;34m\u001b[0m\u001b[0;34m\u001b[0m\u001b[0m\n\u001b[0;32m----> 2\u001b[0;31m \u001b[0;32mimport\u001b[0m \u001b[0mee\u001b[0m\u001b[0;34m\u001b[0m\u001b[0;34m\u001b[0m\u001b[0m\n\u001b[0m\u001b[1;32m      3\u001b[0m \u001b[0;32mimport\u001b[0m \u001b[0mgeemap\u001b[0m\u001b[0;34m\u001b[0m\u001b[0;34m\u001b[0m\u001b[0m\n\u001b[1;32m      4\u001b[0m \u001b[0;32mimport\u001b[0m \u001b[0mmath\u001b[0m\u001b[0;34m\u001b[0m\u001b[0;34m\u001b[0m\u001b[0m\n\u001b[1;32m      5\u001b[0m \u001b[0;34m\u001b[0m\u001b[0m\n",
      "\u001b[0;32m/opt/conda/lib/python3.8/site-packages/ee/__init__.py\u001b[0m in \u001b[0;36m<module>\u001b[0;34m\u001b[0m\n\u001b[0;32m----> 1\u001b[0;31m \u001b[0;32mfrom\u001b[0m \u001b[0;34m.\u001b[0m\u001b[0mmain\u001b[0m \u001b[0;32mimport\u001b[0m \u001b[0mmain\u001b[0m\u001b[0;34m\u001b[0m\u001b[0;34m\u001b[0m\u001b[0m\n\u001b[0m",
      "\u001b[0;32m/opt/conda/lib/python3.8/site-packages/ee/main.py\u001b[0m in \u001b[0;36m<module>\u001b[0;34m\u001b[0m\n\u001b[1;32m      8\u001b[0m \u001b[0;32mimport\u001b[0m \u001b[0mstat\u001b[0m\u001b[0;34m\u001b[0m\u001b[0;34m\u001b[0m\u001b[0m\n\u001b[1;32m      9\u001b[0m \u001b[0;32mimport\u001b[0m \u001b[0mplistlib\u001b[0m\u001b[0;34m\u001b[0m\u001b[0;34m\u001b[0m\u001b[0m\n\u001b[0;32m---> 10\u001b[0;31m \u001b[0;32mimport\u001b[0m \u001b[0mStringIO\u001b[0m\u001b[0;34m\u001b[0m\u001b[0;34m\u001b[0m\u001b[0m\n\u001b[0m\u001b[1;32m     11\u001b[0m \u001b[0;32mimport\u001b[0m \u001b[0mplatform\u001b[0m\u001b[0;34m\u001b[0m\u001b[0;34m\u001b[0m\u001b[0m\n\u001b[1;32m     12\u001b[0m \u001b[0;32mimport\u001b[0m \u001b[0mtime\u001b[0m\u001b[0;34m\u001b[0m\u001b[0;34m\u001b[0m\u001b[0m\n",
      "\u001b[0;31mModuleNotFoundError\u001b[0m: No module named 'StringIO'"
     ]
    }
   ],
   "source": [
    "#GEE specific\n",
    "import ee\n",
    "import geemap\n",
    "import math\n",
    "\n",
    "#plotting and functions\n",
    "import numpy as np\n",
    "import pandas as pd\n",
    "import matplotlib.pyplot as plt\n",
    "import itertools\n",
    "from time import time"
   ]
  },
  {
   "cell_type": "code",
   "execution_count": 2,
   "id": "f915e006",
   "metadata": {},
   "outputs": [
    {
     "ename": "NameError",
     "evalue": "name 'ee' is not defined",
     "output_type": "error",
     "traceback": [
      "\u001b[0;31m---------------------------------------------------------------------------\u001b[0m",
      "\u001b[0;31mNameError\u001b[0m                                 Traceback (most recent call last)",
      "\u001b[0;32m<ipython-input-2-2439567a33f5>\u001b[0m in \u001b[0;36m<module>\u001b[0;34m\u001b[0m\n\u001b[1;32m      1\u001b[0m \u001b[0;31m#Initialize Google Earth Engine\u001b[0m\u001b[0;34m\u001b[0m\u001b[0;34m\u001b[0m\u001b[0;34m\u001b[0m\u001b[0m\n\u001b[0;32m----> 2\u001b[0;31m \u001b[0mee\u001b[0m\u001b[0;34m.\u001b[0m\u001b[0mAuthenticate\u001b[0m\u001b[0;34m(\u001b[0m\u001b[0;34m)\u001b[0m \u001b[0;31m#just needed the 1st time\u001b[0m\u001b[0;34m\u001b[0m\u001b[0;34m\u001b[0m\u001b[0m\n\u001b[0m\u001b[1;32m      3\u001b[0m \u001b[0mee\u001b[0m\u001b[0;34m.\u001b[0m\u001b[0mInitialize\u001b[0m\u001b[0;34m(\u001b[0m\u001b[0;34m)\u001b[0m\u001b[0;34m\u001b[0m\u001b[0;34m\u001b[0m\u001b[0m\n",
      "\u001b[0;31mNameError\u001b[0m: name 'ee' is not defined"
     ]
    }
   ],
   "source": [
    "#Initialize Google Earth Engine\n",
    "ee.Authenticate() #just needed the 1st time\n",
    "ee.Initialize()"
   ]
  },
  {
   "cell_type": "code",
   "execution_count": 4,
   "id": "b689cd0c",
   "metadata": {},
   "outputs": [],
   "source": [
    "# Check if geemap is working as intended - plot the leaflet map\n",
    "Map = geemap.Map()"
   ]
  },
  {
   "cell_type": "markdown",
   "id": "b160d162",
   "metadata": {},
   "source": [
    "## Load Feature Collection - Shapefiles"
   ]
  },
  {
   "cell_type": "code",
   "execution_count": 5,
   "id": "68d5726c",
   "metadata": {},
   "outputs": [],
   "source": [
    "#Data loads\n",
    "\n",
    "#loads feature collection data from Google Earth Engine - We can also upload other feature collections\n",
    "counties = ee.FeatureCollection(\"TIGER/2018/Counties\")\n",
    "\n",
    "#filter LA County\n",
    "la_county = counties.filter(ee.Filter.eq('NAME', 'Los Angeles'))\n",
    "sc_county = counties.filter(ee.Filter.eq('NAME', 'Santa Clara'))"
   ]
  },
  {
   "cell_type": "code",
   "execution_count": 6,
   "id": "f81581ba",
   "metadata": {},
   "outputs": [
    {
     "data": {
      "text/plain": [
       "(<ee.featurecollection.FeatureCollection at 0x7f8afc6c4970>,\n",
       " <ee.featurecollection.FeatureCollection at 0x7f8afc7c0700>)"
      ]
     },
     "execution_count": 6,
     "metadata": {},
     "output_type": "execute_result"
    }
   ],
   "source": [
    "la_county, sc_county"
   ]
  },
  {
   "cell_type": "code",
   "execution_count": 7,
   "id": "e91daddc",
   "metadata": {},
   "outputs": [],
   "source": [
    "#Income Data\n",
    "la_county_income = ee.FeatureCollection(\"projects/california-lawn-detection/assets/lacountyincome-final\")"
   ]
  },
  {
   "cell_type": "markdown",
   "id": "fe7e944d",
   "metadata": {},
   "source": [
    "## Load NAIP Imagery"
   ]
  },
  {
   "cell_type": "code",
   "execution_count": 8,
   "id": "dd1cd474",
   "metadata": {},
   "outputs": [],
   "source": [
    "def apply_3bands(image, band):\n",
    "    i_8_bit = image.select(band).toUint8()\n",
    "    square = ee.Kernel.square(**{'radius': 4})\n",
    "    entropy = i_8_bit.entropy(square)\n",
    "    glcm = i_8_bit.glcmTexture(**{'size': 4})\n",
    "    contrast = glcm.select(str(band)+'_contrast')\n",
    "    \n",
    "    # Create a list of weights for a 9x9 kernel.\n",
    "    list = [1, 1, 1, 1, 1, 1, 1, 1, 1]\n",
    "    # The center of the kernel is zero.\n",
    "    centerList = [1, 1, 1, 1, 0, 1, 1, 1, 1]\n",
    "    # Assemble a list of lists: the 9x9 kernel weights as a 2-D matrix.\n",
    "    lists = [list, list, list, list, centerList, list, list, list, list]\n",
    "    # Create the kernel from the weights.\n",
    "    # Non-zero weights represent the spatial neighborhood.\n",
    "    kernel = ee.Kernel.fixed(9, 9, lists, -4, -4, False)\n",
    "    neighs = i_8_bit.neighborhoodToBands(kernel)\n",
    "    gearys = i_8_bit.subtract(neighs).pow(2).reduce(ee.Reducer.sum()).divide(math.pow(9, 2))\n",
    "    image = image.addBands(entropy.rename(str(band)+'_Entropy')).addBands(contrast.rename(str(band)+'_Contrast')).addBands(gearys.rename(str(band)+'_Gearys'))   \n",
    "    return image\n",
    "\n",
    "def add_neighborhood_bands(image):\n",
    "    bands = ['R', 'G', 'B', 'N']\n",
    "    for band in bands:\n",
    "        image = apply_3bands(image, band)\n",
    "    return image\n",
    "    \n",
    "def add_NDVI(image):\n",
    "    image = image.addBands(image.normalizedDifference(['N','R']).rename('NDVI'))\n",
    "    return image\n",
    "     "
   ]
  },
  {
   "cell_type": "code",
   "execution_count": 9,
   "id": "d504a124",
   "metadata": {},
   "outputs": [],
   "source": [
    "def get_images(param_dict):\n",
    "    source_image_collection = params['source_image_collection']\n",
    "    years = param_dict['years']\n",
    "    counties = param_dict['counties']\n",
    "\n",
    "    image_names = []\n",
    "    images = []\n",
    "\n",
    "    combos = list(itertools.product(years, counties.keys()))\n",
    "    for i in combos:\n",
    "        year = str(i[0])\n",
    "        county = i[1]\n",
    "\n",
    "        image_name = str(i[0])+'_'+i[1]\n",
    "        image_names.append(image_name)\n",
    "\n",
    "        image = ee.ImageCollection(source_image_collection)\\\n",
    "                                .filterDate(f'{year}-01-01', f'{year}-12-31')\\\n",
    "                                .select(['R','G','B','N'])\\\n",
    "                                .median().clip(counties[county])\n",
    "        images.append(image)\n",
    "        images_with_3band = list(map(add_neighborhood_bands, images))\n",
    "        images_with_NDVI = list(map(add_NDVI, images_with_3band))\n",
    "    return dict(zip(image_names, images_with_NDVI))\n",
    "\n",
    "    \n",
    "    "
   ]
  },
  {
   "cell_type": "code",
   "execution_count": 10,
   "id": "a0b9b895",
   "metadata": {},
   "outputs": [
    {
     "data": {
      "text/plain": [
       "{'2010_la_county': <ee.image.Image at 0x7f8afca064f0>,\n",
       " '2010_sc_county': <ee.image.Image at 0x7f8afca066d0>,\n",
       " '2012_la_county': <ee.image.Image at 0x7f8afca068b0>,\n",
       " '2012_sc_county': <ee.image.Image at 0x7f8afca06a90>,\n",
       " '2014_la_county': <ee.image.Image at 0x7f8afca06c70>,\n",
       " '2014_sc_county': <ee.image.Image at 0x7f8afca06e50>,\n",
       " '2016_la_county': <ee.image.Image at 0x7f8afca0b070>,\n",
       " '2016_sc_county': <ee.image.Image at 0x7f8afca0b250>,\n",
       " '2018_la_county': <ee.image.Image at 0x7f8afca0b430>,\n",
       " '2018_sc_county': <ee.image.Image at 0x7f8afca0b610>,\n",
       " '2020_la_county': <ee.image.Image at 0x7f8afca0b7f0>,\n",
       " '2020_sc_county': <ee.image.Image at 0x7f8afca0b9d0>}"
      ]
     },
     "execution_count": 10,
     "metadata": {},
     "output_type": "execute_result"
    }
   ],
   "source": [
    "params = {\n",
    "        'source_image_collection' : 'USDA/NAIP/DOQQ',\n",
    "        'years' : [2010,2012,2014,2016,2018,2020],\n",
    "        'counties': {'la_county': la_county, 'sc_county': sc_county}\n",
    "         }\n",
    "\n",
    "images = get_images(params)\n",
    "images"
   ]
  },
  {
   "cell_type": "code",
   "execution_count": 11,
   "id": "a8ba3182",
   "metadata": {},
   "outputs": [
    {
     "data": {
      "text/plain": [
       "['R',\n",
       " 'G',\n",
       " 'B',\n",
       " 'N',\n",
       " 'R_Entropy',\n",
       " 'R_Contrast',\n",
       " 'R_Gearys',\n",
       " 'G_Entropy',\n",
       " 'G_Contrast',\n",
       " 'G_Gearys',\n",
       " 'B_Entropy',\n",
       " 'B_Contrast',\n",
       " 'B_Gearys',\n",
       " 'N_Entropy',\n",
       " 'N_Contrast',\n",
       " 'N_Gearys',\n",
       " 'NDVI']"
      ]
     },
     "execution_count": 11,
     "metadata": {},
     "output_type": "execute_result"
    }
   ],
   "source": [
    "#see what bands each image has:\n",
    "images['2020_la_county'].bandNames().getInfo()"
   ]
  },
  {
   "cell_type": "code",
   "execution_count": 12,
   "id": "a074560d",
   "metadata": {},
   "outputs": [],
   "source": [
    "#test to see if NAIP plot looks correct\n",
    "Map.addLayer(images['2020_la_county'], {}, 'NAIP Test')"
   ]
  },
  {
   "cell_type": "code",
   "execution_count": 13,
   "id": "ab930037",
   "metadata": {},
   "outputs": [
    {
     "data": {
      "text/plain": [
       "<ee.image.Image at 0x7f8afc9a1430>"
      ]
     },
     "execution_count": 13,
     "metadata": {},
     "output_type": "execute_result"
    }
   ],
   "source": [
    "#test to see if NDVI plot looks correct (define a different location in santa clara county just for visibility)\n",
    "source_image = images['2020_sc_county']\n",
    "\n",
    "test_ndvi = source_image.normalizedDifference(['N', 'R']).rename('2020_NDVI')\n",
    "test_ndvi"
   ]
  },
  {
   "cell_type": "code",
   "execution_count": 14,
   "id": "493dfee4",
   "metadata": {},
   "outputs": [
    {
     "data": {
      "application/vnd.jupyter.widget-view+json": {
       "model_id": "63d41dd61aec4e79ac401ee3e77cd4c5",
       "version_major": 2,
       "version_minor": 0
      },
      "text/plain": [
       "Map(center=[20, 0], controls=(WidgetControl(options=['position', 'transparent_bg'], widget=HBox(children=(Togg…"
      ]
     },
     "metadata": {},
     "output_type": "display_data"
    }
   ],
   "source": [
    "Map.addLayer(test_ndvi,{min : -1, max : 1, 'palette' : ['blue', 'white', 'green']}, 'NDVI Test')\n",
    "Map"
   ]
  },
  {
   "cell_type": "markdown",
   "id": "f2558542",
   "metadata": {},
   "source": [
    "## Load Labeled Data"
   ]
  },
  {
   "cell_type": "code",
   "execution_count": 15,
   "id": "0d33676e",
   "metadata": {},
   "outputs": [],
   "source": [
    "PROJECT_DIR = 'projects/california-lawn-detection/assets/'\n",
    "\n",
    "water = ee.FeatureCollection(f\"{PROJECT_DIR}water_torrance_0610\")\n",
    "vegetation_trees = ee.FeatureCollection(f\"{PROJECT_DIR}trees_torrance\")\n",
    "vegetation_grass = ee.FeatureCollection(f\"{PROJECT_DIR}grass_torrance\").limit(400)\n",
    "turf_1 = ee.FeatureCollection(f\"{PROJECT_DIR}turf_torrance1\")\n",
    "turf_2 = ee.FeatureCollection(f\"{PROJECT_DIR}turf_torrance2\")\n",
    "pv = ee.FeatureCollection(f\"{PROJECT_DIR}pv_torrance\")\n",
    "impervious_1 = ee.FeatureCollection(f\"{PROJECT_DIR}impervious_torrance1\").limit(40)\n",
    "impervious_2 = ee.FeatureCollection(f\"{PROJECT_DIR}impervious_torrance2\").limit(40)\n",
    "soil = ee.FeatureCollection(f\"{PROJECT_DIR}soil_torrance\").limit(40)\n",
    "\n",
    "turf = turf_1.merge(turf_2)\n",
    "impervious= impervious_1.merge(impervious_2)\n",
    "\n",
    "LABELED_SET = water.merge(vegetation_trees)\\\n",
    "                   .merge(vegetation_grass)\\\n",
    "                   .merge(turf)\\\n",
    "                   .merge(impervious)\\\n",
    "                   .merge(soil)\n",
    "    \n",
    "Map.addLayer(LABELED_SET, {}, 'labeled_set')"
   ]
  },
  {
   "cell_type": "code",
   "execution_count": 16,
   "id": "e01a8608",
   "metadata": {
    "scrolled": false
   },
   "outputs": [
    {
     "data": {
      "application/vnd.jupyter.widget-view+json": {
       "model_id": "63d41dd61aec4e79ac401ee3e77cd4c5",
       "version_major": 2,
       "version_minor": 0
      },
      "text/plain": [
       "Map(center=[20, 0], controls=(WidgetControl(options=['position', 'transparent_bg'], widget=HBox(children=(Togg…"
      ]
     },
     "metadata": {},
     "output_type": "display_data"
    }
   ],
   "source": [
    "Map"
   ]
  },
  {
   "cell_type": "markdown",
   "id": "233f77a7",
   "metadata": {},
   "source": [
    "## Build Training Set"
   ]
  },
  {
   "cell_type": "code",
   "execution_count": 17,
   "id": "528cdd27",
   "metadata": {},
   "outputs": [],
   "source": [
    "training_image_params = {\n",
    "        'source_image_collection' : 'USDA/NAIP/DOQQ',\n",
    "        'years' : [2020],\n",
    "        'counties': {'lacounty': la_county}\n",
    "         }\n",
    "\n",
    "TRAINING_IMAGE = get_images(training_image_params)['2020_lacounty']"
   ]
  },
  {
   "cell_type": "code",
   "execution_count": 18,
   "id": "6cb91653",
   "metadata": {},
   "outputs": [],
   "source": [
    "# Overlay the points on the imagery to get training.\n",
    "LABEL = 'landcover'\n",
    "BANDS = ['R', 'G', 'B', 'N', 'NDVI',\n",
    "         'R_Entropy',\n",
    "         'R_Contrast',\n",
    "         'R_Gearys',\n",
    "         'G_Entropy',\n",
    "         'G_Contrast',\n",
    "         'G_Gearys',\n",
    "         'B_Entropy',\n",
    "         'B_Contrast',\n",
    "         'B_Gearys',\n",
    "         'N_Entropy',\n",
    "         'N_Contrast', \n",
    "         'N_Gearys']\n",
    "\n",
    "training_set = TRAINING_IMAGE.select(BANDS).sampleRegions(**{\n",
    "  'collection': LABELED_SET,\n",
    "  'properties': [LABEL],\n",
    "  'scale': 1\n",
    "})"
   ]
  },
  {
   "cell_type": "code",
   "execution_count": 19,
   "id": "c31032ec",
   "metadata": {},
   "outputs": [
    {
     "data": {
      "text/plain": [
       "True"
      ]
     },
     "execution_count": 19,
     "metadata": {},
     "output_type": "execute_result"
    }
   ],
   "source": [
    "set(BANDS)==set(TRAINING_IMAGE.bandNames().getInfo())"
   ]
  },
  {
   "cell_type": "code",
   "execution_count": 20,
   "id": "88dfe78e",
   "metadata": {},
   "outputs": [],
   "source": [
    "def training_area(image, training_class):\n",
    "    \n",
    "    area = image.reduceRegion(\n",
    "           reducer = ee.Reducer.count(), \n",
    "           geometry = training_class.geometry(), \n",
    "           scale = 2, \n",
    "           maxPixels = 1e13\n",
    "                )\n",
    "\n",
    "    return(area.getInfo().get('B'))"
   ]
  },
  {
   "cell_type": "code",
   "execution_count": 21,
   "id": "8850ec97",
   "metadata": {},
   "outputs": [],
   "source": [
    "def training_polygons(training_class):\n",
    "    return(training_class.aggregate_count('label').getInfo())"
   ]
  },
  {
   "cell_type": "code",
   "execution_count": 22,
   "id": "f9df403c",
   "metadata": {},
   "outputs": [
    {
     "name": "stdout",
     "output_type": "stream",
     "text": [
      "water pixels: 486 , polygons 199\n",
      "vegetation_trees pixels: 17125 , polygons 772\n",
      "vegetation_grass pixels: 23681 , polygons 400\n",
      "turf pixels: 857 , polygons 215\n",
      "pv pixels: 1723 , polygons 344\n",
      "impervious pixels: 20360 , polygons 80\n",
      "soil pixels: 8761 , polygons 40\n"
     ]
    }
   ],
   "source": [
    "# training information\n",
    "training_classes = [water,\n",
    "                         vegetation_trees,\n",
    "                         vegetation_grass,\n",
    "                         turf,\n",
    "                         pv,\n",
    "                         impervious,\n",
    "                         soil]\n",
    "\n",
    "class_names = ['water',\n",
    "                         'vegetation_trees',\n",
    "                         'vegetation_grass',\n",
    "                         'turf',\n",
    "                         'pv',\n",
    "                         'impervious',\n",
    "                         'soil']\n",
    "\n",
    "try:\n",
    "    for i in range(len(training_classes)):\n",
    "        area_i = training_area(TRAINING_IMAGE, training_classes[i])\n",
    "        polygons_i = training_polygons(training_classes[i])\n",
    "        print(class_names[i],\"pixels:\", area_i ,\", polygons\", polygons_i)\n",
    "except:\n",
    "    print('ERROR. POSSIBLE MISMATCH IN CLASSES LIST AND NAMES LIST SIZES')\n",
    "\n"
   ]
  },
  {
   "cell_type": "markdown",
   "id": "435516c5",
   "metadata": {},
   "source": [
    "## Separate Training Data into Train/Test"
   ]
  },
  {
   "cell_type": "code",
   "execution_count": 23,
   "id": "0b0ec123",
   "metadata": {},
   "outputs": [
    {
     "name": "stdout",
     "output_type": "stream",
     "text": [
      "Labeled Set Size in Pixels 284710\n",
      "Training Set Size in Pixels 227871\n",
      "Test Set Size in Pixels 56839\n"
     ]
    }
   ],
   "source": [
    "#Split Training and Test Set Randomly - there might be a better way to do this\n",
    "print(\"Labeled Set Size in Pixels\", training_set.aggregate_count('R').getInfo())\n",
    "sample = training_set.randomColumn()\n",
    "trainingSample = sample.filter('random <= 0.8')\n",
    "validationSample = sample.filter('random > 0.8')\n",
    "print(\"Training Set Size in Pixels\", trainingSample.aggregate_count('R').getInfo())\n",
    "print(\"Test Set Size in Pixels\", validationSample.aggregate_count('R').getInfo())"
   ]
  },
  {
   "cell_type": "markdown",
   "id": "f142f147",
   "metadata": {},
   "source": [
    "## Machine Learning Model"
   ]
  },
  {
   "cell_type": "code",
   "execution_count": 24,
   "id": "8eba5df3",
   "metadata": {},
   "outputs": [
    {
     "data": {
      "text/plain": [
       "<ee.Classifier at 0x7f8afc917100>"
      ]
     },
     "execution_count": 24,
     "metadata": {},
     "output_type": "execute_result"
    }
   ],
   "source": [
    "clf = ee.Classifier.smileRandomForest(numberOfTrees = 100).train(trainingSample, LABEL, BANDS)\n",
    "clf"
   ]
  },
  {
   "cell_type": "code",
   "execution_count": 25,
   "id": "330a5e3c",
   "metadata": {},
   "outputs": [],
   "source": [
    "training_image_classified = TRAINING_IMAGE.select(BANDS).classify(clf)"
   ]
  },
  {
   "cell_type": "code",
   "execution_count": 26,
   "id": "5e8e5900",
   "metadata": {},
   "outputs": [],
   "source": [
    "legend_keys = ['water', 'vegetation_trees', 'vegetation_grass', 'turf','impervious','soil']\n",
    "legend_colors = ['#0B6AEF', '#097407', '#0CE708', '#8C46D2' ,' #A1A8AF','#D47911']\n",
    "\n",
    "Map.addLayer(training_image_classified, {'min': 1, 'max': 7, 'palette': legend_colors}, 'Classification')"
   ]
  },
  {
   "cell_type": "code",
   "execution_count": 27,
   "id": "72d2dbde",
   "metadata": {
    "scrolled": false
   },
   "outputs": [
    {
     "data": {
      "application/vnd.jupyter.widget-view+json": {
       "model_id": "63d41dd61aec4e79ac401ee3e77cd4c5",
       "version_major": 2,
       "version_minor": 0
      },
      "text/plain": [
       "Map(center=[20, 0], controls=(WidgetControl(options=['position', 'transparent_bg'], widget=HBox(children=(Togg…"
      ]
     },
     "metadata": {},
     "output_type": "display_data"
    }
   ],
   "source": [
    "Map"
   ]
  },
  {
   "cell_type": "markdown",
   "id": "cbfc567d",
   "metadata": {},
   "source": [
    "## Evaluation Metrics\n",
    "\n",
    "### Train Accuracy"
   ]
  },
  {
   "cell_type": "code",
   "execution_count": 28,
   "id": "79962925",
   "metadata": {},
   "outputs": [],
   "source": [
    "# train_accuracy = trainingSample.classify(clf).errorMatrix('landcover', 'classification')\n",
    "# train_accuracy.getInfo()"
   ]
  },
  {
   "cell_type": "code",
   "execution_count": 29,
   "id": "07d182e9",
   "metadata": {},
   "outputs": [],
   "source": [
    "# train_accuracy.accuracy().getInfo()"
   ]
  },
  {
   "cell_type": "code",
   "execution_count": 30,
   "id": "f02d66a8",
   "metadata": {},
   "outputs": [],
   "source": [
    "# np.array(train_accuracy.getInfo()).sum()"
   ]
  },
  {
   "cell_type": "markdown",
   "id": "0dedfd58",
   "metadata": {},
   "source": [
    "### Test Accuracy"
   ]
  },
  {
   "cell_type": "code",
   "execution_count": 31,
   "id": "43ebe93f",
   "metadata": {},
   "outputs": [],
   "source": [
    "# test_accuracy = validationSample.classify(clf).errorMatrix('landcover', 'classification')"
   ]
  },
  {
   "cell_type": "code",
   "execution_count": 32,
   "id": "78cf93e8",
   "metadata": {},
   "outputs": [],
   "source": [
    "# test_accuracy.accuracy().getInfo()"
   ]
  },
  {
   "cell_type": "code",
   "execution_count": 33,
   "id": "9fc97534",
   "metadata": {},
   "outputs": [],
   "source": [
    "# np.array(test_accuracy.getInfo()).sum()"
   ]
  },
  {
   "cell_type": "markdown",
   "id": "2dc90667",
   "metadata": {},
   "source": [
    "## Binary Classification and Area Calculation"
   ]
  },
  {
   "cell_type": "code",
   "execution_count": 34,
   "id": "7f8c69e8",
   "metadata": {},
   "outputs": [],
   "source": [
    "def area_calculation(image, class_number, shape, pixel_scale = 20):\n",
    "    \n",
    "    areaImage = image.eq(class_number).multiply(ee.Image.pixelArea())\n",
    "    \n",
    "    area = areaImage.reduceRegion(\n",
    "        reducer = ee.Reducer.sum(), \n",
    "        geometry = shape.geometry(), \n",
    "        scale = pixel_scale, \n",
    "        maxPixels = 1e13)\n",
    "    \n",
    "    area_sq_m = area.getInfo().get('classification')\n",
    "    \n",
    "    area_sq_km = area_sq_m / 1e6\n",
    "    \n",
    "    return area_sq_km"
   ]
  },
  {
   "cell_type": "markdown",
   "id": "7df9a121",
   "metadata": {},
   "source": [
    "### Create Panel Data"
   ]
  },
  {
   "cell_type": "code",
   "execution_count": 50,
   "id": "e2be115c",
   "metadata": {},
   "outputs": [],
   "source": [
    "la_county_income_zipcode2 = ee.FeatureCollection(\"projects/california-lawn-detection/assets/income_zipcode2019\")\n",
    "la_county_income_zipcode = la_county_income_zipcode2.select(ee.List(['zipcode', '2019zipcod','shape_area']), ee.List(['ZipCode', 'Median_Income','Area_sqft']))"
   ]
  },
  {
   "cell_type": "code",
   "execution_count": 51,
   "id": "96b49bec",
   "metadata": {},
   "outputs": [],
   "source": [
    "year_list = [2010,2012, 2014, 2016, 2018,2020]\n",
    "zipcode_list = ['90802','90732','90744']"
   ]
  },
  {
   "cell_type": "code",
   "execution_count": 52,
   "id": "367691eb",
   "metadata": {},
   "outputs": [
    {
     "data": {
      "text/plain": [
       "{'2010_lacounty': <ee.image.Image at 0x7f8afd40a100>,\n",
       " '2012_lacounty': <ee.image.Image at 0x7f8afd40a2e0>,\n",
       " '2014_lacounty': <ee.image.Image at 0x7f8afd40a4c0>,\n",
       " '2016_lacounty': <ee.image.Image at 0x7f8afd40a6a0>,\n",
       " '2018_lacounty': <ee.image.Image at 0x7f8afd40a880>,\n",
       " '2020_lacounty': <ee.image.Image at 0x7f8afd40aa60>}"
      ]
     },
     "execution_count": 52,
     "metadata": {},
     "output_type": "execute_result"
    }
   ],
   "source": [
    "test_image_params = {\n",
    "        'source_image_collection' : 'USDA/NAIP/DOQQ',\n",
    "        'years' : year_list,\n",
    "        'counties': {'lacounty': la_county}\n",
    "         }\n",
    "\n",
    "inference_images = get_images(test_image_params)\n",
    "inference_images"
   ]
  },
  {
   "cell_type": "code",
   "execution_count": 54,
   "id": "876bd011",
   "metadata": {},
   "outputs": [
    {
     "name": "stdout",
     "output_type": "stream",
     "text": [
      "Zip Code: 90802, Year: 2010 ::: completed in 9.470054864883423 seconds.\n",
      "Zip Code: 90802, Year: 2012 ::: completed in 9.935494184494019 seconds.\n",
      "Zip Code: 90802, Year: 2014 ::: completed in 9.416775941848755 seconds.\n",
      "Zip Code: 90802, Year: 2016 ::: completed in 9.318517923355103 seconds.\n",
      "Zip Code: 90802, Year: 2018 ::: completed in 9.800591945648193 seconds.\n",
      "Zip Code: 90802, Year: 2020 ::: completed in 16.159645080566406 seconds.\n",
      "Zip Code: 90732, Year: 2010 ::: completed in 9.274869918823242 seconds.\n",
      "Zip Code: 90732, Year: 2012 ::: completed in 9.646950960159302 seconds.\n",
      "Zip Code: 90732, Year: 2014 ::: completed in 9.588125944137573 seconds.\n",
      "Zip Code: 90732, Year: 2016 ::: completed in 9.832841873168945 seconds.\n",
      "Zip Code: 90732, Year: 2018 ::: completed in 9.417522192001343 seconds.\n",
      "Zip Code: 90732, Year: 2020 ::: completed in 10.772068977355957 seconds.\n",
      "Zip Code: 90744, Year: 2010 ::: completed in 10.165087938308716 seconds.\n",
      "Zip Code: 90744, Year: 2012 ::: completed in 9.68155312538147 seconds.\n",
      "Zip Code: 90744, Year: 2014 ::: completed in 10.136785984039307 seconds.\n",
      "Zip Code: 90744, Year: 2016 ::: completed in 9.828770875930786 seconds.\n",
      "Zip Code: 90744, Year: 2018 ::: completed in 10.032986164093018 seconds.\n",
      "Zip Code: 90744, Year: 2020 ::: completed in 10.3991858959198 seconds.\n"
     ]
    }
   ],
   "source": [
    "keys = {'year','polygon','water_area','vegetation_trees_area', 'vegetation_grass_area', 'turf_area', 'impervious_area','soil_area', 'total_area'}\n",
    "dictionary = {}\n",
    "for i in keys:\n",
    "    dictionary[i] = []\n",
    "\n",
    "for i in zipcode_list:\n",
    "    for j in list(inference_images.items()):\n",
    "        im = j[1]\n",
    "        imagery = im.select(BANDS).classify(clf)\n",
    "        name = j[0]\n",
    "        \n",
    "        start = time()\n",
    "        polygon = la_county_income_zipcode.filter(ee.Filter.eq('ZipCode', i))\n",
    "\n",
    "        dictionary['year'].append(j[0][:4]) \n",
    "        dictionary['polygon'].append(i)\n",
    "\n",
    "        water_area = area_calculation(imagery, 1, polygon, 20)\n",
    "        dictionary['water_area'].append(water_area)\n",
    "\n",
    "        vegetation_trees_area = area_calculation(imagery, 2, polygon, 20)\n",
    "        dictionary['vegetation_trees_area'].append(vegetation_trees_area)\n",
    "\n",
    "        vegetation_grass_area = area_calculation(imagery, 3, polygon, 20)\n",
    "        dictionary['vegetation_grass_area'].append(vegetation_grass_area)\n",
    "\n",
    "        turf_area = area_calculation(imagery, 4, polygon, 20)\n",
    "        dictionary['turf_area'].append(turf_area)\n",
    "\n",
    "        impervious_area = area_calculation(imagery, 6, polygon, 20)\n",
    "        dictionary['impervious_area'].append(impervious_area)\n",
    "\n",
    "        soil_area = area_calculation(imagery, 7, polygon, 20)\n",
    "        dictionary['soil_area'].append(soil_area)\n",
    "\n",
    "        total_area = water_area + vegetation_trees_area + vegetation_grass_area + turf_area + impervious_area + soil_area\n",
    "        dictionary['total_area'].append(total_area)\n",
    "        end = time()\n",
    "        print(f'Zip Code: {i}, Year: {j[0][:4]} ::: completed in {end-start} seconds.')\n",
    "              \n",
    "              \n",
    "              "
   ]
  },
  {
   "cell_type": "code",
   "execution_count": 55,
   "id": "b55b7f5d",
   "metadata": {},
   "outputs": [
    {
     "data": {
      "text/html": [
       "<div>\n",
       "<style scoped>\n",
       "    .dataframe tbody tr th:only-of-type {\n",
       "        vertical-align: middle;\n",
       "    }\n",
       "\n",
       "    .dataframe tbody tr th {\n",
       "        vertical-align: top;\n",
       "    }\n",
       "\n",
       "    .dataframe thead th {\n",
       "        text-align: right;\n",
       "    }\n",
       "</style>\n",
       "<table border=\"1\" class=\"dataframe\">\n",
       "  <thead>\n",
       "    <tr style=\"text-align: right;\">\n",
       "      <th></th>\n",
       "      <th>polygon</th>\n",
       "      <th>soil_area</th>\n",
       "      <th>vegetation_grass_area</th>\n",
       "      <th>water_area</th>\n",
       "      <th>vegetation_trees_area</th>\n",
       "      <th>impervious_area</th>\n",
       "      <th>turf_area</th>\n",
       "    </tr>\n",
       "  </thead>\n",
       "  <tbody>\n",
       "    <tr>\n",
       "      <th>0</th>\n",
       "      <td>90802</td>\n",
       "      <td>3.407064</td>\n",
       "      <td>5.416788</td>\n",
       "      <td>0.007960</td>\n",
       "      <td>0.670206</td>\n",
       "      <td>5.241610</td>\n",
       "      <td>0.012990</td>\n",
       "    </tr>\n",
       "    <tr>\n",
       "      <th>1</th>\n",
       "      <td>90802</td>\n",
       "      <td>0.000000</td>\n",
       "      <td>0.229415</td>\n",
       "      <td>4.845066</td>\n",
       "      <td>0.000995</td>\n",
       "      <td>9.679151</td>\n",
       "      <td>0.001990</td>\n",
       "    </tr>\n",
       "    <tr>\n",
       "      <th>2</th>\n",
       "      <td>90802</td>\n",
       "      <td>0.003980</td>\n",
       "      <td>0.476647</td>\n",
       "      <td>0.249989</td>\n",
       "      <td>0.076949</td>\n",
       "      <td>13.791756</td>\n",
       "      <td>0.157296</td>\n",
       "    </tr>\n",
       "    <tr>\n",
       "      <th>3</th>\n",
       "      <td>90802</td>\n",
       "      <td>0.257569</td>\n",
       "      <td>0.394952</td>\n",
       "      <td>0.000000</td>\n",
       "      <td>0.315657</td>\n",
       "      <td>13.563885</td>\n",
       "      <td>0.224554</td>\n",
       "    </tr>\n",
       "    <tr>\n",
       "      <th>4</th>\n",
       "      <td>90802</td>\n",
       "      <td>0.001327</td>\n",
       "      <td>0.305056</td>\n",
       "      <td>0.326028</td>\n",
       "      <td>0.101922</td>\n",
       "      <td>13.840988</td>\n",
       "      <td>0.181296</td>\n",
       "    </tr>\n",
       "    <tr>\n",
       "      <th>5</th>\n",
       "      <td>90802</td>\n",
       "      <td>0.760027</td>\n",
       "      <td>0.496773</td>\n",
       "      <td>0.000000</td>\n",
       "      <td>0.647374</td>\n",
       "      <td>12.688006</td>\n",
       "      <td>0.164438</td>\n",
       "    </tr>\n",
       "    <tr>\n",
       "      <th>6</th>\n",
       "      <td>90732</td>\n",
       "      <td>1.259774</td>\n",
       "      <td>2.307484</td>\n",
       "      <td>0.000000</td>\n",
       "      <td>0.375581</td>\n",
       "      <td>4.284398</td>\n",
       "      <td>0.004312</td>\n",
       "    </tr>\n",
       "    <tr>\n",
       "      <th>7</th>\n",
       "      <td>90732</td>\n",
       "      <td>0.061377</td>\n",
       "      <td>1.454733</td>\n",
       "      <td>1.001374</td>\n",
       "      <td>0.102173</td>\n",
       "      <td>5.577262</td>\n",
       "      <td>0.034631</td>\n",
       "    </tr>\n",
       "    <tr>\n",
       "      <th>8</th>\n",
       "      <td>90732</td>\n",
       "      <td>0.531687</td>\n",
       "      <td>2.614109</td>\n",
       "      <td>0.035535</td>\n",
       "      <td>0.423377</td>\n",
       "      <td>4.592798</td>\n",
       "      <td>0.034044</td>\n",
       "    </tr>\n",
       "    <tr>\n",
       "      <th>9</th>\n",
       "      <td>90732</td>\n",
       "      <td>0.679698</td>\n",
       "      <td>0.730300</td>\n",
       "      <td>0.007975</td>\n",
       "      <td>0.913194</td>\n",
       "      <td>5.818238</td>\n",
       "      <td>0.082145</td>\n",
       "    </tr>\n",
       "    <tr>\n",
       "      <th>10</th>\n",
       "      <td>90732</td>\n",
       "      <td>0.317903</td>\n",
       "      <td>1.811182</td>\n",
       "      <td>0.016022</td>\n",
       "      <td>0.564794</td>\n",
       "      <td>5.448561</td>\n",
       "      <td>0.073087</td>\n",
       "    </tr>\n",
       "    <tr>\n",
       "      <th>11</th>\n",
       "      <td>90732</td>\n",
       "      <td>1.869716</td>\n",
       "      <td>0.620204</td>\n",
       "      <td>0.000000</td>\n",
       "      <td>2.635687</td>\n",
       "      <td>2.946216</td>\n",
       "      <td>0.159726</td>\n",
       "    </tr>\n",
       "    <tr>\n",
       "      <th>12</th>\n",
       "      <td>90744</td>\n",
       "      <td>10.690138</td>\n",
       "      <td>7.213909</td>\n",
       "      <td>0.000000</td>\n",
       "      <td>2.012031</td>\n",
       "      <td>2.635111</td>\n",
       "      <td>0.048090</td>\n",
       "    </tr>\n",
       "    <tr>\n",
       "      <th>13</th>\n",
       "      <td>90744</td>\n",
       "      <td>0.000995</td>\n",
       "      <td>0.743366</td>\n",
       "      <td>6.087146</td>\n",
       "      <td>0.212563</td>\n",
       "      <td>15.539857</td>\n",
       "      <td>0.015352</td>\n",
       "    </tr>\n",
       "    <tr>\n",
       "      <th>14</th>\n",
       "      <td>90744</td>\n",
       "      <td>0.117823</td>\n",
       "      <td>1.937951</td>\n",
       "      <td>0.051493</td>\n",
       "      <td>0.402810</td>\n",
       "      <td>19.740220</td>\n",
       "      <td>0.348981</td>\n",
       "    </tr>\n",
       "    <tr>\n",
       "      <th>15</th>\n",
       "      <td>90744</td>\n",
       "      <td>1.501826</td>\n",
       "      <td>0.443510</td>\n",
       "      <td>0.000332</td>\n",
       "      <td>0.688415</td>\n",
       "      <td>19.668191</td>\n",
       "      <td>0.297006</td>\n",
       "    </tr>\n",
       "    <tr>\n",
       "      <th>16</th>\n",
       "      <td>90744</td>\n",
       "      <td>0.057365</td>\n",
       "      <td>0.950822</td>\n",
       "      <td>0.288954</td>\n",
       "      <td>0.340828</td>\n",
       "      <td>20.657176</td>\n",
       "      <td>0.304134</td>\n",
       "    </tr>\n",
       "    <tr>\n",
       "      <th>17</th>\n",
       "      <td>90744</td>\n",
       "      <td>3.527528</td>\n",
       "      <td>1.014940</td>\n",
       "      <td>0.000000</td>\n",
       "      <td>2.017314</td>\n",
       "      <td>15.849339</td>\n",
       "      <td>0.190158</td>\n",
       "    </tr>\n",
       "  </tbody>\n",
       "</table>\n",
       "</div>"
      ],
      "text/plain": [
       "   polygon  soil_area  vegetation_grass_area  water_area  \\\n",
       "0    90802   3.407064               5.416788    0.007960   \n",
       "1    90802   0.000000               0.229415    4.845066   \n",
       "2    90802   0.003980               0.476647    0.249989   \n",
       "3    90802   0.257569               0.394952    0.000000   \n",
       "4    90802   0.001327               0.305056    0.326028   \n",
       "5    90802   0.760027               0.496773    0.000000   \n",
       "6    90732   1.259774               2.307484    0.000000   \n",
       "7    90732   0.061377               1.454733    1.001374   \n",
       "8    90732   0.531687               2.614109    0.035535   \n",
       "9    90732   0.679698               0.730300    0.007975   \n",
       "10   90732   0.317903               1.811182    0.016022   \n",
       "11   90732   1.869716               0.620204    0.000000   \n",
       "12   90744  10.690138               7.213909    0.000000   \n",
       "13   90744   0.000995               0.743366    6.087146   \n",
       "14   90744   0.117823               1.937951    0.051493   \n",
       "15   90744   1.501826               0.443510    0.000332   \n",
       "16   90744   0.057365               0.950822    0.288954   \n",
       "17   90744   3.527528               1.014940    0.000000   \n",
       "\n",
       "    vegetation_trees_area  impervious_area  turf_area  \n",
       "0                0.670206         5.241610   0.012990  \n",
       "1                0.000995         9.679151   0.001990  \n",
       "2                0.076949        13.791756   0.157296  \n",
       "3                0.315657        13.563885   0.224554  \n",
       "4                0.101922        13.840988   0.181296  \n",
       "5                0.647374        12.688006   0.164438  \n",
       "6                0.375581         4.284398   0.004312  \n",
       "7                0.102173         5.577262   0.034631  \n",
       "8                0.423377         4.592798   0.034044  \n",
       "9                0.913194         5.818238   0.082145  \n",
       "10               0.564794         5.448561   0.073087  \n",
       "11               2.635687         2.946216   0.159726  \n",
       "12               2.012031         2.635111   0.048090  \n",
       "13               0.212563        15.539857   0.015352  \n",
       "14               0.402810        19.740220   0.348981  \n",
       "15               0.688415        19.668191   0.297006  \n",
       "16               0.340828        20.657176   0.304134  \n",
       "17               2.017314        15.849339   0.190158  "
      ]
     },
     "execution_count": 55,
     "metadata": {},
     "output_type": "execute_result"
    }
   ],
   "source": [
    "#extract just necessary columns from dictionary dataframe\n",
    "df = pd.DataFrame(dictionary)[['polygon','soil_area','vegetation_grass_area','water_area','vegetation_trees_area','impervious_area','turf_area']]\n",
    "df"
   ]
  },
  {
   "cell_type": "markdown",
   "id": "5603838e",
   "metadata": {},
   "source": [
    "### Plot Results"
   ]
  },
  {
   "cell_type": "code",
   "execution_count": 56,
   "id": "b118674e",
   "metadata": {},
   "outputs": [
    {
     "data": {
      "image/png": "[encoded data removed]",
      "text/plain": [
       "<Figure size 1440x360 with 3 Axes>"
      ]
     },
     "metadata": {
      "needs_background": "light"
     },
     "output_type": "display_data"
    }
   ],
   "source": [
    "years= [2010, 2012, 2014, 2016, 2018, 2020]\n",
    "zips = df.polygon.unique()\n",
    "fig, ax = plt.subplots(1,3, figsize = (20,5))\n",
    "\n",
    "labels = [ 'soil_area',\n",
    " 'vegetation_grass_area',\n",
    " 'water_area',\n",
    " 'vegetation_trees_area',\n",
    " 'turf_area']\n",
    "\n",
    "colors = ['brown','#66CC00','#3399FF','#FF8000','#9933FF']\n",
    "\n",
    "\n",
    "for i in range(3):\n",
    "    for j in range(len(labels)):\n",
    "        if j == 'polygon':\n",
    "            continue\n",
    "        else:\n",
    "            d = df[df.polygon == zips[i]]\n",
    "            ax[i].plot(years, d[labels[j]], color = colors[j], label = labels[j])\n",
    "    ax[i].set_title(f'Zip Code: {zips[i]}', size = 15)\n",
    "    ax[i].set_xlabel('Year', size = 13)\n",
    "    ax[i].set_ylabel('Area (Square Kilometers)', size = 13)\n",
    "    ax[i].set_ylim(0,11)\n",
    "    ax[0].legend()\n",
    "    \n",
    "# plt.savefig(fname = 'test.png', dpi = 200)"
   ]
  }
 ],
 "metadata": {
  "kernelspec": {
   "display_name": "Python 3",
   "language": "python",
   "name": "python3"
  },
  "language_info": {
   "codemirror_mode": {
    "name": "ipython",
    "version": 3
   },
   "file_extension": ".py",
   "mimetype": "text/x-python",
   "name": "python",
   "nbconvert_exporter": "python",
   "pygments_lexer": "ipython3",
   "version": "3.8.8"
  }
 },
 "nbformat": 4,
 "nbformat_minor": 5
}
