{
 "cells": [
  {
   "cell_type": "markdown",
   "metadata": {},
   "source": [
    "# Google Earth Engine Component"
   ]
  },
  {
   "cell_type": "markdown",
   "metadata": {},
   "source": [
    "## Initialize"
   ]
  },
  {
   "cell_type": "code",
   "execution_count": 1,
   "metadata": {},
   "outputs": [],
   "source": [
    "#Import required libraries\n",
    "import ee\n",
    "import geemap\n",
    "import math\n",
    "\n",
    "import matplotlib.pyplot as plt\n",
    "import numpy as np"
   ]
  },
  {
   "cell_type": "code",
   "execution_count": 2,
   "metadata": {},
   "outputs": [],
   "source": [
    "#Initialize Google Earth Engine\n",
    "#ee.Authenticate() just needed the 1st time\n",
    "ee.Initialize()"
   ]
  },
  {
   "cell_type": "code",
   "execution_count": 3,
   "metadata": {},
   "outputs": [],
   "source": [
    "# Check if geemap is working as intended - plot the leaflet map\n",
    "Map = geemap.Map()"
   ]
  },
  {
   "cell_type": "markdown",
   "metadata": {},
   "source": [
    "## Load Feature Collection - Shapefiles"
   ]
  },
  {
   "cell_type": "code",
   "execution_count": 4,
   "metadata": {},
   "outputs": [],
   "source": [
    "#Data loads\n",
    "\n",
    "#loads feature collection data from Google Earth Engine - We can also upload other feature collections\n",
    "counties = ee.FeatureCollection(\"TIGER/2018/Counties\")\n",
    "\n",
    "#filter LA County\n",
    "la_county = counties.filter(ee.Filter.eq('NAME', 'Los Angeles'))"
   ]
  },
  {
   "cell_type": "code",
   "execution_count": 5,
   "metadata": {},
   "outputs": [],
   "source": [
    "#loads cities data - Not in current use\n",
    "\n",
    "#load California Cities Shapefile\n",
    "cities = ee.FeatureCollection(\"projects/california-lawn-detection/assets/Cities2015\")\n",
    "\n",
    "# Filter for LA City\n",
    "la_cities = cities.filter(ee.Filter.eq('County', 'Los Angeles'))\n",
    "\n",
    "# Filter sea\n",
    "la_cities_land = la_cities.filter(ee.Filter.notEquals('Notes', '3 nautical mile offshore'))\n",
    "\n",
    "# How to add a layer to the base map\n",
    "Map.addLayer(la_cities_land,{}, 'la_cities')"
   ]
  },
  {
   "cell_type": "code",
   "execution_count": 6,
   "metadata": {},
   "outputs": [],
   "source": [
    "#loads parcel data\n",
    "\n",
    "la_parcel_shape = ee.FeatureCollection(\"projects/california-lawn-detection/assets/LA_County_Parcels_Shape\")\n",
    "\n",
    "# Map.addLayer(la_parcel_shape,{'color': '00000000'}, 'la_parcel_shape')"
   ]
  },
  {
   "cell_type": "code",
   "execution_count": 7,
   "metadata": {},
   "outputs": [],
   "source": [
    "#Income Data\n",
    "\n",
    "la_county_income = ee.FeatureCollection(\"projects/california-lawn-detection/assets/lacountyincome-final\")\n",
    "\n",
    "Map.addLayer(la_county_income,{}, 'LA County Income')"
   ]
  },
  {
   "cell_type": "code",
   "execution_count": 8,
   "metadata": {},
   "outputs": [],
   "source": [
    "la_county_income2 = ee.FeatureCollection(\"projects/california-lawn-detection/assets/lacountyincome_update\")\n",
    "la_county_income = la_county_income2.select(ee.List(['Name', 'Descriptio', 'Ranking']), ee.List(['Name', 'Median_Income', 'Ranking']))\n",
    "Map.addLayer(la_county_income,{}, 'LA County Income')"
   ]
  },
  {
   "cell_type": "code",
   "execution_count": 9,
   "metadata": {},
   "outputs": [
    {
     "data": {
      "application/vnd.jupyter.widget-view+json": {
       "model_id": "9ecc54b4c63648a89b4b2ea5b87a7a76",
       "version_major": 2,
       "version_minor": 0
      },
      "text/plain": [
       "Map(center=[20, 0], controls=(WidgetControl(options=['position', 'transparent_bg'], widget=HBox(children=(Togg…"
      ]
     },
     "metadata": {},
     "output_type": "display_data"
    }
   ],
   "source": [
    "Map"
   ]
  },
  {
   "cell_type": "markdown",
   "metadata": {},
   "source": [
    "## Load NAIP Imagery"
   ]
  },
  {
   "cell_type": "code",
   "execution_count": 10,
   "metadata": {},
   "outputs": [],
   "source": [
    "#loads NAIP 2020 and 2010 dataset and selects bands Red, Green, Blue, Near Infrared (R,G,B,N)\n",
    "\n",
    "# rgbn imagery from 2010 to 2020\n",
    "image_2020_rgbn = (\n",
    "    ee.ImageCollection('USDA/NAIP/DOQQ')\n",
    "    .filterDate('2020-01-01', '2020-12-31')\n",
    "    .select(['R', 'G', 'B', 'N'])\n",
    ")\n",
    "\n",
    "image_2018_rgbn = (\n",
    "    ee.ImageCollection('USDA/NAIP/DOQQ')\n",
    "    .filterDate('2018-01-01', '2018-12-31')\n",
    "    .select(['R', 'G', 'B', 'N'])\n",
    ")\n",
    "\n",
    "image_2016_rgbn = (\n",
    "    ee.ImageCollection('USDA/NAIP/DOQQ')\n",
    "    .filterDate('2016-01-01', '2016-12-31')\n",
    "    .select(['R', 'G', 'B', 'N'])\n",
    ")\n",
    "\n",
    "image_2014_rgbn = (\n",
    "    ee.ImageCollection('USDA/NAIP/DOQQ')\n",
    "    .filterDate('2014-01-01', '2014-12-31')\n",
    "    .select(['R', 'G', 'B', 'N'])\n",
    ")\n",
    "\n",
    "image_2012_rgbn = (\n",
    "    ee.ImageCollection('USDA/NAIP/DOQQ')\n",
    "    .filterDate('2012-01-01', '2012-12-31')\n",
    "    .select(['R', 'G', 'B', 'N'])\n",
    ")\n",
    "\n",
    "image_2010_rgbn = (\n",
    "    ee.ImageCollection('USDA/NAIP/DOQQ')\n",
    "    .filterDate('2010-01-01', '2010-12-31')\n",
    "    .select(['R', 'G', 'B', 'N'])\n",
    ")\n",
    "\n",
    "# nrg imagery from 2010 to 2020\n",
    "image_2020_nrg = (\n",
    "    ee.ImageCollection('USDA/NAIP/DOQQ')\n",
    "    .filterDate('2020-01-01', '2020-12-31')\n",
    "    .select(['N','R','G'])\n",
    ")\n",
    "\n",
    "image_2018_nrg = (\n",
    "    ee.ImageCollection('USDA/NAIP/DOQQ')\n",
    "    .filterDate('2018-01-01', '2018-12-31')\n",
    "    .select(['N','R','G'])\n",
    ")\n",
    "\n",
    "image_2016_nrg = (\n",
    "    ee.ImageCollection('USDA/NAIP/DOQQ')\n",
    "    .filterDate('2016-01-01', '2016-12-31')\n",
    "    .select(['N','R','G'])\n",
    ")\n",
    "\n",
    "image_2014_nrg = (\n",
    "    ee.ImageCollection('USDA/NAIP/DOQQ')\n",
    "    .filterDate('2014-01-01', '2014-12-31')\n",
    "    .select(['N','R','G'])\n",
    ")\n",
    "\n",
    "image_2012_nrg = (\n",
    "    ee.ImageCollection('USDA/NAIP/DOQQ')\n",
    "    .filterDate('2012-01-01', '2012-12-31')\n",
    "    .select(['N','R','G'])\n",
    ")\n",
    "\n",
    "image_2010_nrg = (\n",
    "    ee.ImageCollection('USDA/NAIP/DOQQ')\n",
    "    .filterDate('2010-01-01', '2010-12-31')\n",
    "    .select(['N','R','G'])\n",
    ")\n",
    "\n",
    "#Calculate median so it can be clipped - turns image collection into an image\n",
    "NAIP_2020_rgbn = image_2020_rgbn.median()\n",
    "NAIP_2018_rgbn = image_2018_rgbn.median()\n",
    "NAIP_2016_rgbn = image_2016_rgbn.median()\n",
    "NAIP_2014_rgbn = image_2014_rgbn.median()\n",
    "NAIP_2012_rgbn = image_2012_rgbn.median()\n",
    "NAIP_2010_rgbn = image_2010_rgbn.median()\n",
    "\n",
    "NAIP_2020_nrg = image_2020_nrg.median()\n",
    "NAIP_2018_nrg = image_2018_nrg.median()\n",
    "NAIP_2016_nrg = image_2016_nrg.median()\n",
    "NAIP_2014_nrg = image_2014_nrg.median()\n",
    "NAIP_2012_nrg = image_2012_nrg.median()\n",
    "NAIP_2010_nrg = image_2010_nrg.median()\n",
    "\n",
    "#Clip images to desired polygon in this case la_county\n",
    "\n",
    "NAIP_2020_rgbn_lacounty = NAIP_2020_rgbn.clip(la_county)\n",
    "NAIP_2020_nrg_lacounty = NAIP_2020_nrg.clip(la_county)\n",
    "NAIP_2018_rgbn_lacounty = NAIP_2018_rgbn.clip(la_county)\n",
    "NAIP_2018_nrg_lacounty = NAIP_2018_nrg.clip(la_county)\n",
    "NAIP_2016_rgbn_lacounty = NAIP_2016_rgbn.clip(la_county)\n",
    "NAIP_2016_nrg_lacounty = NAIP_2016_nrg.clip(la_county)\n",
    "NAIP_2014_rgbn_lacounty = NAIP_2014_rgbn.clip(la_county)\n",
    "NAIP_2014_nrg_lacounty = NAIP_2014_nrg.clip(la_county)\n",
    "NAIP_2012_rgbn_lacounty = NAIP_2012_rgbn.clip(la_county)\n",
    "NAIP_2012_nrg_lacounty = NAIP_2012_nrg.clip(la_county)\n",
    "NAIP_2010_rgbn_lacounty = NAIP_2010_rgbn.clip(la_county)\n",
    "NAIP_2010_nrg_lacounty = NAIP_2010_nrg.clip(la_county)"
   ]
  },
  {
   "cell_type": "code",
   "execution_count": 11,
   "metadata": {},
   "outputs": [
    {
     "data": {
      "text/plain": [
       "<ee.image.Image at 0x7fdcda208640>"
      ]
     },
     "execution_count": 11,
     "metadata": {},
     "output_type": "execute_result"
    }
   ],
   "source": [
    "NAIP_2020_rgbn_lacounty"
   ]
  },
  {
   "cell_type": "code",
   "execution_count": 12,
   "metadata": {},
   "outputs": [],
   "source": [
    "#Calculate NDVI for each image\n",
    "ndvi_2020 = NAIP_2020_rgbn_lacounty.normalizedDifference(['N', 'R']).rename('NAIP_2020_NDVI')\n",
    "ndvi_2018 = NAIP_2018_rgbn_lacounty.normalizedDifference(['N', 'R']).rename('NAIP_2018_NDVI')\n",
    "ndvi_2016 = NAIP_2016_rgbn_lacounty.normalizedDifference(['N', 'R']).rename('NAIP_2016_NDVI')\n",
    "ndvi_2014 = NAIP_2014_rgbn_lacounty.normalizedDifference(['N', 'R']).rename('NAIP_2014_NDVI')\n",
    "ndvi_2012 = NAIP_2012_rgbn_lacounty.normalizedDifference(['N', 'R']).rename('NAIP_2012_NDVI')\n",
    "ndvi_2010 = NAIP_2010_rgbn_lacounty.normalizedDifference(['N', 'R']).rename('NAIP_2010_NDVI')"
   ]
  },
  {
   "cell_type": "code",
   "execution_count": 13,
   "metadata": {},
   "outputs": [],
   "source": [
    "#Add it as a layer\n",
    "Map.addLayer(ndvi_2020, {min : -1, max : 1, 'palette' : ['blue', 'white', 'green']}, 'NAIP_2020_NDVI')\n",
    "\n",
    "# 2018\n",
    "# Map.addLayer(ndvi_2018, {min : -1, max : 1, 'palette' : ['blue', 'white', 'green']}, 'NAIP_2018_NDVI')\n",
    "\n",
    "# 2016\n",
    "# Map.addLayer(ndvi_2016, {min : -1, max : 1, 'palette' : ['blue', 'white', 'green']}, 'NAIP_2016_NDVI')\n",
    "\n",
    "# 2014\n",
    "# Map.addLayer(ndvi_2014, {min : -1, max : 1, 'palette' : ['blue', 'white', 'green']}, 'NAIP_2014_NDVI')\n",
    "\n",
    "# 2012\n",
    "# Map.addLayer(ndvi_2012, {min : -1, max : 1, 'palette' : ['blue', 'white', 'green']}, 'NAIP_2012_NDVI')\n",
    "\n",
    "# 2010\n",
    "# Map.addLayer(ndvi_2010, {min : -1, max : 1, 'palette' : ['blue', 'white', 'green']}, 'NAIP_2010_NDVI')"
   ]
  },
  {
   "cell_type": "code",
   "execution_count": 40,
   "metadata": {},
   "outputs": [],
   "source": [
    "#Add layer\n",
    "Map.addLayer(NAIP_2020_rgbn_lacounty,{}, 'NAIP_2020_rgbn')\n",
    "Map.addLayer(NAIP_2020_nrg_lacounty,{}, 'NAIP_2020_nrg')\n",
    "\n",
    "#2018\n",
    "#Map.addLayer(NAIP_2018_rgbn_lacounty,{}, 'NAIP_2018_rgbn')\n",
    "#Map.addLayer(NAIP_2018_nrg_lacounty,{}, 'NAIP_2018_nrg')\n",
    "\n",
    "#2016\n",
    "#Map.addLayer(NAIP_2016_rgbn_lacounty,{}, 'NAIP_2016_rgbn')\n",
    "#Map.addLayer(NAIP_2016_nrg_lacounty,{}, 'NAIP_2016_nrg')\n",
    "\n",
    "#2014\n",
    "#Map.addLayer(NAIP_2014_rgbn_lacounty,{}, 'NAIP_2014_rgbn')\n",
    "#Map.addLayer(NAIP_2014_nrg_lacounty,{}, 'NAIP_2014_nrg')\n",
    "\n",
    "#2012\n",
    "#Map.addLayer(NAIP_2012_rgbn_lacounty,{}, 'NAIP_2012_rgbn')\n",
    "#Map.addLayer(NAIP_2012_nrg_lacounty,{}, 'NAIP_2012_nrg')\n",
    "\n",
    "#2010\n",
    "#Map.addLayer(NAIP_2010_rgbn_lacounty,{}, 'NAIP_2010_rgbn')\n",
    "#Map.addLayer(NAIP_2010_nrg_lacounty,{}, 'NAIP_2010_nrg')"
   ]
  },
  {
   "cell_type": "code",
   "execution_count": 42,
   "metadata": {},
   "outputs": [
    {
     "data": {
      "text/plain": [
       "['R',\n",
       " 'G',\n",
       " 'B',\n",
       " 'N',\n",
       " 'R_Entropy',\n",
       " 'R_Contrast',\n",
       " 'R_Gearys',\n",
       " 'G_Entropy',\n",
       " 'G_Contrast',\n",
       " 'G_Gearys',\n",
       " 'B_Entropy',\n",
       " 'B_Contrast',\n",
       " 'B_Gearys',\n",
       " 'N_Entropy',\n",
       " 'N_Contrast',\n",
       " 'N_Gearys']"
      ]
     },
     "execution_count": 42,
     "metadata": {},
     "output_type": "execute_result"
    }
   ],
   "source": [
    "NAIP_2020_rgbn_lacounty.bandNames().getInfo()"
   ]
  },
  {
   "cell_type": "code",
   "execution_count": 41,
   "metadata": {},
   "outputs": [
    {
     "data": {
      "application/vnd.jupyter.widget-view+json": {
       "model_id": "cd19763cf3864ae2ade2ebc12fac538f",
       "version_major": 2,
       "version_minor": 0
      },
      "text/plain": [
       "Map(center=[20, 0], controls=(WidgetControl(options=['position', 'transparent_bg'], widget=HBox(children=(Togg…"
      ]
     },
     "metadata": {},
     "output_type": "display_data"
    }
   ],
   "source": [
    "Map"
   ]
  },
  {
   "cell_type": "markdown",
   "metadata": {},
   "source": [
    "## Texture"
   ]
  },
  {
   "cell_type": "code",
   "execution_count": 15,
   "metadata": {},
   "outputs": [],
   "source": [
    "def neighborhood_bands(image, band):\n",
    "    i_8_bit = image.select(band).toUint8()\n",
    "    square = ee.Kernel.square(**{'radius': 4})\n",
    "    entropy = i_8_bit.entropy(square)\n",
    "    glcm = i_8_bit.glcmTexture(**{'size': 4})\n",
    "    contrast = glcm.select(str(band)+'_contrast')\n",
    "    \n",
    "    # Create a list of weights for a 9x9 kernel.\n",
    "    list = [1, 1, 1, 1, 1, 1, 1, 1, 1]\n",
    "    # The center of the kernel is zero.\n",
    "    centerList = [1, 1, 1, 1, 0, 1, 1, 1, 1]\n",
    "    # Assemble a list of lists: the 9x9 kernel weights as a 2-D matrix.\n",
    "    lists = [list, list, list, list, centerList, list, list, list, list]\n",
    "    # Create the kernel from the weights.\n",
    "    # Non-zero weights represent the spatial neighborhood.\n",
    "    kernel = ee.Kernel.fixed(9, 9, lists, -4, -4, False)\n",
    "    neighs = i_8_bit.neighborhoodToBands(kernel)\n",
    "    gearys = i_8_bit.subtract(neighs).pow(2).reduce(ee.Reducer.sum()).divide(math.pow(9, 2))\n",
    "    image = image.addBands(entropy.rename(str(band)+'_Entropy')).addBands(contrast.rename(str(band)+'_Contrast')).addBands(gearys.rename(str(band)+'_Gearys'))   \n",
    "    return image\n"
   ]
  },
  {
   "cell_type": "code",
   "execution_count": 16,
   "metadata": {},
   "outputs": [],
   "source": [
    "bands = ['R', 'G', 'B', 'N']\n",
    "for band in bands:\n",
    "    NAIP_2020_rgbn_lacounty = neighborhood_bands(NAIP_2020_rgbn_lacounty,band)"
   ]
  },
  {
   "cell_type": "code",
   "execution_count": 17,
   "metadata": {},
   "outputs": [
    {
     "data": {
      "text/plain": [
       "['R',\n",
       " 'G',\n",
       " 'B',\n",
       " 'N',\n",
       " 'R_Entropy',\n",
       " 'R_Contrast',\n",
       " 'R_Gearys',\n",
       " 'G_Entropy',\n",
       " 'G_Contrast',\n",
       " 'G_Gearys',\n",
       " 'B_Entropy',\n",
       " 'B_Contrast',\n",
       " 'B_Gearys',\n",
       " 'N_Entropy',\n",
       " 'N_Contrast',\n",
       " 'N_Gearys']"
      ]
     },
     "execution_count": 17,
     "metadata": {},
     "output_type": "execute_result"
    }
   ],
   "source": [
    "NAIP_2020_rgbn_lacounty.bandNames().getInfo()"
   ]
  },
  {
   "cell_type": "code",
   "execution_count": 18,
   "metadata": {},
   "outputs": [],
   "source": [
    "def add_NDVI(image):\n",
    "    image = image.addBands(image.normalizedDifference(['N','R']).rename('NDVI'))\n",
    "    return image"
   ]
  },
  {
   "cell_type": "code",
   "execution_count": 19,
   "metadata": {},
   "outputs": [],
   "source": [
    "NAIP_2020_rgbn_ndvi_lacounty = add_NDVI(NAIP_2020_rgbn_lacounty)\n",
    "#NAIP_2018_rgbn_ndvi_lacounty = add_NDVI(NAIP_2018_rgbn_lacounty)\n",
    "#NAIP_2016_rgbn_ndvi_lacounty = add_NDVI(NAIP_2016_rgbn_lacounty)\n",
    "#NAIP_2014_rgbn_ndvi_lacounty = add_NDVI(NAIP_2014_rgbn_lacounty)\n",
    "#NAIP_2012_rgbn_ndvi_lacounty = add_NDVI(NAIP_2012_rgbn_lacounty)\n",
    "#NAIP_2010_rgbn_ndvi_lacounty = add_NDVI(NAIP_2010_rgbn_lacounty)"
   ]
  },
  {
   "cell_type": "code",
   "execution_count": 20,
   "metadata": {},
   "outputs": [
    {
     "data": {
      "text/plain": [
       "['R',\n",
       " 'G',\n",
       " 'B',\n",
       " 'N',\n",
       " 'R_Entropy',\n",
       " 'R_Contrast',\n",
       " 'R_Gearys',\n",
       " 'G_Entropy',\n",
       " 'G_Contrast',\n",
       " 'G_Gearys',\n",
       " 'B_Entropy',\n",
       " 'B_Contrast',\n",
       " 'B_Gearys',\n",
       " 'N_Entropy',\n",
       " 'N_Contrast',\n",
       " 'N_Gearys',\n",
       " 'NDVI']"
      ]
     },
     "execution_count": 20,
     "metadata": {},
     "output_type": "execute_result"
    }
   ],
   "source": [
    "NAIP_2020_rgbn_ndvi_lacounty.bandNames().getInfo()"
   ]
  },
  {
   "cell_type": "code",
   "execution_count": 45,
   "metadata": {},
   "outputs": [],
   "source": [
    "Map.addLayer(NAIP_2020_rgbn_ndvi_lacounty,{}, 'NDVI_2020_rgbn')"
   ]
  },
  {
   "cell_type": "code",
   "execution_count": 46,
   "metadata": {},
   "outputs": [
    {
     "data": {
      "application/vnd.jupyter.widget-view+json": {
       "model_id": "8fedda1e0e764b2aaf51aa73443b2f6e",
       "version_major": 2,
       "version_minor": 0
      },
      "text/plain": [
       "Map(center=[20, 0], controls=(WidgetControl(options=['position', 'transparent_bg'], widget=HBox(children=(Togg…"
      ]
     },
     "metadata": {},
     "output_type": "display_data"
    }
   ],
   "source": [
    "Map"
   ]
  },
  {
   "cell_type": "markdown",
   "metadata": {},
   "source": [
    "## Load Labeled Data"
   ]
  },
  {
   "cell_type": "code",
   "execution_count": 21,
   "metadata": {},
   "outputs": [],
   "source": [
    "## Loading feature collections from Google Earth Engine\n",
    "\n",
    "#water = ee.FeatureCollection(\"projects/california-lawn-detection/assets/water_torrance\")\n",
    "water = ee.FeatureCollection(\"projects/california-lawn-detection/assets/water_torrance_0610\")\n",
    "vegetation_trees = ee.FeatureCollection(\"projects/california-lawn-detection/assets/trees_torrance\")\n",
    "vegetation_grass = ee.FeatureCollection(\"projects/california-lawn-detection/assets/grass_torrance\").limit(400)\n",
    "turf_1 = ee.FeatureCollection(\"projects/california-lawn-detection/assets/turf_torrance1\")\n",
    "turf_2 = ee.FeatureCollection(\"projects/california-lawn-detection/assets/turf_torrance2\")\n",
    "pv = ee.FeatureCollection(\"projects/california-lawn-detection/assets/pv_torrance\")\n",
    "impervious_1 = ee.FeatureCollection(\"projects/california-lawn-detection/assets/impervious_torrance1\").limit(40)\n",
    "impervious_2 = ee.FeatureCollection(\"projects/california-lawn-detection/assets/impervious_torrance2\").limit(40)\n",
    "soil = ee.FeatureCollection(\"projects/california-lawn-detection/assets/soil_torrance\").limit(40)\n",
    "\n",
    "turf = turf_1.merge(turf_2)\n",
    "\n",
    "impervious= impervious_1.merge(impervious_2)\n",
    "\n",
    "#full labeled\n",
    "#labeled_set = water.merge(vegetation_trees).merge(vegetation_grass).merge(turf).merge(pv).merge(impervious).merge(soil)\n",
    "\n",
    "#no soil\n",
    "#labeled_set = water.merge(vegetation_trees).merge(vegetation_grass).merge(turf).merge(pv).merge(impervious)\n",
    "\n",
    "#no pv\n",
    "labeled_set = water.merge(vegetation_trees).merge(vegetation_grass).merge(turf).merge(impervious).merge(soil)\n",
    "\n",
    "Map.addLayer(labeled_set, {}, 'labeled_set')"
   ]
  },
  {
   "cell_type": "code",
   "execution_count": 22,
   "metadata": {},
   "outputs": [
    {
     "data": {
      "application/vnd.jupyter.widget-view+json": {
       "model_id": "81c673b0335b4aabbf952ecefb772293",
       "version_major": 2,
       "version_minor": 0
      },
      "text/plain": [
       "Map(bottom=754.0, center=[20, 0], controls=(WidgetControl(options=['position', 'transparent_bg'], widget=HBox(…"
      ]
     },
     "metadata": {},
     "output_type": "display_data"
    }
   ],
   "source": [
    "Map"
   ]
  },
  {
   "cell_type": "code",
   "execution_count": 23,
   "metadata": {},
   "outputs": [],
   "source": [
    "def training_area(image, training_class):\n",
    "    \n",
    "    area = image.reduceRegion(\n",
    "    reducer = ee.Reducer.count(), \n",
    "    geometry = training_class.geometry(), \n",
    "    scale = 2, \n",
    "    maxPixels = 1e13)\n",
    "\n",
    "    return(area.getInfo().get('B'))"
   ]
  },
  {
   "cell_type": "code",
   "execution_count": 24,
   "metadata": {},
   "outputs": [],
   "source": [
    "def training_polygons(training_class):\n",
    "    return(training_class.aggregate_count('label').getInfo())"
   ]
  },
  {
   "cell_type": "code",
   "execution_count": 25,
   "metadata": {},
   "outputs": [
    {
     "name": "stdout",
     "output_type": "stream",
     "text": [
      "water pixels: 486 , polygons 199\n",
      "vegetation_trees pixels: 17125 , polygons 772\n",
      "vegetation_grass pixels: 23681 , polygons 400\n",
      "turf pixels: 857 , polygons 215\n",
      "pv pixels: 1723 , polygons 344\n",
      "impervious pixels: 20360 , polygons 80\n",
      "soil pixels: 8761 , polygons 40\n"
     ]
    }
   ],
   "source": [
    "# training information\n",
    "training_classes_list = [water,\n",
    "                         vegetation_trees,\n",
    "                         vegetation_grass,\n",
    "                         turf,\n",
    "                         pv,\n",
    "                         impervious,\n",
    "                         soil]\n",
    "\n",
    "training_classes_list_text = ['water',\n",
    "                              'vegetation_trees',\n",
    "                              'vegetation_grass',\n",
    "                              'turf',\n",
    "                              'pv',\n",
    "                              'impervious',\n",
    "                              'soil']\n",
    "n = 0\n",
    "for i in training_classes_list:\n",
    "    area_i = training_area(NAIP_2020_rgbn_ndvi_lacounty, i)\n",
    "    polygons_i = training_polygons(i)\n",
    "    print(training_classes_list_text[n],\"pixels:\", area_i ,\", polygons\", polygons_i)\n",
    "    n += 1"
   ]
  },
  {
   "cell_type": "markdown",
   "metadata": {},
   "source": [
    "## Building Training Set"
   ]
  },
  {
   "cell_type": "code",
   "execution_count": 26,
   "metadata": {},
   "outputs": [],
   "source": [
    "# Overlay the points on the imagery to get training.\n",
    "label = 'landcover'\n",
    "bands = ['R', 'G', 'B', 'N', 'NDVI',\n",
    "         'R_Entropy',\n",
    "         'R_Contrast',\n",
    "         'R_Gearys',\n",
    "         'G_Entropy',\n",
    "         'G_Contrast',\n",
    "         'G_Gearys',\n",
    "         'B_Entropy',\n",
    "         'B_Contrast',\n",
    "         'B_Gearys',\n",
    "         'N_Entropy', \n",
    "         'N_Contrast', \n",
    "         'N_Gearys']\n",
    "\n",
    "training2020 = NAIP_2020_rgbn_ndvi_lacounty.select(bands).sampleRegions(**{\n",
    "  'collection': labeled_set,\n",
    "  'properties': [label],\n",
    "  'scale': 1\n",
    "})"
   ]
  },
  {
   "cell_type": "code",
   "execution_count": 27,
   "metadata": {},
   "outputs": [
    {
     "name": "stdout",
     "output_type": "stream",
     "text": [
      "Labeled Set Size in Pixels 284710\n"
     ]
    }
   ],
   "source": [
    "print(\"Labeled Set Size in Pixels\", training2020.aggregate_count('R').getInfo())"
   ]
  },
  {
   "cell_type": "code",
   "execution_count": 47,
   "metadata": {},
   "outputs": [],
   "source": [
    "#Split Training and Test Set Randomly - there might be a better way to do this\n",
    "\n",
    "sample = training2020\n",
    "sample = sample.randomColumn()\n",
    "trainingSample = sample.filter('random <= 0.8')\n",
    "validationSample = sample.filter('random > 0.8')\n"
   ]
  },
  {
   "cell_type": "code",
   "execution_count": 48,
   "metadata": {},
   "outputs": [
    {
     "name": "stdout",
     "output_type": "stream",
     "text": [
      "Training Set Size in Pixels 227871\n"
     ]
    }
   ],
   "source": [
    "print(\"Training Set Size in Pixels\", trainingSample.aggregate_count('R').getInfo())"
   ]
  },
  {
   "cell_type": "code",
   "execution_count": 49,
   "metadata": {},
   "outputs": [
    {
     "name": "stdout",
     "output_type": "stream",
     "text": [
      "Test Set Size in Pixels 56839\n"
     ]
    }
   ],
   "source": [
    "print(\"Test Set Size in Pixels\", validationSample.aggregate_count('R').getInfo())"
   ]
  },
  {
   "cell_type": "markdown",
   "metadata": {},
   "source": [
    "### Machine Learning Model"
   ]
  },
  {
   "cell_type": "code",
   "execution_count": 31,
   "metadata": {},
   "outputs": [],
   "source": [
    "trained2020 = ee.Classifier.smileRandomForest(numberOfTrees = 100).train(trainingSample, label, bands)"
   ]
  },
  {
   "cell_type": "code",
   "execution_count": 62,
   "metadata": {},
   "outputs": [
    {
     "data": {
      "text/plain": [
       "<ee.Classifier at 0x7fdcda215850>"
      ]
     },
     "execution_count": 62,
     "metadata": {},
     "output_type": "execute_result"
    }
   ],
   "source": [
    "trained2020"
   ]
  },
  {
   "cell_type": "code",
   "execution_count": 71,
   "metadata": {},
   "outputs": [],
   "source": [
    "classified2020 = NAIP_2020_rgbn_ndvi_lacounty.classify(trained2020)"
   ]
  },
  {
   "cell_type": "code",
   "execution_count": 72,
   "metadata": {},
   "outputs": [
    {
     "data": {
      "text/plain": [
       "<ee.image.Image at 0x7fdcda50e190>"
      ]
     },
     "execution_count": 72,
     "metadata": {},
     "output_type": "execute_result"
    }
   ],
   "source": [
    "NAIP_2020_rgbn_ndvi_lacounty.select(bands)"
   ]
  },
  {
   "cell_type": "code",
   "execution_count": 73,
   "metadata": {},
   "outputs": [],
   "source": [
    "#full\n",
    "#legend_keys = ['water', 'vegetation_trees', 'vegetation_grass', 'turf','pv','impervious','soil']\n",
    "#legend_colors = ['#0B6AEF', '#097407', '#0CE708', '#8C46D2','#F7EF02' ,' #A1A8AF','#D47911']\n",
    "\n",
    "#no soil\n",
    "#legend_keys = ['water', 'vegetation_trees', 'vegetation_grass', 'turf','pv','impervious']\n",
    "#legend_colors = ['#0B6AEF', '#097407', '#0CE708', '#8C46D2','#F7EF02' ,' #A1A8AF']\n",
    "\n",
    "#no pv\n",
    "legend_keys = ['water', 'vegetation_trees', 'vegetation_grass', 'turf','impervious','soil']\n",
    "legend_colors = ['#0B6AEF', '#097407', '#0CE708', '#8C46D2' ,' #A1A8AF','#D47911']\n",
    "\n",
    "Map.addLayer(classified2020, {'min': 1, 'max': 7, 'palette': legend_colors}, 'Classification2020')\n",
    "\n",
    "\n",
    "# Map.add_legend(\n",
    "#     legend_keys=legend_keys, legend_colors=legend_colors, position='bottomright'\n",
    "# )"
   ]
  },
  {
   "cell_type": "code",
   "execution_count": 74,
   "metadata": {
    "scrolled": false
   },
   "outputs": [
    {
     "data": {
      "application/vnd.jupyter.widget-view+json": {
       "model_id": "8fedda1e0e764b2aaf51aa73443b2f6e",
       "version_major": 2,
       "version_minor": 0
      },
      "text/plain": [
       "Map(bottom=209216.0, center=[34.29579932143427, -118.4480667114258], controls=(WidgetControl(options=['positio…"
      ]
     },
     "metadata": {},
     "output_type": "display_data"
    }
   ],
   "source": [
    "Map"
   ]
  },
  {
   "cell_type": "markdown",
   "metadata": {},
   "source": [
    "## Evaluation Metrics"
   ]
  },
  {
   "cell_type": "code",
   "execution_count": 34,
   "metadata": {},
   "outputs": [
    {
     "data": {
      "text/plain": [
       "[[0, 0, 0, 0, 0, 0, 0, 0],\n",
       " [0, 1473, 0, 0, 0, 0, 0, 0],\n",
       " [0, 0, 54687, 22, 0, 0, 0, 0],\n",
       " [0, 0, 136, 75610, 0, 0, 3, 1],\n",
       " [0, 0, 0, 0, 2638, 0, 0, 0],\n",
       " [0, 0, 0, 0, 0, 0, 0, 0],\n",
       " [0, 0, 0, 0, 0, 0, 65382, 0],\n",
       " [0, 0, 0, 0, 0, 0, 2, 27917]]"
      ]
     },
     "execution_count": 34,
     "metadata": {},
     "output_type": "execute_result"
    }
   ],
   "source": [
    "train_accuracy = trained2020.confusionMatrix()\n",
    "train_accuracy.getInfo()"
   ]
  },
  {
   "cell_type": "code",
   "execution_count": 35,
   "metadata": {},
   "outputs": [
    {
     "data": {
      "text/plain": [
       "0.9992802945526197"
      ]
     },
     "execution_count": 35,
     "metadata": {},
     "output_type": "execute_result"
    }
   ],
   "source": [
    "train_accuracy.accuracy().getInfo()"
   ]
  },
  {
   "cell_type": "code",
   "execution_count": 36,
   "metadata": {},
   "outputs": [
    {
     "data": {
      "text/plain": [
       "0.9990199881422369"
      ]
     },
     "execution_count": 36,
     "metadata": {},
     "output_type": "execute_result"
    }
   ],
   "source": [
    "train_accuracy.kappa().getInfo()"
   ]
  },
  {
   "cell_type": "code",
   "execution_count": 37,
   "metadata": {},
   "outputs": [
    {
     "data": {
      "text/plain": [
       "[[0, 0, 0, 0, 0, 0, 0, 0],\n",
       " [0, 1473, 0, 0, 0, 0, 0, 0],\n",
       " [0, 0, 54687, 22, 0, 0, 0, 0],\n",
       " [0, 0, 136, 75610, 0, 0, 3, 1],\n",
       " [0, 0, 0, 0, 2638, 0, 0, 0],\n",
       " [0, 0, 0, 0, 0, 0, 0, 0],\n",
       " [0, 0, 0, 0, 0, 0, 65382, 0],\n",
       " [0, 0, 0, 0, 0, 0, 2, 27917]]"
      ]
     },
     "execution_count": 37,
     "metadata": {},
     "output_type": "execute_result"
    }
   ],
   "source": [
    "test_accuracy = trained2020.confusionMatrix()\n",
    "train_accuracy.getInfo()"
   ]
  },
  {
   "cell_type": "markdown",
   "metadata": {},
   "source": [
    "### Test Accuracy"
   ]
  },
  {
   "cell_type": "code",
   "execution_count": 56,
   "metadata": {},
   "outputs": [],
   "source": [
    "validated = validationSample.classify(trained2020)"
   ]
  },
  {
   "cell_type": "code",
   "execution_count": 57,
   "metadata": {},
   "outputs": [],
   "source": [
    "test_accuracy = validated.errorMatrix('landcover', 'classification')"
   ]
  },
  {
   "cell_type": "code",
   "execution_count": 58,
   "metadata": {},
   "outputs": [
    {
     "data": {
      "text/plain": [
       "[[0, 0, 0, 0, 0, 0, 0, 0],\n",
       " [0, 393, 0, 0, 1, 0, 0, 0],\n",
       " [0, 0, 13324, 363, 2, 0, 10, 5],\n",
       " [0, 0, 692, 18259, 3, 0, 22, 15],\n",
       " [0, 0, 29, 2, 606, 0, 15, 0],\n",
       " [0, 0, 0, 0, 0, 0, 0, 0],\n",
       " [0, 0, 3, 0, 4, 0, 16078, 11],\n",
       " [0, 0, 2, 26, 0, 0, 10, 6964]]"
      ]
     },
     "execution_count": 58,
     "metadata": {},
     "output_type": "execute_result"
    }
   ],
   "source": [
    "test_accuracy.getInfo()"
   ]
  },
  {
   "cell_type": "code",
   "execution_count": 59,
   "metadata": {},
   "outputs": [
    {
     "data": {
      "text/plain": [
       "0.9786238322278717"
      ]
     },
     "execution_count": 59,
     "metadata": {},
     "output_type": "execute_result"
    }
   ],
   "source": [
    "test_accuracy.accuracy().getInfo()"
   ]
  },
  {
   "cell_type": "code",
   "execution_count": 61,
   "metadata": {},
   "outputs": [],
   "source": [
    "# test_accuracy.kappa().getInfo()"
   ]
  },
  {
   "cell_type": "markdown",
   "metadata": {},
   "source": [
    "## Binary Classification and Area Calculation"
   ]
  },
  {
   "cell_type": "code",
   "execution_count": 43,
   "metadata": {},
   "outputs": [],
   "source": [
    "def area_calculation(image, class_number, shape, pixel_scale):\n",
    "    \n",
    "    areaImage = image.eq(class_number).multiply(ee.Image.pixelArea())\n",
    "    \n",
    "    area = areaImage.reduceRegion(\n",
    "        reducer = ee.Reducer.sum(), \n",
    "        geometry = shape.geometry(), \n",
    "        scale = pixel_scale, \n",
    "        maxPixels = 1e13)\n",
    "    \n",
    "    area_sq_m = area.getInfo().get('classification')\n",
    "    \n",
    "    area_sq_km = area_sq_m / 1e6\n",
    "    \n",
    "    return area_sq_km"
   ]
  },
  {
   "cell_type": "code",
   "execution_count": 44,
   "metadata": {},
   "outputs": [],
   "source": [
    "water_area = area_calculation(classified2020, 1, la_county, 20)\n",
    "vegetation_trees_area = area_calculation(classified2020, 2, la_county, 20)\n",
    "vegetation_grass_area = area_calculation(classified2020, 3, la_county, 20)\n",
    "turf_area = area_calculation(classified2020, 4, la_county, 20)\n",
    "impervious_area = area_calculation(classified2020, 6, la_county, 20)\n",
    "soil_area = area_calculation(classified2020, 7, la_county, 20)\n",
    "\n",
    "total_area = water_area + vegetation_trees_area + vegetation_grass_area + turf_area + impervious_area + soil_area\n",
    "\n",
    "water_percentage = water_area / total_area\n",
    "vegetation_trees_percentage = vegetation_trees_area / total_area\n",
    "vegetation_grass_percentage = vegetation_grass_area / total_area\n",
    "turf_percentage = turf_area / total_area\n",
    "impervious_percentage = impervious_area / total_area\n",
    "soil_percentage = soil_area / total_area"
   ]
  },
  {
   "cell_type": "markdown",
   "metadata": {},
   "source": [
    "## Image to Array (In progress)"
   ]
  },
  {
   "cell_type": "code",
   "execution_count": 74,
   "metadata": {},
   "outputs": [],
   "source": [
    "# image_array = classified2020.toArray()\n",
    "image_array= NAIP_2020_rgbn"
   ]
  },
  {
   "cell_type": "code",
   "execution_count": 75,
   "metadata": {},
   "outputs": [
    {
     "data": {
      "text/plain": [
       "<ee.image.Image at 0x7fb178cc3f70>"
      ]
     },
     "execution_count": 75,
     "metadata": {},
     "output_type": "execute_result"
    }
   ],
   "source": [
    "image_array"
   ]
  },
  {
   "cell_type": "code",
   "execution_count": 118,
   "metadata": {},
   "outputs": [],
   "source": [
    "aoi = ee.Geometry.Polygon(\n",
    "  [[[-118.4,34.0],\n",
    "[-118.4,34.1],\n",
    "[-118.3,34.1],\n",
    "[-118.3,34.0]]])"
   ]
  },
  {
   "cell_type": "code",
   "execution_count": 119,
   "metadata": {},
   "outputs": [],
   "source": [
    "band_arrs=image_array.sampleRectangle(region=aoi)"
   ]
  },
  {
   "cell_type": "code",
   "execution_count": 126,
   "metadata": {},
   "outputs": [],
   "source": [
    "band_arr_b = band_arrs.get('G')"
   ]
  },
  {
   "cell_type": "code",
   "execution_count": 127,
   "metadata": {},
   "outputs": [],
   "source": [
    "np_arr_b = np.array(band_arr_b.getInfo())"
   ]
  },
  {
   "cell_type": "code",
   "execution_count": 128,
   "metadata": {},
   "outputs": [
    {
     "data": {
      "text/plain": [
       "(1, 1)"
      ]
     },
     "execution_count": 128,
     "metadata": {},
     "output_type": "execute_result"
    }
   ],
   "source": [
    "np_arr_b.shape"
   ]
  },
  {
   "cell_type": "code",
   "execution_count": 131,
   "metadata": {},
   "outputs": [
    {
     "name": "stdout",
     "output_type": "stream",
     "text": [
      "(373, 531)\n",
      "(373, 531)\n",
      "(373, 531)\n",
      "(373, 531, 1)\n",
      "(373, 531, 1)\n",
      "(373, 531, 1)\n",
      "(373, 531, 3)\n"
     ]
    },
    {
     "data": {
      "image/png": "[encoded data removed]",
      "text/plain": [
       "<Figure size 432x288 with 1 Axes>"
      ]
     },
     "metadata": {
      "needs_background": "light"
     },
     "output_type": "display_data"
    }
   ],
   "source": [
    "# Define an image.\n",
    "img = ee.Image('LANDSAT/LC08/C01/T1_SR/LC08_038029_20180810') \\\n",
    "  .select(['B4', 'B5', 'B6'])\n",
    "\n",
    "# Define an area of interest.\n",
    "aoi = ee.Geometry.Polygon(\n",
    "  [[[-110.8, 44.7],\n",
    "    [-110.8, 44.6],\n",
    "    [-110.6, 44.6],\n",
    "    [-110.6, 44.7]]], None, False)\n",
    "\n",
    "# Get 2-d pixel array for AOI - returns feature with 2-D pixel array as property per band.\n",
    "band_arrs = img.sampleRectangle(region=aoi)\n",
    "\n",
    "# Get individual band arrays.\n",
    "band_arr_b4 = band_arrs.get('B4')\n",
    "band_arr_b5 = band_arrs.get('B5')\n",
    "band_arr_b6 = band_arrs.get('B6')\n",
    "\n",
    "# Transfer the arrays from server to client and cast as np array.\n",
    "np_arr_b4 = np.array(band_arr_b4.getInfo())\n",
    "np_arr_b5 = np.array(band_arr_b5.getInfo())\n",
    "np_arr_b6 = np.array(band_arr_b6.getInfo())\n",
    "print(np_arr_b4.shape)\n",
    "print(np_arr_b5.shape)\n",
    "print(np_arr_b6.shape)\n",
    "\n",
    "# Expand the dimensions of the images so they can be concatenated into 3-D.\n",
    "np_arr_b4 = np.expand_dims(np_arr_b4, 2)\n",
    "np_arr_b5 = np.expand_dims(np_arr_b5, 2)\n",
    "np_arr_b6 = np.expand_dims(np_arr_b6, 2)\n",
    "print(np_arr_b4.shape)\n",
    "print(np_arr_b5.shape)\n",
    "print(np_arr_b6.shape)\n",
    "\n",
    "# Stack the individual bands to make a 3-D array.\n",
    "rgb_img = np.concatenate((np_arr_b6, np_arr_b5, np_arr_b4), 2)\n",
    "print(rgb_img.shape)\n",
    "\n",
    "# Scale the data to [0, 255] to show as an RGB image.\n",
    "rgb_img_test = (255*((rgb_img - 100)/3500)).astype('uint8')\n",
    "plt.imshow(rgb_img_test)\n",
    "plt.show()"
   ]
  },
  {
   "cell_type": "code",
   "execution_count": 103,
   "metadata": {},
   "outputs": [],
   "source": [
    "combined_img = ee.ImageCollection([img_1, img_2]).mosaic()"
   ]
  },
  {
   "cell_type": "code",
   "execution_count": null,
   "metadata": {},
   "outputs": [],
   "source": []
  },
  {
   "cell_type": "code",
   "execution_count": null,
   "metadata": {},
   "outputs": [],
   "source": []
  },
  {
   "cell_type": "code",
   "execution_count": null,
   "metadata": {},
   "outputs": [],
   "source": []
  },
  {
   "cell_type": "code",
   "execution_count": null,
   "metadata": {},
   "outputs": [],
   "source": []
  }
 ],
 "metadata": {
  "kernelspec": {
   "display_name": "Python 3",
   "language": "python",
   "name": "python3"
  },
  "language_info": {
   "codemirror_mode": {
    "name": "ipython",
    "version": 3
   },
   "file_extension": ".py",
   "mimetype": "text/x-python",
   "name": "python",
   "nbconvert_exporter": "python",
   "pygments_lexer": "ipython3",
   "version": "3.8.5"
  }
 },
 "nbformat": 4,
 "nbformat_minor": 5
}
