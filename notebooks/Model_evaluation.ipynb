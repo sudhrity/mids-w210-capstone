{
 "cells": [
  {
   "cell_type": "markdown",
   "id": "f1b600c4",
   "metadata": {
    "id": "f1b600c4"
   },
   "source": [
    "## Initialize"
   ]
  },
  {
   "cell_type": "code",
   "execution_count": 1,
   "id": "6aaef627",
   "metadata": {},
   "outputs": [],
   "source": [
    "import json\n",
    "import os\n",
    "import itertools\n",
    "import math\n",
    "\n",
    "import ee\n",
    "import geemap\n",
    "import pandas as pd\n",
    "import numpy as np\n",
    "import matplotlib.pyplot as plt\n",
    "import tensorflow as tf\n",
    "from tensorflow import keras\n",
    "from sklearn.metrics import classification_report, ConfusionMatrixDisplay\n",
    "from matplotlib.colors import ListedColormap"
   ]
  },
  {
   "cell_type": "code",
   "execution_count": 2,
   "id": "07092838",
   "metadata": {},
   "outputs": [
    {
     "name": "stdout",
     "output_type": "stream",
     "text": [
      "Num GPUs Available: 1\n"
     ]
    },
    {
     "name": "stderr",
     "output_type": "stream",
     "text": [
      "2022-07-21 19:56:36.970694: I tensorflow/stream_executor/cuda/cuda_gpu_executor.cc:936] successful NUMA node read from SysFS had negative value (-1), but there must be at least one NUMA node, so returning NUMA node zero\n",
      "2022-07-21 19:56:36.980576: I tensorflow/stream_executor/cuda/cuda_gpu_executor.cc:936] successful NUMA node read from SysFS had negative value (-1), but there must be at least one NUMA node, so returning NUMA node zero\n",
      "2022-07-21 19:56:36.983239: I tensorflow/stream_executor/cuda/cuda_gpu_executor.cc:936] successful NUMA node read from SysFS had negative value (-1), but there must be at least one NUMA node, so returning NUMA node zero\n"
     ]
    }
   ],
   "source": [
    "# Check number of available GPUs\n",
    "n_gpus = len(tf.config.list_physical_devices('GPU'))\n",
    "assert n_gpus >= 1\n",
    "print(\"Num GPUs Available:\", n_gpus)"
   ]
  },
  {
   "cell_type": "code",
   "execution_count": 3,
   "id": "2bf9b8c4",
   "metadata": {
    "colab": {
     "base_uri": "https://localhost:8080/"
    },
    "id": "2bf9b8c4",
    "outputId": "51de3b2c-7998-45eb-d39b-f0d307b84740",
    "scrolled": true
   },
   "outputs": [],
   "source": [
    "#Initialize Google Earth Engine\n",
    "#just needed the 1st time\n",
    "# ee.Authenticate() \n",
    "ee.Initialize()"
   ]
  },
  {
   "cell_type": "markdown",
   "id": "50e5b42a",
   "metadata": {},
   "source": [
    "## Define Globals"
   ]
  },
  {
   "cell_type": "code",
   "execution_count": 4,
   "id": "0b8b282e",
   "metadata": {
    "colab": {
     "base_uri": "https://localhost:8080/",
     "height": 17,
     "referenced_widgets": [
      "57521180d256424c974c1184813bf5f4"
     ]
    },
    "id": "0b8b282e",
    "outputId": "aff1cb3c-46b2-4025-f839-2007c003190e"
   },
   "outputs": [],
   "source": [
    "# Define classes\n",
    "CLASSES = ['water',\n",
    "           'vegetation_trees',\n",
    "           'vegetation_grass',\n",
    "           'turf',\n",
    "           'impervious',\n",
    "           'soil']\n",
    "\n",
    "OLD_CLASSES = ['water_pools'] + CLASSES[1:]\n",
    "\n",
    "# Change classes to include lakes\n",
    "NEW_CLASSES = OLD_CLASSES + ['water_natural']\n",
    "NEW_CLASSES[0] = 'water_pools'\n",
    "\n",
    "# Get class lengths\n",
    "OLD_N_CLASSES = len(OLD_CLASSES)\n",
    "NEW_N_CLASSES = len(NEW_CLASSES)\n",
    "\n",
    "# Define the  bands\n",
    "NBANDS = ['R', \n",
    "         'G', \n",
    "         'B', \n",
    "         'N', \n",
    "         'NDVI',\n",
    "         'N_Entropy', \n",
    "         'N_Contrast', \n",
    "         'N_Gearys']\n",
    "\n",
    "ALL_BANDS = NBANDS + ['R_Entropy',\n",
    "                      'R_Contrast',\n",
    "                      'R_Gearys',\n",
    "                      'G_Entropy',\n",
    "                      'G_Contrast',\n",
    "                      'G_Gearys',\n",
    "                      'B_Entropy',\n",
    "                      'B_Contrast',\n",
    "                      'B_Gearys']"
   ]
  },
  {
   "cell_type": "code",
   "execution_count": 5,
   "id": "da804195",
   "metadata": {},
   "outputs": [],
   "source": [
    "# Select desired band set\n",
    "BANDS = NBANDS"
   ]
  },
  {
   "cell_type": "code",
   "execution_count": 6,
   "id": "eaa55293",
   "metadata": {
    "scrolled": true
   },
   "outputs": [
    {
     "data": {
      "application/vnd.jupyter.widget-view+json": {
       "model_id": "4b4d0532286d4579921168f266b9cab3",
       "version_major": 2,
       "version_minor": 0
      },
      "text/plain": [
       "Map(center=[20, 0], controls=(WidgetControl(options=['position', 'transparent_bg'], widget=HBox(children=(Togg…"
      ]
     },
     "metadata": {},
     "output_type": "display_data"
    }
   ],
   "source": [
    "# Check if geemap is working as intended - plot the leaflet map\n",
    "Map = geemap.Map()\n",
    "Map"
   ]
  },
  {
   "cell_type": "markdown",
   "id": "oK8aqN7U5u7A",
   "metadata": {
    "id": "oK8aqN7U5u7A"
   },
   "source": [
    "## Read in CSV data"
   ]
  },
  {
   "cell_type": "code",
   "execution_count": 8,
   "id": "76bd6a6a",
   "metadata": {},
   "outputs": [],
   "source": [
    "def read_data(file, classes=None, shuffle=True):\n",
    "    \n",
    "    '''\n",
    "    Read data and reshape for CNN input\n",
    "    '''\n",
    "        \n",
    "    # Read in data and shuffle\n",
    "    data = pd.read_csv(file).to_numpy()\n",
    "    if shuffle:\n",
    "        np.random.shuffle(data)\n",
    "\n",
    "    # Split into X and Y\n",
    "    X, Y = data[:,:-1], data[:, -1].astype(int)\n",
    "    \n",
    "    # Print class counts if labels are specified\n",
    "    if classes:\n",
    "        _, counts = np.unique(Y, return_counts=True)\n",
    "        print(file)\n",
    "        df = pd.DataFrame({'class': classes, 'counts': counts})\n",
    "        df['proportion'] = df['counts']/df['counts'].sum()\n",
    "        print(df)\n",
    "        print()\n",
    "\n",
    "    # Convert Y to sparse dataset\n",
    "    sparse_Y = np.zeros((Y.size, Y.max()+1))\n",
    "    sparse_Y[np.arange(Y.size), Y] = 1\n",
    "\n",
    "    # Reshape for 1x1 kernel convolutions\n",
    "    conv_X = X.reshape((X.shape[0], 1, 1, X.shape[1]))\n",
    "    conv_sparse_Y = sparse_Y.reshape((sparse_Y.shape[0], 1, 1, sparse_Y.shape[1]))\n",
    "        \n",
    "    return conv_X, conv_sparse_Y"
   ]
  },
  {
   "cell_type": "markdown",
   "id": "C1NdzIoK3I2R",
   "metadata": {
    "id": "C1NdzIoK3I2R"
   },
   "source": [
    "## Evaluate model"
   ]
  },
  {
   "cell_type": "markdown",
   "id": "gvgfCt4QiuPr",
   "metadata": {
    "id": "gvgfCt4QiuPr"
   },
   "source": [
    "### Custom F1 Metric"
   ]
  },
  {
   "cell_type": "code",
   "execution_count": 9,
   "id": "xKOVZ5AYA-JW",
   "metadata": {
    "id": "xKOVZ5AYA-JW"
   },
   "outputs": [],
   "source": [
    "class MultiClassFBeta(keras.metrics.Metric):\n",
    "    '''\n",
    "    Define a custom F-beta metric class to optimize against\n",
    "    during hyperparameter tuning. Class can perform F-beta calcutions\n",
    "    for macro, weighted, and raw scores for any value of beta.\n",
    "    \n",
    "    Default is macro F1 score.\n",
    "    '''\n",
    "    \n",
    "    def __init__(self,  n_class=OLD_N_CLASSES, name=None, beta=1, average='macro',\n",
    "                 epsilon=1e-7, **kwargs):\n",
    "        \n",
    "        # If name is not provided, set default name\n",
    "        if not name:\n",
    "            name = f\"{average}_f{beta}\"\n",
    "\n",
    "        # initializing an object of the Metric super class\n",
    "        super(MultiClassFBeta, self).__init__(name=name, **kwargs)\n",
    "\n",
    "        # initializing static variables \n",
    "        self.beta_squared = beta**2\n",
    "        self.n_class = n_class\n",
    "        self.average = average\n",
    "        self.epsilon = epsilon\n",
    "\n",
    "        # initializing state variables\n",
    "        self.tp = self.add_weight(name='tp', \n",
    "                                  shape=(self.n_class,), \n",
    "                                  initializer='zeros')     # initializing true positives\n",
    "        self.actual_positives = self.add_weight(name='ap', \n",
    "                                                shape=(self.n_class,), \n",
    "                                                initializer='zeros') # initializing actual positives\n",
    "        self.predicted_positives = self.add_weight(name='pp',\n",
    "                                                   shape=(self.n_class,), \n",
    "                                                   initializer='zeros') # initializing predicted positives\n",
    "\n",
    "    \n",
    "    def update_state(self, ytrue, ypred, sample_weight=None):\n",
    "\n",
    "        '''\n",
    "        Updates the metrics to preserve the running state\n",
    "        '''\n",
    "\n",
    "        # casting ytrue and ypred as float dtype\n",
    "        ytrue = tf.cast(ytrue, tf.float32)\n",
    "        ypred = tf.cast(ypred, tf.float32)\n",
    "\n",
    "        # finding the maximum probability in ypred\n",
    "        max_prob = tf.reduce_max(ypred, axis=-1, keepdims=True)\n",
    "\n",
    "        # making ypred one hot encoded such that the class with the maximum probability \n",
    "        # as encoded as 1 while others as 0\n",
    "        ypred = tf.cast(tf.equal(ypred, max_prob), tf.float32)\n",
    "\n",
    "        # Calculate TP, PP, AP\n",
    "        TP = tf.reshape(tf.reduce_sum(ytrue*ypred, axis=0), [self.n_class])\n",
    "        PP = tf.reshape(tf.reduce_sum(ypred, axis=0), [self.n_class])\n",
    "        AP = tf.reshape(tf.reduce_sum(ytrue, axis=0), [self.n_class])\n",
    "\n",
    "        self.tp.assign_add(TP) # updating true positives atrribute\n",
    "        self.predicted_positives.assign_add(PP) # updating predicted positives atrribute\n",
    "        self.actual_positives.assign_add(AP) # updating actual positives atrribute\n",
    "\n",
    "    def result(self):\n",
    "    \n",
    "        '''\n",
    "        Performs final metric computations and returns result\n",
    "        '''\n",
    "\n",
    "        self.precision = self.tp/(self.predicted_positives+self.epsilon) # calculates precision\n",
    "        self.recall = self.tp/(self.actual_positives+self.epsilon) # calculates recall\n",
    "\n",
    "        # calculating fbeta score\n",
    "        self.fb = (1+self.beta_squared)*self.precision*self.recall / (self.beta_squared*self.precision + self.recall + self.epsilon)\n",
    "\n",
    "        if self.average == 'weighted':\n",
    "            return tf.reduce_sum(self.fb*self.actual_positives / tf.reduce_sum(self.actual_positives))\n",
    "\n",
    "        elif self.average == 'raw':\n",
    "            return self.fb\n",
    "\n",
    "        return tf.reduce_mean(self.fb)\n",
    "\n",
    "    def reset_state(self):\n",
    "        \n",
    "        '''\n",
    "        Reset the tracked metrics (state)\n",
    "        '''\n",
    "\n",
    "        self.tp.assign(tf.zeros(self.n_class)) # resets true positives to zero\n",
    "        self.predicted_positives.assign(tf.zeros(self.n_class)) # resets predicted positives to zero\n",
    "        self.actual_positives.assign(tf.zeros(self.n_class)) # resets actual positives to zero"
   ]
  },
  {
   "cell_type": "markdown",
   "id": "fc964388",
   "metadata": {},
   "source": [
    "## Reports and Metrics"
   ]
  },
  {
   "cell_type": "code",
   "execution_count": 10,
   "id": "65b8141c",
   "metadata": {},
   "outputs": [],
   "source": [
    "def get_classification_report(model, X, y_true, class_names, save_dir=None):\n",
    "    \n",
    "    # Get model predictions\n",
    "    y_probs = model.predict(X)\n",
    "    y_preds = y_probs.argmax(axis=-1)\n",
    "\n",
    "    # If conv output, convert to 1d array\n",
    "    if len(y_preds.shape) > 2:\n",
    "        y_preds = y_preds.reshape(-1, 1)\n",
    "        \n",
    "    # If conv input, convert Y to 1d array\n",
    "    if len(y_true.shape) > 2:\n",
    "        n_classes = y_true.shape[-1]\n",
    "        y_true = np.argmax(y_true.reshape(-1, n_classes), axis=1)\n",
    "    \n",
    "    # Get the classification report\n",
    "    report = classification_report(y_true, y_preds, target_names=class_names)\n",
    "    \n",
    "    # Save the report if directory specified\n",
    "    if save_dir:\n",
    "        save_report = classification_report(y_true, y_preds, target_names=class_names, \n",
    "                                            output_dict=True)\n",
    "        df = pd.DataFrame(save_report).transpose()\n",
    "        df.to_csv(save_dir)\n",
    "    \n",
    "    return report, y_true, y_preds, y_probs"
   ]
  },
  {
   "cell_type": "code",
   "execution_count": 11,
   "id": "fe3f9420",
   "metadata": {},
   "outputs": [],
   "source": [
    "def create_cmap(R, G, B, increasing_gradient=True, color_scale=256, mult=1):\n",
    "    \n",
    "    # Initialize colormap array\n",
    "    color_vals = np.ones((color_scale, 4))\n",
    "    \n",
    "    # Calculate pixel value range for R,G,B\n",
    "    R_start, R_end = R+(1-R)*(1-mult), R+(1-R)*(mult)\n",
    "    G_start, G_end = G+(1-G)*(1-mult), G+(1-G)*(mult)\n",
    "    B_start, B_end = B+(1-B)*(1-mult), B+(1-B)*(mult)\n",
    "    \n",
    "    bands = [(R_start, R_end), (G_start, G_end), (B_start, B_end)]\n",
    "\n",
    "    # Create range of pixel values for R,G,B\n",
    "    for i, color in enumerate(bands):   \n",
    "        color_vals[:, i] = np.linspace(*color, color_scale)\n",
    "        if increasing_gradient:\n",
    "            color_vals[:, i] = color_vals[:, i][::-1]\n",
    "    \n",
    "    # Create colormap\n",
    "    cmap = ListedColormap(color_vals)\n",
    "    \n",
    "    return cmap    "
   ]
  },
  {
   "cell_type": "code",
   "execution_count": 12,
   "id": "81f7c507",
   "metadata": {},
   "outputs": [],
   "source": [
    "def plot_confusion_matrix(y_true, y_preds, save_cm_dir=None, **kwargs):\n",
    "    \n",
    "    # Plot the CM\n",
    "    ConfusionMatrixDisplay.from_predictions(y_true, y_preds, **kwargs)\n",
    "    \n",
    "    # Save the CM if directory specified\n",
    "    if save_cm_dir:\n",
    "        plt.savefig(save_cm_dir)"
   ]
  },
  {
   "cell_type": "markdown",
   "id": "70557878",
   "metadata": {},
   "source": [
    "## Old Model"
   ]
  },
  {
   "cell_type": "code",
   "execution_count": 13,
   "id": "37041c99",
   "metadata": {},
   "outputs": [],
   "source": [
    "# File names for the training and testing datasets\n",
    "IMAGES_DIR = '../datasets/GoogleEarth'\n",
    "TRAIN_FILE_PREFIX = 'training_Nonly_0709'\n",
    "TEST_FILE_PREFIX = 'testing_extra_Nbands_0714' \n",
    "FILE_EXT = '.csv'\n",
    "\n",
    "CSV_TRAIN_FILE_PATH = os.path.join(IMAGES_DIR, (TRAIN_FILE_PREFIX + FILE_EXT))\n",
    "CSV_TEST_FILE_PATH = os.path.join(IMAGES_DIR, (TEST_FILE_PREFIX + FILE_EXT))"
   ]
  },
  {
   "cell_type": "code",
   "execution_count": 14,
   "id": "6c3cbdb6",
   "metadata": {},
   "outputs": [
    {
     "name": "stdout",
     "output_type": "stream",
     "text": [
      "../datasets/GoogleEarth/training_Nonly_0709.csv\n",
      "              class  counts  proportion\n",
      "0       water_pools    2336    0.009386\n",
      "1  vegetation_trees   68413    0.274888\n",
      "2  vegetation_grass   94741    0.380676\n",
      "3              turf    3290    0.013219\n",
      "4        impervious   71101    0.285688\n",
      "5              soil    8995    0.036142\n",
      "\n",
      "../datasets/GoogleEarth/testing_extra_Nbands_0714.csv\n",
      "              class  counts  proportion\n",
      "0       water_pools     684    0.015152\n",
      "1  vegetation_trees    4770    0.105662\n",
      "2  vegetation_grass    8521    0.188752\n",
      "3              turf    2635    0.058369\n",
      "4        impervious    7006    0.155192\n",
      "5              soil   21528    0.476874\n",
      "\n"
     ]
    }
   ],
   "source": [
    "# Set the seed for data shuffle\n",
    "# np.random.seed(123)\n",
    "\n",
    "old_conv_train_X, old_conv_sparse_train_Y = read_data(CSV_TRAIN_FILE_PATH, OLD_CLASSES, shuffle=False)\n",
    "old_conv_test_X, old_conv_sparse_test_Y = read_data(CSV_TEST_FILE_PATH, OLD_CLASSES, shuffle=False)"
   ]
  },
  {
   "cell_type": "code",
   "execution_count": 15,
   "id": "4e453aad",
   "metadata": {},
   "outputs": [
    {
     "data": {
      "text/plain": [
       "((248876, 1, 1, 8), (248876, 1, 1, 6))"
      ]
     },
     "execution_count": 15,
     "metadata": {},
     "output_type": "execute_result"
    }
   ],
   "source": [
    "old_conv_train_X.shape, old_conv_sparse_train_Y.shape"
   ]
  },
  {
   "cell_type": "code",
   "execution_count": 16,
   "id": "8a0809ef",
   "metadata": {},
   "outputs": [
    {
     "data": {
      "text/plain": [
       "((45144, 1, 1, 8), (45144, 1, 1, 6))"
      ]
     },
     "execution_count": 16,
     "metadata": {},
     "output_type": "execute_result"
    }
   ],
   "source": [
    "old_conv_test_X.shape, old_conv_sparse_test_Y.shape"
   ]
  },
  {
   "cell_type": "code",
   "execution_count": 17,
   "id": "Av-IEflWbB4s",
   "metadata": {
    "colab": {
     "base_uri": "https://localhost:8080/"
    },
    "id": "Av-IEflWbB4s",
    "outputId": "46a7e2fe-965e-43f4-9926-a6538d6a301f"
   },
   "outputs": [
    {
     "name": "stderr",
     "output_type": "stream",
     "text": [
      "2022-07-21 19:58:04.198631: I tensorflow/core/platform/cpu_feature_guard.cc:151] This TensorFlow binary is optimized with oneAPI Deep Neural Network Library (oneDNN) to use the following CPU instructions in performance-critical operations:  AVX2 AVX512F FMA\n",
      "To enable them in other operations, rebuild TensorFlow with the appropriate compiler flags.\n",
      "2022-07-21 19:58:04.199092: I tensorflow/stream_executor/cuda/cuda_gpu_executor.cc:936] successful NUMA node read from SysFS had negative value (-1), but there must be at least one NUMA node, so returning NUMA node zero\n",
      "2022-07-21 19:58:04.202410: I tensorflow/stream_executor/cuda/cuda_gpu_executor.cc:936] successful NUMA node read from SysFS had negative value (-1), but there must be at least one NUMA node, so returning NUMA node zero\n",
      "2022-07-21 19:58:04.205096: I tensorflow/stream_executor/cuda/cuda_gpu_executor.cc:936] successful NUMA node read from SysFS had negative value (-1), but there must be at least one NUMA node, so returning NUMA node zero\n",
      "2022-07-21 19:58:04.884953: I tensorflow/stream_executor/cuda/cuda_gpu_executor.cc:936] successful NUMA node read from SysFS had negative value (-1), but there must be at least one NUMA node, so returning NUMA node zero\n",
      "2022-07-21 19:58:04.886812: I tensorflow/stream_executor/cuda/cuda_gpu_executor.cc:936] successful NUMA node read from SysFS had negative value (-1), but there must be at least one NUMA node, so returning NUMA node zero\n",
      "2022-07-21 19:58:04.888382: I tensorflow/stream_executor/cuda/cuda_gpu_executor.cc:936] successful NUMA node read from SysFS had negative value (-1), but there must be at least one NUMA node, so returning NUMA node zero\n",
      "2022-07-21 19:58:04.889902: I tensorflow/core/common_runtime/gpu/gpu_device.cc:1525] Created device /job:localhost/replica:0/task:0/device:GPU:0 with 13598 MB memory:  -> device: 0, name: Tesla T4, pci bus id: 0000:00:1e.0, compute capability: 7.5\n",
      "2022-07-21 19:58:06.473826: I tensorflow/stream_executor/cuda/cuda_dnn.cc:368] Loaded cuDNN version 8400\n"
     ]
    },
    {
     "name": "stdout",
     "output_type": "stream",
     "text": [
      "1411/1411 [==============================] - 5s 2ms/step - loss: 0.3699 - macro_f1: 0.9018 - accuracy: 0.8933\n"
     ]
    },
    {
     "data": {
      "text/plain": [
       "[0.36986345052719116, 0.9018068909645081, 0.8933413028717041]"
      ]
     },
     "execution_count": 17,
     "metadata": {},
     "output_type": "execute_result"
    }
   ],
   "source": [
    "# Load and evaluate model to test it's the same performance\n",
    "save_dir = '../models/CNN_Nbands_model_1657481355.138141'\n",
    "old_cnn_model = tf.keras.models.load_model(save_dir, custom_objects={'MultiClassFBeta': MultiClassFBeta})\n",
    "old_cnn_model.evaluate(old_conv_test_X, old_conv_sparse_test_Y)"
   ]
  },
  {
   "cell_type": "code",
   "execution_count": 61,
   "id": "8cbeeac7",
   "metadata": {},
   "outputs": [
    {
     "name": "stdout",
     "output_type": "stream",
     "text": [
      "Model: \"sequential\"\n",
      "_________________________________________________________________\n",
      " Layer (type)                Output Shape              Param #   \n",
      "=================================================================\n",
      " conv2d (Conv2D)             (None, None, None, 32)    288       \n",
      "                                                                 \n",
      " dropout (Dropout)           (None, None, None, 32)    0         \n",
      "                                                                 \n",
      " conv2d_1 (Conv2D)           (None, None, None, 32)    1056      \n",
      "                                                                 \n",
      " dropout_1 (Dropout)         (None, None, None, 32)    0         \n",
      "                                                                 \n",
      " conv2d_2 (Conv2D)           (None, None, None, 6)     198       \n",
      "                                                                 \n",
      "=================================================================\n",
      "Total params: 1,542\n",
      "Trainable params: 1,542\n",
      "Non-trainable params: 0\n",
      "_________________________________________________________________\n"
     ]
    }
   ],
   "source": [
    "old_cnn_model.summary()"
   ]
  },
  {
   "cell_type": "code",
   "execution_count": 18,
   "id": "fdf023eb",
   "metadata": {},
   "outputs": [
    {
     "name": "stdout",
     "output_type": "stream",
     "text": [
      "                  precision    recall  f1-score   support\n",
      "\n",
      "     water_pools       1.00      1.00      1.00       684\n",
      "vegetation_trees       0.69      0.95      0.80      4770\n",
      "vegetation_grass       0.90      0.86      0.88      8521\n",
      "            turf       0.99      0.89      0.94      2635\n",
      "      impervious       0.82      0.92      0.87      7006\n",
      "            soil       0.97      0.88      0.92     21528\n",
      "\n",
      "        accuracy                           0.89     45144\n",
      "       macro avg       0.90      0.92      0.90     45144\n",
      "    weighted avg       0.91      0.89      0.90     45144\n",
      "\n"
     ]
    }
   ],
   "source": [
    "# Get the classification report and save it\n",
    "report_path = os.path.join(save_dir, 'classification_report.csv')\n",
    "report, old_y_true, old_y_preds, old_y_probs = get_classification_report(old_cnn_model, old_conv_test_X, \n",
    "                                                                         old_conv_sparse_test_Y,\n",
    "                                                                         OLD_CLASSES, save_dir=report_path)\n",
    "\n",
    "print(report)"
   ]
  },
  {
   "cell_type": "code",
   "execution_count": 19,
   "id": "90b94519",
   "metadata": {
    "scrolled": false
   },
   "outputs": [
    {
     "data": {
      "image/png": "[encoded data removed]",
      "text/plain": [
       "<Figure size 1152x1152 with 2 Axes>"
      ]
     },
     "metadata": {
      "needs_background": "light"
     },
     "output_type": "display_data"
    }
   ],
   "source": [
    "plt.rcParams.update({'text.color': \"black\",\n",
    "                     'font.size' : 18,\n",
    "                     })\n",
    "\n",
    "fig = plt.figure(figsize=(16,16))\n",
    "ax = fig.add_subplot(111)\n",
    "\n",
    "# Create brown colormap\n",
    "brown_R = 90/256\n",
    "brown_G = brown_B = 40/256\n",
    "mult = 0.75\n",
    "\n",
    "brown_cmp = create_cmap(brown_R, brown_G, brown_B, mult=mult)\n",
    "\n",
    "# Plot the confusion matrix and save the figure\n",
    "cm_path = os.path.join(save_dir, 'confusion_matrix.png')\n",
    "\n",
    "plot_confusion_matrix(old_y_true, old_y_preds, save_cm_dir=cm_path,\n",
    "                      display_labels=OLD_CLASSES, ax=ax, normalize='true', \n",
    "                      cmap=brown_cmp, xticks_rotation=30)\n",
    "plt.show()"
   ]
  },
  {
   "cell_type": "markdown",
   "id": "e3e6995e",
   "metadata": {},
   "source": [
    "## New Model"
   ]
  },
  {
   "cell_type": "code",
   "execution_count": 20,
   "id": "e0fd3447",
   "metadata": {},
   "outputs": [],
   "source": [
    "class MultiClassFBeta(keras.metrics.Metric):\n",
    "    '''\n",
    "    Define a custom F-beta metric class to optimize against\n",
    "    during hyperparameter tuning. Class can perform F-beta calcutions\n",
    "    for macro, weighted, and raw scores for any value of beta.\n",
    "    \n",
    "    Default is macro F1 score.\n",
    "    '''\n",
    "    \n",
    "    def __init__(self,  n_class=NEW_N_CLASSES, name=None, beta=1, average='macro',\n",
    "                 epsilon=1e-7, **kwargs):\n",
    "        \n",
    "        # If name is not provided, set default name\n",
    "        if not name:\n",
    "            name = f\"{average}_f{beta}\"\n",
    "\n",
    "        # initializing an object of the Metric super class\n",
    "        super(MultiClassFBeta, self).__init__(name=name, **kwargs)\n",
    "\n",
    "        # initializing static variables \n",
    "        self.beta_squared = beta**2\n",
    "        self.n_class = n_class\n",
    "        self.average = average\n",
    "        self.epsilon = epsilon\n",
    "\n",
    "        # initializing state variables\n",
    "        self.tp = self.add_weight(name='tp', \n",
    "                                  shape=(self.n_class,), \n",
    "                                  initializer='zeros')     # initializing true positives\n",
    "        self.actual_positives = self.add_weight(name='ap', \n",
    "                                                shape=(self.n_class,), \n",
    "                                                initializer='zeros') # initializing actual positives\n",
    "        self.predicted_positives = self.add_weight(name='pp',\n",
    "                                                   shape=(self.n_class,), \n",
    "                                                   initializer='zeros') # initializing predicted positives\n",
    "\n",
    "    \n",
    "    def update_state(self, ytrue, ypred, sample_weight=None):\n",
    "\n",
    "        '''\n",
    "        Updates the metrics to preserve the running state\n",
    "        '''\n",
    "\n",
    "        # casting ytrue and ypred as float dtype\n",
    "        ytrue = tf.cast(ytrue, tf.float32)\n",
    "        ypred = tf.cast(ypred, tf.float32)\n",
    "\n",
    "        # finding the maximum probability in ypred\n",
    "        max_prob = tf.reduce_max(ypred, axis=-1, keepdims=True)\n",
    "\n",
    "        # making ypred one hot encoded such that the class with the maximum probability \n",
    "        # as encoded as 1 while others as 0\n",
    "        ypred = tf.cast(tf.equal(ypred, max_prob), tf.float32)\n",
    "\n",
    "        # Calculate TP, PP, AP\n",
    "        TP = tf.reshape(tf.reduce_sum(ytrue*ypred, axis=0), [self.n_class])\n",
    "        PP = tf.reshape(tf.reduce_sum(ypred, axis=0), [self.n_class])\n",
    "        AP = tf.reshape(tf.reduce_sum(ytrue, axis=0), [self.n_class])\n",
    "\n",
    "        self.tp.assign_add(TP) # updating true positives atrribute\n",
    "        self.predicted_positives.assign_add(PP) # updating predicted positives atrribute\n",
    "        self.actual_positives.assign_add(AP) # updating actual positives atrribute\n",
    "\n",
    "    def result(self):\n",
    "    \n",
    "        '''\n",
    "        Performs final metric computations and returns result\n",
    "        '''\n",
    "\n",
    "        self.precision = self.tp/(self.predicted_positives+self.epsilon) # calculates precision\n",
    "        self.recall = self.tp/(self.actual_positives+self.epsilon) # calculates recall\n",
    "\n",
    "        # calculating fbeta score\n",
    "        self.fb = (1+self.beta_squared)*self.precision*self.recall / (self.beta_squared*self.precision + self.recall + self.epsilon)\n",
    "\n",
    "        if self.average == 'weighted':\n",
    "            return tf.reduce_sum(self.fb*self.actual_positives / tf.reduce_sum(self.actual_positives))\n",
    "\n",
    "        elif self.average == 'raw':\n",
    "            return self.fb\n",
    "\n",
    "        return tf.reduce_mean(self.fb)\n",
    "\n",
    "    def reset_state(self):\n",
    "        \n",
    "        '''\n",
    "        Reset the tracked metrics (state)\n",
    "        '''\n",
    "\n",
    "        self.tp.assign(tf.zeros(self.n_class)) # resets true positives to zero\n",
    "        self.predicted_positives.assign(tf.zeros(self.n_class)) # resets predicted positives to zero\n",
    "        self.actual_positives.assign(tf.zeros(self.n_class)) # resets actual positives to zero"
   ]
  },
  {
   "cell_type": "code",
   "execution_count": 21,
   "id": "379a2762",
   "metadata": {},
   "outputs": [],
   "source": [
    "# File names for the training and testing datasets\n",
    "IMAGES_DIR = '../datasets/GoogleEarth'\n",
    "TRAIN_FILE_PREFIX = 'training_waterlake_sep_cls_Nbands_0717'\n",
    "TEST_FILE_PREFIX = 'testing_waterlake_sep_cls_Nbands_0717' \n",
    "FILE_EXT = '.csv'\n",
    "\n",
    "CSV_TRAIN_FILE_PATH = os.path.join(IMAGES_DIR, (TRAIN_FILE_PREFIX + FILE_EXT))\n",
    "CSV_TEST_FILE_PATH = os.path.join(IMAGES_DIR, (TEST_FILE_PREFIX + FILE_EXT))"
   ]
  },
  {
   "cell_type": "code",
   "execution_count": 22,
   "id": "12697d9d",
   "metadata": {},
   "outputs": [
    {
     "name": "stdout",
     "output_type": "stream",
     "text": [
      "../datasets/GoogleEarth/training_waterlake_sep_cls_Nbands_0717.csv\n",
      "              class  counts  proportion\n",
      "0       water_pools    2336    0.009296\n",
      "1  vegetation_trees   68413    0.272243\n",
      "2  vegetation_grass   94741    0.377013\n",
      "3              turf    3290    0.013092\n",
      "4        impervious   71101    0.282940\n",
      "5              soil    8995    0.035795\n",
      "6     water_natural    2418    0.009622\n",
      "\n",
      "../datasets/GoogleEarth/testing_waterlake_sep_cls_Nbands_0717.csv\n",
      "              class  counts  proportion\n",
      "0       water_pools     684    0.014931\n",
      "1  vegetation_trees    4770    0.104123\n",
      "2  vegetation_grass    8521    0.186003\n",
      "3              turf    2635    0.057519\n",
      "4        impervious    7006    0.152933\n",
      "5              soil   21528    0.469931\n",
      "6     water_natural     667    0.014560\n",
      "\n"
     ]
    }
   ],
   "source": [
    "# Set the seed for data shuffle\n",
    "# np.random.seed(123)\n",
    "\n",
    "new_conv_train_X, new_conv_sparse_train_Y = read_data(CSV_TRAIN_FILE_PATH, NEW_CLASSES, shuffle=False)\n",
    "new_conv_test_X, new_conv_sparse_test_Y = read_data(CSV_TEST_FILE_PATH, NEW_CLASSES, shuffle=False)"
   ]
  },
  {
   "cell_type": "code",
   "execution_count": 23,
   "id": "2edf3fd2",
   "metadata": {},
   "outputs": [
    {
     "data": {
      "text/plain": [
       "((251294, 1, 1, 8), (251294, 1, 1, 7))"
      ]
     },
     "execution_count": 23,
     "metadata": {},
     "output_type": "execute_result"
    }
   ],
   "source": [
    "new_conv_train_X.shape, new_conv_sparse_train_Y.shape"
   ]
  },
  {
   "cell_type": "code",
   "execution_count": 24,
   "id": "acc65339",
   "metadata": {},
   "outputs": [
    {
     "data": {
      "text/plain": [
       "((45811, 1, 1, 8), (45811, 1, 1, 7))"
      ]
     },
     "execution_count": 24,
     "metadata": {},
     "output_type": "execute_result"
    }
   ],
   "source": [
    "new_conv_test_X.shape, new_conv_sparse_test_Y.shape"
   ]
  },
  {
   "cell_type": "code",
   "execution_count": 25,
   "id": "39d27763",
   "metadata": {
    "colab": {
     "base_uri": "https://localhost:8080/"
    },
    "id": "Av-IEflWbB4s",
    "outputId": "46a7e2fe-965e-43f4-9926-a6538d6a301f"
   },
   "outputs": [
    {
     "name": "stdout",
     "output_type": "stream",
     "text": [
      "1432/1432 [==============================] - 3s 2ms/step - loss: 0.3413 - macro_f1: 0.8922 - accuracy: 0.9120\n"
     ]
    },
    {
     "data": {
      "text/plain": [
       "[0.3412820100784302, 0.8921681046485901, 0.911986231803894]"
      ]
     },
     "execution_count": 25,
     "metadata": {},
     "output_type": "execute_result"
    }
   ],
   "source": [
    "# Load and evaluate model to test it's the same performance\n",
    "save_dir = '../models/CNN_Nbands_sep_cls_wlake_model_1658106366'\n",
    "new_nn_model = tf.keras.models.load_model(save_dir, custom_objects={'MultiClassFBeta': MultiClassFBeta})\n",
    "new_nn_model.evaluate(new_conv_test_X, new_conv_sparse_test_Y)"
   ]
  },
  {
   "cell_type": "code",
   "execution_count": 26,
   "id": "9fa35646",
   "metadata": {
    "scrolled": true
   },
   "outputs": [
    {
     "name": "stdout",
     "output_type": "stream",
     "text": [
      "                  precision    recall  f1-score   support\n",
      "\n",
      "     water_pools       0.97      1.00      0.99       684\n",
      "vegetation_trees       0.81      0.91      0.86      4770\n",
      "vegetation_grass       0.85      0.93      0.89      8521\n",
      "            turf       1.00      0.84      0.91      2635\n",
      "      impervious       0.84      0.95      0.89      7006\n",
      "            soil       0.99      0.91      0.94     21528\n",
      "   water_natural       0.99      0.63      0.77       667\n",
      "\n",
      "        accuracy                           0.91     45811\n",
      "       macro avg       0.92      0.88      0.89     45811\n",
      "    weighted avg       0.92      0.91      0.91     45811\n",
      "\n"
     ]
    }
   ],
   "source": [
    "# Get the classification report and save it\n",
    "report_path = os.path.join(save_dir, 'classification_report.csv')\n",
    "report, new_y_true, new_y_preds, new_y_probs = get_classification_report(new_nn_model, new_conv_test_X, \n",
    "                                                                         new_conv_sparse_test_Y, NEW_CLASSES, \n",
    "                                                                         save_dir=report_path)\n",
    "\n",
    "print(report)"
   ]
  },
  {
   "cell_type": "code",
   "execution_count": 27,
   "id": "c3ac5c47",
   "metadata": {
    "scrolled": false
   },
   "outputs": [
    {
     "data": {
      "image/png": "[encoded data removed]",
      "text/plain": [
       "<Figure size 1152x1152 with 2 Axes>"
      ]
     },
     "metadata": {
      "needs_background": "light"
     },
     "output_type": "display_data"
    }
   ],
   "source": [
    "plt.rcParams.update({'text.color': \"black\",\n",
    "                     'font.size' : 18,\n",
    "                     })\n",
    "\n",
    "fig = plt.figure(figsize=(16,16))\n",
    "ax = fig.add_subplot(111)\n",
    "\n",
    "# Create brown colormap\n",
    "brown_R = 90/256\n",
    "brown_G = brown_B = 40/256\n",
    "mult = 0.75\n",
    "\n",
    "brown_cmp = create_cmap(brown_R, brown_G, brown_B, mult=mult)\n",
    "\n",
    "# Plot the confusion matrix and save the figure\n",
    "cm_path = os.path.join(save_dir, 'confusion_matrix.png')\n",
    "\n",
    "plot_confusion_matrix(new_y_true, new_y_preds, save_cm_dir=cm_path,\n",
    "                      display_labels=NEW_CLASSES, ax=ax, normalize='true', \n",
    "                      cmap=brown_cmp, xticks_rotation=30)\n",
    "plt.show()"
   ]
  },
  {
   "cell_type": "markdown",
   "id": "b3aeba35",
   "metadata": {},
   "source": [
    "## Combined Model"
   ]
  },
  {
   "cell_type": "code",
   "execution_count": 45,
   "id": "c82f89b6",
   "metadata": {},
   "outputs": [
    {
     "data": {
      "text/plain": [
       "(array([0, 1, 2, 3, 4, 5]), array([0, 1, 2, 3, 4, 5, 6]))"
      ]
     },
     "execution_count": 45,
     "metadata": {},
     "output_type": "execute_result"
    }
   ],
   "source": [
    "old_probs = old_cnn_model.predict(old_conv_test_X)\n",
    "old_preds = np.argmax(old_probs, axis=-1)\n",
    "new_probs = new_nn_model.predict(old_conv_test_X)\n",
    "new_preds = np.argmax(new_probs, axis=-1)"
   ]
  },
  {
   "cell_type": "code",
   "execution_count": null,
   "id": "07689486",
   "metadata": {},
   "outputs": [],
   "source": [
    "new_preds_6 = np.where(new_preds==6, 0, new_preds)"
   ]
  },
  {
   "cell_type": "code",
   "execution_count": 47,
   "id": "3fb2ca33",
   "metadata": {},
   "outputs": [],
   "source": [
    "old_max = np.max(old_probs, axis=-1).flatten()\n",
    "new_max = np.max(new_probs, axis=-1).flatten()\n",
    "\n",
    "combined_preds = np.where(old_max > new_max, old_preds.flatten(), new_preds_6.flatten())"
   ]
  },
  {
   "cell_type": "code",
   "execution_count": 50,
   "id": "32525728",
   "metadata": {},
   "outputs": [
    {
     "name": "stdout",
     "output_type": "stream",
     "text": [
      "                  precision    recall  f1-score   support\n",
      "\n",
      "           water       0.97      1.00      0.99       684\n",
      "vegetation_trees       0.78      0.93      0.85      4770\n",
      "vegetation_grass       0.88      0.92      0.90      8521\n",
      "            turf       1.00      0.87      0.93      2635\n",
      "      impervious       0.85      0.94      0.89      7006\n",
      "            soil       0.98      0.90      0.94     21528\n",
      "\n",
      "        accuracy                           0.91     45144\n",
      "       macro avg       0.91      0.93      0.92     45144\n",
      "    weighted avg       0.92      0.91      0.91     45144\n",
      "\n"
     ]
    }
   ],
   "source": [
    "print(classification_report(old_y_true, combined_preds, target_names=CLASSES))"
   ]
  },
  {
   "cell_type": "code",
   "execution_count": 51,
   "id": "e255bb53",
   "metadata": {
    "scrolled": false
   },
   "outputs": [
    {
     "data": {
      "image/png": "[encoded data removed]",
      "text/plain": [
       "<Figure size 1152x1152 with 2 Axes>"
      ]
     },
     "metadata": {
      "needs_background": "light"
     },
     "output_type": "display_data"
    }
   ],
   "source": [
    "plt.rcParams.update({'text.color': \"black\",\n",
    "                     'font.size' : 18,\n",
    "                     })\n",
    "\n",
    "fig = plt.figure(figsize=(16,16))\n",
    "ax = fig.add_subplot(111)\n",
    "\n",
    "# Create brown colormap\n",
    "brown_R = 90/256\n",
    "brown_G = brown_B = 40/256\n",
    "mult = 0.75\n",
    "\n",
    "brown_cmp = create_cmap(brown_R, brown_G, brown_B, mult=mult)\n",
    "\n",
    "# Plot the confusion matrix and save the figure\n",
    "cm_path = os.path.join(save_dir, 'confusion_matrix.png')\n",
    "\n",
    "plot_confusion_matrix(old_y_true, combined_preds, #save_cm_dir=cm_path,\n",
    "                      display_labels=CLASSES, ax=ax, normalize='true', \n",
    "                      cmap=brown_cmp, xticks_rotation=30)\n",
    "plt.show()"
   ]
  },
  {
   "cell_type": "markdown",
   "id": "W7-ZTNO2USY5",
   "metadata": {
    "id": "W7-ZTNO2USY5"
   },
   "source": [
    "## Visualize model predictions"
   ]
  },
  {
   "cell_type": "markdown",
   "id": "b70838ac",
   "metadata": {
    "id": "b70838ac"
   },
   "source": [
    "### Build Training Image"
   ]
  },
  {
   "cell_type": "code",
   "execution_count": 52,
   "id": "6916f762",
   "metadata": {},
   "outputs": [],
   "source": [
    "def apply_3bands(image, band):\n",
    "    i_8_bit = image.select(band).toUint8()\n",
    "    square = ee.Kernel.square(**{'radius': 4})\n",
    "    entropy = i_8_bit.entropy(square)\n",
    "    glcm = i_8_bit.glcmTexture(**{'size': 4})\n",
    "    contrast = glcm.select(str(band)+'_contrast')\n",
    "    \n",
    "    # Create a list of weights for a 9x9 kernel.\n",
    "    list = [1, 1, 1, 1, 1, 1, 1, 1, 1]\n",
    "    # The center of the kernel is zero.\n",
    "    centerList = [1, 1, 1, 1, 0, 1, 1, 1, 1]\n",
    "    # Assemble a list of lists: the 9x9 kernel weights as a 2-D matrix.\n",
    "    lists = [list, list, list, list, centerList, list, list, list, list]\n",
    "    # Create the kernel from the weights.\n",
    "    # Non-zero weights represent the spatial neighborhood.\n",
    "    kernel = ee.Kernel.fixed(9, 9, lists, -4, -4, False)\n",
    "    neighs = i_8_bit.neighborhoodToBands(kernel)\n",
    "    gearys = i_8_bit.subtract(neighs).pow(2).reduce(ee.Reducer.sum()).divide(math.pow(9, 2))\n",
    "    image = image.addBands(entropy.rename(str(band)+'_Entropy')).addBands(contrast.rename(str(band)+'_Contrast')).addBands(gearys.rename(str(band)+'_Gearys'))   \n",
    "    return image\n",
    "\n",
    "def add_neighborhood_bands(image):\n",
    "    bands = ['R', 'G', 'B', 'N']\n",
    "    for band in bands:\n",
    "        image = apply_3bands(image, band)\n",
    "    return image\n",
    "    \n",
    "def add_NDVI(image):\n",
    "    image = image.addBands(image.normalizedDifference(['N','R']).rename('NDVI'))\n",
    "    return image\n",
    "     "
   ]
  },
  {
   "cell_type": "code",
   "execution_count": 53,
   "id": "a48f0f66",
   "metadata": {},
   "outputs": [],
   "source": [
    "def get_images(param_dict):\n",
    "    source_image_collection = param_dict['source_image_collection']\n",
    "    years = param_dict['years']\n",
    "    counties = param_dict['counties']\n",
    "\n",
    "    image_names = []\n",
    "    images = []\n",
    "\n",
    "    combos = list(itertools.product(years, counties.keys()))\n",
    "    for i in combos:\n",
    "        year = str(i[0])\n",
    "        county = i[1]\n",
    "\n",
    "        image_name = str(i[0])+'_'+i[1]\n",
    "        image_names.append(image_name)\n",
    "\n",
    "        image = ee.ImageCollection(source_image_collection)\\\n",
    "                                .filterDate(f'{year}-01-01', f'{year}-12-31')\\\n",
    "                                .select(['R','G','B','N'])\\\n",
    "                                .median().clip(counties[county])\n",
    "        images.append(image)\n",
    "        images_with_3band = list(map(add_neighborhood_bands, images))\n",
    "        images_with_NDVI = list(map(add_NDVI, images_with_3band))\n",
    "    return dict(zip(image_names, images_with_NDVI))"
   ]
  },
  {
   "cell_type": "code",
   "execution_count": 54,
   "id": "8a30bcf7",
   "metadata": {
    "id": "8a30bcf7"
   },
   "outputs": [],
   "source": [
    "# Loads feature collection data from Google Earth Engine - We can also upload other feature collections\n",
    "counties = ee.FeatureCollection(\"TIGER/2018/Counties\")\n",
    "\n",
    "# Filter LA County\n",
    "la_county = counties.filter(ee.Filter.eq('NAME', 'Los Angeles'))\n",
    "\n",
    "# Create training image\n",
    "training_image_params = {\n",
    "        'source_image_collection' : 'USDA/NAIP/DOQQ',\n",
    "        'years' : [2020],\n",
    "        'counties': {'la_county': la_county}\n",
    "         }\n",
    "\n",
    "TRAINING_IMAGE = get_images(training_image_params)['2020_la_county']\n",
    "\n",
    "# Add training image as layer\n",
    "Map.addLayer(TRAINING_IMAGE, {}, 'TRAINING_IMAGE')"
   ]
  },
  {
   "cell_type": "markdown",
   "id": "942f829c",
   "metadata": {},
   "source": [
    "### Classify Training Image"
   ]
  },
  {
   "cell_type": "code",
   "execution_count": 55,
   "id": "17db9a3a",
   "metadata": {},
   "outputs": [],
   "source": [
    "def get_TF_classified_image(image, bands, tf_model, classes, name='classification'):\n",
    "    \n",
    "    '''\n",
    "    Use a TF model hosted on Google AI Platform to classify an EE image.\n",
    "    '''\n",
    "    \n",
    "    # Select bands from training image for classification\n",
    "    selected_image = image.select(bands)\n",
    "\n",
    "    # Get the predictions\n",
    "    predictions = tf_model.predictImage(selected_image.float().toArray())\n",
    "    probabilities = predictions.arrayFlatten([classes])\n",
    "    classified_image = predictions.arrayArgmax().arrayGet([0]).rename(name)\n",
    "    \n",
    "    return classified_image, predictions, probabilities"
   ]
  },
  {
   "cell_type": "code",
   "execution_count": 56,
   "id": "6499597e",
   "metadata": {},
   "outputs": [],
   "source": [
    "def get_ensembled_classified_image(image, bands, model_dicts):\n",
    "    \n",
    "    \"\"\"\n",
    "    Get the ensembled classified image by getting the max prediction probability\n",
    "    for each pixel across all models. \n",
    "    \n",
    "    Each dict in model_dicts should contain the following keys for a particular model:\n",
    "        'model': the ee.Model object\n",
    "        'classes': the classes that the model will try to predict\n",
    "        'image_name': the name of the classified image from the model \n",
    "    \"\"\"\n",
    "    \n",
    "    output_images = []\n",
    "    combined_probs = None\n",
    "    \n",
    "    for model_dict in model_dicts:\n",
    "        # Unpack the model metadata\n",
    "        model = model_dict['model']\n",
    "        classes = model_dict['classes']\n",
    "        image_name = model_dict['image_name']\n",
    "        \n",
    "        # Predict on classified image\n",
    "        temp_image, temp_preds, temp_probs = get_TF_classified_image(image, bands, model, classes, name=image_name)\n",
    "        \n",
    "        # If no combined_probs set, set it to temp_probs\n",
    "        if combined_probs is None:\n",
    "            combined_probs = temp_probs\n",
    "        \n",
    "        # Check if classes are not the same, then add missing bands \n",
    "        cur_prob_bands = set(combined_probs.bandNames().getInfo())\n",
    "        add_cur_bands = list(cur_prob_bands - set(classes))\n",
    "        add_new_bands = list(set(classes) - cur_prob_bands)\n",
    "        \n",
    "        if add_cur_bands:\n",
    "            temp_probs = temp_probs.addBands(combined_probs, add_cur_bands)\n",
    "        if add_new_bands:\n",
    "            combined_probs = combined_probs.addBands(temp_probs, add_new_bands)\n",
    "        \n",
    "        # Get the max probs across the two images\n",
    "        combined_probs = combined_probs.max(temp_probs)\n",
    "        output_images.append(temp_image)\n",
    "    \n",
    "    # Get the final combined classification image based on maximum probabilities\n",
    "    classified_image = combined_probs.toArray().arrayArgmax().arrayGet([0]).rename('combined_classification')\n",
    "    output_images.append(classified_image)\n",
    "    \n",
    "    return output_images"
   ]
  },
  {
   "cell_type": "code",
   "execution_count": 57,
   "id": "54ecfb9f",
   "metadata": {},
   "outputs": [],
   "source": [
    "# Point to the TF model(s) to be used for inference\n",
    "PROJECT = 'w210-351617'\n",
    "VERSION_NAME = 'v0'\n",
    "OLD_MODEL_NAME = 'CNN_Nbands_model'\n",
    "NEW_MODEL_NAME = 'CNN_Nbands_sep_cls_wlake_model'\n",
    "\n",
    "input_dim = [12,12]\n",
    "\n",
    "# Point to the old model hosted on AI Platform.\n",
    "old_tf_model = ee.Model.fromAiPlatformPredictor(\n",
    "    projectName=PROJECT,\n",
    "    modelName=OLD_MODEL_NAME,\n",
    "    version=VERSION_NAME,\n",
    "    # Can be anything, but don't make it too big.\n",
    "    inputTileSize=input_dim,\n",
    "    # Note the names here need to match what was specified in the\n",
    "    # output dictionary passed to the EEifier originally\n",
    "    outputBands={'output': {\n",
    "        'type': ee.PixelType.float(),\n",
    "        'dimensions': 1\n",
    "      }\n",
    "    },\n",
    ")\n",
    "\n",
    "# Point to the old model hosted on AI Platform.\n",
    "new_tf_model = ee.Model.fromAiPlatformPredictor(\n",
    "    projectName=PROJECT,\n",
    "    modelName=NEW_MODEL_NAME,\n",
    "    version=VERSION_NAME,\n",
    "    # Can be anything, but don't make it too big.\n",
    "    inputTileSize=input_dim,\n",
    "    # Note the names here need to match what was specified in the\n",
    "    # output dictionary passed to the EEifier originally\n",
    "    outputBands={'output': {\n",
    "        'type': ee.PixelType.float(),\n",
    "        'dimensions': 1\n",
    "      }\n",
    "    },\n",
    ")"
   ]
  },
  {
   "cell_type": "code",
   "execution_count": 58,
   "id": "QLsJqL-5V1cB",
   "metadata": {
    "id": "QLsJqL-5V1cB"
   },
   "outputs": [],
   "source": [
    "model_dicts = [\n",
    "    {'model': old_tf_model, 'classes': OLD_CLASSES, 'image_name':'old_classification'},\n",
    "    {'model': new_tf_model, 'classes': NEW_CLASSES, 'image_name':'new_classification'},\n",
    "]\n",
    "\n",
    "# Classify the training image per model + ensembled\n",
    "classified_images = get_ensembled_classified_image(TRAINING_IMAGE, BANDS, model_dicts)\n",
    "\n",
    "# Remap the combined image so lakes are classified as pools together\n",
    "fromList = [0, 1, 2, 3, 4, 5, 6]\n",
    "toList = [0, 1, 2, 3, 4, 5, 0]\n",
    "\n",
    "classified_images[-1] = classified_images[-1].remap(fromList, toList)"
   ]
  },
  {
   "cell_type": "code",
   "execution_count": 59,
   "id": "a8dbd33f",
   "metadata": {},
   "outputs": [],
   "source": [
    "old_legend_colors = ['#0B6AEF', '#097407', '#0CE708', '#8C46D2' ,' #A1A8AF','#D47911']\n",
    "new_legend_colors = ['#0B6AEF', '#097407', '#0CE708', '#8C46D2' ,' #A1A8AF','#D47911', '#191970']\n",
    "\n",
    "colors_list = [old_legend_colors, new_legend_colors, old_legend_colors]\n",
    "\n",
    "for colors, image in zip(colors_list, classified_images):\n",
    "    layer_name = image.getInfo()['bands'][0]['id']\n",
    "    Map.addLayer(image, {'min': 0, 'max': len(colors)-1, 'palette': colors}, layer_name)"
   ]
  },
  {
   "cell_type": "code",
   "execution_count": 60,
   "id": "WczXRqBZdBkR",
   "metadata": {
    "colab": {
     "base_uri": "https://localhost:8080/",
     "height": 17,
     "referenced_widgets": [
      "4b7582aa96ab4a52835aefa67a9e1b78"
     ]
    },
    "id": "WczXRqBZdBkR",
    "outputId": "576d99c2-1528-4316-ff14-b1fe46d3d218"
   },
   "outputs": [
    {
     "data": {
      "application/vnd.jupyter.widget-view+json": {
       "model_id": "4b4d0532286d4579921168f266b9cab3",
       "version_major": 2,
       "version_minor": 0
      },
      "text/plain": [
       "Map(bottom=754.0, center=[20, 0], controls=(WidgetControl(options=['position', 'transparent_bg'], widget=HBox(…"
      ]
     },
     "metadata": {},
     "output_type": "display_data"
    }
   ],
   "source": [
    "Map"
   ]
  },
  {
   "cell_type": "code",
   "execution_count": null,
   "id": "db20e2d8",
   "metadata": {},
   "outputs": [],
   "source": []
  },
  {
   "cell_type": "code",
   "execution_count": null,
   "id": "929bc7bb",
   "metadata": {},
   "outputs": [],
   "source": []
  }
 ],
 "metadata": {
  "kernelspec": {
   "display_name": "Python 3 (ipykernel)",
   "language": "python",
   "name": "python3"
  },
  "language_info": {
   "codemirror_mode": {
    "name": "ipython",
    "version": 3
   },
   "file_extension": ".py",
   "mimetype": "text/x-python",
   "name": "python",
   "nbconvert_exporter": "python",
   "pygments_lexer": "ipython3",
   "version": "3.9.12"
  },
  "toc": {
   "base_numbering": 1,
   "nav_menu": {},
   "number_sections": true,
   "sideBar": true,
   "skip_h1_title": false,
   "title_cell": "Table of Contents",
   "title_sidebar": "Contents",
   "toc_cell": false,
   "toc_position": {},
   "toc_section_display": true,
   "toc_window_display": false
  }
 },
 "nbformat": 4,
 "nbformat_minor": 5
}
