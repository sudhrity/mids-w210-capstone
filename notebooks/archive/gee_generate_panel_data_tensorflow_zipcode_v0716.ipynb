{
 "cells": [
  {
   "cell_type": "markdown",
   "id": "869805ba",
   "metadata": {},
   "source": [
    "# Google Earth Engine Panel Data Creation"
   ]
  },
  {
   "cell_type": "markdown",
   "id": "affb582d",
   "metadata": {},
   "source": [
    "## Initialize"
   ]
  },
  {
   "cell_type": "code",
   "execution_count": 1,
   "id": "ca4e8f0d",
   "metadata": {},
   "outputs": [],
   "source": [
    "# !pip install geemap\n",
    "#!pip install ee"
   ]
  },
  {
   "cell_type": "code",
   "execution_count": 2,
   "id": "b330f1f0",
   "metadata": {},
   "outputs": [],
   "source": [
    "# !pip install uszipcode"
   ]
  },
  {
   "cell_type": "code",
   "execution_count": 1,
   "id": "c8c3fc04",
   "metadata": {},
   "outputs": [],
   "source": [
    "#GEE specific\n",
    "import ee\n",
    "import geemap\n",
    "import math\n",
    "\n",
    "#plotting and functions\n",
    "import numpy as np\n",
    "import pandas as pd\n",
    "import matplotlib.pyplot as plt\n",
    "import itertools\n",
    "from time import time\n",
    "from enum import Enum\n"
   ]
  },
  {
   "cell_type": "code",
   "execution_count": 2,
   "id": "e96f3218",
   "metadata": {},
   "outputs": [],
   "source": [
    "#Initialize Google Earth Engine\n",
    "#ee.Authenticate() #just needed the 1st time\n",
    "ee.Initialize()"
   ]
  },
  {
   "cell_type": "code",
   "execution_count": 3,
   "id": "377606da",
   "metadata": {},
   "outputs": [
    {
     "data": {
      "application/vnd.jupyter.widget-view+json": {
       "model_id": "f21069745be447fa802150849c778f3b",
       "version_major": 2,
       "version_minor": 0
      },
      "text/plain": [
       "Map(center=[20, 0], controls=(WidgetControl(options=['position', 'transparent_bg'], widget=HBox(children=(Togg…"
      ]
     },
     "metadata": {},
     "output_type": "display_data"
    }
   ],
   "source": [
    "# Check if geemap is working as intended - plot the leaflet map\n",
    "Map = geemap.Map()\n",
    "Map"
   ]
  },
  {
   "cell_type": "markdown",
   "id": "673d2635",
   "metadata": {},
   "source": [
    "## Load Feature Collection - Shapefiles"
   ]
  },
  {
   "cell_type": "code",
   "execution_count": 4,
   "id": "c1cec5cb",
   "metadata": {},
   "outputs": [],
   "source": [
    "#Data loads\n",
    "\n",
    "#loads feature collection data from Google Earth Engine - We can also upload other feature collections\n",
    "counties = ee.FeatureCollection(\"TIGER/2018/Counties\")\n",
    "\n",
    "#filter LA County\n",
    "la_county = counties.filter(ee.Filter.eq('NAME', 'Los Angeles'))\n",
    "sc_county = counties.filter(ee.Filter.eq('NAME', 'Santa Clara'))"
   ]
  },
  {
   "cell_type": "code",
   "execution_count": 5,
   "id": "560588d2",
   "metadata": {},
   "outputs": [
    {
     "data": {
      "text/plain": [
       "(<ee.featurecollection.FeatureCollection at 0x7fa81b771f40>,\n",
       " <ee.featurecollection.FeatureCollection at 0x7fa81b6de580>)"
      ]
     },
     "execution_count": 5,
     "metadata": {},
     "output_type": "execute_result"
    }
   ],
   "source": [
    "la_county, sc_county"
   ]
  },
  {
   "cell_type": "code",
   "execution_count": 6,
   "id": "7c9d6423",
   "metadata": {},
   "outputs": [],
   "source": [
    "#Income Data\n",
    "la_county_income = ee.FeatureCollection(\"projects/california-lawn-detection/assets/lacountyincome-final\")"
   ]
  },
  {
   "cell_type": "markdown",
   "id": "be925762",
   "metadata": {},
   "source": [
    "## Load NAIP Imagery"
   ]
  },
  {
   "cell_type": "code",
   "execution_count": 7,
   "id": "3b5d03d5",
   "metadata": {},
   "outputs": [],
   "source": [
    "def apply_3bands(image, band):\n",
    "    i_8_bit = image.select(band).toUint8()\n",
    "    square = ee.Kernel.square(**{'radius': 4})\n",
    "    entropy = i_8_bit.entropy(square)\n",
    "    glcm = i_8_bit.glcmTexture(**{'size': 4})\n",
    "    contrast = glcm.select(str(band)+'_contrast')\n",
    "    \n",
    "    # Create a list of weights for a 9x9 kernel.\n",
    "    list = [1, 1, 1, 1, 1, 1, 1, 1, 1]\n",
    "    # The center of the kernel is zero.\n",
    "    centerList = [1, 1, 1, 1, 0, 1, 1, 1, 1]\n",
    "    # Assemble a list of lists: the 9x9 kernel weights as a 2-D matrix.\n",
    "    lists = [list, list, list, list, centerList, list, list, list, list]\n",
    "    # Create the kernel from the weights.\n",
    "    # Non-zero weights represent the spatial neighborhood.\n",
    "    kernel = ee.Kernel.fixed(9, 9, lists, -4, -4, False)\n",
    "    neighs = i_8_bit.neighborhoodToBands(kernel)\n",
    "    gearys = i_8_bit.subtract(neighs).pow(2).reduce(ee.Reducer.sum()).divide(math.pow(9, 2))\n",
    "    image = image.addBands(entropy.rename(str(band)+'_Entropy')).addBands(contrast.rename(str(band)+'_Contrast')).addBands(gearys.rename(str(band)+'_Gearys'))   \n",
    "    return image\n",
    "\n",
    "def add_neighborhood_bands(image):\n",
    "    bands = ['R', 'G', 'B', 'N']\n",
    "    for band in bands:\n",
    "        image = apply_3bands(image, band)\n",
    "    return image\n",
    "    \n",
    "def add_NDVI(image):\n",
    "    image = image.addBands(image.normalizedDifference(['N','R']).rename('NDVI'))\n",
    "    return image\n",
    "     "
   ]
  },
  {
   "cell_type": "code",
   "execution_count": 8,
   "id": "81e8a5dd",
   "metadata": {},
   "outputs": [],
   "source": [
    "def get_images(param_dict):\n",
    "    source_image_collection = param_dict['source_image_collection']\n",
    "    years = param_dict['years']\n",
    "    counties = param_dict['counties']\n",
    "\n",
    "    image_names = []\n",
    "    images = []\n",
    "\n",
    "    combos = list(itertools.product(years, counties.keys()))\n",
    "    for i in combos:\n",
    "        year = str(i[0])\n",
    "        county = i[1]\n",
    "\n",
    "        image_name = str(i[0])+'_'+i[1]\n",
    "        image_names.append(image_name)\n",
    "\n",
    "        image = ee.ImageCollection(source_image_collection)\\\n",
    "                                .filterDate(f'{year}-01-01', f'{year}-12-31')\\\n",
    "                                .select(['R','G','B','N'])\\\n",
    "                                .median().clip(counties[county])\n",
    "        images.append(image)\n",
    "        images_with_3band = list(map(add_neighborhood_bands, images))\n",
    "        images_with_NDVI = list(map(add_NDVI, images_with_3band))\n",
    "    return dict(zip(image_names, images_with_NDVI))\n",
    "\n",
    "    \n",
    "    "
   ]
  },
  {
   "cell_type": "markdown",
   "id": "5f928cbc",
   "metadata": {},
   "source": [
    "## Load Labeled Data"
   ]
  },
  {
   "cell_type": "code",
   "execution_count": 9,
   "id": "c278fcaf",
   "metadata": {},
   "outputs": [],
   "source": [
    "# ## Loading feature collections from Google Earth Engine\n",
    "\n",
    "# water_1 = ee.FeatureCollection(\"projects/california-lawn-detection/assets/water_torrance_0610\")\n",
    "# water_2 = ee.FeatureCollection(\"projects/california-lawn-detection/assets/water_torrance_0701_400\")\n",
    "# vegetation_trees = ee.FeatureCollection(\"projects/california-lawn-detection/assets/trees_torrance\")\n",
    "# vegetation_grass = ee.FeatureCollection(\"projects/california-lawn-detection/assets/grass_torrance\").limit(400)\n",
    "# turf_1 = ee.FeatureCollection(\"projects/california-lawn-detection/assets/turf_torrance1\")\n",
    "# turf_2 = ee.FeatureCollection(\"projects/california-lawn-detection/assets/turf_torrance2\")\n",
    "# impervious_1 = ee.FeatureCollection(\"projects/california-lawn-detection/assets/impervious_torrance1\").limit(35)\n",
    "# impervious_2 = ee.FeatureCollection(\"projects/california-lawn-detection/assets/impervious_torrance2\").limit(35)\n",
    "# soil = ee.FeatureCollection(\"projects/california-lawn-detection/assets/soil_reduced_070222\")\n",
    "\n",
    "# water = water_1.merge(water_2)\n",
    "# turf = turf_1.merge(turf_2)\n",
    "# impervious= impervious_1.merge(impervious_2)\n"
   ]
  },
  {
   "cell_type": "code",
   "execution_count": 10,
   "id": "81fa416d",
   "metadata": {},
   "outputs": [],
   "source": [
    "# class ClassEnum(Enum):\n",
    "\n",
    "#     '''\n",
    "#     Enum class for mapping classes to new integers \n",
    "#     (previous_class_label, new_class_label)\n",
    "#     '''\n",
    "\n",
    "#     WATER = (1, 0)\n",
    "#     TREES = (2, 1)\n",
    "#     GRASS = (3, 2)\n",
    "#     TURF = (4, 3)\n",
    "#     IMPERVIOUS = (6, 4)\n",
    "#     SOIL = (7, 5)\n",
    "\n",
    "# def conditional_class(cls):\n",
    "#     def map_feature(feat):\n",
    "#         mapper = ClassEnum[cls].value\n",
    "#         return ee.Algorithms.If(ee.Number(feat.get('landcover')).eq(mapper[0]),feat.set({'landcover': mapper[1]}),feat)\n",
    "#     return map_feature\n",
    "\n",
    "# water_tr = water.map(conditional_class('WATER'))\n",
    "# trees_tr = vegetation_trees.map(conditional_class('TREES'))\n",
    "# grass_tr = vegetation_grass.map(conditional_class('GRASS'))\n",
    "# turf_tr = turf.map(conditional_class('TURF'))\n",
    "# impervious_tr = impervious.map(conditional_class('IMPERVIOUS'))\n",
    "# soil_tr = soil.map(conditional_class('SOIL'))\n",
    "\n",
    "# LABELED_SET = water_tr.merge(trees_tr).merge(grass_tr).merge(turf_tr).merge(impervious_tr).merge(soil_tr)"
   ]
  },
  {
   "cell_type": "code",
   "execution_count": 11,
   "id": "565863bd",
   "metadata": {},
   "outputs": [],
   "source": [
    "# water_test = ee.FeatureCollection(\"projects/california-lawn-detection/assets/water_test\")\n",
    "# vegetation_trees_test = ee.FeatureCollection(\"projects/california-lawn-detection/assets/trees_test\")\n",
    "# vegetation_grass_test  = ee.FeatureCollection(\"projects/california-lawn-detection/assets/grass_test\")\n",
    "# turf_test  = ee.FeatureCollection(\"projects/california-lawn-detection/assets/turf_test\")\n",
    "# impervious_test  = ee.FeatureCollection(\"projects/california-lawn-detection/assets/impervious_reduced_test\")\n",
    "# soil_test  = ee.FeatureCollection(\"projects/california-lawn-detection/assets/soil_reduced_070222\")\n",
    "\n",
    "# TEST_SET = water_test.merge(vegetation_trees_test).merge(vegetation_grass_test).merge(turf_test).merge(impervious_test).merge(soil_test)"
   ]
  },
  {
   "cell_type": "markdown",
   "id": "7333a66c",
   "metadata": {},
   "source": [
    "## Build Training Set"
   ]
  },
  {
   "cell_type": "code",
   "execution_count": 12,
   "id": "d42827f8",
   "metadata": {},
   "outputs": [],
   "source": [
    "training_image_params = {\n",
    "        'source_image_collection' : 'USDA/NAIP/DOQQ',\n",
    "        'years' : [2020],\n",
    "        'counties': {'la_county': la_county}\n",
    "         }\n",
    "\n",
    "TRAINING_IMAGE = get_images(training_image_params)['2020_la_county']"
   ]
  },
  {
   "cell_type": "code",
   "execution_count": 13,
   "id": "4b7b0015",
   "metadata": {},
   "outputs": [],
   "source": [
    "Map.addLayer(TRAINING_IMAGE, {}, 'TRAINING_IMAGE')"
   ]
  },
  {
   "cell_type": "code",
   "execution_count": 14,
   "id": "60283607",
   "metadata": {},
   "outputs": [],
   "source": [
    "# Overlay the points on the imagery to get training.\n",
    "LABEL = 'landcover'\n",
    "BANDS = ['R', \n",
    "         'G', \n",
    "         'B', \n",
    "         'N', \n",
    "         'NDVI',\n",
    "         'N_Entropy', \n",
    "         'N_Contrast', \n",
    "         'N_Gearys']\n",
    "\n",
    "# Define classes\n",
    "CLASSES = ['water',\n",
    "           'vegetation_trees',\n",
    "           'vegetation_grass',\n",
    "           'turf',\n",
    "           'impervious',\n",
    "           'soil']\n",
    "\n",
    "# train_data = TRAINING_IMAGE.select(BANDS).sampleRegions(**{\n",
    "#   'collection': LABELED_SET,\n",
    "#   'properties': [LABEL],\n",
    "#   'scale': 1\n",
    "# })\n",
    "\n",
    "# test_data = TRAINING_IMAGE.select(BANDS).sampleRegions(**{\n",
    "#   'collection': TEST_SET,\n",
    "#   'properties': [LABEL],\n",
    "#   'scale': 1\n",
    "# })"
   ]
  },
  {
   "cell_type": "code",
   "execution_count": 15,
   "id": "658479b4",
   "metadata": {},
   "outputs": [],
   "source": [
    "# print(\"Training Set Size in Pixels\", train_data.aggregate_count('R').getInfo())"
   ]
  },
  {
   "cell_type": "code",
   "execution_count": 16,
   "id": "eff4b673",
   "metadata": {},
   "outputs": [],
   "source": [
    "# print(\"Test Set Size in Pixels\", test_data.aggregate_count('R').getInfo())"
   ]
  },
  {
   "cell_type": "markdown",
   "id": "3978a33f",
   "metadata": {},
   "source": [
    "## [OLD] Machine Learning Model"
   ]
  },
  {
   "cell_type": "code",
   "execution_count": 17,
   "id": "d78ab1d9",
   "metadata": {},
   "outputs": [],
   "source": [
    "# clf = ee.Classifier.smileRandomForest(numberOfTrees = 230, minLeafPopulation = 50, bagFraction= 0.6)\\\n",
    "#                    .train(train_data, LABEL, BANDS)\n",
    "# clf"
   ]
  },
  {
   "cell_type": "code",
   "execution_count": 18,
   "id": "740573b2",
   "metadata": {},
   "outputs": [],
   "source": [
    "# training_image_classified = TRAINING_IMAGE.select(BANDS)\\\n",
    "#                                           .classify(clf)\n"
   ]
  },
  {
   "cell_type": "code",
   "execution_count": 19,
   "id": "045d4af2",
   "metadata": {},
   "outputs": [],
   "source": [
    "# legend_keys = ['water', 'vegetation_trees', 'vegetation_grass', 'turf','impervious','soil']\n",
    "# legend_colors = ['#0B6AEF', '#097407', '#0CE708', '#8C46D2' ,' #A1A8AF','#D47911']\n",
    "\n",
    "# Map.addLayer(training_image_classified, {'min': 0, 'max': 5, 'palette': legend_colors}, 'Classification')"
   ]
  },
  {
   "cell_type": "code",
   "execution_count": 20,
   "id": "4bd30a8b",
   "metadata": {
    "scrolled": true
   },
   "outputs": [],
   "source": [
    "# training_image_classified.bandNames().getInfo()"
   ]
  },
  {
   "cell_type": "code",
   "execution_count": 21,
   "id": "0a384476",
   "metadata": {
    "scrolled": false
   },
   "outputs": [],
   "source": [
    "# Map"
   ]
  },
  {
   "cell_type": "markdown",
   "id": "2a08335a",
   "metadata": {},
   "source": [
    "## [NEW] TF Machine Learning Model"
   ]
  },
  {
   "cell_type": "code",
   "execution_count": 15,
   "id": "6ecc0600",
   "metadata": {},
   "outputs": [],
   "source": [
    "def get_TF_classified_image(image, bands, tf_model, classes):\n",
    "    \n",
    "    '''\n",
    "    Use a TF model hosted on Google AI Platform to classify an EE image.\n",
    "    '''\n",
    "    \n",
    "    # Select bands from training image for classification\n",
    "    selected_image = image.select(bands)\n",
    "\n",
    "    # Get the predictions\n",
    "    predictions = tf_model.predictImage(selected_image.float().toArray())\n",
    "    probabilities = predictions.arrayFlatten([classes])\n",
    "    classified_image = predictions.arrayArgmax().arrayGet([0]).rename('classification')\n",
    "    \n",
    "    return classified_image"
   ]
  },
  {
   "cell_type": "code",
   "execution_count": 16,
   "id": "e9050473",
   "metadata": {},
   "outputs": [],
   "source": [
    "# Point to the specific TF model to be used for inference\n",
    "PROJECT = 'w210-351617'\n",
    "MODEL_NAME = 'CNN_Nbands_model'\n",
    "VERSION_NAME = 'v0'\n",
    "input_dim = [12,12]\n",
    "\n",
    "# Point to the model hosted on AI Platform.\n",
    "tf_model = ee.Model.fromAiPlatformPredictor(\n",
    "    projectName=PROJECT,\n",
    "    modelName=MODEL_NAME,\n",
    "    version=VERSION_NAME,\n",
    "    # Can be anything, but don't make it too big.\n",
    "    inputTileSize=input_dim,\n",
    "    # Note the names here need to match what was specified in the\n",
    "    # output dictionary passed to the EEifier originally\n",
    "    outputBands={'output': {\n",
    "        'type': ee.PixelType.float(),\n",
    "        'dimensions': 1\n",
    "      }\n",
    "    },\n",
    ")"
   ]
  },
  {
   "cell_type": "code",
   "execution_count": 17,
   "id": "829ce8d0",
   "metadata": {},
   "outputs": [],
   "source": [
    "# Classify the training image\n",
    "training_image_classified = get_TF_classified_image(TRAINING_IMAGE, BANDS, tf_model, CLASSES)\n",
    "\n",
    "assert(training_image_classified.bandNames().getInfo() == ['classification'])"
   ]
  },
  {
   "cell_type": "code",
   "execution_count": 18,
   "id": "09092c9d",
   "metadata": {},
   "outputs": [],
   "source": [
    "legend_colors = ['#0B6AEF', '#097407', '#0CE708', '#8C46D2' ,' #A1A8AF','#D47911']\n",
    "\n",
    "Map.addLayer(training_image_classified, {'min': 0, 'max': 5, 'palette': legend_colors}, 'Classification')"
   ]
  },
  {
   "cell_type": "code",
   "execution_count": 19,
   "id": "af776bdc",
   "metadata": {},
   "outputs": [
    {
     "data": {
      "application/vnd.jupyter.widget-view+json": {
       "model_id": "f21069745be447fa802150849c778f3b",
       "version_major": 2,
       "version_minor": 0
      },
      "text/plain": [
       "Map(bottom=754.0, center=[20, 0], controls=(WidgetControl(options=['position', 'transparent_bg'], widget=HBox(…"
      ]
     },
     "metadata": {},
     "output_type": "display_data"
    }
   ],
   "source": [
    "Map"
   ]
  },
  {
   "cell_type": "markdown",
   "id": "601085cf",
   "metadata": {},
   "source": [
    "## Binary Classification and Area Calculation"
   ]
  },
  {
   "cell_type": "code",
   "execution_count": 20,
   "id": "2e9687c4",
   "metadata": {},
   "outputs": [],
   "source": [
    "def area_calculation(image, class_number, shape, pixel_scale = 20):\n",
    "\n",
    "    if type(shape) == str:\n",
    "        shape = la_county_income_zipcode.filter(ee.Filter.eq('ZipCode', shape))\n",
    "\n",
    "    areaImage = image.eq(class_number).multiply(ee.Image.pixelArea())\n",
    "\n",
    "    area = areaImage.reduceRegion(\n",
    "        reducer = ee.Reducer.sum(),\n",
    "        geometry = shape,\n",
    "        scale = pixel_scale,\n",
    "        maxPixels = 1e13)\n",
    "\n",
    "\n",
    "    area_sq_m = area.getInfo().get('classification')\n",
    "\n",
    "    area_sq_km = area_sq_m / 1e6\n",
    "\n",
    "    return area_sq_km"
   ]
  },
  {
   "cell_type": "code",
   "execution_count": 21,
   "id": "13432e88",
   "metadata": {},
   "outputs": [],
   "source": [
    "def area_calculation_city(image, class_number, shape, pixel_scale = 20):\n",
    "\n",
    "    if type(shape) == str:\n",
    "        shape = la_cities_land.filter(ee.Filter.eq('NAME', shape))\n",
    "\n",
    "    areaImage = image.eq(class_number).multiply(ee.Image.pixelArea())\n",
    "\n",
    "    area = areaImage.reduceRegion(\n",
    "        reducer = ee.Reducer.sum(),\n",
    "        geometry = shape,\n",
    "        scale = pixel_scale,\n",
    "        maxPixels = 1e13)\n",
    "\n",
    "\n",
    "    area_sq_m = area.getInfo().get('classification')\n",
    "\n",
    "    area_sq_km = area_sq_m / 1e6\n",
    "\n",
    "    return area_sq_km"
   ]
  },
  {
   "cell_type": "code",
   "execution_count": 22,
   "id": "55bc75ea",
   "metadata": {},
   "outputs": [],
   "source": [
    "def ndvi_calculation(image, class_number, shape, ref_image, pixel_scale=1):\n",
    "    \n",
    "    if type(shape) == str:\n",
    "        shape = la_county_income_zipcode.filter(ee.Filter.eq('ZipCode', shape))\n",
    "        \n",
    "    ndvi = ref_image.normalizedDifference(['N', 'R'])\n",
    "    image_clipped = image.clip(shape)\n",
    "    \n",
    "    NDVI_for_class = ndvi.updateMask(image_clipped.select('classification').eq(class_number))\n",
    "    \n",
    "    reducer = ee.Reducer.mean()\\\n",
    "                        .combine(ee.Reducer.max(),sharedInputs=True)\\\n",
    "                        .combine(ee.Reducer.min(),sharedInputs=True)\n",
    "    \n",
    "    \n",
    "    qty = NDVI_for_class.reduceRegion(\n",
    "        reducer = reducer, \n",
    "        geometry = shape, \n",
    "        scale = pixel_scale, \n",
    "        maxPixels = 1e13)\n",
    "    return qty\n",
    "\n"
   ]
  },
  {
   "cell_type": "markdown",
   "id": "d35b9d9e",
   "metadata": {},
   "source": [
    "### Create Panel Data"
   ]
  },
  {
   "cell_type": "code",
   "execution_count": 23,
   "id": "9049b295",
   "metadata": {
    "deletable": false,
    "editable": false
   },
   "outputs": [],
   "source": [
    "#import parcel shapes so we can clip by residential areas\n",
    "\n",
    "la_parcel_shape_filtered = ee.FeatureCollection(\"projects/california-lawn-detection/assets/LA_County_Parcels_Shape\")\\\n",
    "                             .filter(ee.Filter.eq('UseType', 'Residential'))\n",
    "    \n",
    "la_parcel_res = la_parcel_shape_filtered.select(ee.List(['AIN', 'SitusCity','SitusZIP','SitusFullA']), \n",
    "                                                ee.List(['AIN', 'City','ZipCode','FullAddress']))\n"
   ]
  },
  {
   "cell_type": "code",
   "execution_count": 24,
   "id": "76556a99",
   "metadata": {
    "deletable": false,
    "editable": false
   },
   "outputs": [],
   "source": [
    "#import zipcode shapes so we can clip by zipcodes\n",
    "\n",
    "la_county_income_zipcode2 = ee.FeatureCollection(\"projects/california-lawn-detection/assets/income_zipcode2019\")\n",
    "la_county_income_zipcode = la_county_income_zipcode2.select(ee.List(['zipcode', '2019zipcod','shape_area']), ee.List(['ZipCode', 'Median_Income','Area_sqft']))"
   ]
  },
  {
   "cell_type": "code",
   "execution_count": 25,
   "id": "d4dcf1be",
   "metadata": {},
   "outputs": [],
   "source": [
    "def run_inference_city(inference_params, model, bands, classes):\n",
    "    \n",
    "    #unpack inference parameter dictionary\n",
    "    inference_images = get_images(inference_params)\n",
    "    residential = inference_params['residential']\n",
    "    city_list = inference_params['city']\n",
    "    ndvi = inference_params['ndvi']\n",
    "    city_shape = inference_params['city_shape']\n",
    "    residential_shape = inference_params['residential_shape']\n",
    "    \n",
    "    #add empty lists to data dictionary\n",
    "    dictionary = {}\n",
    "    \n",
    "    base_keys = ['year','polygon','water_area','vegetation_trees_area', \n",
    "        'vegetation_grass_area', 'turf_area', 'impervious_area',\n",
    "        'soil_area', 'total_area']\n",
    "    \n",
    "    ndvi_keys = ['tree_ndvi_mean', 'tree_ndvi_max','tree_ndvi_min',\n",
    "       'grass_ndvi_mean', 'grass_ndvi_max','grass_ndvi_min']\n",
    "    \n",
    "    for i in base_keys:\n",
    "        dictionary[i] = []\n",
    "    if ndvi:\n",
    "        for i in ndvi_keys:\n",
    "            dictionary[i] = []\n",
    "    \n",
    "    \n",
    "    #warning message about selected options\n",
    "    if inference_params['residential']:\n",
    "        print('CLIPPING AREA TO INCLUDE RESIDENTIAL AREAS ONLY')\n",
    "    if inference_params['ndvi']:\n",
    "        print('RUNNING INFERENCE INCLUDING NDVI CALCULATIONS')\n",
    "    if inference_params['residential'] or inference_params['ndvi']:\n",
    "        print('---------------------------------------------------------------------')\n",
    "    \n",
    "\n",
    "    #iterate through data, append to data dictionary \n",
    "    for j in list(inference_images.items()):\n",
    "        image_name = j[0]\n",
    "        im = j[1]\n",
    "        if residential:\n",
    "            im = im.clip(residential_shape)\n",
    "#             imagery = im.select(bands).classify(clf)\n",
    "        imagery = get_TF_classified_image(im, bands, model, classes)\n",
    "        name = j[0]\n",
    "        \n",
    "        for i in city_list:\n",
    "\n",
    "\n",
    "            start = time()\n",
    "            polygon = la_cities_land.filter(ee.Filter.eq('NAME', i))\n",
    "\n",
    "            dictionary['year'].append(image_name[:4]) \n",
    "            dictionary['polygon'].append(i)\n",
    "\n",
    "            water_area = area_calculation_city(imagery, 0, polygon, 20)\n",
    "            dictionary['water_area'].append(water_area)\n",
    "\n",
    "            vegetation_trees_area = area_calculation_city(imagery, 1, polygon, 20)\n",
    "            dictionary['vegetation_trees_area'].append(vegetation_trees_area)\n",
    "\n",
    "            vegetation_grass_area = area_calculation_city(imagery, 2, polygon, 20)\n",
    "            dictionary['vegetation_grass_area'].append(vegetation_grass_area)\n",
    "\n",
    "            turf_area = area_calculation_city(imagery, 3, polygon, 20)\n",
    "            dictionary['turf_area'].append(turf_area)\n",
    "\n",
    "            impervious_area = area_calculation_city(imagery, 4, polygon, 20)\n",
    "            dictionary['impervious_area'].append(impervious_area)\n",
    "\n",
    "            soil_area = area_calculation_city(imagery, 5, polygon, 20)\n",
    "            dictionary['soil_area'].append(soil_area)\n",
    "\n",
    "            total_area = water_area + vegetation_trees_area + vegetation_grass_area + turf_area + impervious_area + soil_area\n",
    "            dictionary['total_area'].append(total_area)\n",
    "\n",
    "            end = time()\n",
    "            print(f'City: {i}, Year: {j[0][:4]} ::: completed in {end-start} seconds.')\n",
    "            \n",
    "    return dictionary\n",
    "              \n",
    "              "
   ]
  },
  {
   "cell_type": "code",
   "execution_count": 26,
   "id": "fcca6f82",
   "metadata": {},
   "outputs": [],
   "source": [
    "def run_inference(inference_params, model, bands, classes):\n",
    "    \n",
    "    #unpack inference parameter dictionary\n",
    "    inference_images = get_images(inference_params)\n",
    "    residential = inference_params['residential']\n",
    "    zipcode_list = inference_params['zipcodes']\n",
    "    ndvi = inference_params['ndvi']\n",
    "    zipcode_shape = inference_params['zipcode_shape']\n",
    "    residential_shape = inference_params['residential_shape']\n",
    "    \n",
    "    #add empty lists to data dictionary\n",
    "    dictionary = {}\n",
    "    \n",
    "        \n",
    "    base_keys = ['year','polygon','water_area','vegetation_trees_area', \n",
    "        'vegetation_grass_area', 'turf_area', 'impervious_area',\n",
    "        'soil_area', 'total_area']\n",
    "    \n",
    "    ndvi_keys = ['tree_ndvi_mean', 'tree_ndvi_max','tree_ndvi_min',\n",
    "       'grass_ndvi_mean', 'grass_ndvi_max','grass_ndvi_min']\n",
    "    \n",
    "    for i in base_keys:\n",
    "        dictionary[i] = []\n",
    "    if ndvi:\n",
    "        for i in ndvi_keys:\n",
    "            dictionary[i] = []\n",
    "    \n",
    "    #warning message about selected options\n",
    "    if inference_params['residential']:\n",
    "        print('CLIPPING AREA TO INCLUDE RESIDENTIAL AREAS ONLY')\n",
    "    if inference_params['ndvi']:\n",
    "        print('RUNNING INFERENCE INCLUDING NDVI CALCULATIONS')\n",
    "    if inference_params['residential'] or inference_params['ndvi']:\n",
    "        print('---------------------------------------------------------------------')\n",
    "    \n",
    "\n",
    "    #iterate through data, append to data dictionary \n",
    "    for j in list(inference_images.items()):\n",
    "        \n",
    "        image_name = j[0]\n",
    "        im = j[1]\n",
    "        if residential:\n",
    "            im = im.clip(residential_shape)\n",
    "        #             imagery = im.select(bands).classify(clf)\n",
    "        imagery = get_TF_classified_image(im, bands, model, classes)\n",
    "        name = j[0]\n",
    "\n",
    "        for i in zipcode_list:\n",
    "        \n",
    "\n",
    "            start = time()\n",
    "            polygon = zipcode_shape.filter(ee.Filter.eq('ZipCode', i))\n",
    "\n",
    "            dictionary['year'].append(image_name[:4]) \n",
    "            dictionary['polygon'].append(i)\n",
    "\n",
    "            water_area = area_calculation(imagery, 0, polygon, 20)\n",
    "            dictionary['water_area'].append(water_area)\n",
    "\n",
    "            vegetation_trees_area = area_calculation(imagery, 1, polygon, 20)\n",
    "            dictionary['vegetation_trees_area'].append(vegetation_trees_area)\n",
    "\n",
    "            vegetation_grass_area = area_calculation(imagery, 2, polygon, 20)\n",
    "            dictionary['vegetation_grass_area'].append(vegetation_grass_area)\n",
    "\n",
    "            turf_area = area_calculation(imagery, 3, polygon, 20)\n",
    "            dictionary['turf_area'].append(turf_area)\n",
    "\n",
    "            impervious_area = area_calculation(imagery, 4, polygon, 20)\n",
    "            dictionary['impervious_area'].append(impervious_area)\n",
    "\n",
    "            soil_area = area_calculation(imagery, 5, polygon, 20)\n",
    "            dictionary['soil_area'].append(soil_area)\n",
    "\n",
    "            total_area = water_area + vegetation_trees_area + vegetation_grass_area + turf_area + impervious_area + soil_area\n",
    "            dictionary['total_area'].append(total_area)\n",
    "            \n",
    "            if ndvi:\n",
    "                tree_ndvi_mean, tree_ndvi_max, tree_ndvi_min = ndvi_calculation(imagery, 1, polygon, ref_image = im).getInfo().values()\n",
    "                dictionary['tree_ndvi_mean'].append(tree_ndvi_mean)\n",
    "                dictionary['tree_ndvi_max'].append(tree_ndvi_max)\n",
    "                dictionary['tree_ndvi_min'].append(tree_ndvi_min)\n",
    "\n",
    "                grass_ndvi_mean, grass_ndvi_max, grass_ndvi_min = ndvi_calculation(imagery, 2, polygon, ref_image = im).getInfo().values()\n",
    "                dictionary['grass_ndvi_mean'].append(grass_ndvi_mean)\n",
    "                dictionary['grass_ndvi_max'].append(grass_ndvi_max)\n",
    "                dictionary['grass_ndvi_min'].append(grass_ndvi_min)\n",
    "\n",
    "\n",
    "\n",
    "            end = time()\n",
    "            print(f'Zip Code: {i}, Year: {j[0][:4]} ::: completed in {end-start} seconds.')\n",
    "            \n",
    "    return dictionary\n",
    "              \n",
    "              "
   ]
  },
  {
   "cell_type": "code",
   "execution_count": 27,
   "id": "ea11d274",
   "metadata": {},
   "outputs": [],
   "source": [
    "inference_params = {\n",
    "        'source_image_collection' : 'USDA/NAIP/DOQQ',\n",
    "        'years' : [2018,2020],\n",
    "        'zipcodes': ['90802','90732'],\n",
    "        'ndvi': False,\n",
    "        'residential': False,\n",
    "        'residential_shape': la_parcel_res, #don't adjust this line\n",
    "        'counties': {'la_county': la_county}, #don't adjust this line\n",
    "        'zipcode_shape' : la_county_income_zipcode #don't adjust\n",
    "         }"
   ]
  },
  {
   "cell_type": "code",
   "execution_count": null,
   "id": "02af55e6",
   "metadata": {},
   "outputs": [],
   "source": [
    "dictionary = run_inference(inference_params, tf_model, BANDS, CLASSES)"
   ]
  },
  {
   "cell_type": "markdown",
   "id": "6a0a9cf2",
   "metadata": {},
   "source": [
    "#### Inference - City Level"
   ]
  },
  {
   "cell_type": "code",
   "execution_count": 31,
   "id": "68cf887e",
   "metadata": {},
   "outputs": [],
   "source": [
    "#load California Cities Shapefile\n",
    "cities = ee.FeatureCollection(\"projects/california-lawn-detection/assets/Cities2015\")\n",
    "\n",
    "# Filter for LA City\n",
    "la_cities = cities.filter(ee.Filter.eq('County', 'Los Angeles'))\n",
    "\n",
    "# Filter sea\n",
    "la_cities_land = la_cities.filter(ee.Filter.notEquals('Notes', '3 nautical mile offshore'))\n",
    "\n",
    "# list of cities in LA County\n",
    "city_names = []\n",
    "\n",
    "for i in range(len(la_cities_land.getInfo().get('features'))):\n",
    "    city_names.append(la_cities_land.getInfo().get('features')[i].get('properties').get('NAME'))"
   ]
  },
  {
   "cell_type": "code",
   "execution_count": 32,
   "id": "c6232487",
   "metadata": {},
   "outputs": [],
   "source": [
    "# for cities example - we can replace city : 'Pasadena' with city_names\n",
    "inference_params_city = {\n",
    "        'source_image_collection' : 'USDA/NAIP/DOQQ',\n",
    "        'years' : [2010,2020],\n",
    "        'city': city_names,\n",
    "        'ndvi': False,\n",
    "        'residential': False,\n",
    "        'residential_shape': la_parcel_res, #don't adjust this line\n",
    "        'counties': {'la_county': la_county}, #don't adjust this line\n",
    "        'city_shape' : la_cities_land #don't adjust\n",
    "         }"
   ]
  },
  {
   "cell_type": "code",
   "execution_count": null,
   "id": "09d59424",
   "metadata": {},
   "outputs": [],
   "source": [
    "# for cities\n",
    "dictionary = run_inference_city(inference_params_city, tf_model, BANDS, CLASSES)"
   ]
  },
  {
   "cell_type": "code",
   "execution_count": 35,
   "id": "0ce02052",
   "metadata": {},
   "outputs": [
    {
     "data": {
      "text/html": [
       "<div>\n",
       "<style scoped>\n",
       "    .dataframe tbody tr th:only-of-type {\n",
       "        vertical-align: middle;\n",
       "    }\n",
       "\n",
       "    .dataframe tbody tr th {\n",
       "        vertical-align: top;\n",
       "    }\n",
       "\n",
       "    .dataframe thead th {\n",
       "        text-align: right;\n",
       "    }\n",
       "</style>\n",
       "<table border=\"1\" class=\"dataframe\">\n",
       "  <thead>\n",
       "    <tr style=\"text-align: right;\">\n",
       "      <th></th>\n",
       "      <th>year</th>\n",
       "      <th>polygon</th>\n",
       "      <th>water_area</th>\n",
       "      <th>vegetation_trees_area</th>\n",
       "      <th>vegetation_grass_area</th>\n",
       "      <th>turf_area</th>\n",
       "      <th>impervious_area</th>\n",
       "      <th>soil_area</th>\n",
       "      <th>total_area</th>\n",
       "    </tr>\n",
       "  </thead>\n",
       "  <tbody>\n",
       "    <tr>\n",
       "      <th>0</th>\n",
       "      <td>2010</td>\n",
       "      <td>Los Angeles</td>\n",
       "      <td>0.324202</td>\n",
       "      <td>130.385387</td>\n",
       "      <td>353.605794</td>\n",
       "      <td>0.060126</td>\n",
       "      <td>410.697858</td>\n",
       "      <td>333.586243</td>\n",
       "      <td>1228.659609</td>\n",
       "    </tr>\n",
       "    <tr>\n",
       "      <th>1</th>\n",
       "      <td>2020</td>\n",
       "      <td>Los Angeles</td>\n",
       "      <td>1.626241</td>\n",
       "      <td>309.909160</td>\n",
       "      <td>95.781669</td>\n",
       "      <td>8.186225</td>\n",
       "      <td>619.210499</td>\n",
       "      <td>193.945815</td>\n",
       "      <td>1228.659609</td>\n",
       "    </tr>\n",
       "    <tr>\n",
       "      <th>2</th>\n",
       "      <td>2010</td>\n",
       "      <td>Pasadena</td>\n",
       "      <td>0.004953</td>\n",
       "      <td>6.878802</td>\n",
       "      <td>18.366940</td>\n",
       "      <td>0.000330</td>\n",
       "      <td>18.924296</td>\n",
       "      <td>15.665165</td>\n",
       "      <td>59.840485</td>\n",
       "    </tr>\n",
       "    <tr>\n",
       "      <th>3</th>\n",
       "      <td>2020</td>\n",
       "      <td>Pasadena</td>\n",
       "      <td>0.004953</td>\n",
       "      <td>26.888325</td>\n",
       "      <td>6.511651</td>\n",
       "      <td>0.155270</td>\n",
       "      <td>15.800284</td>\n",
       "      <td>10.480002</td>\n",
       "      <td>59.840485</td>\n",
       "    </tr>\n",
       "    <tr>\n",
       "      <th>4</th>\n",
       "      <td>2010</td>\n",
       "      <td>Santa Monica</td>\n",
       "      <td>0.000992</td>\n",
       "      <td>1.745463</td>\n",
       "      <td>3.223802</td>\n",
       "      <td>0.009591</td>\n",
       "      <td>11.455411</td>\n",
       "      <td>5.696855</td>\n",
       "      <td>22.132114</td>\n",
       "    </tr>\n",
       "    <tr>\n",
       "      <th>...</th>\n",
       "      <td>...</td>\n",
       "      <td>...</td>\n",
       "      <td>...</td>\n",
       "      <td>...</td>\n",
       "      <td>...</td>\n",
       "      <td>...</td>\n",
       "      <td>...</td>\n",
       "      <td>...</td>\n",
       "      <td>...</td>\n",
       "    </tr>\n",
       "    <tr>\n",
       "      <th>179</th>\n",
       "      <td>2020</td>\n",
       "      <td>Diamond Bar</td>\n",
       "      <td>0.000331</td>\n",
       "      <td>12.466278</td>\n",
       "      <td>6.526314</td>\n",
       "      <td>0.092141</td>\n",
       "      <td>12.895578</td>\n",
       "      <td>6.541375</td>\n",
       "      <td>38.522016</td>\n",
       "    </tr>\n",
       "    <tr>\n",
       "      <th>180</th>\n",
       "      <td>2010</td>\n",
       "      <td>Malibu</td>\n",
       "      <td>0.000442</td>\n",
       "      <td>2.118154</td>\n",
       "      <td>22.759438</td>\n",
       "      <td>0.000165</td>\n",
       "      <td>18.022123</td>\n",
       "      <td>8.235701</td>\n",
       "      <td>51.136024</td>\n",
       "    </tr>\n",
       "    <tr>\n",
       "      <th>181</th>\n",
       "      <td>2020</td>\n",
       "      <td>Malibu</td>\n",
       "      <td>0.361275</td>\n",
       "      <td>5.808764</td>\n",
       "      <td>13.845387</td>\n",
       "      <td>0.048684</td>\n",
       "      <td>16.613993</td>\n",
       "      <td>14.457920</td>\n",
       "      <td>51.136024</td>\n",
       "    </tr>\n",
       "    <tr>\n",
       "      <th>182</th>\n",
       "      <td>2010</td>\n",
       "      <td>Calabasas</td>\n",
       "      <td>0.006604</td>\n",
       "      <td>3.080692</td>\n",
       "      <td>13.142739</td>\n",
       "      <td>0.000660</td>\n",
       "      <td>9.845636</td>\n",
       "      <td>9.687033</td>\n",
       "      <td>35.763364</td>\n",
       "    </tr>\n",
       "    <tr>\n",
       "      <th>183</th>\n",
       "      <td>2020</td>\n",
       "      <td>Calabasas</td>\n",
       "      <td>0.084766</td>\n",
       "      <td>10.349616</td>\n",
       "      <td>5.475728</td>\n",
       "      <td>0.308199</td>\n",
       "      <td>13.711732</td>\n",
       "      <td>5.833323</td>\n",
       "      <td>35.763364</td>\n",
       "    </tr>\n",
       "  </tbody>\n",
       "</table>\n",
       "<p>184 rows × 9 columns</p>\n",
       "</div>"
      ],
      "text/plain": [
       "     year       polygon  water_area  vegetation_trees_area  \\\n",
       "0    2010   Los Angeles    0.324202             130.385387   \n",
       "1    2020   Los Angeles    1.626241             309.909160   \n",
       "2    2010      Pasadena    0.004953               6.878802   \n",
       "3    2020      Pasadena    0.004953              26.888325   \n",
       "4    2010  Santa Monica    0.000992               1.745463   \n",
       "..    ...           ...         ...                    ...   \n",
       "179  2020   Diamond Bar    0.000331              12.466278   \n",
       "180  2010        Malibu    0.000442               2.118154   \n",
       "181  2020        Malibu    0.361275               5.808764   \n",
       "182  2010     Calabasas    0.006604               3.080692   \n",
       "183  2020     Calabasas    0.084766              10.349616   \n",
       "\n",
       "     vegetation_grass_area  turf_area  impervious_area   soil_area  \\\n",
       "0               353.605794   0.060126       410.697858  333.586243   \n",
       "1                95.781669   8.186225       619.210499  193.945815   \n",
       "2                18.366940   0.000330        18.924296   15.665165   \n",
       "3                 6.511651   0.155270        15.800284   10.480002   \n",
       "4                 3.223802   0.009591        11.455411    5.696855   \n",
       "..                     ...        ...              ...         ...   \n",
       "179               6.526314   0.092141        12.895578    6.541375   \n",
       "180              22.759438   0.000165        18.022123    8.235701   \n",
       "181              13.845387   0.048684        16.613993   14.457920   \n",
       "182              13.142739   0.000660         9.845636    9.687033   \n",
       "183               5.475728   0.308199        13.711732    5.833323   \n",
       "\n",
       "      total_area  \n",
       "0    1228.659609  \n",
       "1    1228.659609  \n",
       "2      59.840485  \n",
       "3      59.840485  \n",
       "4      22.132114  \n",
       "..           ...  \n",
       "179    38.522016  \n",
       "180    51.136024  \n",
       "181    51.136024  \n",
       "182    35.763364  \n",
       "183    35.763364  \n",
       "\n",
       "[184 rows x 9 columns]"
      ]
     },
     "execution_count": 35,
     "metadata": {},
     "output_type": "execute_result"
    }
   ],
   "source": [
    "df = pd.DataFrame(dictionary)\n",
    "df"
   ]
  },
  {
   "cell_type": "code",
   "execution_count": null,
   "id": "4fb96c34",
   "metadata": {},
   "outputs": [],
   "source": []
  }
 ],
 "metadata": {
  "kernelspec": {
   "display_name": "Python 3",
   "language": "python",
   "name": "python3"
  },
  "language_info": {
   "codemirror_mode": {
    "name": "ipython",
    "version": 3
   },
   "file_extension": ".py",
   "mimetype": "text/x-python",
   "name": "python",
   "nbconvert_exporter": "python",
   "pygments_lexer": "ipython3",
   "version": "3.8.3"
  }
 },
 "nbformat": 4,
 "nbformat_minor": 5
}
