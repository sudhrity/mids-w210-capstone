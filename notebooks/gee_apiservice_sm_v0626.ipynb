{
 "cells": [
  {
   "cell_type": "markdown",
   "id": "82be3451",
   "metadata": {},
   "source": [
    "# Google Earth Engine Panel Data Creation"
   ]
  },
  {
   "cell_type": "markdown",
   "id": "ff3a98c6",
   "metadata": {},
   "source": [
    "## Initialize"
   ]
  },
  {
   "cell_type": "code",
   "execution_count": null,
   "id": "f8bdbe8a",
   "metadata": {},
   "outputs": [],
   "source": [
    "!pip install geemap\n",
    "#!pip install ee"
   ]
  },
  {
   "cell_type": "code",
   "execution_count": null,
   "id": "52135953",
   "metadata": {},
   "outputs": [],
   "source": [
    "!pip install uszipcode"
   ]
  },
  {
   "cell_type": "code",
   "execution_count": null,
   "id": "852342ca",
   "metadata": {},
   "outputs": [],
   "source": [
    "#GEE specific\n",
    "import ee\n",
    "import geemap\n",
    "import math\n",
    "\n",
    "#plotting and functions\n",
    "import numpy as np\n",
    "import pandas as pd\n",
    "import matplotlib.pyplot as plt\n",
    "import itertools\n",
    "from time import time\n",
    "\n",
    "# Postgres\n",
    "import psycopg2\n",
    "\n",
    "# Zip code info\n",
    "#from uszipcode import SearchEngine"
   ]
  },
  {
   "cell_type": "code",
   "execution_count": null,
   "id": "4229b7e9",
   "metadata": {},
   "outputs": [],
   "source": [
    "#!earthengine authenticate"
   ]
  },
  {
   "cell_type": "code",
   "execution_count": null,
   "id": "cf39d151",
   "metadata": {},
   "outputs": [],
   "source": [
    "#Initialize Google Earth Engine\n",
    "#ee.Authenticate() #just needed the 1st time\n",
    "ee.Initialize()"
   ]
  },
  {
   "cell_type": "code",
   "execution_count": null,
   "id": "e67d5db3",
   "metadata": {},
   "outputs": [],
   "source": [
    "%pip install pyngrok nest_asyncio fastapi uvicorn loguru"
   ]
  },
  {
   "cell_type": "code",
   "execution_count": null,
   "id": "9836f77d",
   "metadata": {},
   "outputs": [],
   "source": [
    "from fastapi import FastAPI\n",
    "from pydantic import BaseModel\n",
    "from loguru import logger\n",
    "\n",
    "app = FastAPI()"
   ]
  },
  {
   "cell_type": "code",
   "execution_count": null,
   "id": "01ea323f",
   "metadata": {},
   "outputs": [],
   "source": [
    "# %load main.py\n",
    "from fastapi import FastAPI, Request\n",
    "import uvicorn\n",
    "from pydantic import BaseModel\n",
    "\n",
    "#custom imports\n",
    "from areas import router1\n",
    "from areas import router2\n",
    "\n",
    "\n",
    "app = FastAPI()\n",
    "\n",
    "#import router to output a classification with a tensorflow model\n",
    "app.include_router(router1, prefix = '/predict_polygon')\n",
    "app.include_router(router2, prefix = '/predict_region')\n",
    "\n",
    "@app.get(\"/\")\n",
    "async def root():\n",
    "    return (\"WELCOME TO THE LAWN CONVERSION PROJECT\")\n",
    "\n",
    "\n",
    "#if __name__==\"__main__\":\n",
    "uvicorn.run(\"main:app\", host='0.0.0.0', port=5000, reload=True)\n"
   ]
  },
  {
   "cell_type": "code",
   "execution_count": null,
   "id": "a9516115",
   "metadata": {},
   "outputs": [],
   "source": []
  }
 ],
 "metadata": {
  "kernelspec": {
   "display_name": "Python 3",
   "language": "python",
   "name": "python3"
  },
  "language_info": {
   "codemirror_mode": {
    "name": "ipython",
    "version": 3
   },
   "file_extension": ".py",
   "mimetype": "text/x-python",
   "name": "python",
   "nbconvert_exporter": "python",
   "pygments_lexer": "ipython3",
   "version": "3.8.8"
  }
 },
 "nbformat": 4,
 "nbformat_minor": 5
}
