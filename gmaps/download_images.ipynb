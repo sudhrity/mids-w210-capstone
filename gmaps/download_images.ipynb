{
 "cells": [
  {
   "cell_type": "markdown",
   "metadata": {},
   "source": [
    "### A Notebook that Uses the Google Maps API to write test images to the source folder"
   ]
  },
  {
   "cell_type": "code",
   "execution_count": 1,
   "metadata": {},
   "outputs": [],
   "source": [
    "import numpy as np\n",
    "from mod.gps import *"
   ]
  },
  {
   "cell_type": "code",
   "execution_count": 11,
   "metadata": {},
   "outputs": [],
   "source": [
    "API_KEY = ''\n",
    "TARGET_FOLDER = 'source_images/'"
   ]
  },
  {
   "cell_type": "code",
   "execution_count": 12,
   "metadata": {},
   "outputs": [],
   "source": [
    "#input a center coordinate as a tuple to get the 4 corner coordinates around it (1 square mile)\n",
    "#returns a dictionary\n",
    "\n",
    "dict_of_coords = get_four_corners((34.09583152510218, -118.28455200025552))"
   ]
  },
  {
   "cell_type": "code",
   "execution_count": 13,
   "metadata": {
    "scrolled": true
   },
   "outputs": [],
   "source": [
    "#get the coordinates list: plug in your dictionary of coordinates as well as the grid dimensions\n",
    "# e.g. inputting 10 will give you 100 images evenly spaced within the square mile\n",
    "\n",
    "DIMENSION = 2\n",
    "\n",
    "coord_list = get_coord_list(dict_of_coords, dim = DIMENSION)"
   ]
  },
  {
   "cell_type": "code",
   "execution_count": 14,
   "metadata": {},
   "outputs": [
    {
     "data": {
      "text/plain": [
       "[(34.08859216159822, -118.2932885212978),\n",
       " (34.08859216159822, -118.27581249050782),\n",
       " (34.10306779481576, -118.2932885212978),\n",
       " (34.10306779481576, -118.27581249050782)]"
      ]
     },
     "execution_count": 14,
     "metadata": {},
     "output_type": "execute_result"
    }
   ],
   "source": [
    "coord_list"
   ]
  },
  {
   "cell_type": "code",
   "execution_count": 15,
   "metadata": {},
   "outputs": [
    {
     "name": "stdout",
     "output_type": "stream",
     "text": [
      "URL RESPONSE: <Response [200]>.\n",
      "SUCCESS\n",
      "URL RESPONSE: <Response [200]>.\n",
      "SUCCESS\n",
      "URL RESPONSE: <Response [200]>.\n",
      "SUCCESS\n",
      "URL RESPONSE: <Response [200]>.\n",
      "SUCCESS\n"
     ]
    }
   ],
   "source": [
    "#loop through current coordinates and save images\n",
    "for i in coord_list:\n",
    "    produce_image(i,  target_folder = TARGET_FOLDER,key = API_KEY)\n",
    "\n"
   ]
  },
  {
   "cell_type": "code",
   "execution_count": null,
   "metadata": {},
   "outputs": [],
   "source": []
  }
 ],
 "metadata": {
  "kernelspec": {
   "display_name": "Python 3",
   "language": "python",
   "name": "python3"
  },
  "language_info": {
   "codemirror_mode": {
    "name": "ipython",
    "version": 3
   },
   "file_extension": ".py",
   "mimetype": "text/x-python",
   "name": "python",
   "nbconvert_exporter": "python",
   "pygments_lexer": "ipython3",
   "version": "3.8.5"
  }
 },
 "nbformat": 4,
 "nbformat_minor": 4
}
