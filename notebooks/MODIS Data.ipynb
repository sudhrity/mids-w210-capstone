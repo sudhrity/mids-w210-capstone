{
 "cells": [
  {
   "cell_type": "code",
   "execution_count": 1,
   "id": "ac04067e",
   "metadata": {},
   "outputs": [
    {
     "ename": "ModuleNotFoundError",
     "evalue": "No module named 'StringIO'",
     "output_type": "error",
     "traceback": [
      "\u001b[0;31m---------------------------------------------------------------------------\u001b[0m",
      "\u001b[0;31mModuleNotFoundError\u001b[0m                       Traceback (most recent call last)",
      "\u001b[0;32m<ipython-input-1-3c5d756f1c3d>\u001b[0m in \u001b[0;36m<module>\u001b[0;34m\u001b[0m\n\u001b[0;32m----> 1\u001b[0;31m \u001b[0;32mimport\u001b[0m \u001b[0mee\u001b[0m\u001b[0;34m\u001b[0m\u001b[0;34m\u001b[0m\u001b[0m\n\u001b[0m\u001b[1;32m      2\u001b[0m \u001b[0;32mimport\u001b[0m \u001b[0mgeemap\u001b[0m\u001b[0;34m\u001b[0m\u001b[0;34m\u001b[0m\u001b[0m\n\u001b[1;32m      3\u001b[0m \u001b[0;32mimport\u001b[0m \u001b[0mmath\u001b[0m\u001b[0;34m\u001b[0m\u001b[0;34m\u001b[0m\u001b[0m\n",
      "\u001b[0;32m/opt/conda/lib/python3.8/site-packages/ee/__init__.py\u001b[0m in \u001b[0;36m<module>\u001b[0;34m\u001b[0m\n\u001b[0;32m----> 1\u001b[0;31m \u001b[0;32mfrom\u001b[0m \u001b[0;34m.\u001b[0m\u001b[0mmain\u001b[0m \u001b[0;32mimport\u001b[0m \u001b[0mmain\u001b[0m\u001b[0;34m\u001b[0m\u001b[0;34m\u001b[0m\u001b[0m\n\u001b[0m",
      "\u001b[0;32m/opt/conda/lib/python3.8/site-packages/ee/main.py\u001b[0m in \u001b[0;36m<module>\u001b[0;34m\u001b[0m\n\u001b[1;32m      8\u001b[0m \u001b[0;32mimport\u001b[0m \u001b[0mstat\u001b[0m\u001b[0;34m\u001b[0m\u001b[0;34m\u001b[0m\u001b[0m\n\u001b[1;32m      9\u001b[0m \u001b[0;32mimport\u001b[0m \u001b[0mplistlib\u001b[0m\u001b[0;34m\u001b[0m\u001b[0;34m\u001b[0m\u001b[0m\n\u001b[0;32m---> 10\u001b[0;31m \u001b[0;32mimport\u001b[0m \u001b[0mStringIO\u001b[0m\u001b[0;34m\u001b[0m\u001b[0;34m\u001b[0m\u001b[0m\n\u001b[0m\u001b[1;32m     11\u001b[0m \u001b[0;32mimport\u001b[0m \u001b[0mplatform\u001b[0m\u001b[0;34m\u001b[0m\u001b[0;34m\u001b[0m\u001b[0m\n\u001b[1;32m     12\u001b[0m \u001b[0;32mimport\u001b[0m \u001b[0mtime\u001b[0m\u001b[0;34m\u001b[0m\u001b[0;34m\u001b[0m\u001b[0m\n",
      "\u001b[0;31mModuleNotFoundError\u001b[0m: No module named 'StringIO'"
     ]
    }
   ],
   "source": [
    "import ee\n",
    "import geemap\n",
    "import math"
   ]
  },
  {
   "cell_type": "code",
   "execution_count": 6,
   "id": "4a29341a",
   "metadata": {},
   "outputs": [
    {
     "name": "stdout",
     "output_type": "stream",
     "text": [
      "Requirement already satisfied: geemap in c:\\users\\crort\\appdata\\roaming\\python\\python38\\site-packages (0.14.0)\n",
      "Requirement already satisfied: ffmpeg-python in c:\\users\\crort\\appdata\\roaming\\python\\python38\\site-packages (from geemap) (0.2.0)\n",
      "Requirement already satisfied: folium>=0.11.0 in c:\\programdata\\anaconda3\\lib\\site-packages (from geemap) (0.12.1.post1)\n",
      "Requirement already satisfied: ipyevents in c:\\programdata\\anaconda3\\lib\\site-packages (from geemap) (2.0.1)\n",
      "Requirement already satisfied: pandas in c:\\users\\crort\\appdata\\roaming\\python\\python38\\site-packages (from geemap) (1.3.1)\n",
      "Requirement already satisfied: geojson in c:\\users\\crort\\appdata\\roaming\\python\\python38\\site-packages (from geemap) (2.5.0)\n",
      "Requirement already satisfied: whiteboxgui>=0.6.0 in c:\\users\\crort\\appdata\\roaming\\python\\python38\\site-packages (from geemap) (0.7.0)\n",
      "Requirement already satisfied: geocoder in c:\\programdata\\anaconda3\\lib\\site-packages (from geemap) (1.38.1)\n",
      "Requirement already satisfied: geeadd>=0.5.1 in c:\\users\\crort\\appdata\\roaming\\python\\python38\\site-packages (from geemap) (0.5.5)\n",
      "Requirement already satisfied: xyzservices in c:\\programdata\\anaconda3\\lib\\site-packages (from geemap) (2022.4.0)\n",
      "Requirement already satisfied: pyshp>=2.1.3 in c:\\programdata\\anaconda3\\lib\\site-packages (from geemap) (2.3.0)\n",
      "Requirement already satisfied: ipytree in c:\\users\\crort\\appdata\\roaming\\python\\python38\\site-packages (from geemap) (0.2.1)\n",
      "Requirement already satisfied: matplotlib in c:\\programdata\\anaconda3\\lib\\site-packages (from geemap) (3.2.2)\n",
      "Requirement already satisfied: pycrs in c:\\programdata\\anaconda3\\lib\\site-packages (from geemap) (1.0.2)\n",
      "Requirement already satisfied: ee-extra>=0.0.10 in c:\\users\\crort\\appdata\\roaming\\python\\python38\\site-packages (from geemap) (0.0.13)\n",
      "Requirement already satisfied: bqplot in c:\\users\\crort\\appdata\\roaming\\python\\python38\\site-packages (from geemap) (0.12.33)\n",
      "Requirement already satisfied: pillow in c:\\programdata\\anaconda3\\lib\\site-packages (from geemap) (7.2.0)\n",
      "Requirement already satisfied: numpy in c:\\users\\crort\\appdata\\roaming\\python\\python38\\site-packages (from geemap) (1.19.5)\n",
      "Requirement already satisfied: mapclassify>=2.4.0 in c:\\users\\crort\\appdata\\roaming\\python\\python38\\site-packages (from geemap) (2.4.3)\n",
      "Requirement already satisfied: ipyfilechooser>=0.6.0 in c:\\users\\crort\\appdata\\roaming\\python\\python38\\site-packages (from geemap) (0.6.0)\n",
      "Requirement already satisfied: ipyleaflet>=0.14.0 in c:\\users\\crort\\appdata\\roaming\\python\\python38\\site-packages (from geemap) (0.16.0)\n",
      "Requirement already satisfied: earthengine-api>=0.1.304 in c:\\programdata\\anaconda3\\lib\\site-packages (from geemap) (0.1.312)\n",
      "Requirement already satisfied: sankee in c:\\users\\crort\\appdata\\roaming\\python\\python38\\site-packages (from geemap) (0.0.7)\n",
      "Requirement already satisfied: python-box in c:\\programdata\\anaconda3\\lib\\site-packages (from geemap) (6.0.2)\n",
      "Requirement already satisfied: colour in c:\\users\\crort\\appdata\\roaming\\python\\python38\\site-packages (from geemap) (0.1.5)\n",
      "Requirement already satisfied: gdown in c:\\users\\crort\\appdata\\roaming\\python\\python38\\site-packages (from geemap) (4.4.0)\n",
      "Requirement already satisfied: jupyterlab>=3 in c:\\users\\crort\\appdata\\roaming\\python\\python38\\site-packages (from geemap) (3.4.3)\n",
      "Requirement already satisfied: future in c:\\programdata\\anaconda3\\lib\\site-packages (from ffmpeg-python->geemap) (0.18.2)\n",
      "Requirement already satisfied: jinja2>=2.9 in c:\\programdata\\anaconda3\\lib\\site-packages (from folium>=0.11.0->geemap) (2.11.2)\n",
      "Requirement already satisfied: branca>=0.3.0 in c:\\programdata\\anaconda3\\lib\\site-packages (from folium>=0.11.0->geemap) (0.5.0)\n",
      "Requirement already satisfied: requests in c:\\programdata\\anaconda3\\lib\\site-packages (from folium>=0.11.0->geemap) (2.24.0)\n",
      "Requirement already satisfied: ipywidgets>=7.6.0 in c:\\users\\crort\\appdata\\roaming\\python\\python38\\site-packages (from ipyevents->geemap) (7.7.0)\n",
      "Requirement already satisfied: pytz>=2017.3 in c:\\programdata\\anaconda3\\lib\\site-packages (from pandas->geemap) (2020.1)\n",
      "Requirement already satisfied: python-dateutil>=2.7.3 in c:\\programdata\\anaconda3\\lib\\site-packages (from pandas->geemap) (2.8.1)\n",
      "Requirement already satisfied: whitebox in c:\\users\\crort\\appdata\\roaming\\python\\python38\\site-packages (from whiteboxgui>=0.6.0->geemap) (2.1.2)\n",
      "Requirement already satisfied: click in c:\\programdata\\anaconda3\\lib\\site-packages (from geocoder->geemap) (7.1.2)\n",
      "Requirement already satisfied: six in c:\\programdata\\anaconda3\\lib\\site-packages (from geocoder->geemap) (1.15.0)\n",
      "Requirement already satisfied: ratelim in c:\\programdata\\anaconda3\\lib\\site-packages (from geocoder->geemap) (0.1.6)\n",
      "Requirement already satisfied: beautifulsoup4>=4.9.0 in c:\\programdata\\anaconda3\\lib\\site-packages (from geeadd>=0.5.1->geemap) (4.9.1)\n",
      "Requirement already satisfied: logzero>=1.5.0 in c:\\users\\crort\\appdata\\roaming\\python\\python38\\site-packages (from geeadd>=0.5.1->geemap) (1.7.0)\n",
      "Requirement already satisfied: cycler>=0.10 in c:\\programdata\\anaconda3\\lib\\site-packages (from matplotlib->geemap) (0.10.0)\n",
      "Requirement already satisfied: kiwisolver>=1.0.1 in c:\\programdata\\anaconda3\\lib\\site-packages (from matplotlib->geemap) (1.2.0)\n",
      "Requirement already satisfied: pyparsing!=2.0.4,!=2.1.2,!=2.1.6,>=2.0.1 in c:\\programdata\\anaconda3\\lib\\site-packages (from matplotlib->geemap) (2.4.7)\n",
      "Requirement already satisfied: traitlets>=4.3.0 in c:\\programdata\\anaconda3\\lib\\site-packages (from bqplot->geemap) (4.3.3)\n",
      "Requirement already satisfied: traittypes>=0.0.6 in c:\\programdata\\anaconda3\\lib\\site-packages (from bqplot->geemap) (0.2.1)\n",
      "Requirement already satisfied: networkx in c:\\programdata\\anaconda3\\lib\\site-packages (from mapclassify>=2.4.0->geemap) (2.4)\n",
      "Requirement already satisfied: scikit-learn in c:\\programdata\\anaconda3\\lib\\site-packages (from mapclassify>=2.4.0->geemap) (0.23.1)\n",
      "Requirement already satisfied: scipy>=1.0 in c:\\users\\crort\\appdata\\roaming\\python\\python38\\site-packages (from mapclassify>=2.4.0->geemap) (1.7.1)\n",
      "Requirement already satisfied: google-cloud-storage in c:\\programdata\\anaconda3\\lib\\site-packages (from earthengine-api>=0.1.304->geemap) (2.3.0)\n",
      "Requirement already satisfied: httplib2<1dev,>=0.9.2 in c:\\programdata\\anaconda3\\lib\\site-packages (from earthengine-api>=0.1.304->geemap) (0.19.1)\n",
      "Requirement already satisfied: google-auth-httplib2>=0.0.3 in c:\\programdata\\anaconda3\\lib\\site-packages (from earthengine-api>=0.1.304->geemap) (0.1.0)\n",
      "Requirement already satisfied: httplib2shim in c:\\programdata\\anaconda3\\lib\\site-packages (from earthengine-api>=0.1.304->geemap) (0.0.3)\n",
      "Requirement already satisfied: google-api-python-client<2,>=1.12.1 in c:\\programdata\\anaconda3\\lib\\site-packages (from earthengine-api>=0.1.304->geemap) (1.12.11)\n",
      "Requirement already satisfied: google-auth>=1.4.1 in c:\\programdata\\anaconda3\\lib\\site-packages (from earthengine-api>=0.1.304->geemap) (1.34.0)\n",
      "Requirement already satisfied: plotly>=5.2.2 in c:\\users\\crort\\appdata\\roaming\\python\\python38\\site-packages (from sankee->geemap) (5.8.2)\n",
      "Requirement already satisfied: ipykernel in c:\\programdata\\anaconda3\\lib\\site-packages (from sankee->geemap) (5.3.2)\n",
      "Requirement already satisfied: nbformat>=4.2.0 in c:\\programdata\\anaconda3\\lib\\site-packages (from sankee->geemap) (5.0.7)\n",
      "Requirement already satisfied: tqdm in c:\\programdata\\anaconda3\\lib\\site-packages (from gdown->geemap) (4.47.0)\n",
      "Requirement already satisfied: filelock in c:\\programdata\\anaconda3\\lib\\site-packages (from gdown->geemap) (3.0.12)\n",
      "Requirement already satisfied: jupyterlab-server~=2.10 in c:\\users\\crort\\appdata\\roaming\\python\\python38\\site-packages (from jupyterlab>=3->geemap) (2.14.0)\n",
      "Requirement already satisfied: tornado>=6.1.0 in c:\\users\\crort\\appdata\\roaming\\python\\python38\\site-packages (from jupyterlab>=3->geemap) (6.1)\n",
      "Requirement already satisfied: jupyter-core in c:\\programdata\\anaconda3\\lib\\site-packages (from jupyterlab>=3->geemap) (4.6.3)\n",
      "Requirement already satisfied: ipython in c:\\programdata\\anaconda3\\lib\\site-packages (from jupyterlab>=3->geemap) (7.16.1)\n",
      "Requirement already satisfied: jupyter-server~=1.16 in c:\\users\\crort\\appdata\\roaming\\python\\python38\\site-packages (from jupyterlab>=3->geemap) (1.17.1)\n",
      "Requirement already satisfied: packaging in c:\\programdata\\anaconda3\\lib\\site-packages (from jupyterlab>=3->geemap) (20.4)\n",
      "Requirement already satisfied: nbclassic~=0.2 in c:\\users\\crort\\appdata\\roaming\\python\\python38\\site-packages (from jupyterlab>=3->geemap) (0.3.7)\n",
      "Requirement already satisfied: MarkupSafe>=0.23 in c:\\programdata\\anaconda3\\lib\\site-packages (from jinja2>=2.9->folium>=0.11.0->geemap) (1.1.1)\n",
      "Requirement already satisfied: idna<3,>=2.5 in c:\\programdata\\anaconda3\\lib\\site-packages (from requests->folium>=0.11.0->geemap) (2.10)\n",
      "Requirement already satisfied: certifi>=2017.4.17 in c:\\programdata\\anaconda3\\lib\\site-packages (from requests->folium>=0.11.0->geemap) (2020.6.20)\n",
      "Requirement already satisfied: urllib3!=1.25.0,!=1.25.1,<1.26,>=1.21.1 in c:\\programdata\\anaconda3\\lib\\site-packages (from requests->folium>=0.11.0->geemap) (1.25.9)\n",
      "Requirement already satisfied: chardet<4,>=3.0.2 in c:\\programdata\\anaconda3\\lib\\site-packages (from requests->folium>=0.11.0->geemap) (3.0.4)\n",
      "Requirement already satisfied: ipython-genutils~=0.2.0 in c:\\programdata\\anaconda3\\lib\\site-packages (from ipywidgets>=7.6.0->ipyevents->geemap) (0.2.0)\n",
      "Requirement already satisfied: jupyterlab-widgets>=1.0.0; python_version >= \"3.6\" in c:\\programdata\\anaconda3\\lib\\site-packages (from ipywidgets>=7.6.0->ipyevents->geemap) (1.1.0)\n",
      "Requirement already satisfied: widgetsnbextension~=3.6.0 in c:\\users\\crort\\appdata\\roaming\\python\\python38\\site-packages (from ipywidgets>=7.6.0->ipyevents->geemap) (3.6.0)\n",
      "Requirement already satisfied: decorator in c:\\programdata\\anaconda3\\lib\\site-packages (from ratelim->geocoder->geemap) (4.4.2)\n",
      "Requirement already satisfied: soupsieve>1.2 in c:\\programdata\\anaconda3\\lib\\site-packages (from beautifulsoup4>=4.9.0->geeadd>=0.5.1->geemap) (2.0.1)\n",
      "Requirement already satisfied: colorama; sys_platform == \"win32\" in c:\\programdata\\anaconda3\\lib\\site-packages (from logzero>=1.5.0->geeadd>=0.5.1->geemap) (0.4.3)\n",
      "Requirement already satisfied: threadpoolctl>=2.0.0 in c:\\programdata\\anaconda3\\lib\\site-packages (from scikit-learn->mapclassify>=2.4.0->geemap) (2.1.0)\n",
      "Requirement already satisfied: joblib>=0.11 in c:\\programdata\\anaconda3\\lib\\site-packages (from scikit-learn->mapclassify>=2.4.0->geemap) (0.16.0)\n",
      "Requirement already satisfied: protobuf in c:\\programdata\\anaconda3\\lib\\site-packages (from google-cloud-storage->earthengine-api>=0.1.304->geemap) (3.17.3)\n",
      "Requirement already satisfied: google-resumable-media>=2.3.2 in c:\\programdata\\anaconda3\\lib\\site-packages (from google-cloud-storage->earthengine-api>=0.1.304->geemap) (2.3.3)\n",
      "Requirement already satisfied: google-api-core!=2.0.*,!=2.1.*,!=2.2.*,!=2.3.0,<3.0.0dev,>=1.31.5 in c:\\programdata\\anaconda3\\lib\\site-packages (from google-cloud-storage->earthengine-api>=0.1.304->geemap) (2.8.1)\n",
      "Requirement already satisfied: google-cloud-core<3.0dev,>=2.3.0 in c:\\programdata\\anaconda3\\lib\\site-packages (from google-cloud-storage->earthengine-api>=0.1.304->geemap) (2.3.0)\n",
      "Requirement already satisfied: uritemplate<4dev,>=3.0.0 in c:\\programdata\\anaconda3\\lib\\site-packages (from google-api-python-client<2,>=1.12.1->earthengine-api>=0.1.304->geemap) (3.0.1)\n",
      "Requirement already satisfied: rsa<5,>=3.1.4; python_version >= \"3.6\" in c:\\programdata\\anaconda3\\lib\\site-packages (from google-auth>=1.4.1->earthengine-api>=0.1.304->geemap) (4.7.2)\n",
      "Requirement already satisfied: pyasn1-modules>=0.2.1 in c:\\programdata\\anaconda3\\lib\\site-packages (from google-auth>=1.4.1->earthengine-api>=0.1.304->geemap) (0.2.8)\n",
      "Requirement already satisfied: cachetools<5.0,>=2.0.0 in c:\\programdata\\anaconda3\\lib\\site-packages (from google-auth>=1.4.1->earthengine-api>=0.1.304->geemap) (4.2.2)\n",
      "Requirement already satisfied: setuptools>=40.3.0 in c:\\programdata\\anaconda3\\lib\\site-packages (from google-auth>=1.4.1->earthengine-api>=0.1.304->geemap) (49.2.0.post20200714)\n",
      "Requirement already satisfied: tenacity>=6.2.0 in c:\\users\\crort\\appdata\\roaming\\python\\python38\\site-packages (from plotly>=5.2.2->sankee->geemap) (8.0.1)\n",
      "Requirement already satisfied: jupyter-client in c:\\users\\crort\\appdata\\roaming\\python\\python38\\site-packages (from ipykernel->sankee->geemap) (7.3.4)\n",
      "Requirement already satisfied: jsonschema!=2.5.0,>=2.4 in c:\\programdata\\anaconda3\\lib\\site-packages (from nbformat>=4.2.0->sankee->geemap) (3.2.0)\n",
      "Requirement already satisfied: babel in c:\\programdata\\anaconda3\\lib\\site-packages (from jupyterlab-server~=2.10->jupyterlab>=3->geemap) (2.8.0)\n",
      "Requirement already satisfied: importlib-metadata>=3.6; python_version < \"3.10\" in c:\\users\\crort\\appdata\\roaming\\python\\python38\\site-packages (from jupyterlab-server~=2.10->jupyterlab>=3->geemap) (4.11.4)\n",
      "Requirement already satisfied: json5 in c:\\programdata\\anaconda3\\lib\\site-packages (from jupyterlab-server~=2.10->jupyterlab>=3->geemap) (0.9.5)\n",
      "Requirement already satisfied: pywin32>=1.0; sys_platform == \"win32\" in c:\\programdata\\anaconda3\\lib\\site-packages (from jupyter-core->jupyterlab>=3->geemap) (227)\n",
      "Requirement already satisfied: backcall in c:\\programdata\\anaconda3\\lib\\site-packages (from ipython->jupyterlab>=3->geemap) (0.2.0)\n",
      "Requirement already satisfied: pygments in c:\\programdata\\anaconda3\\lib\\site-packages (from ipython->jupyterlab>=3->geemap) (2.6.1)\n",
      "Requirement already satisfied: jedi>=0.10 in c:\\programdata\\anaconda3\\lib\\site-packages (from ipython->jupyterlab>=3->geemap) (0.17.1)\n",
      "Requirement already satisfied: prompt-toolkit!=3.0.0,!=3.0.1,<3.1.0,>=2.0.0 in c:\\programdata\\anaconda3\\lib\\site-packages (from ipython->jupyterlab>=3->geemap) (3.0.5)\n",
      "Requirement already satisfied: pickleshare in c:\\programdata\\anaconda3\\lib\\site-packages (from ipython->jupyterlab>=3->geemap) (0.7.5)\n",
      "Requirement already satisfied: Send2Trash in c:\\programdata\\anaconda3\\lib\\site-packages (from jupyter-server~=1.16->jupyterlab>=3->geemap) (1.5.0)\n",
      "Requirement already satisfied: pywinpty; os_name == \"nt\" in c:\\programdata\\anaconda3\\lib\\site-packages (from jupyter-server~=1.16->jupyterlab>=3->geemap) (0.5.7)\n",
      "Requirement already satisfied: nbconvert>=6.4.4 in c:\\users\\crort\\appdata\\roaming\\python\\python38\\site-packages (from jupyter-server~=1.16->jupyterlab>=3->geemap) (6.5.0)\n",
      "Requirement already satisfied: prometheus-client in c:\\programdata\\anaconda3\\lib\\site-packages (from jupyter-server~=1.16->jupyterlab>=3->geemap) (0.8.0)\n",
      "Requirement already satisfied: websocket-client in c:\\users\\crort\\appdata\\roaming\\python\\python38\\site-packages (from jupyter-server~=1.16->jupyterlab>=3->geemap) (1.3.3)\n",
      "Requirement already satisfied: argon2-cffi in c:\\users\\crort\\appdata\\roaming\\python\\python38\\site-packages (from jupyter-server~=1.16->jupyterlab>=3->geemap) (21.3.0)\n",
      "Requirement already satisfied: anyio<4,>=3.1.0 in c:\\users\\crort\\appdata\\roaming\\python\\python38\\site-packages (from jupyter-server~=1.16->jupyterlab>=3->geemap) (3.6.1)\n",
      "Requirement already satisfied: terminado>=0.8.3 in c:\\programdata\\anaconda3\\lib\\site-packages (from jupyter-server~=1.16->jupyterlab>=3->geemap) (0.8.3)\n",
      "Requirement already satisfied: pyzmq>=17 in c:\\programdata\\anaconda3\\lib\\site-packages (from jupyter-server~=1.16->jupyterlab>=3->geemap) (19.0.1)\n",
      "Requirement already satisfied: notebook<7 in c:\\programdata\\anaconda3\\lib\\site-packages (from nbclassic~=0.2->jupyterlab>=3->geemap) (6.0.3)\n",
      "Requirement already satisfied: notebook-shim>=0.1.0 in c:\\users\\crort\\appdata\\roaming\\python\\python38\\site-packages (from nbclassic~=0.2->jupyterlab>=3->geemap) (0.1.0)\n",
      "Requirement already satisfied: google-crc32c<2.0dev,>=1.0 in c:\\programdata\\anaconda3\\lib\\site-packages (from google-resumable-media>=2.3.2->google-cloud-storage->earthengine-api>=0.1.304->geemap) (1.3.0)\n"
     ]
    },
    {
     "name": "stdout",
     "output_type": "stream",
     "text": [
      "Requirement already satisfied: googleapis-common-protos<2.0dev,>=1.56.2 in c:\\programdata\\anaconda3\\lib\\site-packages (from google-api-core!=2.0.*,!=2.1.*,!=2.2.*,!=2.3.0,<3.0.0dev,>=1.31.5->google-cloud-storage->earthengine-api>=0.1.304->geemap) (1.56.2)\n",
      "Requirement already satisfied: pyasn1>=0.1.3 in c:\\programdata\\anaconda3\\lib\\site-packages (from rsa<5,>=3.1.4; python_version >= \"3.6\"->google-auth>=1.4.1->earthengine-api>=0.1.304->geemap) (0.4.8)\n",
      "Requirement already satisfied: entrypoints in c:\\programdata\\anaconda3\\lib\\site-packages (from jupyter-client->ipykernel->sankee->geemap) (0.3)\n",
      "Requirement already satisfied: nest-asyncio>=1.5.4 in c:\\users\\crort\\appdata\\roaming\\python\\python38\\site-packages (from jupyter-client->ipykernel->sankee->geemap) (1.5.5)\n",
      "Requirement already satisfied: attrs>=17.4.0 in c:\\programdata\\anaconda3\\lib\\site-packages (from jsonschema!=2.5.0,>=2.4->nbformat>=4.2.0->sankee->geemap) (19.3.0)\n",
      "Requirement already satisfied: pyrsistent>=0.14.0 in c:\\programdata\\anaconda3\\lib\\site-packages (from jsonschema!=2.5.0,>=2.4->nbformat>=4.2.0->sankee->geemap) (0.16.0)\n",
      "Requirement already satisfied: zipp>=0.5 in c:\\programdata\\anaconda3\\lib\\site-packages (from importlib-metadata>=3.6; python_version < \"3.10\"->jupyterlab-server~=2.10->jupyterlab>=3->geemap) (3.1.0)\n",
      "Requirement already satisfied: parso<0.8.0,>=0.7.0 in c:\\programdata\\anaconda3\\lib\\site-packages (from jedi>=0.10->ipython->jupyterlab>=3->geemap) (0.7.0)\n",
      "Requirement already satisfied: wcwidth in c:\\programdata\\anaconda3\\lib\\site-packages (from prompt-toolkit!=3.0.0,!=3.0.1,<3.1.0,>=2.0.0->ipython->jupyterlab>=3->geemap) (0.2.5)\n",
      "Requirement already satisfied: jupyterlab-pygments in c:\\users\\crort\\appdata\\roaming\\python\\python38\\site-packages (from nbconvert>=6.4.4->jupyter-server~=1.16->jupyterlab>=3->geemap) (0.2.2)\n",
      "Requirement already satisfied: pandocfilters>=1.4.1 in c:\\programdata\\anaconda3\\lib\\site-packages (from nbconvert>=6.4.4->jupyter-server~=1.16->jupyterlab>=3->geemap) (1.4.2)\n",
      "Requirement already satisfied: nbclient>=0.5.0 in c:\\users\\crort\\appdata\\roaming\\python\\python38\\site-packages (from nbconvert>=6.4.4->jupyter-server~=1.16->jupyterlab>=3->geemap) (0.6.4)\n",
      "Requirement already satisfied: defusedxml in c:\\programdata\\anaconda3\\lib\\site-packages (from nbconvert>=6.4.4->jupyter-server~=1.16->jupyterlab>=3->geemap) (0.6.0)\n",
      "Requirement already satisfied: tinycss2 in c:\\users\\crort\\appdata\\roaming\\python\\python38\\site-packages (from nbconvert>=6.4.4->jupyter-server~=1.16->jupyterlab>=3->geemap) (1.1.1)\n",
      "Requirement already satisfied: bleach in c:\\programdata\\anaconda3\\lib\\site-packages (from nbconvert>=6.4.4->jupyter-server~=1.16->jupyterlab>=3->geemap) (3.1.5)\n",
      "Requirement already satisfied: mistune<2,>=0.8.1 in c:\\programdata\\anaconda3\\lib\\site-packages (from nbconvert>=6.4.4->jupyter-server~=1.16->jupyterlab>=3->geemap) (0.8.4)\n",
      "Requirement already satisfied: argon2-cffi-bindings in c:\\users\\crort\\appdata\\roaming\\python\\python38\\site-packages (from argon2-cffi->jupyter-server~=1.16->jupyterlab>=3->geemap) (21.2.0)\n",
      "Requirement already satisfied: sniffio>=1.1 in c:\\users\\crort\\appdata\\roaming\\python\\python38\\site-packages (from anyio<4,>=3.1.0->jupyter-server~=1.16->jupyterlab>=3->geemap) (1.2.0)\n",
      "Requirement already satisfied: webencodings>=0.4 in c:\\programdata\\anaconda3\\lib\\site-packages (from tinycss2->nbconvert>=6.4.4->jupyter-server~=1.16->jupyterlab>=3->geemap) (0.5.1)\n",
      "Requirement already satisfied: cffi>=1.0.1 in c:\\programdata\\anaconda3\\lib\\site-packages (from argon2-cffi-bindings->argon2-cffi->jupyter-server~=1.16->jupyterlab>=3->geemap) (1.14.0)\n",
      "Requirement already satisfied: pycparser in c:\\programdata\\anaconda3\\lib\\site-packages (from cffi>=1.0.1->argon2-cffi-bindings->argon2-cffi->jupyter-server~=1.16->jupyterlab>=3->geemap) (2.20)\n"
     ]
    }
   ],
   "source": [
    "!pip install geemap --user --no-warn-script-location"
   ]
  },
  {
   "cell_type": "code",
   "execution_count": 12,
   "id": "52b04c13",
   "metadata": {},
   "outputs": [
    {
     "name": "stdout",
     "output_type": "stream",
     "text": [
      "Fetching credentials using gcloud\n",
      "gcloud failed. Please check for any errors above and install gcloud if needed."
     ]
    },
    {
     "name": "stderr",
     "output_type": "stream",
     "text": [
      "'gcloud' is not recognized as an internal or external command,"
     ]
    },
    {
     "name": "stdout",
     "output_type": "stream",
     "text": [
      "\n"
     ]
    },
    {
     "name": "stderr",
     "output_type": "stream",
     "text": [
      "\n",
      "operable program or batch file.\n"
     ]
    }
   ],
   "source": [
    "!earthengine authenticate"
   ]
  },
  {
   "cell_type": "code",
   "execution_count": 11,
   "id": "e2d91c22",
   "metadata": {},
   "outputs": [
    {
     "name": "stdout",
     "output_type": "stream",
     "text": [
      "Collecting gcloudNote: you may need to restart the kernel to use updated packages.\n",
      "\n",
      "  Downloading gcloud-0.18.3.tar.gz (454 kB)\n",
      "Requirement already satisfied: httplib2>=0.9.1 in c:\\programdata\\anaconda3\\lib\\site-packages (from gcloud) (0.19.1)\n",
      "Requirement already satisfied: googleapis-common-protos in c:\\programdata\\anaconda3\\lib\\site-packages (from gcloud) (1.56.2)\n",
      "Requirement already satisfied: oauth2client>=2.0.1 in c:\\programdata\\anaconda3\\lib\\site-packages (from gcloud) (4.1.3)\n",
      "Requirement already satisfied: protobuf!=3.0.0.b2.post1,>=3.0.0b2 in c:\\programdata\\anaconda3\\lib\\site-packages (from gcloud) (3.17.3)\n",
      "Requirement already satisfied: six in c:\\programdata\\anaconda3\\lib\\site-packages (from gcloud) (1.15.0)\n",
      "Requirement already satisfied: pyparsing<3,>=2.4.2 in c:\\programdata\\anaconda3\\lib\\site-packages (from httplib2>=0.9.1->gcloud) (2.4.7)\n",
      "Requirement already satisfied: rsa>=3.1.4 in c:\\programdata\\anaconda3\\lib\\site-packages (from oauth2client>=2.0.1->gcloud) (4.7.2)\n",
      "Requirement already satisfied: pyasn1>=0.1.7 in c:\\programdata\\anaconda3\\lib\\site-packages (from oauth2client>=2.0.1->gcloud) (0.4.8)\n",
      "Requirement already satisfied: pyasn1-modules>=0.0.5 in c:\\programdata\\anaconda3\\lib\\site-packages (from oauth2client>=2.0.1->gcloud) (0.2.8)\n",
      "Building wheels for collected packages: gcloud\n",
      "  Building wheel for gcloud (setup.py): started\n",
      "  Building wheel for gcloud (setup.py): finished with status 'done'\n",
      "  Created wheel for gcloud: filename=gcloud-0.18.3-py3-none-any.whl size=602937 sha256=dc2774b894d4f656173a3c5b72189098318f987c5752f43503c0044b497579a3\n",
      "  Stored in directory: c:\\users\\crort\\appdata\\local\\pip\\cache\\wheels\\86\\05\\94\\4ad6324debd4e3edba7fdf252f1ff2d2aba09673a794e67a27\n",
      "Successfully built gcloud\n",
      "Installing collected packages: gcloud\n",
      "Successfully installed gcloud-0.18.3\n"
     ]
    }
   ],
   "source": [
    "pip install gcloud"
   ]
  },
  {
   "cell_type": "code",
   "execution_count": 8,
   "id": "c6f42448",
   "metadata": {},
   "outputs": [
    {
     "ename": "EEException",
     "evalue": "Please authorize access to your Earth Engine account by running\n\nearthengine authenticate\n\nin your command line, and then retry.",
     "output_type": "error",
     "traceback": [
      "\u001b[1;31m---------------------------------------------------------------------------\u001b[0m",
      "\u001b[1;31mFileNotFoundError\u001b[0m                         Traceback (most recent call last)",
      "\u001b[1;32mC:\\ProgramData\\Anaconda3\\lib\\site-packages\\ee\\data.py\u001b[0m in \u001b[0;36mget_persistent_credentials\u001b[1;34m()\u001b[0m\n\u001b[0;32m    222\u001b[0m   \u001b[1;32mtry\u001b[0m\u001b[1;33m:\u001b[0m\u001b[1;33m\u001b[0m\u001b[1;33m\u001b[0m\u001b[0m\n\u001b[1;32m--> 223\u001b[1;33m     \u001b[1;32mreturn\u001b[0m \u001b[0mCredentials\u001b[0m\u001b[1;33m(\u001b[0m\u001b[1;32mNone\u001b[0m\u001b[1;33m,\u001b[0m \u001b[1;33m**\u001b[0m\u001b[0moauth\u001b[0m\u001b[1;33m.\u001b[0m\u001b[0mget_credentials_arguments\u001b[0m\u001b[1;33m(\u001b[0m\u001b[1;33m)\u001b[0m\u001b[1;33m)\u001b[0m\u001b[1;33m\u001b[0m\u001b[1;33m\u001b[0m\u001b[0m\n\u001b[0m\u001b[0;32m    224\u001b[0m   \u001b[1;32mexcept\u001b[0m \u001b[0mIOError\u001b[0m\u001b[1;33m:\u001b[0m\u001b[1;33m\u001b[0m\u001b[1;33m\u001b[0m\u001b[0m\n",
      "\u001b[1;32mC:\\ProgramData\\Anaconda3\\lib\\site-packages\\ee\\oauth.py\u001b[0m in \u001b[0;36mget_credentials_arguments\u001b[1;34m()\u001b[0m\n\u001b[0;32m     70\u001b[0m \u001b[1;32mdef\u001b[0m \u001b[0mget_credentials_arguments\u001b[0m\u001b[1;33m(\u001b[0m\u001b[1;33m)\u001b[0m\u001b[1;33m:\u001b[0m\u001b[1;33m\u001b[0m\u001b[1;33m\u001b[0m\u001b[0m\n\u001b[1;32m---> 71\u001b[1;33m   \u001b[1;32mwith\u001b[0m \u001b[0mopen\u001b[0m\u001b[1;33m(\u001b[0m\u001b[0mget_credentials_path\u001b[0m\u001b[1;33m(\u001b[0m\u001b[1;33m)\u001b[0m\u001b[1;33m)\u001b[0m \u001b[1;32mas\u001b[0m \u001b[0mcreds\u001b[0m\u001b[1;33m:\u001b[0m\u001b[1;33m\u001b[0m\u001b[1;33m\u001b[0m\u001b[0m\n\u001b[0m\u001b[0;32m     72\u001b[0m     \u001b[0mstored\u001b[0m \u001b[1;33m=\u001b[0m \u001b[0mjson\u001b[0m\u001b[1;33m.\u001b[0m\u001b[0mload\u001b[0m\u001b[1;33m(\u001b[0m\u001b[0mcreds\u001b[0m\u001b[1;33m)\u001b[0m\u001b[1;33m\u001b[0m\u001b[1;33m\u001b[0m\u001b[0m\n",
      "\u001b[1;31mFileNotFoundError\u001b[0m: [Errno 2] No such file or directory: 'C:\\\\Users\\\\crort/.config/earthengine/credentials'",
      "\nDuring handling of the above exception, another exception occurred:\n",
      "\u001b[1;31mEEException\u001b[0m                               Traceback (most recent call last)",
      "\u001b[1;32m<ipython-input-8-0e31634a944a>\u001b[0m in \u001b[0;36m<module>\u001b[1;34m\u001b[0m\n\u001b[0;32m      1\u001b[0m \u001b[1;31m#Initialize Google Earth Engine\u001b[0m\u001b[1;33m\u001b[0m\u001b[1;33m\u001b[0m\u001b[1;33m\u001b[0m\u001b[0m\n\u001b[0;32m      2\u001b[0m \u001b[1;31m#ee.Authenticate() just needed the 1st time\u001b[0m\u001b[1;33m\u001b[0m\u001b[1;33m\u001b[0m\u001b[1;33m\u001b[0m\u001b[0m\n\u001b[1;32m----> 3\u001b[1;33m \u001b[0mee\u001b[0m\u001b[1;33m.\u001b[0m\u001b[0mInitialize\u001b[0m\u001b[1;33m(\u001b[0m\u001b[1;33m)\u001b[0m\u001b[1;33m\u001b[0m\u001b[1;33m\u001b[0m\u001b[0m\n\u001b[0m",
      "\u001b[1;32mC:\\ProgramData\\Anaconda3\\lib\\site-packages\\ee\\__init__.py\u001b[0m in \u001b[0;36mInitialize\u001b[1;34m(credentials, opt_url, cloud_api_key, http_transport, project)\u001b[0m\n\u001b[0;32m    125\u001b[0m   \"\"\"\n\u001b[0;32m    126\u001b[0m   \u001b[1;32mif\u001b[0m \u001b[0mcredentials\u001b[0m \u001b[1;33m==\u001b[0m \u001b[1;34m'persistent'\u001b[0m\u001b[1;33m:\u001b[0m\u001b[1;33m\u001b[0m\u001b[1;33m\u001b[0m\u001b[0m\n\u001b[1;32m--> 127\u001b[1;33m     \u001b[0mcredentials\u001b[0m \u001b[1;33m=\u001b[0m \u001b[0mdata\u001b[0m\u001b[1;33m.\u001b[0m\u001b[0mget_persistent_credentials\u001b[0m\u001b[1;33m(\u001b[0m\u001b[1;33m)\u001b[0m\u001b[1;33m\u001b[0m\u001b[1;33m\u001b[0m\u001b[0m\n\u001b[0m\u001b[0;32m    128\u001b[0m   data.initialize(\n\u001b[0;32m    129\u001b[0m       \u001b[0mcredentials\u001b[0m\u001b[1;33m=\u001b[0m\u001b[0mcredentials\u001b[0m\u001b[1;33m,\u001b[0m\u001b[1;33m\u001b[0m\u001b[1;33m\u001b[0m\u001b[0m\n",
      "\u001b[1;32mC:\\ProgramData\\Anaconda3\\lib\\site-packages\\ee\\data.py\u001b[0m in \u001b[0;36mget_persistent_credentials\u001b[1;34m()\u001b[0m\n\u001b[0;32m    223\u001b[0m     \u001b[1;32mreturn\u001b[0m \u001b[0mCredentials\u001b[0m\u001b[1;33m(\u001b[0m\u001b[1;32mNone\u001b[0m\u001b[1;33m,\u001b[0m \u001b[1;33m**\u001b[0m\u001b[0moauth\u001b[0m\u001b[1;33m.\u001b[0m\u001b[0mget_credentials_arguments\u001b[0m\u001b[1;33m(\u001b[0m\u001b[1;33m)\u001b[0m\u001b[1;33m)\u001b[0m\u001b[1;33m\u001b[0m\u001b[1;33m\u001b[0m\u001b[0m\n\u001b[0;32m    224\u001b[0m   \u001b[1;32mexcept\u001b[0m \u001b[0mIOError\u001b[0m\u001b[1;33m:\u001b[0m\u001b[1;33m\u001b[0m\u001b[1;33m\u001b[0m\u001b[0m\n\u001b[1;32m--> 225\u001b[1;33m     raise ee_exception.EEException(\n\u001b[0m\u001b[0;32m    226\u001b[0m         \u001b[1;34m'Please authorize access to your Earth Engine account by '\u001b[0m\u001b[1;33m\u001b[0m\u001b[1;33m\u001b[0m\u001b[0m\n\u001b[0;32m    227\u001b[0m         \u001b[1;34m'running\\n\\nearthengine authenticate\\n\\n'\u001b[0m\u001b[1;33m\u001b[0m\u001b[1;33m\u001b[0m\u001b[0m\n",
      "\u001b[1;31mEEException\u001b[0m: Please authorize access to your Earth Engine account by running\n\nearthengine authenticate\n\nin your command line, and then retry."
     ]
    }
   ],
   "source": [
    "#Initialize Google Earth Engine\n",
    "#ee.Authenticate() just needed the 1st time\n",
    "ee.Initialize()"
   ]
  },
  {
   "cell_type": "code",
   "execution_count": 3,
   "id": "a5e4d84e",
   "metadata": {},
   "outputs": [],
   "source": [
    "#Data loads\n",
    "\n",
    "#loads feature collection data from Google Earth Engine - We can also upload other feature collections\n",
    "counties = ee.FeatureCollection(\"TIGER/2018/Counties\")\n",
    "\n",
    "#filter LA County\n",
    "la_county = counties.filter(ee.Filter.eq('NAME', 'Los Angeles'))"
   ]
  },
  {
   "cell_type": "code",
   "execution_count": 4,
   "id": "9937b725",
   "metadata": {},
   "outputs": [],
   "source": [
    "#loads cities data - Not in current use\n",
    "\n",
    "#load California Cities Shapefile\n",
    "cities = ee.FeatureCollection(\"projects/california-lawn-detection/assets/Cities2015\")\n",
    "\n",
    "# Filter for LA City\n",
    "la_cities = cities.filter(ee.Filter.eq('County', 'Los Angeles'))\n",
    "\n",
    "la_county_income_zipcode2 = ee.FeatureCollection(\"projects/california-lawn-detection/assets/income_zipcode2019\")\n",
    "la_county_income_zipcode = la_county_income_zipcode2.select(ee.List(['zipcode', '2019zipcod','shape_area']), ee.List(['ZipCode', 'Median_Income','Area_sqft']))"
   ]
  },
  {
   "cell_type": "code",
   "execution_count": 5,
   "id": "a178b3ae",
   "metadata": {},
   "outputs": [],
   "source": [
    "Map = geemap.Map()"
   ]
  },
  {
   "cell_type": "code",
   "execution_count": 6,
   "id": "eec7861c",
   "metadata": {},
   "outputs": [],
   "source": [
    "Map.addLayer(la_county_income_zipcode,{}, 'la_county_zipcode')"
   ]
  },
  {
   "cell_type": "code",
   "execution_count": 7,
   "id": "3a515285",
   "metadata": {},
   "outputs": [
    {
     "data": {
      "application/vnd.jupyter.widget-view+json": {
       "model_id": "27aa92b32df5421db3762bb9cd9eae1a",
       "version_major": 2,
       "version_minor": 0
      },
      "text/plain": [
       "Map(center=[20, 0], controls=(WidgetControl(options=['position', 'transparent_bg'], widget=HBox(children=(Togg…"
      ]
     },
     "metadata": {},
     "output_type": "display_data"
    }
   ],
   "source": [
    "Map"
   ]
  },
  {
   "cell_type": "code",
   "execution_count": 8,
   "id": "b4693c42",
   "metadata": {},
   "outputs": [],
   "source": [
    "image_collection_2020_modis = (\n",
    "    ee.ImageCollection('MODIS/006/MOD11A2')\n",
    "    .filterDate('2020-04-01', '2020-06-30')\n",
    "    .select(['LST_Day_1km', 'LST_Night_1km'])\n",
    ")"
   ]
  },
  {
   "cell_type": "code",
   "execution_count": 9,
   "id": "75454bc1",
   "metadata": {},
   "outputs": [],
   "source": [
    "image_2020_modis = image_collection_2020_modis.median()\n",
    "\n",
    "image_2020_modis_clipped = image_2020_modis.clip(la_county)\n",
    "\n",
    "daytime = image_2020_modis_clipped.select('LST_Day_1km')\n",
    "\n",
    "landSurfaceTemperatureVis = {\n",
    "  'min': 14000.0,\n",
    "  'max': 16000.0,\n",
    "  'palette': [\n",
    "    '040274', '040281', '0502a3', '0502b8', '0502ce', '0502e6',\n",
    "    '0602ff', '235cb1', '307ef3', '269db1', '30c8e2', '32d3ef',\n",
    "    '3be285', '3ff38f', '86e26f', '3ae237', 'b5e22e', 'd6e21f',\n",
    "    'fff705', 'ffd611', 'ffb613', 'ff8b13', 'ff6e08', 'ff500d',\n",
    "    'ff0000', 'de0101', 'c21301', 'a71001', '911003'\n",
    "  ],\n",
    "}\n"
   ]
  },
  {
   "cell_type": "code",
   "execution_count": 10,
   "id": "8a11cb3a",
   "metadata": {},
   "outputs": [],
   "source": [
    "Map.addLayer(image_2020_modis_clipped,{}, 'image_2020_modis_clipped')\n",
    "\n",
    "Map.addLayer(daytime, landSurfaceTemperatureVis, 'Land Surface Temperature')"
   ]
  },
  {
   "cell_type": "code",
   "execution_count": 12,
   "id": "4dce1674",
   "metadata": {},
   "outputs": [],
   "source": [
    "z90802 = la_county_income_zipcode.filter(ee.Filter.eq('ZipCode', '90802')) "
   ]
  },
  {
   "cell_type": "code",
   "execution_count": 25,
   "id": "23f95fd2",
   "metadata": {},
   "outputs": [],
   "source": [
    "def mean_calculation_daytime(image, shape, pixel_scale):\n",
    "    \n",
    "    areaImage = image.select('LST_Day_1km')\n",
    "    \n",
    "    reducers = ee.Reducer.mean().combine({'reducer2': ee.Reducer.stdDev(),'sharedInputs': True})\n",
    "    \n",
    "    mean_temperature = areaImage.reduceRegion(\n",
    "        reducer = reducers,\n",
    "        geometry = shape.geometry(), \n",
    "        scale = pixel_scale, \n",
    "        maxPixels = 1e13)\n",
    "    \n",
    "    return mean_temperature"
   ]
  },
  {
   "cell_type": "code",
   "execution_count": 26,
   "id": "750169cd",
   "metadata": {},
   "outputs": [],
   "source": [
    "t = mean_calculation(image_2020_modis_clipped, z90802, 1000)"
   ]
  },
  {
   "cell_type": "code",
   "execution_count": 32,
   "id": "92e29b61",
   "metadata": {},
   "outputs": [
    {
     "name": "stdout",
     "output_type": "stream",
     "text": [
      "33.498711624245516\n"
     ]
    }
   ],
   "source": [
    "print(t.getInfo().get('LST_Day_1km') * .02 - 273)"
   ]
  },
  {
   "cell_type": "code",
   "execution_count": null,
   "id": "eb40836d",
   "metadata": {},
   "outputs": [],
   "source": [
    "Temperatura de dia y temperatura de noche"
   ]
  },
  {
   "cell_type": "code",
   "execution_count": 17,
   "id": "ffd0a7a7",
   "metadata": {},
   "outputs": [
    {
     "data": {
      "application/vnd.jupyter.widget-view+json": {
       "model_id": "27aa92b32df5421db3762bb9cd9eae1a",
       "version_major": 2,
       "version_minor": 0
      },
      "text/plain": [
       "Map(bottom=26344.0, center=[34.615126683462194, -117.84484863281251], controls=(WidgetControl(options=['positi…"
      ]
     },
     "metadata": {},
     "output_type": "display_data"
    },
    {
     "data": {
      "application/javascript": [
       "\n",
       "        var code = IPython.notebook.insert_cell_below('code');\n",
       "        code.set_text(atob(\"aW1wb3J0IGdlZW1hcAoKTWFwID0gZ2VlbWFwLk1hcCgpCgpyZWR1Y2VycyA9IGVlLlJlZHVjZXIubWVhbigpLmNvbWJpbmUoewogICdyZWR1Y2VyMic6IGVlLlJlZHVjZXIuc3RkRGV2KCksCiAgJ3NoYXJlZElucHV0cyc6IFRydWUKfSkKTWFw\"));\n",
       "    "
      ],
      "text/plain": [
       "<IPython.core.display.Javascript object>"
      ]
     },
     "metadata": {},
     "output_type": "display_data"
    },
    {
     "data": {
      "application/javascript": [
       "\n",
       "        var code = IPython.notebook.insert_cell_below('code');\n",
       "        code.set_text(atob(\"aW1wb3J0IGdlZW1hcAoKTWFwID0gZ2VlbWFwLk1hcCgpCgojIENvbWJpbmUgdGhlIG1lYW4gYW5kIHN0YW5kYXJkIGRldmlhdGlvbiByZWR1Y2Vycy4KcmVkdWNlcnMgPSBlZS5SZWR1Y2VyLm1lYW4oKS5jb21iaW5lKHsKICAncmVkdWNlcjInOiBlZS5SZWR1Y2VyLnN0ZERldigpLAogICdzaGFyZWRJbnB1dHMnOiBUcnVlCn0pCgojIFVzZSB0aGUgY29tYmluZWQgcmVkdWNlciB0byBnZXQgdGhlIG1lYW4gYW5kIFNEIG9mIHRoZSBpbWFnZS4Kc3RhdHMgPSBpbWFnZS5yZWR1Y2VSZWdpb24oewogICdyZWR1Y2VyJzogcmVkdWNlcnMsCiAgJ2Jlc3RFZmZvcnQnOiBUcnVlLAp9KQpNYXA=\"));\n",
       "    "
      ],
      "text/plain": [
       "<IPython.core.display.Javascript object>"
      ]
     },
     "metadata": {},
     "output_type": "display_data"
    }
   ],
   "source": [
    "Map"
   ]
  },
  {
   "cell_type": "code",
   "execution_count": null,
   "id": "328b3ab3",
   "metadata": {},
   "outputs": [],
   "source": [
    "import geemap\n",
    "\n",
    "Map = geemap.Map()\n",
    "\n",
    "# Combine the mean and standard deviation reducers.\n",
    "reducers = ee.Reducer.mean().combine({\n",
    "  'reducer2': ee.Reducer.stdDev(),\n",
    "  'sharedInputs': True\n",
    "})\n",
    "\n",
    "# Use the combined reducer to get the mean and SD of the image.\n",
    "stats = image.reduceRegion({\n",
    "  'reducer': reducers,\n",
    "  'bestEffort': True,\n",
    "})\n",
    "Map"
   ]
  },
  {
   "cell_type": "code",
   "execution_count": null,
   "id": "9aee21ad",
   "metadata": {},
   "outputs": [],
   "source": []
  }
 ],
 "metadata": {
  "kernelspec": {
   "display_name": "Python 3",
   "language": "python",
   "name": "python3"
  },
  "language_info": {
   "codemirror_mode": {
    "name": "ipython",
    "version": 3
   },
   "file_extension": ".py",
   "mimetype": "text/x-python",
   "name": "python",
   "nbconvert_exporter": "python",
   "pygments_lexer": "ipython3",
   "version": "3.8.8"
  }
 },
 "nbformat": 4,
 "nbformat_minor": 5
}
