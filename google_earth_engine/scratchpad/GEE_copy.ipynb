{
 "cells": [
  {
   "cell_type": "markdown",
   "id": "d9b175af",
   "metadata": {},
   "source": [
    "# Google Earth Engine Component"
   ]
  },
  {
   "cell_type": "markdown",
   "id": "593d9750",
   "metadata": {},
   "source": [
    "## Initialize"
   ]
  },
  {
   "cell_type": "code",
   "execution_count": 1,
   "id": "03c94423",
   "metadata": {},
   "outputs": [],
   "source": [
    "#Import required libraries\n",
    "import ee\n",
    "import geemap\n",
    "import math\n",
    "\n",
    "import numpy as np\n",
    "import matplotlib.pyplot as plt\n",
    "\n",
    "import itertools\n",
    "# from varname import nameof\n",
    "\n",
    "import pandas as pd\n",
    "from time import time"
   ]
  },
  {
   "cell_type": "code",
   "execution_count": 2,
   "id": "495218eb",
   "metadata": {},
   "outputs": [],
   "source": [
    "#Initialize Google Earth Engine\n",
    "# ee.Authenticate() #just needed the 1st time\n",
    "ee.Initialize()"
   ]
  },
  {
   "cell_type": "code",
   "execution_count": 73,
   "id": "09c3ade3",
   "metadata": {},
   "outputs": [],
   "source": [
    "# Check if geemap is working as intended - plot the leaflet map\n",
    "Map = geemap.Map()"
   ]
  },
  {
   "cell_type": "code",
   "execution_count": 74,
   "id": "0715441f",
   "metadata": {},
   "outputs": [
    {
     "data": {
      "application/vnd.jupyter.widget-view+json": {
       "model_id": "8547ed44e7e44029bc77f065b6dd6bd4",
       "version_major": 2,
       "version_minor": 0
      },
      "text/plain": [
       "Map(center=[20, 0], controls=(WidgetControl(options=['position', 'transparent_bg'], widget=HBox(children=(Togg…"
      ]
     },
     "metadata": {},
     "output_type": "display_data"
    }
   ],
   "source": [
    "Map"
   ]
  },
  {
   "cell_type": "markdown",
   "id": "9b1b0938",
   "metadata": {},
   "source": [
    "## Load Feature Collection - Shapefiles"
   ]
  },
  {
   "cell_type": "code",
   "execution_count": 75,
   "id": "f99587c5",
   "metadata": {},
   "outputs": [],
   "source": [
    "#Data loads\n",
    "\n",
    "#loads feature collection data from Google Earth Engine - We can also upload other feature collections\n",
    "counties = ee.FeatureCollection(\"TIGER/2018/Counties\")\n",
    "\n",
    "#filter LA County\n",
    "la_county = counties.filter(ee.Filter.eq('NAME', 'Los Angeles'))\n",
    "sc_county = counties.filter(ee.Filter.eq('NAME', 'Santa Clara'))"
   ]
  },
  {
   "cell_type": "code",
   "execution_count": 76,
   "id": "e851587a",
   "metadata": {},
   "outputs": [
    {
     "data": {
      "text/plain": [
       "(<ee.featurecollection.FeatureCollection at 0x7fa15d65f850>,\n",
       " <ee.featurecollection.FeatureCollection at 0x7fa15d65ff10>)"
      ]
     },
     "execution_count": 76,
     "metadata": {},
     "output_type": "execute_result"
    }
   ],
   "source": [
    "la_county, sc_county"
   ]
  },
  {
   "cell_type": "markdown",
   "id": "0eb75d65",
   "metadata": {},
   "source": [
    "## Load NAIP Imagery"
   ]
  },
  {
   "cell_type": "code",
   "execution_count": 7,
   "id": "fc16b2f6",
   "metadata": {},
   "outputs": [],
   "source": [
    "def apply_3bands(image, band):\n",
    "    i_8_bit = image.select(band).toUint8()\n",
    "    square = ee.Kernel.square(**{'radius': 4})\n",
    "    entropy = i_8_bit.entropy(square)\n",
    "    glcm = i_8_bit.glcmTexture(**{'size': 4})\n",
    "    contrast = glcm.select(str(band)+'_contrast')\n",
    "    \n",
    "    # Create a list of weights for a 9x9 kernel.\n",
    "    list = [1, 1, 1, 1, 1, 1, 1, 1, 1]\n",
    "    # The center of the kernel is zero.\n",
    "    centerList = [1, 1, 1, 1, 0, 1, 1, 1, 1]\n",
    "    # Assemble a list of lists: the 9x9 kernel weights as a 2-D matrix.\n",
    "    lists = [list, list, list, list, centerList, list, list, list, list]\n",
    "    # Create the kernel from the weights.\n",
    "    # Non-zero weights represent the spatial neighborhood.\n",
    "    kernel = ee.Kernel.fixed(9, 9, lists, -4, -4, False)\n",
    "    neighs = i_8_bit.neighborhoodToBands(kernel)\n",
    "    gearys = i_8_bit.subtract(neighs).pow(2).reduce(ee.Reducer.sum()).divide(math.pow(9, 2))\n",
    "    image = image.addBands(entropy.rename(str(band)+'_Entropy')).addBands(contrast.rename(str(band)+'_Contrast')).addBands(gearys.rename(str(band)+'_Gearys'))   \n",
    "    return image\n",
    "\n",
    "def add_neighborhood_bands(image):\n",
    "    bands = ['R', 'G', 'B', 'N']\n",
    "    for band in bands:\n",
    "        image = apply_3bands(image, band)\n",
    "    return image\n",
    "    \n",
    "def add_NDVI(image):\n",
    "    image = image.addBands(image.normalizedDifference(['N','R']).rename('NDVI'))\n",
    "    return image\n",
    "     "
   ]
  },
  {
   "cell_type": "code",
   "execution_count": 8,
   "id": "677e2dfd",
   "metadata": {},
   "outputs": [],
   "source": [
    "def get_images(param_dict):\n",
    "    source_image_collection = params['source_image_collection']\n",
    "    years = param_dict['years']\n",
    "    counties = param_dict['counties']\n",
    "\n",
    "    image_names = []\n",
    "    images = []\n",
    "\n",
    "    combos = list(itertools.product(years, counties.keys()))\n",
    "    for i in combos:\n",
    "        year = str(i[0])\n",
    "        county = i[1]\n",
    "\n",
    "        image_name = str(i[0])+'_'+i[1]\n",
    "        image_names.append(image_name)\n",
    "\n",
    "        image = ee.ImageCollection(source_image_collection)\\\n",
    "                                .filterDate(f'{year}-01-01', f'{year}-12-31')\\\n",
    "                                .select(['R','G','B','N'])\\\n",
    "                                .median().clip(counties[county])\n",
    "        images.append(image)\n",
    "        images_with_3band = list(map(add_neighborhood_bands, images))\n",
    "        images_with_NDVI = list(map(add_NDVI, images_with_3band))\n",
    "    return dict(zip(image_names, images_with_NDVI))\n",
    "\n",
    "    \n",
    "    "
   ]
  },
  {
   "cell_type": "code",
   "execution_count": 9,
   "id": "176eb0ac",
   "metadata": {},
   "outputs": [
    {
     "data": {
      "text/plain": [
       "{'2010_la_county': <ee.image.Image at 0x7fa15d2fa040>,\n",
       " '2010_sc_county': <ee.image.Image at 0x7fa15d2fa220>,\n",
       " '2012_la_county': <ee.image.Image at 0x7fa15d2fa400>,\n",
       " '2012_sc_county': <ee.image.Image at 0x7fa15d2fa5e0>,\n",
       " '2014_la_county': <ee.image.Image at 0x7fa15d2fa7c0>,\n",
       " '2014_sc_county': <ee.image.Image at 0x7fa15d2fa9a0>,\n",
       " '2016_la_county': <ee.image.Image at 0x7fa15d2fab80>,\n",
       " '2016_sc_county': <ee.image.Image at 0x7fa15d2fad60>,\n",
       " '2018_la_county': <ee.image.Image at 0x7fa15d2faf40>,\n",
       " '2018_sc_county': <ee.image.Image at 0x7fa15d2fe160>,\n",
       " '2020_la_county': <ee.image.Image at 0x7fa15d2fe340>,\n",
       " '2020_sc_county': <ee.image.Image at 0x7fa15d2fe520>}"
      ]
     },
     "execution_count": 9,
     "metadata": {},
     "output_type": "execute_result"
    }
   ],
   "source": [
    "params = {\n",
    "        'source_image_collection' : 'USDA/NAIP/DOQQ',\n",
    "        'years' : [2010,2012,2014,2016,2018,2020],\n",
    "        'counties': {'la_county': la_county, 'sc_county': sc_county}\n",
    "         }\n",
    "\n",
    "images = get_images(params)\n",
    "images"
   ]
  },
  {
   "cell_type": "code",
   "execution_count": 10,
   "id": "805cc179",
   "metadata": {},
   "outputs": [
    {
     "data": {
      "text/plain": [
       "['R',\n",
       " 'G',\n",
       " 'B',\n",
       " 'N',\n",
       " 'R_Entropy',\n",
       " 'R_Contrast',\n",
       " 'R_Gearys',\n",
       " 'G_Entropy',\n",
       " 'G_Contrast',\n",
       " 'G_Gearys',\n",
       " 'B_Entropy',\n",
       " 'B_Contrast',\n",
       " 'B_Gearys',\n",
       " 'N_Entropy',\n",
       " 'N_Contrast',\n",
       " 'N_Gearys',\n",
       " 'NDVI']"
      ]
     },
     "execution_count": 10,
     "metadata": {},
     "output_type": "execute_result"
    }
   ],
   "source": [
    "#see what bands each image has:\n",
    "images['2020_la_county'].bandNames().getInfo()"
   ]
  },
  {
   "cell_type": "code",
   "execution_count": 11,
   "id": "5d9664cb",
   "metadata": {},
   "outputs": [],
   "source": [
    "#test to see if NAIP plot looks correct\n",
    "Map.addLayer(images['2020_la_county'], {}, 'NAIP Test')"
   ]
  },
  {
   "cell_type": "code",
   "execution_count": 20,
   "id": "f86bbbd1",
   "metadata": {},
   "outputs": [],
   "source": [
    "poly = [[-118.180413,33.912948],[-118.193457,33.875639],[-118.285876,33.872960],[-118.280523,33.928753]]"
   ]
  },
  {
   "cell_type": "code",
   "execution_count": 21,
   "id": "79f45071",
   "metadata": {},
   "outputs": [],
   "source": [
    "p = ee.Geometry.Polygon(poly)"
   ]
  },
  {
   "cell_type": "code",
   "execution_count": 22,
   "id": "e38d1991",
   "metadata": {},
   "outputs": [],
   "source": [
    "im = images['2020_la_county']"
   ]
  },
  {
   "cell_type": "code",
   "execution_count": 53,
   "id": "4b3b4f38",
   "metadata": {},
   "outputs": [
    {
     "data": {
      "text/plain": [
       "<ee.image.Image at 0x7fa15d2942b0>"
      ]
     },
     "execution_count": 53,
     "metadata": {},
     "output_type": "execute_result"
    }
   ],
   "source": [
    "im.clip(p)"
   ]
  },
  {
   "cell_type": "code",
   "execution_count": 24,
   "id": "fbc588af",
   "metadata": {},
   "outputs": [],
   "source": [
    "Map.addLayer(p, {}, 'POLYGON TEST')"
   ]
  },
  {
   "cell_type": "code",
   "execution_count": 25,
   "id": "13d9c288",
   "metadata": {},
   "outputs": [
    {
     "data": {
      "application/vnd.jupyter.widget-view+json": {
       "model_id": "7230d9ddf75a4f97b1748bbf5154b178",
       "version_major": 2,
       "version_minor": 0
      },
      "text/plain": [
       "Map(bottom=105100.0, center=[33.906895551288684, -118.0693817138672], controls=(WidgetControl(options=['positi…"
      ]
     },
     "metadata": {},
     "output_type": "display_data"
    }
   ],
   "source": [
    "Map"
   ]
  },
  {
   "cell_type": "code",
   "execution_count": 26,
   "id": "73577d00",
   "metadata": {},
   "outputs": [
    {
     "data": {
      "text/plain": [
       "<ee.image.Image at 0x7fa15d213a60>"
      ]
     },
     "execution_count": 26,
     "metadata": {},
     "output_type": "execute_result"
    }
   ],
   "source": [
    "#test to see if NDVI plot looks correct \n",
    "source_image = images['2020_sc_county']\n",
    "\n",
    "test_ndvi = source_image.normalizedDifference(['N', 'R']).rename('2020_NDVI')\n",
    "test_ndvi"
   ]
  },
  {
   "cell_type": "code",
   "execution_count": 27,
   "id": "0974dd78",
   "metadata": {},
   "outputs": [
    {
     "data": {
      "application/vnd.jupyter.widget-view+json": {
       "model_id": "7230d9ddf75a4f97b1748bbf5154b178",
       "version_major": 2,
       "version_minor": 0
      },
      "text/plain": [
       "Map(bottom=26582.0, center=[33.53223722395908, -116.66107177734376], controls=(WidgetControl(options=['positio…"
      ]
     },
     "metadata": {},
     "output_type": "display_data"
    }
   ],
   "source": [
    "Map.addLayer(test_ndvi,{min : -1, max : 1, 'palette' : ['blue', 'white', 'green']}, 'NDVI Test')\n",
    "Map"
   ]
  },
  {
   "cell_type": "markdown",
   "id": "c0b001e8",
   "metadata": {},
   "source": [
    "## Load Labeled Data"
   ]
  },
  {
   "cell_type": "code",
   "execution_count": 28,
   "id": "8b4c4ffc",
   "metadata": {},
   "outputs": [],
   "source": [
    "PROJECT_DIR = 'projects/california-lawn-detection/assets/'\n",
    "\n",
    "water = ee.FeatureCollection(f\"{PROJECT_DIR}water_torrance_0610\")\n",
    "vegetation_trees = ee.FeatureCollection(f\"{PROJECT_DIR}trees_torrance\")\n",
    "vegetation_grass = ee.FeatureCollection(f\"{PROJECT_DIR}grass_torrance\").limit(400)\n",
    "turf_1 = ee.FeatureCollection(f\"{PROJECT_DIR}turf_torrance1\")\n",
    "turf_2 = ee.FeatureCollection(f\"{PROJECT_DIR}turf_torrance2\")\n",
    "pv = ee.FeatureCollection(f\"{PROJECT_DIR}pv_torrance\")\n",
    "impervious_1 = ee.FeatureCollection(f\"{PROJECT_DIR}impervious_torrance1\").limit(40)\n",
    "impervious_2 = ee.FeatureCollection(f\"{PROJECT_DIR}impervious_torrance2\").limit(40)\n",
    "soil = ee.FeatureCollection(f\"{PROJECT_DIR}soil_torrance\").limit(40)\n",
    "\n",
    "turf = turf_1.merge(turf_2)\n",
    "impervious= impervious_1.merge(impervious_2)\n",
    "\n",
    "LABELED_SET = water.merge(vegetation_trees)\\\n",
    "                   .merge(vegetation_grass)\\\n",
    "                   .merge(turf)\\\n",
    "                   .merge(impervious)\\\n",
    "                   .merge(soil)\n",
    "    \n",
    "Map.addLayer(LABELED_SET, {}, 'labeled_set')"
   ]
  },
  {
   "cell_type": "code",
   "execution_count": 29,
   "id": "ee87b7de",
   "metadata": {
    "scrolled": false
   },
   "outputs": [
    {
     "data": {
      "application/vnd.jupyter.widget-view+json": {
       "model_id": "7230d9ddf75a4f97b1748bbf5154b178",
       "version_major": 2,
       "version_minor": 0
      },
      "text/plain": [
       "Map(bottom=26582.0, center=[33.53223722395908, -116.66107177734376], controls=(WidgetControl(options=['positio…"
      ]
     },
     "metadata": {},
     "output_type": "display_data"
    }
   ],
   "source": [
    "Map"
   ]
  },
  {
   "cell_type": "markdown",
   "id": "3dea832f",
   "metadata": {},
   "source": [
    "## Build Training Set"
   ]
  },
  {
   "cell_type": "code",
   "execution_count": 30,
   "id": "3cea53b6",
   "metadata": {},
   "outputs": [],
   "source": [
    "training_image_params = {\n",
    "        'source_image_collection' : 'USDA/NAIP/DOQQ',\n",
    "        'years' : [2020],\n",
    "        'counties': {'lacounty': la_county}\n",
    "         }\n",
    "\n",
    "TRAINING_IMAGE = get_images(training_image_params)['2020_lacounty']"
   ]
  },
  {
   "cell_type": "code",
   "execution_count": 31,
   "id": "ae6aeb3f",
   "metadata": {},
   "outputs": [],
   "source": [
    "# Overlay the points on the imagery to get training.\n",
    "LABEL = 'landcover'\n",
    "BANDS = ['R', 'G', 'B', 'N', 'NDVI',\n",
    "         'R_Entropy',\n",
    "         'R_Contrast',\n",
    "         'R_Gearys',\n",
    "         'G_Entropy',\n",
    "         'G_Contrast',\n",
    "         'G_Gearys',\n",
    "         'B_Entropy',\n",
    "         'B_Contrast',\n",
    "         'B_Gearys',\n",
    "         'N_Entropy',\n",
    "         'N_Contrast', \n",
    "         'N_Gearys']\n",
    "\n",
    "training_set = TRAINING_IMAGE.select(BANDS).sampleRegions(**{\n",
    "  'collection': LABELED_SET,\n",
    "  'properties': [LABEL],\n",
    "  'scale': 1\n",
    "})"
   ]
  },
  {
   "cell_type": "code",
   "execution_count": 32,
   "id": "8eaad011",
   "metadata": {},
   "outputs": [
    {
     "data": {
      "text/plain": [
       "True"
      ]
     },
     "execution_count": 32,
     "metadata": {},
     "output_type": "execute_result"
    }
   ],
   "source": [
    "set(BANDS)==set(TRAINING_IMAGE.bandNames().getInfo())"
   ]
  },
  {
   "cell_type": "code",
   "execution_count": 33,
   "id": "50822609",
   "metadata": {},
   "outputs": [],
   "source": [
    "def training_area(image, training_class):\n",
    "    \n",
    "    area = image.reduceRegion(\n",
    "           reducer = ee.Reducer.count(), \n",
    "           geometry = training_class.geometry(), \n",
    "           scale = 2, \n",
    "           maxPixels = 1e13\n",
    "                )\n",
    "\n",
    "    return(area.getInfo().get('B'))"
   ]
  },
  {
   "cell_type": "code",
   "execution_count": 34,
   "id": "147daa45",
   "metadata": {},
   "outputs": [],
   "source": [
    "def training_polygons(training_class):\n",
    "    return(training_class.aggregate_count('label').getInfo())"
   ]
  },
  {
   "cell_type": "code",
   "execution_count": 35,
   "id": "53a1160e",
   "metadata": {},
   "outputs": [
    {
     "name": "stdout",
     "output_type": "stream",
     "text": [
      "water pixels: 486 , polygons 199\n",
      "vegetation_trees pixels: 17125 , polygons 772\n",
      "vegetation_grass pixels: 23681 , polygons 400\n",
      "turf pixels: 857 , polygons 215\n",
      "pv pixels: 1723 , polygons 344\n",
      "impervious pixels: 20360 , polygons 80\n",
      "soil pixels: 8761 , polygons 40\n"
     ]
    }
   ],
   "source": [
    "# training information\n",
    "training_classes = [water,\n",
    "                         vegetation_trees,\n",
    "                         vegetation_grass,\n",
    "                         turf,\n",
    "                         pv,\n",
    "                         impervious,\n",
    "                         soil]\n",
    "\n",
    "class_names = ['water',\n",
    "                         'vegetation_trees',\n",
    "                         'vegetation_grass',\n",
    "                         'turf',\n",
    "                         'pv',\n",
    "                         'impervious',\n",
    "                         'soil']\n",
    "\n",
    "try:\n",
    "    for i in range(len(training_classes)):\n",
    "        area_i = training_area(TRAINING_IMAGE, training_classes[i])\n",
    "        polygons_i = training_polygons(training_classes[i])\n",
    "        print(class_names[i],\"pixels:\", area_i ,\", polygons\", polygons_i)\n",
    "except:\n",
    "    print('ERROR. POSSIBLE MISMATCH IN CLASSES LIST AND NAMES LIST SIZES')\n",
    "\n"
   ]
  },
  {
   "cell_type": "markdown",
   "id": "6feaabef",
   "metadata": {},
   "source": [
    "## Separate Training Data into Train/Test"
   ]
  },
  {
   "cell_type": "code",
   "execution_count": 39,
   "id": "7a672d8a",
   "metadata": {},
   "outputs": [
    {
     "name": "stdout",
     "output_type": "stream",
     "text": [
      "Labeled Set Size in Pixels 284710\n",
      "Training Set Size in Pixels 227871\n",
      "Test Set Size in Pixels 56839\n"
     ]
    }
   ],
   "source": [
    "#Split Training and Test Set Randomly - there might be a better way to do this\n",
    "print(\"Labeled Set Size in Pixels\", training_set.aggregate_count('R').getInfo())\n",
    "sample = training_set.randomColumn()\n",
    "trainingSample = sample.filter('random <= 0.8')\n",
    "validationSample = sample.filter('random > 0.8')\n",
    "print(\"Training Set Size in Pixels\", trainingSample.aggregate_count('R').getInfo())\n",
    "print(\"Test Set Size in Pixels\", validationSample.aggregate_count('R').getInfo())"
   ]
  },
  {
   "cell_type": "markdown",
   "id": "aa3d94cf",
   "metadata": {},
   "source": [
    "## Machine Learning Model"
   ]
  },
  {
   "cell_type": "code",
   "execution_count": 40,
   "id": "678a1079",
   "metadata": {},
   "outputs": [
    {
     "data": {
      "text/plain": [
       "<ee.Classifier at 0x7fa15d2945e0>"
      ]
     },
     "execution_count": 40,
     "metadata": {},
     "output_type": "execute_result"
    }
   ],
   "source": [
    "clf = ee.Classifier.smileRandomForest(numberOfTrees = 100).train(trainingSample, LABEL, BANDS)\n",
    "clf"
   ]
  },
  {
   "cell_type": "code",
   "execution_count": 41,
   "id": "809d39de",
   "metadata": {},
   "outputs": [],
   "source": [
    "training_image_classified = TRAINING_IMAGE.select(BANDS).classify(clf)"
   ]
  },
  {
   "cell_type": "code",
   "execution_count": 42,
   "id": "4f46f32a",
   "metadata": {},
   "outputs": [],
   "source": [
    "legend_keys = ['water', 'vegetation_trees', 'vegetation_grass', 'turf','impervious','soil']\n",
    "legend_colors = ['#0B6AEF', '#097407', '#0CE708', '#8C46D2' ,' #A1A8AF','#D47911']\n",
    "\n",
    "Map.addLayer(training_image_classified, {'min': 1, 'max': 7, 'palette': legend_colors}, 'Classification')"
   ]
  },
  {
   "cell_type": "code",
   "execution_count": 43,
   "id": "c00f2c8a",
   "metadata": {
    "scrolled": false
   },
   "outputs": [
    {
     "data": {
      "application/vnd.jupyter.widget-view+json": {
       "model_id": "7230d9ddf75a4f97b1748bbf5154b178",
       "version_major": 2,
       "version_minor": 0
      },
      "text/plain": [
       "Map(bottom=26582.0, center=[33.53223722395908, -116.66107177734376], controls=(WidgetControl(options=['positio…"
      ]
     },
     "metadata": {},
     "output_type": "display_data"
    }
   ],
   "source": [
    "Map"
   ]
  },
  {
   "cell_type": "markdown",
   "id": "49124a2f",
   "metadata": {},
   "source": [
    "## Evaluation Metrics\n",
    "\n",
    "### Train Accuracy"
   ]
  },
  {
   "cell_type": "code",
   "execution_count": 30,
   "id": "2420221f",
   "metadata": {},
   "outputs": [
    {
     "data": {
      "text/plain": [
       "[[0, 0, 0, 0, 0, 0, 0, 0],\n",
       " [0, 1473, 0, 0, 0, 0, 0, 0],\n",
       " [0, 0, 54688, 21, 0, 0, 0, 0],\n",
       " [0, 0, 147, 75601, 0, 0, 0, 2],\n",
       " [0, 0, 0, 0, 2637, 0, 1, 0],\n",
       " [0, 0, 0, 0, 0, 0, 0, 0],\n",
       " [0, 0, 0, 0, 0, 0, 65382, 0],\n",
       " [0, 0, 0, 0, 0, 0, 1, 27918]]"
      ]
     },
     "execution_count": 30,
     "metadata": {},
     "output_type": "execute_result"
    }
   ],
   "source": [
    "train_accuracy = trainingSample.classify(clf).errorMatrix('landcover', 'classification')\n",
    "train_accuracy.getInfo()"
   ]
  },
  {
   "cell_type": "code",
   "execution_count": 32,
   "id": "e3af24fb",
   "metadata": {},
   "outputs": [
    {
     "data": {
      "text/plain": [
       "0.9992451869698207"
      ]
     },
     "execution_count": 32,
     "metadata": {},
     "output_type": "execute_result"
    }
   ],
   "source": [
    "train_accuracy.accuracy().getInfo()"
   ]
  },
  {
   "cell_type": "code",
   "execution_count": 31,
   "id": "6c792a64",
   "metadata": {},
   "outputs": [
    {
     "data": {
      "text/plain": [
       "227871"
      ]
     },
     "execution_count": 31,
     "metadata": {},
     "output_type": "execute_result"
    }
   ],
   "source": [
    "np.array(train_accuracy.getInfo()).sum()"
   ]
  },
  {
   "cell_type": "markdown",
   "id": "a7345b58",
   "metadata": {},
   "source": [
    "### Test Accuracy"
   ]
  },
  {
   "cell_type": "code",
   "execution_count": 33,
   "id": "9604df99",
   "metadata": {},
   "outputs": [],
   "source": [
    "test_accuracy = validationSample.classify(clf).errorMatrix('landcover', 'classification')"
   ]
  },
  {
   "cell_type": "code",
   "execution_count": 35,
   "id": "5ceece03",
   "metadata": {},
   "outputs": [
    {
     "data": {
      "text/plain": [
       "0.9786238322278717"
      ]
     },
     "execution_count": 35,
     "metadata": {},
     "output_type": "execute_result"
    }
   ],
   "source": [
    "test_accuracy.accuracy().getInfo()"
   ]
  },
  {
   "cell_type": "code",
   "execution_count": 34,
   "id": "63e2c5d4",
   "metadata": {},
   "outputs": [
    {
     "data": {
      "text/plain": [
       "56839"
      ]
     },
     "execution_count": 34,
     "metadata": {},
     "output_type": "execute_result"
    }
   ],
   "source": [
    "np.array(test_accuracy.getInfo()).sum()"
   ]
  },
  {
   "cell_type": "code",
   "execution_count": 94,
   "id": "c85859b0",
   "metadata": {},
   "outputs": [
    {
     "data": {
      "text/plain": [
       "{'type': 'Image',\n",
       " 'bands': [{'id': 'classification',\n",
       "   'data_type': {'type': 'PixelType', 'precision': 'float'},\n",
       "   'crs': 'EPSG:4326',\n",
       "   'crs_transform': [1, 0, 0, 0, 1, 0]}]}"
      ]
     },
     "execution_count": 94,
     "metadata": {},
     "output_type": "execute_result"
    }
   ],
   "source": [
    "training_image_classified.eq(1).multiply(ee.Image.pixelArea()).getInfo()"
   ]
  },
  {
   "cell_type": "markdown",
   "id": "6ab978b3",
   "metadata": {},
   "source": [
    "## Binary Classification and Area Calculation"
   ]
  },
  {
   "cell_type": "code",
   "execution_count": 128,
   "id": "77992a4a",
   "metadata": {},
   "outputs": [],
   "source": [
    "def area_calculation(image, class_number, shape, zcode, pixel_scale = 20):\n",
    "    \n",
    "    areaImage = image.eq(class_number).multiply(ee.Image.pixelArea())\n",
    "\n",
    "\n",
    "#     if zcode:\n",
    "#         area = areaImage.reduceRegion(\n",
    "#             reducer = ee.Reducer.sum(), \n",
    "#             geometry = shape.geometry(), \n",
    "#             scale = pixel_scale, \n",
    "#             maxPixels = 1e13)\n",
    "    \n",
    "#     else:\n",
    "    area = areaImage.reduceRegion(\n",
    "        reducer = ee.Reducer.sum(), \n",
    "        geometry = shape, \n",
    "        scale = pixel_scale, \n",
    "        maxPixels = 1e13)\n",
    "\n",
    "    \n",
    "    area_sq_m = area.getInfo().get('classification')\n",
    "    \n",
    "    area_sq_km = area_sq_m / 1e6\n",
    "    \n",
    "    return area_sq_km"
   ]
  },
  {
   "cell_type": "code",
   "execution_count": 129,
   "id": "278281d8",
   "metadata": {},
   "outputs": [
    {
     "data": {
      "text/plain": [
       "12.688005716131128"
      ]
     },
     "execution_count": 129,
     "metadata": {},
     "output_type": "execute_result"
    }
   ],
   "source": [
    "polygon = la_county_income_zipcode.filter(ee.Filter.eq('ZipCode', '90802'))\n",
    "area_calculation(training_image_classified, 6, polygon, zcode = True)"
   ]
  },
  {
   "cell_type": "code",
   "execution_count": 130,
   "id": "55901567",
   "metadata": {},
   "outputs": [
    {
     "data": {
      "text/plain": [
       "21.622244060719602"
      ]
     },
     "execution_count": 130,
     "metadata": {},
     "output_type": "execute_result"
    }
   ],
   "source": [
    "polygon = la_county_income_zipcode.filter(ee.Filter.eq('ZipCode', '90802'))\n",
    "area_calculation(training_image_classified, 6, p, zcode = False)"
   ]
  },
  {
   "cell_type": "code",
   "execution_count": 116,
   "id": "43a2a8c8",
   "metadata": {},
   "outputs": [],
   "source": [
    "Map.addLayer(p, {}, 'coord polygon')"
   ]
  },
  {
   "cell_type": "code",
   "execution_count": 118,
   "id": "a248494a",
   "metadata": {},
   "outputs": [],
   "source": [
    "Map.addLayer(polygon, {}, '90802')"
   ]
  },
  {
   "cell_type": "code",
   "execution_count": 119,
   "id": "bef8dbb5",
   "metadata": {},
   "outputs": [
    {
     "data": {
      "application/vnd.jupyter.widget-view+json": {
       "model_id": "8547ed44e7e44029bc77f065b6dd6bd4",
       "version_major": 2,
       "version_minor": 0
      },
      "text/plain": [
       "Map(bottom=105122.0, center=[33.881817226884806, -118.10646057128906], controls=(WidgetControl(options=['posit…"
      ]
     },
     "metadata": {},
     "output_type": "display_data"
    }
   ],
   "source": [
    "Map"
   ]
  },
  {
   "cell_type": "code",
   "execution_count": 89,
   "id": "229f3b88",
   "metadata": {},
   "outputs": [
    {
     "data": {
      "text/plain": [
       "<ee.image.Image at 0x7fa15d65f070>"
      ]
     },
     "execution_count": 89,
     "metadata": {},
     "output_type": "execute_result"
    }
   ],
   "source": [
    "training_image_classified.clip(p)"
   ]
  },
  {
   "cell_type": "code",
   "execution_count": null,
   "id": "eb3103d1",
   "metadata": {},
   "outputs": [],
   "source": []
  },
  {
   "cell_type": "code",
   "execution_count": null,
   "id": "095e83b5",
   "metadata": {},
   "outputs": [],
   "source": []
  },
  {
   "cell_type": "code",
   "execution_count": 85,
   "id": "038adca6",
   "metadata": {},
   "outputs": [
    {
     "ename": "TypeError",
     "evalue": "unsupported operand type(s) for /: 'NoneType' and 'float'",
     "output_type": "error",
     "traceback": [
      "\u001b[0;31m---------------------------------------------------------------------------\u001b[0m",
      "\u001b[0;31mTypeError\u001b[0m                                 Traceback (most recent call last)",
      "\u001b[0;32m<ipython-input-85-adeceb95b7ba>\u001b[0m in \u001b[0;36m<module>\u001b[0;34m\u001b[0m\n\u001b[0;32m----> 1\u001b[0;31m \u001b[0marea_calculation\u001b[0m\u001b[0;34m(\u001b[0m\u001b[0mtraining_image_classified\u001b[0m\u001b[0;34m,\u001b[0m \u001b[0;36m1\u001b[0m\u001b[0;34m,\u001b[0m \u001b[0mp\u001b[0m\u001b[0;34m)\u001b[0m\u001b[0;34m\u001b[0m\u001b[0;34m\u001b[0m\u001b[0m\n\u001b[0m",
      "\u001b[0;32m<ipython-input-84-936f0b978676>\u001b[0m in \u001b[0;36marea_calculation\u001b[0;34m(image, class_number, shape, pixel_scale)\u001b[0m\n\u001b[1;32m     12\u001b[0m     \u001b[0marea_sq_m\u001b[0m \u001b[0;34m=\u001b[0m \u001b[0marea\u001b[0m\u001b[0;34m.\u001b[0m\u001b[0mgetInfo\u001b[0m\u001b[0;34m(\u001b[0m\u001b[0;34m)\u001b[0m\u001b[0;34m.\u001b[0m\u001b[0mget\u001b[0m\u001b[0;34m(\u001b[0m\u001b[0;34m'classification'\u001b[0m\u001b[0;34m)\u001b[0m\u001b[0;34m\u001b[0m\u001b[0;34m\u001b[0m\u001b[0m\n\u001b[1;32m     13\u001b[0m \u001b[0;34m\u001b[0m\u001b[0m\n\u001b[0;32m---> 14\u001b[0;31m     \u001b[0marea_sq_km\u001b[0m \u001b[0;34m=\u001b[0m \u001b[0marea_sq_m\u001b[0m \u001b[0;34m/\u001b[0m \u001b[0;36m1e6\u001b[0m\u001b[0;34m\u001b[0m\u001b[0;34m\u001b[0m\u001b[0m\n\u001b[0m\u001b[1;32m     15\u001b[0m \u001b[0;34m\u001b[0m\u001b[0m\n\u001b[1;32m     16\u001b[0m     \u001b[0;32mreturn\u001b[0m \u001b[0marea_sq_km\u001b[0m\u001b[0;34m\u001b[0m\u001b[0;34m\u001b[0m\u001b[0m\n",
      "\u001b[0;31mTypeError\u001b[0m: unsupported operand type(s) for /: 'NoneType' and 'float'"
     ]
    }
   ],
   "source": [
    "area_calculation(training_image_classified, 1, p)"
   ]
  },
  {
   "cell_type": "code",
   "execution_count": 80,
   "id": "fe64be09",
   "metadata": {},
   "outputs": [
    {
     "data": {
      "text/plain": [
       "['And',\n",
       " 'Not',\n",
       " 'Or',\n",
       " '_HAS_DYNAMIC_ATTRIBUTES',\n",
       " '__class__',\n",
       " '__delattr__',\n",
       " '__dict__',\n",
       " '__dir__',\n",
       " '__doc__',\n",
       " '__eq__',\n",
       " '__format__',\n",
       " '__ge__',\n",
       " '__getattribute__',\n",
       " '__gt__',\n",
       " '__hash__',\n",
       " '__init__',\n",
       " '__init_subclass__',\n",
       " '__le__',\n",
       " '__lt__',\n",
       " '__module__',\n",
       " '__ne__',\n",
       " '__new__',\n",
       " '__reduce__',\n",
       " '__reduce_ex__',\n",
       " '__repr__',\n",
       " '__setattr__',\n",
       " '__sizeof__',\n",
       " '__str__',\n",
       " '__subclasshook__',\n",
       " '__weakref__',\n",
       " '_apply_crs_and_affine',\n",
       " '_apply_selection_and_scale',\n",
       " '_apply_spatial_transformations',\n",
       " '_apply_visualization',\n",
       " '_build_download_id_image',\n",
       " '_cast',\n",
       " '_initialized',\n",
       " 'abs',\n",
       " 'acos',\n",
       " 'add',\n",
       " 'addBands',\n",
       " 'args',\n",
       " 'arrayAccum',\n",
       " 'arrayArgmax',\n",
       " 'arrayCat',\n",
       " 'arrayDimensions',\n",
       " 'arrayDotProduct',\n",
       " 'arrayFlatten',\n",
       " 'arrayGet',\n",
       " 'arrayLength',\n",
       " 'arrayLengths',\n",
       " 'arrayMask',\n",
       " 'arrayPad',\n",
       " 'arrayProject',\n",
       " 'arrayReduce',\n",
       " 'arrayRepeat',\n",
       " 'arrayReshape',\n",
       " 'arraySlice',\n",
       " 'arraySort',\n",
       " 'arrayTranspose',\n",
       " 'aside',\n",
       " 'asin',\n",
       " 'atan',\n",
       " 'atan2',\n",
       " 'bandNames',\n",
       " 'bandTypes',\n",
       " 'bitCount',\n",
       " 'bitsToArrayImage',\n",
       " 'bitwiseAnd',\n",
       " 'bitwiseNot',\n",
       " 'bitwiseOr',\n",
       " 'bitwiseXor',\n",
       " 'bitwise_and',\n",
       " 'bitwise_not',\n",
       " 'bitwise_or',\n",
       " 'bitwise_xor',\n",
       " 'blend',\n",
       " 'byte',\n",
       " 'cast',\n",
       " 'cat',\n",
       " 'cbrt',\n",
       " 'ceil',\n",
       " 'changeProj',\n",
       " 'clamp',\n",
       " 'classify',\n",
       " 'clip',\n",
       " 'clipToBoundsAndScale',\n",
       " 'clipToCollection',\n",
       " 'cluster',\n",
       " 'combine_',\n",
       " 'connectedComponents',\n",
       " 'connectedPixelCount',\n",
       " 'constant',\n",
       " 'convolve',\n",
       " 'copyProperties',\n",
       " 'cos',\n",
       " 'cosh',\n",
       " 'cumulativeCost',\n",
       " 'date',\n",
       " 'derivative',\n",
       " 'digamma',\n",
       " 'directionalDistanceTransform',\n",
       " 'displace',\n",
       " 'displacement',\n",
       " 'distance',\n",
       " 'divide',\n",
       " 'double',\n",
       " 'encode',\n",
       " 'encode_cloud_value',\n",
       " 'entropy',\n",
       " 'eq',\n",
       " 'erf',\n",
       " 'erfInv',\n",
       " 'erfc',\n",
       " 'erfcInv',\n",
       " 'exp',\n",
       " 'expression',\n",
       " 'fastDistanceTransform',\n",
       " 'first',\n",
       " 'firstNonZero',\n",
       " 'first_nonzero',\n",
       " 'float',\n",
       " 'floor',\n",
       " 'focalMax',\n",
       " 'focalMean',\n",
       " 'focalMedian',\n",
       " 'focalMin',\n",
       " 'focalMode',\n",
       " 'focal_max',\n",
       " 'focal_mean',\n",
       " 'focal_median',\n",
       " 'focal_min',\n",
       " 'focal_mode',\n",
       " 'freeze',\n",
       " 'func',\n",
       " 'gamma',\n",
       " 'gammainc',\n",
       " 'geometry',\n",
       " 'get',\n",
       " 'getArray',\n",
       " 'getDownloadURL',\n",
       " 'getDownloadUrl',\n",
       " 'getInfo',\n",
       " 'getMapId',\n",
       " 'getNumber',\n",
       " 'getString',\n",
       " 'getThumbId',\n",
       " 'getThumbURL',\n",
       " 'getThumbUrl',\n",
       " 'glcmTexture',\n",
       " 'gradient',\n",
       " 'gt',\n",
       " 'gte',\n",
       " 'hersDescriptor',\n",
       " 'hersFeature',\n",
       " 'hersImage',\n",
       " 'hsvToRgb',\n",
       " 'hypot',\n",
       " 'id',\n",
       " 'initialize',\n",
       " 'int',\n",
       " 'int16',\n",
       " 'int32',\n",
       " 'int64',\n",
       " 'int8',\n",
       " 'interpolate',\n",
       " 'isVariable',\n",
       " 'lanczos',\n",
       " 'leftShift',\n",
       " 'left_shift',\n",
       " 'load',\n",
       " 'loadGeoTIFF',\n",
       " 'log',\n",
       " 'log10',\n",
       " 'long',\n",
       " 'lt',\n",
       " 'lte',\n",
       " 'mask',\n",
       " 'matrixCholeskyDecomposition',\n",
       " 'matrixDeterminant',\n",
       " 'matrixDiagonal',\n",
       " 'matrixFnorm',\n",
       " 'matrixIdentity',\n",
       " 'matrixInverse',\n",
       " 'matrixLUDecomposition',\n",
       " 'matrixMultiply',\n",
       " 'matrixPseudoInverse',\n",
       " 'matrixQRDecomposition',\n",
       " 'matrixSingularValueDecomposition',\n",
       " 'matrixSolve',\n",
       " 'matrixToDiag',\n",
       " 'matrixTrace',\n",
       " 'matrixTranspose',\n",
       " 'max',\n",
       " 'medialAxis',\n",
       " 'metadata',\n",
       " 'min',\n",
       " 'mod',\n",
       " 'multiply',\n",
       " 'name',\n",
       " 'neighborhoodToArray',\n",
       " 'neighborhoodToBands',\n",
       " 'neq',\n",
       " 'normalizedDifference',\n",
       " 'paint',\n",
       " 'parseExpression',\n",
       " 'pixelArea',\n",
       " 'pixelCoordinates',\n",
       " 'pixelLonLat',\n",
       " 'polynomial',\n",
       " 'pow',\n",
       " 'prepare_for_export',\n",
       " 'projection',\n",
       " 'propertyNames',\n",
       " 'random',\n",
       " 'randomVisualizer',\n",
       " 'reduce',\n",
       " 'reduceConnectedComponents',\n",
       " 'reduceNeighborhood',\n",
       " 'reduceRegion',\n",
       " 'reduceRegions',\n",
       " 'reduceResolution',\n",
       " 'reduceToVectors',\n",
       " 'reduceToVectorsStreaming',\n",
       " 'regexpRename',\n",
       " 'register',\n",
       " 'remap',\n",
       " 'rename',\n",
       " 'replaceProperties',\n",
       " 'reproject',\n",
       " 'resample',\n",
       " 'reset',\n",
       " 'retile',\n",
       " 'rgb',\n",
       " 'rgbToHsv',\n",
       " 'rightShift',\n",
       " 'right_shift',\n",
       " 'round',\n",
       " 'rsedTransform',\n",
       " 'sample',\n",
       " 'sampleRectangle',\n",
       " 'sampleRegions',\n",
       " 'select',\n",
       " 'selfMask',\n",
       " 'serialize',\n",
       " 'set',\n",
       " 'setDefaultProjection',\n",
       " 'setMulti',\n",
       " 'short',\n",
       " 'signum',\n",
       " 'sin',\n",
       " 'sinh',\n",
       " 'sldStyle',\n",
       " 'slice',\n",
       " 'spectralDilation',\n",
       " 'spectralDistance',\n",
       " 'spectralErosion',\n",
       " 'spectralGradient',\n",
       " 'sqrt',\n",
       " 'stratifiedSample',\n",
       " 'subtract',\n",
       " 'tan',\n",
       " 'tanh',\n",
       " 'toArray',\n",
       " 'toByte',\n",
       " 'toDictionary',\n",
       " 'toDouble',\n",
       " 'toFloat',\n",
       " 'toInt',\n",
       " 'toInt16',\n",
       " 'toInt32',\n",
       " 'toInt64',\n",
       " 'toInt8',\n",
       " 'toLong',\n",
       " 'toShort',\n",
       " 'toUint16',\n",
       " 'toUint32',\n",
       " 'toUint8',\n",
       " 'translate',\n",
       " 'trigamma',\n",
       " 'uint16',\n",
       " 'uint32',\n",
       " 'uint8',\n",
       " 'unitScale',\n",
       " 'unmask',\n",
       " 'unmix',\n",
       " 'updateMask',\n",
       " 'varName',\n",
       " 'visualize',\n",
       " 'where',\n",
       " 'zeroCrossing']"
      ]
     },
     "execution_count": 80,
     "metadata": {},
     "output_type": "execute_result"
    }
   ],
   "source": [
    "dir(training_image_classified)"
   ]
  },
  {
   "cell_type": "code",
   "execution_count": 67,
   "id": "03beac08",
   "metadata": {},
   "outputs": [
    {
     "ename": "EEException",
     "evalue": "Collection.filter: Filter argument must be a string or a Filter.",
     "output_type": "error",
     "traceback": [
      "\u001b[0;31m---------------------------------------------------------------------------\u001b[0m",
      "\u001b[0;31mHttpError\u001b[0m                                 Traceback (most recent call last)",
      "\u001b[0;32m~/opt/anaconda3/lib/python3.8/site-packages/ee/data.py\u001b[0m in \u001b[0;36m_execute_cloud_call\u001b[0;34m(call, num_retries)\u001b[0m\n\u001b[1;32m    329\u001b[0m   \u001b[0;32mtry\u001b[0m\u001b[0;34m:\u001b[0m\u001b[0;34m\u001b[0m\u001b[0;34m\u001b[0m\u001b[0m\n\u001b[0;32m--> 330\u001b[0;31m     \u001b[0;32mreturn\u001b[0m \u001b[0mcall\u001b[0m\u001b[0;34m.\u001b[0m\u001b[0mexecute\u001b[0m\u001b[0;34m(\u001b[0m\u001b[0mnum_retries\u001b[0m\u001b[0;34m=\u001b[0m\u001b[0mnum_retries\u001b[0m\u001b[0;34m)\u001b[0m\u001b[0;34m\u001b[0m\u001b[0;34m\u001b[0m\u001b[0m\n\u001b[0m\u001b[1;32m    331\u001b[0m   \u001b[0;32mexcept\u001b[0m \u001b[0mgoogleapiclient\u001b[0m\u001b[0;34m.\u001b[0m\u001b[0merrors\u001b[0m\u001b[0;34m.\u001b[0m\u001b[0mHttpError\u001b[0m \u001b[0;32mas\u001b[0m \u001b[0me\u001b[0m\u001b[0;34m:\u001b[0m\u001b[0;34m\u001b[0m\u001b[0;34m\u001b[0m\u001b[0m\n",
      "\u001b[0;32m~/opt/anaconda3/lib/python3.8/site-packages/googleapiclient/_helpers.py\u001b[0m in \u001b[0;36mpositional_wrapper\u001b[0;34m(*args, **kwargs)\u001b[0m\n\u001b[1;32m    133\u001b[0m                     \u001b[0mlogger\u001b[0m\u001b[0;34m.\u001b[0m\u001b[0mwarning\u001b[0m\u001b[0;34m(\u001b[0m\u001b[0mmessage\u001b[0m\u001b[0;34m)\u001b[0m\u001b[0;34m\u001b[0m\u001b[0;34m\u001b[0m\u001b[0m\n\u001b[0;32m--> 134\u001b[0;31m             \u001b[0;32mreturn\u001b[0m \u001b[0mwrapped\u001b[0m\u001b[0;34m(\u001b[0m\u001b[0;34m*\u001b[0m\u001b[0margs\u001b[0m\u001b[0;34m,\u001b[0m \u001b[0;34m**\u001b[0m\u001b[0mkwargs\u001b[0m\u001b[0;34m)\u001b[0m\u001b[0;34m\u001b[0m\u001b[0;34m\u001b[0m\u001b[0m\n\u001b[0m\u001b[1;32m    135\u001b[0m \u001b[0;34m\u001b[0m\u001b[0m\n",
      "\u001b[0;32m~/opt/anaconda3/lib/python3.8/site-packages/googleapiclient/http.py\u001b[0m in \u001b[0;36mexecute\u001b[0;34m(self, http, num_retries)\u001b[0m\n\u001b[1;32m    914\u001b[0m         \u001b[0;32mif\u001b[0m \u001b[0mresp\u001b[0m\u001b[0;34m.\u001b[0m\u001b[0mstatus\u001b[0m \u001b[0;34m>=\u001b[0m \u001b[0;36m300\u001b[0m\u001b[0;34m:\u001b[0m\u001b[0;34m\u001b[0m\u001b[0;34m\u001b[0m\u001b[0m\n\u001b[0;32m--> 915\u001b[0;31m             \u001b[0;32mraise\u001b[0m \u001b[0mHttpError\u001b[0m\u001b[0;34m(\u001b[0m\u001b[0mresp\u001b[0m\u001b[0;34m,\u001b[0m \u001b[0mcontent\u001b[0m\u001b[0;34m,\u001b[0m \u001b[0muri\u001b[0m\u001b[0;34m=\u001b[0m\u001b[0mself\u001b[0m\u001b[0;34m.\u001b[0m\u001b[0muri\u001b[0m\u001b[0;34m)\u001b[0m\u001b[0;34m\u001b[0m\u001b[0;34m\u001b[0m\u001b[0m\n\u001b[0m\u001b[1;32m    916\u001b[0m         \u001b[0;32mreturn\u001b[0m \u001b[0mself\u001b[0m\u001b[0;34m.\u001b[0m\u001b[0mpostproc\u001b[0m\u001b[0;34m(\u001b[0m\u001b[0mresp\u001b[0m\u001b[0;34m,\u001b[0m \u001b[0mcontent\u001b[0m\u001b[0;34m)\u001b[0m\u001b[0;34m\u001b[0m\u001b[0;34m\u001b[0m\u001b[0m\n",
      "\u001b[0;31mHttpError\u001b[0m: <HttpError 400 when requesting https://earthengine.googleapis.com/v1alpha/projects/earthengine-legacy/value:compute?prettyPrint=false&alt=json returned \"Collection.filter: Filter argument must be a string or a Filter.\". Details: \"Collection.filter: Filter argument must be a string or a Filter.\">",
      "\nDuring handling of the above exception, another exception occurred:\n",
      "\u001b[0;31mEEException\u001b[0m                               Traceback (most recent call last)",
      "\u001b[0;32m<ipython-input-67-fdf8f8777117>\u001b[0m in \u001b[0;36m<module>\u001b[0;34m\u001b[0m\n\u001b[1;32m      9\u001b[0m \u001b[0;31m# dictionary['polygon'] = 'polygon'\u001b[0m\u001b[0;34m\u001b[0m\u001b[0;34m\u001b[0m\u001b[0;34m\u001b[0m\u001b[0m\n\u001b[1;32m     10\u001b[0m \u001b[0;34m\u001b[0m\u001b[0m\n\u001b[0;32m---> 11\u001b[0;31m \u001b[0mwater_area\u001b[0m \u001b[0;34m=\u001b[0m \u001b[0marea_calculation\u001b[0m\u001b[0;34m(\u001b[0m\u001b[0mimagery\u001b[0m\u001b[0;34m,\u001b[0m \u001b[0;36m1\u001b[0m\u001b[0;34m,\u001b[0m \u001b[0mpolygon\u001b[0m\u001b[0;34m,\u001b[0m \u001b[0;36m20\u001b[0m\u001b[0;34m)\u001b[0m\u001b[0;34m\u001b[0m\u001b[0;34m\u001b[0m\u001b[0m\n\u001b[0m\u001b[1;32m     12\u001b[0m \u001b[0mdictionary\u001b[0m\u001b[0;34m[\u001b[0m\u001b[0;34m'water_area'\u001b[0m\u001b[0;34m]\u001b[0m\u001b[0;34m=\u001b[0m \u001b[0mwater_area\u001b[0m\u001b[0;34m\u001b[0m\u001b[0;34m\u001b[0m\u001b[0m\n\u001b[1;32m     13\u001b[0m \u001b[0;34m\u001b[0m\u001b[0m\n",
      "\u001b[0;32m<ipython-input-66-cb813276c1ae>\u001b[0m in \u001b[0;36marea_calculation\u001b[0;34m(image, class_number, shape, pixel_scale)\u001b[0m\n\u001b[1;32m     10\u001b[0m \u001b[0;31m#     area = areaImage.clip(shape)\u001b[0m\u001b[0;34m\u001b[0m\u001b[0;34m\u001b[0m\u001b[0;34m\u001b[0m\u001b[0m\n\u001b[1;32m     11\u001b[0m \u001b[0;34m\u001b[0m\u001b[0m\n\u001b[0;32m---> 12\u001b[0;31m     \u001b[0marea_sq_m\u001b[0m \u001b[0;34m=\u001b[0m \u001b[0marea\u001b[0m\u001b[0;34m.\u001b[0m\u001b[0mgetInfo\u001b[0m\u001b[0;34m(\u001b[0m\u001b[0;34m)\u001b[0m\u001b[0;34m.\u001b[0m\u001b[0mget\u001b[0m\u001b[0;34m(\u001b[0m\u001b[0;34m'classification'\u001b[0m\u001b[0;34m)\u001b[0m\u001b[0;34m\u001b[0m\u001b[0;34m\u001b[0m\u001b[0m\n\u001b[0m\u001b[1;32m     13\u001b[0m \u001b[0;34m\u001b[0m\u001b[0m\n\u001b[1;32m     14\u001b[0m     \u001b[0marea_sq_km\u001b[0m \u001b[0;34m=\u001b[0m \u001b[0marea_sq_m\u001b[0m \u001b[0;34m/\u001b[0m \u001b[0;36m1e6\u001b[0m\u001b[0;34m\u001b[0m\u001b[0;34m\u001b[0m\u001b[0m\n",
      "\u001b[0;32m~/opt/anaconda3/lib/python3.8/site-packages/ee/computedobject.py\u001b[0m in \u001b[0;36mgetInfo\u001b[0;34m(self)\u001b[0m\n\u001b[1;32m     96\u001b[0m       \u001b[0mThe\u001b[0m \u001b[0mobject\u001b[0m \u001b[0mcan\u001b[0m \u001b[0mevaluate\u001b[0m \u001b[0mto\u001b[0m \u001b[0manything\u001b[0m\u001b[0;34m.\u001b[0m\u001b[0;34m\u001b[0m\u001b[0;34m\u001b[0m\u001b[0m\n\u001b[1;32m     97\u001b[0m     \"\"\"\n\u001b[0;32m---> 98\u001b[0;31m     \u001b[0;32mreturn\u001b[0m \u001b[0mdata\u001b[0m\u001b[0;34m.\u001b[0m\u001b[0mcomputeValue\u001b[0m\u001b[0;34m(\u001b[0m\u001b[0mself\u001b[0m\u001b[0;34m)\u001b[0m\u001b[0;34m\u001b[0m\u001b[0;34m\u001b[0m\u001b[0m\n\u001b[0m\u001b[1;32m     99\u001b[0m \u001b[0;34m\u001b[0m\u001b[0m\n\u001b[1;32m    100\u001b[0m   \u001b[0;32mdef\u001b[0m \u001b[0mencode\u001b[0m\u001b[0;34m(\u001b[0m\u001b[0mself\u001b[0m\u001b[0;34m,\u001b[0m \u001b[0mencoder\u001b[0m\u001b[0;34m)\u001b[0m\u001b[0;34m:\u001b[0m\u001b[0;34m\u001b[0m\u001b[0;34m\u001b[0m\u001b[0m\n",
      "\u001b[0;32m~/opt/anaconda3/lib/python3.8/site-packages/ee/data.py\u001b[0m in \u001b[0;36mcomputeValue\u001b[0;34m(obj)\u001b[0m\n\u001b[1;32m    733\u001b[0m     \u001b[0mThe\u001b[0m \u001b[0mresult\u001b[0m \u001b[0mof\u001b[0m \u001b[0mevaluating\u001b[0m \u001b[0mthat\u001b[0m \u001b[0mobject\u001b[0m \u001b[0mon\u001b[0m \u001b[0mthe\u001b[0m \u001b[0mserver\u001b[0m\u001b[0;34m.\u001b[0m\u001b[0;34m\u001b[0m\u001b[0;34m\u001b[0m\u001b[0m\n\u001b[1;32m    734\u001b[0m   \"\"\"\n\u001b[0;32m--> 735\u001b[0;31m   return _execute_cloud_call(\n\u001b[0m\u001b[1;32m    736\u001b[0m       _get_cloud_api_resource().projects().value().compute(\n\u001b[1;32m    737\u001b[0m           \u001b[0mbody\u001b[0m\u001b[0;34m=\u001b[0m\u001b[0;34m{\u001b[0m\u001b[0;34m'expression'\u001b[0m\u001b[0;34m:\u001b[0m \u001b[0mserializer\u001b[0m\u001b[0;34m.\u001b[0m\u001b[0mencode\u001b[0m\u001b[0;34m(\u001b[0m\u001b[0mobj\u001b[0m\u001b[0;34m,\u001b[0m \u001b[0mfor_cloud_api\u001b[0m\u001b[0;34m=\u001b[0m\u001b[0;32mTrue\u001b[0m\u001b[0;34m)\u001b[0m\u001b[0;34m}\u001b[0m\u001b[0;34m,\u001b[0m\u001b[0;34m\u001b[0m\u001b[0;34m\u001b[0m\u001b[0m\n",
      "\u001b[0;32m~/opt/anaconda3/lib/python3.8/site-packages/ee/data.py\u001b[0m in \u001b[0;36m_execute_cloud_call\u001b[0;34m(call, num_retries)\u001b[0m\n\u001b[1;32m    330\u001b[0m     \u001b[0;32mreturn\u001b[0m \u001b[0mcall\u001b[0m\u001b[0;34m.\u001b[0m\u001b[0mexecute\u001b[0m\u001b[0;34m(\u001b[0m\u001b[0mnum_retries\u001b[0m\u001b[0;34m=\u001b[0m\u001b[0mnum_retries\u001b[0m\u001b[0;34m)\u001b[0m\u001b[0;34m\u001b[0m\u001b[0;34m\u001b[0m\u001b[0m\n\u001b[1;32m    331\u001b[0m   \u001b[0;32mexcept\u001b[0m \u001b[0mgoogleapiclient\u001b[0m\u001b[0;34m.\u001b[0m\u001b[0merrors\u001b[0m\u001b[0;34m.\u001b[0m\u001b[0mHttpError\u001b[0m \u001b[0;32mas\u001b[0m \u001b[0me\u001b[0m\u001b[0;34m:\u001b[0m\u001b[0;34m\u001b[0m\u001b[0;34m\u001b[0m\u001b[0m\n\u001b[0;32m--> 332\u001b[0;31m     \u001b[0;32mraise\u001b[0m \u001b[0m_translate_cloud_exception\u001b[0m\u001b[0;34m(\u001b[0m\u001b[0me\u001b[0m\u001b[0;34m)\u001b[0m\u001b[0;34m\u001b[0m\u001b[0;34m\u001b[0m\u001b[0m\n\u001b[0m\u001b[1;32m    333\u001b[0m \u001b[0;34m\u001b[0m\u001b[0m\n\u001b[1;32m    334\u001b[0m \u001b[0;34m\u001b[0m\u001b[0m\n",
      "\u001b[0;31mEEException\u001b[0m: Collection.filter: Filter argument must be a string or a Filter."
     ]
    }
   ],
   "source": [
    "dictionary = {}\n",
    "\n",
    "\n",
    "imagery = training_image_classified\n",
    "# start = time()\n",
    "polygon = la_county.filter(p)\n",
    "\n",
    "# dictionary['ImageYear'] = 'test'\n",
    "# dictionary['polygon'] = 'polygon'\n",
    "\n",
    "water_area = area_calculation(imagery, 1, polygon, 20)\n",
    "dictionary['water_area']= water_area\n",
    "\n",
    "# vegetation_trees_area = area_calculation(imagery, 2, polygon, 20)\n",
    "# dictionary['vegetation_trees_area']= vegetation_trees_area\n",
    "\n",
    "# vegetation_grass_area = area_calculation(imagery, 3, polygon, 20)\n",
    "# dictionary['vegetation_grass_area']= vegetation_grass_area\n",
    "\n",
    "# turf_area = area_calculation(imagery, 4, polygon, 20)\n",
    "# dictionary['turf_area']=turf_area\n",
    "\n",
    "# impervious_area = area_calculation(imagery, 6, polygon, 20)\n",
    "# dictionary['impervious_area']= impervious_area\n",
    "\n",
    "# soil_area = area_calculation(imagery, 7, polygon, 20)\n",
    "# dictionary['soil_area']= soil_area\n",
    "\n",
    "# total_area = water_area + vegetation_trees_area + vegetation_grass_area + turf_area + impervious_area + soil_area\n",
    "# dictionary['total_area']= total_area\n",
    "# end = time()\n",
    "# print(i, f'completed in {end-start} seconds.')"
   ]
  },
  {
   "cell_type": "code",
   "execution_count": 58,
   "id": "eff053af",
   "metadata": {},
   "outputs": [
    {
     "data": {
      "text/plain": [
       "<ee.featurecollection.FeatureCollection at 0x7fa15d6112b0>"
      ]
     },
     "execution_count": 58,
     "metadata": {},
     "output_type": "execute_result"
    }
   ],
   "source": [
    "la_county.filter(p)"
   ]
  },
  {
   "cell_type": "code",
   "execution_count": null,
   "id": "f4dd2923",
   "metadata": {},
   "outputs": [],
   "source": []
  },
  {
   "cell_type": "code",
   "execution_count": null,
   "id": "efd6b38b",
   "metadata": {},
   "outputs": [],
   "source": []
  },
  {
   "cell_type": "code",
   "execution_count": null,
   "id": "b388dcf1",
   "metadata": {},
   "outputs": [],
   "source": []
  },
  {
   "cell_type": "code",
   "execution_count": null,
   "id": "12310314",
   "metadata": {},
   "outputs": [],
   "source": []
  },
  {
   "cell_type": "code",
   "execution_count": 38,
   "id": "8602d3bb",
   "metadata": {},
   "outputs": [
    {
     "data": {
      "text/plain": [
       "{'2010_lacounty': <ee.image.Image at 0x7fa15d6259d0>,\n",
       " '2012_lacounty': <ee.image.Image at 0x7fa15d625bb0>,\n",
       " '2014_lacounty': <ee.image.Image at 0x7fa15d625d90>,\n",
       " '2016_lacounty': <ee.image.Image at 0x7fa15d625f70>,\n",
       " '2018_lacounty': <ee.image.Image at 0x7fa15d629190>,\n",
       " '2020_lacounty': <ee.image.Image at 0x7fa15d629370>}"
      ]
     },
     "execution_count": 38,
     "metadata": {},
     "output_type": "execute_result"
    }
   ],
   "source": [
    "test_image_params = {\n",
    "        'source_image_collection' : 'USDA/NAIP/DOQQ',\n",
    "        'years' : [2010,2012, 2014, 2016, 2018,2020],\n",
    "        'counties': {'lacounty': la_county}\n",
    "         }\n",
    "\n",
    "inference_images = get_images(test_image_params)\n",
    "inference_images"
   ]
  },
  {
   "cell_type": "code",
   "execution_count": null,
   "id": "303bc3f6",
   "metadata": {},
   "outputs": [],
   "source": [
    "grass_areas = {}\n",
    "\n",
    "for i in inference_images:\n",
    "    im = inference_images[i]\n",
    "    im_classified = im.select(BANDS).classify(clf)\n",
    "    grass_areas[i] = area_calculation(im_classified, 3, la_county, 20)\n",
    "    print(i, 'completed')"
   ]
  },
  {
   "cell_type": "code",
   "execution_count": 48,
   "id": "9a31512d",
   "metadata": {},
   "outputs": [
    {
     "data": {
      "text/plain": [
       "{'2010_lacounty': 3069.2586644971657,\n",
       " '2012_lacounty': 1265.0236710808854,\n",
       " '2014_lacounty': 1227.6888985192109,\n",
       " '2016_lacounty': 704.2648467338138,\n",
       " '2018_lacounty': 1129.6989987678303,\n",
       " '2020_lacounty': 826.858711155899}"
      ]
     },
     "execution_count": 48,
     "metadata": {},
     "output_type": "execute_result"
    }
   ],
   "source": [
    "grass_areas"
   ]
  },
  {
   "cell_type": "code",
   "execution_count": 49,
   "id": "91e47bea",
   "metadata": {},
   "outputs": [
    {
     "data": {
      "text/plain": [
       "[<matplotlib.lines.Line2D at 0x7fe8e96c52e0>]"
      ]
     },
     "execution_count": 49,
     "metadata": {},
     "output_type": "execute_result"
    },
    {
     "data": {
      "image/png": "[encoded data removed]",
      "text/plain": [
       "<Figure size 432x288 with 1 Axes>"
      ]
     },
     "metadata": {
      "needs_background": "light"
     },
     "output_type": "display_data"
    }
   ],
   "source": [
    "values = np.array(list(grass_areas.values()))\n",
    "plt.plot(test_image_params['years'], values)"
   ]
  },
  {
   "cell_type": "code",
   "execution_count": 62,
   "id": "86f34e83",
   "metadata": {},
   "outputs": [],
   "source": [
    "la_county_income_zipcode2 = ee.FeatureCollection(\"projects/california-lawn-detection/assets/income_zipcode2019\")\n",
    "la_county_income_zipcode = la_county_income_zipcode2.select(ee.List(['zipcode', '2019zipcod','shape_area']), ee.List(['ZipCode', 'Median_Income','Area_sqft']))\n",
    "\n",
    "\n"
   ]
  },
  {
   "cell_type": "code",
   "execution_count": 63,
   "id": "af17abba",
   "metadata": {},
   "outputs": [],
   "source": [
    "Zipcode_list = ['90802','90732','90744','90704','91362','91316']"
   ]
  },
  {
   "cell_type": "code",
   "execution_count": 61,
   "id": "e3eac062",
   "metadata": {},
   "outputs": [
    {
     "name": "stdout",
     "output_type": "stream",
     "text": [
      "90802 completed in 10.099151134490967 seconds.\n",
      "90732 completed in 8.45103120803833 seconds.\n",
      "90744 completed in 8.424124956130981 seconds.\n",
      "90704 completed in 98.49644899368286 seconds.\n",
      "91362 completed in 21.4758038520813 seconds.\n",
      "91316 completed in 49.545308113098145 seconds.\n"
     ]
    }
   ],
   "source": [
    "keys = {'ImageYear','polygon','water_area','vegetation_trees_area', 'vegetation_grass_area', 'turf_area', 'impervious_area','soil_area', 'total_area'}\n",
    "dictionary = {}\n",
    "for i in keys:\n",
    "    dictionary[i] = []\n",
    "\n",
    "imagery = training_image_classified\n",
    "\n",
    "    \n",
    "for i in Zipcode_list:\n",
    "    start = time()\n",
    "    polygon = la_county_income_zipcode.filter(ee.Filter.eq('ZipCode', i))\n",
    "\n",
    "    dictionary['ImageYear'].append(nameof(imagery)) \n",
    "    dictionary['polygon'].append(i)\n",
    "    \n",
    "    water_area = area_calculation(imagery, 1, polygon, 20)\n",
    "    dictionary['water_area'].append(water_area)\n",
    "    \n",
    "    vegetation_trees_area = area_calculation(imagery, 2, polygon, 20)\n",
    "    dictionary['vegetation_trees_area'].append(vegetation_trees_area)\n",
    "    \n",
    "    vegetation_grass_area = area_calculation(imagery, 3, polygon, 20)\n",
    "    dictionary['vegetation_grass_area'].append(vegetation_grass_area)\n",
    "    \n",
    "    turf_area = area_calculation(imagery, 4, polygon, 20)\n",
    "    dictionary['turf_area'].append(turf_area)\n",
    "    \n",
    "    impervious_area = area_calculation(imagery, 6, polygon, 20)\n",
    "    dictionary['impervious_area'].append(impervious_area)\n",
    "    \n",
    "    soil_area = area_calculation(imagery, 7, polygon, 20)\n",
    "    dictionary['soil_area'].append(soil_area)\n",
    "\n",
    "    total_area = water_area + vegetation_trees_area + vegetation_grass_area + turf_area + impervious_area + soil_area\n",
    "    dictionary['total_area'].append(total_area)\n",
    "    end = time()\n",
    "    print(i, f'completed in {end-start} seconds.')"
   ]
  },
  {
   "cell_type": "code",
   "execution_count": 71,
   "id": "d182c87e",
   "metadata": {
    "scrolled": true
   },
   "outputs": [
    {
     "data": {
      "text/plain": [
       "<ee.featurecollection.FeatureCollection at 0x7fa15d294820>"
      ]
     },
     "execution_count": 71,
     "metadata": {},
     "output_type": "execute_result"
    }
   ],
   "source": [
    "la_county_income_zipcode.filter(ee.Filter.eq('ZipCode', '90802'))"
   ]
  },
  {
   "cell_type": "code",
   "execution_count": 72,
   "id": "13a05e10",
   "metadata": {},
   "outputs": [
    {
     "data": {
      "text/plain": [
       "<ee.featurecollection.FeatureCollection at 0x7fa15d094430>"
      ]
     },
     "execution_count": 72,
     "metadata": {},
     "output_type": "execute_result"
    }
   ],
   "source": [
    "la_county"
   ]
  },
  {
   "cell_type": "code",
   "execution_count": 62,
   "id": "bf5d4e1b",
   "metadata": {},
   "outputs": [
    {
     "data": {
      "text/html": [
       "<div>\n",
       "<style scoped>\n",
       "    .dataframe tbody tr th:only-of-type {\n",
       "        vertical-align: middle;\n",
       "    }\n",
       "\n",
       "    .dataframe tbody tr th {\n",
       "        vertical-align: top;\n",
       "    }\n",
       "\n",
       "    .dataframe thead th {\n",
       "        text-align: right;\n",
       "    }\n",
       "</style>\n",
       "<table border=\"1\" class=\"dataframe\">\n",
       "  <thead>\n",
       "    <tr style=\"text-align: right;\">\n",
       "      <th></th>\n",
       "      <th>turf_area</th>\n",
       "      <th>vegetation_trees_area</th>\n",
       "      <th>polygon</th>\n",
       "      <th>water_area</th>\n",
       "      <th>impervious_area</th>\n",
       "      <th>total_area</th>\n",
       "      <th>soil_area</th>\n",
       "      <th>ImageYear</th>\n",
       "      <th>vegetation_grass_area</th>\n",
       "    </tr>\n",
       "  </thead>\n",
       "  <tbody>\n",
       "    <tr>\n",
       "      <th>0</th>\n",
       "      <td>0.164438</td>\n",
       "      <td>0.647374</td>\n",
       "      <td>90802</td>\n",
       "      <td>0.000000</td>\n",
       "      <td>12.688006</td>\n",
       "      <td>14.756617</td>\n",
       "      <td>0.760027</td>\n",
       "      <td>imagery</td>\n",
       "      <td>0.496773</td>\n",
       "    </tr>\n",
       "    <tr>\n",
       "      <th>1</th>\n",
       "      <td>0.159726</td>\n",
       "      <td>2.635687</td>\n",
       "      <td>90732</td>\n",
       "      <td>0.000000</td>\n",
       "      <td>2.946216</td>\n",
       "      <td>8.231549</td>\n",
       "      <td>1.869716</td>\n",
       "      <td>imagery</td>\n",
       "      <td>0.620204</td>\n",
       "    </tr>\n",
       "    <tr>\n",
       "      <th>2</th>\n",
       "      <td>0.190158</td>\n",
       "      <td>2.017314</td>\n",
       "      <td>90744</td>\n",
       "      <td>0.000000</td>\n",
       "      <td>15.849339</td>\n",
       "      <td>22.599279</td>\n",
       "      <td>3.527528</td>\n",
       "      <td>imagery</td>\n",
       "      <td>1.014940</td>\n",
       "    </tr>\n",
       "    <tr>\n",
       "      <th>3</th>\n",
       "      <td>9.193009</td>\n",
       "      <td>66.103575</td>\n",
       "      <td>90704</td>\n",
       "      <td>5.333700</td>\n",
       "      <td>35.695794</td>\n",
       "      <td>341.338173</td>\n",
       "      <td>138.000843</td>\n",
       "      <td>imagery</td>\n",
       "      <td>87.011250</td>\n",
       "    </tr>\n",
       "    <tr>\n",
       "      <th>4</th>\n",
       "      <td>0.023005</td>\n",
       "      <td>0.129558</td>\n",
       "      <td>91362</td>\n",
       "      <td>0.057541</td>\n",
       "      <td>1.716988</td>\n",
       "      <td>2.632023</td>\n",
       "      <td>0.202211</td>\n",
       "      <td>imagery</td>\n",
       "      <td>0.502720</td>\n",
       "    </tr>\n",
       "    <tr>\n",
       "      <th>5</th>\n",
       "      <td>0.763596</td>\n",
       "      <td>4.772787</td>\n",
       "      <td>91316</td>\n",
       "      <td>0.004292</td>\n",
       "      <td>7.122218</td>\n",
       "      <td>14.764068</td>\n",
       "      <td>0.461717</td>\n",
       "      <td>imagery</td>\n",
       "      <td>1.639458</td>\n",
       "    </tr>\n",
       "  </tbody>\n",
       "</table>\n",
       "</div>"
      ],
      "text/plain": [
       "   turf_area  vegetation_trees_area polygon  water_area  impervious_area  \\\n",
       "0   0.164438               0.647374   90802    0.000000        12.688006   \n",
       "1   0.159726               2.635687   90732    0.000000         2.946216   \n",
       "2   0.190158               2.017314   90744    0.000000        15.849339   \n",
       "3   9.193009              66.103575   90704    5.333700        35.695794   \n",
       "4   0.023005               0.129558   91362    0.057541         1.716988   \n",
       "5   0.763596               4.772787   91316    0.004292         7.122218   \n",
       "\n",
       "   total_area   soil_area ImageYear  vegetation_grass_area  \n",
       "0   14.756617    0.760027   imagery               0.496773  \n",
       "1    8.231549    1.869716   imagery               0.620204  \n",
       "2   22.599279    3.527528   imagery               1.014940  \n",
       "3  341.338173  138.000843   imagery              87.011250  \n",
       "4    2.632023    0.202211   imagery               0.502720  \n",
       "5   14.764068    0.461717   imagery               1.639458  "
      ]
     },
     "execution_count": 62,
     "metadata": {},
     "output_type": "execute_result"
    }
   ],
   "source": [
    "pd.DataFrame(dictionary)"
   ]
  },
  {
   "cell_type": "code",
   "execution_count": 45,
   "id": "d6e81d91",
   "metadata": {},
   "outputs": [],
   "source": [
    "# classified = training_image_classified\n",
    "\n",
    "# water_area = area_calculation(classified, 1, la_county, 20)\n",
    "# vegetation_trees_area = area_calculation(classified, 2, la_county, 20)\n",
    "# vegetation_grass_area = area_calculation(classified, 3, la_county, 20)\n",
    "# turf_area = area_calculation(classified, 4, la_county, 20)\n",
    "# impervious_area = area_calculation(classified, 6, la_county, 20)\n",
    "# soil_area = area_calculation(classified, 7, la_county, 20)\n",
    "\n",
    "# total_area = water_area + vegetation_trees_area + vegetation_grass_area + turf_area + impervious_area + soil_area\n",
    "\n",
    "# water_percentage = water_area / total_area\n",
    "# vegetation_trees_percentage = vegetation_trees_area / total_area\n",
    "# vegetation_grass_percentage = vegetation_grass_area / total_area\n",
    "# turf_percentage = turf_area / total_area\n",
    "# impervious_percentage = impervious_area / total_area\n",
    "# soil_percentage = soil_area / total_area"
   ]
  }
 ],
 "metadata": {
  "kernelspec": {
   "display_name": "Python 3",
   "language": "python",
   "name": "python3"
  },
  "language_info": {
   "codemirror_mode": {
    "name": "ipython",
    "version": 3
   },
   "file_extension": ".py",
   "mimetype": "text/x-python",
   "name": "python",
   "nbconvert_exporter": "python",
   "pygments_lexer": "ipython3",
   "version": "3.8.3"
  }
 },
 "nbformat": 4,
 "nbformat_minor": 5
}
