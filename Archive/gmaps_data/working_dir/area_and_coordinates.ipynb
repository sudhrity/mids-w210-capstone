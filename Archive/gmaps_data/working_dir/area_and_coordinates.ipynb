{
 "cells": [
  {
   "cell_type": "code",
   "execution_count": 60,
   "metadata": {},
   "outputs": [],
   "source": [
    "import numpy as np\n",
    "import json\n",
    "\n",
    "from shapely.geometry import Point\n",
    "from shapely.geometry.polygon import Polygon\n",
    "\n",
    "import itertools"
   ]
  },
  {
   "cell_type": "code",
   "execution_count": 179,
   "metadata": {},
   "outputs": [],
   "source": [
    "from area import area\n",
    "\n"
   ]
  },
  {
   "cell_type": "markdown",
   "metadata": {},
   "source": [
    "https://akm-img-a-in.tosshub.com/indiatoday/images/story/201812/Latitude_and_Longitude_of_the_Earth.png?QNj7A2r7Kqx20iTOJl8JAn3Q476b7LJ4&size=770:433"
   ]
  },
  {
   "cell_type": "markdown",
   "metadata": {},
   "source": [
    "Test input\n",
    "```\n",
    "34.026793,-118.488928,blue,square\n",
    "34.027518,-118.487853,blue,square\n",
    "34.026189,-118.486335,blue,square\n",
    "34.025447,-118.487280,blue,square\n",
    "34.026793,-118.488928,blue,square\n",
    "\n",
    "\n",
    "34.026794,-118.487506,green,square\n",
    "34.027830,-118.486390,red,square\n",
    "```"
   ]
  },
  {
   "cell_type": "code",
   "execution_count": 91,
   "metadata": {},
   "outputs": [],
   "source": [
    "ext = {\n",
    "  \"path\": {\n",
    "    \"Md\": [\n",
    "      {\n",
    "        \"lat\": 34.026793,\n",
    "        \"lng\": -118.488928\n",
    "      },\n",
    "      {\n",
    "        \"lat\": 34.027518,\n",
    "        \"lng\": -118.487853\n",
    "      },\n",
    "      {\n",
    "        \"lat\": 34.026189,\n",
    "        \"lng\": -118.486335\n",
    "      },\n",
    "      {\n",
    "        \"lat\": 34.025447,\n",
    "        \"lng\": -118.487280\n",
    "      },\n",
    "      {\n",
    "        \"lat\": 34.027748,\n",
    "        \"lng\": -118.489069\n",
    "      }\n",
    "    ],\n",
    "    \"gm_accessors_\": {\n",
    "      \"length\": {\"length\": 0}\n",
    "    },\n",
    "    \"length\": 4,\n",
    "    \"gm_bindings_\": {\n",
    "      \"length\": {\"length\": 0}\n",
    "    }\n",
    "  },\n",
    "  \"encodedPath\": \"ys~nElvdqU`jXhvIfcLeuq@muYc~E\",\n",
    "  \"randomValue\": 0.5241\n",
    "}"
   ]
  },
  {
   "cell_type": "code",
   "execution_count": 92,
   "metadata": {},
   "outputs": [
    {
     "data": {
      "text/plain": [
       "{'path': {'Md': [{'lat': 34.026793, 'lng': -118.488928},\n",
       "   {'lat': 34.027518, 'lng': -118.487853},\n",
       "   {'lat': 34.026189, 'lng': -118.486335},\n",
       "   {'lat': 34.025447, 'lng': -118.48728},\n",
       "   {'lat': 34.027748, 'lng': -118.489069}],\n",
       "  'gm_accessors_': {'length': {'length': 0}},\n",
       "  'length': 4,\n",
       "  'gm_bindings_': {'length': {'length': 0}}},\n",
       " 'encodedPath': 'ys~nElvdqU`jXhvIfcLeuq@muYc~E',\n",
       " 'randomValue': 0.5241}"
      ]
     },
     "execution_count": 92,
     "metadata": {},
     "output_type": "execute_result"
    }
   ],
   "source": [
    "ext"
   ]
  },
  {
   "cell_type": "code",
   "execution_count": 93,
   "metadata": {},
   "outputs": [],
   "source": [
    "def get_dict(json_data):\n",
    "    return json.loads(json_data)\n"
   ]
  },
  {
   "cell_type": "code",
   "execution_count": 94,
   "metadata": {},
   "outputs": [],
   "source": [
    "def polygon_vertices(data):\n",
    "    coords = data['path']['Md']\n",
    "    coord_list = [list(i.values()) for i in coords]\n",
    "    return coord_list"
   ]
  },
  {
   "cell_type": "code",
   "execution_count": 95,
   "metadata": {},
   "outputs": [
    {
     "data": {
      "text/plain": [
       "[[34.026793, -118.488928],\n",
       " [34.027518, -118.487853],\n",
       " [34.026189, -118.486335],\n",
       " [34.025447, -118.48728],\n",
       " [34.027748, -118.489069]]"
      ]
     },
     "execution_count": 95,
     "metadata": {},
     "output_type": "execute_result"
    }
   ],
   "source": [
    "poly_verts = polygon_vertices(ext)\n",
    "poly_verts"
   ]
  },
  {
   "cell_type": "code",
   "execution_count": 96,
   "metadata": {},
   "outputs": [],
   "source": [
    "def rect_corners(vertices):\n",
    "    '''get the square around the inputted polygon vertices. only works for NW quadrant e.g. United States'''\n",
    "    north = max([i[0] for i in vertices])\n",
    "    south = min([i[0] for i in vertices])\n",
    "    east = max([i[1] for i in vertices])\n",
    "    west = min([i[1] for i in vertices])\n",
    "    \n",
    "    extrema = [[north,south], [east,west]]\n",
    "    corners = sorted(list(itertools.product(*extrema)), key = lambda x :(x[0], x[1]))\n",
    "    square_verts = {'sw': corners[0], 'se': corners[1],'nw':corners[2],'ne':corners[3]}\n",
    "    return(square_verts)"
   ]
  },
  {
   "cell_type": "code",
   "execution_count": 97,
   "metadata": {},
   "outputs": [
    {
     "data": {
      "text/plain": [
       "{'sw': (34.025447, -118.489069),\n",
       " 'se': (34.025447, -118.486335),\n",
       " 'nw': (34.027748, -118.489069),\n",
       " 'ne': (34.027748, -118.486335)}"
      ]
     },
     "execution_count": 97,
     "metadata": {},
     "output_type": "execute_result"
    }
   ],
   "source": [
    "square_verts = rect_corners(poly_verts)\n",
    "square_verts"
   ]
  },
  {
   "cell_type": "code",
   "execution_count": 90,
   "metadata": {},
   "outputs": [],
   "source": [
    "def get_coord_list(coord_dict, dim):\n",
    "    se = coord_dict['se']\n",
    "    sw = coord_dict['sw']\n",
    "    nw = coord_dict['nw']\n",
    "    ne = coord_dict['ne']\n",
    "    \n",
    "    delta_long = (se[1]- sw[1])/(dim-1)\n",
    "    long_coords = [sw[1]]\n",
    "    start = sw[1]\n",
    "    for i in range(dim-1):\n",
    "        start += delta_long\n",
    "        long_coords.append(start)\n",
    "        \n",
    "    delta_lat = (nw[0] - sw[0])/(dim-1)\n",
    "    \n",
    "    lat_coords = [sw[0]]\n",
    "    start = sw[0]\n",
    "    for i in range(dim-1):\n",
    "        start += delta_lat\n",
    "        lat_coords.append(start)\n",
    "        \n",
    "    coords = [lat_coords, long_coords]\n",
    "    coord_combos = list(itertools.product(*coords))\n",
    "    \n",
    "    return coord_combos"
   ]
  },
  {
   "cell_type": "code",
   "execution_count": 130,
   "metadata": {},
   "outputs": [
    {
     "data": {
      "text/plain": [
       "[(34.025447, -118.489069),\n",
       " (34.025447, -118.48838549999999),\n",
       " (34.025447, -118.48770199999998),\n",
       " (34.025447, -118.48701849999998),\n",
       " (34.025447, -118.48633499999997),\n",
       " (34.02602225, -118.489069),\n",
       " (34.02602225, -118.48838549999999),\n",
       " (34.02602225, -118.48770199999998),\n",
       " (34.02602225, -118.48701849999998),\n",
       " (34.02602225, -118.48633499999997),\n",
       " (34.026597499999994, -118.489069),\n",
       " (34.026597499999994, -118.48838549999999),\n",
       " (34.026597499999994, -118.48770199999998),\n",
       " (34.026597499999994, -118.48701849999998),\n",
       " (34.026597499999994, -118.48633499999997),\n",
       " (34.02717274999999, -118.489069),\n",
       " (34.02717274999999, -118.48838549999999),\n",
       " (34.02717274999999, -118.48770199999998),\n",
       " (34.02717274999999, -118.48701849999998),\n",
       " (34.02717274999999, -118.48633499999997),\n",
       " (34.02774799999999, -118.489069),\n",
       " (34.02774799999999, -118.48838549999999),\n",
       " (34.02774799999999, -118.48770199999998),\n",
       " (34.02774799999999, -118.48701849999998),\n",
       " (34.02774799999999, -118.48633499999997)]"
      ]
     },
     "execution_count": 130,
     "metadata": {},
     "output_type": "execute_result"
    }
   ],
   "source": [
    "get_coord_list(square_verts, 5)"
   ]
  },
  {
   "cell_type": "code",
   "execution_count": 136,
   "metadata": {},
   "outputs": [],
   "source": [
    "def within(point, bounds):\n",
    "    '''pass in a single point and a dictionary of corners (se, sw, ne, nw)'''\n",
    "    bounds = list(bounds.values())\n",
    "    point = Point(point)\n",
    "    polygon = Polygon(bounds)\n",
    "    return polygon.contains(point)"
   ]
  },
  {
   "cell_type": "code",
   "execution_count": 172,
   "metadata": {},
   "outputs": [],
   "source": [
    "def get_sample(json_data):\n",
    "#     data = json.loads(json_data)\n",
    "    data = json_data #need to swap this with the line above in the real implementation\n",
    "    poly_verts = polygon_vertices(data)\n",
    "    square_verts = rect_corners(poly_verts)\n",
    "    lst = np.array(get_coord_list(square_verts, 100))\n",
    "    print(len(lst))\n",
    "    t = np.array([within(i, square_verts) for i in lst])\n",
    "    return str(t)"
   ]
  },
  {
   "cell_type": "code",
   "execution_count": 174,
   "metadata": {},
   "outputs": [
    {
     "name": "stdout",
     "output_type": "stream",
     "text": [
      "10000\n"
     ]
    },
    {
     "data": {
      "text/plain": [
       "'[False False False ...  True  True False]'"
      ]
     },
     "execution_count": 174,
     "metadata": {},
     "output_type": "execute_result"
    }
   ],
   "source": [
    "get_sample(ext)"
   ]
  },
  {
   "cell_type": "code",
   "execution_count": 173,
   "metadata": {},
   "outputs": [
    {
     "name": "stdout",
     "output_type": "stream",
     "text": [
      "10000\n"
     ]
    },
    {
     "data": {
      "text/plain": [
       "array([40, 24,  4, 26, 30])"
      ]
     },
     "execution_count": 173,
     "metadata": {},
     "output_type": "execute_result"
    }
   ],
   "source": [
    "np.random.choice(np.arange(len(get_sample(ext))), 5, replace = False)"
   ]
  },
  {
   "cell_type": "code",
   "execution_count": 181,
   "metadata": {},
   "outputs": [],
   "source": [
    "ext2 = {\n",
    "  \"path\": {\n",
    "    \"Md\": [\n",
    "      {\n",
    "        \"lat\": 34.2206,\n",
    "        \"lng\": -118.5448\n",
    "      },\n",
    "      {\n",
    "        \"lat\": 34.2207,\n",
    "        \"lng\": -118.5361\n",
    "      },\n",
    "      {\n",
    "        \"lat\": 34.2158,\n",
    "        \"lng\": -118.5359\n",
    "      },\n",
    "      {\n",
    "        \"lat\": 34.2138,\n",
    "        \"lng\": -118.5408\n",
    "      },\n",
    "      {\n",
    "        \"lat\": 34.2157,\n",
    "        \"lng\": -118.5448\n",
    "      }\n",
    "    ],\n",
    "    \"gm_accessors_\": {\n",
    "      \"length\": {}\n",
    "    },\n",
    "    \"length\": 5,\n",
    "    \"gm_bindings_\": {\n",
    "      \"length\": {}\n",
    "    }\n",
    "  },\n",
    "  \"encodedPath\": \"}uzoE|gprUMeu@z]a@jKp]wJ|W\",\n",
    "  \"randomValue\": 0.6121\n",
    "}"
   ]
  },
  {
   "cell_type": "code",
   "execution_count": 177,
   "metadata": {},
   "outputs": [],
   "source": [
    "def get_area(json_data):\n",
    "    '''\n",
    "    returns the area of the coordinate space in the target json file\n",
    "\n",
    "    in: json data with coordinates under ['path']['Md'] item\n",
    "    out: area of polygon defined in json data (square meters), plus number of vertices\n",
    "\n",
    "    router extension: /polygon\n",
    "    e.g. base_url/polygon/{data}\n",
    "    '''\n",
    "\n",
    "    coords = json_data['path']['Md']\n",
    "\n",
    "    coord_list = [[list(i.values()) for i in coords]]\n",
    "    coord_list[0].append(coord_list[0][0])\n",
    "\n",
    "    #calculate and return area\n",
    "    obj = {'type':'Polygon','coordinates':coord_list}\n",
    "    sqm = area(obj)\n",
    "    return sqm"
   ]
  },
  {
   "cell_type": "code",
   "execution_count": 182,
   "metadata": {},
   "outputs": [
    {
     "data": {
      "text/plain": [
       "306600.47719959053"
      ]
     },
     "execution_count": 182,
     "metadata": {},
     "output_type": "execute_result"
    }
   ],
   "source": [
    "get_area(ext2)"
   ]
  },
  {
   "cell_type": "code",
   "execution_count": null,
   "metadata": {},
   "outputs": [],
   "source": []
  }
 ],
 "metadata": {
  "kernelspec": {
   "display_name": "Python 3",
   "language": "python",
   "name": "python3"
  },
  "language_info": {
   "codemirror_mode": {
    "name": "ipython",
    "version": 3
   },
   "file_extension": ".py",
   "mimetype": "text/x-python",
   "name": "python",
   "nbconvert_exporter": "python",
   "pygments_lexer": "ipython3",
   "version": "3.8.5"
  }
 },
 "nbformat": 4,
 "nbformat_minor": 4
}
