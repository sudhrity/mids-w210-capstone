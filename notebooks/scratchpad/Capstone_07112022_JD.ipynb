{
 "cells": [
  {
   "cell_type": "markdown",
   "id": "26473b19",
   "metadata": {},
   "source": [
    "# Google Earth Engine Component"
   ]
  },
  {
   "cell_type": "markdown",
   "id": "e32cc559",
   "metadata": {},
   "source": [
    "## Initialize"
   ]
  },
  {
   "cell_type": "code",
   "execution_count": 1,
   "id": "2ec40958",
   "metadata": {},
   "outputs": [],
   "source": [
    "#Import required libraries\n",
    "import ee\n",
    "import geemap\n",
    "import math"
   ]
  },
  {
   "cell_type": "code",
   "execution_count": 2,
   "id": "9efddfc3",
   "metadata": {},
   "outputs": [],
   "source": [
    "#Initialize Google Earth Engine\n",
    "#ee.Authenticate() just needed the 1st time\n",
    "ee.Initialize()"
   ]
  },
  {
   "cell_type": "code",
   "execution_count": 3,
   "id": "b97c34d6",
   "metadata": {},
   "outputs": [],
   "source": [
    "# Check if geemap is working as intended - plot the leaflet map\n",
    "Map = geemap.Map()"
   ]
  },
  {
   "cell_type": "markdown",
   "id": "4c6734c0",
   "metadata": {},
   "source": [
    "## Load Feature Collection - Shapefiles"
   ]
  },
  {
   "cell_type": "code",
   "execution_count": 4,
   "id": "d0b4aafb",
   "metadata": {},
   "outputs": [],
   "source": [
    "#Data loads\n",
    "\n",
    "#loads feature collection data from Google Earth Engine - We can also upload other feature collections\n",
    "counties = ee.FeatureCollection(\"TIGER/2018/Counties\")\n",
    "\n",
    "#filter LA County\n",
    "la_county = counties.filter(ee.Filter.eq('NAME', 'Los Angeles'))\n",
    "sd_county = counties.filter(ee.Filter.eq('NAME', 'San Diego'))"
   ]
  },
  {
   "cell_type": "code",
   "execution_count": 5,
   "id": "fa473a62",
   "metadata": {},
   "outputs": [],
   "source": [
    "#loads cities data - Not in current use\n",
    "\n",
    "#load California Cities Shapefile\n",
    "cities = ee.FeatureCollection(\"projects/california-lawn-detection/assets/Cities2015\")\n",
    "\n",
    "# Filter for LA City\n",
    "la_cities = cities.filter(ee.Filter.eq('County', 'Los Angeles'))\n",
    "sd_cities = cities.filter(ee.Filter.eq('County', 'San Diego'))\n",
    "\n",
    "\n",
    "# Filter sea\n",
    "la_cities_land = la_cities.filter(ee.Filter.notEquals('Notes', '3 nautical mile offshore'))\n",
    "sd_cities_land = sd_cities.filter(ee.Filter.notEquals('Notes', '3 nautical mile offshore'))\n",
    "\n",
    "sd_city = sd_cities_land.filter((ee.Filter.eq('NAME', 'San Diego')))\n",
    "\n",
    "# How to add a layer to the base map\n",
    "#Map.addLayer(la_cities_land,{}, 'la_cities')\n",
    "#Map.addLayer(sd_city,{}, 'sd_city')"
   ]
  },
  {
   "cell_type": "code",
   "execution_count": 6,
   "id": "d9f7d929",
   "metadata": {},
   "outputs": [],
   "source": [
    "#city_names = []\n",
    "#shape_list = []\n",
    "\n",
    "#for i in range(len(la_cities_land.getInfo().get('features'))):\n",
    "#    city_names.append(la_cities_land.getInfo().get('features')[i].get('properties').get('NAME'))\n",
    "#    shape_list.append(la_cities_land.getInfo().get('features')[i].get('geometry'))\n",
    "    "
   ]
  },
  {
   "cell_type": "code",
   "execution_count": 7,
   "id": "e9162336",
   "metadata": {
    "scrolled": true
   },
   "outputs": [
    {
     "data": {
      "application/vnd.jupyter.widget-view+json": {
       "model_id": "c49b9410a8c044359748df37fc7d9e3f",
       "version_major": 2,
       "version_minor": 0
      },
      "text/plain": [
       "Map(center=[20, 0], controls=(WidgetControl(options=['position', 'transparent_bg'], widget=HBox(children=(Togg…"
      ]
     },
     "metadata": {},
     "output_type": "display_data"
    }
   ],
   "source": [
    "Map"
   ]
  },
  {
   "cell_type": "code",
   "execution_count": 8,
   "id": "0dc1e1b5",
   "metadata": {},
   "outputs": [],
   "source": [
    "#loads parcel data\n",
    "\n",
    "la_parcel_shape = ee.FeatureCollection(\"projects/california-lawn-detection/assets/LA_County_Parcels_Shape\")\n",
    "\n",
    "# Map.addLayer(la_parcel_shape,{'color': '00000000'}, 'la_parcel_shape')"
   ]
  },
  {
   "cell_type": "code",
   "execution_count": 9,
   "id": "257ad251",
   "metadata": {},
   "outputs": [],
   "source": [
    "#Income Data\n",
    "\n",
    "la_county_income = ee.FeatureCollection(\"projects/california-lawn-detection/assets/lacountyincome-final\")\n",
    "#\n",
    "#Map.addLayer(la_county_income,{}, 'LA County Income')"
   ]
  },
  {
   "cell_type": "code",
   "execution_count": 10,
   "id": "4911a40b",
   "metadata": {},
   "outputs": [],
   "source": [
    "la_county_income2 = ee.FeatureCollection(\"projects/california-lawn-detection/assets/lacountyincome_update\")\n",
    "la_county_income = la_county_income2.select(ee.List(['Name', 'Descriptio', 'Ranking']), ee.List(['Name', 'Median_Income', 'Ranking']))\n",
    "#Map.addLayer(la_county_income,{}, 'LA County Income')"
   ]
  },
  {
   "cell_type": "code",
   "execution_count": 11,
   "id": "5b73cb5c",
   "metadata": {},
   "outputs": [
    {
     "data": {
      "application/vnd.jupyter.widget-view+json": {
       "model_id": "c49b9410a8c044359748df37fc7d9e3f",
       "version_major": 2,
       "version_minor": 0
      },
      "text/plain": [
       "Map(bottom=754.0, center=[20, 0], controls=(WidgetControl(options=['position', 'transparent_bg'], widget=HBox(…"
      ]
     },
     "metadata": {},
     "output_type": "display_data"
    }
   ],
   "source": [
    "Map"
   ]
  },
  {
   "cell_type": "markdown",
   "id": "d5ba5304",
   "metadata": {},
   "source": [
    "## Load NAIP Imagery"
   ]
  },
  {
   "cell_type": "code",
   "execution_count": 12,
   "id": "1dfbfc91",
   "metadata": {},
   "outputs": [],
   "source": [
    "#loads NAIP 2020 and 2010 dataset and selects bands Red, Green, Blue, Near Infrared (R,G,B,N)\n",
    "\n",
    "# rgbn imagery from 2010 to 2020\n",
    "image_2020_rgbn = (\n",
    "    ee.ImageCollection('USDA/NAIP/DOQQ')\n",
    "    .filterDate('2020-01-01', '2020-12-31')\n",
    "    .select(['R', 'G', 'B', 'N'])\n",
    ")\n",
    "\n",
    "image_2018_rgbn = (\n",
    "    ee.ImageCollection('USDA/NAIP/DOQQ')\n",
    "    .filterDate('2018-01-01', '2018-12-31')\n",
    "    .select(['R', 'G', 'B', 'N'])\n",
    ")\n",
    "\n",
    "image_2016_rgbn = (\n",
    "    ee.ImageCollection('USDA/NAIP/DOQQ')\n",
    "    .filterDate('2016-01-01', '2016-12-31')\n",
    "    .select(['R', 'G', 'B', 'N'])\n",
    ")\n",
    "\n",
    "image_2014_rgbn = (\n",
    "    ee.ImageCollection('USDA/NAIP/DOQQ')\n",
    "    .filterDate('2014-01-01', '2014-12-31')\n",
    "    .select(['R', 'G', 'B', 'N'])\n",
    ")\n",
    "\n",
    "image_2012_rgbn = (\n",
    "    ee.ImageCollection('USDA/NAIP/DOQQ')\n",
    "    .filterDate('2012-01-01', '2012-12-31')\n",
    "    .select(['R', 'G', 'B', 'N'])\n",
    ")\n",
    "\n",
    "image_2010_rgbn = (\n",
    "    ee.ImageCollection('USDA/NAIP/DOQQ')\n",
    "    .filterDate('2010-01-01', '2010-12-31')\n",
    "    .select(['R', 'G', 'B', 'N'])\n",
    ")\n",
    "\n",
    "# nrg imagery from 2010 to 2020\n",
    "image_2020_nrg = (\n",
    "    ee.ImageCollection('USDA/NAIP/DOQQ')\n",
    "    .filterDate('2020-01-01', '2020-12-31')\n",
    "    .select(['N','R','G'])\n",
    ")\n",
    "\n",
    "image_2018_nrg = (\n",
    "    ee.ImageCollection('USDA/NAIP/DOQQ')\n",
    "    .filterDate('2018-01-01', '2018-12-31')\n",
    "    .select(['N','R','G'])\n",
    ")\n",
    "\n",
    "image_2016_nrg = (\n",
    "    ee.ImageCollection('USDA/NAIP/DOQQ')\n",
    "    .filterDate('2016-01-01', '2016-12-31')\n",
    "    .select(['N','R','G'])\n",
    ")\n",
    "\n",
    "image_2014_nrg = (\n",
    "    ee.ImageCollection('USDA/NAIP/DOQQ')\n",
    "    .filterDate('2014-01-01', '2014-12-31')\n",
    "    .select(['N','R','G'])\n",
    ")\n",
    "\n",
    "image_2012_nrg = (\n",
    "    ee.ImageCollection('USDA/NAIP/DOQQ')\n",
    "    .filterDate('2012-01-01', '2012-12-31')\n",
    "    .select(['N','R','G'])\n",
    ")\n",
    "\n",
    "image_2010_nrg = (\n",
    "    ee.ImageCollection('USDA/NAIP/DOQQ')\n",
    "    .filterDate('2010-01-01', '2010-12-31')\n",
    "    .select(['N','R','G'])\n",
    ")\n",
    "\n",
    "#Calculate median so it can be clipped - turns image collection into an image\n",
    "NAIP_2020_rgbn = image_2020_rgbn.median()\n",
    "NAIP_2018_rgbn = image_2018_rgbn.median()\n",
    "NAIP_2016_rgbn = image_2016_rgbn.median()\n",
    "NAIP_2014_rgbn = image_2014_rgbn.median()\n",
    "NAIP_2012_rgbn = image_2012_rgbn.median()\n",
    "NAIP_2010_rgbn = image_2010_rgbn.median()\n",
    "\n",
    "NAIP_2020_nrg = image_2020_nrg.median()\n",
    "NAIP_2018_nrg = image_2018_nrg.median()\n",
    "NAIP_2016_nrg = image_2016_nrg.median()\n",
    "NAIP_2014_nrg = image_2014_nrg.median()\n",
    "NAIP_2012_nrg = image_2012_nrg.median()\n",
    "NAIP_2010_nrg = image_2010_nrg.median()\n",
    "\n",
    "#Clip images to desired polygon in this case la_county\n",
    "\n",
    "NAIP_2020_rgbn_lacounty = NAIP_2020_rgbn.clip(la_county)\n",
    "NAIP_2020_nrg_lacounty = NAIP_2020_nrg.clip(la_county)\n",
    "NAIP_2018_rgbn_lacounty = NAIP_2018_rgbn.clip(la_county)\n",
    "NAIP_2018_nrg_lacounty = NAIP_2018_nrg.clip(la_county)\n",
    "NAIP_2016_rgbn_lacounty = NAIP_2016_rgbn.clip(la_county)\n",
    "NAIP_2016_nrg_lacounty = NAIP_2016_nrg.clip(la_county)\n",
    "NAIP_2014_rgbn_lacounty = NAIP_2014_rgbn.clip(la_county)\n",
    "NAIP_2014_nrg_lacounty = NAIP_2014_nrg.clip(la_county)\n",
    "NAIP_2012_rgbn_lacounty = NAIP_2012_rgbn.clip(la_county)\n",
    "NAIP_2012_nrg_lacounty = NAIP_2012_nrg.clip(la_county)\n",
    "NAIP_2010_rgbn_lacounty = NAIP_2010_rgbn.clip(la_county)\n",
    "NAIP_2010_nrg_lacounty = NAIP_2010_nrg.clip(la_county)\n",
    "\n",
    "\n",
    "NAIP_2020_rgbn_sd_city = NAIP_2020_rgbn.clip(sd_city)\n",
    "NAIP_2020_nrg_sd_city = NAIP_2020_nrg.clip(sd_city)\n",
    "\n"
   ]
  },
  {
   "cell_type": "code",
   "execution_count": 13,
   "id": "d1ee3e7c",
   "metadata": {},
   "outputs": [],
   "source": [
    "#Calculate NDVI for each image\n",
    "ndvi_2020 = NAIP_2020_rgbn_lacounty.normalizedDifference(['N', 'R']).rename('NAIP_2020_NDVI')\n",
    "ndvi_2018 = NAIP_2018_rgbn_lacounty.normalizedDifference(['N', 'R']).rename('NAIP_2018_NDVI')\n",
    "ndvi_2016 = NAIP_2016_rgbn_lacounty.normalizedDifference(['N', 'R']).rename('NAIP_2016_NDVI')\n",
    "ndvi_2014 = NAIP_2014_rgbn_lacounty.normalizedDifference(['N', 'R']).rename('NAIP_2014_NDVI')\n",
    "ndvi_2012 = NAIP_2012_rgbn_lacounty.normalizedDifference(['N', 'R']).rename('NAIP_2012_NDVI')\n",
    "ndvi_2010 = NAIP_2010_rgbn_lacounty.normalizedDifference(['N', 'R']).rename('NAIP_2010_NDVI')"
   ]
  },
  {
   "cell_type": "code",
   "execution_count": 14,
   "id": "d84fe2bb",
   "metadata": {},
   "outputs": [],
   "source": [
    "#Add it as a layer\n",
    "#Map.addLayer(ndvi_2020, {min : -1, max : 1, 'palette' : ['blue', 'white', 'green']}, 'NAIP_2020_NDVI')\n",
    "\n",
    "# 2018\n",
    "# Map.addLayer(ndvi_2018, {min : -1, max : 1, 'palette' : ['blue', 'white', 'green']}, 'NAIP_2018_NDVI')\n",
    "\n",
    "# 2016\n",
    "# Map.addLayer(ndvi_2016, {min : -1, max : 1, 'palette' : ['blue', 'white', 'green']}, 'NAIP_2016_NDVI')\n",
    "\n",
    "# 2014\n",
    "# Map.addLayer(ndvi_2014, {min : -1, max : 1, 'palette' : ['blue', 'white', 'green']}, 'NAIP_2014_NDVI')\n",
    "\n",
    "# 2012\n",
    "# Map.addLayer(ndvi_2012, {min : -1, max : 1, 'palette' : ['blue', 'white', 'green']}, 'NAIP_2012_NDVI')\n",
    "\n",
    "# 2010\n",
    "# Map.addLayer(ndvi_2010, {min : -1, max : 1, 'palette' : ['blue', 'white', 'green']}, 'NAIP_2010_NDVI')"
   ]
  },
  {
   "cell_type": "code",
   "execution_count": 15,
   "id": "b91ac3fb",
   "metadata": {},
   "outputs": [],
   "source": [
    "#Add layer\n",
    "Map.addLayer(NAIP_2020_rgbn_lacounty,{}, 'NAIP_2020_rgbn')\n",
    "Map.addLayer(NAIP_2020_nrg_lacounty,{}, 'NAIP_2020_nrg')\n",
    "\n",
    "Map.addLayer(NAIP_2020_rgbn_sd_city,{}, 'NAIP_2020_rgbn_sd')\n",
    "Map.addLayer(NAIP_2020_nrg_sd_city,{}, 'NAIP_2020_rgbn_sd')\n",
    "\n",
    "\n",
    "#2018\n",
    "Map.addLayer(NAIP_2018_rgbn_lacounty,{}, 'NAIP_2018_rgbn')\n",
    "Map.addLayer(NAIP_2018_nrg_lacounty,{}, 'NAIP_2018_nrg')\n",
    "\n",
    "#2016\n",
    "Map.addLayer(NAIP_2016_rgbn_lacounty,{}, 'NAIP_2016_rgbn')\n",
    "Map.addLayer(NAIP_2016_nrg_lacounty,{}, 'NAIP_2016_nrg')\n",
    "\n",
    "#2014\n",
    "Map.addLayer(NAIP_2014_rgbn_lacounty,{}, 'NAIP_2014_rgbn')\n",
    "Map.addLayer(NAIP_2014_nrg_lacounty,{}, 'NAIP_2014_nrg')\n",
    "\n",
    "#2012\n",
    "Map.addLayer(NAIP_2012_rgbn_lacounty,{}, 'NAIP_2012_rgbn')\n",
    "Map.addLayer(NAIP_2012_nrg_lacounty,{}, 'NAIP_2012_nrg')\n",
    "\n",
    "#2010\n",
    "Map.addLayer(NAIP_2010_rgbn_lacounty,{}, 'NAIP_2010_rgbn')\n",
    "Map.addLayer(NAIP_2010_nrg_lacounty,{}, 'NAIP_2010_nrg')"
   ]
  },
  {
   "cell_type": "markdown",
   "id": "60064ca2",
   "metadata": {},
   "source": [
    "## Texture"
   ]
  },
  {
   "cell_type": "code",
   "execution_count": 16,
   "id": "154c80d2",
   "metadata": {},
   "outputs": [],
   "source": [
    "def add_NDVI(image):\n",
    "    image = image.addBands(image.normalizedDifference(['N','R']).rename('NDVI'))\n",
    "    return image"
   ]
  },
  {
   "cell_type": "code",
   "execution_count": 17,
   "id": "7dd51805",
   "metadata": {},
   "outputs": [],
   "source": [
    "NAIP_2020_rgbn_ndvi_lacounty = add_NDVI(NAIP_2020_rgbn_lacounty)\n",
    "\n",
    "NAIP_2020_rgbn_ndvi_sd_city = add_NDVI(NAIP_2020_rgbn_sd_city)\n",
    "\n",
    "NAIP_2018_rgbn_ndvi_lacounty = add_NDVI(NAIP_2018_rgbn_lacounty)\n",
    "NAIP_2016_rgbn_ndvi_lacounty = add_NDVI(NAIP_2016_rgbn_lacounty)\n",
    "NAIP_2014_rgbn_ndvi_lacounty = add_NDVI(NAIP_2014_rgbn_lacounty)\n",
    "NAIP_2012_rgbn_ndvi_lacounty = add_NDVI(NAIP_2012_rgbn_lacounty)\n",
    "NAIP_2010_rgbn_ndvi_lacounty = add_NDVI(NAIP_2010_rgbn_lacounty)"
   ]
  },
  {
   "cell_type": "code",
   "execution_count": 18,
   "id": "8e4eb24a",
   "metadata": {},
   "outputs": [],
   "source": [
    "def neighborhood_bands(image, band):\n",
    "    i_8_bit = image.select(band).toUint8()\n",
    "    square = ee.Kernel.square(**{'radius': 4})\n",
    "    entropy = i_8_bit.entropy(square)\n",
    "    glcm = i_8_bit.glcmTexture(**{'size': 4})\n",
    "    contrast = glcm.select(str(band)+'_contrast')\n",
    "    \n",
    "    # Create a list of weights for a 9x9 kernel.\n",
    "    list = [1, 1, 1, 1, 1, 1, 1, 1, 1]\n",
    "    # The center of the kernel is zero.\n",
    "    centerList = [1, 1, 1, 1, 0, 1, 1, 1, 1]\n",
    "    # Assemble a list of lists: the 9x9 kernel weights as a 2-D matrix.\n",
    "    lists = [list, list, list, list, centerList, list, list, list, list]\n",
    "    # Create the kernel from the weights.\n",
    "    # Non-zero weights represent the spatial neighborhood.\n",
    "    kernel = ee.Kernel.fixed(9, 9, lists, -4, -4, False)\n",
    "    neighs = i_8_bit.neighborhoodToBands(kernel)\n",
    "    gearys = i_8_bit.subtract(neighs).pow(2).reduce(ee.Reducer.sum()).divide(math.pow(9, 2))\n",
    "    image = image.addBands(entropy.rename(str(band)+'_Entropy')).addBands(contrast.rename(str(band)+'_Contrast')).addBands(gearys.rename(str(band)+'_Gearys'))   \n",
    "    return image\n"
   ]
  },
  {
   "cell_type": "code",
   "execution_count": 19,
   "id": "a3db6099",
   "metadata": {},
   "outputs": [],
   "source": [
    "bands = ['R', 'G', 'B', 'N', 'NDVI']\n",
    "for band in bands:\n",
    "    NAIP_2020_rgbn_ndvi_lacounty = neighborhood_bands(NAIP_2020_rgbn_ndvi_lacounty,band)\n",
    "    \n",
    "    NAIP_2020_rgbn_ndvi_sd_city = neighborhood_bands(NAIP_2020_rgbn_ndvi_sd_city,band)\n",
    "    \n",
    "    NAIP_2018_rgbn_ndvi_lacounty = neighborhood_bands(NAIP_2018_rgbn_ndvi_lacounty,band)\n",
    "    NAIP_2016_rgbn_ndvi_lacounty = neighborhood_bands(NAIP_2016_rgbn_ndvi_lacounty,band)\n",
    "    NAIP_2014_rgbn_ndvi_lacounty = neighborhood_bands(NAIP_2014_rgbn_ndvi_lacounty,band)\n",
    "    NAIP_2012_rgbn_ndvi_lacounty = neighborhood_bands(NAIP_2012_rgbn_ndvi_lacounty,band)\n",
    "    NAIP_2010_rgbn_ndvi_lacounty = neighborhood_bands(NAIP_2010_rgbn_ndvi_lacounty,band)"
   ]
  },
  {
   "cell_type": "markdown",
   "id": "1776e43b",
   "metadata": {},
   "source": [
    "## Load Labeled Data"
   ]
  },
  {
   "cell_type": "code",
   "execution_count": 20,
   "id": "56d3fd72",
   "metadata": {},
   "outputs": [],
   "source": [
    "## Loading feature collections from Google Earth Engine\n",
    "\n",
    "water_1 = ee.FeatureCollection(\"projects/california-lawn-detection/assets/water_torrance_0610\")\n",
    "water_2 = ee.FeatureCollection(\"projects/california-lawn-detection/assets/water_torrance_0701_400\")\n",
    "vegetation_trees = ee.FeatureCollection(\"projects/california-lawn-detection/assets/trees_torrance\")\n",
    "vegetation_grass = ee.FeatureCollection(\"projects/california-lawn-detection/assets/grass_torrance\").limit(400)\n",
    "turf_1 = ee.FeatureCollection(\"projects/california-lawn-detection/assets/turf_torrance1\")\n",
    "turf_2 = ee.FeatureCollection(\"projects/california-lawn-detection/assets/turf_torrance2\")\n",
    "impervious_1 = ee.FeatureCollection(\"projects/california-lawn-detection/assets/impervious_torrance1\").limit(35)\n",
    "impervious_2 = ee.FeatureCollection(\"projects/california-lawn-detection/assets/impervious_torrance2\").limit(35)\n",
    "soil = ee.FeatureCollection(\"projects/california-lawn-detection/assets/soil_reduced_070222\")\n",
    "\n",
    "water = water_1.merge(water_2)\n",
    "turf = turf_1.merge(turf_2)\n",
    "impervious= impervious_1.merge(impervious_2)"
   ]
  },
  {
   "cell_type": "code",
   "execution_count": 21,
   "id": "1f89a33c",
   "metadata": {},
   "outputs": [],
   "source": [
    "def conditional_water(feat):\n",
    "    return ee.Algorithms.If(ee.Number(feat.get('landcover')).eq(1),feat.set({'landcover': 0}),feat)\n",
    "\n",
    "def conditional_trees(feat):\n",
    "    return ee.Algorithms.If(ee.Number(feat.get('landcover')).eq(2),feat.set({'landcover': 1}),feat)\n",
    "\n",
    "def conditional_grass(feat):\n",
    "    return ee.Algorithms.If(ee.Number(feat.get('landcover')).eq(3),feat.set({'landcover': 2}),feat)\n",
    "\n",
    "def conditional_turf(feat):\n",
    "    return ee.Algorithms.If(ee.Number(feat.get('landcover')).eq(4),feat.set({'landcover': 3}),feat)\n",
    "\n",
    "def conditional_impervious(feat):\n",
    "    return ee.Algorithms.If(ee.Number(feat.get('landcover')).eq(6),feat.set({'landcover': 4}),feat)\n",
    "\n",
    "def conditional_soil(feat):\n",
    "    return ee.Algorithms.If(ee.Number(feat.get('landcover')).eq(7),feat.set({'landcover': 5}),feat)\n",
    "\n",
    "water_tr = water.map(conditional_water)\n",
    "trees_tr = vegetation_trees.map(conditional_trees)\n",
    "grass_tr = vegetation_grass.map(conditional_grass)\n",
    "turf_tr = turf.map(conditional_turf)\n",
    "impervious_tr = impervious.map(conditional_impervious)\n",
    "soil_tr = soil.map(conditional_soil)\n",
    "\n",
    "labeled_set = water_tr.merge(trees_tr).merge(grass_tr).merge(turf_tr).merge(impervious_tr).merge(soil_tr)"
   ]
  },
  {
   "cell_type": "code",
   "execution_count": 22,
   "id": "a3d22b8b",
   "metadata": {},
   "outputs": [],
   "source": [
    "water_test = ee.FeatureCollection(\"projects/california-lawn-detection/assets/water_test\")\n",
    "vegetation_trees_test = ee.FeatureCollection(\"projects/california-lawn-detection/assets/trees_test\")\n",
    "vegetation_grass_test  = ee.FeatureCollection(\"projects/california-lawn-detection/assets/grass_test\")\n",
    "turf_test  = ee.FeatureCollection(\"projects/california-lawn-detection/assets/turf_test\")\n",
    "impervious_test  = ee.FeatureCollection(\"projects/california-lawn-detection/assets/impervious_reduced_test\")\n",
    "soil_test  = ee.FeatureCollection(\"projects/california-lawn-detection/assets/soil_reduced_070222\")\n",
    "\n",
    "test_set = water_test.merge(vegetation_trees_test).merge(vegetation_grass_test).merge(turf_test).merge(impervious_test).merge(soil_test)"
   ]
  },
  {
   "cell_type": "markdown",
   "id": "69755cbd",
   "metadata": {},
   "source": [
    "## Building Training Set"
   ]
  },
  {
   "cell_type": "code",
   "execution_count": 23,
   "id": "1699badf",
   "metadata": {},
   "outputs": [],
   "source": [
    "# Overlay the points on the imagery to get training.\n",
    "label = 'landcover'\n",
    "bands = ['R', 'G', 'B', 'N', 'NDVI', 'N_Entropy', 'N_Contrast','N_Gearys']\n",
    "#         'R_Entropy',\n",
    "#         'R_Contrast',\n",
    "#         'R_Gearys',\n",
    "#         'G_Entropy',\n",
    "#         'G_Contrast',\n",
    "#         'G_Gearys',\n",
    "#         'B_Entropy',\n",
    "#         'B_Contrast',\n",
    "#         'B_Gearys']\n",
    "\n",
    "training2020 = NAIP_2020_rgbn_ndvi_lacounty.select(bands).sampleRegions(**{\n",
    "  'collection': labeled_set,\n",
    "  'properties': [label],\n",
    "  'scale': 1\n",
    "})"
   ]
  },
  {
   "cell_type": "code",
   "execution_count": 24,
   "id": "1481c4e8",
   "metadata": {},
   "outputs": [],
   "source": [
    "test2020 = NAIP_2020_rgbn_ndvi_lacounty.select(bands).sampleRegions(**{\n",
    "  'collection': test_set,\n",
    "  'properties': [label],\n",
    "  'scale': 1\n",
    "})"
   ]
  },
  {
   "cell_type": "code",
   "execution_count": 25,
   "id": "e98a9928",
   "metadata": {
    "scrolled": true
   },
   "outputs": [
    {
     "name": "stdout",
     "output_type": "stream",
     "text": [
      "Training Set Size in Pixels 248876\n"
     ]
    }
   ],
   "source": [
    "print(\"Training Set Size in Pixels\", training2020.aggregate_count('R').getInfo())"
   ]
  },
  {
   "cell_type": "code",
   "execution_count": 26,
   "id": "008b0860",
   "metadata": {},
   "outputs": [
    {
     "name": "stdout",
     "output_type": "stream",
     "text": [
      "Test Set Size in Pixels 15574\n"
     ]
    }
   ],
   "source": [
    "print(\"Test Set Size in Pixels\", test2020.aggregate_count('R').getInfo())"
   ]
  },
  {
   "cell_type": "markdown",
   "id": "daf84ef2",
   "metadata": {},
   "source": [
    "### Machine Learning Model"
   ]
  },
  {
   "cell_type": "code",
   "execution_count": 28,
   "id": "216e8b26",
   "metadata": {},
   "outputs": [],
   "source": [
    "trained2020 = ee.Classifier.smileRandomForest(numberOfTrees = 230, minLeafPopulation = 50, bagFraction= 0.6).train(training2020, label, bands)"
   ]
  },
  {
   "cell_type": "code",
   "execution_count": 30,
   "id": "b07769d3",
   "metadata": {},
   "outputs": [],
   "source": [
    "classified2020 = NAIP_2020_rgbn_ndvi_lacounty.select(bands).classify(trained2020)"
   ]
  },
  {
   "cell_type": "code",
   "execution_count": 39,
   "id": "a67017ff",
   "metadata": {},
   "outputs": [],
   "source": [
    "classified2020_sd = NAIP_2020_rgbn_ndvi_sd_city.select(bands).classify(trained2020)"
   ]
  },
  {
   "cell_type": "code",
   "execution_count": 34,
   "id": "94579593",
   "metadata": {},
   "outputs": [],
   "source": [
    "classified2018 = NAIP_2018_rgbn_ndvi_lacounty.select(bands).classify(trained2020)"
   ]
  },
  {
   "cell_type": "code",
   "execution_count": 35,
   "id": "0d21ccc9",
   "metadata": {},
   "outputs": [],
   "source": [
    "classified2010 = NAIP_2010_rgbn_ndvi_lacounty.select(bands).classify(trained2020)"
   ]
  },
  {
   "cell_type": "code",
   "execution_count": 31,
   "id": "3be8a6d8",
   "metadata": {
    "scrolled": true
   },
   "outputs": [],
   "source": [
    "legend_keys = ['water', 'vegetation_trees', 'vegetation_grass', 'turf','impervious','soil']\n",
    "#legend_colors = ['#2252ff', '#086f69', '#1dd12d', '#0b9ed5' ,' #7c807c','#a47041']\n",
    "legend_colors = ['#0B6AEF', '#097407', '#0CE708', '#8C46D2' ,' #A1A8AF','#D47911']\n",
    "\n",
    "Map.addLayer(classified2020.select(['classification']), {'min': 0, 'max': 5, 'palette': legend_colors}, 'Classification2020')"
   ]
  },
  {
   "cell_type": "code",
   "execution_count": 42,
   "id": "7131db50",
   "metadata": {},
   "outputs": [],
   "source": [
    "Map.addLayer(classified2020_sd.select(['classification']), {'min': 0, 'max': 5, 'palette': legend_colors}, 'Classification2020_sd')"
   ]
  },
  {
   "cell_type": "code",
   "execution_count": 36,
   "id": "e3035e2c",
   "metadata": {},
   "outputs": [],
   "source": [
    "Map.addLayer(classified2018.select(['classification']), {'min': 0, 'max': 5, 'palette': legend_colors}, 'Classification2018')"
   ]
  },
  {
   "cell_type": "code",
   "execution_count": 37,
   "id": "7f10621f",
   "metadata": {},
   "outputs": [],
   "source": [
    "Map.addLayer(classified2010.select(['classification']), {'min': 0, 'max': 5, 'palette': legend_colors}, 'Classification2010')"
   ]
  },
  {
   "cell_type": "code",
   "execution_count": 38,
   "id": "70bd0cd5",
   "metadata": {},
   "outputs": [
    {
     "name": "stdout",
     "output_type": "stream",
     "text": [
      "The legend colors must be a list of tuples.\n"
     ]
    }
   ],
   "source": [
    "Map.add_legend(legend_keys=legend_keys, legend_colors=legend_colors, position='bottomright')"
   ]
  },
  {
   "cell_type": "code",
   "execution_count": 32,
   "id": "13b1fdc4",
   "metadata": {
    "scrolled": false
   },
   "outputs": [
    {
     "data": {
      "application/vnd.jupyter.widget-view+json": {
       "model_id": "b9a753a7556642ff8494564ae36a1667",
       "version_major": 2,
       "version_minor": 0
      },
      "text/plain": [
       "Map(bottom=754.0, center=[19.973348786110613, -0.17578125], controls=(WidgetControl(options=['position', 'tran…"
      ]
     },
     "metadata": {},
     "output_type": "display_data"
    }
   ],
   "source": [
    "Map"
   ]
  },
  {
   "cell_type": "markdown",
   "id": "a060331e",
   "metadata": {},
   "source": [
    "## Evaluation Metrics"
   ]
  },
  {
   "cell_type": "code",
   "execution_count": 40,
   "id": "c14f1b35",
   "metadata": {},
   "outputs": [
    {
     "data": {
      "text/plain": [
       "[[2157, 11, 21, 2, 145, 0],\n",
       " [0, 64872, 3172, 10, 322, 37],\n",
       " [0, 6198, 88115, 8, 292, 128],\n",
       " [0, 274, 42, 2838, 136, 0],\n",
       " [7, 98, 74, 16, 70778, 128],\n",
       " [0, 26, 121, 1, 290, 8557]]"
      ]
     },
     "execution_count": 40,
     "metadata": {},
     "output_type": "execute_result"
    }
   ],
   "source": [
    "train_accuracy = trained2020.confusionMatrix()\n",
    "train_accuracy.getInfo()"
   ]
  },
  {
   "cell_type": "code",
   "execution_count": 41,
   "id": "be1ae826",
   "metadata": {},
   "outputs": [],
   "source": [
    "import numpy as np\n",
    "train_cm = np.array(train_accuracy.getInfo())"
   ]
  },
  {
   "cell_type": "code",
   "execution_count": 42,
   "id": "282df142",
   "metadata": {},
   "outputs": [
    {
     "data": {
      "text/plain": [
       "array([[ 2157,    11,    21,     2,   145,     0],\n",
       "       [    0, 64872,  3172,    10,   322,    37],\n",
       "       [    0,  6198, 88115,     8,   292,   128],\n",
       "       [    0,   274,    42,  2838,   136,     0],\n",
       "       [    7,    98,    74,    16, 70778,   128],\n",
       "       [    0,    26,   121,     1,   290,  8557]])"
      ]
     },
     "execution_count": 42,
     "metadata": {},
     "output_type": "execute_result"
    }
   ],
   "source": [
    "train_cm"
   ]
  },
  {
   "cell_type": "code",
   "execution_count": 43,
   "id": "52a0e6d1",
   "metadata": {},
   "outputs": [],
   "source": [
    "def f1(C):\n",
    "    num_classes = np.shape(C)[0]\n",
    "    f1_score = np.zeros(shape=(num_classes,), dtype='float32')\n",
    "#    weights = np.sum(C, axis=0)/np.sum(C)\n",
    "\n",
    "    for j in range(num_classes):\n",
    "        tp = np.sum(C[j, j])\n",
    "        fp = np.sum(C[j, np.concatenate((np.arange(0, j), np.arange(j+1, num_classes)))])\n",
    "        fn = np.sum(C[np.concatenate((np.arange(0, j), np.arange(j+1, num_classes))), j])\n",
    "#         tn = np.sum(C[np.concatenate((np.arange(0, j), np.arange(j+1, num_classes))), np.concatenate((np.arange(0, j), np.arange(j+1, num_classes)))])\n",
    "\n",
    "        precision = tp/(tp+fp) if (tp+fp) > 0 else 0\n",
    "        recall = tp/(tp+fn) if (tp+fn) > 0 else 0\n",
    "        #f1_score[j] = 2*precision*recall/(precision + recall)*weights[j] if (precision + recall) > 0 else 0\n",
    "        f1_score[j] = 2*precision*recall/(precision + recall) if (precision + recall) > 0 else 0\n",
    "        store = f1_score\n",
    "\n",
    "    f1_score = np.mean(f1_score)\n",
    "    return f1_score, store"
   ]
  },
  {
   "cell_type": "code",
   "execution_count": 44,
   "id": "4732b0c0",
   "metadata": {},
   "outputs": [
    {
     "data": {
      "text/plain": [
       "(0.95022005,\n",
       " array([0.9586667 , 0.92745835, 0.9460185 , 0.92068124, 0.9894593 ,\n",
       "        0.9590362 ], dtype=float32))"
      ]
     },
     "execution_count": 44,
     "metadata": {},
     "output_type": "execute_result"
    }
   ],
   "source": [
    "f1(train_cm)"
   ]
  },
  {
   "cell_type": "code",
   "execution_count": 45,
   "id": "c67b5e73",
   "metadata": {},
   "outputs": [
    {
     "data": {
      "text/plain": [
       "0.9535551841077484"
      ]
     },
     "execution_count": 45,
     "metadata": {},
     "output_type": "execute_result"
    }
   ],
   "source": [
    "train_accuracy.accuracy().getInfo()"
   ]
  },
  {
   "cell_type": "code",
   "execution_count": 46,
   "id": "d6ee0c72",
   "metadata": {},
   "outputs": [
    {
     "data": {
      "text/plain": [
       "0.933354924074784"
      ]
     },
     "execution_count": 46,
     "metadata": {},
     "output_type": "execute_result"
    }
   ],
   "source": [
    "train_accuracy.kappa().getInfo()"
   ]
  },
  {
   "cell_type": "code",
   "execution_count": 47,
   "id": "b8e4edf8",
   "metadata": {},
   "outputs": [
    {
     "data": {
      "text/plain": [
       "[[2157, 11, 21, 2, 145, 0],\n",
       " [0, 64872, 3172, 10, 322, 37],\n",
       " [0, 6198, 88115, 8, 292, 128],\n",
       " [0, 274, 42, 2838, 136, 0],\n",
       " [7, 98, 74, 16, 70778, 128],\n",
       " [0, 26, 121, 1, 290, 8557]]"
      ]
     },
     "execution_count": 47,
     "metadata": {},
     "output_type": "execute_result"
    }
   ],
   "source": [
    "test_accuracy = trained2020.confusionMatrix()\n",
    "train_accuracy.getInfo()"
   ]
  },
  {
   "cell_type": "markdown",
   "id": "6c5c7109",
   "metadata": {},
   "source": [
    "### Test Accuracy"
   ]
  },
  {
   "cell_type": "code",
   "execution_count": 48,
   "id": "e35a0855",
   "metadata": {},
   "outputs": [],
   "source": [
    "validated = test2020.classify(trained2020)"
   ]
  },
  {
   "cell_type": "code",
   "execution_count": 49,
   "id": "7b7a82ca",
   "metadata": {},
   "outputs": [],
   "source": [
    "test_accuracy = validated.errorMatrix('landcover', 'classification')"
   ]
  },
  {
   "cell_type": "code",
   "execution_count": 50,
   "id": "018551b0",
   "metadata": {
    "scrolled": true
   },
   "outputs": [
    {
     "data": {
      "text/plain": [
       "[[275, 0, 0, 0, 0, 0],\n",
       " [0, 2592, 174, 2, 32, 1],\n",
       " [0, 307, 1213, 0, 0, 12],\n",
       " [0, 63, 3, 772, 22, 0],\n",
       " [0, 10, 0, 2, 1047, 44],\n",
       " [0, 26, 121, 1, 290, 8565]]"
      ]
     },
     "execution_count": 50,
     "metadata": {},
     "output_type": "execute_result"
    }
   ],
   "source": [
    "test_accuracy.getInfo()"
   ]
  },
  {
   "cell_type": "code",
   "execution_count": 51,
   "id": "f0bddc07",
   "metadata": {},
   "outputs": [],
   "source": [
    "test_cm = np.array(test_accuracy.getInfo())"
   ]
  },
  {
   "cell_type": "code",
   "execution_count": 52,
   "id": "36c9aee6",
   "metadata": {},
   "outputs": [
    {
     "data": {
      "text/plain": [
       "(0.9076509,\n",
       " array([1.        , 0.89394724, 0.79723954, 0.9431888 , 0.83961505,\n",
       "        0.9719149 ], dtype=float32))"
      ]
     },
     "execution_count": 52,
     "metadata": {},
     "output_type": "execute_result"
    }
   ],
   "source": [
    "f1(test_cm)"
   ]
  },
  {
   "cell_type": "code",
   "execution_count": 53,
   "id": "b999b962",
   "metadata": {},
   "outputs": [
    {
     "data": {
      "text/plain": [
       "0.9287273661230255"
      ]
     },
     "execution_count": 53,
     "metadata": {},
     "output_type": "execute_result"
    }
   ],
   "source": [
    "test_accuracy.accuracy().getInfo()"
   ]
  },
  {
   "cell_type": "code",
   "execution_count": 54,
   "id": "426e3fa6",
   "metadata": {},
   "outputs": [
    {
     "data": {
      "text/plain": [
       "0.886220341163507"
      ]
     },
     "execution_count": 54,
     "metadata": {},
     "output_type": "execute_result"
    }
   ],
   "source": [
    "test_accuracy.kappa().getInfo()"
   ]
  },
  {
   "cell_type": "markdown",
   "id": "a8183053",
   "metadata": {},
   "source": [
    "### Experimental Section"
   ]
  },
  {
   "cell_type": "code",
   "execution_count": 55,
   "id": "4da2ef19",
   "metadata": {},
   "outputs": [],
   "source": [
    "la_county_income_zipcode2 = ee.FeatureCollection(\"projects/california-lawn-detection/assets/income_zipcode2019\")\n",
    "la_county_income_zipcode = la_county_income_zipcode2.select(ee.List(['zipcode', '2019zipcod','shape_area']), ee.List(['ZipCode', 'Median_Income','Area_sqft']))\n",
    "\n",
    "z90802 = la_county_income_zipcode.filter(ee.Filter.eq('ZipCode', '90802')) "
   ]
  },
  {
   "cell_type": "markdown",
   "id": "63d5800a",
   "metadata": {},
   "source": [
    "## Binary Classification and Area Calculation"
   ]
  },
  {
   "cell_type": "code",
   "execution_count": 59,
   "id": "f63b3f29",
   "metadata": {},
   "outputs": [],
   "source": [
    "def area_calculation(image, class_number, shape, pixel_scale):\n",
    "    \n",
    "    areaImage = image.eq(class_number).multiply(ee.Image.pixelArea())\n",
    "    \n",
    "    area = areaImage.reduceRegion(\n",
    "        reducer = ee.Reducer.sum(), \n",
    "        geometry = shape.geometry(), \n",
    "        scale = pixel_scale, \n",
    "        maxPixels = 1e13)\n",
    "    \n",
    "    area_sq_m = area.getInfo().get('classification')\n",
    "    \n",
    "    #area_sq_km = area_sq_m / 1e6\n",
    "    \n",
    "    return area_sq_m"
   ]
  },
  {
   "cell_type": "code",
   "execution_count": 45,
   "id": "205e88f9",
   "metadata": {},
   "outputs": [],
   "source": [
    "def ndvi_calculation(image, class_number, shape, pixel_scale):\n",
    "    \n",
    "    areaImage = image.eq(2).select('NDVI')\n",
    "    \n",
    "    area = areaImage.reduceRegion(\n",
    "        reducer = ee.Reducer.count(), \n",
    "        geometry = shape.geometry(), \n",
    "        scale = pixel_scale, \n",
    "        maxPixels = 1e13)\n",
    "    \n",
    "    return area"
   ]
  },
  {
   "cell_type": "code",
   "execution_count": 46,
   "id": "e2001b2f",
   "metadata": {},
   "outputs": [
    {
     "data": {
      "application/vnd.jupyter.widget-view+json": {
       "model_id": "b89794eccf5940759e965a47cbcd5256",
       "version_major": 2,
       "version_minor": 0
      },
      "text/plain": [
       "Map(bottom=754.0, center=[46.529, 6.746], controls=(WidgetControl(options=['position', 'transparent_bg'], widg…"
      ]
     },
     "metadata": {},
     "output_type": "display_data"
    }
   ],
   "source": [
    "Map"
   ]
  },
  {
   "cell_type": "code",
   "execution_count": 47,
   "id": "ade5ede2",
   "metadata": {},
   "outputs": [],
   "source": [
    "def ndvi_calculation_2(image, class_number, shape, pixel_scale):\n",
    "    \n",
    "    areaImage = image.select('NDVI').eq(class_number)\n",
    "    \n",
    "    minMaxValues = areaImage.reduceRegion(reducer = ee.Reducer.minMax(),\n",
    "                                 geometry = shape.geometry())\n",
    "    return minMaxValues"
   ]
  },
  {
   "cell_type": "code",
   "execution_count": null,
   "id": "f48700da",
   "metadata": {},
   "outputs": [],
   "source": [
    "water_area = area_calculation(classified2020, 1, la_county, 20)\n",
    "vegetation_trees_area = area_calculation(classified2020, 2, la_county, 20)\n",
    "vegetation_grass_area = area_calculation(classified2020, 3, la_county, 20)\n",
    "turf_area = area_calculation(classified2020, 4, la_county, 20)\n",
    "impervious_area = area_calculation(classified2020, 6, la_county, 20)\n",
    "soil_area = area_calculation(classified2020, 7, la_county, 20)\n",
    "\n",
    "total_area = water_area + vegetation_trees_area + vegetation_grass_area + turf_area + impervious_area + soil_area\n",
    "\n",
    "water_percentage = water_area / total_area\n",
    "vegetation_trees_percentage = vegetation_trees_area / total_area\n",
    "vegetation_grass_percentage = vegetation_grass_area / total_area\n",
    "turf_percentage = turf_area / total_area\n",
    "impervious_percentage = impervious_area / total_area\n",
    "soil_percentage = soil_area / total_area"
   ]
  },
  {
   "cell_type": "code",
   "execution_count": null,
   "id": "3b78955e",
   "metadata": {},
   "outputs": [],
   "source": [
    "print(water_area)\n",
    "print(vegetation_trees_area)"
   ]
  },
  {
   "cell_type": "code",
   "execution_count": 52,
   "id": "963fdc8b",
   "metadata": {},
   "outputs": [],
   "source": [
    "#works\n",
    "la_county_income_zipcode2 = ee.FeatureCollection(\"projects/california-lawn-detection/assets/income_zipcode2019\")\n",
    "la_county_income_zipcode = la_county_income_zipcode2.select(ee.List(['zipcode', '2019zipcod','shape_area']), ee.List(['ZipCode', 'Median_Income','Area_sqft']))\n",
    "z90802 = la_county_income_zipcode.filter(ee.Filter.eq('ZipCode', '90802')) \n",
    "\n",
    "classified2020_clipped = classified2020.clip(z90802)"
   ]
  },
  {
   "cell_type": "code",
   "execution_count": 122,
   "id": "d4a97641",
   "metadata": {},
   "outputs": [],
   "source": [
    "#works\n",
    "NDVIfortress = ndvi_2020.updateMask(classified2020_clipped.select('classification').eq(1))\n",
    "Map.addLayer(NDVIfortress)"
   ]
  },
  {
   "cell_type": "code",
   "execution_count": 123,
   "id": "b5ed7aa2",
   "metadata": {},
   "outputs": [
    {
     "data": {
      "application/vnd.jupyter.widget-view+json": {
       "model_id": "156be527c4a04b9684b165308326a7c6",
       "version_major": 2,
       "version_minor": 0
      },
      "text/plain": [
       "Map(bottom=419919.0, center=[33.787422527153296, -118.14456939697267], controls=(WidgetControl(options=['posit…"
      ]
     },
     "metadata": {},
     "output_type": "display_data"
    }
   ],
   "source": [
    "Map"
   ]
  },
  {
   "cell_type": "code",
   "execution_count": 124,
   "id": "2279e1b5",
   "metadata": {},
   "outputs": [],
   "source": [
    "#works\n",
    "areaImage = NDVIfortress\n",
    "    \n",
    "area = areaImage.reduceRegion(\n",
    "    reducer = ee.Reducer.mean(), \n",
    "    geometry = z90802.geometry(), \n",
    "    scale = 1, \n",
    "    maxPixels = 1e13)"
   ]
  },
  {
   "cell_type": "code",
   "execution_count": 126,
   "id": "ae49832d",
   "metadata": {},
   "outputs": [
    {
     "name": "stdout",
     "output_type": "stream",
     "text": [
      "{'NAIP_2020_NDVI': 0.33721675193349554}\n"
     ]
    }
   ],
   "source": [
    "#works\n",
    "print(area.getInfo())"
   ]
  },
  {
   "cell_type": "code",
   "execution_count": 112,
   "id": "0fb4f7c6",
   "metadata": {},
   "outputs": [],
   "source": [
    "ndvi_2020_clipped = ndvi_2020.clip(z90802)"
   ]
  },
  {
   "cell_type": "code",
   "execution_count": 113,
   "id": "758e1398",
   "metadata": {},
   "outputs": [
    {
     "data": {
      "application/vnd.jupyter.widget-view+json": {
       "model_id": "156be527c4a04b9684b165308326a7c6",
       "version_major": 2,
       "version_minor": 0
      },
      "text/plain": [
       "Map(bottom=3357823.0, center=[33.767054120314754, -118.19353580474855], controls=(WidgetControl(options=['posi…"
      ]
     },
     "metadata": {},
     "output_type": "display_data"
    }
   ],
   "source": [
    "Map.addLayer(\n",
    "    ndvi_2020_clipped, {min:0, max:1},\n",
    "    'ndvi_2020_clipped')\n",
    "Map"
   ]
  },
  {
   "cell_type": "code",
   "execution_count": 110,
   "id": "650e67ec",
   "metadata": {},
   "outputs": [],
   "source": [
    "ndvi_2020_clipped_2 = ndvi_2020_clipped.clip()"
   ]
  },
  {
   "cell_type": "code",
   "execution_count": 27,
   "id": "31107c50",
   "metadata": {},
   "outputs": [],
   "source": [
    "# Put the EEified model in the appropriate bucket and API name\n",
    "PROJECT = 'w210-351617'\n",
    "OUTPUT_BUCKET = 'test-tf-gee'\n",
    "EEIFIED_DIR = 'gs://' + OUTPUT_BUCKET + '/eeified_pixel_model'\n",
    "\n",
    "MODEL_NAME = 'CNN_Nbands_model'\n",
    "VERSION_NAME = 'v0'\n",
    "REGION = 'us-central1'\n",
    "\n",
    "training_classes_list_text = ['water',\n",
    "                              'vegetation_trees',\n",
    "                              'vegetation_grass',\n",
    "                              'turf',\n",
    "                              'impervious',\n",
    "                              'soil']"
   ]
  },
  {
   "cell_type": "code",
   "execution_count": 28,
   "id": "ca1cbc01",
   "metadata": {},
   "outputs": [],
   "source": [
    "# Point to the model hosted on AI Platform.  If you specified a region other\n",
    "# than the default (us-central1) at model creation, specify it here.\n",
    "final_model = ee.Model.fromAiPlatformPredictor(\n",
    "    projectName=PROJECT,\n",
    "    modelName=MODEL_NAME,\n",
    "    version=VERSION_NAME,\n",
    "    # Can be anything, but don't make it too big.\n",
    "    inputTileSize=[12, 12],\n",
    "    # # Keep this the same as your training data.\n",
    "    # proj=ee.Projection('EPSG:4326').atScale(30),\n",
    "    # fixInputProj=True,\n",
    "    # Note the names here need to match what you specified in the\n",
    "    # output dictionary you passed to the EEifier.\n",
    "    outputBands={'output': {\n",
    "        'type': ee.PixelType.float(),\n",
    "        'dimensions': 1\n",
    "      }\n",
    "    },\n",
    ")"
   ]
  },
  {
   "cell_type": "code",
   "execution_count": 29,
   "id": "3fe929fd",
   "metadata": {},
   "outputs": [],
   "source": [
    "# Get predictions\n",
    "\n",
    "la_image_2020 = NAIP_2020_rgbn_ndvi_lacounty.select(bands)\n",
    "la_image_2018 = NAIP_2018_rgbn_ndvi_lacounty.select(bands)\n",
    "la_image_2016 = NAIP_2016_rgbn_ndvi_lacounty.select(bands)\n",
    "la_image_2014 = NAIP_2014_rgbn_ndvi_lacounty.select(bands)\n",
    "la_image_2012 = NAIP_2012_rgbn_ndvi_lacounty.select(bands)\n",
    "la_image_2010 = NAIP_2010_rgbn_ndvi_lacounty.select(bands)"
   ]
  },
  {
   "cell_type": "code",
   "execution_count": 30,
   "id": "35e9ba7d",
   "metadata": {},
   "outputs": [],
   "source": [
    "# Get predictions\n",
    "predictions_2020 = final_model.predictImage(la_image_2020.float().toArray())\n",
    "probabilities_2020 = predictions_2020.arrayFlatten([training_classes_list_text])\n",
    "label_2020 = predictions_2020.arrayArgmax().arrayGet([0]).rename('label')"
   ]
  },
  {
   "cell_type": "code",
   "execution_count": 31,
   "id": "4db4a52e",
   "metadata": {},
   "outputs": [],
   "source": [
    "predictions_2018 = final_model.predictImage(la_image_2018.float().toArray())\n",
    "probabilities_2018 = predictions_2018.arrayFlatten([training_classes_list_text])\n",
    "label_2018 = predictions_2018.arrayArgmax().arrayGet([0]).rename('label')"
   ]
  },
  {
   "cell_type": "code",
   "execution_count": 32,
   "id": "a11e9127",
   "metadata": {},
   "outputs": [],
   "source": [
    "predictions_2016 = final_model.predictImage(la_image_2016.float().toArray())\n",
    "probabilities_2016 = predictions_2016.arrayFlatten([training_classes_list_text])\n",
    "label_2016 = predictions_2016.arrayArgmax().arrayGet([0]).rename('label')"
   ]
  },
  {
   "cell_type": "code",
   "execution_count": 33,
   "id": "87784839",
   "metadata": {},
   "outputs": [],
   "source": [
    "predictions_2014 = final_model.predictImage(la_image_2014.float().toArray())\n",
    "probabilities_2014 = predictions_2014.arrayFlatten([training_classes_list_text])\n",
    "label_2014 = predictions_2014.arrayArgmax().arrayGet([0]).rename('label')"
   ]
  },
  {
   "cell_type": "code",
   "execution_count": 34,
   "id": "8d1f2890",
   "metadata": {},
   "outputs": [],
   "source": [
    "predictions_2012 = final_model.predictImage(la_image_2012.float().toArray())\n",
    "probabilities_2012 = predictions_2012.arrayFlatten([training_classes_list_text])\n",
    "label_2012 = predictions_2012.arrayArgmax().arrayGet([0]).rename('label')"
   ]
  },
  {
   "cell_type": "code",
   "execution_count": 35,
   "id": "3b940270",
   "metadata": {},
   "outputs": [],
   "source": [
    "predictions_2010 = final_model.predictImage(la_image_2010.float().toArray())\n",
    "probabilities_2010 = predictions_2010.arrayFlatten([training_classes_list_text])\n",
    "label_2010 = predictions_2010.arrayArgmax().arrayGet([0]).rename('label')"
   ]
  },
  {
   "cell_type": "code",
   "execution_count": 36,
   "id": "6c27e572",
   "metadata": {},
   "outputs": [],
   "source": [
    "legend_keys = ['water', 'vegetation_trees', 'vegetation_grass', 'turf','impervious','soil']\n",
    "legend_colors = ['#0B6AEF', '#097407', '#0CE708', '#8C46D2' ,' #A1A8AF','#D47911']\n",
    "\n",
    "# Map.addLayer(predictions, {'min': 0, 'max': 5}, 'Classification')\n",
    "\n",
    "Map.addLayer(label_2020,{'min': 0, 'max': 5, 'palette': legend_colors},\"NN_2020\")\n",
    "Map.addLayer(label_2018,{'min': 0, 'max': 5, 'palette': legend_colors},\"NN_2018\")\n",
    "Map.addLayer(label_2016,{'min': 0, 'max': 5, 'palette': legend_colors},\"NN_2016\")\n",
    "Map.addLayer(label_2014,{'min': 0, 'max': 5, 'palette': legend_colors},\"NN_2014\")\n",
    "Map.addLayer(label_2012,{'min': 0, 'max': 5, 'palette': legend_colors},\"NN_2012\")\n",
    "Map.addLayer(label_2010,{'min': 0, 'max': 5, 'palette': legend_colors},\"NN_2010\")"
   ]
  },
  {
   "cell_type": "code",
   "execution_count": 37,
   "id": "816153f7",
   "metadata": {},
   "outputs": [
    {
     "data": {
      "application/vnd.jupyter.widget-view+json": {
       "model_id": "c49b9410a8c044359748df37fc7d9e3f",
       "version_major": 2,
       "version_minor": 0
      },
      "text/plain": [
       "Map(bottom=754.0, center=[20, 0], controls=(WidgetControl(options=['position', 'transparent_bg'], widget=HBox(…"
      ]
     },
     "metadata": {},
     "output_type": "display_data"
    }
   ],
   "source": [
    "Map"
   ]
  },
  {
   "cell_type": "code",
   "execution_count": null,
   "id": "8597166b",
   "metadata": {},
   "outputs": [],
   "source": []
  }
 ],
 "metadata": {
  "kernelspec": {
   "display_name": "Python 3 (ipykernel)",
   "language": "python",
   "name": "python3"
  },
  "language_info": {
   "codemirror_mode": {
    "name": "ipython",
    "version": 3
   },
   "file_extension": ".py",
   "mimetype": "text/x-python",
   "name": "python",
   "nbconvert_exporter": "python",
   "pygments_lexer": "ipython3",
   "version": "3.8.13"
  }
 },
 "nbformat": 4,
 "nbformat_minor": 5
}
