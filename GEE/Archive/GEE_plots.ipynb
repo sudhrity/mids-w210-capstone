{
 "cells": [
  {
   "cell_type": "markdown",
   "id": "063c9eec",
   "metadata": {},
   "source": [
    "# Google Earth Engine Component"
   ]
  },
  {
   "cell_type": "markdown",
   "id": "2cbacb45",
   "metadata": {},
   "source": [
    "## Initialize"
   ]
  },
  {
   "cell_type": "code",
   "execution_count": 5,
   "id": "7a25c2c8",
   "metadata": {},
   "outputs": [],
   "source": [
    "#Import required libraries\n",
    "import ee\n",
    "import geemap\n",
    "import math\n",
    "\n",
    "import numpy as np\n",
    "import matplotlib.pyplot as plt\n",
    "\n",
    "import itertools\n",
    "# from varname import nameof\n",
    "\n",
    "import pandas as pd\n",
    "from time import time"
   ]
  },
  {
   "cell_type": "code",
   "execution_count": 6,
   "id": "21eeaacb",
   "metadata": {},
   "outputs": [],
   "source": [
    "#Initialize Google Earth Engine\n",
    "# ee.Authenticate() #just needed the 1st time\n",
    "ee.Initialize()"
   ]
  },
  {
   "cell_type": "code",
   "execution_count": 7,
   "id": "efe3fa1e",
   "metadata": {},
   "outputs": [],
   "source": [
    "# Check if geemap is working as intended - plot the leaflet map\n",
    "Map = geemap.Map()"
   ]
  },
  {
   "cell_type": "markdown",
   "id": "dc76e223",
   "metadata": {},
   "source": [
    "## Load Feature Collection - Shapefiles"
   ]
  },
  {
   "cell_type": "code",
   "execution_count": 8,
   "id": "1ba9c961",
   "metadata": {},
   "outputs": [],
   "source": [
    "#Data loads\n",
    "\n",
    "#loads feature collection data from Google Earth Engine - We can also upload other feature collections\n",
    "counties = ee.FeatureCollection(\"TIGER/2018/Counties\")\n",
    "\n",
    "#filter LA County\n",
    "la_county = counties.filter(ee.Filter.eq('NAME', 'Los Angeles'))\n",
    "sc_county = counties.filter(ee.Filter.eq('NAME', 'Santa Clara'))"
   ]
  },
  {
   "cell_type": "code",
   "execution_count": 9,
   "id": "cb0ee90b",
   "metadata": {},
   "outputs": [
    {
     "data": {
      "text/plain": [
       "(<ee.featurecollection.FeatureCollection at 0x7f838a94a790>,\n",
       " <ee.featurecollection.FeatureCollection at 0x7f838a94a310>)"
      ]
     },
     "execution_count": 9,
     "metadata": {},
     "output_type": "execute_result"
    }
   ],
   "source": [
    "la_county, sc_county"
   ]
  },
  {
   "cell_type": "code",
   "execution_count": 10,
   "id": "c212ae44",
   "metadata": {},
   "outputs": [],
   "source": [
    "#Income Data\n",
    "\n",
    "la_county_income = ee.FeatureCollection(\"projects/california-lawn-detection/assets/lacountyincome-final\")\n",
    "\n",
    "# Map.addLayer(la_county_income,{}, 'LA County Income')\n",
    "# Map.addLayer(sf_county,{}, 'SF COUNTY')"
   ]
  },
  {
   "cell_type": "markdown",
   "id": "25e8fd1b",
   "metadata": {},
   "source": [
    "## Load NAIP Imagery"
   ]
  },
  {
   "cell_type": "code",
   "execution_count": 11,
   "id": "de9ee445",
   "metadata": {},
   "outputs": [],
   "source": [
    "def apply_3bands(image, band):\n",
    "    i_8_bit = image.select(band).toUint8()\n",
    "    square = ee.Kernel.square(**{'radius': 4})\n",
    "    entropy = i_8_bit.entropy(square)\n",
    "    glcm = i_8_bit.glcmTexture(**{'size': 4})\n",
    "    contrast = glcm.select(str(band)+'_contrast')\n",
    "    \n",
    "    # Create a list of weights for a 9x9 kernel.\n",
    "    list = [1, 1, 1, 1, 1, 1, 1, 1, 1]\n",
    "    # The center of the kernel is zero.\n",
    "    centerList = [1, 1, 1, 1, 0, 1, 1, 1, 1]\n",
    "    # Assemble a list of lists: the 9x9 kernel weights as a 2-D matrix.\n",
    "    lists = [list, list, list, list, centerList, list, list, list, list]\n",
    "    # Create the kernel from the weights.\n",
    "    # Non-zero weights represent the spatial neighborhood.\n",
    "    kernel = ee.Kernel.fixed(9, 9, lists, -4, -4, False)\n",
    "    neighs = i_8_bit.neighborhoodToBands(kernel)\n",
    "    gearys = i_8_bit.subtract(neighs).pow(2).reduce(ee.Reducer.sum()).divide(math.pow(9, 2))\n",
    "    image = image.addBands(entropy.rename(str(band)+'_Entropy')).addBands(contrast.rename(str(band)+'_Contrast')).addBands(gearys.rename(str(band)+'_Gearys'))   \n",
    "    return image\n",
    "\n",
    "def add_neighborhood_bands(image):\n",
    "    bands = ['R', 'G', 'B', 'N']\n",
    "    for band in bands:\n",
    "        image = apply_3bands(image, band)\n",
    "    return image\n",
    "    \n",
    "def add_NDVI(image):\n",
    "    image = image.addBands(image.normalizedDifference(['N','R']).rename('NDVI'))\n",
    "    return image\n",
    "     "
   ]
  },
  {
   "cell_type": "code",
   "execution_count": 12,
   "id": "d325e8c9",
   "metadata": {},
   "outputs": [],
   "source": [
    "def get_images(param_dict):\n",
    "    source_image_collection = params['source_image_collection']\n",
    "    years = param_dict['years']\n",
    "    counties = param_dict['counties']\n",
    "\n",
    "    image_names = []\n",
    "    images = []\n",
    "\n",
    "    combos = list(itertools.product(years, counties.keys()))\n",
    "    for i in combos:\n",
    "        year = str(i[0])\n",
    "        county = i[1]\n",
    "\n",
    "        image_name = str(i[0])+'_'+i[1]\n",
    "        image_names.append(image_name)\n",
    "\n",
    "        image = ee.ImageCollection(source_image_collection)\\\n",
    "                                .filterDate(f'{year}-01-01', f'{year}-12-31')\\\n",
    "                                .select(['R','G','B','N'])\\\n",
    "                                .median().clip(counties[county])\n",
    "        images.append(image)\n",
    "        images_with_3band = list(map(add_neighborhood_bands, images))\n",
    "        images_with_NDVI = list(map(add_NDVI, images_with_3band))\n",
    "    return dict(zip(image_names, images_with_NDVI))\n",
    "\n",
    "    \n",
    "    "
   ]
  },
  {
   "cell_type": "code",
   "execution_count": 13,
   "id": "e96aec13",
   "metadata": {},
   "outputs": [
    {
     "data": {
      "text/plain": [
       "{'2010_la_county': <ee.image.Image at 0x7f838aa729a0>,\n",
       " '2010_sc_county': <ee.image.Image at 0x7f838aa72b80>,\n",
       " '2012_la_county': <ee.image.Image at 0x7f838aa72d60>,\n",
       " '2012_sc_county': <ee.image.Image at 0x7f838aa72f40>,\n",
       " '2014_la_county': <ee.image.Image at 0x7f838aa75160>,\n",
       " '2014_sc_county': <ee.image.Image at 0x7f838aa75340>,\n",
       " '2016_la_county': <ee.image.Image at 0x7f838aa75520>,\n",
       " '2016_sc_county': <ee.image.Image at 0x7f838aa75700>,\n",
       " '2018_la_county': <ee.image.Image at 0x7f838aa758e0>,\n",
       " '2018_sc_county': <ee.image.Image at 0x7f838aa75ac0>,\n",
       " '2020_la_county': <ee.image.Image at 0x7f838aa75ca0>,\n",
       " '2020_sc_county': <ee.image.Image at 0x7f838aa75e80>}"
      ]
     },
     "execution_count": 13,
     "metadata": {},
     "output_type": "execute_result"
    }
   ],
   "source": [
    "params = {\n",
    "        'source_image_collection' : 'USDA/NAIP/DOQQ',\n",
    "        'years' : [2010,2012,2014,2016,2018,2020],\n",
    "        'counties': {'la_county': la_county, 'sc_county': sc_county}\n",
    "         }\n",
    "\n",
    "images = get_images(params)\n",
    "images"
   ]
  },
  {
   "cell_type": "code",
   "execution_count": 14,
   "id": "9f2c6b53",
   "metadata": {},
   "outputs": [
    {
     "data": {
      "text/plain": [
       "['R',\n",
       " 'G',\n",
       " 'B',\n",
       " 'N',\n",
       " 'R_Entropy',\n",
       " 'R_Contrast',\n",
       " 'R_Gearys',\n",
       " 'G_Entropy',\n",
       " 'G_Contrast',\n",
       " 'G_Gearys',\n",
       " 'B_Entropy',\n",
       " 'B_Contrast',\n",
       " 'B_Gearys',\n",
       " 'N_Entropy',\n",
       " 'N_Contrast',\n",
       " 'N_Gearys',\n",
       " 'NDVI']"
      ]
     },
     "execution_count": 14,
     "metadata": {},
     "output_type": "execute_result"
    }
   ],
   "source": [
    "#see what bands each image has:\n",
    "images['2020_la_county'].bandNames().getInfo()"
   ]
  },
  {
   "cell_type": "code",
   "execution_count": 15,
   "id": "c19799ff",
   "metadata": {},
   "outputs": [],
   "source": [
    "#test to see if NAIP plot looks correct\n",
    "Map.addLayer(images['2020_la_county'], {}, 'NAIP Test')"
   ]
  },
  {
   "cell_type": "code",
   "execution_count": 16,
   "id": "d1062f47",
   "metadata": {},
   "outputs": [
    {
     "data": {
      "text/plain": [
       "<ee.image.Image at 0x7f838aa30430>"
      ]
     },
     "execution_count": 16,
     "metadata": {},
     "output_type": "execute_result"
    }
   ],
   "source": [
    "#test to see if NDVI plot looks correct \n",
    "source_image = images['2020_sc_county']\n",
    "\n",
    "test_ndvi = source_image.normalizedDifference(['N', 'R']).rename('2020_NDVI')\n",
    "test_ndvi"
   ]
  },
  {
   "cell_type": "code",
   "execution_count": 17,
   "id": "0c7e75ec",
   "metadata": {},
   "outputs": [
    {
     "data": {
      "application/vnd.jupyter.widget-view+json": {
       "model_id": "3ac0509f3244480a93c1e1974ad1553c",
       "version_major": 2,
       "version_minor": 0
      },
      "text/plain": [
       "Map(center=[20, 0], controls=(WidgetControl(options=['position', 'transparent_bg'], widget=HBox(children=(Togg…"
      ]
     },
     "metadata": {},
     "output_type": "display_data"
    }
   ],
   "source": [
    "Map.addLayer(test_ndvi,{min : -1, max : 1, 'palette' : ['blue', 'white', 'green']}, 'NDVI Test')\n",
    "Map"
   ]
  },
  {
   "cell_type": "markdown",
   "id": "1321f775",
   "metadata": {},
   "source": [
    "## Load Labeled Data"
   ]
  },
  {
   "cell_type": "code",
   "execution_count": 18,
   "id": "23118fcc",
   "metadata": {},
   "outputs": [],
   "source": [
    "PROJECT_DIR = 'projects/california-lawn-detection/assets/'\n",
    "\n",
    "water = ee.FeatureCollection(f\"{PROJECT_DIR}water_torrance_0610\")\n",
    "vegetation_trees = ee.FeatureCollection(f\"{PROJECT_DIR}trees_torrance\")\n",
    "vegetation_grass = ee.FeatureCollection(f\"{PROJECT_DIR}grass_torrance\").limit(400)\n",
    "turf_1 = ee.FeatureCollection(f\"{PROJECT_DIR}turf_torrance1\")\n",
    "turf_2 = ee.FeatureCollection(f\"{PROJECT_DIR}turf_torrance2\")\n",
    "pv = ee.FeatureCollection(f\"{PROJECT_DIR}pv_torrance\")\n",
    "impervious_1 = ee.FeatureCollection(f\"{PROJECT_DIR}impervious_torrance1\").limit(40)\n",
    "impervious_2 = ee.FeatureCollection(f\"{PROJECT_DIR}impervious_torrance2\").limit(40)\n",
    "soil = ee.FeatureCollection(f\"{PROJECT_DIR}soil_torrance\").limit(40)\n",
    "\n",
    "turf = turf_1.merge(turf_2)\n",
    "impervious= impervious_1.merge(impervious_2)\n",
    "\n",
    "LABELED_SET = water.merge(vegetation_trees)\\\n",
    "                   .merge(vegetation_grass)\\\n",
    "                   .merge(turf)\\\n",
    "                   .merge(impervious)\\\n",
    "                   .merge(soil)\n",
    "    \n",
    "Map.addLayer(LABELED_SET, {}, 'labeled_set')"
   ]
  },
  {
   "cell_type": "code",
   "execution_count": 19,
   "id": "4e9ed3f5",
   "metadata": {
    "scrolled": false
   },
   "outputs": [
    {
     "data": {
      "application/vnd.jupyter.widget-view+json": {
       "model_id": "3ac0509f3244480a93c1e1974ad1553c",
       "version_major": 2,
       "version_minor": 0
      },
      "text/plain": [
       "Map(bottom=754.0, center=[20, 0], controls=(WidgetControl(options=['position', 'transparent_bg'], widget=HBox(…"
      ]
     },
     "metadata": {},
     "output_type": "display_data"
    }
   ],
   "source": [
    "Map"
   ]
  },
  {
   "cell_type": "markdown",
   "id": "751e74d1",
   "metadata": {},
   "source": [
    "## Build Training Set"
   ]
  },
  {
   "cell_type": "code",
   "execution_count": 20,
   "id": "0c642487",
   "metadata": {},
   "outputs": [],
   "source": [
    "training_image_params = {\n",
    "        'source_image_collection' : 'USDA/NAIP/DOQQ',\n",
    "        'years' : [2020],\n",
    "        'counties': {'lacounty': la_county}\n",
    "         }\n",
    "\n",
    "TRAINING_IMAGE = get_images(training_image_params)['2020_lacounty']"
   ]
  },
  {
   "cell_type": "code",
   "execution_count": 21,
   "id": "e3f92b99",
   "metadata": {},
   "outputs": [],
   "source": [
    "# Overlay the points on the imagery to get training.\n",
    "LABEL = 'landcover'\n",
    "BANDS = ['R', 'G', 'B', 'N', 'NDVI',\n",
    "         'R_Entropy',\n",
    "         'R_Contrast',\n",
    "         'R_Gearys',\n",
    "         'G_Entropy',\n",
    "         'G_Contrast',\n",
    "         'G_Gearys',\n",
    "         'B_Entropy',\n",
    "         'B_Contrast',\n",
    "         'B_Gearys',\n",
    "         'N_Entropy',\n",
    "         'N_Contrast', \n",
    "         'N_Gearys']\n",
    "\n",
    "training_set = TRAINING_IMAGE.select(BANDS).sampleRegions(**{\n",
    "  'collection': LABELED_SET,\n",
    "  'properties': [LABEL],\n",
    "  'scale': 1\n",
    "})"
   ]
  },
  {
   "cell_type": "code",
   "execution_count": 22,
   "id": "9d5f22fe",
   "metadata": {},
   "outputs": [
    {
     "data": {
      "text/plain": [
       "True"
      ]
     },
     "execution_count": 22,
     "metadata": {},
     "output_type": "execute_result"
    }
   ],
   "source": [
    "set(BANDS)==set(TRAINING_IMAGE.bandNames().getInfo())"
   ]
  },
  {
   "cell_type": "code",
   "execution_count": 23,
   "id": "091966bd",
   "metadata": {},
   "outputs": [],
   "source": [
    "def training_area(image, training_class):\n",
    "    \n",
    "    area = image.reduceRegion(\n",
    "           reducer = ee.Reducer.count(), \n",
    "           geometry = training_class.geometry(), \n",
    "           scale = 2, \n",
    "           maxPixels = 1e13\n",
    "                )\n",
    "\n",
    "    return(area.getInfo().get('B'))"
   ]
  },
  {
   "cell_type": "code",
   "execution_count": 24,
   "id": "28015bac",
   "metadata": {},
   "outputs": [],
   "source": [
    "def training_polygons(training_class):\n",
    "    return(training_class.aggregate_count('label').getInfo())"
   ]
  },
  {
   "cell_type": "code",
   "execution_count": 25,
   "id": "496fbdb5",
   "metadata": {},
   "outputs": [
    {
     "name": "stdout",
     "output_type": "stream",
     "text": [
      "water pixels: 486 , polygons 199\n",
      "vegetation_trees pixels: 17125 , polygons 772\n",
      "vegetation_grass pixels: 23681 , polygons 400\n",
      "turf pixels: 857 , polygons 215\n",
      "pv pixels: 1723 , polygons 344\n",
      "impervious pixels: 20360 , polygons 80\n",
      "soil pixels: 8761 , polygons 40\n"
     ]
    }
   ],
   "source": [
    "# training information\n",
    "training_classes = [water,\n",
    "                         vegetation_trees,\n",
    "                         vegetation_grass,\n",
    "                         turf,\n",
    "                         pv,\n",
    "                         impervious,\n",
    "                         soil]\n",
    "\n",
    "class_names = ['water',\n",
    "                         'vegetation_trees',\n",
    "                         'vegetation_grass',\n",
    "                         'turf',\n",
    "                         'pv',\n",
    "                         'impervious',\n",
    "                         'soil']\n",
    "\n",
    "try:\n",
    "    for i in range(len(training_classes)):\n",
    "        area_i = training_area(TRAINING_IMAGE, training_classes[i])\n",
    "        polygons_i = training_polygons(training_classes[i])\n",
    "        print(class_names[i],\"pixels:\", area_i ,\", polygons\", polygons_i)\n",
    "except:\n",
    "    print('ERROR. POSSIBLE MISMATCH IN CLASSES LIST AND NAMES LIST SIZES')\n",
    "\n"
   ]
  },
  {
   "cell_type": "markdown",
   "id": "4ef7e485",
   "metadata": {},
   "source": [
    "## Separate Training Data into Train/Test"
   ]
  },
  {
   "cell_type": "code",
   "execution_count": 26,
   "id": "8ec876fd",
   "metadata": {},
   "outputs": [
    {
     "name": "stdout",
     "output_type": "stream",
     "text": [
      "Labeled Set Size in Pixels 284710\n",
      "Training Set Size in Pixels 227871\n",
      "Test Set Size in Pixels 56839\n"
     ]
    }
   ],
   "source": [
    "#Split Training and Test Set Randomly - there might be a better way to do this\n",
    "print(\"Labeled Set Size in Pixels\", training_set.aggregate_count('R').getInfo())\n",
    "sample = training_set.randomColumn()\n",
    "trainingSample = sample.filter('random <= 0.8')\n",
    "validationSample = sample.filter('random > 0.8')\n",
    "print(\"Training Set Size in Pixels\", trainingSample.aggregate_count('R').getInfo())\n",
    "print(\"Test Set Size in Pixels\", validationSample.aggregate_count('R').getInfo())"
   ]
  },
  {
   "cell_type": "markdown",
   "id": "74b7d7e3",
   "metadata": {},
   "source": [
    "## Machine Learning Model"
   ]
  },
  {
   "cell_type": "code",
   "execution_count": 27,
   "id": "cb7e7c8d",
   "metadata": {},
   "outputs": [
    {
     "data": {
      "text/plain": [
       "<ee.Classifier at 0x7f838a9c8a30>"
      ]
     },
     "execution_count": 27,
     "metadata": {},
     "output_type": "execute_result"
    }
   ],
   "source": [
    "clf = ee.Classifier.smileRandomForest(numberOfTrees = 100).train(trainingSample, LABEL, BANDS)\n",
    "clf"
   ]
  },
  {
   "cell_type": "code",
   "execution_count": 28,
   "id": "c102b198",
   "metadata": {},
   "outputs": [],
   "source": [
    "training_image_classified = TRAINING_IMAGE.select(BANDS).classify(clf)"
   ]
  },
  {
   "cell_type": "code",
   "execution_count": 29,
   "id": "e5bc250c",
   "metadata": {},
   "outputs": [],
   "source": [
    "legend_keys = ['water', 'vegetation_trees', 'vegetation_grass', 'turf','impervious','soil']\n",
    "legend_colors = ['#0B6AEF', '#097407', '#0CE708', '#8C46D2' ,' #A1A8AF','#D47911']\n",
    "\n",
    "Map.addLayer(training_image_classified, {'min': 1, 'max': 7, 'palette': legend_colors}, 'Classification')"
   ]
  },
  {
   "cell_type": "code",
   "execution_count": 30,
   "id": "96b563fa",
   "metadata": {
    "scrolled": false
   },
   "outputs": [
    {
     "data": {
      "application/vnd.jupyter.widget-view+json": {
       "model_id": "3ac0509f3244480a93c1e1974ad1553c",
       "version_major": 2,
       "version_minor": 0
      },
      "text/plain": [
       "Map(bottom=754.0, center=[20, 0], controls=(WidgetControl(options=['position', 'transparent_bg'], widget=HBox(…"
      ]
     },
     "metadata": {},
     "output_type": "display_data"
    }
   ],
   "source": [
    "Map"
   ]
  },
  {
   "cell_type": "markdown",
   "id": "aceae54a",
   "metadata": {},
   "source": [
    "## Evaluation Metrics\n",
    "\n",
    "### Train Accuracy"
   ]
  },
  {
   "cell_type": "code",
   "execution_count": 30,
   "id": "3567145f",
   "metadata": {},
   "outputs": [
    {
     "data": {
      "text/plain": [
       "[[0, 0, 0, 0, 0, 0, 0, 0],\n",
       " [0, 1473, 0, 0, 0, 0, 0, 0],\n",
       " [0, 0, 54688, 21, 0, 0, 0, 0],\n",
       " [0, 0, 147, 75601, 0, 0, 0, 2],\n",
       " [0, 0, 0, 0, 2637, 0, 1, 0],\n",
       " [0, 0, 0, 0, 0, 0, 0, 0],\n",
       " [0, 0, 0, 0, 0, 0, 65382, 0],\n",
       " [0, 0, 0, 0, 0, 0, 1, 27918]]"
      ]
     },
     "execution_count": 30,
     "metadata": {},
     "output_type": "execute_result"
    }
   ],
   "source": [
    "train_accuracy = trainingSample.classify(clf).errorMatrix('landcover', 'classification')\n",
    "train_accuracy.getInfo()"
   ]
  },
  {
   "cell_type": "code",
   "execution_count": 32,
   "id": "64da33fc",
   "metadata": {},
   "outputs": [
    {
     "data": {
      "text/plain": [
       "0.9992451869698207"
      ]
     },
     "execution_count": 32,
     "metadata": {},
     "output_type": "execute_result"
    }
   ],
   "source": [
    "train_accuracy.accuracy().getInfo()"
   ]
  },
  {
   "cell_type": "code",
   "execution_count": 31,
   "id": "9462f934",
   "metadata": {},
   "outputs": [
    {
     "data": {
      "text/plain": [
       "227871"
      ]
     },
     "execution_count": 31,
     "metadata": {},
     "output_type": "execute_result"
    }
   ],
   "source": [
    "np.array(train_accuracy.getInfo()).sum()"
   ]
  },
  {
   "cell_type": "markdown",
   "id": "e045f65c",
   "metadata": {},
   "source": [
    "### Test Accuracy"
   ]
  },
  {
   "cell_type": "code",
   "execution_count": 33,
   "id": "f00da1a5",
   "metadata": {},
   "outputs": [],
   "source": [
    "test_accuracy = validationSample.classify(clf).errorMatrix('landcover', 'classification')"
   ]
  },
  {
   "cell_type": "code",
   "execution_count": 35,
   "id": "6cb55646",
   "metadata": {},
   "outputs": [
    {
     "data": {
      "text/plain": [
       "0.9786238322278717"
      ]
     },
     "execution_count": 35,
     "metadata": {},
     "output_type": "execute_result"
    }
   ],
   "source": [
    "test_accuracy.accuracy().getInfo()"
   ]
  },
  {
   "cell_type": "code",
   "execution_count": 34,
   "id": "1eda39fc",
   "metadata": {},
   "outputs": [
    {
     "data": {
      "text/plain": [
       "56839"
      ]
     },
     "execution_count": 34,
     "metadata": {},
     "output_type": "execute_result"
    }
   ],
   "source": [
    "np.array(test_accuracy.getInfo()).sum()"
   ]
  },
  {
   "cell_type": "markdown",
   "id": "f69baf9f",
   "metadata": {},
   "source": [
    "## Binary Classification and Area Calculation"
   ]
  },
  {
   "cell_type": "code",
   "execution_count": 31,
   "id": "c1f1b970",
   "metadata": {},
   "outputs": [],
   "source": [
    "def area_calculation(image, class_number, shape, pixel_scale = 20):\n",
    "    \n",
    "    areaImage = image.eq(class_number).multiply(ee.Image.pixelArea())\n",
    "    \n",
    "    area = areaImage.reduceRegion(\n",
    "        reducer = ee.Reducer.sum(), \n",
    "        geometry = shape.geometry(), \n",
    "        scale = pixel_scale, \n",
    "        maxPixels = 1e13)\n",
    "    \n",
    "    area_sq_m = area.getInfo().get('classification')\n",
    "    \n",
    "    area_sq_km = area_sq_m / 1e6\n",
    "    \n",
    "    return area_sq_km"
   ]
  },
  {
   "cell_type": "code",
   "execution_count": 32,
   "id": "4874af56",
   "metadata": {},
   "outputs": [
    {
     "data": {
      "text/plain": [
       "{'2010_lacounty': <ee.image.Image at 0x7f838aac4d90>,\n",
       " '2012_lacounty': <ee.image.Image at 0x7f838aac4f70>,\n",
       " '2014_lacounty': <ee.image.Image at 0x7f838aac7190>,\n",
       " '2016_lacounty': <ee.image.Image at 0x7f838aac7370>,\n",
       " '2018_lacounty': <ee.image.Image at 0x7f838aac7550>,\n",
       " '2020_lacounty': <ee.image.Image at 0x7f838aac7730>}"
      ]
     },
     "execution_count": 32,
     "metadata": {},
     "output_type": "execute_result"
    }
   ],
   "source": [
    "test_image_params = {\n",
    "        'source_image_collection' : 'USDA/NAIP/DOQQ',\n",
    "        'years' : [2010,2012, 2014, 2016, 2018,2020],\n",
    "        'counties': {'lacounty': la_county}\n",
    "         }\n",
    "\n",
    "inference_images = get_images(test_image_params)\n",
    "inference_images"
   ]
  },
  {
   "cell_type": "code",
   "execution_count": 33,
   "id": "5f599ffd",
   "metadata": {},
   "outputs": [
    {
     "name": "stdout",
     "output_type": "stream",
     "text": [
      "2010_lacounty completed\n",
      "2012_lacounty completed\n",
      "2014_lacounty completed\n",
      "2016_lacounty completed\n",
      "2018_lacounty completed\n",
      "2020_lacounty completed\n"
     ]
    }
   ],
   "source": [
    "grass_areas = {}\n",
    "\n",
    "for i in inference_images:\n",
    "    im = inference_images[i]\n",
    "    im_classified = im.select(BANDS).classify(clf)\n",
    "    grass_areas[i] = area_calculation(im_classified, 3, la_county, 20)\n",
    "    print(i, 'completed')"
   ]
  },
  {
   "cell_type": "code",
   "execution_count": 34,
   "id": "719f18bf",
   "metadata": {},
   "outputs": [
    {
     "data": {
      "text/plain": [
       "{'2010_lacounty': 3069.2586644971657,\n",
       " '2012_lacounty': 1265.0236710808854,\n",
       " '2014_lacounty': 1227.6888985192109,\n",
       " '2016_lacounty': 704.2648467338138,\n",
       " '2018_lacounty': 1129.6989987678303,\n",
       " '2020_lacounty': 826.858711155899}"
      ]
     },
     "execution_count": 34,
     "metadata": {},
     "output_type": "execute_result"
    }
   ],
   "source": [
    "grass_areas"
   ]
  },
  {
   "cell_type": "code",
   "execution_count": null,
   "id": "7fbbd9ee",
   "metadata": {},
   "outputs": [],
   "source": []
  },
  {
   "cell_type": "code",
   "execution_count": 35,
   "id": "02815f3d",
   "metadata": {},
   "outputs": [
    {
     "data": {
      "text/plain": [
       "[<matplotlib.lines.Line2D at 0x7f838aaf63d0>]"
      ]
     },
     "execution_count": 35,
     "metadata": {},
     "output_type": "execute_result"
    },
    {
     "data": {
      "image/png": "[encoded data removed]",
      "text/plain": [
       "<Figure size 432x288 with 1 Axes>"
      ]
     },
     "metadata": {
      "needs_background": "light"
     },
     "output_type": "display_data"
    }
   ],
   "source": [
    "values = np.array(list(grass_areas.values()))\n",
    "plt.plot(test_image_params['years'], values)"
   ]
  },
  {
   "cell_type": "code",
   "execution_count": 36,
   "id": "a9099633",
   "metadata": {},
   "outputs": [],
   "source": [
    "la_county_income_zipcode2 = ee.FeatureCollection(\"projects/california-lawn-detection/assets/income_zipcode2019\")\n",
    "la_county_income_zipcode = la_county_income_zipcode2.select(ee.List(['zipcode', '2019zipcod','shape_area']), ee.List(['ZipCode', 'Median_Income','Area_sqft']))\n",
    "\n",
    "\n"
   ]
  },
  {
   "cell_type": "code",
   "execution_count": 37,
   "id": "7d4cfaf2",
   "metadata": {},
   "outputs": [],
   "source": [
    "Zipcode_list = ['90802','90732','90744']"
   ]
  },
  {
   "cell_type": "code",
   "execution_count": 38,
   "id": "0f54cd4a",
   "metadata": {},
   "outputs": [
    {
     "data": {
      "text/plain": [
       "[('2010_lacounty', <ee.image.Image at 0x7f838aac4d90>),\n",
       " ('2012_lacounty', <ee.image.Image at 0x7f838aac4f70>),\n",
       " ('2014_lacounty', <ee.image.Image at 0x7f838aac7190>),\n",
       " ('2016_lacounty', <ee.image.Image at 0x7f838aac7370>),\n",
       " ('2018_lacounty', <ee.image.Image at 0x7f838aac7550>),\n",
       " ('2020_lacounty', <ee.image.Image at 0x7f838aac7730>)]"
      ]
     },
     "execution_count": 38,
     "metadata": {},
     "output_type": "execute_result"
    }
   ],
   "source": [
    "list(inference_images.items())"
   ]
  },
  {
   "cell_type": "code",
   "execution_count": 39,
   "id": "e84dd3ac",
   "metadata": {},
   "outputs": [
    {
     "data": {
      "text/plain": [
       "<ee.image.Image at 0x7f838aac7730>"
      ]
     },
     "execution_count": 39,
     "metadata": {},
     "output_type": "execute_result"
    }
   ],
   "source": [
    "inference_images['2020_lacounty']"
   ]
  },
  {
   "cell_type": "code",
   "execution_count": 40,
   "id": "b2ffd9d3",
   "metadata": {},
   "outputs": [
    {
     "data": {
      "text/plain": [
       "<ee.image.Image at 0x7f838a9c8640>"
      ]
     },
     "execution_count": 40,
     "metadata": {},
     "output_type": "execute_result"
    }
   ],
   "source": [
    "training_image_classified"
   ]
  },
  {
   "cell_type": "code",
   "execution_count": 41,
   "id": "8bc15d2d",
   "metadata": {},
   "outputs": [],
   "source": [
    "Map.addLayer(training_image_classified, {}, 'CLASSIFIED')"
   ]
  },
  {
   "cell_type": "code",
   "execution_count": 42,
   "id": "bd17d2f7",
   "metadata": {},
   "outputs": [
    {
     "data": {
      "application/vnd.jupyter.widget-view+json": {
       "model_id": "3ac0509f3244480a93c1e1974ad1553c",
       "version_major": 2,
       "version_minor": 0
      },
      "text/plain": [
       "Map(bottom=52663.0, center=[33.99119576995599, -118.26370239257814], controls=(WidgetControl(options=['positio…"
      ]
     },
     "metadata": {},
     "output_type": "display_data"
    }
   ],
   "source": [
    "Map"
   ]
  },
  {
   "cell_type": "code",
   "execution_count": null,
   "id": "8fcec674",
   "metadata": {},
   "outputs": [],
   "source": []
  },
  {
   "cell_type": "code",
   "execution_count": 47,
   "id": "c33a438c",
   "metadata": {},
   "outputs": [
    {
     "name": "stdout",
     "output_type": "stream",
     "text": [
      "90802 2010_lacounty completed in 10.392549991607666 seconds.\n",
      "90802 2012_lacounty completed in 9.420344114303589 seconds.\n",
      "90802 2014_lacounty completed in 10.240801095962524 seconds.\n",
      "90802 2016_lacounty completed in 10.46852993965149 seconds.\n",
      "90802 2018_lacounty completed in 9.596930980682373 seconds.\n",
      "90802 2020_lacounty completed in 9.275913000106812 seconds.\n",
      "90732 2010_lacounty completed in 9.979469060897827 seconds.\n",
      "90732 2012_lacounty completed in 18.42833113670349 seconds.\n",
      "90732 2014_lacounty completed in 44.85039186477661 seconds.\n",
      "90732 2016_lacounty completed in 41.36585092544556 seconds.\n",
      "90732 2018_lacounty completed in 45.63600993156433 seconds.\n",
      "90732 2020_lacounty completed in 11.480066776275635 seconds.\n",
      "90744 2010_lacounty completed in 69.05795192718506 seconds.\n",
      "90744 2012_lacounty completed in 57.64422607421875 seconds.\n",
      "90744 2014_lacounty completed in 61.179147720336914 seconds.\n",
      "90744 2016_lacounty completed in 69.77831792831421 seconds.\n",
      "90744 2018_lacounty completed in 65.53440499305725 seconds.\n",
      "90744 2020_lacounty completed in 9.160844087600708 seconds.\n"
     ]
    }
   ],
   "source": [
    "keys = {'ImageYear','polygon','water_area','vegetation_trees_area', 'vegetation_grass_area', 'turf_area', 'impervious_area','soil_area', 'total_area'}\n",
    "dictionary = {}\n",
    "for i in keys:\n",
    "    dictionary[i] = []\n",
    "\n",
    "im = inference_images['2020_lacounty']\n",
    "imagery = im.select(BANDS).classify(clf)\n",
    "\n",
    "\n",
    "for i in Zipcode_list:\n",
    "    for j in list(inference_images.items()):\n",
    "        im = j[1]\n",
    "        imagery = im.select(BANDS).classify(clf)\n",
    "        name = j[0]\n",
    "        \n",
    "        start = time()\n",
    "        polygon = la_county_income_zipcode.filter(ee.Filter.eq('ZipCode', i))\n",
    "\n",
    "        dictionary['ImageYear'].append(j[0]) \n",
    "        dictionary['polygon'].append(i)\n",
    "\n",
    "        water_area = area_calculation(imagery, 1, polygon, 20)\n",
    "        dictionary['water_area'].append(water_area)\n",
    "\n",
    "        vegetation_trees_area = area_calculation(imagery, 2, polygon, 20)\n",
    "        dictionary['vegetation_trees_area'].append(vegetation_trees_area)\n",
    "\n",
    "        vegetation_grass_area = area_calculation(imagery, 3, polygon, 20)\n",
    "        dictionary['vegetation_grass_area'].append(vegetation_grass_area)\n",
    "\n",
    "        turf_area = area_calculation(imagery, 4, polygon, 20)\n",
    "        dictionary['turf_area'].append(turf_area)\n",
    "\n",
    "        impervious_area = area_calculation(imagery, 6, polygon, 20)\n",
    "        dictionary['impervious_area'].append(impervious_area)\n",
    "\n",
    "        soil_area = area_calculation(imagery, 7, polygon, 20)\n",
    "        dictionary['soil_area'].append(soil_area)\n",
    "\n",
    "        total_area = water_area + vegetation_trees_area + vegetation_grass_area + turf_area + impervious_area + soil_area\n",
    "        dictionary['total_area'].append(total_area)\n",
    "        end = time()\n",
    "        print(i, j[0] , f'completed in {end-start} seconds.')"
   ]
  },
  {
   "cell_type": "code",
   "execution_count": 116,
   "id": "18266220",
   "metadata": {},
   "outputs": [
    {
     "data": {
      "text/html": [
       "<div>\n",
       "<style scoped>\n",
       "    .dataframe tbody tr th:only-of-type {\n",
       "        vertical-align: middle;\n",
       "    }\n",
       "\n",
       "    .dataframe tbody tr th {\n",
       "        vertical-align: top;\n",
       "    }\n",
       "\n",
       "    .dataframe thead th {\n",
       "        text-align: right;\n",
       "    }\n",
       "</style>\n",
       "<table border=\"1\" class=\"dataframe\">\n",
       "  <thead>\n",
       "    <tr style=\"text-align: right;\">\n",
       "      <th></th>\n",
       "      <th>ImageYear</th>\n",
       "      <th>polygon</th>\n",
       "      <th>soil_area</th>\n",
       "      <th>vegetation_grass_area</th>\n",
       "      <th>water_area</th>\n",
       "      <th>vegetation_trees_area</th>\n",
       "      <th>impervious_area</th>\n",
       "      <th>turf_area</th>\n",
       "    </tr>\n",
       "  </thead>\n",
       "  <tbody>\n",
       "    <tr>\n",
       "      <th>0</th>\n",
       "      <td>2010_lacounty</td>\n",
       "      <td>90802</td>\n",
       "      <td>3.407064</td>\n",
       "      <td>5.416788</td>\n",
       "      <td>0.007960</td>\n",
       "      <td>0.670206</td>\n",
       "      <td>5.241610</td>\n",
       "      <td>0.012990</td>\n",
       "    </tr>\n",
       "    <tr>\n",
       "      <th>1</th>\n",
       "      <td>2012_lacounty</td>\n",
       "      <td>90802</td>\n",
       "      <td>0.000000</td>\n",
       "      <td>0.229415</td>\n",
       "      <td>4.845066</td>\n",
       "      <td>0.000995</td>\n",
       "      <td>9.679151</td>\n",
       "      <td>0.001990</td>\n",
       "    </tr>\n",
       "    <tr>\n",
       "      <th>2</th>\n",
       "      <td>2014_lacounty</td>\n",
       "      <td>90802</td>\n",
       "      <td>0.003980</td>\n",
       "      <td>0.476647</td>\n",
       "      <td>0.249989</td>\n",
       "      <td>0.076949</td>\n",
       "      <td>13.791756</td>\n",
       "      <td>0.157296</td>\n",
       "    </tr>\n",
       "    <tr>\n",
       "      <th>3</th>\n",
       "      <td>2016_lacounty</td>\n",
       "      <td>90802</td>\n",
       "      <td>0.257569</td>\n",
       "      <td>0.394952</td>\n",
       "      <td>0.000000</td>\n",
       "      <td>0.315657</td>\n",
       "      <td>13.563885</td>\n",
       "      <td>0.224554</td>\n",
       "    </tr>\n",
       "    <tr>\n",
       "      <th>4</th>\n",
       "      <td>2018_lacounty</td>\n",
       "      <td>90802</td>\n",
       "      <td>0.001327</td>\n",
       "      <td>0.305056</td>\n",
       "      <td>0.326028</td>\n",
       "      <td>0.101922</td>\n",
       "      <td>13.840988</td>\n",
       "      <td>0.181296</td>\n",
       "    </tr>\n",
       "    <tr>\n",
       "      <th>5</th>\n",
       "      <td>2020_lacounty</td>\n",
       "      <td>90802</td>\n",
       "      <td>0.760027</td>\n",
       "      <td>0.496773</td>\n",
       "      <td>0.000000</td>\n",
       "      <td>0.647374</td>\n",
       "      <td>12.688006</td>\n",
       "      <td>0.164438</td>\n",
       "    </tr>\n",
       "    <tr>\n",
       "      <th>6</th>\n",
       "      <td>2010_lacounty</td>\n",
       "      <td>90732</td>\n",
       "      <td>1.259774</td>\n",
       "      <td>2.307484</td>\n",
       "      <td>0.000000</td>\n",
       "      <td>0.375581</td>\n",
       "      <td>4.284398</td>\n",
       "      <td>0.004312</td>\n",
       "    </tr>\n",
       "    <tr>\n",
       "      <th>7</th>\n",
       "      <td>2012_lacounty</td>\n",
       "      <td>90732</td>\n",
       "      <td>0.061377</td>\n",
       "      <td>1.454733</td>\n",
       "      <td>1.001374</td>\n",
       "      <td>0.102173</td>\n",
       "      <td>5.577262</td>\n",
       "      <td>0.034631</td>\n",
       "    </tr>\n",
       "    <tr>\n",
       "      <th>8</th>\n",
       "      <td>2014_lacounty</td>\n",
       "      <td>90732</td>\n",
       "      <td>0.531687</td>\n",
       "      <td>2.614109</td>\n",
       "      <td>0.035535</td>\n",
       "      <td>0.423377</td>\n",
       "      <td>4.592798</td>\n",
       "      <td>0.034044</td>\n",
       "    </tr>\n",
       "    <tr>\n",
       "      <th>9</th>\n",
       "      <td>2016_lacounty</td>\n",
       "      <td>90732</td>\n",
       "      <td>0.679698</td>\n",
       "      <td>0.730300</td>\n",
       "      <td>0.007975</td>\n",
       "      <td>0.913194</td>\n",
       "      <td>5.818238</td>\n",
       "      <td>0.082145</td>\n",
       "    </tr>\n",
       "    <tr>\n",
       "      <th>10</th>\n",
       "      <td>2018_lacounty</td>\n",
       "      <td>90732</td>\n",
       "      <td>0.317903</td>\n",
       "      <td>1.811182</td>\n",
       "      <td>0.016022</td>\n",
       "      <td>0.564794</td>\n",
       "      <td>5.448561</td>\n",
       "      <td>0.073087</td>\n",
       "    </tr>\n",
       "    <tr>\n",
       "      <th>11</th>\n",
       "      <td>2020_lacounty</td>\n",
       "      <td>90732</td>\n",
       "      <td>1.869716</td>\n",
       "      <td>0.620204</td>\n",
       "      <td>0.000000</td>\n",
       "      <td>2.635687</td>\n",
       "      <td>2.946216</td>\n",
       "      <td>0.159726</td>\n",
       "    </tr>\n",
       "    <tr>\n",
       "      <th>12</th>\n",
       "      <td>2010_lacounty</td>\n",
       "      <td>90744</td>\n",
       "      <td>10.690138</td>\n",
       "      <td>7.213909</td>\n",
       "      <td>0.000000</td>\n",
       "      <td>2.012031</td>\n",
       "      <td>2.635111</td>\n",
       "      <td>0.048090</td>\n",
       "    </tr>\n",
       "    <tr>\n",
       "      <th>13</th>\n",
       "      <td>2012_lacounty</td>\n",
       "      <td>90744</td>\n",
       "      <td>0.000995</td>\n",
       "      <td>0.743366</td>\n",
       "      <td>6.087146</td>\n",
       "      <td>0.212563</td>\n",
       "      <td>15.539857</td>\n",
       "      <td>0.015352</td>\n",
       "    </tr>\n",
       "    <tr>\n",
       "      <th>14</th>\n",
       "      <td>2014_lacounty</td>\n",
       "      <td>90744</td>\n",
       "      <td>0.117823</td>\n",
       "      <td>1.937951</td>\n",
       "      <td>0.051493</td>\n",
       "      <td>0.402810</td>\n",
       "      <td>19.740220</td>\n",
       "      <td>0.348981</td>\n",
       "    </tr>\n",
       "    <tr>\n",
       "      <th>15</th>\n",
       "      <td>2016_lacounty</td>\n",
       "      <td>90744</td>\n",
       "      <td>1.501826</td>\n",
       "      <td>0.443510</td>\n",
       "      <td>0.000332</td>\n",
       "      <td>0.688415</td>\n",
       "      <td>19.668191</td>\n",
       "      <td>0.297006</td>\n",
       "    </tr>\n",
       "    <tr>\n",
       "      <th>16</th>\n",
       "      <td>2018_lacounty</td>\n",
       "      <td>90744</td>\n",
       "      <td>0.057365</td>\n",
       "      <td>0.950822</td>\n",
       "      <td>0.288954</td>\n",
       "      <td>0.340828</td>\n",
       "      <td>20.657176</td>\n",
       "      <td>0.304134</td>\n",
       "    </tr>\n",
       "    <tr>\n",
       "      <th>17</th>\n",
       "      <td>2020_lacounty</td>\n",
       "      <td>90744</td>\n",
       "      <td>3.527528</td>\n",
       "      <td>1.014940</td>\n",
       "      <td>0.000000</td>\n",
       "      <td>2.017314</td>\n",
       "      <td>15.849339</td>\n",
       "      <td>0.190158</td>\n",
       "    </tr>\n",
       "  </tbody>\n",
       "</table>\n",
       "</div>"
      ],
      "text/plain": [
       "        ImageYear polygon  soil_area  vegetation_grass_area  water_area  \\\n",
       "0   2010_lacounty   90802   3.407064               5.416788    0.007960   \n",
       "1   2012_lacounty   90802   0.000000               0.229415    4.845066   \n",
       "2   2014_lacounty   90802   0.003980               0.476647    0.249989   \n",
       "3   2016_lacounty   90802   0.257569               0.394952    0.000000   \n",
       "4   2018_lacounty   90802   0.001327               0.305056    0.326028   \n",
       "5   2020_lacounty   90802   0.760027               0.496773    0.000000   \n",
       "6   2010_lacounty   90732   1.259774               2.307484    0.000000   \n",
       "7   2012_lacounty   90732   0.061377               1.454733    1.001374   \n",
       "8   2014_lacounty   90732   0.531687               2.614109    0.035535   \n",
       "9   2016_lacounty   90732   0.679698               0.730300    0.007975   \n",
       "10  2018_lacounty   90732   0.317903               1.811182    0.016022   \n",
       "11  2020_lacounty   90732   1.869716               0.620204    0.000000   \n",
       "12  2010_lacounty   90744  10.690138               7.213909    0.000000   \n",
       "13  2012_lacounty   90744   0.000995               0.743366    6.087146   \n",
       "14  2014_lacounty   90744   0.117823               1.937951    0.051493   \n",
       "15  2016_lacounty   90744   1.501826               0.443510    0.000332   \n",
       "16  2018_lacounty   90744   0.057365               0.950822    0.288954   \n",
       "17  2020_lacounty   90744   3.527528               1.014940    0.000000   \n",
       "\n",
       "    vegetation_trees_area  impervious_area  turf_area  \n",
       "0                0.670206         5.241610   0.012990  \n",
       "1                0.000995         9.679151   0.001990  \n",
       "2                0.076949        13.791756   0.157296  \n",
       "3                0.315657        13.563885   0.224554  \n",
       "4                0.101922        13.840988   0.181296  \n",
       "5                0.647374        12.688006   0.164438  \n",
       "6                0.375581         4.284398   0.004312  \n",
       "7                0.102173         5.577262   0.034631  \n",
       "8                0.423377         4.592798   0.034044  \n",
       "9                0.913194         5.818238   0.082145  \n",
       "10               0.564794         5.448561   0.073087  \n",
       "11               2.635687         2.946216   0.159726  \n",
       "12               2.012031         2.635111   0.048090  \n",
       "13               0.212563        15.539857   0.015352  \n",
       "14               0.402810        19.740220   0.348981  \n",
       "15               0.688415        19.668191   0.297006  \n",
       "16               0.340828        20.657176   0.304134  \n",
       "17               2.017314        15.849339   0.190158  "
      ]
     },
     "execution_count": 116,
     "metadata": {},
     "output_type": "execute_result"
    }
   ],
   "source": [
    "pd.DataFrame(dictionary)[['ImageYear','polygon','soil_area','vegetation_grass_area','water_area','vegetation_trees_area','impervious_area','turf_area']]"
   ]
  },
  {
   "cell_type": "code",
   "execution_count": 78,
   "id": "c389e5d3",
   "metadata": {},
   "outputs": [
    {
     "data": {
      "text/html": [
       "<div>\n",
       "<style scoped>\n",
       "    .dataframe tbody tr th:only-of-type {\n",
       "        vertical-align: middle;\n",
       "    }\n",
       "\n",
       "    .dataframe tbody tr th {\n",
       "        vertical-align: top;\n",
       "    }\n",
       "\n",
       "    .dataframe thead th {\n",
       "        text-align: right;\n",
       "    }\n",
       "</style>\n",
       "<table border=\"1\" class=\"dataframe\">\n",
       "  <thead>\n",
       "    <tr style=\"text-align: right;\">\n",
       "      <th></th>\n",
       "      <th>polygon</th>\n",
       "      <th>soil_area</th>\n",
       "      <th>vegetation_grass_area</th>\n",
       "      <th>water_area</th>\n",
       "      <th>vegetation_trees_area</th>\n",
       "      <th>impervious_area</th>\n",
       "      <th>turf_area</th>\n",
       "    </tr>\n",
       "  </thead>\n",
       "  <tbody>\n",
       "    <tr>\n",
       "      <th>0</th>\n",
       "      <td>90802</td>\n",
       "      <td>3.407064</td>\n",
       "      <td>5.416788</td>\n",
       "      <td>0.007960</td>\n",
       "      <td>0.670206</td>\n",
       "      <td>5.241610</td>\n",
       "      <td>0.012990</td>\n",
       "    </tr>\n",
       "    <tr>\n",
       "      <th>1</th>\n",
       "      <td>90802</td>\n",
       "      <td>0.000000</td>\n",
       "      <td>0.229415</td>\n",
       "      <td>4.845066</td>\n",
       "      <td>0.000995</td>\n",
       "      <td>9.679151</td>\n",
       "      <td>0.001990</td>\n",
       "    </tr>\n",
       "    <tr>\n",
       "      <th>2</th>\n",
       "      <td>90802</td>\n",
       "      <td>0.003980</td>\n",
       "      <td>0.476647</td>\n",
       "      <td>0.249989</td>\n",
       "      <td>0.076949</td>\n",
       "      <td>13.791756</td>\n",
       "      <td>0.157296</td>\n",
       "    </tr>\n",
       "    <tr>\n",
       "      <th>3</th>\n",
       "      <td>90802</td>\n",
       "      <td>0.257569</td>\n",
       "      <td>0.394952</td>\n",
       "      <td>0.000000</td>\n",
       "      <td>0.315657</td>\n",
       "      <td>13.563885</td>\n",
       "      <td>0.224554</td>\n",
       "    </tr>\n",
       "    <tr>\n",
       "      <th>4</th>\n",
       "      <td>90802</td>\n",
       "      <td>0.001327</td>\n",
       "      <td>0.305056</td>\n",
       "      <td>0.326028</td>\n",
       "      <td>0.101922</td>\n",
       "      <td>13.840988</td>\n",
       "      <td>0.181296</td>\n",
       "    </tr>\n",
       "    <tr>\n",
       "      <th>5</th>\n",
       "      <td>90802</td>\n",
       "      <td>0.760027</td>\n",
       "      <td>0.496773</td>\n",
       "      <td>0.000000</td>\n",
       "      <td>0.647374</td>\n",
       "      <td>12.688006</td>\n",
       "      <td>0.164438</td>\n",
       "    </tr>\n",
       "    <tr>\n",
       "      <th>6</th>\n",
       "      <td>90732</td>\n",
       "      <td>1.259774</td>\n",
       "      <td>2.307484</td>\n",
       "      <td>0.000000</td>\n",
       "      <td>0.375581</td>\n",
       "      <td>4.284398</td>\n",
       "      <td>0.004312</td>\n",
       "    </tr>\n",
       "    <tr>\n",
       "      <th>7</th>\n",
       "      <td>90732</td>\n",
       "      <td>0.061377</td>\n",
       "      <td>1.454733</td>\n",
       "      <td>1.001374</td>\n",
       "      <td>0.102173</td>\n",
       "      <td>5.577262</td>\n",
       "      <td>0.034631</td>\n",
       "    </tr>\n",
       "    <tr>\n",
       "      <th>8</th>\n",
       "      <td>90732</td>\n",
       "      <td>0.531687</td>\n",
       "      <td>2.614109</td>\n",
       "      <td>0.035535</td>\n",
       "      <td>0.423377</td>\n",
       "      <td>4.592798</td>\n",
       "      <td>0.034044</td>\n",
       "    </tr>\n",
       "    <tr>\n",
       "      <th>9</th>\n",
       "      <td>90732</td>\n",
       "      <td>0.679698</td>\n",
       "      <td>0.730300</td>\n",
       "      <td>0.007975</td>\n",
       "      <td>0.913194</td>\n",
       "      <td>5.818238</td>\n",
       "      <td>0.082145</td>\n",
       "    </tr>\n",
       "    <tr>\n",
       "      <th>10</th>\n",
       "      <td>90732</td>\n",
       "      <td>0.317903</td>\n",
       "      <td>1.811182</td>\n",
       "      <td>0.016022</td>\n",
       "      <td>0.564794</td>\n",
       "      <td>5.448561</td>\n",
       "      <td>0.073087</td>\n",
       "    </tr>\n",
       "    <tr>\n",
       "      <th>11</th>\n",
       "      <td>90732</td>\n",
       "      <td>1.869716</td>\n",
       "      <td>0.620204</td>\n",
       "      <td>0.000000</td>\n",
       "      <td>2.635687</td>\n",
       "      <td>2.946216</td>\n",
       "      <td>0.159726</td>\n",
       "    </tr>\n",
       "    <tr>\n",
       "      <th>12</th>\n",
       "      <td>90744</td>\n",
       "      <td>10.690138</td>\n",
       "      <td>7.213909</td>\n",
       "      <td>0.000000</td>\n",
       "      <td>2.012031</td>\n",
       "      <td>2.635111</td>\n",
       "      <td>0.048090</td>\n",
       "    </tr>\n",
       "    <tr>\n",
       "      <th>13</th>\n",
       "      <td>90744</td>\n",
       "      <td>0.000995</td>\n",
       "      <td>0.743366</td>\n",
       "      <td>6.087146</td>\n",
       "      <td>0.212563</td>\n",
       "      <td>15.539857</td>\n",
       "      <td>0.015352</td>\n",
       "    </tr>\n",
       "    <tr>\n",
       "      <th>14</th>\n",
       "      <td>90744</td>\n",
       "      <td>0.117823</td>\n",
       "      <td>1.937951</td>\n",
       "      <td>0.051493</td>\n",
       "      <td>0.402810</td>\n",
       "      <td>19.740220</td>\n",
       "      <td>0.348981</td>\n",
       "    </tr>\n",
       "    <tr>\n",
       "      <th>15</th>\n",
       "      <td>90744</td>\n",
       "      <td>1.501826</td>\n",
       "      <td>0.443510</td>\n",
       "      <td>0.000332</td>\n",
       "      <td>0.688415</td>\n",
       "      <td>19.668191</td>\n",
       "      <td>0.297006</td>\n",
       "    </tr>\n",
       "    <tr>\n",
       "      <th>16</th>\n",
       "      <td>90744</td>\n",
       "      <td>0.057365</td>\n",
       "      <td>0.950822</td>\n",
       "      <td>0.288954</td>\n",
       "      <td>0.340828</td>\n",
       "      <td>20.657176</td>\n",
       "      <td>0.304134</td>\n",
       "    </tr>\n",
       "    <tr>\n",
       "      <th>17</th>\n",
       "      <td>90744</td>\n",
       "      <td>3.527528</td>\n",
       "      <td>1.014940</td>\n",
       "      <td>0.000000</td>\n",
       "      <td>2.017314</td>\n",
       "      <td>15.849339</td>\n",
       "      <td>0.190158</td>\n",
       "    </tr>\n",
       "  </tbody>\n",
       "</table>\n",
       "</div>"
      ],
      "text/plain": [
       "   polygon  soil_area  vegetation_grass_area  water_area  \\\n",
       "0    90802   3.407064               5.416788    0.007960   \n",
       "1    90802   0.000000               0.229415    4.845066   \n",
       "2    90802   0.003980               0.476647    0.249989   \n",
       "3    90802   0.257569               0.394952    0.000000   \n",
       "4    90802   0.001327               0.305056    0.326028   \n",
       "5    90802   0.760027               0.496773    0.000000   \n",
       "6    90732   1.259774               2.307484    0.000000   \n",
       "7    90732   0.061377               1.454733    1.001374   \n",
       "8    90732   0.531687               2.614109    0.035535   \n",
       "9    90732   0.679698               0.730300    0.007975   \n",
       "10   90732   0.317903               1.811182    0.016022   \n",
       "11   90732   1.869716               0.620204    0.000000   \n",
       "12   90744  10.690138               7.213909    0.000000   \n",
       "13   90744   0.000995               0.743366    6.087146   \n",
       "14   90744   0.117823               1.937951    0.051493   \n",
       "15   90744   1.501826               0.443510    0.000332   \n",
       "16   90744   0.057365               0.950822    0.288954   \n",
       "17   90744   3.527528               1.014940    0.000000   \n",
       "\n",
       "    vegetation_trees_area  impervious_area  turf_area  \n",
       "0                0.670206         5.241610   0.012990  \n",
       "1                0.000995         9.679151   0.001990  \n",
       "2                0.076949        13.791756   0.157296  \n",
       "3                0.315657        13.563885   0.224554  \n",
       "4                0.101922        13.840988   0.181296  \n",
       "5                0.647374        12.688006   0.164438  \n",
       "6                0.375581         4.284398   0.004312  \n",
       "7                0.102173         5.577262   0.034631  \n",
       "8                0.423377         4.592798   0.034044  \n",
       "9                0.913194         5.818238   0.082145  \n",
       "10               0.564794         5.448561   0.073087  \n",
       "11               2.635687         2.946216   0.159726  \n",
       "12               2.012031         2.635111   0.048090  \n",
       "13               0.212563        15.539857   0.015352  \n",
       "14               0.402810        19.740220   0.348981  \n",
       "15               0.688415        19.668191   0.297006  \n",
       "16               0.340828        20.657176   0.304134  \n",
       "17               2.017314        15.849339   0.190158  "
      ]
     },
     "execution_count": 78,
     "metadata": {},
     "output_type": "execute_result"
    }
   ],
   "source": [
    "df = pd.DataFrame(dictionary)[['polygon','soil_area','vegetation_grass_area','water_area','vegetation_trees_area','impervious_area','turf_area']]\n",
    "df"
   ]
  },
  {
   "cell_type": "code",
   "execution_count": 80,
   "id": "ce08ec36",
   "metadata": {},
   "outputs": [
    {
     "data": {
      "text/plain": [
       "array(['90802', '90732', '90744'], dtype=object)"
      ]
     },
     "execution_count": 80,
     "metadata": {},
     "output_type": "execute_result"
    }
   ],
   "source": [
    "years= [2010, 2012, 2014, 2016, 2018, 2020]\n",
    "zips = df['polygon'].unique()\n",
    "zips"
   ]
  },
  {
   "cell_type": "code",
   "execution_count": 81,
   "id": "b521c680",
   "metadata": {},
   "outputs": [
    {
     "name": "stdout",
     "output_type": "stream",
     "text": [
      "polygon\n",
      "soil_area\n",
      "vegetation_grass_area\n",
      "water_area\n",
      "vegetation_trees_area\n",
      "impervious_area\n",
      "turf_area\n"
     ]
    }
   ],
   "source": [
    "for i in df:\n",
    "    print(i)"
   ]
  },
  {
   "cell_type": "code",
   "execution_count": 84,
   "id": "d662b3ee",
   "metadata": {},
   "outputs": [
    {
     "data": {
      "text/plain": [
       "['polygon',\n",
       " 'soil_area',\n",
       " 'vegetation_grass_area',\n",
       " 'water_area',\n",
       " 'vegetation_trees_area',\n",
       " 'impervious_area',\n",
       " 'turf_area']"
      ]
     },
     "execution_count": 84,
     "metadata": {},
     "output_type": "execute_result"
    }
   ],
   "source": [
    "list(df.columns)"
   ]
  },
  {
   "cell_type": "code",
   "execution_count": 129,
   "id": "554e2693",
   "metadata": {},
   "outputs": [
    {
     "data": {
      "image/png": "[encoded data removed]",
      "text/plain": [
       "<Figure size 1440x360 with 3 Axes>"
      ]
     },
     "metadata": {
      "needs_background": "light"
     },
     "output_type": "display_data"
    }
   ],
   "source": [
    "zips = df.polygon.unique()\n",
    "fig, ax = plt.subplots(1,3, figsize = (20,5))\n",
    "\n",
    "\n",
    "labels = [ 'soil_area',\n",
    " 'vegetation_grass_area',\n",
    " 'water_area',\n",
    " 'vegetation_trees_area',\n",
    " 'turf_area']\n",
    "\n",
    "colors = ['brown','#66CC00','#3399FF','#FF8000','#9933FF']\n",
    "\n",
    "\n",
    "for i in range(3):\n",
    "    for j in range(len(labels)):\n",
    "        if j == 'polygon':\n",
    "            continue\n",
    "        else:\n",
    "            d = df[df.polygon == zips[i]]\n",
    "            ax[i].plot(years, d[labels[j]], color = colors[j], label = labels[j])\n",
    "    ax[i].set_title(f'Zip Code: {zips[i]}', size = 15)\n",
    "    ax[i].set_xlabel('Year', size = 13)\n",
    "    ax[i].set_ylabel('Area (Square Kilometers)', size = 13)\n",
    "    ax[i].set_ylim(0,11)\n",
    "    ax[0].legend()\n",
    "    \n",
    "plt.savefig(fname = 'test.png', dpi = 200)"
   ]
  },
  {
   "cell_type": "code",
   "execution_count": 67,
   "id": "e433fdfd",
   "metadata": {},
   "outputs": [
    {
     "name": "stdout",
     "output_type": "stream",
     "text": [
      "soil_area\n",
      "total_area\n",
      "vegetation_grass_area\n",
      "water_area\n",
      "vegetation_trees_area\n",
      "impervious_area\n",
      "polygon\n",
      "ImageYear\n",
      "turf_area\n"
     ]
    }
   ],
   "source": [
    "for i in df:\n",
    "    print(i)"
   ]
  },
  {
   "cell_type": "code",
   "execution_count": null,
   "id": "b87aa3cc",
   "metadata": {},
   "outputs": [],
   "source": []
  },
  {
   "cell_type": "code",
   "execution_count": null,
   "id": "98cb919b",
   "metadata": {},
   "outputs": [],
   "source": []
  },
  {
   "cell_type": "code",
   "execution_count": null,
   "id": "ce29137b",
   "metadata": {},
   "outputs": [],
   "source": []
  },
  {
   "cell_type": "code",
   "execution_count": 45,
   "id": "27a0f60e",
   "metadata": {},
   "outputs": [],
   "source": [
    "# classified = training_image_classified\n",
    "\n",
    "# water_area = area_calculation(classified, 1, la_county, 20)\n",
    "# vegetation_trees_area = area_calculation(classified, 2, la_county, 20)\n",
    "# vegetation_grass_area = area_calculation(classified, 3, la_county, 20)\n",
    "# turf_area = area_calculation(classified, 4, la_county, 20)\n",
    "# impervious_area = area_calculation(classified, 6, la_county, 20)\n",
    "# soil_area = area_calculation(classified, 7, la_county, 20)\n",
    "\n",
    "# total_area = water_area + vegetation_trees_area + vegetation_grass_area + turf_area + impervious_area + soil_area\n",
    "\n",
    "# water_percentage = water_area / total_area\n",
    "# vegetation_trees_percentage = vegetation_trees_area / total_area\n",
    "# vegetation_grass_percentage = vegetation_grass_area / total_area\n",
    "# turf_percentage = turf_area / total_area\n",
    "# impervious_percentage = impervious_area / total_area\n",
    "# soil_percentage = soil_area / total_area"
   ]
  }
 ],
 "metadata": {
  "kernelspec": {
   "display_name": "Python 3",
   "language": "python",
   "name": "python3"
  },
  "language_info": {
   "codemirror_mode": {
    "name": "ipython",
    "version": 3
   },
   "file_extension": ".py",
   "mimetype": "text/x-python",
   "name": "python",
   "nbconvert_exporter": "python",
   "pygments_lexer": "ipython3",
   "version": "3.8.3"
  }
 },
 "nbformat": 4,
 "nbformat_minor": 5
}
