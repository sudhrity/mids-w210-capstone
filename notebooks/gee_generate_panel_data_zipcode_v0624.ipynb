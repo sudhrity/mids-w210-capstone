{
 "cells": [
  {
   "cell_type": "markdown",
   "id": "82be3451",
   "metadata": {},
   "source": [
    "# Google Earth Engine Panel Data Creation"
   ]
  },
  {
   "cell_type": "markdown",
   "id": "ff3a98c6",
   "metadata": {},
   "source": [
    "## Initialize"
   ]
  },
  {
   "cell_type": "code",
   "execution_count": 4,
   "id": "f8bdbe8a",
   "metadata": {},
   "outputs": [
    {
     "name": "stdout",
     "output_type": "stream",
     "text": [
      "Collecting geemap\n",
      "  Downloading geemap-0.14.0-py2.py3-none-any.whl (2.0 MB)\n",
      "\u001b[K     |████████████████████████████████| 2.0 MB 25.4 MB/s eta 0:00:01\n",
      "\u001b[?25hCollecting geocoder\n",
      "  Downloading geocoder-1.38.1-py2.py3-none-any.whl (98 kB)\n",
      "\u001b[K     |████████████████████████████████| 98 kB 17.3 MB/s eta 0:00:01\n",
      "\u001b[?25hCollecting xyzservices\n",
      "  Downloading xyzservices-2022.6.0-py3-none-any.whl (36 kB)\n",
      "Requirement already satisfied: pandas in /opt/conda/lib/python3.8/site-packages (from geemap) (1.2.4)\n",
      "Collecting ffmpeg-python\n",
      "  Downloading ffmpeg_python-0.2.0-py3-none-any.whl (25 kB)\n",
      "Collecting mapclassify>=2.4.0\n",
      "  Downloading mapclassify-2.4.3-py3-none-any.whl (38 kB)\n",
      "Collecting pyshp>=2.1.3\n",
      "  Downloading pyshp-2.3.0-py2.py3-none-any.whl (46 kB)\n",
      "\u001b[K     |████████████████████████████████| 46 kB 9.1 MB/s  eta 0:00:01\n",
      "\u001b[?25hCollecting sankee\n",
      "  Downloading sankee-0.0.7.tar.gz (29 kB)\n",
      "Collecting folium>=0.11.0\n",
      "  Downloading folium-0.12.1.post1-py2.py3-none-any.whl (95 kB)\n",
      "\u001b[K     |████████████████████████████████| 95 kB 7.9 MB/s  eta 0:00:01\n",
      "\u001b[?25hCollecting python-box\n",
      "  Downloading python_box-6.0.2-cp38-cp38-manylinux_2_17_x86_64.manylinux2014_x86_64.whl (3.4 MB)\n",
      "\u001b[K     |████████████████████████████████| 3.4 MB 63.1 MB/s eta 0:00:01\n",
      "\u001b[?25hCollecting ipytree\n",
      "  Downloading ipytree-0.2.1-py2.py3-none-any.whl (1.3 MB)\n",
      "\u001b[K     |████████████████████████████████| 1.3 MB 50.9 MB/s eta 0:00:01\n",
      "\u001b[?25hCollecting bqplot\n",
      "  Downloading bqplot-0.12.33-py2.py3-none-any.whl (1.2 MB)\n",
      "\u001b[K     |████████████████████████████████| 1.2 MB 57.8 MB/s eta 0:00:01\n",
      "\u001b[?25hCollecting gdown\n",
      "  Downloading gdown-4.5.0.tar.gz (14 kB)\n",
      "  Installing build dependencies ... \u001b[?25ldone\n",
      "\u001b[?25h  Getting requirements to build wheel ... \u001b[?25ldone\n",
      "\u001b[?25h    Preparing wheel metadata ... \u001b[?25ldone\n",
      "\u001b[?25hRequirement already satisfied: geojson in /opt/conda/lib/python3.8/site-packages (from geemap) (2.5.0)\n",
      "Collecting earthengine-api>=0.1.304\n",
      "  Downloading earthengine-api-0.1.316.tar.gz (241 kB)\n",
      "\u001b[K     |████████████████████████████████| 241 kB 65.1 MB/s eta 0:00:01\n",
      "\u001b[?25hCollecting geeadd>=0.5.1\n",
      "  Downloading geeadd-0.5.5-py3-none-any.whl (30 kB)\n",
      "Requirement already satisfied: numpy in /opt/conda/lib/python3.8/site-packages (from geemap) (1.20.1)\n",
      "Collecting colour\n",
      "  Downloading colour-0.1.5-py2.py3-none-any.whl (23 kB)\n",
      "Requirement already satisfied: jupyterlab>=3 in /opt/conda/lib/python3.8/site-packages (from geemap) (3.0.14)\n",
      "Collecting ipyleaflet>=0.14.0\n",
      "  Downloading ipyleaflet-0.16.0-py2.py3-none-any.whl (3.3 MB)\n",
      "\u001b[K     |████████████████████████████████| 3.3 MB 50.1 MB/s eta 0:00:01\n",
      "\u001b[?25hCollecting whiteboxgui>=0.6.0\n",
      "  Downloading whiteboxgui-0.7.0-py2.py3-none-any.whl (99 kB)\n",
      "\u001b[K     |████████████████████████████████| 99 kB 18.3 MB/s eta 0:00:01\n",
      "\u001b[?25hCollecting pycrs\n",
      "  Downloading PyCRS-1.0.2.tar.gz (36 kB)\n",
      "Collecting ee-extra>=0.0.10\n",
      "  Downloading ee_extra-0.0.13.tar.gz (187 kB)\n",
      "\u001b[K     |████████████████████████████████| 187 kB 74.0 MB/s eta 0:00:01\n",
      "\u001b[?25hRequirement already satisfied: matplotlib in /opt/conda/lib/python3.8/site-packages (from geemap) (3.3.4)\n",
      "Requirement already satisfied: pillow in /opt/conda/lib/python3.8/site-packages (from geemap) (8.2.0)\n",
      "Collecting ipyfilechooser>=0.6.0\n",
      "  Downloading ipyfilechooser-0.6.0-py3-none-any.whl (11 kB)\n",
      "Collecting ipyevents\n",
      "  Downloading ipyevents-2.0.1-py2.py3-none-any.whl (130 kB)\n",
      "\u001b[K     |████████████████████████████████| 130 kB 74.6 MB/s eta 0:00:01\n",
      "\u001b[?25hRequirement already satisfied: future in /opt/conda/lib/python3.8/site-packages (from earthengine-api>=0.1.304->geemap) (0.18.2)\n",
      "Collecting google-cloud-storage\n",
      "  Downloading google_cloud_storage-2.4.0-py2.py3-none-any.whl (106 kB)\n",
      "\u001b[K     |████████████████████████████████| 106 kB 74.9 MB/s eta 0:00:01\n",
      "\u001b[?25hCollecting google-api-python-client<2,>=1.12.1\n",
      "  Downloading google_api_python_client-1.12.11-py2.py3-none-any.whl (62 kB)\n",
      "\u001b[K     |████████████████████████████████| 62 kB 1.6 MB/s  eta 0:00:01\n",
      "\u001b[?25hCollecting google-auth>=1.4.1\n",
      "  Downloading google_auth-2.8.0-py2.py3-none-any.whl (164 kB)\n",
      "\u001b[K     |████████████████████████████████| 164 kB 72.8 MB/s eta 0:00:01\n",
      "\u001b[?25hCollecting google-auth-httplib2>=0.0.3\n",
      "  Downloading google_auth_httplib2-0.1.0-py2.py3-none-any.whl (9.3 kB)\n",
      "Collecting httplib2<1dev,>=0.9.2\n",
      "  Downloading httplib2-0.20.4-py3-none-any.whl (96 kB)\n",
      "\u001b[K     |████████████████████████████████| 96 kB 12.2 MB/s eta 0:00:01\n",
      "\u001b[?25hCollecting httplib2shim\n",
      "  Downloading httplib2shim-0.0.3.tar.gz (17 kB)\n",
      "Requirement already satisfied: six in /opt/conda/lib/python3.8/site-packages (from earthengine-api>=0.1.304->geemap) (1.15.0)\n",
      "Requirement already satisfied: jinja2>=2.9 in /opt/conda/lib/python3.8/site-packages (from folium>=0.11.0->geemap) (2.11.3)\n",
      "Collecting branca>=0.3.0\n",
      "  Downloading branca-0.5.0-py3-none-any.whl (24 kB)\n",
      "Requirement already satisfied: requests in /opt/conda/lib/python3.8/site-packages (from folium>=0.11.0->geemap) (2.25.1)\n",
      "Collecting logzero>=1.5.0\n",
      "  Downloading logzero-1.7.0-py2.py3-none-any.whl (16 kB)\n",
      "Requirement already satisfied: beautifulsoup4>=4.9.0 in /opt/conda/lib/python3.8/site-packages (from geeadd>=0.5.1->geemap) (4.9.3)\n",
      "Requirement already satisfied: soupsieve>1.2 in /opt/conda/lib/python3.8/site-packages (from beautifulsoup4>=4.9.0->geeadd>=0.5.1->geemap) (2.2.1)\n",
      "Collecting google-api-core<3dev,>=1.21.0\n",
      "  Downloading google_api_core-2.8.2-py3-none-any.whl (114 kB)\n",
      "\u001b[K     |████████████████████████████████| 114 kB 72.4 MB/s eta 0:00:01\n",
      "\u001b[?25hCollecting uritemplate<4dev,>=3.0.0\n",
      "  Downloading uritemplate-3.0.1-py2.py3-none-any.whl (15 kB)\n",
      "Collecting protobuf<5.0.0dev,>=3.15.0\n",
      "  Downloading protobuf-4.21.2-cp37-abi3-manylinux2014_x86_64.whl (407 kB)\n",
      "\u001b[K     |████████████████████████████████| 407 kB 50.7 MB/s eta 0:00:01\n",
      "\u001b[?25hCollecting googleapis-common-protos<2.0dev,>=1.56.2\n",
      "  Downloading googleapis_common_protos-1.56.3-py2.py3-none-any.whl (211 kB)\n",
      "\u001b[K     |████████████████████████████████| 211 kB 55.4 MB/s eta 0:00:01\n",
      "\u001b[?25hCollecting cachetools<6.0,>=2.0.0\n",
      "  Downloading cachetools-5.2.0-py3-none-any.whl (9.3 kB)\n",
      "Collecting rsa<5,>=3.1.4\n",
      "  Downloading rsa-4.8-py3-none-any.whl (39 kB)\n",
      "Collecting pyasn1-modules>=0.2.1\n",
      "  Downloading pyasn1_modules-0.2.8-py2.py3-none-any.whl (155 kB)\n",
      "\u001b[K     |████████████████████████████████| 155 kB 74.0 MB/s eta 0:00:01\n",
      "\u001b[?25hRequirement already satisfied: pyparsing!=3.0.0,!=3.0.1,!=3.0.2,!=3.0.3,<4,>=2.4.2 in /opt/conda/lib/python3.8/site-packages (from httplib2<1dev,>=0.9.2->earthengine-api>=0.1.304->geemap) (2.4.7)\n",
      "Requirement already satisfied: ipywidgets in /opt/conda/lib/python3.8/site-packages (from ipyfilechooser>=0.6.0->geemap) (7.6.3)\n",
      "Collecting traittypes<3,>=0.2.1\n",
      "  Downloading traittypes-0.2.1-py2.py3-none-any.whl (8.6 kB)\n",
      "Requirement already satisfied: widgetsnbextension~=3.5.0 in /opt/conda/lib/python3.8/site-packages (from ipywidgets->ipyfilechooser>=0.6.0->geemap) (3.5.1)\n",
      "Requirement already satisfied: nbformat>=4.2.0 in /opt/conda/lib/python3.8/site-packages (from ipywidgets->ipyfilechooser>=0.6.0->geemap) (5.1.3)\n",
      "Requirement already satisfied: ipykernel>=4.5.1 in /opt/conda/lib/python3.8/site-packages (from ipywidgets->ipyfilechooser>=0.6.0->geemap) (5.3.4)\n",
      "Requirement already satisfied: traitlets>=4.3.1 in /opt/conda/lib/python3.8/site-packages (from ipywidgets->ipyfilechooser>=0.6.0->geemap) (5.0.5)\n",
      "Requirement already satisfied: jupyterlab-widgets>=1.0.0 in /opt/conda/lib/python3.8/site-packages (from ipywidgets->ipyfilechooser>=0.6.0->geemap) (1.0.0)\n",
      "Requirement already satisfied: ipython>=4.0.0 in /opt/conda/lib/python3.8/site-packages (from ipywidgets->ipyfilechooser>=0.6.0->geemap) (7.22.0)\n",
      "Requirement already satisfied: jupyter-client in /opt/conda/lib/python3.8/site-packages (from ipykernel>=4.5.1->ipywidgets->ipyfilechooser>=0.6.0->geemap) (6.1.12)\n",
      "Requirement already satisfied: tornado>=4.2 in /opt/conda/lib/python3.8/site-packages (from ipykernel>=4.5.1->ipywidgets->ipyfilechooser>=0.6.0->geemap) (6.1)\n",
      "Requirement already satisfied: setuptools>=18.5 in /opt/conda/lib/python3.8/site-packages (from ipython>=4.0.0->ipywidgets->ipyfilechooser>=0.6.0->geemap) (52.0.0.post20210125)\n",
      "Requirement already satisfied: jedi>=0.16 in /opt/conda/lib/python3.8/site-packages (from ipython>=4.0.0->ipywidgets->ipyfilechooser>=0.6.0->geemap) (0.17.2)\n",
      "Requirement already satisfied: pexpect>4.3 in /opt/conda/lib/python3.8/site-packages (from ipython>=4.0.0->ipywidgets->ipyfilechooser>=0.6.0->geemap) (4.8.0)\n",
      "Requirement already satisfied: pickleshare in /opt/conda/lib/python3.8/site-packages (from ipython>=4.0.0->ipywidgets->ipyfilechooser>=0.6.0->geemap) (0.7.5)\n",
      "Requirement already satisfied: prompt-toolkit!=3.0.0,!=3.0.1,<3.1.0,>=2.0.0 in /opt/conda/lib/python3.8/site-packages (from ipython>=4.0.0->ipywidgets->ipyfilechooser>=0.6.0->geemap) (3.0.17)\n",
      "Requirement already satisfied: pygments in /opt/conda/lib/python3.8/site-packages (from ipython>=4.0.0->ipywidgets->ipyfilechooser>=0.6.0->geemap) (2.8.1)\n",
      "Requirement already satisfied: backcall in /opt/conda/lib/python3.8/site-packages (from ipython>=4.0.0->ipywidgets->ipyfilechooser>=0.6.0->geemap) (0.2.0)\n"
     ]
    },
    {
     "name": "stdout",
     "output_type": "stream",
     "text": [
      "Requirement already satisfied: decorator in /opt/conda/lib/python3.8/site-packages (from ipython>=4.0.0->ipywidgets->ipyfilechooser>=0.6.0->geemap) (5.0.6)\n",
      "Requirement already satisfied: parso<0.8.0,>=0.7.0 in /opt/conda/lib/python3.8/site-packages (from jedi>=0.16->ipython>=4.0.0->ipywidgets->ipyfilechooser>=0.6.0->geemap) (0.7.0)\n",
      "Requirement already satisfied: MarkupSafe>=0.23 in /opt/conda/lib/python3.8/site-packages (from jinja2>=2.9->folium>=0.11.0->geemap) (1.1.1)\n",
      "Requirement already satisfied: jupyterlab-server~=2.3 in /opt/conda/lib/python3.8/site-packages (from jupyterlab>=3->geemap) (2.4.0)\n",
      "Requirement already satisfied: packaging in /opt/conda/lib/python3.8/site-packages (from jupyterlab>=3->geemap) (20.9)\n",
      "Requirement already satisfied: jupyter-packaging~=0.7 in /opt/conda/lib/python3.8/site-packages (from jupyterlab>=3->geemap) (0.7.12)\n",
      "Requirement already satisfied: jupyter-core in /opt/conda/lib/python3.8/site-packages (from jupyterlab>=3->geemap) (4.7.1)\n",
      "Requirement already satisfied: jupyter-server~=1.4 in /opt/conda/lib/python3.8/site-packages (from jupyterlab>=3->geemap) (1.4.1)\n",
      "Requirement already satisfied: nbclassic~=0.2 in /opt/conda/lib/python3.8/site-packages (from jupyterlab>=3->geemap) (0.2.6)\n",
      "Requirement already satisfied: terminado>=0.8.3 in /opt/conda/lib/python3.8/site-packages (from jupyter-server~=1.4->jupyterlab>=3->geemap) (0.9.4)\n",
      "Requirement already satisfied: prometheus-client in /opt/conda/lib/python3.8/site-packages (from jupyter-server~=1.4->jupyterlab>=3->geemap) (0.10.1)\n",
      "Requirement already satisfied: pyzmq>=17 in /opt/conda/lib/python3.8/site-packages (from jupyter-server~=1.4->jupyterlab>=3->geemap) (20.0.0)\n",
      "Requirement already satisfied: Send2Trash in /opt/conda/lib/python3.8/site-packages (from jupyter-server~=1.4->jupyterlab>=3->geemap) (1.5.0)\n",
      "Requirement already satisfied: nbconvert in /opt/conda/lib/python3.8/site-packages (from jupyter-server~=1.4->jupyterlab>=3->geemap) (6.0.7)\n",
      "Requirement already satisfied: anyio>=2.0.2 in /opt/conda/lib/python3.8/site-packages (from jupyter-server~=1.4->jupyterlab>=3->geemap) (2.2.0)\n",
      "Requirement already satisfied: ipython-genutils in /opt/conda/lib/python3.8/site-packages (from jupyter-server~=1.4->jupyterlab>=3->geemap) (0.2.0)\n",
      "Requirement already satisfied: sniffio>=1.1 in /opt/conda/lib/python3.8/site-packages (from anyio>=2.0.2->jupyter-server~=1.4->jupyterlab>=3->geemap) (1.2.0)\n",
      "Requirement already satisfied: idna>=2.8 in /opt/conda/lib/python3.8/site-packages (from anyio>=2.0.2->jupyter-server~=1.4->jupyterlab>=3->geemap) (2.10)\n",
      "Requirement already satisfied: python-dateutil>=2.1 in /opt/conda/lib/python3.8/site-packages (from jupyter-client->ipykernel>=4.5.1->ipywidgets->ipyfilechooser>=0.6.0->geemap) (2.8.1)\n",
      "Requirement already satisfied: babel in /opt/conda/lib/python3.8/site-packages (from jupyterlab-server~=2.3->jupyterlab>=3->geemap) (2.9.0)\n",
      "Requirement already satisfied: json5 in /opt/conda/lib/python3.8/site-packages (from jupyterlab-server~=2.3->jupyterlab>=3->geemap) (0.9.5)\n",
      "Requirement already satisfied: jsonschema>=3.0.1 in /opt/conda/lib/python3.8/site-packages (from jupyterlab-server~=2.3->jupyterlab>=3->geemap) (3.2.0)\n",
      "Requirement already satisfied: attrs>=17.4.0 in /opt/conda/lib/python3.8/site-packages (from jsonschema>=3.0.1->jupyterlab-server~=2.3->jupyterlab>=3->geemap) (20.3.0)\n",
      "Requirement already satisfied: pyrsistent>=0.14.0 in /opt/conda/lib/python3.8/site-packages (from jsonschema>=3.0.1->jupyterlab-server~=2.3->jupyterlab>=3->geemap) (0.17.3)\n",
      "Requirement already satisfied: scikit-learn in /opt/conda/lib/python3.8/site-packages (from mapclassify>=2.4.0->geemap) (0.24.1)\n",
      "Requirement already satisfied: networkx in /opt/conda/lib/python3.8/site-packages (from mapclassify>=2.4.0->geemap) (2.5)\n",
      "Requirement already satisfied: scipy>=1.0 in /opt/conda/lib/python3.8/site-packages (from mapclassify>=2.4.0->geemap) (1.6.2)\n",
      "Requirement already satisfied: notebook<7 in /opt/conda/lib/python3.8/site-packages (from nbclassic~=0.2->jupyterlab>=3->geemap) (6.3.0)\n",
      "Requirement already satisfied: argon2-cffi in /opt/conda/lib/python3.8/site-packages (from notebook<7->nbclassic~=0.2->jupyterlab>=3->geemap) (20.1.0)\n",
      "Requirement already satisfied: pytz>=2017.3 in /opt/conda/lib/python3.8/site-packages (from pandas->geemap) (2021.1)\n",
      "Requirement already satisfied: ptyprocess>=0.5 in /opt/conda/lib/python3.8/site-packages (from pexpect>4.3->ipython>=4.0.0->ipywidgets->ipyfilechooser>=0.6.0->geemap) (0.7.0)\n",
      "Requirement already satisfied: wcwidth in /opt/conda/lib/python3.8/site-packages (from prompt-toolkit!=3.0.0,!=3.0.1,<3.1.0,>=2.0.0->ipython>=4.0.0->ipywidgets->ipyfilechooser>=0.6.0->geemap) (0.2.5)\n",
      "Collecting pyasn1<0.5.0,>=0.4.6\n",
      "  Downloading pyasn1-0.4.8-py2.py3-none-any.whl (77 kB)\n",
      "\u001b[K     |████████████████████████████████| 77 kB 13.5 MB/s eta 0:00:01\n",
      "\u001b[?25hRequirement already satisfied: certifi>=2017.4.17 in /opt/conda/lib/python3.8/site-packages (from requests->folium>=0.11.0->geemap) (2020.12.5)\n",
      "Requirement already satisfied: urllib3<1.27,>=1.21.1 in /opt/conda/lib/python3.8/site-packages (from requests->folium>=0.11.0->geemap) (1.26.4)\n",
      "Requirement already satisfied: chardet<5,>=3.0.2 in /opt/conda/lib/python3.8/site-packages (from requests->folium>=0.11.0->geemap) (4.0.0)\n",
      "Collecting whitebox\n",
      "  Downloading whitebox-2.1.2-py2.py3-none-any.whl (75 kB)\n",
      "\u001b[K     |████████████████████████████████| 75 kB 10.2 MB/s eta 0:00:01\n",
      "\u001b[?25hRequirement already satisfied: cffi>=1.0.0 in /opt/conda/lib/python3.8/site-packages (from argon2-cffi->notebook<7->nbclassic~=0.2->jupyterlab>=3->geemap) (1.14.5)\n",
      "Requirement already satisfied: pycparser in /opt/conda/lib/python3.8/site-packages (from cffi>=1.0.0->argon2-cffi->notebook<7->nbclassic~=0.2->jupyterlab>=3->geemap) (2.20)\n",
      "Requirement already satisfied: tqdm in /opt/conda/lib/python3.8/site-packages (from gdown->geemap) (4.59.0)\n",
      "Requirement already satisfied: filelock in /opt/conda/lib/python3.8/site-packages (from gdown->geemap) (3.0.12)\n",
      "Collecting ratelim\n",
      "  Downloading ratelim-0.1.6-py2.py3-none-any.whl (4.0 kB)\n",
      "Requirement already satisfied: click in /opt/conda/lib/python3.8/site-packages (from geocoder->geemap) (7.1.2)\n",
      "Collecting google-cloud-core<3.0dev,>=2.3.0\n",
      "  Downloading google_cloud_core-2.3.1-py2.py3-none-any.whl (29 kB)\n",
      "Collecting google-resumable-media>=2.3.2\n",
      "  Downloading google_resumable_media-2.3.3-py2.py3-none-any.whl (76 kB)\n",
      "\u001b[K     |████████████████████████████████| 76 kB 10.6 MB/s eta 0:00:01\n",
      "\u001b[?25hCollecting google-crc32c<2.0dev,>=1.0\n",
      "  Downloading google_crc32c-1.3.0-cp38-cp38-manylinux_2_12_x86_64.manylinux2010_x86_64.whl (37 kB)\n",
      "Requirement already satisfied: cycler>=0.10 in /opt/conda/lib/python3.8/site-packages (from matplotlib->geemap) (0.10.0)\n",
      "Requirement already satisfied: kiwisolver>=1.0.1 in /opt/conda/lib/python3.8/site-packages (from matplotlib->geemap) (1.3.1)\n",
      "Requirement already satisfied: jupyterlab-pygments in /opt/conda/lib/python3.8/site-packages (from nbconvert->jupyter-server~=1.4->jupyterlab>=3->geemap) (0.1.2)\n",
      "Requirement already satisfied: entrypoints>=0.2.2 in /opt/conda/lib/python3.8/site-packages (from nbconvert->jupyter-server~=1.4->jupyterlab>=3->geemap) (0.3)\n",
      "Requirement already satisfied: pandocfilters>=1.4.1 in /opt/conda/lib/python3.8/site-packages (from nbconvert->jupyter-server~=1.4->jupyterlab>=3->geemap) (1.4.3)\n",
      "Requirement already satisfied: defusedxml in /opt/conda/lib/python3.8/site-packages (from nbconvert->jupyter-server~=1.4->jupyterlab>=3->geemap) (0.7.1)\n",
      "Requirement already satisfied: mistune<2,>=0.8.1 in /opt/conda/lib/python3.8/site-packages (from nbconvert->jupyter-server~=1.4->jupyterlab>=3->geemap) (0.8.4)\n",
      "Requirement already satisfied: nbclient<0.6.0,>=0.5.0 in /opt/conda/lib/python3.8/site-packages (from nbconvert->jupyter-server~=1.4->jupyterlab>=3->geemap) (0.5.3)\n",
      "Requirement already satisfied: testpath in /opt/conda/lib/python3.8/site-packages (from nbconvert->jupyter-server~=1.4->jupyterlab>=3->geemap) (0.4.4)\n",
      "Requirement already satisfied: bleach in /opt/conda/lib/python3.8/site-packages (from nbconvert->jupyter-server~=1.4->jupyterlab>=3->geemap) (3.3.0)\n",
      "Requirement already satisfied: async-generator in /opt/conda/lib/python3.8/site-packages (from nbclient<0.6.0,>=0.5.0->nbconvert->jupyter-server~=1.4->jupyterlab>=3->geemap) (1.10)\n",
      "Requirement already satisfied: nest-asyncio in /opt/conda/lib/python3.8/site-packages (from nbclient<0.6.0,>=0.5.0->nbconvert->jupyter-server~=1.4->jupyterlab>=3->geemap) (1.5.1)\n"
     ]
    },
    {
     "name": "stdout",
     "output_type": "stream",
     "text": [
      "Requirement already satisfied: webencodings in /opt/conda/lib/python3.8/site-packages (from bleach->nbconvert->jupyter-server~=1.4->jupyterlab>=3->geemap) (0.5.1)\n",
      "Requirement already satisfied: PySocks!=1.5.7,>=1.5.6 in /opt/conda/lib/python3.8/site-packages (from requests->folium>=0.11.0->geemap) (1.7.1)\n",
      "Collecting plotly>=5.2.2\n",
      "  Downloading plotly-5.9.0-py2.py3-none-any.whl (15.2 MB)\n",
      "\u001b[K     |████████████████████████████████| 15.2 MB 77.3 MB/s eta 0:00:01\n",
      "\u001b[?25hCollecting tenacity>=6.2.0\n",
      "  Downloading tenacity-8.0.1-py3-none-any.whl (24 kB)\n",
      "Requirement already satisfied: joblib>=0.11 in /opt/conda/lib/python3.8/site-packages (from scikit-learn->mapclassify>=2.4.0->geemap) (1.0.1)\n",
      "Requirement already satisfied: threadpoolctl>=2.0.0 in /opt/conda/lib/python3.8/site-packages (from scikit-learn->mapclassify>=2.4.0->geemap) (2.1.0)\n",
      "Building wheels for collected packages: earthengine-api, ee-extra, gdown, httplib2shim, pycrs, sankee\n",
      "  Building wheel for earthengine-api (setup.py) ... \u001b[?25ldone\n",
      "\u001b[?25h  Created wheel for earthengine-api: filename=earthengine_api-0.1.316-py3-none-any.whl size=270124 sha256=6a153ec4faee3c0e90040840342d0838443670a2af623fd98943019d3a59dd7b\n",
      "  Stored in directory: /root/.cache/pip/wheels/e0/9d/5d/2846b359e2ad28adb3104502507cb33e20e502b26fd22f7dd5\n",
      "  Building wheel for ee-extra (setup.py) ... \u001b[?25ldone\n",
      "\u001b[?25h  Created wheel for ee-extra: filename=ee_extra-0.0.13-py3-none-any.whl size=198382 sha256=1348fd0d79ab47b9583f51784005953237c8789a3b1f47ae4733fc360fb5256d\n",
      "  Stored in directory: /root/.cache/pip/wheels/99/95/78/eeee7313080552ade64452acc7f7acfe9d6010d1915e96b897\n",
      "  Building wheel for gdown (PEP 517) ... \u001b[?25ldone\n",
      "\u001b[?25h  Created wheel for gdown: filename=gdown-4.5.0-py3-none-any.whl size=14919 sha256=8eabd5e1e84bce17223522877c08d6716ff8c61fac0f6d82e0fae64c1e7b81e7\n",
      "  Stored in directory: /root/.cache/pip/wheels/11/44/ae/0f69c268f8f1fc215bc5a0ae89e224edd80f08c96cb672e5f7\n",
      "  Building wheel for httplib2shim (setup.py) ... \u001b[?25ldone\n",
      "\u001b[?25h  Created wheel for httplib2shim: filename=httplib2shim-0.0.3-py2.py3-none-any.whl size=18059 sha256=79bca773cce0cb178a8901b02d6ca420d0c8ccae8ba9873f68bbf28a5817b09a\n",
      "  Stored in directory: /root/.cache/pip/wheels/04/5d/b9/a746c136fae5811cb2d30d8112b0f72ba40e24d22885bbe7c7\n",
      "  Building wheel for pycrs (setup.py) ... \u001b[?25ldone\n",
      "\u001b[?25h  Created wheel for pycrs: filename=PyCRS-1.0.2-py3-none-any.whl size=32680 sha256=9726e6e1e46a183094f8060f98056d96fc16c099b366cb8a996fe070f7d3dd64\n",
      "  Stored in directory: /root/.cache/pip/wheels/c1/e9/f3/19ecf82bebc5cdaba5c2a83f673f7b9b09c26fbc9b57534a2e\n",
      "  Building wheel for sankee (setup.py) ... \u001b[?25ldone\n",
      "\u001b[?25h  Created wheel for sankee: filename=sankee-0.0.7-py3-none-any.whl size=27626 sha256=1115b069f4a50dd1050eb3f0c91cc4f4b8c5c254e9171198422e26aff36912bf\n",
      "  Stored in directory: /root/.cache/pip/wheels/d7/e3/94/6e64e9497310c9d0b44be19750f3d524555e1eb926d33e83b5\n",
      "Successfully built earthengine-api ee-extra gdown httplib2shim pycrs sankee\n",
      "Installing collected packages: pyasn1, rsa, pyasn1-modules, protobuf, cachetools, googleapis-common-protos, google-auth, httplib2, google-crc32c, google-api-core, uritemplate, google-resumable-media, google-cloud-core, google-auth-httplib2, tenacity, httplib2shim, google-cloud-storage, google-api-python-client, xyzservices, whitebox, traittypes, ratelim, plotly, logzero, ipytree, ipyfilechooser, earthengine-api, branca, whiteboxgui, sankee, python-box, pyshp, pycrs, mapclassify, ipyleaflet, ipyevents, geocoder, geeadd, gdown, folium, ffmpeg-python, ee-extra, colour, bqplot, geemap\n",
      "Successfully installed bqplot-0.12.33 branca-0.5.0 cachetools-5.2.0 colour-0.1.5 earthengine-api-0.1.316 ee-extra-0.0.13 ffmpeg-python-0.2.0 folium-0.12.1.post1 gdown-4.5.0 geeadd-0.5.5 geemap-0.14.0 geocoder-1.38.1 google-api-core-2.8.2 google-api-python-client-1.12.11 google-auth-2.8.0 google-auth-httplib2-0.1.0 google-cloud-core-2.3.1 google-cloud-storage-2.4.0 google-crc32c-1.3.0 google-resumable-media-2.3.3 googleapis-common-protos-1.56.3 httplib2-0.20.4 httplib2shim-0.0.3 ipyevents-2.0.1 ipyfilechooser-0.6.0 ipyleaflet-0.16.0 ipytree-0.2.1 logzero-1.7.0 mapclassify-2.4.3 plotly-5.9.0 protobuf-4.21.2 pyasn1-0.4.8 pyasn1-modules-0.2.8 pycrs-1.0.2 pyshp-2.3.0 python-box-6.0.2 ratelim-0.1.6 rsa-4.8 sankee-0.0.7 tenacity-8.0.1 traittypes-0.2.1 uritemplate-3.0.1 whitebox-2.1.2 whiteboxgui-0.7.0 xyzservices-2022.6.0\n"
     ]
    }
   ],
   "source": [
    "!pip install geemap\n",
    "#!pip install ee"
   ]
  },
  {
   "cell_type": "code",
   "execution_count": 5,
   "id": "852342ca",
   "metadata": {},
   "outputs": [],
   "source": [
    "#GEE specific\n",
    "import ee\n",
    "import geemap\n",
    "import math\n",
    "\n",
    "#plotting and functions\n",
    "import numpy as np\n",
    "import pandas as pd\n",
    "import matplotlib.pyplot as plt\n",
    "import itertools\n",
    "from time import time"
   ]
  },
  {
   "cell_type": "code",
   "execution_count": 7,
   "id": "cf39d151",
   "metadata": {},
   "outputs": [
    {
     "data": {
      "text/html": [
       "<p>To authorize access needed by Earth Engine, open the following\n",
       "        URL in a web browser and follow the instructions:</p>\n",
       "        <p><a href=https://code.earthengine.google.com/client-auth?scopes=https%3A//www.googleapis.com/auth/earthengine%20https%3A//www.googleapis.com/auth/devstorage.full_control&request_id=Lqt2-yulxetjETHgylhX8vNheidlMfTbw6i6bBUpG_M&tc=cScSUt3NNslTIsieWUvjBF-BtdP50aVejLX-hgb7O1g&cc=qxHMtV9P2qsnx7srEQ3_oQlLgrPEaVkCgLY1qrc1P3U>https://code.earthengine.google.com/client-auth?scopes=https%3A//www.googleapis.com/auth/earthengine%20https%3A//www.googleapis.com/auth/devstorage.full_control&request_id=Lqt2-yulxetjETHgylhX8vNheidlMfTbw6i6bBUpG_M&tc=cScSUt3NNslTIsieWUvjBF-BtdP50aVejLX-hgb7O1g&cc=qxHMtV9P2qsnx7srEQ3_oQlLgrPEaVkCgLY1qrc1P3U</a></p>\n",
       "        <p>The authorization workflow will generate a code, which you\n",
       "        should paste in the box below</p>\n",
       "        "
      ],
      "text/plain": [
       "<IPython.core.display.HTML object>"
      ]
     },
     "metadata": {},
     "output_type": "display_data"
    },
    {
     "name": "stdout",
     "output_type": "stream",
     "text": [
      "Enter verification code: 4/1AX4XfWhmHg5xP5-0HUFkNfuobhU1hp8EPnpqyupo6L0lX8cxTceC45wEsU8\n",
      "\n",
      "Successfully saved authorization token.\n"
     ]
    }
   ],
   "source": [
    "#Initialize Google Earth Engine\n",
    "ee.Authenticate() #just needed the 1st time\n",
    "ee.Initialize()"
   ]
  },
  {
   "cell_type": "code",
   "execution_count": 8,
   "id": "9faa4577",
   "metadata": {},
   "outputs": [],
   "source": [
    "# Check if geemap is working as intended - plot the leaflet map\n",
    "Map = geemap.Map()"
   ]
  },
  {
   "cell_type": "markdown",
   "id": "2520dad8",
   "metadata": {},
   "source": [
    "## Load Feature Collection - Shapefiles"
   ]
  },
  {
   "cell_type": "code",
   "execution_count": 9,
   "id": "bb4b96e5",
   "metadata": {},
   "outputs": [],
   "source": [
    "#Data loads\n",
    "\n",
    "#loads feature collection data from Google Earth Engine - We can also upload other feature collections\n",
    "counties = ee.FeatureCollection(\"TIGER/2018/Counties\")\n",
    "\n",
    "#filter LA County\n",
    "la_county = counties.filter(ee.Filter.eq('NAME', 'Los Angeles'))\n",
    "sc_county = counties.filter(ee.Filter.eq('NAME', 'Santa Clara'))"
   ]
  },
  {
   "cell_type": "code",
   "execution_count": 10,
   "id": "439714b7",
   "metadata": {},
   "outputs": [
    {
     "data": {
      "text/plain": [
       "(<ee.featurecollection.FeatureCollection at 0x7f49551e93d0>,\n",
       " <ee.featurecollection.FeatureCollection at 0x7f49551e95e0>)"
      ]
     },
     "execution_count": 10,
     "metadata": {},
     "output_type": "execute_result"
    }
   ],
   "source": [
    "la_county, sc_county"
   ]
  },
  {
   "cell_type": "code",
   "execution_count": 11,
   "id": "22c79df7",
   "metadata": {},
   "outputs": [],
   "source": [
    "#Income Data\n",
    "la_county_income = ee.FeatureCollection(\"projects/california-lawn-detection/assets/lacountyincome-final\")"
   ]
  },
  {
   "cell_type": "markdown",
   "id": "dabf5c8c",
   "metadata": {},
   "source": [
    "## Load NAIP Imagery"
   ]
  },
  {
   "cell_type": "code",
   "execution_count": 12,
   "id": "324a0f1e",
   "metadata": {},
   "outputs": [],
   "source": [
    "def apply_3bands(image, band):\n",
    "    i_8_bit = image.select(band).toUint8()\n",
    "    square = ee.Kernel.square(**{'radius': 4})\n",
    "    entropy = i_8_bit.entropy(square)\n",
    "    glcm = i_8_bit.glcmTexture(**{'size': 4})\n",
    "    contrast = glcm.select(str(band)+'_contrast')\n",
    "    \n",
    "    # Create a list of weights for a 9x9 kernel.\n",
    "    list = [1, 1, 1, 1, 1, 1, 1, 1, 1]\n",
    "    # The center of the kernel is zero.\n",
    "    centerList = [1, 1, 1, 1, 0, 1, 1, 1, 1]\n",
    "    # Assemble a list of lists: the 9x9 kernel weights as a 2-D matrix.\n",
    "    lists = [list, list, list, list, centerList, list, list, list, list]\n",
    "    # Create the kernel from the weights.\n",
    "    # Non-zero weights represent the spatial neighborhood.\n",
    "    kernel = ee.Kernel.fixed(9, 9, lists, -4, -4, False)\n",
    "    neighs = i_8_bit.neighborhoodToBands(kernel)\n",
    "    gearys = i_8_bit.subtract(neighs).pow(2).reduce(ee.Reducer.sum()).divide(math.pow(9, 2))\n",
    "    image = image.addBands(entropy.rename(str(band)+'_Entropy')).addBands(contrast.rename(str(band)+'_Contrast')).addBands(gearys.rename(str(band)+'_Gearys'))   \n",
    "    return image\n",
    "\n",
    "def add_neighborhood_bands(image):\n",
    "    bands = ['R', 'G', 'B', 'N']\n",
    "    for band in bands:\n",
    "        image = apply_3bands(image, band)\n",
    "    return image\n",
    "    \n",
    "def add_NDVI(image):\n",
    "    image = image.addBands(image.normalizedDifference(['N','R']).rename('NDVI'))\n",
    "    return image\n",
    "     "
   ]
  },
  {
   "cell_type": "code",
   "execution_count": 13,
   "id": "8bd24434",
   "metadata": {},
   "outputs": [],
   "source": [
    "def get_images(param_dict):\n",
    "    source_image_collection = params['source_image_collection']\n",
    "    years = param_dict['years']\n",
    "    counties = param_dict['counties']\n",
    "\n",
    "    image_names = []\n",
    "    images = []\n",
    "\n",
    "    combos = list(itertools.product(years, counties.keys()))\n",
    "    for i in combos:\n",
    "        year = str(i[0])\n",
    "        county = i[1]\n",
    "\n",
    "        image_name = str(i[0])+'_'+i[1]\n",
    "        image_names.append(image_name)\n",
    "\n",
    "        image = ee.ImageCollection(source_image_collection)\\\n",
    "                                .filterDate(f'{year}-01-01', f'{year}-12-31')\\\n",
    "                                .select(['R','G','B','N'])\\\n",
    "                                .median().clip(counties[county])\n",
    "        images.append(image)\n",
    "        images_with_3band = list(map(add_neighborhood_bands, images))\n",
    "        images_with_NDVI = list(map(add_NDVI, images_with_3band))\n",
    "    return dict(zip(image_names, images_with_NDVI))\n",
    "\n",
    "    \n",
    "    "
   ]
  },
  {
   "cell_type": "code",
   "execution_count": 14,
   "id": "bbd3d635",
   "metadata": {},
   "outputs": [
    {
     "data": {
      "text/plain": [
       "{'2010_la_county': <ee.image.Image at 0x7f4954f072e0>,\n",
       " '2010_sc_county': <ee.image.Image at 0x7f4954f074c0>,\n",
       " '2012_la_county': <ee.image.Image at 0x7f4954f076a0>,\n",
       " '2012_sc_county': <ee.image.Image at 0x7f4954f07880>,\n",
       " '2014_la_county': <ee.image.Image at 0x7f4954f07a60>,\n",
       " '2014_sc_county': <ee.image.Image at 0x7f4954f07c40>,\n",
       " '2016_la_county': <ee.image.Image at 0x7f4954f07e20>,\n",
       " '2016_sc_county': <ee.image.Image at 0x7f4954f0a040>,\n",
       " '2018_la_county': <ee.image.Image at 0x7f4954f0a220>,\n",
       " '2018_sc_county': <ee.image.Image at 0x7f4954f0a400>,\n",
       " '2020_la_county': <ee.image.Image at 0x7f4954f0a5e0>,\n",
       " '2020_sc_county': <ee.image.Image at 0x7f4954f0a7c0>}"
      ]
     },
     "execution_count": 14,
     "metadata": {},
     "output_type": "execute_result"
    }
   ],
   "source": [
    "params = {\n",
    "        'source_image_collection' : 'USDA/NAIP/DOQQ',\n",
    "        'years' : [2010,2012,2014,2016,2018,2020],\n",
    "        'counties': {'la_county': la_county, 'sc_county': sc_county}\n",
    "         }\n",
    "\n",
    "images = get_images(params)\n",
    "images"
   ]
  },
  {
   "cell_type": "code",
   "execution_count": 15,
   "id": "dc15441d",
   "metadata": {},
   "outputs": [
    {
     "data": {
      "text/plain": [
       "['R',\n",
       " 'G',\n",
       " 'B',\n",
       " 'N',\n",
       " 'R_Entropy',\n",
       " 'R_Contrast',\n",
       " 'R_Gearys',\n",
       " 'G_Entropy',\n",
       " 'G_Contrast',\n",
       " 'G_Gearys',\n",
       " 'B_Entropy',\n",
       " 'B_Contrast',\n",
       " 'B_Gearys',\n",
       " 'N_Entropy',\n",
       " 'N_Contrast',\n",
       " 'N_Gearys',\n",
       " 'NDVI']"
      ]
     },
     "execution_count": 15,
     "metadata": {},
     "output_type": "execute_result"
    }
   ],
   "source": [
    "#see what bands each image has:\n",
    "images['2020_la_county'].bandNames().getInfo()"
   ]
  },
  {
   "cell_type": "code",
   "execution_count": 16,
   "id": "80b827a2",
   "metadata": {},
   "outputs": [],
   "source": [
    "#test to see if NAIP plot looks correct\n",
    "Map.addLayer(images['2020_la_county'], {}, 'NAIP Test')"
   ]
  },
  {
   "cell_type": "code",
   "execution_count": 17,
   "id": "2ba9032f",
   "metadata": {},
   "outputs": [
    {
     "data": {
      "text/plain": [
       "<ee.image.Image at 0x7f4954f91280>"
      ]
     },
     "execution_count": 17,
     "metadata": {},
     "output_type": "execute_result"
    }
   ],
   "source": [
    "#test to see if NDVI plot looks correct (define a different location in santa clara county just for visibility)\n",
    "source_image = images['2020_sc_county']\n",
    "\n",
    "test_ndvi = source_image.normalizedDifference(['N', 'R']).rename('2020_NDVI')\n",
    "test_ndvi"
   ]
  },
  {
   "cell_type": "code",
   "execution_count": 18,
   "id": "71d3d869",
   "metadata": {},
   "outputs": [
    {
     "data": {
      "application/vnd.jupyter.widget-view+json": {
       "model_id": "cc91f02e65044b8a8e2d0ce0396e5f3f",
       "version_major": 2,
       "version_minor": 0
      },
      "text/plain": [
       "Map(center=[20, 0], controls=(WidgetControl(options=['position', 'transparent_bg'], widget=HBox(children=(Togg…"
      ]
     },
     "metadata": {},
     "output_type": "display_data"
    }
   ],
   "source": [
    "Map.addLayer(test_ndvi,{min : -1, max : 1, 'palette' : ['blue', 'white', 'green']}, 'NDVI Test')\n",
    "Map"
   ]
  },
  {
   "cell_type": "markdown",
   "id": "63833bfb",
   "metadata": {},
   "source": [
    "## Load Labeled Data"
   ]
  },
  {
   "cell_type": "code",
   "execution_count": 19,
   "id": "35035293",
   "metadata": {},
   "outputs": [],
   "source": [
    "## Loading feature collections from Google Earth Engine\n",
    "\n",
    "#water = ee.FeatureCollection(\"projects/california-lawn-detection/assets/water_torrance\")\n",
    "water_training = ee.FeatureCollection(\"projects/california-lawn-detection/assets/water_training\")\n",
    "trees_training = ee.FeatureCollection(\"projects/california-lawn-detection/assets/trees_training\")\n",
    "grass_training = ee.FeatureCollection(\"projects/california-lawn-detection/assets/grass_training\")\n",
    "turf_training = ee.FeatureCollection(\"projects/california-lawn-detection/assets/turf_training\")\n",
    "#pv_training = ee.FeatureCollection(\"projects/california-lawn-detection/assets/pv_training\")\n",
    "impervious_training = ee.FeatureCollection(\"projects/california-lawn-detection/assets/impervious_training\").limit(50)\n",
    "soil_training = ee.FeatureCollection(\"projects/california-lawn-detection/assets/soil_training\").limit(50)\n",
    "\n",
    "LABELED_SET = water_training.merge(trees_training).merge(grass_training).merge(turf_training).merge(impervious_training).merge(soil_training)"
   ]
  },
  {
   "cell_type": "code",
   "execution_count": 20,
   "id": "aff2f129",
   "metadata": {},
   "outputs": [],
   "source": [
    "water_test = ee.FeatureCollection(\"projects/california-lawn-detection/assets/water_test\")\n",
    "vegetation_trees_test = ee.FeatureCollection(\"projects/california-lawn-detection/assets/trees_test\")\n",
    "vegetation_grass_test  = ee.FeatureCollection(\"projects/california-lawn-detection/assets/grass_test\")\n",
    "turf_test  = ee.FeatureCollection(\"projects/california-lawn-detection/assets/turf_test\")\n",
    "#pv_test  = ee.FeatureCollection(\"projects/california-lawn-detection/assets/pv_test\")\n",
    "impervious_test  = ee.FeatureCollection(\"projects/california-lawn-detection/assets/impervious_test\")\n",
    "soil_test  = ee.FeatureCollection(\"projects/california-lawn-detection/assets/soil_test\")\n",
    "\n",
    "TEST_SET = water_test.merge(vegetation_trees_test).merge(vegetation_grass_test).merge(turf_test).merge(impervious_test).merge(soil_test)"
   ]
  },
  {
   "cell_type": "markdown",
   "id": "647d395d",
   "metadata": {},
   "source": [
    "## Build Training Set"
   ]
  },
  {
   "cell_type": "code",
   "execution_count": 21,
   "id": "24aed902",
   "metadata": {},
   "outputs": [],
   "source": [
    "training_image_params = {\n",
    "        'source_image_collection' : 'USDA/NAIP/DOQQ',\n",
    "        'years' : [2020],\n",
    "        'counties': {'lacounty': la_county}\n",
    "         }\n",
    "\n",
    "TRAINING_IMAGE = get_images(training_image_params)['2020_lacounty']"
   ]
  },
  {
   "cell_type": "code",
   "execution_count": 22,
   "id": "7546e6ea",
   "metadata": {},
   "outputs": [],
   "source": [
    "# Overlay the points on the imagery to get training.\n",
    "LABEL = 'landcover'\n",
    "BANDS = ['R', 'G', 'B', 'N', 'NDVI',\n",
    "         'R_Entropy',\n",
    "         'R_Contrast',\n",
    "         'R_Gearys',\n",
    "         'G_Entropy',\n",
    "         'G_Contrast',\n",
    "         'G_Gearys',\n",
    "         'B_Entropy',\n",
    "         'B_Contrast',\n",
    "         'B_Gearys',\n",
    "         'N_Entropy', \n",
    "         'N_Contrast', \n",
    "         'N_Gearys']\n",
    "\n",
    "train_data = TRAINING_IMAGE.select(BANDS).sampleRegions(**{\n",
    "  'collection': LABELED_SET,\n",
    "  'properties': [LABEL],\n",
    "  'scale': 1\n",
    "})\n",
    "\n",
    "test_data = TRAINING_IMAGE.select(BANDS).sampleRegions(**{\n",
    "  'collection': TEST_SET,\n",
    "  'properties': [LABEL],\n",
    "  'scale': 1\n",
    "})"
   ]
  },
  {
   "cell_type": "code",
   "execution_count": 23,
   "id": "c86b10f9",
   "metadata": {},
   "outputs": [
    {
     "data": {
      "text/plain": [
       "True"
      ]
     },
     "execution_count": 23,
     "metadata": {},
     "output_type": "execute_result"
    }
   ],
   "source": [
    "set(BANDS)==set(TRAINING_IMAGE.bandNames().getInfo())"
   ]
  },
  {
   "cell_type": "code",
   "execution_count": 24,
   "id": "1cf81505",
   "metadata": {},
   "outputs": [
    {
     "name": "stdout",
     "output_type": "stream",
     "text": [
      "Training Set Size in Pixels 169069\n"
     ]
    }
   ],
   "source": [
    "print(\"Training Set Size in Pixels\", train_data.aggregate_count('R').getInfo())"
   ]
  },
  {
   "cell_type": "code",
   "execution_count": 25,
   "id": "65c0b9e2",
   "metadata": {},
   "outputs": [
    {
     "name": "stdout",
     "output_type": "stream",
     "text": [
      "Test Set Size in Pixels 97964\n"
     ]
    }
   ],
   "source": [
    "print(\"Test Set Size in Pixels\", test_data.aggregate_count('R').getInfo())"
   ]
  },
  {
   "cell_type": "markdown",
   "id": "d2d14792",
   "metadata": {},
   "source": [
    "## Machine Learning Model"
   ]
  },
  {
   "cell_type": "code",
   "execution_count": 26,
   "id": "dc660a11",
   "metadata": {},
   "outputs": [
    {
     "data": {
      "text/plain": [
       "<ee.Classifier at 0x7f49551aeeb0>"
      ]
     },
     "execution_count": 26,
     "metadata": {},
     "output_type": "execute_result"
    }
   ],
   "source": [
    "clf = ee.Classifier.smileRandomForest(numberOfTrees = 200, minLeafPopulation = 5, bagFraction= 0.7)\\\n",
    "                   .train(train_data, LABEL, BANDS)\n",
    "clf"
   ]
  },
  {
   "cell_type": "code",
   "execution_count": 27,
   "id": "bcf11478",
   "metadata": {},
   "outputs": [],
   "source": [
    "training_image_classified = TRAINING_IMAGE.select(BANDS)\\\n",
    "                                          .classify(clf)\n"
   ]
  },
  {
   "cell_type": "code",
   "execution_count": 28,
   "id": "df6daac9",
   "metadata": {},
   "outputs": [],
   "source": [
    "legend_keys = ['water', 'vegetation_trees', 'vegetation_grass', 'turf','impervious','soil']\n",
    "legend_colors = ['#0B6AEF', '#097407', '#0CE708', '#8C46D2' ,' #A1A8AF','#D47911']\n",
    "\n",
    "Map.addLayer(training_image_classified, {'min': 1, 'max': 7, 'palette': legend_colors}, 'Classification')"
   ]
  },
  {
   "cell_type": "code",
   "execution_count": 29,
   "id": "0c879e95",
   "metadata": {
    "scrolled": true
   },
   "outputs": [
    {
     "data": {
      "text/plain": [
       "['classification']"
      ]
     },
     "execution_count": 29,
     "metadata": {},
     "output_type": "execute_result"
    }
   ],
   "source": [
    "training_image_classified.bandNames().getInfo()"
   ]
  },
  {
   "cell_type": "code",
   "execution_count": 30,
   "id": "f8a8f940",
   "metadata": {
    "scrolled": false
   },
   "outputs": [
    {
     "data": {
      "application/vnd.jupyter.widget-view+json": {
       "model_id": "cc91f02e65044b8a8e2d0ce0396e5f3f",
       "version_major": 2,
       "version_minor": 0
      },
      "text/plain": [
       "Map(center=[20, 0], controls=(WidgetControl(options=['position', 'transparent_bg'], widget=HBox(children=(Togg…"
      ]
     },
     "metadata": {},
     "output_type": "display_data"
    }
   ],
   "source": [
    "Map"
   ]
  },
  {
   "cell_type": "markdown",
   "id": "1f6104e6",
   "metadata": {},
   "source": [
    "## Evaluation Metrics\n",
    "\n",
    "### Train Accuracy"
   ]
  },
  {
   "cell_type": "code",
   "execution_count": 31,
   "id": "74cf8cc7",
   "metadata": {},
   "outputs": [],
   "source": [
    "train_accuracy = train_data.classify(clf).errorMatrix('landcover', 'classification')\n",
    "train_conf_matrix = train_accuracy.getInfo()"
   ]
  },
  {
   "cell_type": "code",
   "execution_count": 32,
   "id": "8bb5743e",
   "metadata": {},
   "outputs": [
    {
     "name": "stdout",
     "output_type": "stream",
     "text": [
      "Spot check to confirm pixel numbers: 169069\n"
     ]
    },
    {
     "data": {
      "text/plain": [
       "[[1331, 1, 0, 1, 1, 0],\n",
       " [0, 9475, 40, 8, 12, 11],\n",
       " [0, 93, 6591, 2, 0, 38],\n",
       " [0, 15, 1, 2398, 5, 0],\n",
       " [0, 3, 0, 4, 21239, 60],\n",
       " [0, 12, 1, 2, 37, 127688]]"
      ]
     },
     "execution_count": 32,
     "metadata": {},
     "output_type": "execute_result"
    }
   ],
   "source": [
    "print(f'Spot check to confirm pixel numbers: {np.array(train_conf_matrix).sum()}')\n",
    "train_conf_matrix"
   ]
  },
  {
   "cell_type": "markdown",
   "id": "2282a24a",
   "metadata": {},
   "source": [
    "### Test Accuracy"
   ]
  },
  {
   "cell_type": "code",
   "execution_count": 33,
   "id": "bd6fc759",
   "metadata": {},
   "outputs": [],
   "source": [
    "test_accuracy = test_data.classify(clf).errorMatrix('landcover', 'classification')\n",
    "test_conf_matrix = test_accuracy.getInfo()"
   ]
  },
  {
   "cell_type": "code",
   "execution_count": 34,
   "id": "c3d2bacb",
   "metadata": {},
   "outputs": [
    {
     "name": "stdout",
     "output_type": "stream",
     "text": [
      "Spot check to confirm pixel numbers: 97964\n"
     ]
    },
    {
     "data": {
      "text/plain": [
       "[[275, 0, 0, 0, 0, 0],\n",
       " [0, 2620, 141, 16, 12, 12],\n",
       " [0, 164, 1327, 3, 0, 38],\n",
       " [0, 29, 0, 602, 222, 7],\n",
       " [9, 3, 4, 847, 70443, 1647],\n",
       " [0, 36, 151, 23, 387, 18946]]"
      ]
     },
     "execution_count": 34,
     "metadata": {},
     "output_type": "execute_result"
    }
   ],
   "source": [
    "print(f'Spot check to confirm pixel numbers: {np.array(test_conf_matrix).sum()}')\n",
    "test_conf_matrix"
   ]
  },
  {
   "cell_type": "markdown",
   "id": "44864eb7",
   "metadata": {},
   "source": [
    "## Binary Classification and Area Calculation"
   ]
  },
  {
   "cell_type": "code",
   "execution_count": 35,
   "id": "ad8c6c4f",
   "metadata": {},
   "outputs": [],
   "source": [
    "def area_calculation(image, class_number, shape, pixel_scale = 20):\n",
    "\n",
    "    if type(shape) == str:\n",
    "        shape = la_county_income_zipcode.filter(ee.Filter.eq('ZipCode', shape))\n",
    "\n",
    "    areaImage = image.eq(class_number).multiply(ee.Image.pixelArea())\n",
    "\n",
    "    area = areaImage.reduceRegion(\n",
    "        reducer = ee.Reducer.sum(),\n",
    "        geometry = shape,\n",
    "        scale = pixel_scale,\n",
    "        maxPixels = 1e13)\n",
    "\n",
    "\n",
    "    area_sq_m = area.getInfo().get('classification')\n",
    "\n",
    "    area_sq_km = area_sq_m / 1e6\n",
    "\n",
    "    return area_sq_km"
   ]
  },
  {
   "cell_type": "code",
   "execution_count": 36,
   "id": "2848349d",
   "metadata": {},
   "outputs": [],
   "source": [
    "def ndvi_calculation(image, class_number, shape, ref_image, pixel_scale=1):\n",
    "    \n",
    "    if type(shape) == str:\n",
    "        shape = la_county_income_zipcode.filter(ee.Filter.eq('ZipCode', shape))\n",
    "        \n",
    "    ndvi = ref_image.normalizedDifference(['N', 'R'])\n",
    "    image_clipped = image.clip(shape)\n",
    "    \n",
    "    NDVI_for_class = ndvi.updateMask(image_clipped.select('classification').eq(class_number))\n",
    "    \n",
    "    reducer = ee.Reducer.mean()\\\n",
    "                        .combine(ee.Reducer.max(),sharedInputs=True)\\\n",
    "                        .combine(ee.Reducer.min(),sharedInputs=True)\n",
    "    \n",
    "    \n",
    "    qty = NDVI_for_class.reduceRegion(\n",
    "        reducer = reducer, \n",
    "        geometry = shape, \n",
    "        scale = pixel_scale, \n",
    "        maxPixels = 1e13)\n",
    "    return qty\n",
    "\n"
   ]
  },
  {
   "cell_type": "markdown",
   "id": "d6fd8997",
   "metadata": {},
   "source": [
    "### Create Panel Data"
   ]
  },
  {
   "cell_type": "code",
   "execution_count": 37,
   "id": "784fd2be",
   "metadata": {},
   "outputs": [],
   "source": [
    "la_county_income_zipcode2 = ee.FeatureCollection(\"projects/california-lawn-detection/assets/income_zipcode2019\")\n",
    "la_county_income_zipcode = la_county_income_zipcode2.select(ee.List(['zipcode', '2019zipcod','shape_area']), ee.List(['ZipCode', 'Median_Income','Area_sqft']))"
   ]
  },
  {
   "cell_type": "code",
   "execution_count": 38,
   "id": "a864f371",
   "metadata": {},
   "outputs": [],
   "source": [
    "year_list = [2010,2012, 2014, 2016, 2018,2020]\n",
    "zipcode_list = ['90802','90732','90744']"
   ]
  },
  {
   "cell_type": "code",
   "execution_count": 39,
   "id": "497c6be0",
   "metadata": {},
   "outputs": [
    {
     "data": {
      "text/plain": [
       "{'2010_lacounty': <ee.image.Image at 0x7f4954ebc610>,\n",
       " '2012_lacounty': <ee.image.Image at 0x7f4954ebc7f0>,\n",
       " '2014_lacounty': <ee.image.Image at 0x7f4954ebc9d0>,\n",
       " '2016_lacounty': <ee.image.Image at 0x7f4954ebcbb0>,\n",
       " '2018_lacounty': <ee.image.Image at 0x7f4954ebcd90>,\n",
       " '2020_lacounty': <ee.image.Image at 0x7f4954ebcf70>}"
      ]
     },
     "execution_count": 39,
     "metadata": {},
     "output_type": "execute_result"
    }
   ],
   "source": [
    "test_image_params = {\n",
    "        'source_image_collection' : 'USDA/NAIP/DOQQ',\n",
    "        'years' : year_list,\n",
    "        'counties': {'lacounty': la_county}\n",
    "         }\n",
    "\n",
    "inference_images = get_images(test_image_params)\n",
    "inference_images"
   ]
  },
  {
   "cell_type": "code",
   "execution_count": 40,
   "id": "4bc82b5f",
   "metadata": {},
   "outputs": [
    {
     "ename": "TypeError",
     "evalue": "ndvi_calculation() got an unexpected keyword argument 'ref'",
     "output_type": "error",
     "traceback": [
      "\u001b[0;31m---------------------------------------------------------------------------\u001b[0m",
      "\u001b[0;31mTypeError\u001b[0m                                 Traceback (most recent call last)",
      "\u001b[0;32m<ipython-input-40-0e23108744fe>\u001b[0m in \u001b[0;36m<module>\u001b[0;34m\u001b[0m\n\u001b[1;32m     42\u001b[0m         \u001b[0mdictionary\u001b[0m\u001b[0;34m[\u001b[0m\u001b[0;34m'total_area'\u001b[0m\u001b[0;34m]\u001b[0m\u001b[0;34m.\u001b[0m\u001b[0mappend\u001b[0m\u001b[0;34m(\u001b[0m\u001b[0mtotal_area\u001b[0m\u001b[0;34m)\u001b[0m\u001b[0;34m\u001b[0m\u001b[0;34m\u001b[0m\u001b[0m\n\u001b[1;32m     43\u001b[0m \u001b[0;34m\u001b[0m\u001b[0m\n\u001b[0;32m---> 44\u001b[0;31m         \u001b[0mtree_ndvi_mean\u001b[0m\u001b[0;34m,\u001b[0m \u001b[0mtree_ndvi_max\u001b[0m\u001b[0;34m,\u001b[0m \u001b[0mtree_ndvi_min\u001b[0m \u001b[0;34m=\u001b[0m \u001b[0mndvi_calculation\u001b[0m\u001b[0;34m(\u001b[0m\u001b[0mimagery\u001b[0m\u001b[0;34m,\u001b[0m \u001b[0;36m1\u001b[0m\u001b[0;34m,\u001b[0m \u001b[0mpolygon\u001b[0m\u001b[0;34m,\u001b[0m \u001b[0mref\u001b[0m \u001b[0;34m=\u001b[0m \u001b[0mim\u001b[0m\u001b[0;34m)\u001b[0m\u001b[0;34m.\u001b[0m\u001b[0mgetInfo\u001b[0m\u001b[0;34m(\u001b[0m\u001b[0;34m)\u001b[0m\u001b[0;34m.\u001b[0m\u001b[0mvalues\u001b[0m\u001b[0;34m(\u001b[0m\u001b[0;34m)\u001b[0m\u001b[0;34m\u001b[0m\u001b[0;34m\u001b[0m\u001b[0m\n\u001b[0m\u001b[1;32m     45\u001b[0m         \u001b[0mdictionary\u001b[0m\u001b[0;34m[\u001b[0m\u001b[0;34m'tree_ndvi_mean'\u001b[0m\u001b[0;34m]\u001b[0m\u001b[0;34m.\u001b[0m\u001b[0mappend\u001b[0m\u001b[0;34m(\u001b[0m\u001b[0mtree_ndvi_mean\u001b[0m\u001b[0;34m)\u001b[0m\u001b[0;34m\u001b[0m\u001b[0;34m\u001b[0m\u001b[0m\n\u001b[1;32m     46\u001b[0m         \u001b[0mdictionary\u001b[0m\u001b[0;34m[\u001b[0m\u001b[0;34m'tree_ndvi_max'\u001b[0m\u001b[0;34m]\u001b[0m\u001b[0;34m.\u001b[0m\u001b[0mappend\u001b[0m\u001b[0;34m(\u001b[0m\u001b[0mtree_ndvi_max\u001b[0m\u001b[0;34m)\u001b[0m\u001b[0;34m\u001b[0m\u001b[0;34m\u001b[0m\u001b[0m\n",
      "\u001b[0;31mTypeError\u001b[0m: ndvi_calculation() got an unexpected keyword argument 'ref'"
     ]
    }
   ],
   "source": [
    "keys = {'year','polygon','water_area','vegetation_trees_area', \n",
    "        'vegetation_grass_area', 'turf_area', 'impervious_area',\n",
    "        'soil_area', 'total_area','tree_ndvi_mean', 'tree_ndvi_max','tree_ndvi_min',\n",
    "       'grass_ndvi_mean', 'grass_ndvi_max','grass_ndvi_min'}\n",
    "\n",
    "\n",
    "dictionary = {}\n",
    "for i in keys:\n",
    "    dictionary[i] = []\n",
    "\n",
    "for i in zipcode_list:\n",
    "    for j in list(inference_images.items()):\n",
    "        im = j[1]\n",
    "        imagery = im.select(BANDS).classify(clf)\n",
    "        name = j[0]\n",
    "        \n",
    "        start = time()\n",
    "        polygon = la_county_income_zipcode.filter(ee.Filter.eq('ZipCode', i))\n",
    "\n",
    "        dictionary['year'].append(j[0][:4]) \n",
    "        dictionary['polygon'].append(i)\n",
    "\n",
    "        water_area = area_calculation(imagery, 0, polygon, 20)\n",
    "        dictionary['water_area'].append(water_area)\n",
    "\n",
    "        vegetation_trees_area = area_calculation(imagery, 1, polygon, 20)\n",
    "        dictionary['vegetation_trees_area'].append(vegetation_trees_area)\n",
    "\n",
    "        vegetation_grass_area = area_calculation(imagery, 2, polygon, 20)\n",
    "        dictionary['vegetation_grass_area'].append(vegetation_grass_area)\n",
    "\n",
    "        turf_area = area_calculation(imagery, 3, polygon, 20)\n",
    "        dictionary['turf_area'].append(turf_area)\n",
    "\n",
    "        impervious_area = area_calculation(imagery, 4, polygon, 20)\n",
    "        dictionary['impervious_area'].append(impervious_area)\n",
    "\n",
    "        soil_area = area_calculation(imagery, 5, polygon, 20)\n",
    "        dictionary['soil_area'].append(soil_area)\n",
    "\n",
    "        total_area = water_area + vegetation_trees_area + vegetation_grass_area + turf_area + impervious_area + soil_area\n",
    "        dictionary['total_area'].append(total_area)\n",
    "        \n",
    "        tree_ndvi_mean, tree_ndvi_max, tree_ndvi_min = ndvi_calculation(imagery, 1, polygon, ref = im).getInfo().values()\n",
    "        dictionary['tree_ndvi_mean'].append(tree_ndvi_mean)\n",
    "        dictionary['tree_ndvi_max'].append(tree_ndvi_max)\n",
    "        dictionary['tree_ndvi_min'].append(tree_ndvi_min)\n",
    "        \n",
    "        grass_ndvi_mean, grass_ndvi_max, grass_ndvi_min = ndvi_calculation(imagery, 2, polygon, ref = im).getInfo().values()\n",
    "        dictionary['grass_ndvi_mean'].append(grass_ndvi_mean)\n",
    "        dictionary['grass_ndvi_max'].append(grass_ndvi_max)\n",
    "        dictionary['grass_ndvi_min'].append(grass_ndvi_min)\n",
    "        \n",
    "        \n",
    "        \n",
    "        end = time()\n",
    "        print(f'Zip Code: {i}, Year: {j[0][:4]} ::: completed in {end-start} seconds.')\n",
    "              \n",
    "              \n",
    "              "
   ]
  },
  {
   "cell_type": "code",
   "execution_count": null,
   "id": "3882c52f",
   "metadata": {},
   "outputs": [],
   "source": [
    "#extract just necessary columns from dictionary dataframe\n",
    "df = pd.DataFrame(dictionary) #[['polygon','soil_area','vegetation_grass_area','water_area','vegetation_trees_area','impervious_area','turf_area']]\n",
    "df"
   ]
  },
  {
   "cell_type": "markdown",
   "id": "6a0c2724",
   "metadata": {},
   "source": [
    "### Plot Area Results"
   ]
  },
  {
   "cell_type": "code",
   "execution_count": 41,
   "id": "63299c59",
   "metadata": {},
   "outputs": [
    {
     "ename": "NameError",
     "evalue": "name 'df' is not defined",
     "output_type": "error",
     "traceback": [
      "\u001b[0;31m---------------------------------------------------------------------------\u001b[0m",
      "\u001b[0;31mNameError\u001b[0m                                 Traceback (most recent call last)",
      "\u001b[0;32m<ipython-input-41-c4e310b4b9d2>\u001b[0m in \u001b[0;36m<module>\u001b[0;34m\u001b[0m\n\u001b[1;32m      1\u001b[0m \u001b[0myears\u001b[0m\u001b[0;34m=\u001b[0m \u001b[0;34m[\u001b[0m\u001b[0;36m2010\u001b[0m\u001b[0;34m,\u001b[0m \u001b[0;36m2012\u001b[0m\u001b[0;34m,\u001b[0m \u001b[0;36m2014\u001b[0m\u001b[0;34m,\u001b[0m \u001b[0;36m2016\u001b[0m\u001b[0;34m,\u001b[0m \u001b[0;36m2018\u001b[0m\u001b[0;34m,\u001b[0m \u001b[0;36m2020\u001b[0m\u001b[0;34m]\u001b[0m\u001b[0;34m\u001b[0m\u001b[0;34m\u001b[0m\u001b[0m\n\u001b[0;32m----> 2\u001b[0;31m \u001b[0mzips\u001b[0m \u001b[0;34m=\u001b[0m \u001b[0mdf\u001b[0m\u001b[0;34m.\u001b[0m\u001b[0mpolygon\u001b[0m\u001b[0;34m.\u001b[0m\u001b[0munique\u001b[0m\u001b[0;34m(\u001b[0m\u001b[0;34m)\u001b[0m\u001b[0;34m\u001b[0m\u001b[0;34m\u001b[0m\u001b[0m\n\u001b[0m\u001b[1;32m      3\u001b[0m \u001b[0mfig\u001b[0m\u001b[0;34m,\u001b[0m \u001b[0max\u001b[0m \u001b[0;34m=\u001b[0m \u001b[0mplt\u001b[0m\u001b[0;34m.\u001b[0m\u001b[0msubplots\u001b[0m\u001b[0;34m(\u001b[0m\u001b[0;36m1\u001b[0m\u001b[0;34m,\u001b[0m\u001b[0;36m3\u001b[0m\u001b[0;34m,\u001b[0m \u001b[0mfigsize\u001b[0m \u001b[0;34m=\u001b[0m \u001b[0;34m(\u001b[0m\u001b[0;36m20\u001b[0m\u001b[0;34m,\u001b[0m\u001b[0;36m5\u001b[0m\u001b[0;34m)\u001b[0m\u001b[0;34m)\u001b[0m\u001b[0;34m\u001b[0m\u001b[0;34m\u001b[0m\u001b[0m\n\u001b[1;32m      4\u001b[0m \u001b[0;34m\u001b[0m\u001b[0m\n\u001b[1;32m      5\u001b[0m labels = [ 'soil_area',\n",
      "\u001b[0;31mNameError\u001b[0m: name 'df' is not defined"
     ]
    }
   ],
   "source": [
    "years= [2010, 2012, 2014, 2016, 2018, 2020]\n",
    "zips = df.polygon.unique()\n",
    "fig, ax = plt.subplots(1,3, figsize = (20,5))\n",
    "\n",
    "labels = [ 'soil_area',\n",
    " 'vegetation_grass_area',\n",
    " 'water_area',\n",
    " 'vegetation_trees_area',\n",
    " 'turf_area']\n",
    "\n",
    "colors = ['brown','#66CC00','#3399FF','#FF8000','#9933FF']\n",
    "\n",
    "\n",
    "for i in range(3):\n",
    "    for j in range(len(labels)):\n",
    "        if j == 'polygon':\n",
    "            continue\n",
    "        else:\n",
    "            d = df[df.polygon == zips[i]]\n",
    "            ax[i].plot(years, d[labels[j]], color = colors[j], label = labels[j])\n",
    "    ax[i].set_title(f'Zip Code: {zips[i]}', size = 15)\n",
    "    ax[i].set_xlabel('Year', size = 13)\n",
    "    ax[i].set_ylabel('Area (Square Kilometers)', size = 13)\n",
    "    ax[i].set_ylim(0,11)\n",
    "    ax[0].legend()\n",
    "    \n",
    "# plt.savefig(fname = 'test.png', dpi = 200)"
   ]
  },
  {
   "cell_type": "code",
   "execution_count": null,
   "id": "a137e2a7",
   "metadata": {},
   "outputs": [],
   "source": []
  }
 ],
 "metadata": {
  "kernelspec": {
   "display_name": "Python 3",
   "language": "python",
   "name": "python3"
  },
  "language_info": {
   "codemirror_mode": {
    "name": "ipython",
    "version": 3
   },
   "file_extension": ".py",
   "mimetype": "text/x-python",
   "name": "python",
   "nbconvert_exporter": "python",
   "pygments_lexer": "ipython3",
   "version": "3.8.8"
  }
 },
 "nbformat": 4,
 "nbformat_minor": 5
}
