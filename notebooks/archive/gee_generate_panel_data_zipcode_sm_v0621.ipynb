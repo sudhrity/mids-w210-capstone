{
 "cells": [
  {
   "cell_type": "markdown",
   "id": "273015d0",
   "metadata": {},
   "source": [
    "# Google Earth Engine Panel Data Creation"
   ]
  },
  {
   "cell_type": "markdown",
   "id": "91746692",
   "metadata": {},
   "source": [
    "## Initialize"
   ]
  },
  {
   "cell_type": "code",
   "execution_count": 1,
   "id": "7e627ea2",
   "metadata": {},
   "outputs": [
    {
     "name": "stdout",
     "output_type": "stream",
     "text": [
      "Requirement already satisfied: geemap in /opt/conda/lib/python3.8/site-packages (0.14.0)\n",
      "Requirement already satisfied: geocoder in /opt/conda/lib/python3.8/site-packages (from geemap) (1.38.1)\n",
      "Requirement already satisfied: earthengine-api>=0.1.304 in /opt/conda/lib/python3.8/site-packages (from geemap) (0.1.316)\n",
      "Requirement already satisfied: bqplot in /opt/conda/lib/python3.8/site-packages (from geemap) (0.12.33)\n",
      "Requirement already satisfied: ipyevents in /opt/conda/lib/python3.8/site-packages (from geemap) (2.0.1)\n",
      "Requirement already satisfied: folium>=0.11.0 in /opt/conda/lib/python3.8/site-packages (from geemap) (0.12.1.post1)\n",
      "Requirement already satisfied: mapclassify>=2.4.0 in /opt/conda/lib/python3.8/site-packages (from geemap) (2.4.3)\n",
      "Requirement already satisfied: colour in /opt/conda/lib/python3.8/site-packages (from geemap) (0.1.5)\n",
      "Requirement already satisfied: pandas in /opt/conda/lib/python3.8/site-packages (from geemap) (1.2.4)\n",
      "Requirement already satisfied: sankee in /opt/conda/lib/python3.8/site-packages (from geemap) (0.0.7)\n",
      "Requirement already satisfied: xyzservices in /opt/conda/lib/python3.8/site-packages (from geemap) (2022.6.0)\n",
      "Requirement already satisfied: ipytree in /opt/conda/lib/python3.8/site-packages (from geemap) (0.2.1)\n",
      "Requirement already satisfied: pycrs in /opt/conda/lib/python3.8/site-packages (from geemap) (1.0.2)\n",
      "Requirement already satisfied: matplotlib in /opt/conda/lib/python3.8/site-packages (from geemap) (3.3.4)\n",
      "Requirement already satisfied: ffmpeg-python in /opt/conda/lib/python3.8/site-packages (from geemap) (0.2.0)\n",
      "Requirement already satisfied: pyshp>=2.1.3 in /opt/conda/lib/python3.8/site-packages (from geemap) (2.3.0)\n",
      "Requirement already satisfied: jupyterlab>=3 in /opt/conda/lib/python3.8/site-packages (from geemap) (3.0.14)\n",
      "Requirement already satisfied: ipyfilechooser>=0.6.0 in /opt/conda/lib/python3.8/site-packages (from geemap) (0.6.0)\n",
      "Requirement already satisfied: geojson in /opt/conda/lib/python3.8/site-packages (from geemap) (2.5.0)\n",
      "Requirement already satisfied: gdown in /opt/conda/lib/python3.8/site-packages (from geemap) (4.5.0)\n",
      "Requirement already satisfied: numpy in /opt/conda/lib/python3.8/site-packages (from geemap) (1.20.1)\n",
      "Requirement already satisfied: whiteboxgui>=0.6.0 in /opt/conda/lib/python3.8/site-packages (from geemap) (0.7.0)\n",
      "Requirement already satisfied: ipyleaflet>=0.14.0 in /opt/conda/lib/python3.8/site-packages (from geemap) (0.16.0)\n",
      "Requirement already satisfied: pillow in /opt/conda/lib/python3.8/site-packages (from geemap) (8.2.0)\n",
      "Requirement already satisfied: python-box in /opt/conda/lib/python3.8/site-packages (from geemap) (6.0.2)\n",
      "Requirement already satisfied: ee-extra>=0.0.10 in /opt/conda/lib/python3.8/site-packages (from geemap) (0.0.13)\n",
      "Requirement already satisfied: geeadd>=0.5.1 in /opt/conda/lib/python3.8/site-packages (from geemap) (0.5.5)\n",
      "Requirement already satisfied: google-auth>=1.4.1 in /opt/conda/lib/python3.8/site-packages (from earthengine-api>=0.1.304->geemap) (2.8.0)\n",
      "Requirement already satisfied: google-cloud-storage in /opt/conda/lib/python3.8/site-packages (from earthengine-api>=0.1.304->geemap) (2.4.0)\n",
      "Requirement already satisfied: six in /opt/conda/lib/python3.8/site-packages (from earthengine-api>=0.1.304->geemap) (1.15.0)\n",
      "Requirement already satisfied: httplib2<1dev,>=0.9.2 in /opt/conda/lib/python3.8/site-packages (from earthengine-api>=0.1.304->geemap) (0.20.4)\n",
      "Requirement already satisfied: future in /opt/conda/lib/python3.8/site-packages (from earthengine-api>=0.1.304->geemap) (0.18.2)\n",
      "Requirement already satisfied: google-api-python-client<2,>=1.12.1 in /opt/conda/lib/python3.8/site-packages (from earthengine-api>=0.1.304->geemap) (1.12.11)\n",
      "Requirement already satisfied: google-auth-httplib2>=0.0.3 in /opt/conda/lib/python3.8/site-packages (from earthengine-api>=0.1.304->geemap) (0.1.0)\n",
      "Requirement already satisfied: httplib2shim in /opt/conda/lib/python3.8/site-packages (from earthengine-api>=0.1.304->geemap) (0.0.3)\n",
      "Requirement already satisfied: branca>=0.3.0 in /opt/conda/lib/python3.8/site-packages (from folium>=0.11.0->geemap) (0.5.0)\n",
      "Requirement already satisfied: requests in /opt/conda/lib/python3.8/site-packages (from folium>=0.11.0->geemap) (2.25.1)\n",
      "Requirement already satisfied: jinja2>=2.9 in /opt/conda/lib/python3.8/site-packages (from folium>=0.11.0->geemap) (2.11.3)\n",
      "Requirement already satisfied: beautifulsoup4>=4.9.0 in /opt/conda/lib/python3.8/site-packages (from geeadd>=0.5.1->geemap) (4.9.3)\n",
      "Requirement already satisfied: logzero>=1.5.0 in /opt/conda/lib/python3.8/site-packages (from geeadd>=0.5.1->geemap) (1.7.0)\n",
      "Requirement already satisfied: soupsieve>1.2 in /opt/conda/lib/python3.8/site-packages (from beautifulsoup4>=4.9.0->geeadd>=0.5.1->geemap) (2.2.1)\n",
      "Requirement already satisfied: google-api-core<3dev,>=1.21.0 in /opt/conda/lib/python3.8/site-packages (from google-api-python-client<2,>=1.12.1->earthengine-api>=0.1.304->geemap) (2.8.2)\n",
      "Requirement already satisfied: uritemplate<4dev,>=3.0.0 in /opt/conda/lib/python3.8/site-packages (from google-api-python-client<2,>=1.12.1->earthengine-api>=0.1.304->geemap) (3.0.1)\n",
      "Requirement already satisfied: googleapis-common-protos<2.0dev,>=1.56.2 in /opt/conda/lib/python3.8/site-packages (from google-api-core<3dev,>=1.21.0->google-api-python-client<2,>=1.12.1->earthengine-api>=0.1.304->geemap) (1.56.3)\n",
      "Requirement already satisfied: protobuf<5.0.0dev,>=3.15.0 in /opt/conda/lib/python3.8/site-packages (from google-api-core<3dev,>=1.21.0->google-api-python-client<2,>=1.12.1->earthengine-api>=0.1.304->geemap) (4.21.2)\n",
      "Requirement already satisfied: pyasn1-modules>=0.2.1 in /opt/conda/lib/python3.8/site-packages (from google-auth>=1.4.1->earthengine-api>=0.1.304->geemap) (0.2.8)\n",
      "Requirement already satisfied: rsa<5,>=3.1.4 in /opt/conda/lib/python3.8/site-packages (from google-auth>=1.4.1->earthengine-api>=0.1.304->geemap) (4.8)\n",
      "Requirement already satisfied: cachetools<6.0,>=2.0.0 in /opt/conda/lib/python3.8/site-packages (from google-auth>=1.4.1->earthengine-api>=0.1.304->geemap) (5.2.0)\n",
      "Requirement already satisfied: pyparsing!=3.0.0,!=3.0.1,!=3.0.2,!=3.0.3,<4,>=2.4.2 in /opt/conda/lib/python3.8/site-packages (from httplib2<1dev,>=0.9.2->earthengine-api>=0.1.304->geemap) (2.4.7)\n",
      "Requirement already satisfied: ipywidgets in /opt/conda/lib/python3.8/site-packages (from ipyfilechooser>=0.6.0->geemap) (7.6.3)\n",
      "Requirement already satisfied: traittypes<3,>=0.2.1 in /opt/conda/lib/python3.8/site-packages (from ipyleaflet>=0.14.0->geemap) (0.2.1)\n",
      "Requirement already satisfied: jupyterlab-widgets>=1.0.0 in /opt/conda/lib/python3.8/site-packages (from ipywidgets->ipyfilechooser>=0.6.0->geemap) (1.0.0)\n",
      "Requirement already satisfied: traitlets>=4.3.1 in /opt/conda/lib/python3.8/site-packages (from ipywidgets->ipyfilechooser>=0.6.0->geemap) (5.0.5)\n",
      "Requirement already satisfied: nbformat>=4.2.0 in /opt/conda/lib/python3.8/site-packages (from ipywidgets->ipyfilechooser>=0.6.0->geemap) (5.1.3)\n",
      "Requirement already satisfied: ipython>=4.0.0 in /opt/conda/lib/python3.8/site-packages (from ipywidgets->ipyfilechooser>=0.6.0->geemap) (7.22.0)\n",
      "Requirement already satisfied: widgetsnbextension~=3.5.0 in /opt/conda/lib/python3.8/site-packages (from ipywidgets->ipyfilechooser>=0.6.0->geemap) (3.5.1)\n",
      "Requirement already satisfied: ipykernel>=4.5.1 in /opt/conda/lib/python3.8/site-packages (from ipywidgets->ipyfilechooser>=0.6.0->geemap) (5.3.4)\n",
      "Requirement already satisfied: jupyter-client in /opt/conda/lib/python3.8/site-packages (from ipykernel>=4.5.1->ipywidgets->ipyfilechooser>=0.6.0->geemap) (6.1.12)\n",
      "Requirement already satisfied: tornado>=4.2 in /opt/conda/lib/python3.8/site-packages (from ipykernel>=4.5.1->ipywidgets->ipyfilechooser>=0.6.0->geemap) (6.1)\n",
      "Requirement already satisfied: pygments in /opt/conda/lib/python3.8/site-packages (from ipython>=4.0.0->ipywidgets->ipyfilechooser>=0.6.0->geemap) (2.8.1)\n",
      "Requirement already satisfied: setuptools>=18.5 in /opt/conda/lib/python3.8/site-packages (from ipython>=4.0.0->ipywidgets->ipyfilechooser>=0.6.0->geemap) (52.0.0.post20210125)\n",
      "Requirement already satisfied: jedi>=0.16 in /opt/conda/lib/python3.8/site-packages (from ipython>=4.0.0->ipywidgets->ipyfilechooser>=0.6.0->geemap) (0.17.2)\n",
      "Requirement already satisfied: prompt-toolkit!=3.0.0,!=3.0.1,<3.1.0,>=2.0.0 in /opt/conda/lib/python3.8/site-packages (from ipython>=4.0.0->ipywidgets->ipyfilechooser>=0.6.0->geemap) (3.0.17)\n",
      "Requirement already satisfied: pexpect>4.3 in /opt/conda/lib/python3.8/site-packages (from ipython>=4.0.0->ipywidgets->ipyfilechooser>=0.6.0->geemap) (4.8.0)\n",
      "Requirement already satisfied: decorator in /opt/conda/lib/python3.8/site-packages (from ipython>=4.0.0->ipywidgets->ipyfilechooser>=0.6.0->geemap) (5.0.6)\n",
      "Requirement already satisfied: backcall in /opt/conda/lib/python3.8/site-packages (from ipython>=4.0.0->ipywidgets->ipyfilechooser>=0.6.0->geemap) (0.2.0)\n",
      "Requirement already satisfied: pickleshare in /opt/conda/lib/python3.8/site-packages (from ipython>=4.0.0->ipywidgets->ipyfilechooser>=0.6.0->geemap) (0.7.5)\n",
      "Requirement already satisfied: parso<0.8.0,>=0.7.0 in /opt/conda/lib/python3.8/site-packages (from jedi>=0.16->ipython>=4.0.0->ipywidgets->ipyfilechooser>=0.6.0->geemap) (0.7.0)\n",
      "Requirement already satisfied: MarkupSafe>=0.23 in /opt/conda/lib/python3.8/site-packages (from jinja2>=2.9->folium>=0.11.0->geemap) (1.1.1)\n",
      "Requirement already satisfied: nbclassic~=0.2 in /opt/conda/lib/python3.8/site-packages (from jupyterlab>=3->geemap) (0.2.6)\n",
      "Requirement already satisfied: packaging in /opt/conda/lib/python3.8/site-packages (from jupyterlab>=3->geemap) (20.9)\n",
      "Requirement already satisfied: jupyterlab-server~=2.3 in /opt/conda/lib/python3.8/site-packages (from jupyterlab>=3->geemap) (2.4.0)\n",
      "Requirement already satisfied: jupyter-server~=1.4 in /opt/conda/lib/python3.8/site-packages (from jupyterlab>=3->geemap) (1.4.1)\n",
      "Requirement already satisfied: jupyter-packaging~=0.7 in /opt/conda/lib/python3.8/site-packages (from jupyterlab>=3->geemap) (0.7.12)\n",
      "Requirement already satisfied: jupyter-core in /opt/conda/lib/python3.8/site-packages (from jupyterlab>=3->geemap) (4.7.1)\n"
     ]
    },
    {
     "name": "stdout",
     "output_type": "stream",
     "text": [
      "Requirement already satisfied: ipython-genutils in /opt/conda/lib/python3.8/site-packages (from jupyter-server~=1.4->jupyterlab>=3->geemap) (0.2.0)\n",
      "Requirement already satisfied: Send2Trash in /opt/conda/lib/python3.8/site-packages (from jupyter-server~=1.4->jupyterlab>=3->geemap) (1.5.0)\n",
      "Requirement already satisfied: prometheus-client in /opt/conda/lib/python3.8/site-packages (from jupyter-server~=1.4->jupyterlab>=3->geemap) (0.10.1)\n",
      "Requirement already satisfied: nbconvert in /opt/conda/lib/python3.8/site-packages (from jupyter-server~=1.4->jupyterlab>=3->geemap) (6.0.7)\n",
      "Requirement already satisfied: anyio>=2.0.2 in /opt/conda/lib/python3.8/site-packages (from jupyter-server~=1.4->jupyterlab>=3->geemap) (3.6.1)\n",
      "Requirement already satisfied: pyzmq>=17 in /opt/conda/lib/python3.8/site-packages (from jupyter-server~=1.4->jupyterlab>=3->geemap) (20.0.0)\n",
      "Requirement already satisfied: terminado>=0.8.3 in /opt/conda/lib/python3.8/site-packages (from jupyter-server~=1.4->jupyterlab>=3->geemap) (0.9.4)\n",
      "Requirement already satisfied: idna>=2.8 in /opt/conda/lib/python3.8/site-packages (from anyio>=2.0.2->jupyter-server~=1.4->jupyterlab>=3->geemap) (2.10)\n",
      "Requirement already satisfied: sniffio>=1.1 in /opt/conda/lib/python3.8/site-packages (from anyio>=2.0.2->jupyter-server~=1.4->jupyterlab>=3->geemap) (1.2.0)\n",
      "Requirement already satisfied: python-dateutil>=2.1 in /opt/conda/lib/python3.8/site-packages (from jupyter-client->ipykernel>=4.5.1->ipywidgets->ipyfilechooser>=0.6.0->geemap) (2.8.1)\n",
      "Requirement already satisfied: jsonschema>=3.0.1 in /opt/conda/lib/python3.8/site-packages (from jupyterlab-server~=2.3->jupyterlab>=3->geemap) (3.2.0)\n",
      "Requirement already satisfied: babel in /opt/conda/lib/python3.8/site-packages (from jupyterlab-server~=2.3->jupyterlab>=3->geemap) (2.9.0)\n",
      "Requirement already satisfied: json5 in /opt/conda/lib/python3.8/site-packages (from jupyterlab-server~=2.3->jupyterlab>=3->geemap) (0.9.5)\n",
      "Requirement already satisfied: pyrsistent>=0.14.0 in /opt/conda/lib/python3.8/site-packages (from jsonschema>=3.0.1->jupyterlab-server~=2.3->jupyterlab>=3->geemap) (0.17.3)\n",
      "Requirement already satisfied: attrs>=17.4.0 in /opt/conda/lib/python3.8/site-packages (from jsonschema>=3.0.1->jupyterlab-server~=2.3->jupyterlab>=3->geemap) (20.3.0)\n",
      "Requirement already satisfied: networkx in /opt/conda/lib/python3.8/site-packages (from mapclassify>=2.4.0->geemap) (2.5)\n",
      "Requirement already satisfied: scikit-learn in /opt/conda/lib/python3.8/site-packages (from mapclassify>=2.4.0->geemap) (0.24.1)\n",
      "Requirement already satisfied: scipy>=1.0 in /opt/conda/lib/python3.8/site-packages (from mapclassify>=2.4.0->geemap) (1.6.2)\n",
      "Requirement already satisfied: notebook<7 in /opt/conda/lib/python3.8/site-packages (from nbclassic~=0.2->jupyterlab>=3->geemap) (6.3.0)\n",
      "Requirement already satisfied: argon2-cffi in /opt/conda/lib/python3.8/site-packages (from notebook<7->nbclassic~=0.2->jupyterlab>=3->geemap) (20.1.0)\n",
      "Requirement already satisfied: pytz>=2017.3 in /opt/conda/lib/python3.8/site-packages (from pandas->geemap) (2021.1)\n",
      "Requirement already satisfied: ptyprocess>=0.5 in /opt/conda/lib/python3.8/site-packages (from pexpect>4.3->ipython>=4.0.0->ipywidgets->ipyfilechooser>=0.6.0->geemap) (0.7.0)\n",
      "Requirement already satisfied: wcwidth in /opt/conda/lib/python3.8/site-packages (from prompt-toolkit!=3.0.0,!=3.0.1,<3.1.0,>=2.0.0->ipython>=4.0.0->ipywidgets->ipyfilechooser>=0.6.0->geemap) (0.2.5)\n",
      "Requirement already satisfied: pyasn1<0.5.0,>=0.4.6 in /opt/conda/lib/python3.8/site-packages (from pyasn1-modules>=0.2.1->google-auth>=1.4.1->earthengine-api>=0.1.304->geemap) (0.4.8)\n",
      "Requirement already satisfied: certifi>=2017.4.17 in /opt/conda/lib/python3.8/site-packages (from requests->folium>=0.11.0->geemap) (2020.12.5)\n",
      "Requirement already satisfied: chardet<5,>=3.0.2 in /opt/conda/lib/python3.8/site-packages (from requests->folium>=0.11.0->geemap) (4.0.0)\n",
      "Requirement already satisfied: urllib3<1.27,>=1.21.1 in /opt/conda/lib/python3.8/site-packages (from requests->folium>=0.11.0->geemap) (1.26.4)\n",
      "Requirement already satisfied: whitebox in /opt/conda/lib/python3.8/site-packages (from whiteboxgui>=0.6.0->geemap) (2.1.2)\n",
      "Requirement already satisfied: cffi>=1.0.0 in /opt/conda/lib/python3.8/site-packages (from argon2-cffi->notebook<7->nbclassic~=0.2->jupyterlab>=3->geemap) (1.14.5)\n",
      "Requirement already satisfied: pycparser in /opt/conda/lib/python3.8/site-packages (from cffi>=1.0.0->argon2-cffi->notebook<7->nbclassic~=0.2->jupyterlab>=3->geemap) (2.20)\n",
      "Requirement already satisfied: tqdm in /opt/conda/lib/python3.8/site-packages (from gdown->geemap) (4.59.0)\n",
      "Requirement already satisfied: filelock in /opt/conda/lib/python3.8/site-packages (from gdown->geemap) (3.0.12)\n",
      "Requirement already satisfied: ratelim in /opt/conda/lib/python3.8/site-packages (from geocoder->geemap) (0.1.6)\n",
      "Requirement already satisfied: click in /opt/conda/lib/python3.8/site-packages (from geocoder->geemap) (7.1.2)\n",
      "Requirement already satisfied: google-cloud-core<3.0dev,>=2.3.0 in /opt/conda/lib/python3.8/site-packages (from google-cloud-storage->earthengine-api>=0.1.304->geemap) (2.3.1)\n",
      "Requirement already satisfied: google-resumable-media>=2.3.2 in /opt/conda/lib/python3.8/site-packages (from google-cloud-storage->earthengine-api>=0.1.304->geemap) (2.3.3)\n",
      "Requirement already satisfied: google-crc32c<2.0dev,>=1.0 in /opt/conda/lib/python3.8/site-packages (from google-resumable-media>=2.3.2->google-cloud-storage->earthengine-api>=0.1.304->geemap) (1.3.0)\n",
      "Requirement already satisfied: kiwisolver>=1.0.1 in /opt/conda/lib/python3.8/site-packages (from matplotlib->geemap) (1.3.1)\n",
      "Requirement already satisfied: cycler>=0.10 in /opt/conda/lib/python3.8/site-packages (from matplotlib->geemap) (0.10.0)\n",
      "Requirement already satisfied: testpath in /opt/conda/lib/python3.8/site-packages (from nbconvert->jupyter-server~=1.4->jupyterlab>=3->geemap) (0.4.4)\n",
      "Requirement already satisfied: entrypoints>=0.2.2 in /opt/conda/lib/python3.8/site-packages (from nbconvert->jupyter-server~=1.4->jupyterlab>=3->geemap) (0.3)\n",
      "Requirement already satisfied: jupyterlab-pygments in /opt/conda/lib/python3.8/site-packages (from nbconvert->jupyter-server~=1.4->jupyterlab>=3->geemap) (0.1.2)\n",
      "Requirement already satisfied: pandocfilters>=1.4.1 in /opt/conda/lib/python3.8/site-packages (from nbconvert->jupyter-server~=1.4->jupyterlab>=3->geemap) (1.4.3)\n",
      "Requirement already satisfied: nbclient<0.6.0,>=0.5.0 in /opt/conda/lib/python3.8/site-packages (from nbconvert->jupyter-server~=1.4->jupyterlab>=3->geemap) (0.5.3)\n",
      "Requirement already satisfied: defusedxml in /opt/conda/lib/python3.8/site-packages (from nbconvert->jupyter-server~=1.4->jupyterlab>=3->geemap) (0.7.1)\n",
      "Requirement already satisfied: mistune<2,>=0.8.1 in /opt/conda/lib/python3.8/site-packages (from nbconvert->jupyter-server~=1.4->jupyterlab>=3->geemap) (0.8.4)\n",
      "Requirement already satisfied: bleach in /opt/conda/lib/python3.8/site-packages (from nbconvert->jupyter-server~=1.4->jupyterlab>=3->geemap) (3.3.0)\n",
      "Requirement already satisfied: async-generator in /opt/conda/lib/python3.8/site-packages (from nbclient<0.6.0,>=0.5.0->nbconvert->jupyter-server~=1.4->jupyterlab>=3->geemap) (1.10)\n",
      "Requirement already satisfied: nest-asyncio in /opt/conda/lib/python3.8/site-packages (from nbclient<0.6.0,>=0.5.0->nbconvert->jupyter-server~=1.4->jupyterlab>=3->geemap) (1.5.1)\n",
      "Requirement already satisfied: webencodings in /opt/conda/lib/python3.8/site-packages (from bleach->nbconvert->jupyter-server~=1.4->jupyterlab>=3->geemap) (0.5.1)\n",
      "Requirement already satisfied: PySocks!=1.5.7,>=1.5.6 in /opt/conda/lib/python3.8/site-packages (from requests->folium>=0.11.0->geemap) (1.7.1)\n",
      "Requirement already satisfied: plotly>=5.2.2 in /opt/conda/lib/python3.8/site-packages (from sankee->geemap) (5.9.0)\n",
      "Requirement already satisfied: tenacity>=6.2.0 in /opt/conda/lib/python3.8/site-packages (from plotly>=5.2.2->sankee->geemap) (8.0.1)\n",
      "Requirement already satisfied: joblib>=0.11 in /opt/conda/lib/python3.8/site-packages (from scikit-learn->mapclassify>=2.4.0->geemap) (1.0.1)\n",
      "Requirement already satisfied: threadpoolctl>=2.0.0 in /opt/conda/lib/python3.8/site-packages (from scikit-learn->mapclassify>=2.4.0->geemap) (2.1.0)\n"
     ]
    }
   ],
   "source": [
    "!pip install geemap\n",
    "# !pip install ee"
   ]
  },
  {
   "cell_type": "code",
   "execution_count": 2,
   "id": "1da56e30",
   "metadata": {},
   "outputs": [],
   "source": [
    "#GEE specific\n",
    "import ee\n",
    "import geemap\n",
    "import math\n",
    "\n",
    "#plotting and functions\n",
    "import numpy as np\n",
    "import pandas as pd\n",
    "import matplotlib.pyplot as plt\n",
    "import itertools\n",
    "from time import time"
   ]
  },
  {
   "cell_type": "code",
   "execution_count": 3,
   "id": "2a207ebe",
   "metadata": {},
   "outputs": [],
   "source": [
    "# Postgres\n",
    "import psycopg2"
   ]
  },
  {
   "cell_type": "code",
   "execution_count": 4,
   "id": "0faeda22",
   "metadata": {},
   "outputs": [],
   "source": [
    "#!pip install pycodestyle\n",
    "#!pip install pyflakes\n",
    "#!pip install --upgrade pyflakes\n",
    "#!pip install uszipcode"
   ]
  },
  {
   "cell_type": "code",
   "execution_count": 5,
   "id": "2d37b28c",
   "metadata": {},
   "outputs": [],
   "source": [
    "from uszipcode import SearchEngine"
   ]
  },
  {
   "cell_type": "code",
   "execution_count": 6,
   "id": "f915e006",
   "metadata": {},
   "outputs": [],
   "source": [
    "#Initialize Google Earth Engine\n",
    "# ee.Authenticate() #just needed the 1st time\n",
    "ee.Initialize()"
   ]
  },
  {
   "cell_type": "code",
   "execution_count": 7,
   "id": "b689cd0c",
   "metadata": {},
   "outputs": [],
   "source": [
    "# Check if geemap is working as intended - plot the leaflet map\n",
    "Map = geemap.Map()"
   ]
  },
  {
   "cell_type": "markdown",
   "id": "b160d162",
   "metadata": {},
   "source": [
    "## Load Feature Collection - Shapefiles"
   ]
  },
  {
   "cell_type": "code",
   "execution_count": 8,
   "id": "68d5726c",
   "metadata": {},
   "outputs": [],
   "source": [
    "#Data loads\n",
    "\n",
    "#loads feature collection data from Google Earth Engine - We can also upload other feature collections\n",
    "counties = ee.FeatureCollection(\"TIGER/2018/Counties\")\n",
    "\n",
    "#filter LA County\n",
    "la_county = counties.filter(ee.Filter.eq('NAME', 'Los Angeles'))\n",
    "sc_county = counties.filter(ee.Filter.eq('NAME', 'Santa Clara'))"
   ]
  },
  {
   "cell_type": "code",
   "execution_count": 9,
   "id": "f81581ba",
   "metadata": {},
   "outputs": [
    {
     "data": {
      "text/plain": [
       "(<ee.featurecollection.FeatureCollection at 0x7f9fd75016a0>,\n",
       " <ee.featurecollection.FeatureCollection at 0x7f9fd7501880>)"
      ]
     },
     "execution_count": 9,
     "metadata": {},
     "output_type": "execute_result"
    }
   ],
   "source": [
    "la_county, sc_county"
   ]
  },
  {
   "cell_type": "code",
   "execution_count": 10,
   "id": "e91daddc",
   "metadata": {},
   "outputs": [],
   "source": [
    "#Income Data\n",
    "la_county_income = ee.FeatureCollection(\"projects/california-lawn-detection/assets/lacountyincome-final\")"
   ]
  },
  {
   "cell_type": "markdown",
   "id": "fe7e944d",
   "metadata": {},
   "source": [
    "## Load NAIP Imagery"
   ]
  },
  {
   "cell_type": "code",
   "execution_count": 11,
   "id": "dd1cd474",
   "metadata": {},
   "outputs": [],
   "source": [
    "def apply_3bands(image, band):\n",
    "    i_8_bit = image.select(band).toUint8()\n",
    "    square = ee.Kernel.square(**{'radius': 4})\n",
    "    entropy = i_8_bit.entropy(square)\n",
    "    glcm = i_8_bit.glcmTexture(**{'size': 4})\n",
    "    contrast = glcm.select(str(band)+'_contrast')\n",
    "    \n",
    "    # Create a list of weights for a 9x9 kernel.\n",
    "    list = [1, 1, 1, 1, 1, 1, 1, 1, 1]\n",
    "    # The center of the kernel is zero.\n",
    "    centerList = [1, 1, 1, 1, 0, 1, 1, 1, 1]\n",
    "    # Assemble a list of lists: the 9x9 kernel weights as a 2-D matrix.\n",
    "    lists = [list, list, list, list, centerList, list, list, list, list]\n",
    "    # Create the kernel from the weights.\n",
    "    # Non-zero weights represent the spatial neighborhood.\n",
    "    kernel = ee.Kernel.fixed(9, 9, lists, -4, -4, False)\n",
    "    neighs = i_8_bit.neighborhoodToBands(kernel)\n",
    "    gearys = i_8_bit.subtract(neighs).pow(2).reduce(ee.Reducer.sum()).divide(math.pow(9, 2))\n",
    "    image = image.addBands(entropy.rename(str(band)+'_Entropy')).addBands(contrast.rename(str(band)+'_Contrast')).addBands(gearys.rename(str(band)+'_Gearys'))   \n",
    "    return image\n",
    "\n",
    "def add_neighborhood_bands(image):\n",
    "    bands = ['R', 'G', 'B', 'N']\n",
    "    for band in bands:\n",
    "        image = apply_3bands(image, band)\n",
    "    return image\n",
    "    \n",
    "def add_NDVI(image):\n",
    "    image = image.addBands(image.normalizedDifference(['N','R']).rename('NDVI'))\n",
    "    return image\n",
    "     "
   ]
  },
  {
   "cell_type": "code",
   "execution_count": 12,
   "id": "d504a124",
   "metadata": {},
   "outputs": [],
   "source": [
    "def get_images(param_dict):\n",
    "    source_image_collection = params['source_image_collection']\n",
    "    years = param_dict['years']\n",
    "    counties = param_dict['counties']\n",
    "\n",
    "    image_names = []\n",
    "    images = []\n",
    "\n",
    "    combos = list(itertools.product(years, counties.keys()))\n",
    "    for i in combos:\n",
    "        year = str(i[0])\n",
    "        county = i[1]\n",
    "\n",
    "        image_name = str(i[0])+'_'+i[1]\n",
    "        image_names.append(image_name)\n",
    "\n",
    "        image = ee.ImageCollection(source_image_collection)\\\n",
    "                                .filterDate(f'{year}-01-01', f'{year}-12-31')\\\n",
    "                                .select(['R','G','B','N'])\\\n",
    "                                .median().clip(counties[county])\n",
    "        images.append(image)\n",
    "        images_with_3band = list(map(add_neighborhood_bands, images))\n",
    "        images_with_NDVI = list(map(add_NDVI, images_with_3band))\n",
    "    return dict(zip(image_names, images_with_NDVI))\n",
    "\n",
    "    \n",
    "    "
   ]
  },
  {
   "cell_type": "code",
   "execution_count": 13,
   "id": "a0b9b895",
   "metadata": {},
   "outputs": [
    {
     "data": {
      "text/plain": [
       "{'2010_la_county': <ee.image.Image at 0x7f9fd7238430>,\n",
       " '2010_sc_county': <ee.image.Image at 0x7f9fd7238610>,\n",
       " '2012_la_county': <ee.image.Image at 0x7f9fd72387f0>,\n",
       " '2012_sc_county': <ee.image.Image at 0x7f9fd72389d0>,\n",
       " '2014_la_county': <ee.image.Image at 0x7f9fd7238bb0>,\n",
       " '2014_sc_county': <ee.image.Image at 0x7f9fd7238d90>,\n",
       " '2016_la_county': <ee.image.Image at 0x7f9fd7238f70>,\n",
       " '2016_sc_county': <ee.image.Image at 0x7f9fd723c190>,\n",
       " '2018_la_county': <ee.image.Image at 0x7f9fd723c370>,\n",
       " '2018_sc_county': <ee.image.Image at 0x7f9fd723c550>,\n",
       " '2020_la_county': <ee.image.Image at 0x7f9fd723c730>,\n",
       " '2020_sc_county': <ee.image.Image at 0x7f9fd723c910>}"
      ]
     },
     "execution_count": 13,
     "metadata": {},
     "output_type": "execute_result"
    }
   ],
   "source": [
    "params = {\n",
    "        'source_image_collection' : 'USDA/NAIP/DOQQ',\n",
    "        'years' : [2010,2012,2014,2016,2018,2020],\n",
    "        'counties': {'la_county': la_county, 'sc_county': sc_county}\n",
    "         }\n",
    "\n",
    "images = get_images(params)\n",
    "images"
   ]
  },
  {
   "cell_type": "code",
   "execution_count": 14,
   "id": "a8ba3182",
   "metadata": {},
   "outputs": [
    {
     "data": {
      "text/plain": [
       "['R',\n",
       " 'G',\n",
       " 'B',\n",
       " 'N',\n",
       " 'R_Entropy',\n",
       " 'R_Contrast',\n",
       " 'R_Gearys',\n",
       " 'G_Entropy',\n",
       " 'G_Contrast',\n",
       " 'G_Gearys',\n",
       " 'B_Entropy',\n",
       " 'B_Contrast',\n",
       " 'B_Gearys',\n",
       " 'N_Entropy',\n",
       " 'N_Contrast',\n",
       " 'N_Gearys',\n",
       " 'NDVI']"
      ]
     },
     "execution_count": 14,
     "metadata": {},
     "output_type": "execute_result"
    }
   ],
   "source": [
    "#see what bands each image has:\n",
    "images['2020_la_county'].bandNames().getInfo()"
   ]
  },
  {
   "cell_type": "code",
   "execution_count": 15,
   "id": "a074560d",
   "metadata": {},
   "outputs": [],
   "source": [
    "#test to see if NAIP plot looks correct\n",
    "Map.addLayer(images['2020_la_county'], {}, 'NAIP Test')"
   ]
  },
  {
   "cell_type": "code",
   "execution_count": 16,
   "id": "ab930037",
   "metadata": {},
   "outputs": [
    {
     "data": {
      "text/plain": [
       "<ee.image.Image at 0x7f9fd74b8f10>"
      ]
     },
     "execution_count": 16,
     "metadata": {},
     "output_type": "execute_result"
    }
   ],
   "source": [
    "#test to see if NDVI plot looks correct (define a different location in santa clara county just for visibility)\n",
    "source_image = images['2020_sc_county']\n",
    "\n",
    "test_ndvi = source_image.normalizedDifference(['N', 'R']).rename('2020_NDVI')\n",
    "test_ndvi"
   ]
  },
  {
   "cell_type": "code",
   "execution_count": 17,
   "id": "493dfee4",
   "metadata": {},
   "outputs": [
    {
     "data": {
      "application/vnd.jupyter.widget-view+json": {
       "model_id": "ce9678c80ae44566b5c7414910108a95",
       "version_major": 2,
       "version_minor": 0
      },
      "text/plain": [
       "Map(center=[20, 0], controls=(WidgetControl(options=['position', 'transparent_bg'], widget=HBox(children=(Togg…"
      ]
     },
     "metadata": {},
     "output_type": "display_data"
    }
   ],
   "source": [
    "Map.addLayer(test_ndvi,{min : -1, max : 1, 'palette' : ['blue', 'white', 'green']}, 'NDVI Test')\n",
    "Map"
   ]
  },
  {
   "cell_type": "markdown",
   "id": "f2558542",
   "metadata": {},
   "source": [
    "## Load Labeled Data"
   ]
  },
  {
   "cell_type": "code",
   "execution_count": 17,
   "id": "0d33676e",
   "metadata": {},
   "outputs": [],
   "source": [
    "PROJECT_DIR = 'projects/california-lawn-detection/assets/'\n",
    "\n",
    "water = ee.FeatureCollection(f\"{PROJECT_DIR}water_torrance_0610\")\n",
    "vegetation_trees = ee.FeatureCollection(f\"{PROJECT_DIR}trees_torrance\")\n",
    "vegetation_grass = ee.FeatureCollection(f\"{PROJECT_DIR}grass_torrance\").limit(400)\n",
    "turf_1 = ee.FeatureCollection(f\"{PROJECT_DIR}turf_torrance1\")\n",
    "turf_2 = ee.FeatureCollection(f\"{PROJECT_DIR}turf_torrance2\")\n",
    "pv = ee.FeatureCollection(f\"{PROJECT_DIR}pv_torrance\")\n",
    "impervious_1 = ee.FeatureCollection(f\"{PROJECT_DIR}impervious_torrance1\").limit(40)\n",
    "impervious_2 = ee.FeatureCollection(f\"{PROJECT_DIR}impervious_torrance2\").limit(40)\n",
    "soil = ee.FeatureCollection(f\"{PROJECT_DIR}soil_torrance\").limit(40)\n",
    "\n",
    "turf = turf_1.merge(turf_2)\n",
    "impervious= impervious_1.merge(impervious_2)\n",
    "\n",
    "LABELED_SET = water.merge(vegetation_trees)\\\n",
    "                   .merge(vegetation_grass)\\\n",
    "                   .merge(turf)\\\n",
    "                   .merge(impervious)\\\n",
    "                   .merge(soil)\n",
    "    \n",
    "Map.addLayer(LABELED_SET, {}, 'labeled_set')"
   ]
  },
  {
   "cell_type": "code",
   "execution_count": 18,
   "id": "e01a8608",
   "metadata": {
    "scrolled": false
   },
   "outputs": [
    {
     "data": {
      "application/vnd.jupyter.widget-view+json": {
       "model_id": "8d19ae45408e4c7ea141df01129820f7",
       "version_major": 2,
       "version_minor": 0
      },
      "text/plain": [
       "Map(bottom=754.0, center=[20, 0], controls=(WidgetControl(options=['position', 'transparent_bg'], widget=HBox(…"
      ]
     },
     "metadata": {},
     "output_type": "display_data"
    }
   ],
   "source": [
    "Map"
   ]
  },
  {
   "cell_type": "markdown",
   "id": "233f77a7",
   "metadata": {},
   "source": [
    "## Build Training Set"
   ]
  },
  {
   "cell_type": "code",
   "execution_count": 19,
   "id": "528cdd27",
   "metadata": {},
   "outputs": [],
   "source": [
    "training_image_params = {\n",
    "        'source_image_collection' : 'USDA/NAIP/DOQQ',\n",
    "        'years' : [2020],\n",
    "        'counties': {'lacounty': la_county}\n",
    "         }\n",
    "\n",
    "TRAINING_IMAGE = get_images(training_image_params)['2020_lacounty']"
   ]
  },
  {
   "cell_type": "code",
   "execution_count": 20,
   "id": "6cb91653",
   "metadata": {},
   "outputs": [],
   "source": [
    "# Overlay the points on the imagery to get training.\n",
    "LABEL = 'landcover'\n",
    "BANDS = ['R', 'G', 'B', 'N', 'NDVI',\n",
    "         'R_Entropy',\n",
    "         'R_Contrast',\n",
    "         'R_Gearys',\n",
    "         'G_Entropy',\n",
    "         'G_Contrast',\n",
    "         'G_Gearys',\n",
    "         'B_Entropy',\n",
    "         'B_Contrast',\n",
    "         'B_Gearys',\n",
    "         'N_Entropy',\n",
    "         'N_Contrast', \n",
    "         'N_Gearys']\n",
    "\n",
    "training_set = TRAINING_IMAGE.select(BANDS).sampleRegions(**{\n",
    "  'collection': LABELED_SET,\n",
    "  'properties': [LABEL],\n",
    "  'scale': 1\n",
    "})"
   ]
  },
  {
   "cell_type": "code",
   "execution_count": 21,
   "id": "c31032ec",
   "metadata": {},
   "outputs": [
    {
     "data": {
      "text/plain": [
       "True"
      ]
     },
     "execution_count": 21,
     "metadata": {},
     "output_type": "execute_result"
    }
   ],
   "source": [
    "set(BANDS)==set(TRAINING_IMAGE.bandNames().getInfo())"
   ]
  },
  {
   "cell_type": "code",
   "execution_count": 22,
   "id": "88dfe78e",
   "metadata": {},
   "outputs": [],
   "source": [
    "def training_area(image, training_class):\n",
    "    \n",
    "    area = image.reduceRegion(\n",
    "           reducer = ee.Reducer.count(), \n",
    "           geometry = training_class.geometry(), \n",
    "           scale = 2, \n",
    "           maxPixels = 1e13\n",
    "                )\n",
    "\n",
    "    return(area.getInfo().get('B'))"
   ]
  },
  {
   "cell_type": "code",
   "execution_count": 23,
   "id": "8850ec97",
   "metadata": {},
   "outputs": [],
   "source": [
    "def training_polygons(training_class):\n",
    "    return(training_class.aggregate_count('label').getInfo())"
   ]
  },
  {
   "cell_type": "code",
   "execution_count": 24,
   "id": "f9df403c",
   "metadata": {},
   "outputs": [
    {
     "name": "stdout",
     "output_type": "stream",
     "text": [
      "water pixels: 486 , polygons 199\n",
      "vegetation_trees pixels: 17125 , polygons 772\n",
      "vegetation_grass pixels: 23681 , polygons 400\n",
      "turf pixels: 857 , polygons 215\n",
      "pv pixels: 1723 , polygons 344\n",
      "impervious pixels: 20360 , polygons 80\n",
      "soil pixels: 8761 , polygons 40\n"
     ]
    }
   ],
   "source": [
    "# training information\n",
    "training_classes = [water,\n",
    "                         vegetation_trees,\n",
    "                         vegetation_grass,\n",
    "                         turf,\n",
    "                         pv,\n",
    "                         impervious,\n",
    "                         soil]\n",
    "\n",
    "class_names = ['water',\n",
    "                         'vegetation_trees',\n",
    "                         'vegetation_grass',\n",
    "                         'turf',\n",
    "                         'pv',\n",
    "                         'impervious',\n",
    "                         'soil']\n",
    "\n",
    "try:\n",
    "    for i in range(len(training_classes)):\n",
    "        area_i = training_area(TRAINING_IMAGE, training_classes[i])\n",
    "        polygons_i = training_polygons(training_classes[i])\n",
    "        print(class_names[i],\"pixels:\", area_i ,\", polygons\", polygons_i)\n",
    "except:\n",
    "    print('ERROR. POSSIBLE MISMATCH IN CLASSES LIST AND NAMES LIST SIZES')\n",
    "\n"
   ]
  },
  {
   "cell_type": "markdown",
   "id": "435516c5",
   "metadata": {},
   "source": [
    "## Separate Training Data into Train/Test"
   ]
  },
  {
   "cell_type": "code",
   "execution_count": 25,
   "id": "0b0ec123",
   "metadata": {},
   "outputs": [
    {
     "name": "stdout",
     "output_type": "stream",
     "text": [
      "Labeled Set Size in Pixels 284710\n",
      "Training Set Size in Pixels 227871\n",
      "Test Set Size in Pixels 56839\n"
     ]
    }
   ],
   "source": [
    "#Split Training and Test Set Randomly - there might be a better way to do this\n",
    "print(\"Labeled Set Size in Pixels\", training_set.aggregate_count('R').getInfo())\n",
    "sample = training_set.randomColumn()\n",
    "trainingSample = sample.filter('random <= 0.8')\n",
    "validationSample = sample.filter('random > 0.8')\n",
    "print(\"Training Set Size in Pixels\", trainingSample.aggregate_count('R').getInfo())\n",
    "print(\"Test Set Size in Pixels\", validationSample.aggregate_count('R').getInfo())"
   ]
  },
  {
   "cell_type": "markdown",
   "id": "f142f147",
   "metadata": {},
   "source": [
    "## Machine Learning Model"
   ]
  },
  {
   "cell_type": "code",
   "execution_count": 26,
   "id": "8eba5df3",
   "metadata": {},
   "outputs": [
    {
     "data": {
      "text/plain": [
       "<ee.Classifier at 0x7faa8ba69280>"
      ]
     },
     "execution_count": 26,
     "metadata": {},
     "output_type": "execute_result"
    }
   ],
   "source": [
    "clf = ee.Classifier.smileRandomForest(numberOfTrees = 100).train(trainingSample, LABEL, BANDS)\n",
    "clf"
   ]
  },
  {
   "cell_type": "code",
   "execution_count": 27,
   "id": "330a5e3c",
   "metadata": {},
   "outputs": [],
   "source": [
    "training_image_classified = TRAINING_IMAGE.select(BANDS).classify(clf)"
   ]
  },
  {
   "cell_type": "code",
   "execution_count": 28,
   "id": "5e8e5900",
   "metadata": {},
   "outputs": [],
   "source": [
    "legend_keys = ['water', 'vegetation_trees', 'vegetation_grass', 'turf','impervious','soil']\n",
    "legend_colors = ['#0B6AEF', '#097407', '#0CE708', '#8C46D2' ,' #A1A8AF','#D47911']\n",
    "\n",
    "Map.addLayer(training_image_classified, {'min': 1, 'max': 7, 'palette': legend_colors}, 'Classification')"
   ]
  },
  {
   "cell_type": "code",
   "execution_count": 29,
   "id": "72d2dbde",
   "metadata": {
    "scrolled": false
   },
   "outputs": [
    {
     "data": {
      "application/vnd.jupyter.widget-view+json": {
       "model_id": "8d19ae45408e4c7ea141df01129820f7",
       "version_major": 2,
       "version_minor": 0
      },
      "text/plain": [
       "Map(bottom=754.0, center=[20, 0], controls=(WidgetControl(options=['position', 'transparent_bg'], widget=HBox(…"
      ]
     },
     "metadata": {},
     "output_type": "display_data"
    }
   ],
   "source": [
    "Map"
   ]
  },
  {
   "cell_type": "markdown",
   "id": "cbfc567d",
   "metadata": {},
   "source": [
    "## Evaluation Metrics\n",
    "\n",
    "### Train Accuracy"
   ]
  },
  {
   "cell_type": "code",
   "execution_count": 30,
   "id": "79962925",
   "metadata": {},
   "outputs": [],
   "source": [
    "# train_accuracy = trainingSample.classify(clf).errorMatrix('landcover', 'classification')\n",
    "# train_accuracy.getInfo()"
   ]
  },
  {
   "cell_type": "code",
   "execution_count": 31,
   "id": "07d182e9",
   "metadata": {},
   "outputs": [],
   "source": [
    "# train_accuracy.accuracy().getInfo()"
   ]
  },
  {
   "cell_type": "code",
   "execution_count": 32,
   "id": "f02d66a8",
   "metadata": {},
   "outputs": [],
   "source": [
    "# np.array(train_accuracy.getInfo()).sum()"
   ]
  },
  {
   "cell_type": "markdown",
   "id": "0dedfd58",
   "metadata": {},
   "source": [
    "### Test Accuracy"
   ]
  },
  {
   "cell_type": "code",
   "execution_count": 33,
   "id": "43ebe93f",
   "metadata": {},
   "outputs": [],
   "source": [
    "# test_accuracy = validationSample.classify(clf).errorMatrix('landcover', 'classification')"
   ]
  },
  {
   "cell_type": "code",
   "execution_count": 34,
   "id": "78cf93e8",
   "metadata": {},
   "outputs": [],
   "source": [
    "# test_accuracy.accuracy().getInfo()"
   ]
  },
  {
   "cell_type": "code",
   "execution_count": 35,
   "id": "9fc97534",
   "metadata": {},
   "outputs": [],
   "source": [
    "# np.array(test_accuracy.getInfo()).sum()"
   ]
  },
  {
   "cell_type": "markdown",
   "id": "2dc90667",
   "metadata": {},
   "source": [
    "## Binary Classification and Area Calculation"
   ]
  },
  {
   "cell_type": "code",
   "execution_count": 36,
   "id": "7f8c69e8",
   "metadata": {},
   "outputs": [],
   "source": [
    "def area_calculation(image, class_number, shape, pixel_scale = 20):\n",
    "    \n",
    "    areaImage = image.eq(class_number).multiply(ee.Image.pixelArea())\n",
    "    \n",
    "    area = areaImage.reduceRegion(\n",
    "        reducer = ee.Reducer.sum(), \n",
    "        geometry = shape.geometry(), \n",
    "        scale = pixel_scale, \n",
    "        maxPixels = 1e13)\n",
    "    \n",
    "    area_sq_m = area.getInfo().get('classification')\n",
    "    \n",
    "    area_sq_km = area_sq_m / 1e6\n",
    "    \n",
    "    return area_sq_km"
   ]
  },
  {
   "cell_type": "markdown",
   "id": "7df9a121",
   "metadata": {},
   "source": [
    "### Create Panel Data"
   ]
  },
  {
   "cell_type": "code",
   "execution_count": 37,
   "id": "e2be115c",
   "metadata": {},
   "outputs": [],
   "source": [
    "la_county_income_zipcode2 = ee.FeatureCollection(\"projects/california-lawn-detection/assets/income_zipcode2019\")\n",
    "la_county_income_zipcode = la_county_income_zipcode2.select(ee.List(['zipcode', '2019zipcod','shape_area']), ee.List(['ZipCode', 'Median_Income','Area_sqft']))"
   ]
  },
  {
   "cell_type": "code",
   "execution_count": 47,
   "id": "96b49bec",
   "metadata": {},
   "outputs": [],
   "source": [
    "year_list = [2010,2012, 2014, 2016, 2018,2020]\n",
    "zipcode_list = ['90802','90732','90744', '90011', '91331', '90650', '90201', '90250', '90044', '90805', '90280', '91342', '91744', '91335', '91706', '90706', '90003']"
   ]
  },
  {
   "cell_type": "code",
   "execution_count": null,
   "id": "ad48e1d3",
   "metadata": {},
   "outputs": [],
   "source": [
    "#https://www.zillow.com/browse/homes/ca/los-angeles-county/\n",
    "\n",
    "'90011', '91331', '90650', '90201', '90250', '90044', '90805', '90280', '91342', '91744', '91335', '91706', '90706', '90003', \n",
    "'93550', '90255', '93535', '91766', '90262', '91402', '93536', '90631', '90026', '90022', '91343', '90037', '90660', '90019',\n",
    "'91770', '90640', '90042', '90001', '90731', '90066', '91732', '90004', '90006', '91702', '90813', '91406', '90744', '91605',\n",
    "'91405', '91304', '91801', '91745', '90723', '93551', '90018', '90063', '90745', '90221', '90002', '90034', '91344', '90047',\n",
    "'90220', '90046', '91767', '90703', '90023', '90065', '90638', '90057', '91789', '90032', '91306', '90033', '90025', '91352',\n",
    "'91790', '90027', '91733', '90247', '90016', '90007', '90059', '90043', '90024', '91765', '91367', '90503', '90241', '91748',\n",
    "'92821', '90242', '90604', '90806', '91311', '91355', '90275', '91606', '91016', '90045', '90501', '93534', '91401', '90815',\n",
    "'90605', '90804', '90278', '90810', '90808', '90301', '91776', '90031', '90020', '91325', '91387', '90505', '90036', '90802',\n",
    "'93552', '91350', '91321', '91601', '91001', '91711', '91104', '91340', '90012', '90049', '90062', '90266', '91326', '90260',\n",
    "'90029', '91780', '90277', '91006', '91750', '91768', '91722', '91007', '91206', '90504', '91754', '91107', '90606', '90222',\n",
    "'91773', '91423', '91791', '90008', '90601', '90005', '91324', '90807', '90230', '91303', '91214', '91604', '91731', '90712',\n",
    "'91505', '91607', '90028', '90803', '91356', '91792', '91316', '90061', '91746', '91351', '91803', '90039', '90302', '90041',\n",
    "'90710', '90713', '91724', '91741', '90035', '90405', '90017', '91301', '90038', '91103', '90064',\n",
    "'90249',\n",
    "'91740',\n",
    "'91364',\n",
    "'90291',\n",
    "'91755',\n",
    "'90304',\n",
    "'91384',\n",
    "'91010',\n",
    "'90270',\n",
    "'90274',\n",
    "'91042',\n",
    "'91030',\n",
    "'91354',\n",
    "'91302',\n",
    "'91307',\n",
    "'90240',\n",
    "'91411',\n",
    "'91403',\n",
    "'91504',\n",
    "'91775',\n",
    "'90746',\n",
    "'90303',\n",
    "'90015',\n",
    "'90292',\n",
    "'91106',\n",
    "'90403',\n",
    "'91390',\n",
    "'91201',\n",
    "'90602',\n",
    "'90404',\n",
    "'90732',\n",
    "'91011',\n",
    "'90272',\n",
    "'91202',\n",
    "'91040',\n",
    "'90265',\n",
    "'90068',\n",
    "'90069',\n",
    "'90717',\n",
    "'91501',\n",
    "'90048',\n",
    "'91101',\n",
    "'90210',\n",
    "'91602',\n",
    "'90603',\n",
    "'90254',\n",
    "'90715',\n",
    "'90670',\n",
    "# '90502'\n",
    "# '91204'\n",
    "# '91203'\n",
    "# '91506'\n",
    "# '91723'\n",
    "# '91361'\n",
    "# '90701'\n",
    "# '90245'\n",
    "# '90232'\n",
    "# '91208'\n",
    "# '90248'\n",
    "# '91436'\n",
    "# '91105'\n",
    "# '90716'\n",
    "# '91381'\n",
    "# '93543'\n",
    "# '90305'\n",
    "# '91108'\n",
    "# '90212'\n",
    "# '90040'\n",
    "# '90293'\n",
    "# '91502'\n",
    "# '90755'\n",
    "# '90402'\n",
    "# '91207'\n",
    "# '90013'\n",
    "# '90010'\n",
    "# '91024'\n",
    "# '90056'\n",
    "# '90211'\n",
    "# '90077'\n",
    "# '90094'\n",
    "# '90290'\n",
    "# '90401'\n",
    "# '91020'\n",
    "# '90095'\n",
    "# '90014'\n",
    "# '93591'\n",
    "# '93510'\n",
    "# '90058'\n",
    "# '90021'\n",
    "# '90704'\n",
    "# '90089'\n",
    "# '93532'\n",
    "# '93553'\n",
    "# '90067'\n",
    "# '93544'\n",
    "# '90071'\n",
    "# '92397'\n",
    "# '93243'\n",
    "# '91210'\n",
    "# '90639'\n",
    "# '91008'\n",
    "# '91371'\n",
    "# '91759'\n",
    "# '91129'\n",
    "# '90506'\n",
    "# '90840'\n",
    "# '91608'\n",
    "# '90831'\n",
    "# '93563'\n",
    "# '90822'\n",
    "# '90073'\n",
    "# '91188'\n",
    "# '90090'\n",
    "# '91749'\n",
    "# '91756'\n",
    "# '91769'\n",
    "# '91771'\n",
    "# '91772'\n",
    "# '91778'\n",
    "# '91788'\n",
    "# '91795'\n",
    "# '91793'\n",
    "# '91797'\n",
    "# '91799'\n",
    "# '91802'\n",
    "# '91841'\n",
    "# '91804'\n",
    "# '91899'\n",
    "# '91896'\n",
    "# '92248'\n",
    "# '93539'\n",
    "# '93584'\n",
    "# '93590'\n",
    "# '93586'\n",
    "# '93599'\n",
    "# '90009'\n",
    "# '90030'\n",
    "# '90050'\n",
    "# '90052'\n",
    "# '90051'\n",
    "# '90054'\n",
    "# '90053'\n",
    "# '90055'\n",
    "# '90060'\n",
    "# '90070'\n",
    "# '90072'\n",
    "# '90074'\n",
    "# '90076'\n",
    "# '90075'\n",
    "# '90078'\n",
    "# '90080'\n",
    "# '90079'\n",
    "# '90082'\n",
    "# '90081'\n",
    "# '90084'\n",
    "# '90083'\n",
    "# '90087'\n",
    "# '90086'\n",
    "# '90088'\n",
    "# '90093'\n",
    "# '90091'\n",
    "# '90097'\n",
    "# '90096'\n",
    "# '90101'\n",
    "# '90099'\n",
    "# '90103'\n",
    "# '90102'\n",
    "# '90185'\n",
    "# '90174'\n",
    "# '90189'\n",
    "# '90209'\n",
    "# '90202'\n",
    "# '90213'\n",
    "# '90223'\n",
    "# '90224'\n",
    "# '90231'\n",
    "# '90239'\n",
    "# '90233'\n",
    "# '90251'\n",
    "# '90261'\n",
    "# '90264'\n",
    "# '90263'\n",
    "# '90267'\n",
    "# '90295'\n",
    "# '90294'\n",
    "# '90296'\n",
    "# '90307'\n",
    "# '90306'\n",
    "# '90309'\n",
    "# '90308'\n",
    "# '90311'\n",
    "# '90310'\n",
    "# '90313'\n",
    "# '90312'\n",
    "# '90398'\n",
    "# '90397'\n",
    "# '90406'\n",
    "# '90408'\n",
    "# '90407'\n",
    "# '90410'\n",
    "# '90409'\n",
    "# '90411'\n",
    "# '90507'\n",
    "# '90509'\n",
    "# '90508'\n",
    "# '90510'\n",
    "# '90607'\n",
    "# '90609'\n",
    "# '90608'\n",
    "# '90612'\n",
    "# '90610'\n",
    "# '90637'\n",
    "# '90652'\n",
    "# '90651'\n",
    "# '90659'\n",
    "# '90662'\n",
    "# '90661'\n",
    "# '90665'\n",
    "# '90671'\n",
    "# '90702'\n",
    "# '90707'\n",
    "# '90711'\n",
    "# '90714'\n",
    "# '90733'\n",
    "# '90734'\n",
    "# '90747'\n",
    "# '90749'\n",
    "# '90748'\n",
    "# '90801'\n",
    "# '90809'\n",
    "# '90833'\n",
    "# '90832'\n",
    "# '90835'\n",
    "# '90834'\n",
    "# '90842'\n",
    "# '90845'\n",
    "# '90844'\n",
    "# '90847'\n",
    "# '90846'\n",
    "# '90853'\n",
    "# '90848'\n",
    "# '90895'\n",
    "# '90888'\n",
    "# '90899'\n",
    "# '91003'\n",
    "# '91009'\n",
    "# '91012'\n",
    "# '91017'\n",
    "# '91023'\n",
    "# '91021'\n",
    "# '91025'\n",
    "# '91031'\n",
    "# '91041'\n",
    "# '91043'\n",
    "# '91066'\n",
    "# '91046'\n",
    "# '91077'\n",
    "# '91102'\n",
    "# '91109'\n",
    "# '91114'\n",
    "# '91110'\n",
    "# '91116'\n",
    "# '91115'\n",
    "# '91118'\n",
    "# '91117'\n",
    "# '91123'\n",
    "# '91121'\n",
    "# '91125'\n",
    "# '91124'\n",
    "# '91126'\n",
    "# '91175'\n",
    "# '91131'\n",
    "# '91184'\n",
    "# '91182'\n",
    "# '91186'\n",
    "# '91185'\n",
    "# '91187'\n",
    "# '91191'\n",
    "# '91189'\n",
    "# '91209'\n",
    "# '91221'\n",
    "# '91224'\n",
    "# '91222'\n",
    "# '91226'\n",
    "# '91225'\n",
    "# '91305'\n",
    "# '91308'\n",
    "# '91310'\n",
    "# '91309'\n",
    "# '91312'\n",
    "# '91313'\n",
    "# '91322'\n",
    "# '91327'\n",
    "# '91329'\n",
    "# '91328'\n",
    "# '91330'\n",
    "# '91334'\n",
    "# '91333'\n",
    "# '91337'\n",
    "# '91341'\n",
    "# '91346'\n",
    "# '91353'\n",
    "# '91357'\n",
    "# '91365'\n",
    "# '91372'\n",
    "# '91376'\n",
    "# '91380'\n",
    "# '91383'\n",
    "# '91382'\n",
    "# '91385'\n",
    "# '91386'\n",
    "# '91388'\n",
    "# '91393'\n",
    "# '91392'\n",
    "# '91395'\n",
    "# '91394'\n",
    "# '91399'\n",
    "# '91396'"
   ]
  },
  {
   "cell_type": "code",
   "execution_count": 48,
   "id": "367691eb",
   "metadata": {},
   "outputs": [
    {
     "data": {
      "text/plain": [
       "{'2010_lacounty': <ee.image.Image at 0x7faa8b607af0>,\n",
       " '2012_lacounty': <ee.image.Image at 0x7faa8b607cd0>,\n",
       " '2014_lacounty': <ee.image.Image at 0x7faa8b607eb0>,\n",
       " '2016_lacounty': <ee.image.Image at 0x7faa8b60b0d0>,\n",
       " '2018_lacounty': <ee.image.Image at 0x7faa8b60b2b0>,\n",
       " '2020_lacounty': <ee.image.Image at 0x7faa8b60b490>}"
      ]
     },
     "execution_count": 48,
     "metadata": {},
     "output_type": "execute_result"
    }
   ],
   "source": [
    "test_image_params = {\n",
    "        'source_image_collection' : 'USDA/NAIP/DOQQ',\n",
    "        'years' : year_list,\n",
    "        'counties': {'lacounty': la_county}\n",
    "         }\n",
    "\n",
    "inference_images = get_images(test_image_params)\n",
    "inference_images"
   ]
  },
  {
   "cell_type": "code",
   "execution_count": 49,
   "id": "71db8ca2",
   "metadata": {},
   "outputs": [],
   "source": [
    "connection = psycopg2.connect(\n",
    "    user = \"postgres\",\n",
    "    password = \"ucb\",\n",
    "    host = \"34.201.28.96\",\n",
    "    port = \"5432\",\n",
    "    database = \"postgres\"\n",
    ")\n",
    "cursor = connection.cursor()"
   ]
  },
  {
   "cell_type": "code",
   "execution_count": 50,
   "id": "c8385f6d",
   "metadata": {},
   "outputs": [],
   "source": [
    "#cursor = connection.cursor()"
   ]
  },
  {
   "cell_type": "code",
   "execution_count": 51,
   "id": "d1c9149a",
   "metadata": {},
   "outputs": [],
   "source": [
    "\n",
    "sr = SearchEngine()\n",
    "\n",
    "def insert_panel_zipcode(year, zipcode, water_area, tree_area, grass_area, turf_area, \n",
    "                         impervious_area, soil_area, total_area):\n",
    "\n",
    "    connection.rollback()\n",
    "    \n",
    "    z = sr.by_zipcode(zipcode)\n",
    "    city = z.major_city\n",
    "    state = z.state_abbr\n",
    "    print(\"state\", state)\n",
    "    county = z.county\n",
    "    median_income = z.median_household_income\n",
    "    \n",
    "    panel_zipcode_dict ={ 'item' : (state, \n",
    "                                    county, \n",
    "                                    zipcode, \n",
    "                                    city, \n",
    "                                    year, \n",
    "                                    round(total_area, 8),\n",
    "                                    round(water_area, 8),\n",
    "                                    round(grass_area, 8), \n",
    "                                    round(tree_area, 8),\n",
    "                                    0.0, \n",
    "                                    round(impervious_area, 8), \n",
    "                                    round(soil_area, 8), \n",
    "                                    round(turf_area,  8),\n",
    "                                    median_income, \n",
    "                                    0.0),\n",
    "    }\n",
    "\n",
    "    \n",
    "    print(panel_zipcode_dict)\n",
    "    \n",
    "    columns= panel_zipcode_dict.keys()\n",
    "    \n",
    "    for i in panel_zipcode_dict.values():\n",
    "        \n",
    "        query = '''\n",
    "\n",
    "        INSERT INTO panel_zipcode (state, \n",
    "                                    county, \n",
    "                                    zipcode, \n",
    "                                    city_neighborhood, \n",
    "                                    year, \n",
    "                                    polygon_area, \n",
    "                                    water_area, \n",
    "                                    lawn_area, \n",
    "                                    tree_area, \n",
    "                                    pv_area, \n",
    "                                    impervious_area, \n",
    "                                    soil_area, \n",
    "                                    turf_area, \n",
    "                                    median_income, \n",
    "                                    water_usage)\n",
    "            VALUES {}; '''.format(i)\n",
    "\n",
    "    cursor.execute(query)\n",
    "\n",
    "    connection.commit()"
   ]
  },
  {
   "cell_type": "code",
   "execution_count": 52,
   "id": "62048bf3",
   "metadata": {},
   "outputs": [],
   "source": [
    "\n",
    "#connection.close()"
   ]
  },
  {
   "cell_type": "code",
   "execution_count": null,
   "id": "62b1e4ea",
   "metadata": {},
   "outputs": [],
   "source": [
    "\n"
   ]
  },
  {
   "cell_type": "code",
   "execution_count": 53,
   "id": "876bd011",
   "metadata": {},
   "outputs": [
    {
     "name": "stdout",
     "output_type": "stream",
     "text": [
      "Zip Code: 90802, Year: 2010 ::: completed in 10.36501669883728 seconds.\n",
      "state CA\n",
      "{'item': ('CA', 'Los Angeles County', '90802', 'Long Beach', '2010', 14.7566175, 0.00795953, 5.41678755, 0.67020571, 0.0, 5.24161035, 3.40706392, 0.01299043, 43404, 0.0)}\n",
      "Zip Code: 90802, Year: 2012 ::: completed in 9.077438592910767 seconds.\n",
      "state CA\n",
      "{'item': ('CA', 'Los Angeles County', '90802', 'Long Beach', '2012', 14.7566175, 4.84506645, 0.22941502, 0.00099503, 0.0, 9.6791511, 0.0, 0.0019899, 43404, 0.0)}\n",
      "Zip Code: 90802, Year: 2014 ::: completed in 10.121249675750732 seconds.\n",
      "state CA\n",
      "{'item': ('CA', 'Los Angeles County', '90802', 'Long Beach', '2014', 14.7566175, 0.24998898, 0.47664703, 0.07694881, 0.0, 13.79175634, 0.00398042, 0.15729593, 43404, 0.0)}\n",
      "Zip Code: 90802, Year: 2016 ::: completed in 9.22202181816101 seconds.\n",
      "state CA\n",
      "{'item': ('CA', 'Los Angeles County', '90802', 'Long Beach', '2016', 14.7566175, 0.0, 0.39495213, 0.31565717, 0.0, 13.56388533, 0.25756882, 0.22455406, 43404, 0.0)}\n",
      "Zip Code: 90802, Year: 2018 ::: completed in 8.728963136672974 seconds.\n",
      "state CA\n",
      "{'item': ('CA', 'Los Angeles County', '90802', 'Long Beach', '2018', 14.7566175, 0.32602808, 0.30505608, 0.10192222, 0.0, 13.84098835, 0.00132685, 0.18129592, 43404, 0.0)}\n",
      "Zip Code: 90802, Year: 2020 ::: completed in 8.831789493560791 seconds.\n",
      "state CA\n",
      "{'item': ('CA', 'Los Angeles County', '90802', 'Long Beach', '2020', 14.7566175, 0.0, 0.49677321, 0.64737426, 0.0, 12.68800572, 0.76002678, 0.16443754, 43404, 0.0)}\n",
      "Zip Code: 90732, Year: 2010 ::: completed in 9.304630041122437 seconds.\n",
      "state CA\n",
      "{'item': ('CA', 'Los Angeles County', '90732', 'San Pedro', '2010', 8.23154929, 0.0, 2.30748362, 0.37558145, 0.0, 4.28439841, 1.25977359, 0.00431222, 80172, 0.0)}\n",
      "Zip Code: 90732, Year: 2012 ::: completed in 9.523597240447998 seconds.\n",
      "state CA\n",
      "{'item': ('CA', 'Los Angeles County', '90732', 'San Pedro', '2012', 8.23154929, 1.0013737, 1.45473333, 0.10217252, 0.0, 5.57726181, 0.06137652, 0.0346314, 80172, 0.0)}\n",
      "Zip Code: 90732, Year: 2014 ::: completed in 10.902713537216187 seconds.\n",
      "state CA\n",
      "{'item': ('CA', 'Los Angeles County', '90732', 'San Pedro', '2014', 8.23154929, 0.03553458, 2.61410912, 0.42337689, 0.0, 4.59279789, 0.53168717, 0.03404364, 80172, 0.0)}\n",
      "Zip Code: 90732, Year: 2016 ::: completed in 9.21337604522705 seconds.\n",
      "state CA\n",
      "{'item': ('CA', 'Los Angeles County', '90732', 'San Pedro', '2016', 8.23154929, 0.00797467, 0.73030041, 0.91319395, 0.0, 5.81823789, 0.67969777, 0.08214461, 80172, 0.0)}\n",
      "Zip Code: 90732, Year: 2018 ::: completed in 10.20957350730896 seconds.\n",
      "state CA\n",
      "{'item': ('CA', 'Los Angeles County', '90732', 'San Pedro', '2018', 8.23154929, 0.01602195, 1.81118243, 0.56479419, 0.0, 5.44856085, 0.31790287, 0.073087, 80172, 0.0)}\n",
      "Zip Code: 90732, Year: 2020 ::: completed in 9.188851118087769 seconds.\n",
      "state CA\n",
      "{'item': ('CA', 'Los Angeles County', '90732', 'San Pedro', '2020', 8.23154929, 0.0, 0.6202044, 2.63568728, 0.0, 2.94621557, 1.86971607, 0.15972596, 80172, 0.0)}\n",
      "Zip Code: 90744, Year: 2010 ::: completed in 8.950085639953613 seconds.\n",
      "state CA\n",
      "{'item': ('CA', 'Los Angeles County', '90744', 'Wilmington', '2010', 22.59927929, 0.0, 7.21390867, 2.01203126, 0.0, 2.63511087, 10.69013818, 0.0480903, 41920, 0.0)}\n",
      "Zip Code: 90744, Year: 2012 ::: completed in 9.291533470153809 seconds.\n",
      "state CA\n",
      "{'item': ('CA', 'Los Angeles County', '90744', 'Wilmington', '2012', 22.59927929, 6.08714634, 0.74336591, 0.21256307, 0.0, 15.53985728, 0.00099485, 0.01535183, 41920, 0.0)}\n",
      "Zip Code: 90744, Year: 2014 ::: completed in 8.51482892036438 seconds.\n",
      "state CA\n",
      "{'item': ('CA', 'Los Angeles County', '90744', 'Wilmington', '2014', 22.59927929, 0.05149323, 1.93795139, 0.40281033, 0.0, 19.74022027, 0.11782277, 0.34898129, 41920, 0.0)}\n",
      "Zip Code: 90744, Year: 2016 ::: completed in 9.365469694137573 seconds.\n",
      "state CA\n",
      "{'item': ('CA', 'Los Angeles County', '90744', 'Wilmington', '2016', 22.59927929, 0.00033157, 0.44351039, 0.68841517, 0.0, 19.66819063, 1.50182595, 0.29700558, 41920, 0.0)}\n",
      "Zip Code: 90744, Year: 2018 ::: completed in 9.65919041633606 seconds.\n",
      "state CA\n",
      "{'item': ('CA', 'Los Angeles County', '90744', 'Wilmington', '2018', 22.59927929, 0.28895432, 0.95082173, 0.3408283, 0.0, 20.65717603, 0.057365, 0.3041339, 41920, 0.0)}\n",
      "Zip Code: 90744, Year: 2020 ::: completed in 11.235468626022339 seconds.\n",
      "state CA\n",
      "{'item': ('CA', 'Los Angeles County', '90744', 'Wilmington', '2020', 22.59927929, 0.0, 1.01493983, 2.01731447, 0.0, 15.84933944, 3.52752776, 0.19015777, 41920, 0.0)}\n",
      "Zip Code: 90011, Year: 2010 ::: completed in 8.978567600250244 seconds.\n",
      "state CA\n",
      "{'item': ('CA', 'Los Angeles County', '90011', 'Los Angeles', '2010', 11.10942916, 0.01058499, 5.70284922, 1.33709267, 0.0, 1.75448952, 2.30176684, 0.00264593, 30171, 0.0)}\n",
      "Zip Code: 90011, Year: 2012 ::: completed in 8.98756456375122 seconds.\n",
      "state CA\n",
      "{'item': ('CA', 'Los Angeles County', '90011', 'Los Angeles', '2012', 11.10942916, 2.06361174, 0.33633867, 0.01918487, 0.0, 8.68235569, 0.0, 0.0079382, 30171, 0.0)}\n",
      "Zip Code: 90011, Year: 2014 ::: completed in 9.279652833938599 seconds.\n",
      "state CA\n",
      "{'item': ('CA', 'Los Angeles County', '90011', 'Los Angeles', '2014', 11.10942916, 0.03272351, 1.02100838, 0.20232016, 0.0, 9.76300589, 0.02414605, 0.06622517, 30171, 0.0)}\n",
      "Zip Code: 90011, Year: 2016 ::: completed in 9.772801399230957 seconds.\n",
      "state CA\n",
      "{'item': ('CA', 'Los Angeles County', '90011', 'Los Angeles', '2016', 11.10942916, 0.00099232, 0.21852693, 0.53518134, 0.0, 9.36931947, 0.90463329, 0.08077582, 30171, 0.0)}\n",
      "Zip Code: 90011, Year: 2018 ::: completed in 9.700498342514038 seconds.\n",
      "state CA\n",
      "{'item': ('CA', 'Los Angeles County', '90011', 'Los Angeles', '2018', 11.10942916, 0.02197591, 0.3923801, 0.20223806, 0.0, 10.3683093, 0.00430012, 0.12022567, 30171, 0.0)}\n",
      "Zip Code: 90011, Year: 2020 ::: completed in 9.914756536483765 seconds.\n",
      "state CA\n",
      "{'item': ('CA', 'Los Angeles County', '90011', 'Los Angeles', '2020', 11.10942916, 0.00033067, 0.37401312, 1.1993015, 0.0, 6.93932041, 2.31068685, 0.28577662, 30171, 0.0)}\n",
      "Zip Code: 91331, Year: 2010 ::: completed in 69.65336799621582 seconds.\n",
      "state CA\n",
      "{'item': ('CA', 'Los Angeles County', '91331', 'Pacoima', '2010', 22.02702479, 0.0, 9.89686132, 2.66316467, 0.0, 4.55348319, 4.90724209, 0.00627351, 51477, 0.0)}\n",
      "Zip Code: 91331, Year: 2012 ::: completed in 62.06770062446594 seconds.\n",
      "state CA\n",
      "{'item': ('CA', 'Los Angeles County', '91331', 'Pacoima', '2012', 22.02702479, 4.64074235, 1.23703662, 0.02011763, 0.0, 16.05261386, 0.00065954, 0.07585479, 51477, 0.0)}\n",
      "Zip Code: 91331, Year: 2014 ::: completed in 55.96336555480957 seconds.\n",
      "state CA\n",
      "{'item': ('CA', 'Los Angeles County', '91331', 'Pacoima', '2014', 22.02702479, 0.94706303, 1.26709882, 0.16778691, 0.0, 19.46219096, 0.03165868, 0.15122638, 51477, 0.0)}\n",
      "Zip Code: 91331, Year: 2016 ::: completed in 68.28612470626831 seconds.\n",
      "state CA\n",
      "{'item': ('CA', 'Los Angeles County', '91331', 'Pacoima', '2016', 22.02702479, 0.00098915, 0.45704315, 0.80729371, 0.0, 19.60085024, 1.08299085, 0.07785767, 51477, 0.0)}\n",
      "Zip Code: 91331, Year: 2018 ::: completed in 56.57323479652405 seconds.\n",
      "state CA\n",
      "{'item': ('CA', 'Los Angeles County', '91331', 'Pacoima', '2018', 22.02702479, 0.04300992, 1.7316552, 0.7452949, 0.0, 19.17325064, 0.14068649, 0.19312764, 51477, 0.0)}\n",
      "Zip Code: 91331, Year: 2020 ::: completed in 64.0718629360199 seconds.\n",
      "state CA\n",
      "{'item': ('CA', 'Los Angeles County', '91331', 'Pacoima', '2020', 22.02702479, 0.11926631, 0.828195, 0.65640478, 0.0, 19.77478684, 0.5250105, 0.12336136, 51477, 0.0)}\n",
      "Zip Code: 90650, Year: 2010 ::: completed in 64.2211081981659 seconds.\n",
      "state CA\n",
      "{'item': ('CA', 'Los Angeles County', '90650', 'Norwalk', '2010', 25.2272037, 0.01324554, 11.16167187, 2.85141865, 0.0, 4.90805378, 6.2918204, 0.00099347, 60770, 0.0)}\n",
      "Zip Code: 90650, Year: 2012 ::: completed in 56.244606733322144 seconds.\n",
      "state CA\n",
      "{'item': ('CA', 'Los Angeles County', '90650', 'Norwalk', '2012', 25.2272037, 2.92531589, 2.36215922, 0.03832665, 0.0, 19.88559436, 0.00033105, 0.01547653, 60770, 0.0)}\n",
      "Zip Code: 90650, Year: 2014 ::: completed in 63.680959939956665 seconds.\n",
      "state CA\n",
      "{'item': ('CA', 'Los Angeles County', '90650', 'Norwalk', '2014', 25.2272037, 0.07701837, 4.59374704, 0.56922085, 0.0, 19.50114367, 0.41160167, 0.0744721, 60770, 0.0)}\n"
     ]
    },
    {
     "name": "stdout",
     "output_type": "stream",
     "text": [
      "Zip Code: 90650, Year: 2016 ::: completed in 63.25748801231384 seconds.\n",
      "state CA\n",
      "{'item': ('CA', 'Los Angeles County', '90650', 'Norwalk', '2016', 25.2272037, 0.00066243, 1.60844698, 0.65934809, 0.0, 17.10087352, 5.85423019, 0.0036425, 60770, 0.0)}\n",
      "Zip Code: 90650, Year: 2018 ::: completed in 57.299495458602905 seconds.\n",
      "state CA\n",
      "{'item': ('CA', 'Los Angeles County', '90650', 'Norwalk', '2018', 25.2272037, 0.02880823, 2.5561719, 0.54550256, 0.0, 21.50291382, 0.5129351, 0.0808721, 60770, 0.0)}\n",
      "Zip Code: 90650, Year: 2020 ::: completed in 61.924864530563354 seconds.\n",
      "state CA\n",
      "{'item': ('CA', 'Los Angeles County', '90650', 'Norwalk', '2020', 25.2272037, 0.0, 1.52166666, 3.89424662, 0.0, 10.45064853, 9.11072418, 0.24991772, 60770, 0.0)}\n",
      "Zip Code: 90201, Year: 2010 ::: completed in 61.28501224517822 seconds.\n",
      "state CA\n",
      "{'item': ('CA', 'Los Angeles County', '90201', 'Bell Gardens', '2010', 15.71865151, 0.00132365, 6.34640179, 2.25259677, 0.0, 2.05862335, 5.05639689, 0.00330906, 37267, 0.0)}\n",
      "Zip Code: 90201, Year: 2012 ::: completed in 50.82036209106445 seconds.\n",
      "state CA\n",
      "{'item': ('CA', 'Los Angeles County', '90201', 'Bell Gardens', '2012', 15.71865151, 2.92660137, 0.70549173, 0.03342292, 0.0, 12.04188455, 0.0, 0.01125093, 37267, 0.0)}\n",
      "Zip Code: 90201, Year: 2014 ::: completed in 57.41503834724426 seconds.\n",
      "state CA\n",
      "{'item': ('CA', 'Los Angeles County', '90201', 'Bell Gardens', '2014', 15.71865151, 0.08501815, 1.90006616, 0.36624348, 0.0, 13.22810595, 0.04325462, 0.09596315, 37267, 0.0)}\n",
      "Zip Code: 90201, Year: 2016 ::: completed in 53.04855799674988 seconds.\n",
      "state CA\n",
      "{'item': ('CA', 'Los Angeles County', '90201', 'Bell Gardens', '2016', 15.71865151, 0.00033094, 0.71291233, 0.69858676, 0.0, 9.99352804, 4.28715284, 0.0261406, 37267, 0.0)}\n",
      "Zip Code: 90201, Year: 2018 ::: completed in 54.98173689842224 seconds.\n",
      "state CA\n",
      "{'item': ('CA', 'Los Angeles County', '90201', 'Bell Gardens', '2018', 15.71865151, 0.08954954, 1.18758999, 0.39920677, 0.0, 13.83936834, 0.08134511, 0.12159176, 37267, 0.0)}\n",
      "Zip Code: 90201, Year: 2020 ::: completed in 59.63096737861633 seconds.\n",
      "state CA\n",
      "{'item': ('CA', 'Los Angeles County', '90201', 'Bell Gardens', '2020', 15.71865151, 0.0, 0.96195033, 1.87775828, 0.0, 9.52431503, 3.09808473, 0.25654314, 37267, 0.0)}\n",
      "Zip Code: 90250, Year: 2010 ::: completed in 43.879690170288086 seconds.\n",
      "state CA\n",
      "{'item': ('CA', 'Los Angeles County', '90250', 'Hawthorne', '2010', 17.17596354, 0.0, 8.29822496, 1.81252767, 0.0, 4.60429678, 2.44812644, 0.01278769, 45995, 0.0)}\n",
      "Zip Code: 90250, Year: 2012 ::: completed in 45.15298247337341 seconds.\n",
      "state CA\n",
      "{'item': ('CA', 'Los Angeles County', '90250', 'Hawthorne', '2012', 17.17596354, 5.34401007, 0.53550441, 0.00067395, 0.0, 11.28666362, 0.0, 0.00911149, 45995, 0.0)}\n",
      "Zip Code: 90250, Year: 2014 ::: completed in 47.22670650482178 seconds.\n",
      "state CA\n",
      "{'item': ('CA', 'Los Angeles County', '90250', 'Hawthorne', '2014', 17.17596354, 0.11403697, 2.25868836, 0.17993866, 0.0, 14.43401662, 0.16854152, 0.02074141, 45995, 0.0)}\n",
      "Zip Code: 90250, Year: 2016 ::: completed in 45.4681179523468 seconds.\n",
      "state CA\n",
      "{'item': ('CA', 'Los Angeles County', '90250', 'Hawthorne', '2016', 17.17596354, 0.00099327, 0.38156164, 0.40744081, 0.0, 15.72917807, 0.56400184, 0.09278791, 45995, 0.0)}\n",
      "Zip Code: 90250, Year: 2018 ::: completed in 48.237502336502075 seconds.\n",
      "state CA\n",
      "{'item': ('CA', 'Los Angeles County', '90250', 'Hawthorne', '2018', 17.17596354, 0.08159846, 1.0258431, 0.19906463, 0.0, 15.78125598, 0.05808773, 0.03011363, 45995, 0.0)}\n",
      "Zip Code: 90250, Year: 2020 ::: completed in 49.70437812805176 seconds.\n",
      "state CA\n",
      "{'item': ('CA', 'Los Angeles County', '90250', 'Hawthorne', '2020', 17.17596354, 0.0, 0.43602276, 0.9026211, 0.0, 14.02057315, 1.66636649, 0.15038004, 45995, 0.0)}\n",
      "Zip Code: 90044, Year: 2010 ::: completed in 38.683104276657104 seconds.\n",
      "state CA\n",
      "{'item': ('CA', 'Los Angeles County', '90044', 'Los Angeles', '2010', 12.97322251, 0.01588578, 6.39033567, 1.67136536, 0.0, 2.5745194, 2.3197926, 0.0013237, 29870, 0.0)}\n",
      "Zip Code: 90044, Year: 2012 ::: completed in 35.21635556221008 seconds.\n",
      "state CA\n",
      "{'item': ('CA', 'Los Angeles County', '90044', 'Los Angeles', '2012', 12.97322251, 2.1422733, 0.46168429, 0.0123096, 0.0, 10.35199073, 0.0, 0.00496458, 29870, 0.0)}\n",
      "Zip Code: 90044, Year: 2014 ::: completed in 35.52069807052612 seconds.\n",
      "state CA\n",
      "{'item': ('CA', 'Los Angeles County', '90044', 'Los Angeles', '2014', 12.97322251, 0.0, 2.00608041, 0.28140802, 0.0, 10.48999491, 0.1247892, 0.07094997, 29870, 0.0)}\n",
      "Zip Code: 90044, Year: 2016 ::: completed in 37.53248691558838 seconds.\n",
      "state CA\n",
      "{'item': ('CA', 'Los Angeles County', '90044', 'Los Angeles', '2016', 12.97322251, 0.0, 0.22386966, 0.3893896, 0.0, 10.2968083, 2.03403239, 0.02912255, 29870, 0.0)}\n",
      "Zip Code: 90044, Year: 2018 ::: completed in 35.68058228492737 seconds.\n",
      "state CA\n",
      "{'item': ('CA', 'Los Angeles County', '90044', 'Los Angeles', '2018', 12.97322251, 0.01588517, 0.75897031, 0.24819328, 0.0, 11.85593793, 0.0371132, 0.05712262, 29870, 0.0)}\n",
      "Zip Code: 90044, Year: 2020 ::: completed in 41.63859844207764 seconds.\n",
      "state CA\n",
      "{'item': ('CA', 'Los Angeles County', '90044', 'Los Angeles', '2020', 12.97322251, 0.0, 0.54935157, 1.87056075, 0.0, 6.27325623, 4.11630302, 0.16375093, 29870, 0.0)}\n",
      "Zip Code: 90805, Year: 2010 ::: completed in 57.78647327423096 seconds.\n",
      "state CA\n",
      "{'item': ('CA', 'Los Angeles County', '90805', 'Long Beach', '2010', 19.35840787, 0.01163524, 7.33450753, 2.03599273, 0.0, 3.9863297, 5.98928013, 0.00066255, 44070, 0.0)}\n",
      "Zip Code: 90805, Year: 2012 ::: completed in 50.99109077453613 seconds.\n",
      "state CA\n",
      "{'item': ('CA', 'Los Angeles County', '90805', 'Long Beach', '2012', 19.35840787, 2.71424504, 1.51502416, 0.0439006, 0.0, 15.04952288, 0.0, 0.0357152, 44070, 0.0)}\n",
      "Zip Code: 90805, Year: 2014 ::: completed in 58.03328466415405 seconds.\n",
      "state CA\n",
      "{'item': ('CA', 'Los Angeles County', '90805', 'Long Beach', '2014', 19.35840787, 0.09288402, 3.54684463, 0.64222198, 0.0, 14.63780273, 0.27707836, 0.16157616, 44070, 0.0)}\n",
      "Zip Code: 90805, Year: 2016 ::: completed in 55.66478133201599 seconds.\n",
      "state CA\n",
      "{'item': ('CA', 'Los Angeles County', '90805', 'Long Beach', '2016', 19.35840787, 0.0, 0.95876314, 1.22075665, 0.0, 11.13038932, 6.02295384, 0.02554492, 44070, 0.0)}\n",
      "Zip Code: 90805, Year: 2018 ::: completed in 47.15670680999756 seconds.\n",
      "state CA\n",
      "{'item': ('CA', 'Los Angeles County', '90805', 'Long Beach', '2018', 19.35840787, 0.07238016, 1.59448844, 0.86913656, 0.0, 16.48355312, 0.20504567, 0.13380393, 44070, 0.0)}\n",
      "Zip Code: 90805, Year: 2020 ::: completed in 60.5417058467865 seconds.\n",
      "state CA\n",
      "{'item': ('CA', 'Los Angeles County', '90805', 'Long Beach', '2020', 19.35840787, 0.0, 1.17268454, 3.20693656, 0.0, 9.75159051, 4.99924193, 0.22795433, 44070, 0.0)}\n",
      "Zip Code: 90280, Year: 2010 ::: completed in 65.39085078239441 seconds.\n",
      "state CA\n",
      "{'item': ('CA', 'Los Angeles County', '90280', 'South Gate', '2010', 19.46373787, 0.00893567, 8.28049192, 2.3157588, 0.0, 4.24092415, 4.61199675, 0.00563058, 42776, 0.0)}\n",
      "Zip Code: 90280, Year: 2012 ::: completed in 59.18899178504944 seconds.\n",
      "state CA\n",
      "{'item': ('CA', 'Los Angeles County', '90280', 'South Gate', '2012', 19.46373787, 3.06518347, 1.27301689, 0.04561736, 0.0, 15.06809799, 0.0, 0.01182217, 42776, 0.0)}\n",
      "Zip Code: 90280, Year: 2014 ::: completed in 60.55074167251587 seconds.\n",
      "state CA\n",
      "{'item': ('CA', 'Los Angeles County', '90280', 'South Gate', '2014', 19.46373787, 0.08902748, 3.37357443, 0.6241005, 0.0, 15.07835331, 0.19379479, 0.10488736, 42776, 0.0)}\n",
      "Zip Code: 90280, Year: 2016 ::: completed in 66.1620614528656 seconds.\n",
      "state CA\n",
      "{'item': ('CA', 'Los Angeles County', '90280', 'South Gate', '2016', 19.46373787, 0.0, 0.91359379, 0.96470882, 0.0, 12.11195647, 5.44269776, 0.03078102, 42776, 0.0)}\n",
      "Zip Code: 90280, Year: 2018 ::: completed in 62.36372184753418 seconds.\n",
      "state CA\n",
      "{'item': ('CA', 'Los Angeles County', '90280', 'South Gate', '2018', 19.46373787, 0.10090317, 1.56024143, 0.71948025, 0.0, 16.62816376, 0.3501509, 0.10479836, 42776, 0.0)}\n",
      "Zip Code: 90280, Year: 2020 ::: completed in 73.26815581321716 seconds.\n",
      "state CA\n",
      "{'item': ('CA', 'Los Angeles County', '90280', 'South Gate', '2020', 19.46373787, 0.0, 1.05682428, 2.34023684, 0.0, 10.39309616, 5.50527955, 0.16830104, 42776, 0.0)}\n"
     ]
    },
    {
     "name": "stdout",
     "output_type": "stream",
     "text": [
      "Zip Code: 91342, Year: 2010 ::: completed in 279.24290323257446 seconds.\n",
      "state CA\n",
      "{'item': ('CA', 'Los Angeles County', '91342', 'Sylmar', '2010', 169.40073355, 0.01685248, 57.81177708, 23.66824048, 0.0, 24.43788523, 63.41523736, 0.05074093, 59329, 0.0)}\n",
      "Zip Code: 91342, Year: 2012 ::: completed in 302.26264548301697 seconds.\n",
      "state CA\n",
      "{'item': ('CA', 'Los Angeles County', '91342', 'Sylmar', '2012', 169.40073355, 3.94862146, 33.79795916, 78.26083826, 0.0, 48.98979449, 2.6962692, 1.70725098, 59329, 0.0)}\n",
      "Zip Code: 91342, Year: 2014 ::: completed in 341.25947284698486 seconds.\n",
      "state CA\n",
      "{'item': ('CA', 'Los Angeles County', '91342', 'Sylmar', '2014', 169.40073355, 0.50754926, 26.20590249, 72.17759711, 0.0, 56.75496505, 10.81259085, 2.94212879, 59329, 0.0)}\n",
      "Zip Code: 91342, Year: 2016 ::: completed in 279.96370363235474 seconds.\n",
      "state CA\n",
      "{'item': ('CA', 'Los Angeles County', '91342', 'Sylmar', '2016', 169.40073355, 0.00263702, 4.38677409, 52.61818255, 0.0, 57.34131765, 53.73184189, 1.31998035, 59329, 0.0)}\n",
      "Zip Code: 91342, Year: 2018 ::: completed in 301.4749093055725 seconds.\n",
      "state CA\n",
      "{'item': ('CA', 'Los Angeles County', '91342', 'Sylmar', '2018', 169.40073355, 0.05511816, 32.95593866, 54.97586564, 0.0, 50.80772242, 30.12038768, 0.485701, 59329, 0.0)}\n",
      "Zip Code: 91342, Year: 2020 ::: completed in 321.31934905052185 seconds.\n",
      "state CA\n",
      "{'item': ('CA', 'Los Angeles County', '91342', 'Sylmar', '2020', 169.40073355, 0.04383134, 13.95088513, 67.12477398, 0.0, 42.73281357, 44.77364902, 0.77478051, 59329, 0.0)}\n",
      "Zip Code: 91744, Year: 2010 ::: completed in 72.89961886405945 seconds.\n",
      "state CA\n",
      "{'item': ('CA', 'Los Angeles County', '91744', 'La Puente', '2010', 22.87181532, 0.00462841, 10.4512459, 2.99615553, 0.0, 5.30834091, 4.10361822, 0.00782635, 57291, 0.0)}\n",
      "Zip Code: 91744, Year: 2012 ::: completed in 63.687744140625 seconds.\n",
      "state CA\n",
      "{'item': ('CA', 'Los Angeles County', '91744', 'La Puente', '2012', 22.87181532, 1.97292437, 4.29393251, 0.79790138, 0.0, 15.76567549, 0.00495993, 0.03642164, 57291, 0.0)}\n",
      "Zip Code: 91744, Year: 2014 ::: completed in 61.92982268333435 seconds.\n",
      "state CA\n",
      "{'item': ('CA', 'Los Angeles County', '91744', 'La Puente', '2014', 22.87181532, 0.07544147, 5.26184123, 2.12249906, 0.0, 15.10277873, 0.1306122, 0.17864263, 57291, 0.0)}\n",
      "Zip Code: 91744, Year: 2016 ::: completed in 72.21465158462524 seconds.\n",
      "state CA\n",
      "{'item': ('CA', 'Los Angeles County', '91744', 'La Puente', '2016', 22.87181532, 0.00066133, 2.6653919, 1.81216936, 0.0, 12.04471439, 6.34358717, 0.00529117, 57291, 0.0)}\n",
      "Zip Code: 91744, Year: 2018 ::: completed in 69.63795232772827 seconds.\n",
      "state CA\n",
      "{'item': ('CA', 'Los Angeles County', '91744', 'La Puente', '2018', 22.87181532, 0.01620321, 3.88663001, 1.41311486, 0.0, 17.00070743, 0.49363529, 0.06152452, 57291, 0.0)}\n",
      "Zip Code: 91744, Year: 2020 ::: completed in 73.80591607093811 seconds.\n",
      "state CA\n",
      "{'item': ('CA', 'Los Angeles County', '91744', 'La Puente', '2020', 22.87181532, 0.0, 0.63184242, 5.45254157, 0.0, 12.44427273, 4.11032216, 0.23283645, 57291, 0.0)}\n",
      "Zip Code: 91335, Year: 2010 ::: completed in 44.81002974510193 seconds.\n",
      "state CA\n",
      "{'item': ('CA', 'Los Angeles County', '91335', 'Reseda', '2010', 16.95788184, 0.01188086, 9.86448603, 2.25001071, 0.0, 4.04753142, 0.76318262, 0.0207902, 51266, 0.0)}\n",
      "Zip Code: 91335, Year: 2012 ::: completed in 39.52744770050049 seconds.\n",
      "state CA\n",
      "{'item': ('CA', 'Los Angeles County', '91335', 'Reseda', '2012', 16.95788184, 2.19499842, 1.85683937, 0.00627046, 0.0, 12.7829518, 0.0, 0.11682178, 51266, 0.0)}\n",
      "Zip Code: 91335, Year: 2014 ::: completed in 43.016133308410645 seconds.\n",
      "state CA\n",
      "{'item': ('CA', 'Los Angeles County', '91335', 'Reseda', '2014', 16.95788184, 0.56006172, 3.29168863, 0.18795314, 0.0, 12.83879448, 0.00858061, 0.07080326, 51266, 0.0)}\n",
      "Zip Code: 91335, Year: 2016 ::: completed in 44.459211587905884 seconds.\n",
      "state CA\n",
      "{'item': ('CA', 'Los Angeles County', '91335', 'Reseda', '2016', 16.95788184, 0.00165031, 1.54652281, 1.17382546, 0.0, 13.86336971, 0.12916397, 0.24334959, 51266, 0.0)}\n",
      "Zip Code: 91335, Year: 2018 ::: completed in 44.4882071018219 seconds.\n",
      "state CA\n",
      "{'item': ('CA', 'Los Angeles County', '91335', 'Reseda', '2018', 16.95788184, 0.02475772, 3.81294498, 0.63665579, 0.0, 12.29356797, 0.02838299, 0.1615724, 51266, 0.0)}\n",
      "Zip Code: 91335, Year: 2020 ::: completed in 50.141847372055054 seconds.\n",
      "state CA\n",
      "{'item': ('CA', 'Los Angeles County', '91335', 'Reseda', '2020', 16.95788184, 0.0, 0.82777511, 1.86343241, 0.0, 12.93749618, 0.95266566, 0.37651248, 51266, 0.0)}\n",
      "Zip Code: 91706, Year: 2010 ::: completed in 94.36373710632324 seconds.\n",
      "state CA\n",
      "{'item': ('CA', 'Los Angeles County', '91706', 'Baldwin Park', '2010', 38.41300369, 0.14898272, 16.64054494, 3.88063903, 0.0, 8.22272033, 9.25118123, 0.26893542, 51232, 0.0)}\n",
      "Zip Code: 91706, Year: 2012 ::: completed in 90.32343530654907 seconds.\n",
      "state CA\n",
      "{'item': ('CA', 'Los Angeles County', '91706', 'Baldwin Park', '2012', 38.41300369, 4.28496968, 2.78180742, 0.85887696, 0.0, 30.33241833, 0.05285381, 0.10207749, 51232, 0.0)}\n",
      "Zip Code: 91706, Year: 2014 ::: completed in 88.10022568702698 seconds.\n",
      "state CA\n",
      "{'item': ('CA', 'Los Angeles County', '91706', 'Baldwin Park', '2014', 38.41300369, 0.9223557, 4.39390028, 0.72950148, 0.0, 31.66185814, 0.38519959, 0.3201885, 51232, 0.0)}\n",
      "Zip Code: 91706, Year: 2016 ::: completed in 99.20397520065308 seconds.\n",
      "state CA\n",
      "{'item': ('CA', 'Los Angeles County', '91706', 'Baldwin Park', '2016', 38.41300369, 0.41983288, 2.57850206, 0.62410568, 0.0, 25.83846684, 8.94548467, 0.00661155, 51232, 0.0)}\n",
      "Zip Code: 91706, Year: 2018 ::: completed in 85.72604584693909 seconds.\n",
      "state CA\n",
      "{'item': ('CA', 'Los Angeles County', '91706', 'Baldwin Park', '2018', 38.41300369, 0.96563086, 2.50641954, 0.65140571, 0.0, 33.20254538, 1.01799239, 0.06900981, 51232, 0.0)}\n",
      "Zip Code: 91706, Year: 2020 ::: completed in 103.4786958694458 seconds.\n",
      "state CA\n",
      "{'item': ('CA', 'Los Angeles County', '91706', 'Baldwin Park', '2020', 38.41300369, 0.00033038, 1.58667305, 4.55356443, 0.0, 21.37077599, 9.05363304, 1.8480268, 51232, 0.0)}\n",
      "Zip Code: 90706, Year: 2010 ::: completed in 46.201104164123535 seconds.\n",
      "state CA\n",
      "{'item': ('CA', 'Los Angeles County', '90706', 'Bellflower', '2010', 15.95733343, 0.00298084, 8.21640941, 1.95805168, 0.0, 3.28210163, 2.49712737, 0.0006625, 49637, 0.0)}\n",
      "Zip Code: 90706, Year: 2012 ::: completed in 40.32860565185547 seconds.\n",
      "state CA\n",
      "{'item': ('CA', 'Los Angeles County', '90706', 'Bellflower', '2012', 15.95733343, 2.26400474, 1.36439577, 0.01159212, 0.0, 12.31099526, 0.0, 0.00634554, 49637, 0.0)}\n",
      "Zip Code: 90706, Year: 2014 ::: completed in 41.29521989822388 seconds.\n",
      "state CA\n",
      "{'item': ('CA', 'Los Angeles County', '90706', 'Bellflower', '2014', 15.95733343, 0.05895582, 2.86461954, 0.27631643, 0.0, 12.59240915, 0.1107296, 0.0543029, 49637, 0.0)}\n",
      "Zip Code: 90706, Year: 2016 ::: completed in 45.99578905105591 seconds.\n",
      "state CA\n",
      "{'item': ('CA', 'Los Angeles County', '90706', 'Bellflower', '2016', 15.95733343, 0.0, 0.91597994, 0.41940967, 0.0, 9.5350882, 5.07990113, 0.00695449, 49637, 0.0)}\n",
      "Zip Code: 90706, Year: 2018 ::: completed in 44.58442950248718 seconds.\n",
      "state CA\n",
      "{'item': ('CA', 'Los Angeles County', '90706', 'Bellflower', '2018', 15.95733343, 0.01121848, 1.8433415, 0.42631776, 0.0, 13.46473468, 0.13747456, 0.07424646, 49637, 0.0)}\n",
      "Zip Code: 90706, Year: 2020 ::: completed in 51.90862464904785 seconds.\n",
      "state CA\n",
      "{'item': ('CA', 'Los Angeles County', '90706', 'Bellflower', '2020', 15.95733343, 0.0, 1.18823409, 2.38615764, 0.0, 7.33370636, 4.90749239, 0.14174295, 49637, 0.0)}\n",
      "Zip Code: 90003, Year: 2010 ::: completed in 9.683083057403564 seconds.\n",
      "state CA\n",
      "{'item': ('CA', 'Los Angeles County', '90003', 'Los Angeles', '2010', 9.53676173, 0.00728108, 5.55086987, 1.22718879, 0.0, 1.57668845, 1.17437797, 0.00035556, 29686, 0.0)}\n",
      "Zip Code: 90003, Year: 2012 ::: completed in 9.258152484893799 seconds.\n",
      "state CA\n",
      "{'item': ('CA', 'Los Angeles County', '90003', 'Los Angeles', '2012', 9.53676173, 1.84409328, 0.26225208, 0.00797448, 0.0, 7.42046914, 0.0, 0.00197274, 29686, 0.0)}\n",
      "Zip Code: 90003, Year: 2014 ::: completed in 8.70850944519043 seconds.\n",
      "state CA\n",
      "{'item': ('CA', 'Los Angeles County', '90003', 'Los Angeles', '2014', 9.53676173, 0.005626, 1.03470345, 0.21114795, 0.0, 8.18889658, 0.03622013, 0.06016761, 29686, 0.0)}\n"
     ]
    },
    {
     "name": "stdout",
     "output_type": "stream",
     "text": [
      "Zip Code: 90003, Year: 2016 ::: completed in 9.68558406829834 seconds.\n",
      "state CA\n",
      "{'item': ('CA', 'Los Angeles County', '90003', 'Los Angeles', '2016', 9.53676173, 0.00033094, 0.10800637, 0.32975947, 0.0, 8.3858156, 0.67774913, 0.03510022, 29686, 0.0)}\n",
      "Zip Code: 90003, Year: 2018 ::: completed in 9.096897602081299 seconds.\n",
      "state CA\n",
      "{'item': ('CA', 'Los Angeles County', '90003', 'Los Angeles', '2018', 9.53676173, 0.01687078, 0.41634207, 0.12395131, 0.0, 8.91309708, 0.01836711, 0.04813338, 29686, 0.0)}\n",
      "Zip Code: 90003, Year: 2020 ::: completed in 8.625894546508789 seconds.\n",
      "state CA\n",
      "{'item': ('CA', 'Los Angeles County', '90003', 'Los Angeles', '2020', 9.53676173, 0.0, 0.29515492, 0.86956633, 0.0, 5.91632465, 2.31277057, 0.14294525, 29686, 0.0)}\n"
     ]
    }
   ],
   "source": [
    "keys = {'year','polygon','water_area','vegetation_trees_area', 'vegetation_grass_area', 'turf_area', 'impervious_area','soil_area', 'total_area'}\n",
    "dictionary = {}\n",
    "for i in keys:\n",
    "    dictionary[i] = []\n",
    "\n",
    "for i in zipcode_list:\n",
    "    for j in list(inference_images.items()):\n",
    "        im = j[1]\n",
    "        imagery = im.select(BANDS).classify(clf)\n",
    "        name = j[0]\n",
    "        \n",
    "        start = time()\n",
    "        polygon = la_county_income_zipcode.filter(ee.Filter.eq('ZipCode', i))\n",
    "\n",
    "        dictionary['year'].append(j[0][:4]) \n",
    "        year = j[0][:4]\n",
    "        \n",
    "        dictionary['polygon'].append(i)\n",
    "        zipcode = i\n",
    "        \n",
    "        water_area = area_calculation(imagery, 1, polygon, 20)\n",
    "        dictionary['water_area'].append(water_area)\n",
    "        \n",
    "        tree_area = area_calculation(imagery, 2, polygon, 20)\n",
    "        dictionary['vegetation_trees_area'].append(tree_area)\n",
    "\n",
    "        grass_area = area_calculation(imagery, 3, polygon, 20)\n",
    "        dictionary['vegetation_grass_area'].append(grass_area)\n",
    "\n",
    "        turf_area = area_calculation(imagery, 4, polygon, 20)\n",
    "        dictionary['turf_area'].append(turf_area)\n",
    "\n",
    "        impervious_area = area_calculation(imagery, 6, polygon, 20)\n",
    "        dictionary['impervious_area'].append(impervious_area)\n",
    "\n",
    "        soil_area = area_calculation(imagery, 7, polygon, 20)\n",
    "        dictionary['soil_area'].append(soil_area)\n",
    "\n",
    "        total_area = water_area + tree_area + grass_area + turf_area + impervious_area + soil_area\n",
    "        dictionary['total_area'].append(total_area)\n",
    "        end = time()\n",
    "        print(f'Zip Code: {i}, Year: {j[0][:4]} ::: completed in {end-start} seconds.')\n",
    "        insert_panel_zipcode(year, zipcode, water_area, tree_area, grass_area, turf_area, impervious_area, soil_area, total_area)\n",
    "        \n",
    "        \n",
    "              \n",
    "              "
   ]
  },
  {
   "cell_type": "code",
   "execution_count": null,
   "id": "b55b7f5d",
   "metadata": {},
   "outputs": [],
   "source": [
    "#extract just necessary columns from dictionary dataframe\n",
    "df = pd.DataFrame(dictionary)[['polygon','soil_area','vegetation_grass_area','water_area','vegetation_trees_area','impervious_area','turf_area']]\n",
    "df"
   ]
  },
  {
   "cell_type": "markdown",
   "id": "5603838e",
   "metadata": {},
   "source": [
    "### Plot Results"
   ]
  },
  {
   "cell_type": "code",
   "execution_count": 42,
   "id": "b118674e",
   "metadata": {},
   "outputs": [
    {
     "data": {
      "image/png": "[encoded data removed]",
      "text/plain": [
       "<Figure size 1440x360 with 3 Axes>"
      ]
     },
     "metadata": {
      "needs_background": "light"
     },
     "output_type": "display_data"
    }
   ],
   "source": [
    "years= [2010, 2012, 2014, 2016, 2018, 2020]\n",
    "zips = df.polygon.unique()\n",
    "fig, ax = plt.subplots(1,3, figsize = (20,5))\n",
    "\n",
    "labels = [ 'soil_area',\n",
    " 'vegetation_grass_area',\n",
    " 'water_area',\n",
    " 'vegetation_trees_area',\n",
    " 'turf_area']\n",
    "\n",
    "colors = ['brown','#66CC00','#3399FF','#FF8000','#9933FF']\n",
    "\n",
    "\n",
    "for i in range(3):\n",
    "    for j in range(len(labels)):\n",
    "        if j == 'polygon':\n",
    "            continue\n",
    "        else:\n",
    "            d = df[df.polygon == zips[i]]\n",
    "            ax[i].plot(years, d[labels[j]], color = colors[j], label = labels[j])\n",
    "    ax[i].set_title(f'Zip Code: {zips[i]}', size = 15)\n",
    "    ax[i].set_xlabel('Year', size = 13)\n",
    "    ax[i].set_ylabel('Area (Square Kilometers)', size = 13)\n",
    "    ax[i].set_ylim(0,11)\n",
    "    ax[0].legend()\n",
    "    \n",
    "# plt.savefig(fname = 'test.png', dpi = 200)"
   ]
  },
  {
   "cell_type": "code",
   "execution_count": null,
   "id": "9ec15156",
   "metadata": {},
   "outputs": [],
   "source": []
  }
 ],
 "metadata": {
  "kernelspec": {
   "display_name": "Python 3",
   "language": "python",
   "name": "python3"
  },
  "language_info": {
   "codemirror_mode": {
    "name": "ipython",
    "version": 3
   },
   "file_extension": ".py",
   "mimetype": "text/x-python",
   "name": "python",
   "nbconvert_exporter": "python",
   "pygments_lexer": "ipython3",
   "version": "3.8.8"
  }
 },
 "nbformat": 4,
 "nbformat_minor": 5
}
