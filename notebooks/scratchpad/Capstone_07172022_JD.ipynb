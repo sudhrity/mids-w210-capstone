{
 "cells": [
  {
   "cell_type": "markdown",
   "id": "26473b19",
   "metadata": {},
   "source": [
    "# Google Earth Engine Component"
   ]
  },
  {
   "cell_type": "markdown",
   "id": "e32cc559",
   "metadata": {},
   "source": [
    "## Initialize"
   ]
  },
  {
   "cell_type": "code",
   "execution_count": 1,
   "id": "2ec40958",
   "metadata": {},
   "outputs": [],
   "source": [
    "#Import required libraries\n",
    "import ee\n",
    "import geemap\n",
    "import math"
   ]
  },
  {
   "cell_type": "code",
   "execution_count": 2,
   "id": "9efddfc3",
   "metadata": {},
   "outputs": [],
   "source": [
    "#Initialize Google Earth Engine\n",
    "#ee.Authenticate() just needed the 1st time\n",
    "ee.Initialize()"
   ]
  },
  {
   "cell_type": "code",
   "execution_count": 3,
   "id": "b97c34d6",
   "metadata": {},
   "outputs": [],
   "source": [
    "# Check if geemap is working as intended - plot the leaflet map\n",
    "Map = geemap.Map()"
   ]
  },
  {
   "cell_type": "markdown",
   "id": "4c6734c0",
   "metadata": {},
   "source": [
    "## Load Feature Collection - Shapefiles"
   ]
  },
  {
   "cell_type": "code",
   "execution_count": 4,
   "id": "d0b4aafb",
   "metadata": {},
   "outputs": [],
   "source": [
    "#Data loads\n",
    "\n",
    "#loads feature collection data from Google Earth Engine - We can also upload other feature collections\n",
    "counties = ee.FeatureCollection(\"TIGER/2018/Counties\")\n",
    "\n",
    "#filter LA County\n",
    "la_county = counties.filter(ee.Filter.eq('NAME', 'Los Angeles'))"
   ]
  },
  {
   "cell_type": "code",
   "execution_count": 5,
   "id": "257ad251",
   "metadata": {},
   "outputs": [],
   "source": [
    "#Income Data\n",
    "\n",
    "la_county_income = ee.FeatureCollection(\"projects/california-lawn-detection/assets/lacountyincome-final\")\n",
    "\n",
    "#Map.addLayer(la_county_income,{}, 'LA County Income')"
   ]
  },
  {
   "cell_type": "code",
   "execution_count": 6,
   "id": "4911a40b",
   "metadata": {},
   "outputs": [],
   "source": [
    "la_county_income2 = ee.FeatureCollection(\"projects/california-lawn-detection/assets/lacountyincome_update\")\n",
    "la_county_income = la_county_income2.select(ee.List(['Name', 'Descriptio', 'Ranking']), ee.List(['Name', 'Median_Income', 'Ranking']))\n",
    "Map.addLayer(la_county_income,{}, 'LA County Income')"
   ]
  },
  {
   "cell_type": "code",
   "execution_count": 7,
   "id": "5b73cb5c",
   "metadata": {},
   "outputs": [
    {
     "data": {
      "application/vnd.jupyter.widget-view+json": {
       "model_id": "ba15718de4ef49f08e2a5137669717b0",
       "version_major": 2,
       "version_minor": 0
      },
      "text/plain": [
       "Map(center=[20, 0], controls=(WidgetControl(options=['position', 'transparent_bg'], widget=HBox(children=(Togg…"
      ]
     },
     "metadata": {},
     "output_type": "display_data"
    }
   ],
   "source": [
    "Map"
   ]
  },
  {
   "cell_type": "markdown",
   "id": "d5ba5304",
   "metadata": {},
   "source": [
    "## Load NAIP Imagery"
   ]
  },
  {
   "cell_type": "code",
   "execution_count": 8,
   "id": "1dfbfc91",
   "metadata": {},
   "outputs": [],
   "source": [
    "#loads NAIP 2020 and 2010 dataset and selects bands Red, Green, Blue, Near Infrared (R,G,B,N)\n",
    "\n",
    "# rgbn imagery from 2010 to 2020\n",
    "image_2020_rgbn = (\n",
    "    ee.ImageCollection('USDA/NAIP/DOQQ')\n",
    "    .filterDate('2020-01-01', '2020-12-31')\n",
    "    .select(['R', 'G', 'B', 'N'])\n",
    ")\n",
    "\n",
    "image_2018_rgbn = (\n",
    "    ee.ImageCollection('USDA/NAIP/DOQQ')\n",
    "    .filterDate('2018-01-01', '2018-12-31')\n",
    "    .select(['R', 'G', 'B', 'N'])\n",
    ")\n",
    "\n",
    "image_2016_rgbn = (\n",
    "    ee.ImageCollection('USDA/NAIP/DOQQ')\n",
    "    .filterDate('2016-01-01', '2016-12-31')\n",
    "    .select(['R', 'G', 'B', 'N'])\n",
    ")\n",
    "\n",
    "image_2014_rgbn = (\n",
    "    ee.ImageCollection('USDA/NAIP/DOQQ')\n",
    "    .filterDate('2014-01-01', '2014-12-31')\n",
    "    .select(['R', 'G', 'B', 'N'])\n",
    ")\n",
    "\n",
    "image_2012_rgbn = (\n",
    "    ee.ImageCollection('USDA/NAIP/DOQQ')\n",
    "    .filterDate('2012-01-01', '2012-12-31')\n",
    "    .select(['R', 'G', 'B', 'N'])\n",
    ")\n",
    "\n",
    "image_2010_rgbn = (\n",
    "    ee.ImageCollection('USDA/NAIP/DOQQ')\n",
    "    .filterDate('2010-01-01', '2010-12-31')\n",
    "    .select(['R', 'G', 'B', 'N'])\n",
    ")\n",
    "\n",
    "# nrg imagery from 2010 to 2020\n",
    "image_2020_nrg = (\n",
    "    ee.ImageCollection('USDA/NAIP/DOQQ')\n",
    "    .filterDate('2020-01-01', '2020-12-31')\n",
    "    .select(['N','R','G'])\n",
    ")\n",
    "\n",
    "image_2018_nrg = (\n",
    "    ee.ImageCollection('USDA/NAIP/DOQQ')\n",
    "    .filterDate('2018-01-01', '2018-12-31')\n",
    "    .select(['N','R','G'])\n",
    ")\n",
    "\n",
    "image_2016_nrg = (\n",
    "    ee.ImageCollection('USDA/NAIP/DOQQ')\n",
    "    .filterDate('2016-01-01', '2016-12-31')\n",
    "    .select(['N','R','G'])\n",
    ")\n",
    "\n",
    "image_2014_nrg = (\n",
    "    ee.ImageCollection('USDA/NAIP/DOQQ')\n",
    "    .filterDate('2014-01-01', '2014-12-31')\n",
    "    .select(['N','R','G'])\n",
    ")\n",
    "\n",
    "image_2012_nrg = (\n",
    "    ee.ImageCollection('USDA/NAIP/DOQQ')\n",
    "    .filterDate('2012-01-01', '2012-12-31')\n",
    "    .select(['N','R','G'])\n",
    ")\n",
    "\n",
    "image_2010_nrg = (\n",
    "    ee.ImageCollection('USDA/NAIP/DOQQ')\n",
    "    .filterDate('2010-01-01', '2010-12-31')\n",
    "    .select(['N','R','G'])\n",
    ")\n",
    "\n",
    "#Calculate median so it can be clipped - turns image collection into an image\n",
    "NAIP_2020_rgbn = image_2020_rgbn.median()\n",
    "NAIP_2018_rgbn = image_2018_rgbn.median()\n",
    "NAIP_2016_rgbn = image_2016_rgbn.median()\n",
    "NAIP_2014_rgbn = image_2014_rgbn.median()\n",
    "NAIP_2012_rgbn = image_2012_rgbn.median()\n",
    "NAIP_2010_rgbn = image_2010_rgbn.median()\n",
    "\n",
    "NAIP_2020_nrg = image_2020_nrg.median()\n",
    "NAIP_2018_nrg = image_2018_nrg.median()\n",
    "NAIP_2016_nrg = image_2016_nrg.median()\n",
    "NAIP_2014_nrg = image_2014_nrg.median()\n",
    "NAIP_2012_nrg = image_2012_nrg.median()\n",
    "NAIP_2010_nrg = image_2010_nrg.median()\n",
    "\n",
    "#Clip images to desired polygon in this case la_county\n",
    "\n",
    "NAIP_2020_rgbn_lacounty = NAIP_2020_rgbn.clip(la_county)\n",
    "NAIP_2020_nrg_lacounty = NAIP_2020_nrg.clip(la_county)\n",
    "NAIP_2018_rgbn_lacounty = NAIP_2018_rgbn.clip(la_county)\n",
    "NAIP_2018_nrg_lacounty = NAIP_2018_nrg.clip(la_county)\n",
    "NAIP_2016_rgbn_lacounty = NAIP_2016_rgbn.clip(la_county)\n",
    "NAIP_2016_nrg_lacounty = NAIP_2016_nrg.clip(la_county)\n",
    "NAIP_2014_rgbn_lacounty = NAIP_2014_rgbn.clip(la_county)\n",
    "NAIP_2014_nrg_lacounty = NAIP_2014_nrg.clip(la_county)\n",
    "NAIP_2012_rgbn_lacounty = NAIP_2012_rgbn.clip(la_county)\n",
    "NAIP_2012_nrg_lacounty = NAIP_2012_nrg.clip(la_county)\n",
    "NAIP_2010_rgbn_lacounty = NAIP_2010_rgbn.clip(la_county)\n",
    "NAIP_2010_nrg_lacounty = NAIP_2010_nrg.clip(la_county)\n"
   ]
  },
  {
   "cell_type": "code",
   "execution_count": 9,
   "id": "d1ee3e7c",
   "metadata": {},
   "outputs": [],
   "source": [
    "#Calculate NDVI for each image\n",
    "# ndvi_2020 = NAIP_2020_rgbn_lacounty.normalizedDifference(['N', 'R']).rename('NAIP_2020_NDVI')\n",
    "# ndvi_2018 = NAIP_2018_rgbn_lacounty.normalizedDifference(['N', 'R']).rename('NAIP_2018_NDVI')\n",
    "# ndvi_2016 = NAIP_2016_rgbn_lacounty.normalizedDifference(['N', 'R']).rename('NAIP_2016_NDVI')\n",
    "# ndvi_2014 = NAIP_2014_rgbn_lacounty.normalizedDifference(['N', 'R']).rename('NAIP_2014_NDVI')\n",
    "# ndvi_2012 = NAIP_2012_rgbn_lacounty.normalizedDifference(['N', 'R']).rename('NAIP_2012_NDVI')\n",
    "# ndvi_2010 = NAIP_2010_rgbn_lacounty.normalizedDifference(['N', 'R']).rename('NAIP_2010_NDVI')"
   ]
  },
  {
   "cell_type": "code",
   "execution_count": 10,
   "id": "d84fe2bb",
   "metadata": {},
   "outputs": [],
   "source": [
    "#Add it as a layer\n",
    "#Map.addLayer(ndvi_2020, {min : -1, max : 1, 'palette' : ['blue', 'white', 'green']}, 'NAIP_2020_NDVI')\n",
    "\n",
    "# 2018\n",
    "# Map.addLayer(ndvi_2018, {min : -1, max : 1, 'palette' : ['blue', 'white', 'green']}, 'NAIP_2018_NDVI')\n",
    "\n",
    "# 2016\n",
    "# Map.addLayer(ndvi_2016, {min : -1, max : 1, 'palette' : ['blue', 'white', 'green']}, 'NAIP_2016_NDVI')\n",
    "\n",
    "# 2014\n",
    "# Map.addLayer(ndvi_2014, {min : -1, max : 1, 'palette' : ['blue', 'white', 'green']}, 'NAIP_2014_NDVI')\n",
    "\n",
    "# 2012\n",
    "# Map.addLayer(ndvi_2012, {min : -1, max : 1, 'palette' : ['blue', 'white', 'green']}, 'NAIP_2012_NDVI')\n",
    "\n",
    "# 2010\n",
    "# Map.addLayer(ndvi_2010, {min : -1, max : 1, 'palette' : ['blue', 'white', 'green']}, 'NAIP_2010_NDVI')"
   ]
  },
  {
   "cell_type": "code",
   "execution_count": 11,
   "id": "b91ac3fb",
   "metadata": {},
   "outputs": [],
   "source": [
    "#Add layer\n",
    "#Map.addLayer(NAIP_2020_rgbn_lacounty,{}, 'NAIP_2020_rgbn')\n",
    "Map.addLayer(NAIP_2020_nrg_lacounty,{}, 'NAIP_2020_nrg')\n",
    "\n",
    "#2018\n",
    "#Map.addLayer(NAIP_2018_rgbn_lacounty,{}, 'NAIP_2018_rgbn')\n",
    "Map.addLayer(NAIP_2018_nrg_lacounty,{}, 'NAIP_2018_nrg')\n",
    "\n",
    "#2016\n",
    "#Map.addLayer(NAIP_2016_rgbn_lacounty,{}, 'NAIP_2016_rgbn')\n",
    "Map.addLayer(NAIP_2016_nrg_lacounty,{}, 'NAIP_2016_nrg')\n",
    "\n",
    "#2014\n",
    "#Map.addLayer(NAIP_2014_rgbn_lacounty,{}, 'NAIP_2014_rgbn')\n",
    "Map.addLayer(NAIP_2014_nrg_lacounty,{}, 'NAIP_2014_nrg')\n",
    "\n",
    "#2012\n",
    "#Map.addLayer(NAIP_2012_rgbn_lacounty,{}, 'NAIP_2012_rgbn')\n",
    "Map.addLayer(NAIP_2012_nrg_lacounty,{}, 'NAIP_2012_nrg')\n",
    "\n",
    "#2010\n",
    "#Map.addLayer(NAIP_2010_rgbn_lacounty,{}, 'NAIP_2010_rgbn')\n",
    "Map.addLayer(NAIP_2010_nrg_lacounty,{}, 'NAIP_2010_nrg')"
   ]
  },
  {
   "cell_type": "code",
   "execution_count": 12,
   "id": "da35d301",
   "metadata": {},
   "outputs": [
    {
     "data": {
      "application/vnd.jupyter.widget-view+json": {
       "model_id": "ba15718de4ef49f08e2a5137669717b0",
       "version_major": 2,
       "version_minor": 0
      },
      "text/plain": [
       "Map(center=[20, 0], controls=(WidgetControl(options=['position', 'transparent_bg'], widget=HBox(children=(Togg…"
      ]
     },
     "metadata": {},
     "output_type": "display_data"
    }
   ],
   "source": [
    "Map"
   ]
  },
  {
   "cell_type": "markdown",
   "id": "60064ca2",
   "metadata": {},
   "source": [
    "## Texture"
   ]
  },
  {
   "cell_type": "code",
   "execution_count": 13,
   "id": "154c80d2",
   "metadata": {},
   "outputs": [],
   "source": [
    "def add_NDVI(image):\n",
    "    image = image.addBands(image.normalizedDifference(['N','R']).rename('NDVI'))\n",
    "    return image"
   ]
  },
  {
   "cell_type": "code",
   "execution_count": 14,
   "id": "7dd51805",
   "metadata": {},
   "outputs": [],
   "source": [
    "NAIP_2020_rgbn_ndvi_lacounty = add_NDVI(NAIP_2020_rgbn_lacounty)\n",
    "NAIP_2018_rgbn_ndvi_lacounty = add_NDVI(NAIP_2018_rgbn_lacounty)\n",
    "NAIP_2016_rgbn_ndvi_lacounty = add_NDVI(NAIP_2016_rgbn_lacounty)\n",
    "NAIP_2014_rgbn_ndvi_lacounty = add_NDVI(NAIP_2014_rgbn_lacounty)\n",
    "NAIP_2012_rgbn_ndvi_lacounty = add_NDVI(NAIP_2012_rgbn_lacounty)\n",
    "NAIP_2010_rgbn_ndvi_lacounty = add_NDVI(NAIP_2010_rgbn_lacounty)"
   ]
  },
  {
   "cell_type": "code",
   "execution_count": 15,
   "id": "8e4eb24a",
   "metadata": {},
   "outputs": [],
   "source": [
    "def neighborhood_bands(image, band):\n",
    "    i_8_bit = image.select(band).toUint8()\n",
    "    square = ee.Kernel.square(**{'radius': 4})\n",
    "    entropy = i_8_bit.entropy(square)\n",
    "    glcm = i_8_bit.glcmTexture(**{'size': 4})\n",
    "    contrast = glcm.select(str(band)+'_contrast')\n",
    "    \n",
    "    # Create a list of weights for a 9x9 kernel.\n",
    "    list = [1, 1, 1, 1, 1, 1, 1, 1, 1]\n",
    "    # The center of the kernel is zero.\n",
    "    centerList = [1, 1, 1, 1, 0, 1, 1, 1, 1]\n",
    "    # Assemble a list of lists: the 9x9 kernel weights as a 2-D matrix.\n",
    "    lists = [list, list, list, list, centerList, list, list, list, list]\n",
    "    # Create the kernel from the weights.\n",
    "    # Non-zero weights represent the spatial neighborhood.\n",
    "    kernel = ee.Kernel.fixed(9, 9, lists, -4, -4, False)\n",
    "    neighs = i_8_bit.neighborhoodToBands(kernel)\n",
    "    gearys = i_8_bit.subtract(neighs).pow(2).reduce(ee.Reducer.sum()).divide(math.pow(9, 2))\n",
    "    image = image.addBands(entropy.rename(str(band)+'_Entropy')).addBands(contrast.rename(str(band)+'_Contrast')).addBands(gearys.rename(str(band)+'_Gearys'))   \n",
    "    return image\n"
   ]
  },
  {
   "cell_type": "code",
   "execution_count": 16,
   "id": "a3db6099",
   "metadata": {},
   "outputs": [],
   "source": [
    "bands = ['N']\n",
    "for band in bands:\n",
    "    NAIP_2020_rgbn_ndvi_lacounty = neighborhood_bands(NAIP_2020_rgbn_ndvi_lacounty,band)\n",
    "    NAIP_2018_rgbn_ndvi_lacounty = neighborhood_bands(NAIP_2018_rgbn_ndvi_lacounty,band)\n",
    "    NAIP_2016_rgbn_ndvi_lacounty = neighborhood_bands(NAIP_2016_rgbn_ndvi_lacounty,band)\n",
    "    NAIP_2014_rgbn_ndvi_lacounty = neighborhood_bands(NAIP_2014_rgbn_ndvi_lacounty,band)\n",
    "    NAIP_2012_rgbn_ndvi_lacounty = neighborhood_bands(NAIP_2012_rgbn_ndvi_lacounty,band)\n",
    "    NAIP_2010_rgbn_ndvi_lacounty = neighborhood_bands(NAIP_2010_rgbn_ndvi_lacounty,band)"
   ]
  },
  {
   "cell_type": "markdown",
   "id": "a8183053",
   "metadata": {},
   "source": [
    "### Machine Learning Section"
   ]
  },
  {
   "cell_type": "code",
   "execution_count": 17,
   "id": "31107c50",
   "metadata": {},
   "outputs": [],
   "source": [
    "# Put the EEified model in the appropriate bucket and API name\n",
    "PROJECT = 'w210-351617'\n",
    "OUTPUT_BUCKET = 'test-tf-gee'\n",
    "EEIFIED_DIR = 'gs://' + OUTPUT_BUCKET + '/eeified_pixel_model'\n",
    "\n",
    "MODEL_NAME = 'CNN_Nbands_model'\n",
    "VERSION_NAME = 'v0'\n",
    "REGION = 'us-central1'\n",
    "\n",
    "training_classes_list_text = ['water',\n",
    "                              'vegetation_trees',\n",
    "                              'vegetation_grass',\n",
    "                              'turf',\n",
    "                              'impervious',\n",
    "                              'soil']"
   ]
  },
  {
   "cell_type": "code",
   "execution_count": 18,
   "id": "ca1cbc01",
   "metadata": {},
   "outputs": [],
   "source": [
    "# Point to the model hosted on AI Platform.  If you specified a region other\n",
    "# than the default (us-central1) at model creation, specify it here.\n",
    "final_model = ee.Model.fromAiPlatformPredictor(\n",
    "    projectName=PROJECT,\n",
    "    modelName=MODEL_NAME,\n",
    "    version=VERSION_NAME,\n",
    "    # Can be anything, but don't make it too big.\n",
    "    inputTileSize=[12, 12],\n",
    "    # # Keep this the same as your training data.\n",
    "    # proj=ee.Projection('EPSG:4326').atScale(30),\n",
    "    # fixInputProj=True,\n",
    "    # Note the names here need to match what you specified in the\n",
    "    # output dictionary you passed to the EEifier.\n",
    "    outputBands={'output': {\n",
    "        'type': ee.PixelType.float(),\n",
    "        'dimensions': 1\n",
    "      }\n",
    "    },\n",
    ")"
   ]
  },
  {
   "cell_type": "code",
   "execution_count": 19,
   "id": "3fe929fd",
   "metadata": {},
   "outputs": [],
   "source": [
    "# Get predictions\n",
    "\n",
    "bands = ['R', 'G', 'B', 'N', 'NDVI', 'N_Entropy', 'N_Contrast','N_Gearys']\n",
    "\n",
    "la_image_2020 = NAIP_2020_rgbn_ndvi_lacounty.select(bands)\n",
    "la_image_2018 = NAIP_2018_rgbn_ndvi_lacounty.select(bands)\n",
    "la_image_2016 = NAIP_2016_rgbn_ndvi_lacounty.select(bands)\n",
    "la_image_2014 = NAIP_2014_rgbn_ndvi_lacounty.select(bands)\n",
    "la_image_2012 = NAIP_2012_rgbn_ndvi_lacounty.select(bands)\n",
    "la_image_2010 = NAIP_2010_rgbn_ndvi_lacounty.select(bands)"
   ]
  },
  {
   "cell_type": "code",
   "execution_count": 20,
   "id": "35e9ba7d",
   "metadata": {},
   "outputs": [],
   "source": [
    "# Get predictions\n",
    "predictions_2020 = final_model.predictImage(la_image_2020.float().toArray())\n",
    "probabilities_2020 = predictions_2020.arrayFlatten([training_classes_list_text])\n",
    "label_2020 = predictions_2020.arrayArgmax().arrayGet([0]).rename('label')"
   ]
  },
  {
   "cell_type": "code",
   "execution_count": 21,
   "id": "4db4a52e",
   "metadata": {},
   "outputs": [],
   "source": [
    "predictions_2018 = final_model.predictImage(la_image_2018.float().toArray())\n",
    "probabilities_2018 = predictions_2018.arrayFlatten([training_classes_list_text])\n",
    "label_2018 = predictions_2018.arrayArgmax().arrayGet([0]).rename('label')"
   ]
  },
  {
   "cell_type": "code",
   "execution_count": 22,
   "id": "a11e9127",
   "metadata": {},
   "outputs": [],
   "source": [
    "predictions_2016 = final_model.predictImage(la_image_2016.float().toArray())\n",
    "probabilities_2016 = predictions_2016.arrayFlatten([training_classes_list_text])\n",
    "label_2016 = predictions_2016.arrayArgmax().arrayGet([0]).rename('label')"
   ]
  },
  {
   "cell_type": "code",
   "execution_count": 23,
   "id": "87784839",
   "metadata": {},
   "outputs": [],
   "source": [
    "predictions_2014 = final_model.predictImage(la_image_2014.float().toArray())\n",
    "probabilities_2014 = predictions_2014.arrayFlatten([training_classes_list_text])\n",
    "label_2014 = predictions_2014.arrayArgmax().arrayGet([0]).rename('label')"
   ]
  },
  {
   "cell_type": "code",
   "execution_count": 24,
   "id": "8d1f2890",
   "metadata": {},
   "outputs": [],
   "source": [
    "predictions_2012 = final_model.predictImage(la_image_2012.float().toArray())\n",
    "probabilities_2012 = predictions_2012.arrayFlatten([training_classes_list_text])\n",
    "label_2012 = predictions_2012.arrayArgmax().arrayGet([0]).rename('label')"
   ]
  },
  {
   "cell_type": "code",
   "execution_count": 25,
   "id": "3b940270",
   "metadata": {},
   "outputs": [],
   "source": [
    "predictions_2010 = final_model.predictImage(la_image_2010.float().toArray())\n",
    "probabilities_2010 = predictions_2010.arrayFlatten([training_classes_list_text])\n",
    "label_2010 = predictions_2010.arrayArgmax().arrayGet([0]).rename('label')"
   ]
  },
  {
   "cell_type": "code",
   "execution_count": 26,
   "id": "6c27e572",
   "metadata": {},
   "outputs": [],
   "source": [
    "legend_keys = ['water', 'vegetation_trees', 'vegetation_grass', 'turf','impervious','soil']\n",
    "legend_colors = ['#0B6AEF', '#097407', '#0CE708', '#8C46D2' ,' #A1A8AF','#D47911']\n",
    "\n",
    "Map.addLayer(label_2020,{'min': 0, 'max': 5, 'palette': legend_colors},\"LA_2020\")\n",
    "Map.addLayer(label_2018,{'min': 0, 'max': 5, 'palette': legend_colors},\"LA_2018\")\n",
    "Map.addLayer(label_2016,{'min': 0, 'max': 5, 'palette': legend_colors},\"LA_2016\")\n",
    "Map.addLayer(label_2014,{'min': 0, 'max': 5, 'palette': legend_colors},\"LA_2014\")\n",
    "Map.addLayer(label_2012,{'min': 0, 'max': 5, 'palette': legend_colors},\"LA_2012\")\n",
    "Map.addLayer(label_2010,{'min': 0, 'max': 5, 'palette': legend_colors},\"LA_2010\")"
   ]
  },
  {
   "cell_type": "code",
   "execution_count": 28,
   "id": "2de7cd23",
   "metadata": {},
   "outputs": [],
   "source": [
    "Map.addLayer(NAIP_2018_rgbn_lacounty,{}, 'NAIP_2020_rgbn')\n",
    "Map.addLayer(NAIP_2010_rgbn_lacounty,{}, 'NAIP_2010_rgbn')"
   ]
  },
  {
   "cell_type": "code",
   "execution_count": 27,
   "id": "816153f7",
   "metadata": {
    "scrolled": true
   },
   "outputs": [
    {
     "data": {
      "application/vnd.jupyter.widget-view+json": {
       "model_id": "ba15718de4ef49f08e2a5137669717b0",
       "version_major": 2,
       "version_minor": 0
      },
      "text/plain": [
       "Map(bottom=754.0, center=[20, 0], controls=(WidgetControl(options=['position', 'transparent_bg'], widget=HBox(…"
      ]
     },
     "metadata": {},
     "output_type": "display_data"
    }
   ],
   "source": [
    "Map"
   ]
  },
  {
   "cell_type": "code",
   "execution_count": 29,
   "id": "8597166b",
   "metadata": {},
   "outputs": [],
   "source": [
    "la_parcel_shape_filtered = ee.FeatureCollection(\"projects/california-lawn-detection/assets/LA_County_Parcels_Shape\")\\\n",
    "                             .filter(ee.Filter.eq('UseType', 'Residential'))\n",
    "    \n",
    "la_parcel_res = la_parcel_shape_filtered.select(ee.List(['AIN', 'SitusCity','SitusZIP','SitusFullA']), \n",
    "                                                ee.List(['AIN', 'City','ZipCode','FullAddress']))"
   ]
  },
  {
   "cell_type": "code",
   "execution_count": 30,
   "id": "f60c7995",
   "metadata": {},
   "outputs": [],
   "source": [
    "label_2020_res = label_2020.clip(la_parcel_res)\n",
    "label_2018_res = label_2018.clip(la_parcel_res)\n",
    "label_2016_res = label_2016.clip(la_parcel_res)\n",
    "label_2014_res = label_2014.clip(la_parcel_res)\n",
    "label_2012_res = label_2012.clip(la_parcel_res)\n",
    "label_2010_res = label_2010.clip(la_parcel_res)"
   ]
  },
  {
   "cell_type": "code",
   "execution_count": 31,
   "id": "907fa48d",
   "metadata": {},
   "outputs": [],
   "source": [
    "Map_2 = geemap.Map()"
   ]
  },
  {
   "cell_type": "code",
   "execution_count": 32,
   "id": "5fdde6e6",
   "metadata": {},
   "outputs": [
    {
     "data": {
      "application/vnd.jupyter.widget-view+json": {
       "model_id": "4c7822aaba0248dc90b7802c05e6d8d2",
       "version_major": 2,
       "version_minor": 0
      },
      "text/plain": [
       "Map(center=[20, 0], controls=(WidgetControl(options=['position', 'transparent_bg'], widget=HBox(children=(Togg…"
      ]
     },
     "metadata": {},
     "output_type": "display_data"
    }
   ],
   "source": [
    "Map_2"
   ]
  },
  {
   "cell_type": "code",
   "execution_count": 33,
   "id": "cd0bfd8f",
   "metadata": {},
   "outputs": [],
   "source": [
    "vegetation_2020 = label_2020_res.expression(\"b('label') == 1 || b('label') == 2\")\n",
    "vegetation_2018 = label_2018_res.expression(\"b('label') == 1 || b('label') == 2\")\n",
    "vegetation_2016 = label_2016_res.expression(\"b('label') == 1 || b('label') == 2\")\n",
    "vegetation_2014 = label_2014_res.expression(\"b('label') == 1 || b('label') == 2\")\n",
    "vegetation_2012 = label_2012_res.expression(\"b('label') == 1 || b('label') == 2\")\n",
    "vegetation_2010 = label_2010_res.expression(\"b('label') == 1 || b('label') == 2\")"
   ]
  },
  {
   "cell_type": "code",
   "execution_count": 34,
   "id": "f9f75521",
   "metadata": {},
   "outputs": [],
   "source": [
    "delta1820 = vegetation_2018.subtract(vegetation_2020)\n",
    "delta1618 = vegetation_2016.subtract(vegetation_2018)\n",
    "delta1416 = vegetation_2014.subtract(vegetation_2016)\n",
    "delta1214 = vegetation_2012.subtract(vegetation_2014)\n",
    "delta1012 = vegetation_2010.subtract(vegetation_2012)\n",
    "delta1020 = vegetation_2010.subtract(vegetation_2020)"
   ]
  },
  {
   "cell_type": "code",
   "execution_count": 34,
   "id": "b2c791ae",
   "metadata": {},
   "outputs": [],
   "source": [
    "Map_2.addLayer(vegetation_2020,{'min': 0, 'max': 1, 'palette': ['#A1A8AF','#097407']},\"LA_2020_R_Trees_Mask\")"
   ]
  },
  {
   "cell_type": "code",
   "execution_count": 35,
   "id": "8d3fafb3",
   "metadata": {},
   "outputs": [],
   "source": [
    "Map_2.addLayer(vegetation_2018,{'min': 0, 'max': 1, 'palette': ['#A1A8AF','#097407']},\"LA_2018_R_Trees_Mask\")"
   ]
  },
  {
   "cell_type": "code",
   "execution_count": 35,
   "id": "d5a02ea0",
   "metadata": {},
   "outputs": [],
   "source": [
    "Map_2.addLayer(NAIP_2018_nrg_lacounty,{}, 'NAIP_2018_nrg')\n",
    "Map_2.addLayer(NAIP_2020_nrg_lacounty,{}, 'NAIP_2020_nrg')\n",
    "Map_2.addLayer(NAIP_2010_nrg_lacounty,{}, 'NAIP_2010_nrg')"
   ]
  },
  {
   "cell_type": "code",
   "execution_count": 36,
   "id": "019f4302",
   "metadata": {},
   "outputs": [],
   "source": [
    "Map_2.addLayer(delta1820,{'min': -1, 'max': 1,  'palette': ['#097407','#FFFFFF','#A1A8AF']},\"18-20 Change\")"
   ]
  },
  {
   "cell_type": "code",
   "execution_count": 38,
   "id": "e7236384",
   "metadata": {},
   "outputs": [],
   "source": [
    "Map_2.addLayer(delta1820,{'min': -1, 'max': 1,  'palette': ['#097407','#FFFFFF','#A1A8AF']},\"18-20 Change\")\n",
    "Map_2.addLayer(delta1618,{},\"16-18 Change\")\n",
    "Map_2.addLayer(delta1416,{},\"14-16 Change\")\n",
    "Map_2.addLayer(delta1214,{},\"12-14 Change\")\n",
    "Map_2.addLayer(delta1012,{},\"10-12 Change\")\n",
    "Map_2.addLayer(delta1020,{},\"10-20 Change\")"
   ]
  },
  {
   "cell_type": "code",
   "execution_count": 37,
   "id": "37dbbcdb",
   "metadata": {},
   "outputs": [],
   "source": [
    "conversions1820_masked = delta1820.expression(\"b('label') == 1\").selfMask()\n",
    "conversions1618_masked = delta1618.expression(\"b('label') == 1\").selfMask()\n",
    "conversions1416_masked = delta1416.expression(\"b('label') == 1\").selfMask()\n",
    "conversions1214_masked = delta1214.expression(\"b('label') == 1\").selfMask()\n",
    "conversions1012_masked = delta1012.expression(\"b('label') == 1\").selfMask()\n",
    "conversions1020_masked = delta1020.expression(\"b('label') == 1\").selfMask()"
   ]
  },
  {
   "cell_type": "code",
   "execution_count": 40,
   "id": "ed04b859",
   "metadata": {},
   "outputs": [],
   "source": [
    "Map_2.addLayer(conversions1820_masked,{'palette':['#008080']},\"18-20 Conversions Masked\")"
   ]
  },
  {
   "cell_type": "code",
   "execution_count": 52,
   "id": "fb5f75ce",
   "metadata": {},
   "outputs": [],
   "source": [
    "Map_2.addLayer(conversions1618_masked,{'palette':['#008080']},\"16-18 Conversions Masked\")\n",
    "Map_2.addLayer(conversions1416_masked,{'palette':['#008080']},\"14-16 Conversions Masked\")\n",
    "Map_2.addLayer(conversions1214_masked,{'palette':['#008080']},\"12-14 Conversions Masked\")\n",
    "Map_2.addLayer(conversions1012_masked,{'palette':['#008080']},\"10-12 Conversions Masked\")"
   ]
  },
  {
   "cell_type": "code",
   "execution_count": 38,
   "id": "6d6cb7a5",
   "metadata": {},
   "outputs": [],
   "source": [
    "Map_2.addLayer(conversions1020_masked,{'palette':['#36048F']},\"10-20 Conversions Masked\")"
   ]
  },
  {
   "cell_type": "code",
   "execution_count": 40,
   "id": "d6eb8807",
   "metadata": {},
   "outputs": [],
   "source": [
    "Map_2.addLayer(la_county_income,{}, 'LA County Income')"
   ]
  },
  {
   "cell_type": "code",
   "execution_count": 39,
   "id": "dbf355c8",
   "metadata": {},
   "outputs": [
    {
     "data": {
      "application/vnd.jupyter.widget-view+json": {
       "model_id": "4c7822aaba0248dc90b7802c05e6d8d2",
       "version_major": 2,
       "version_minor": 0
      },
      "text/plain": [
       "Map(bottom=754.0, center=[20, 0], controls=(WidgetControl(options=['position', 'transparent_bg'], widget=HBox(…"
      ]
     },
     "metadata": {},
     "output_type": "display_data"
    }
   ],
   "source": [
    "Map_2"
   ]
  }
 ],
 "metadata": {
  "kernelspec": {
   "display_name": "Python 3 (ipykernel)",
   "language": "python",
   "name": "python3"
  },
  "language_info": {
   "codemirror_mode": {
    "name": "ipython",
    "version": 3
   },
   "file_extension": ".py",
   "mimetype": "text/x-python",
   "name": "python",
   "nbconvert_exporter": "python",
   "pygments_lexer": "ipython3",
   "version": "3.8.13"
  }
 },
 "nbformat": 4,
 "nbformat_minor": 5
}
