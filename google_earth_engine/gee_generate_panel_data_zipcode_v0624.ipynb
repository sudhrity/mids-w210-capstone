{
 "cells": [
  {
   "cell_type": "markdown",
   "id": "82be3451",
   "metadata": {},
   "source": [
    "# Google Earth Engine Panel Data Creation"
   ]
  },
  {
   "cell_type": "markdown",
   "id": "ff3a98c6",
   "metadata": {},
   "source": [
    "## Initialize"
   ]
  },
  {
   "cell_type": "code",
   "execution_count": 1,
   "id": "f8bdbe8a",
   "metadata": {},
   "outputs": [],
   "source": [
    "# !pip install geemap\n",
    "# !pip install ee"
   ]
  },
  {
   "cell_type": "code",
   "execution_count": 1,
   "id": "852342ca",
   "metadata": {},
   "outputs": [],
   "source": [
    "#GEE specific\n",
    "import ee\n",
    "import geemap\n",
    "import math\n",
    "\n",
    "#plotting and functions\n",
    "import numpy as np\n",
    "import pandas as pd\n",
    "import matplotlib.pyplot as plt\n",
    "import itertools\n",
    "from time import time"
   ]
  },
  {
   "cell_type": "code",
   "execution_count": 2,
   "id": "cf39d151",
   "metadata": {},
   "outputs": [],
   "source": [
    "#Initialize Google Earth Engine\n",
    "# ee.Authenticate() #just needed the 1st time\n",
    "ee.Initialize()"
   ]
  },
  {
   "cell_type": "code",
   "execution_count": 3,
   "id": "9faa4577",
   "metadata": {},
   "outputs": [],
   "source": [
    "# Check if geemap is working as intended - plot the leaflet map\n",
    "Map = geemap.Map()"
   ]
  },
  {
   "cell_type": "markdown",
   "id": "2520dad8",
   "metadata": {},
   "source": [
    "## Load Feature Collection - Shapefiles"
   ]
  },
  {
   "cell_type": "code",
   "execution_count": 4,
   "id": "bb4b96e5",
   "metadata": {},
   "outputs": [],
   "source": [
    "#Data loads\n",
    "\n",
    "#loads feature collection data from Google Earth Engine - We can also upload other feature collections\n",
    "counties = ee.FeatureCollection(\"TIGER/2018/Counties\")\n",
    "\n",
    "#filter LA County\n",
    "la_county = counties.filter(ee.Filter.eq('NAME', 'Los Angeles'))\n",
    "sc_county = counties.filter(ee.Filter.eq('NAME', 'Santa Clara'))"
   ]
  },
  {
   "cell_type": "code",
   "execution_count": 5,
   "id": "439714b7",
   "metadata": {},
   "outputs": [
    {
     "data": {
      "text/plain": [
       "(<ee.featurecollection.FeatureCollection at 0x7fc5de8c5070>,\n",
       " <ee.featurecollection.FeatureCollection at 0x7fc5de87cd60>)"
      ]
     },
     "execution_count": 5,
     "metadata": {},
     "output_type": "execute_result"
    }
   ],
   "source": [
    "la_county, sc_county"
   ]
  },
  {
   "cell_type": "code",
   "execution_count": 6,
   "id": "22c79df7",
   "metadata": {},
   "outputs": [],
   "source": [
    "#Income Data\n",
    "la_county_income = ee.FeatureCollection(\"projects/california-lawn-detection/assets/lacountyincome-final\")"
   ]
  },
  {
   "cell_type": "markdown",
   "id": "dabf5c8c",
   "metadata": {},
   "source": [
    "## Load NAIP Imagery"
   ]
  },
  {
   "cell_type": "code",
   "execution_count": 7,
   "id": "324a0f1e",
   "metadata": {},
   "outputs": [],
   "source": [
    "def apply_3bands(image, band):\n",
    "    i_8_bit = image.select(band).toUint8()\n",
    "    square = ee.Kernel.square(**{'radius': 4})\n",
    "    entropy = i_8_bit.entropy(square)\n",
    "    glcm = i_8_bit.glcmTexture(**{'size': 4})\n",
    "    contrast = glcm.select(str(band)+'_contrast')\n",
    "    \n",
    "    # Create a list of weights for a 9x9 kernel.\n",
    "    list = [1, 1, 1, 1, 1, 1, 1, 1, 1]\n",
    "    # The center of the kernel is zero.\n",
    "    centerList = [1, 1, 1, 1, 0, 1, 1, 1, 1]\n",
    "    # Assemble a list of lists: the 9x9 kernel weights as a 2-D matrix.\n",
    "    lists = [list, list, list, list, centerList, list, list, list, list]\n",
    "    # Create the kernel from the weights.\n",
    "    # Non-zero weights represent the spatial neighborhood.\n",
    "    kernel = ee.Kernel.fixed(9, 9, lists, -4, -4, False)\n",
    "    neighs = i_8_bit.neighborhoodToBands(kernel)\n",
    "    gearys = i_8_bit.subtract(neighs).pow(2).reduce(ee.Reducer.sum()).divide(math.pow(9, 2))\n",
    "    image = image.addBands(entropy.rename(str(band)+'_Entropy')).addBands(contrast.rename(str(band)+'_Contrast')).addBands(gearys.rename(str(band)+'_Gearys'))   \n",
    "    return image\n",
    "\n",
    "def add_neighborhood_bands(image):\n",
    "    bands = ['R', 'G', 'B', 'N']\n",
    "    for band in bands:\n",
    "        image = apply_3bands(image, band)\n",
    "    return image\n",
    "    \n",
    "def add_NDVI(image):\n",
    "    image = image.addBands(image.normalizedDifference(['N','R']).rename('NDVI'))\n",
    "    return image\n",
    "     "
   ]
  },
  {
   "cell_type": "code",
   "execution_count": 8,
   "id": "8bd24434",
   "metadata": {},
   "outputs": [],
   "source": [
    "def get_images(param_dict):\n",
    "    source_image_collection = params['source_image_collection']\n",
    "    years = param_dict['years']\n",
    "    counties = param_dict['counties']\n",
    "\n",
    "    image_names = []\n",
    "    images = []\n",
    "\n",
    "    combos = list(itertools.product(years, counties.keys()))\n",
    "    for i in combos:\n",
    "        year = str(i[0])\n",
    "        county = i[1]\n",
    "\n",
    "        image_name = str(i[0])+'_'+i[1]\n",
    "        image_names.append(image_name)\n",
    "\n",
    "        image = ee.ImageCollection(source_image_collection)\\\n",
    "                                .filterDate(f'{year}-01-01', f'{year}-12-31')\\\n",
    "                                .select(['R','G','B','N'])\\\n",
    "                                .median().clip(counties[county])\n",
    "        images.append(image)\n",
    "        images_with_3band = list(map(add_neighborhood_bands, images))\n",
    "        images_with_NDVI = list(map(add_NDVI, images_with_3band))\n",
    "    return dict(zip(image_names, images_with_NDVI))\n",
    "\n",
    "    \n",
    "    "
   ]
  },
  {
   "cell_type": "code",
   "execution_count": 9,
   "id": "bbd3d635",
   "metadata": {},
   "outputs": [
    {
     "data": {
      "text/plain": [
       "{'2010_la_county': <ee.image.Image at 0x7fc5de9ef670>,\n",
       " '2010_sc_county': <ee.image.Image at 0x7fc5de9ef850>,\n",
       " '2012_la_county': <ee.image.Image at 0x7fc5de9efa30>,\n",
       " '2012_sc_county': <ee.image.Image at 0x7fc5de9efc10>,\n",
       " '2014_la_county': <ee.image.Image at 0x7fc5de9efdf0>,\n",
       " '2014_sc_county': <ee.image.Image at 0x7fc5de9effd0>,\n",
       " '2016_la_county': <ee.image.Image at 0x7fc5de9f21f0>,\n",
       " '2016_sc_county': <ee.image.Image at 0x7fc5de9f23d0>,\n",
       " '2018_la_county': <ee.image.Image at 0x7fc5de9f25b0>,\n",
       " '2018_sc_county': <ee.image.Image at 0x7fc5de9f2790>,\n",
       " '2020_la_county': <ee.image.Image at 0x7fc5de9f2970>,\n",
       " '2020_sc_county': <ee.image.Image at 0x7fc5de9f2b50>}"
      ]
     },
     "execution_count": 9,
     "metadata": {},
     "output_type": "execute_result"
    }
   ],
   "source": [
    "params = {\n",
    "        'source_image_collection' : 'USDA/NAIP/DOQQ',\n",
    "        'years' : [2010,2012,2014,2016,2018,2020],\n",
    "        'counties': {'la_county': la_county, 'sc_county': sc_county}\n",
    "         }\n",
    "\n",
    "images = get_images(params)\n",
    "images"
   ]
  },
  {
   "cell_type": "code",
   "execution_count": 10,
   "id": "dc15441d",
   "metadata": {},
   "outputs": [
    {
     "data": {
      "text/plain": [
       "['R',\n",
       " 'G',\n",
       " 'B',\n",
       " 'N',\n",
       " 'R_Entropy',\n",
       " 'R_Contrast',\n",
       " 'R_Gearys',\n",
       " 'G_Entropy',\n",
       " 'G_Contrast',\n",
       " 'G_Gearys',\n",
       " 'B_Entropy',\n",
       " 'B_Contrast',\n",
       " 'B_Gearys',\n",
       " 'N_Entropy',\n",
       " 'N_Contrast',\n",
       " 'N_Gearys',\n",
       " 'NDVI']"
      ]
     },
     "execution_count": 10,
     "metadata": {},
     "output_type": "execute_result"
    }
   ],
   "source": [
    "#see what bands each image has:\n",
    "images['2020_la_county'].bandNames().getInfo()"
   ]
  },
  {
   "cell_type": "code",
   "execution_count": 11,
   "id": "80b827a2",
   "metadata": {},
   "outputs": [],
   "source": [
    "#test to see if NAIP plot looks correct\n",
    "Map.addLayer(images['2020_la_county'], {}, 'NAIP Test')"
   ]
  },
  {
   "cell_type": "code",
   "execution_count": 12,
   "id": "2ba9032f",
   "metadata": {},
   "outputs": [
    {
     "data": {
      "text/plain": [
       "<ee.image.Image at 0x7fc5de9b3130>"
      ]
     },
     "execution_count": 12,
     "metadata": {},
     "output_type": "execute_result"
    }
   ],
   "source": [
    "#test to see if NDVI plot looks correct (define a different location in santa clara county just for visibility)\n",
    "source_image = images['2020_sc_county']\n",
    "\n",
    "test_ndvi = source_image.normalizedDifference(['N', 'R']).rename('2020_NDVI')\n",
    "test_ndvi"
   ]
  },
  {
   "cell_type": "code",
   "execution_count": 13,
   "id": "71d3d869",
   "metadata": {},
   "outputs": [
    {
     "data": {
      "application/vnd.jupyter.widget-view+json": {
       "model_id": "70230669ff11413ca51fb281b45ab345",
       "version_major": 2,
       "version_minor": 0
      },
      "text/plain": [
       "Map(center=[20, 0], controls=(WidgetControl(options=['position', 'transparent_bg'], widget=HBox(children=(Togg…"
      ]
     },
     "metadata": {},
     "output_type": "display_data"
    }
   ],
   "source": [
    "Map.addLayer(test_ndvi,{min : -1, max : 1, 'palette' : ['blue', 'white', 'green']}, 'NDVI Test')\n",
    "Map"
   ]
  },
  {
   "cell_type": "markdown",
   "id": "63833bfb",
   "metadata": {},
   "source": [
    "## Load Labeled Data"
   ]
  },
  {
   "cell_type": "code",
   "execution_count": 17,
   "id": "35035293",
   "metadata": {},
   "outputs": [],
   "source": [
    "## Loading feature collections from Google Earth Engine\n",
    "\n",
    "#water = ee.FeatureCollection(\"projects/california-lawn-detection/assets/water_torrance\")\n",
    "water_training = ee.FeatureCollection(\"projects/california-lawn-detection/assets/water_training\")\n",
    "trees_training = ee.FeatureCollection(\"projects/california-lawn-detection/assets/trees_training\")\n",
    "grass_training = ee.FeatureCollection(\"projects/california-lawn-detection/assets/grass_training\")\n",
    "turf_training = ee.FeatureCollection(\"projects/california-lawn-detection/assets/turf_training\")\n",
    "#pv_training = ee.FeatureCollection(\"projects/california-lawn-detection/assets/pv_training\")\n",
    "impervious_training = ee.FeatureCollection(\"projects/california-lawn-detection/assets/impervious_training\").limit(50)\n",
    "soil_training = ee.FeatureCollection(\"projects/california-lawn-detection/assets/soil_training\").limit(50)\n",
    "\n",
    "LABELED_SET = water_training.merge(trees_training).merge(grass_training).merge(turf_training).merge(impervious_training).merge(soil_training)"
   ]
  },
  {
   "cell_type": "code",
   "execution_count": 18,
   "id": "aff2f129",
   "metadata": {},
   "outputs": [],
   "source": [
    "water_test = ee.FeatureCollection(\"projects/california-lawn-detection/assets/water_test\")\n",
    "vegetation_trees_test = ee.FeatureCollection(\"projects/california-lawn-detection/assets/trees_test\")\n",
    "vegetation_grass_test  = ee.FeatureCollection(\"projects/california-lawn-detection/assets/grass_test\")\n",
    "turf_test  = ee.FeatureCollection(\"projects/california-lawn-detection/assets/turf_test\")\n",
    "#pv_test  = ee.FeatureCollection(\"projects/california-lawn-detection/assets/pv_test\")\n",
    "impervious_test  = ee.FeatureCollection(\"projects/california-lawn-detection/assets/impervious_test\")\n",
    "soil_test  = ee.FeatureCollection(\"projects/california-lawn-detection/assets/soil_test\")\n",
    "\n",
    "TEST_SET = water_test.merge(vegetation_trees_test).merge(vegetation_grass_test).merge(turf_test).merge(impervious_test).merge(soil_test)"
   ]
  },
  {
   "cell_type": "markdown",
   "id": "647d395d",
   "metadata": {},
   "source": [
    "## Build Training Set"
   ]
  },
  {
   "cell_type": "code",
   "execution_count": 19,
   "id": "24aed902",
   "metadata": {},
   "outputs": [],
   "source": [
    "training_image_params = {\n",
    "        'source_image_collection' : 'USDA/NAIP/DOQQ',\n",
    "        'years' : [2020],\n",
    "        'counties': {'lacounty': la_county}\n",
    "         }\n",
    "\n",
    "TRAINING_IMAGE = get_images(training_image_params)['2020_lacounty']"
   ]
  },
  {
   "cell_type": "code",
   "execution_count": 29,
   "id": "7546e6ea",
   "metadata": {},
   "outputs": [],
   "source": [
    "# Overlay the points on the imagery to get training.\n",
    "LABEL = 'landcover'\n",
    "BANDS = ['R', 'G', 'B', 'N', 'NDVI',\n",
    "         'R_Entropy',\n",
    "         'R_Contrast',\n",
    "         'R_Gearys',\n",
    "         'G_Entropy',\n",
    "         'G_Contrast',\n",
    "         'G_Gearys',\n",
    "         'B_Entropy',\n",
    "         'B_Contrast',\n",
    "         'B_Gearys',\n",
    "         'N_Entropy', \n",
    "         'N_Contrast', \n",
    "         'N_Gearys']\n",
    "\n",
    "train_data = TRAINING_IMAGE.select(BANDS).sampleRegions(**{\n",
    "  'collection': LABELED_SET,\n",
    "  'properties': [LABEL],\n",
    "  'scale': 1\n",
    "})\n",
    "\n",
    "test_data = TRAINING_IMAGE.select(BANDS).sampleRegions(**{\n",
    "  'collection': TEST_SET,\n",
    "  'properties': [LABEL],\n",
    "  'scale': 1\n",
    "})"
   ]
  },
  {
   "cell_type": "code",
   "execution_count": 26,
   "id": "c86b10f9",
   "metadata": {},
   "outputs": [
    {
     "data": {
      "text/plain": [
       "True"
      ]
     },
     "execution_count": 26,
     "metadata": {},
     "output_type": "execute_result"
    }
   ],
   "source": [
    "set(BANDS)==set(TRAINING_IMAGE.bandNames().getInfo())"
   ]
  },
  {
   "cell_type": "code",
   "execution_count": 30,
   "id": "1cf81505",
   "metadata": {},
   "outputs": [
    {
     "name": "stdout",
     "output_type": "stream",
     "text": [
      "Training Set Size in Pixels 169069\n"
     ]
    }
   ],
   "source": [
    "print(\"Training Set Size in Pixels\", train_data.aggregate_count('R').getInfo())"
   ]
  },
  {
   "cell_type": "code",
   "execution_count": 31,
   "id": "65c0b9e2",
   "metadata": {},
   "outputs": [
    {
     "name": "stdout",
     "output_type": "stream",
     "text": [
      "Test Set Size in Pixels 97964\n"
     ]
    }
   ],
   "source": [
    "print(\"Test Set Size in Pixels\", test_data.aggregate_count('R').getInfo())"
   ]
  },
  {
   "cell_type": "markdown",
   "id": "d2d14792",
   "metadata": {},
   "source": [
    "## Machine Learning Model"
   ]
  },
  {
   "cell_type": "code",
   "execution_count": 132,
   "id": "dc660a11",
   "metadata": {},
   "outputs": [
    {
     "data": {
      "text/plain": [
       "<ee.Classifier at 0x7fc5dea8f880>"
      ]
     },
     "execution_count": 132,
     "metadata": {},
     "output_type": "execute_result"
    }
   ],
   "source": [
    "clf = ee.Classifier.smileRandomForest(numberOfTrees = 200, minLeafPopulation = 5, bagFraction= 0.7)\\\n",
    "                   .train(train_data, LABEL, BANDS)\n",
    "clf"
   ]
  },
  {
   "cell_type": "code",
   "execution_count": 182,
   "id": "bcf11478",
   "metadata": {},
   "outputs": [],
   "source": [
    "training_image_classified = TRAINING_IMAGE.select(BANDS)\\\n",
    "                                          .classify(clf)\n"
   ]
  },
  {
   "cell_type": "code",
   "execution_count": 156,
   "id": "df6daac9",
   "metadata": {},
   "outputs": [],
   "source": [
    "legend_keys = ['water', 'vegetation_trees', 'vegetation_grass', 'turf','impervious','soil']\n",
    "legend_colors = ['#0B6AEF', '#097407', '#0CE708', '#8C46D2' ,' #A1A8AF','#D47911']\n",
    "\n",
    "Map.addLayer(training_image_classified, {'min': 1, 'max': 7, 'palette': legend_colors}, 'Classification')"
   ]
  },
  {
   "cell_type": "code",
   "execution_count": 157,
   "id": "0c879e95",
   "metadata": {
    "scrolled": true
   },
   "outputs": [
    {
     "data": {
      "text/plain": [
       "['classification']"
      ]
     },
     "execution_count": 157,
     "metadata": {},
     "output_type": "execute_result"
    }
   ],
   "source": [
    "training_image_classified.bandNames().getInfo()"
   ]
  },
  {
   "cell_type": "code",
   "execution_count": 161,
   "id": "f8a8f940",
   "metadata": {
    "scrolled": false
   },
   "outputs": [
    {
     "data": {
      "application/vnd.jupyter.widget-view+json": {
       "model_id": "70230669ff11413ca51fb281b45ab345",
       "version_major": 2,
       "version_minor": 0
      },
      "text/plain": [
       "Map(bottom=13102.0, center=[36.58024660149866, -120.65734863281251], controls=(WidgetControl(options=['positio…"
      ]
     },
     "metadata": {},
     "output_type": "display_data"
    }
   ],
   "source": [
    "Map"
   ]
  },
  {
   "cell_type": "markdown",
   "id": "1f6104e6",
   "metadata": {},
   "source": [
    "## Evaluation Metrics\n",
    "\n",
    "### Train Accuracy"
   ]
  },
  {
   "cell_type": "code",
   "execution_count": 163,
   "id": "74cf8cc7",
   "metadata": {},
   "outputs": [],
   "source": [
    "train_accuracy = train_data.classify(clf).errorMatrix('landcover', 'classification')\n",
    "train_conf_matrix = train_accuracy.getInfo()"
   ]
  },
  {
   "cell_type": "code",
   "execution_count": 238,
   "id": "8bb5743e",
   "metadata": {},
   "outputs": [
    {
     "name": "stdout",
     "output_type": "stream",
     "text": [
      "Spot check to confirm pixel numbers: 169069\n"
     ]
    },
    {
     "data": {
      "text/plain": [
       "[[1331, 1, 0, 1, 1, 0],\n",
       " [0, 9475, 40, 8, 12, 11],\n",
       " [0, 93, 6591, 2, 0, 38],\n",
       " [0, 15, 1, 2398, 5, 0],\n",
       " [0, 3, 0, 4, 21239, 60],\n",
       " [0, 12, 1, 2, 37, 127688]]"
      ]
     },
     "execution_count": 238,
     "metadata": {},
     "output_type": "execute_result"
    }
   ],
   "source": [
    "print(f'Spot check to confirm pixel numbers: {np.array(train_conf_matrix).sum()}')\n",
    "train_conf_matrix"
   ]
  },
  {
   "cell_type": "markdown",
   "id": "2282a24a",
   "metadata": {},
   "source": [
    "### Test Accuracy"
   ]
  },
  {
   "cell_type": "code",
   "execution_count": 165,
   "id": "bd6fc759",
   "metadata": {},
   "outputs": [],
   "source": [
    "test_accuracy = test_data.classify(clf).errorMatrix('landcover', 'classification')\n",
    "test_conf_matrix = test_accuracy.getInfo()"
   ]
  },
  {
   "cell_type": "code",
   "execution_count": 239,
   "id": "c3d2bacb",
   "metadata": {},
   "outputs": [
    {
     "name": "stdout",
     "output_type": "stream",
     "text": [
      "Spot check to confirm pixel numbers: 97964\n"
     ]
    },
    {
     "data": {
      "text/plain": [
       "[[275, 0, 0, 0, 0, 0],\n",
       " [0, 2620, 141, 16, 12, 12],\n",
       " [0, 164, 1327, 3, 0, 38],\n",
       " [0, 29, 0, 602, 222, 7],\n",
       " [9, 3, 4, 847, 70443, 1647],\n",
       " [0, 36, 151, 23, 387, 18946]]"
      ]
     },
     "execution_count": 239,
     "metadata": {},
     "output_type": "execute_result"
    }
   ],
   "source": [
    "print(f'Spot check to confirm pixel numbers: {np.array(test_conf_matrix).sum()}')\n",
    "test_conf_matrix"
   ]
  },
  {
   "cell_type": "markdown",
   "id": "44864eb7",
   "metadata": {},
   "source": [
    "## Binary Classification and Area Calculation"
   ]
  },
  {
   "cell_type": "code",
   "execution_count": 167,
   "id": "ad8c6c4f",
   "metadata": {},
   "outputs": [],
   "source": [
    "def area_calculation(image, class_number, shape, pixel_scale = 20):\n",
    "\n",
    "    if type(shape) == str:\n",
    "        shape = la_county_income_zipcode.filter(ee.Filter.eq('ZipCode', shape))\n",
    "\n",
    "    areaImage = image.eq(class_number).multiply(ee.Image.pixelArea())\n",
    "\n",
    "    area = areaImage.reduceRegion(\n",
    "        reducer = ee.Reducer.sum(),\n",
    "        geometry = shape,\n",
    "        scale = pixel_scale,\n",
    "        maxPixels = 1e13)\n",
    "\n",
    "\n",
    "    area_sq_m = area.getInfo().get('classification')\n",
    "\n",
    "    area_sq_km = area_sq_m / 1e6\n",
    "\n",
    "    return area_sq_km"
   ]
  },
  {
   "cell_type": "code",
   "execution_count": 242,
   "id": "2848349d",
   "metadata": {},
   "outputs": [],
   "source": [
    "def ndvi_calculation(image, class_number, shape, ref_image, pixel_scale=1):\n",
    "    \n",
    "    if type(shape) == str:\n",
    "        shape = la_county_income_zipcode.filter(ee.Filter.eq('ZipCode', shape))\n",
    "        \n",
    "    ndvi = ref_image.normalizedDifference(['N', 'R'])\n",
    "    image_clipped = image.clip(shape)\n",
    "    \n",
    "    NDVI_for_class = ndvi.updateMask(image_clipped.select('classification').eq(class_number))\n",
    "    \n",
    "    reducer = ee.Reducer.mean()\\\n",
    "                        .combine(ee.Reducer.max(),sharedInputs=True)\\\n",
    "                        .combine(ee.Reducer.min(),sharedInputs=True)\n",
    "    \n",
    "    \n",
    "    qty = NDVI_for_class.reduceRegion(\n",
    "        reducer = reducer, \n",
    "        geometry = shape, \n",
    "        scale = pixel_scale, \n",
    "        maxPixels = 1e13)\n",
    "    return qty\n",
    "\n"
   ]
  },
  {
   "cell_type": "markdown",
   "id": "d6fd8997",
   "metadata": {},
   "source": [
    "### Create Panel Data"
   ]
  },
  {
   "cell_type": "code",
   "execution_count": 168,
   "id": "784fd2be",
   "metadata": {},
   "outputs": [],
   "source": [
    "la_county_income_zipcode2 = ee.FeatureCollection(\"projects/california-lawn-detection/assets/income_zipcode2019\")\n",
    "la_county_income_zipcode = la_county_income_zipcode2.select(ee.List(['zipcode', '2019zipcod','shape_area']), ee.List(['ZipCode', 'Median_Income','Area_sqft']))"
   ]
  },
  {
   "cell_type": "code",
   "execution_count": 169,
   "id": "a864f371",
   "metadata": {},
   "outputs": [],
   "source": [
    "year_list = [2010,2012, 2014, 2016, 2018,2020]\n",
    "zipcode_list = ['90802','90732','90744']"
   ]
  },
  {
   "cell_type": "code",
   "execution_count": 170,
   "id": "497c6be0",
   "metadata": {},
   "outputs": [
    {
     "data": {
      "text/plain": [
       "{'2010_lacounty': <ee.image.Image at 0x7fc5cd6cc7f0>,\n",
       " '2012_lacounty': <ee.image.Image at 0x7fc5cd6cc9d0>,\n",
       " '2014_lacounty': <ee.image.Image at 0x7fc5cd6ccbb0>,\n",
       " '2016_lacounty': <ee.image.Image at 0x7fc5cd6ccd90>,\n",
       " '2018_lacounty': <ee.image.Image at 0x7fc5cd6ccf70>,\n",
       " '2020_lacounty': <ee.image.Image at 0x7fc5deed5190>}"
      ]
     },
     "execution_count": 170,
     "metadata": {},
     "output_type": "execute_result"
    }
   ],
   "source": [
    "test_image_params = {\n",
    "        'source_image_collection' : 'USDA/NAIP/DOQQ',\n",
    "        'years' : year_list,\n",
    "        'counties': {'lacounty': la_county}\n",
    "         }\n",
    "\n",
    "inference_images = get_images(test_image_params)\n",
    "inference_images"
   ]
  },
  {
   "cell_type": "code",
   "execution_count": 234,
   "id": "4bc82b5f",
   "metadata": {},
   "outputs": [
    {
     "name": "stdout",
     "output_type": "stream",
     "text": [
      "Zip Code: 90802, Year: 2010 ::: completed in 331.3719470500946 seconds.\n",
      "Zip Code: 90802, Year: 2012 ::: completed in 307.2515461444855 seconds.\n",
      "Zip Code: 90802, Year: 2014 ::: completed in 342.20788311958313 seconds.\n",
      "Zip Code: 90802, Year: 2016 ::: completed in 375.58648014068604 seconds.\n",
      "Zip Code: 90802, Year: 2018 ::: completed in 323.15991616249084 seconds.\n",
      "Zip Code: 90802, Year: 2020 ::: completed in 7.173851013183594 seconds.\n",
      "Zip Code: 90732, Year: 2010 ::: completed in 262.538950920105 seconds.\n",
      "Zip Code: 90732, Year: 2012 ::: completed in 234.1767921447754 seconds.\n",
      "Zip Code: 90732, Year: 2014 ::: completed in 231.3140869140625 seconds.\n",
      "Zip Code: 90732, Year: 2016 ::: completed in 253.4838593006134 seconds.\n",
      "Zip Code: 90732, Year: 2018 ::: completed in 263.2027108669281 seconds.\n",
      "Zip Code: 90732, Year: 2020 ::: completed in 6.041737794876099 seconds.\n",
      "Zip Code: 90744, Year: 2010 ::: completed in 454.63540983200073 seconds.\n",
      "Zip Code: 90744, Year: 2012 ::: completed in 362.1723630428314 seconds.\n",
      "Zip Code: 90744, Year: 2014 ::: completed in 350.1935029029846 seconds.\n",
      "Zip Code: 90744, Year: 2016 ::: completed in 403.190416097641 seconds.\n",
      "Zip Code: 90744, Year: 2018 ::: completed in 357.91645407676697 seconds.\n",
      "Zip Code: 90744, Year: 2020 ::: completed in 6.021120071411133 seconds.\n"
     ]
    }
   ],
   "source": [
    "keys = {'year','polygon','water_area','vegetation_trees_area', \n",
    "        'vegetation_grass_area', 'turf_area', 'impervious_area',\n",
    "        'soil_area', 'total_area','tree_ndvi_mean', 'tree_ndvi_max','tree_ndvi_min',\n",
    "       'grass_ndvi_mean', 'grass_ndvi_max','grass_ndvi_min'}\n",
    "\n",
    "\n",
    "dictionary = {}\n",
    "for i in keys:\n",
    "    dictionary[i] = []\n",
    "\n",
    "for i in zipcode_list:\n",
    "    for j in list(inference_images.items()):\n",
    "        im = j[1]\n",
    "        imagery = im.select(BANDS).classify(clf)\n",
    "        name = j[0]\n",
    "        \n",
    "        start = time()\n",
    "        polygon = la_county_income_zipcode.filter(ee.Filter.eq('ZipCode', i))\n",
    "\n",
    "        dictionary['year'].append(j[0][:4]) \n",
    "        dictionary['polygon'].append(i)\n",
    "\n",
    "        water_area = area_calculation(imagery, 0, polygon, 20)\n",
    "        dictionary['water_area'].append(water_area)\n",
    "\n",
    "        vegetation_trees_area = area_calculation(imagery, 1, polygon, 20)\n",
    "        dictionary['vegetation_trees_area'].append(vegetation_trees_area)\n",
    "\n",
    "        vegetation_grass_area = area_calculation(imagery, 2, polygon, 20)\n",
    "        dictionary['vegetation_grass_area'].append(vegetation_grass_area)\n",
    "\n",
    "        turf_area = area_calculation(imagery, 3, polygon, 20)\n",
    "        dictionary['turf_area'].append(turf_area)\n",
    "\n",
    "        impervious_area = area_calculation(imagery, 4, polygon, 20)\n",
    "        dictionary['impervious_area'].append(impervious_area)\n",
    "\n",
    "        soil_area = area_calculation(imagery, 5, polygon, 20)\n",
    "        dictionary['soil_area'].append(soil_area)\n",
    "\n",
    "        total_area = water_area + vegetation_trees_area + vegetation_grass_area + turf_area + impervious_area + soil_area\n",
    "        dictionary['total_area'].append(total_area)\n",
    "        \n",
    "        tree_ndvi_mean, tree_ndvi_max, tree_ndvi_min = ndvi_calculation(imagery, 1, polygon, ref = im).getInfo().values()\n",
    "        dictionary['tree_ndvi_mean'].append(tree_ndvi_mean)\n",
    "        dictionary['tree_ndvi_max'].append(tree_ndvi_max)\n",
    "        dictionary['tree_ndvi_min'].append(tree_ndvi_min)\n",
    "        \n",
    "        grass_ndvi_mean, grass_ndvi_max, grass_ndvi_min = ndvi_calculation(imagery, 2, polygon, ref = im).getInfo().values()\n",
    "        dictionary['grass_ndvi_mean'].append(grass_ndvi_mean)\n",
    "        dictionary['grass_ndvi_max'].append(grass_ndvi_max)\n",
    "        dictionary['grass_ndvi_min'].append(grass_ndvi_min)\n",
    "        \n",
    "        \n",
    "        \n",
    "        end = time()\n",
    "        print(f'Zip Code: {i}, Year: {j[0][:4]} ::: completed in {end-start} seconds.')\n",
    "              \n",
    "              \n",
    "              "
   ]
  },
  {
   "cell_type": "code",
   "execution_count": 235,
   "id": "3882c52f",
   "metadata": {},
   "outputs": [
    {
     "data": {
      "text/html": [
       "<div>\n",
       "<style scoped>\n",
       "    .dataframe tbody tr th:only-of-type {\n",
       "        vertical-align: middle;\n",
       "    }\n",
       "\n",
       "    .dataframe tbody tr th {\n",
       "        vertical-align: top;\n",
       "    }\n",
       "\n",
       "    .dataframe thead th {\n",
       "        text-align: right;\n",
       "    }\n",
       "</style>\n",
       "<table border=\"1\" class=\"dataframe\">\n",
       "  <thead>\n",
       "    <tr style=\"text-align: right;\">\n",
       "      <th></th>\n",
       "      <th>turf_area</th>\n",
       "      <th>year</th>\n",
       "      <th>grass_ndvi_min</th>\n",
       "      <th>tree_ndvi_min</th>\n",
       "      <th>vegetation_trees_area</th>\n",
       "      <th>total_area</th>\n",
       "      <th>polygon</th>\n",
       "      <th>tree_ndvi_mean</th>\n",
       "      <th>water_area</th>\n",
       "      <th>impervious_area</th>\n",
       "      <th>grass_ndvi_mean</th>\n",
       "      <th>tree_ndvi_max</th>\n",
       "      <th>soil_area</th>\n",
       "      <th>grass_ndvi_max</th>\n",
       "      <th>vegetation_grass_area</th>\n",
       "    </tr>\n",
       "  </thead>\n",
       "  <tbody>\n",
       "    <tr>\n",
       "      <th>0</th>\n",
       "      <td>0.020524</td>\n",
       "      <td>2010</td>\n",
       "      <td>0.066667</td>\n",
       "      <td>-1.000000</td>\n",
       "      <td>0.567951</td>\n",
       "      <td>14.756617</td>\n",
       "      <td>90802</td>\n",
       "      <td>0.580645</td>\n",
       "      <td>0.020307</td>\n",
       "      <td>3.961103</td>\n",
       "      <td>0.564246</td>\n",
       "      <td>0.197091</td>\n",
       "      <td>9.946693</td>\n",
       "      <td>0.201082</td>\n",
       "      <td>0.240040</td>\n",
       "    </tr>\n",
       "    <tr>\n",
       "      <th>1</th>\n",
       "      <td>0.022223</td>\n",
       "      <td>2012</td>\n",
       "      <td>0.071942</td>\n",
       "      <td>-0.909091</td>\n",
       "      <td>0.036484</td>\n",
       "      <td>14.756617</td>\n",
       "      <td>90802</td>\n",
       "      <td>0.896552</td>\n",
       "      <td>4.336096</td>\n",
       "      <td>10.240158</td>\n",
       "      <td>0.935897</td>\n",
       "      <td>0.356585</td>\n",
       "      <td>0.000000</td>\n",
       "      <td>0.369144</td>\n",
       "      <td>0.121657</td>\n",
       "    </tr>\n",
       "    <tr>\n",
       "      <th>2</th>\n",
       "      <td>0.132617</td>\n",
       "      <td>2014</td>\n",
       "      <td>-0.002625</td>\n",
       "      <td>-1.000000</td>\n",
       "      <td>0.117972</td>\n",
       "      <td>14.756617</td>\n",
       "      <td>90802</td>\n",
       "      <td>0.753846</td>\n",
       "      <td>0.592164</td>\n",
       "      <td>13.647141</td>\n",
       "      <td>0.810811</td>\n",
       "      <td>0.266801</td>\n",
       "      <td>0.055013</td>\n",
       "      <td>0.337255</td>\n",
       "      <td>0.211711</td>\n",
       "    </tr>\n",
       "    <tr>\n",
       "      <th>3</th>\n",
       "      <td>1.293212</td>\n",
       "      <td>2016</td>\n",
       "      <td>-0.003559</td>\n",
       "      <td>-0.007194</td>\n",
       "      <td>0.150912</td>\n",
       "      <td>14.756617</td>\n",
       "      <td>90802</td>\n",
       "      <td>0.547619</td>\n",
       "      <td>0.000000</td>\n",
       "      <td>11.192958</td>\n",
       "      <td>0.538126</td>\n",
       "      <td>0.267496</td>\n",
       "      <td>1.871144</td>\n",
       "      <td>0.278476</td>\n",
       "      <td>0.248391</td>\n",
       "    </tr>\n",
       "    <tr>\n",
       "      <th>4</th>\n",
       "      <td>0.226933</td>\n",
       "      <td>2018</td>\n",
       "      <td>0.048458</td>\n",
       "      <td>-0.615385</td>\n",
       "      <td>0.147730</td>\n",
       "      <td>14.756617</td>\n",
       "      <td>90802</td>\n",
       "      <td>0.711628</td>\n",
       "      <td>0.400216</td>\n",
       "      <td>13.764950</td>\n",
       "      <td>0.707547</td>\n",
       "      <td>0.316654</td>\n",
       "      <td>0.062795</td>\n",
       "      <td>0.364322</td>\n",
       "      <td>0.153992</td>\n",
       "    </tr>\n",
       "    <tr>\n",
       "      <th>5</th>\n",
       "      <td>1.127961</td>\n",
       "      <td>2020</td>\n",
       "      <td>-0.018750</td>\n",
       "      <td>-0.293103</td>\n",
       "      <td>0.303413</td>\n",
       "      <td>14.756617</td>\n",
       "      <td>90802</td>\n",
       "      <td>0.681818</td>\n",
       "      <td>0.000000</td>\n",
       "      <td>9.826548</td>\n",
       "      <td>0.677130</td>\n",
       "      <td>0.311851</td>\n",
       "      <td>3.206738</td>\n",
       "      <td>0.320822</td>\n",
       "      <td>0.291956</td>\n",
       "    </tr>\n",
       "    <tr>\n",
       "      <th>6</th>\n",
       "      <td>0.049900</td>\n",
       "      <td>2010</td>\n",
       "      <td>0.067961</td>\n",
       "      <td>-0.300000</td>\n",
       "      <td>0.342060</td>\n",
       "      <td>8.231549</td>\n",
       "      <td>90732</td>\n",
       "      <td>1.000000</td>\n",
       "      <td>0.000000</td>\n",
       "      <td>3.723097</td>\n",
       "      <td>1.000000</td>\n",
       "      <td>0.348123</td>\n",
       "      <td>3.333733</td>\n",
       "      <td>0.236906</td>\n",
       "      <td>0.782760</td>\n",
       "    </tr>\n",
       "    <tr>\n",
       "      <th>7</th>\n",
       "      <td>0.338561</td>\n",
       "      <td>2012</td>\n",
       "      <td>0.075988</td>\n",
       "      <td>-1.000000</td>\n",
       "      <td>0.314949</td>\n",
       "      <td>8.231549</td>\n",
       "      <td>90732</td>\n",
       "      <td>0.920000</td>\n",
       "      <td>1.001474</td>\n",
       "      <td>5.615781</td>\n",
       "      <td>0.940299</td>\n",
       "      <td>0.382882</td>\n",
       "      <td>0.218328</td>\n",
       "      <td>0.403049</td>\n",
       "      <td>0.742456</td>\n",
       "    </tr>\n",
       "    <tr>\n",
       "      <th>8</th>\n",
       "      <td>0.222701</td>\n",
       "      <td>2014</td>\n",
       "      <td>-0.009404</td>\n",
       "      <td>-1.000000</td>\n",
       "      <td>0.854109</td>\n",
       "      <td>8.231549</td>\n",
       "      <td>90732</td>\n",
       "      <td>0.844444</td>\n",
       "      <td>0.090093</td>\n",
       "      <td>4.893265</td>\n",
       "      <td>0.871795</td>\n",
       "      <td>0.383804</td>\n",
       "      <td>1.085189</td>\n",
       "      <td>0.369956</td>\n",
       "      <td>1.086193</td>\n",
       "    </tr>\n",
       "    <tr>\n",
       "      <th>9</th>\n",
       "      <td>0.538597</td>\n",
       "      <td>2016</td>\n",
       "      <td>-0.020649</td>\n",
       "      <td>-0.483146</td>\n",
       "      <td>0.490740</td>\n",
       "      <td>8.231549</td>\n",
       "      <td>90732</td>\n",
       "      <td>0.885417</td>\n",
       "      <td>0.010787</td>\n",
       "      <td>3.813398</td>\n",
       "      <td>0.882353</td>\n",
       "      <td>0.304986</td>\n",
       "      <td>2.880041</td>\n",
       "      <td>0.351630</td>\n",
       "      <td>0.497986</td>\n",
       "    </tr>\n",
       "    <tr>\n",
       "      <th>10</th>\n",
       "      <td>0.434912</td>\n",
       "      <td>2018</td>\n",
       "      <td>0.054054</td>\n",
       "      <td>-0.463415</td>\n",
       "      <td>0.685563</td>\n",
       "      <td>8.231549</td>\n",
       "      <td>90732</td>\n",
       "      <td>0.714286</td>\n",
       "      <td>0.029005</td>\n",
       "      <td>4.708557</td>\n",
       "      <td>0.706122</td>\n",
       "      <td>0.367899</td>\n",
       "      <td>1.602252</td>\n",
       "      <td>0.359594</td>\n",
       "      <td>0.771261</td>\n",
       "    </tr>\n",
       "    <tr>\n",
       "      <th>11</th>\n",
       "      <td>0.486332</td>\n",
       "      <td>2020</td>\n",
       "      <td>-0.028169</td>\n",
       "      <td>-0.142857</td>\n",
       "      <td>1.393330</td>\n",
       "      <td>8.231549</td>\n",
       "      <td>90732</td>\n",
       "      <td>0.706522</td>\n",
       "      <td>0.000000</td>\n",
       "      <td>1.390442</td>\n",
       "      <td>0.691589</td>\n",
       "      <td>0.398098</td>\n",
       "      <td>4.496650</td>\n",
       "      <td>0.344822</td>\n",
       "      <td>0.464795</td>\n",
       "    </tr>\n",
       "    <tr>\n",
       "      <th>12</th>\n",
       "      <td>0.121646</td>\n",
       "      <td>2010</td>\n",
       "      <td>0.071186</td>\n",
       "      <td>-0.413793</td>\n",
       "      <td>0.734982</td>\n",
       "      <td>22.599279</td>\n",
       "      <td>90744</td>\n",
       "      <td>1.000000</td>\n",
       "      <td>0.007317</td>\n",
       "      <td>2.296261</td>\n",
       "      <td>0.741176</td>\n",
       "      <td>0.240327</td>\n",
       "      <td>18.996332</td>\n",
       "      <td>0.202491</td>\n",
       "      <td>0.442741</td>\n",
       "    </tr>\n",
       "    <tr>\n",
       "      <th>13</th>\n",
       "      <td>0.100949</td>\n",
       "      <td>2012</td>\n",
       "      <td>0.065217</td>\n",
       "      <td>-1.000000</td>\n",
       "      <td>0.351194</td>\n",
       "      <td>22.599279</td>\n",
       "      <td>90744</td>\n",
       "      <td>0.900000</td>\n",
       "      <td>5.397406</td>\n",
       "      <td>16.361778</td>\n",
       "      <td>0.990148</td>\n",
       "      <td>0.392878</td>\n",
       "      <td>0.021556</td>\n",
       "      <td>0.391799</td>\n",
       "      <td>0.366396</td>\n",
       "    </tr>\n",
       "    <tr>\n",
       "      <th>14</th>\n",
       "      <td>0.147651</td>\n",
       "      <td>2014</td>\n",
       "      <td>-0.024845</td>\n",
       "      <td>-1.000000</td>\n",
       "      <td>0.603171</td>\n",
       "      <td>22.599279</td>\n",
       "      <td>90744</td>\n",
       "      <td>0.730233</td>\n",
       "      <td>0.233864</td>\n",
       "      <td>20.407595</td>\n",
       "      <td>0.742268</td>\n",
       "      <td>0.307218</td>\n",
       "      <td>0.611103</td>\n",
       "      <td>0.349179</td>\n",
       "      <td>0.595896</td>\n",
       "    </tr>\n",
       "    <tr>\n",
       "      <th>15</th>\n",
       "      <td>1.552839</td>\n",
       "      <td>2016</td>\n",
       "      <td>-0.021277</td>\n",
       "      <td>-0.044776</td>\n",
       "      <td>0.317527</td>\n",
       "      <td>22.599279</td>\n",
       "      <td>90744</td>\n",
       "      <td>0.586777</td>\n",
       "      <td>0.000000</td>\n",
       "      <td>14.618898</td>\n",
       "      <td>0.590551</td>\n",
       "      <td>0.277436</td>\n",
       "      <td>5.908263</td>\n",
       "      <td>0.279323</td>\n",
       "      <td>0.201752</td>\n",
       "    </tr>\n",
       "    <tr>\n",
       "      <th>16</th>\n",
       "      <td>0.224936</td>\n",
       "      <td>2018</td>\n",
       "      <td>0.041096</td>\n",
       "      <td>-0.674419</td>\n",
       "      <td>0.410610</td>\n",
       "      <td>22.599279</td>\n",
       "      <td>90744</td>\n",
       "      <td>0.700000</td>\n",
       "      <td>0.438686</td>\n",
       "      <td>20.035916</td>\n",
       "      <td>0.689320</td>\n",
       "      <td>0.340319</td>\n",
       "      <td>1.121071</td>\n",
       "      <td>0.339765</td>\n",
       "      <td>0.368060</td>\n",
       "    </tr>\n",
       "    <tr>\n",
       "      <th>17</th>\n",
       "      <td>1.776776</td>\n",
       "      <td>2020</td>\n",
       "      <td>-0.015773</td>\n",
       "      <td>-0.076923</td>\n",
       "      <td>1.031512</td>\n",
       "      <td>22.599279</td>\n",
       "      <td>90744</td>\n",
       "      <td>0.740541</td>\n",
       "      <td>0.000000</td>\n",
       "      <td>9.358351</td>\n",
       "      <td>0.706161</td>\n",
       "      <td>0.361051</td>\n",
       "      <td>9.907852</td>\n",
       "      <td>0.333721</td>\n",
       "      <td>0.524788</td>\n",
       "    </tr>\n",
       "  </tbody>\n",
       "</table>\n",
       "</div>"
      ],
      "text/plain": [
       "    turf_area  year  grass_ndvi_min  tree_ndvi_min  vegetation_trees_area  \\\n",
       "0    0.020524  2010        0.066667      -1.000000               0.567951   \n",
       "1    0.022223  2012        0.071942      -0.909091               0.036484   \n",
       "2    0.132617  2014       -0.002625      -1.000000               0.117972   \n",
       "3    1.293212  2016       -0.003559      -0.007194               0.150912   \n",
       "4    0.226933  2018        0.048458      -0.615385               0.147730   \n",
       "5    1.127961  2020       -0.018750      -0.293103               0.303413   \n",
       "6    0.049900  2010        0.067961      -0.300000               0.342060   \n",
       "7    0.338561  2012        0.075988      -1.000000               0.314949   \n",
       "8    0.222701  2014       -0.009404      -1.000000               0.854109   \n",
       "9    0.538597  2016       -0.020649      -0.483146               0.490740   \n",
       "10   0.434912  2018        0.054054      -0.463415               0.685563   \n",
       "11   0.486332  2020       -0.028169      -0.142857               1.393330   \n",
       "12   0.121646  2010        0.071186      -0.413793               0.734982   \n",
       "13   0.100949  2012        0.065217      -1.000000               0.351194   \n",
       "14   0.147651  2014       -0.024845      -1.000000               0.603171   \n",
       "15   1.552839  2016       -0.021277      -0.044776               0.317527   \n",
       "16   0.224936  2018        0.041096      -0.674419               0.410610   \n",
       "17   1.776776  2020       -0.015773      -0.076923               1.031512   \n",
       "\n",
       "    total_area polygon  tree_ndvi_mean  water_area  impervious_area  \\\n",
       "0    14.756617   90802        0.580645    0.020307         3.961103   \n",
       "1    14.756617   90802        0.896552    4.336096        10.240158   \n",
       "2    14.756617   90802        0.753846    0.592164        13.647141   \n",
       "3    14.756617   90802        0.547619    0.000000        11.192958   \n",
       "4    14.756617   90802        0.711628    0.400216        13.764950   \n",
       "5    14.756617   90802        0.681818    0.000000         9.826548   \n",
       "6     8.231549   90732        1.000000    0.000000         3.723097   \n",
       "7     8.231549   90732        0.920000    1.001474         5.615781   \n",
       "8     8.231549   90732        0.844444    0.090093         4.893265   \n",
       "9     8.231549   90732        0.885417    0.010787         3.813398   \n",
       "10    8.231549   90732        0.714286    0.029005         4.708557   \n",
       "11    8.231549   90732        0.706522    0.000000         1.390442   \n",
       "12   22.599279   90744        1.000000    0.007317         2.296261   \n",
       "13   22.599279   90744        0.900000    5.397406        16.361778   \n",
       "14   22.599279   90744        0.730233    0.233864        20.407595   \n",
       "15   22.599279   90744        0.586777    0.000000        14.618898   \n",
       "16   22.599279   90744        0.700000    0.438686        20.035916   \n",
       "17   22.599279   90744        0.740541    0.000000         9.358351   \n",
       "\n",
       "    grass_ndvi_mean  tree_ndvi_max  soil_area  grass_ndvi_max  \\\n",
       "0          0.564246       0.197091   9.946693        0.201082   \n",
       "1          0.935897       0.356585   0.000000        0.369144   \n",
       "2          0.810811       0.266801   0.055013        0.337255   \n",
       "3          0.538126       0.267496   1.871144        0.278476   \n",
       "4          0.707547       0.316654   0.062795        0.364322   \n",
       "5          0.677130       0.311851   3.206738        0.320822   \n",
       "6          1.000000       0.348123   3.333733        0.236906   \n",
       "7          0.940299       0.382882   0.218328        0.403049   \n",
       "8          0.871795       0.383804   1.085189        0.369956   \n",
       "9          0.882353       0.304986   2.880041        0.351630   \n",
       "10         0.706122       0.367899   1.602252        0.359594   \n",
       "11         0.691589       0.398098   4.496650        0.344822   \n",
       "12         0.741176       0.240327  18.996332        0.202491   \n",
       "13         0.990148       0.392878   0.021556        0.391799   \n",
       "14         0.742268       0.307218   0.611103        0.349179   \n",
       "15         0.590551       0.277436   5.908263        0.279323   \n",
       "16         0.689320       0.340319   1.121071        0.339765   \n",
       "17         0.706161       0.361051   9.907852        0.333721   \n",
       "\n",
       "    vegetation_grass_area  \n",
       "0                0.240040  \n",
       "1                0.121657  \n",
       "2                0.211711  \n",
       "3                0.248391  \n",
       "4                0.153992  \n",
       "5                0.291956  \n",
       "6                0.782760  \n",
       "7                0.742456  \n",
       "8                1.086193  \n",
       "9                0.497986  \n",
       "10               0.771261  \n",
       "11               0.464795  \n",
       "12               0.442741  \n",
       "13               0.366396  \n",
       "14               0.595896  \n",
       "15               0.201752  \n",
       "16               0.368060  \n",
       "17               0.524788  "
      ]
     },
     "execution_count": 235,
     "metadata": {},
     "output_type": "execute_result"
    }
   ],
   "source": [
    "#extract just necessary columns from dictionary dataframe\n",
    "df = pd.DataFrame(dictionary) #[['polygon','soil_area','vegetation_grass_area','water_area','vegetation_trees_area','impervious_area','turf_area']]\n",
    "df"
   ]
  },
  {
   "cell_type": "markdown",
   "id": "6a0c2724",
   "metadata": {},
   "source": [
    "### Plot Area Results"
   ]
  },
  {
   "cell_type": "code",
   "execution_count": 236,
   "id": "63299c59",
   "metadata": {},
   "outputs": [
    {
     "data": {
      "image/png": "[encoded data removed]",
      "text/plain": [
       "<Figure size 1440x360 with 3 Axes>"
      ]
     },
     "metadata": {
      "needs_background": "light"
     },
     "output_type": "display_data"
    }
   ],
   "source": [
    "years= [2010, 2012, 2014, 2016, 2018, 2020]\n",
    "zips = df.polygon.unique()\n",
    "fig, ax = plt.subplots(1,3, figsize = (20,5))\n",
    "\n",
    "labels = [ 'soil_area',\n",
    " 'vegetation_grass_area',\n",
    " 'water_area',\n",
    " 'vegetation_trees_area',\n",
    " 'turf_area']\n",
    "\n",
    "colors = ['brown','#66CC00','#3399FF','#FF8000','#9933FF']\n",
    "\n",
    "\n",
    "for i in range(3):\n",
    "    for j in range(len(labels)):\n",
    "        if j == 'polygon':\n",
    "            continue\n",
    "        else:\n",
    "            d = df[df.polygon == zips[i]]\n",
    "            ax[i].plot(years, d[labels[j]], color = colors[j], label = labels[j])\n",
    "    ax[i].set_title(f'Zip Code: {zips[i]}', size = 15)\n",
    "    ax[i].set_xlabel('Year', size = 13)\n",
    "    ax[i].set_ylabel('Area (Square Kilometers)', size = 13)\n",
    "    ax[i].set_ylim(0,11)\n",
    "    ax[0].legend()\n",
    "    \n",
    "# plt.savefig(fname = 'test.png', dpi = 200)"
   ]
  }
 ],
 "metadata": {
  "kernelspec": {
   "display_name": "Python 3",
   "language": "python",
   "name": "python3"
  },
  "language_info": {
   "codemirror_mode": {
    "name": "ipython",
    "version": 3
   },
   "file_extension": ".py",
   "mimetype": "text/x-python",
   "name": "python",
   "nbconvert_exporter": "python",
   "pygments_lexer": "ipython3",
   "version": "3.8.3"
  }
 },
 "nbformat": 4,
 "nbformat_minor": 5
}
