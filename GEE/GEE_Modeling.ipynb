{
 "cells": [
  {
   "cell_type": "code",
   "execution_count": 12,
   "id": "945b7b60",
   "metadata": {},
   "outputs": [],
   "source": [
    "#Import required libraries\n",
    "import ee\n",
    "import geemap\n",
    "import mod.eeImage\n",
    "import mod.eeModel\n",
    "from mod.eeArea import area_calculation, get_areas"
   ]
  },
  {
   "cell_type": "code",
   "execution_count": 13,
   "id": "187182ee",
   "metadata": {},
   "outputs": [],
   "source": [
    "#Initialize Google Earth Engine\n",
    "# ee.Authenticate() #just needed the 1st time\n",
    "ee.Initialize()"
   ]
  },
  {
   "cell_type": "markdown",
   "id": "9b5c6dd9",
   "metadata": {},
   "source": [
    "### Import Images of LA from "
   ]
  },
  {
   "cell_type": "code",
   "execution_count": 14,
   "id": "43b97250",
   "metadata": {},
   "outputs": [],
   "source": [
    "params = {\n",
    "        'source_image_collection' : 'USDA/NAIP/DOQQ',\n",
    "        'years' : [2010,2012,2014,2016,2018,2020]\n",
    "         }"
   ]
  },
  {
   "cell_type": "code",
   "execution_count": 15,
   "id": "eaf80a17",
   "metadata": {
    "scrolled": true
   },
   "outputs": [
    {
     "data": {
      "text/plain": [
       "{'2010_la_county': <ee.image.Image at 0x7fa0e0791100>,\n",
       " '2012_la_county': <ee.image.Image at 0x7fa0e07912e0>,\n",
       " '2014_la_county': <ee.image.Image at 0x7fa0e07914c0>,\n",
       " '2016_la_county': <ee.image.Image at 0x7fa0e07916a0>,\n",
       " '2018_la_county': <ee.image.Image at 0x7fa0e0791880>,\n",
       " '2020_la_county': <ee.image.Image at 0x7fa0e0791a60>}"
      ]
     },
     "execution_count": 15,
     "metadata": {},
     "output_type": "execute_result"
    }
   ],
   "source": [
    "eeImage.get_images(params)"
   ]
  },
  {
   "cell_type": "markdown",
   "id": "7b294130",
   "metadata": {},
   "source": [
    "### Define classified image from which we will clip areas"
   ]
  },
  {
   "cell_type": "code",
   "execution_count": 16,
   "id": "c54f8190",
   "metadata": {},
   "outputs": [],
   "source": [
    "#for now we just use the LA 2020 one by importing it from the eeModel module\n",
    "\n",
    "tic = eeModel.training_image_classified #classified la 2020 image"
   ]
  },
  {
   "cell_type": "markdown",
   "id": "05d1fc36",
   "metadata": {},
   "source": [
    "### Get Areas by Passing In Zip Code"
   ]
  },
  {
   "cell_type": "code",
   "execution_count": 17,
   "id": "16c9ea94",
   "metadata": {},
   "outputs": [
    {
     "data": {
      "text/plain": [
       "{'ImageYear': 'testname',\n",
       " 'polygon': 'testpolygon',\n",
       " 'water_area': 0.0,\n",
       " 'vegetation_trees_area': 0.6473742569321577,\n",
       " 'vegetation_grass_area': 0.49677320525213503,\n",
       " 'turf_area': 0.16443753528562063,\n",
       " 'impervious_area': 12.688005716131128,\n",
       " 'soil_area': 0.7600267838706821,\n",
       " 'total_area': 14.756617497471723}"
      ]
     },
     "execution_count": 17,
     "metadata": {},
     "output_type": "execute_result"
    }
   ],
   "source": [
    "get_areas(tic, '90802')"
   ]
  },
  {
   "cell_type": "code",
   "execution_count": 23,
   "id": "34bd2765",
   "metadata": {},
   "outputs": [
    {
     "data": {
      "text/plain": [
       "{'ImageYear': 'testname',\n",
       " 'polygon': 'testpolygon',\n",
       " 'water_area': 0.0,\n",
       " 'vegetation_trees_area': 2.635687282635604,\n",
       " 'vegetation_grass_area': 0.6202043969524312,\n",
       " 'turf_area': 0.1597259636497348,\n",
       " 'impervious_area': 2.9462155738286055,\n",
       " 'soil_area': 1.8697160730264089,\n",
       " 'total_area': 8.231549290092785}"
      ]
     },
     "execution_count": 23,
     "metadata": {},
     "output_type": "execute_result"
    }
   ],
   "source": [
    "get_areas(tic, '90732')"
   ]
  },
  {
   "cell_type": "markdown",
   "id": "e7503e03",
   "metadata": {},
   "source": [
    "### Get Areas by Passing in a Polygon of Coordinates"
   ]
  },
  {
   "cell_type": "code",
   "execution_count": 18,
   "id": "da3472be",
   "metadata": {},
   "outputs": [],
   "source": [
    "coords = [[-118.180413,33.912948],\n",
    "          [-118.193457,33.875639],\n",
    "          [-118.285876,33.872960],\n",
    "          [-118.280523,33.928753]]\n",
    "\n",
    "\n",
    "poly = ee.Geometry.Polygon(coords)"
   ]
  },
  {
   "cell_type": "code",
   "execution_count": 19,
   "id": "53486fd6",
   "metadata": {},
   "outputs": [
    {
     "data": {
      "text/plain": [
       "{'ImageYear': 'testname',\n",
       " 'polygon': 'testpolygon',\n",
       " 'water_area': 0.0,\n",
       " 'vegetation_trees_area': 7.026213036375877,\n",
       " 'vegetation_grass_area': 2.83376737773306,\n",
       " 'turf_area': 0.42497619537545,\n",
       " 'impervious_area': 21.622244060719602,\n",
       " 'soil_area': 14.688804243676284,\n",
       " 'total_area': 46.59600491388027}"
      ]
     },
     "execution_count": 19,
     "metadata": {},
     "output_type": "execute_result"
    }
   ],
   "source": [
    "get_areas(tic, poly)"
   ]
  },
  {
   "cell_type": "markdown",
   "id": "77fb8007",
   "metadata": {},
   "source": [
    "### Visualize Polygons\n",
    "\n",
    "Below code is not necessary for Area Calculations, but let's see wha the zip code and polygon look like on the map "
   ]
  },
  {
   "cell_type": "code",
   "execution_count": 20,
   "id": "fb414085",
   "metadata": {},
   "outputs": [],
   "source": [
    "la_county_income_zipcode2 = ee.FeatureCollection(\"projects/california-lawn-detection/assets/income_zipcode2019\")\n",
    "la_county_income_zipcode = la_county_income_zipcode2.select(ee.List(['zipcode', '2019zipcod','shape_area']), \n",
    "                                                            ee.List(['ZipCode', 'Median_Income','Area_sqft']))\n",
    "\n",
    "shape = la_county_income_zipcode.filter(ee.Filter.eq('ZipCode', '90802'))"
   ]
  },
  {
   "cell_type": "code",
   "execution_count": 21,
   "id": "aff1299b",
   "metadata": {},
   "outputs": [],
   "source": [
    "Map = geemap.Map()\n",
    "Map.addLayer(poly, {}, 'Polygon')\n",
    "Map.addLayer(shape, {}, '90802')"
   ]
  },
  {
   "cell_type": "code",
   "execution_count": 22,
   "id": "f891ea13",
   "metadata": {},
   "outputs": [
    {
     "data": {
      "application/vnd.jupyter.widget-view+json": {
       "model_id": "8596ce7c8ef147d29ad7b7428cc43366",
       "version_major": 2,
       "version_minor": 0
      },
      "text/plain": [
       "Map(center=[20, 0], controls=(WidgetControl(options=['position', 'transparent_bg'], widget=HBox(children=(Togg…"
      ]
     },
     "metadata": {},
     "output_type": "display_data"
    }
   ],
   "source": [
    "Map"
   ]
  }
 ],
 "metadata": {
  "kernelspec": {
   "display_name": "Python 3",
   "language": "python",
   "name": "python3"
  },
  "language_info": {
   "codemirror_mode": {
    "name": "ipython",
    "version": 3
   },
   "file_extension": ".py",
   "mimetype": "text/x-python",
   "name": "python",
   "nbconvert_exporter": "python",
   "pygments_lexer": "ipython3",
   "version": "3.8.3"
  }
 },
 "nbformat": 4,
 "nbformat_minor": 5
}
