{
 "cells": [
  {
   "cell_type": "markdown",
   "id": "866d2e50",
   "metadata": {},
   "source": [
    "# Google Earth Engine Component"
   ]
  },
  {
   "cell_type": "markdown",
   "id": "f4e71e83",
   "metadata": {},
   "source": [
    "## Initialize"
   ]
  },
  {
   "cell_type": "code",
   "execution_count": 1,
   "id": "013c037c",
   "metadata": {},
   "outputs": [],
   "source": [
    "#Import required libraries\n",
    "import ee\n",
    "import geemap\n",
    "# import math\n",
    "\n",
    "# import numpy as np\n",
    "# import matplotlib.pyplot as plt\n",
    "\n",
    "# import itertools\n",
    "# # from varname import nameof\n",
    "\n",
    "# import pandas as pd\n",
    "# from time import time"
   ]
  },
  {
   "cell_type": "code",
   "execution_count": 2,
   "id": "7cf82592",
   "metadata": {},
   "outputs": [],
   "source": [
    "#Initialize Google Earth Engine\n",
    "# ee.Authenticate() #just needed the 1st time\n",
    "ee.Initialize()"
   ]
  },
  {
   "cell_type": "code",
   "execution_count": 2,
   "id": "f2d18f6d",
   "metadata": {},
   "outputs": [],
   "source": [
    "import imageProcessing"
   ]
  },
  {
   "cell_type": "code",
   "execution_count": 4,
   "id": "1db2baad",
   "metadata": {},
   "outputs": [],
   "source": [
    "params = {\n",
    "        'source_image_collection' : 'USDA/NAIP/DOQQ',\n",
    "        'years' : [2010,2012,2014,2016,2018,2020]\n",
    "         }"
   ]
  },
  {
   "cell_type": "code",
   "execution_count": 5,
   "id": "baabbf32",
   "metadata": {},
   "outputs": [
    {
     "data": {
      "text/plain": [
       "{'2010_la_county': <ee.image.Image at 0x7fad40e5e2b0>,\n",
       " '2012_la_county': <ee.image.Image at 0x7fad40e5e490>,\n",
       " '2014_la_county': <ee.image.Image at 0x7fad40e5e670>,\n",
       " '2016_la_county': <ee.image.Image at 0x7fad40e5e850>,\n",
       " '2018_la_county': <ee.image.Image at 0x7fad40e5ea30>,\n",
       " '2020_la_county': <ee.image.Image at 0x7fad40e5ec10>}"
      ]
     },
     "execution_count": 5,
     "metadata": {},
     "output_type": "execute_result"
    }
   ],
   "source": [
    "imageProcessing.get_images(params)"
   ]
  },
  {
   "cell_type": "code",
   "execution_count": 23,
   "id": "ee8f3622",
   "metadata": {},
   "outputs": [],
   "source": [
    "# Check if geemap is working as intended - plot the leaflet map\n",
    "Map = geemap.Map()"
   ]
  },
  {
   "cell_type": "code",
   "execution_count": 31,
   "id": "3ef28449",
   "metadata": {},
   "outputs": [
    {
     "data": {
      "application/vnd.jupyter.widget-view+json": {
       "model_id": "8be367073589416f8a1cc73b0c0f0f82",
       "version_major": 2,
       "version_minor": 0
      },
      "text/plain": [
       "Map(bottom=52708.44140625, center=[33.887651089034975, -118.57652938241915], controls=(WidgetControl(options=[…"
      ]
     },
     "metadata": {},
     "output_type": "display_data"
    }
   ],
   "source": [
    "Map"
   ]
  },
  {
   "cell_type": "code",
   "execution_count": null,
   "id": "93be4794",
   "metadata": {},
   "outputs": [],
   "source": []
  },
  {
   "cell_type": "code",
   "execution_count": null,
   "id": "3615cbb7",
   "metadata": {},
   "outputs": [],
   "source": []
  },
  {
   "cell_type": "code",
   "execution_count": null,
   "id": "e86d54b5",
   "metadata": {},
   "outputs": [],
   "source": []
  },
  {
   "cell_type": "code",
   "execution_count": null,
   "id": "5d3bfce2",
   "metadata": {},
   "outputs": [],
   "source": []
  },
  {
   "cell_type": "code",
   "execution_count": null,
   "id": "e5383fe7",
   "metadata": {},
   "outputs": [],
   "source": []
  },
  {
   "cell_type": "markdown",
   "id": "c99f2bbf",
   "metadata": {},
   "source": [
    "## Load Feature Collection - Shapefiles"
   ]
  },
  {
   "cell_type": "code",
   "execution_count": 43,
   "id": "9a521143",
   "metadata": {},
   "outputs": [],
   "source": [
    "#Data loads\n",
    "\n",
    "#loads feature collection data from Google Earth Engine - We can also upload other feature collections\n",
    "counties = ee.FeatureCollection(\"TIGER/2018/Counties\")\n",
    "\n",
    "#filter LA County\n",
    "la_county = counties.filter(ee.Filter.eq('NAME', 'Los Angeles'))\n",
    "sc_county = counties.filter(ee.Filter.eq('NAME', 'Santa Clara'))"
   ]
  },
  {
   "cell_type": "code",
   "execution_count": 44,
   "id": "495166ca",
   "metadata": {},
   "outputs": [
    {
     "data": {
      "text/plain": [
       "(<ee.featurecollection.FeatureCollection at 0x7f825cf75250>,\n",
       " <ee.featurecollection.FeatureCollection at 0x7f825cf750d0>)"
      ]
     },
     "execution_count": 44,
     "metadata": {},
     "output_type": "execute_result"
    }
   ],
   "source": [
    "la_county, sc_county"
   ]
  },
  {
   "cell_type": "code",
   "execution_count": 20,
   "id": "322cae8e",
   "metadata": {},
   "outputs": [],
   "source": [
    "#Income Data\n",
    "\n",
    "la_county_income = ee.FeatureCollection(\"projects/california-lawn-detection/assets/lacountyincome-final\")\n",
    "\n",
    "# Map.addLayer(la_county_income,{}, 'LA County Income')\n",
    "# Map.addLayer(sf_county,{}, 'SF COUNTY')"
   ]
  },
  {
   "cell_type": "markdown",
   "id": "228c9525",
   "metadata": {},
   "source": [
    "## Load NAIP Imagery"
   ]
  },
  {
   "cell_type": "code",
   "execution_count": null,
   "id": "773658d9",
   "metadata": {},
   "outputs": [],
   "source": [
    "Map.add"
   ]
  },
  {
   "cell_type": "code",
   "execution_count": 42,
   "id": "5a5a32a7",
   "metadata": {},
   "outputs": [
    {
     "ename": "NameError",
     "evalue": "name 'la_county' is not defined",
     "output_type": "error",
     "traceback": [
      "\u001b[0;31m---------------------------------------------------------------------------\u001b[0m",
      "\u001b[0;31mNameError\u001b[0m                                 Traceback (most recent call last)",
      "\u001b[0;32m<ipython-input-42-ea0c3cf2bc20>\u001b[0m in \u001b[0;36m<module>\u001b[0;34m\u001b[0m\n\u001b[1;32m      2\u001b[0m         \u001b[0;34m'source_image_collection'\u001b[0m \u001b[0;34m:\u001b[0m \u001b[0;34m'USDA/NAIP/DOQQ'\u001b[0m\u001b[0;34m,\u001b[0m\u001b[0;34m\u001b[0m\u001b[0;34m\u001b[0m\u001b[0m\n\u001b[1;32m      3\u001b[0m         \u001b[0;34m'years'\u001b[0m \u001b[0;34m:\u001b[0m \u001b[0;34m[\u001b[0m\u001b[0;36m2010\u001b[0m\u001b[0;34m,\u001b[0m\u001b[0;36m2012\u001b[0m\u001b[0;34m,\u001b[0m\u001b[0;36m2014\u001b[0m\u001b[0;34m,\u001b[0m\u001b[0;36m2016\u001b[0m\u001b[0;34m,\u001b[0m\u001b[0;36m2018\u001b[0m\u001b[0;34m,\u001b[0m\u001b[0;36m2020\u001b[0m\u001b[0;34m]\u001b[0m\u001b[0;34m,\u001b[0m\u001b[0;34m\u001b[0m\u001b[0;34m\u001b[0m\u001b[0m\n\u001b[0;32m----> 4\u001b[0;31m         \u001b[0;34m'counties'\u001b[0m\u001b[0;34m:\u001b[0m \u001b[0;34m{\u001b[0m\u001b[0;34m'la_county'\u001b[0m\u001b[0;34m:\u001b[0m \u001b[0mla_county\u001b[0m\u001b[0;34m,\u001b[0m \u001b[0;34m'sc_county'\u001b[0m\u001b[0;34m:\u001b[0m \u001b[0msc_county\u001b[0m\u001b[0;34m}\u001b[0m\u001b[0;34m\u001b[0m\u001b[0;34m\u001b[0m\u001b[0m\n\u001b[0m\u001b[1;32m      5\u001b[0m          }\n\u001b[1;32m      6\u001b[0m \u001b[0;34m\u001b[0m\u001b[0m\n",
      "\u001b[0;31mNameError\u001b[0m: name 'la_county' is not defined"
     ]
    }
   ],
   "source": [
    "params = {\n",
    "        'source_image_collection' : 'USDA/NAIP/DOQQ',\n",
    "        'years' : [2010,2012,2014,2016,2018,2020],\n",
    "        'counties': {'la_county': la_county, 'sc_county': sc_county}\n",
    "         }\n",
    "\n",
    "images = get_images(params)\n",
    "images"
   ]
  },
  {
   "cell_type": "code",
   "execution_count": 11,
   "id": "c442d98e",
   "metadata": {},
   "outputs": [
    {
     "data": {
      "text/plain": [
       "['R',\n",
       " 'G',\n",
       " 'B',\n",
       " 'N',\n",
       " 'R_Entropy',\n",
       " 'R_Contrast',\n",
       " 'R_Gearys',\n",
       " 'G_Entropy',\n",
       " 'G_Contrast',\n",
       " 'G_Gearys',\n",
       " 'B_Entropy',\n",
       " 'B_Contrast',\n",
       " 'B_Gearys',\n",
       " 'N_Entropy',\n",
       " 'N_Contrast',\n",
       " 'N_Gearys',\n",
       " 'NDVI']"
      ]
     },
     "execution_count": 11,
     "metadata": {},
     "output_type": "execute_result"
    }
   ],
   "source": [
    "#see what bands each image has:\n",
    "images['2020_la_county'].bandNames().getInfo()"
   ]
  },
  {
   "cell_type": "code",
   "execution_count": 12,
   "id": "0ec51193",
   "metadata": {},
   "outputs": [],
   "source": [
    "#test to see if NAIP plot looks correct\n",
    "Map.addLayer(images['2020_la_county'], {}, 'NAIP Test')"
   ]
  },
  {
   "cell_type": "code",
   "execution_count": 13,
   "id": "ba2b67fa",
   "metadata": {},
   "outputs": [
    {
     "data": {
      "text/plain": [
       "<ee.image.Image at 0x7fcf78fa9e80>"
      ]
     },
     "execution_count": 13,
     "metadata": {},
     "output_type": "execute_result"
    }
   ],
   "source": [
    "#test to see if NDVI plot looks correct \n",
    "source_image = images['2020_sc_county']\n",
    "\n",
    "test_ndvi = source_image.normalizedDifference(['N', 'R']).rename('2020_NDVI')\n",
    "test_ndvi"
   ]
  },
  {
   "cell_type": "code",
   "execution_count": 14,
   "id": "e3665656",
   "metadata": {},
   "outputs": [
    {
     "data": {
      "application/vnd.jupyter.widget-view+json": {
       "model_id": "0134a314ff4d4b42b5eef3a8e510b2fd",
       "version_major": 2,
       "version_minor": 0
      },
      "text/plain": [
       "Map(center=[20, 0], controls=(WidgetControl(options=['position', 'transparent_bg'], widget=HBox(children=(Togg…"
      ]
     },
     "metadata": {},
     "output_type": "display_data"
    }
   ],
   "source": [
    "Map.addLayer(test_ndvi,{min : -1, max : 1, 'palette' : ['blue', 'white', 'green']}, 'NDVI Test')\n",
    "Map"
   ]
  },
  {
   "cell_type": "markdown",
   "id": "c2c61151",
   "metadata": {},
   "source": [
    "## Load Labeled Data"
   ]
  },
  {
   "cell_type": "code",
   "execution_count": 15,
   "id": "d5cadf47",
   "metadata": {},
   "outputs": [],
   "source": [
    "PROJECT_DIR = 'projects/california-lawn-detection/assets/'\n",
    "\n",
    "water = ee.FeatureCollection(f\"{PROJECT_DIR}water_torrance_0610\")\n",
    "vegetation_trees = ee.FeatureCollection(f\"{PROJECT_DIR}trees_torrance\")\n",
    "vegetation_grass = ee.FeatureCollection(f\"{PROJECT_DIR}grass_torrance\").limit(400)\n",
    "turf_1 = ee.FeatureCollection(f\"{PROJECT_DIR}turf_torrance1\")\n",
    "turf_2 = ee.FeatureCollection(f\"{PROJECT_DIR}turf_torrance2\")\n",
    "pv = ee.FeatureCollection(f\"{PROJECT_DIR}pv_torrance\")\n",
    "impervious_1 = ee.FeatureCollection(f\"{PROJECT_DIR}impervious_torrance1\").limit(40)\n",
    "impervious_2 = ee.FeatureCollection(f\"{PROJECT_DIR}impervious_torrance2\").limit(40)\n",
    "soil = ee.FeatureCollection(f\"{PROJECT_DIR}soil_torrance\").limit(40)\n",
    "\n",
    "turf = turf_1.merge(turf_2)\n",
    "impervious= impervious_1.merge(impervious_2)\n",
    "\n",
    "LABELED_SET = water.merge(vegetation_trees)\\\n",
    "                   .merge(vegetation_grass)\\\n",
    "                   .merge(turf)\\\n",
    "                   .merge(impervious)\\\n",
    "                   .merge(soil)\n",
    "    \n",
    "Map.addLayer(LABELED_SET, {}, 'labeled_set')"
   ]
  },
  {
   "cell_type": "code",
   "execution_count": 16,
   "id": "2c4f4752",
   "metadata": {
    "scrolled": false
   },
   "outputs": [
    {
     "data": {
      "application/vnd.jupyter.widget-view+json": {
       "model_id": "0134a314ff4d4b42b5eef3a8e510b2fd",
       "version_major": 2,
       "version_minor": 0
      },
      "text/plain": [
       "Map(bottom=754.0, center=[20, 0], controls=(WidgetControl(options=['position', 'transparent_bg'], widget=HBox(…"
      ]
     },
     "metadata": {},
     "output_type": "display_data"
    }
   ],
   "source": [
    "Map"
   ]
  },
  {
   "cell_type": "markdown",
   "id": "a5b3436b",
   "metadata": {},
   "source": [
    "## Build Training Set"
   ]
  },
  {
   "cell_type": "code",
   "execution_count": 17,
   "id": "827af237",
   "metadata": {},
   "outputs": [],
   "source": [
    "training_image_params = {\n",
    "        'source_image_collection' : 'USDA/NAIP/DOQQ',\n",
    "        'years' : [2020],\n",
    "        'counties': {'lacounty': la_county}\n",
    "         }\n",
    "\n",
    "TRAINING_IMAGE = get_images(training_image_params)['2020_lacounty']"
   ]
  },
  {
   "cell_type": "code",
   "execution_count": 18,
   "id": "bf7cffec",
   "metadata": {},
   "outputs": [],
   "source": [
    "# Overlay the points on the imagery to get training.\n",
    "LABEL = 'landcover'\n",
    "BANDS = ['R', 'G', 'B', 'N', 'NDVI',\n",
    "         'R_Entropy',\n",
    "         'R_Contrast',\n",
    "         'R_Gearys',\n",
    "         'G_Entropy',\n",
    "         'G_Contrast',\n",
    "         'G_Gearys',\n",
    "         'B_Entropy',\n",
    "         'B_Contrast',\n",
    "         'B_Gearys',\n",
    "         'N_Entropy',\n",
    "         'N_Contrast', \n",
    "         'N_Gearys']\n",
    "\n",
    "training_set = TRAINING_IMAGE.select(BANDS).sampleRegions(**{\n",
    "  'collection': LABELED_SET,\n",
    "  'properties': [LABEL],\n",
    "  'scale': 1\n",
    "})"
   ]
  },
  {
   "cell_type": "code",
   "execution_count": 19,
   "id": "68c06776",
   "metadata": {},
   "outputs": [
    {
     "data": {
      "text/plain": [
       "True"
      ]
     },
     "execution_count": 19,
     "metadata": {},
     "output_type": "execute_result"
    }
   ],
   "source": [
    "set(BANDS)==set(TRAINING_IMAGE.bandNames().getInfo())"
   ]
  },
  {
   "cell_type": "code",
   "execution_count": 20,
   "id": "7d5f2974",
   "metadata": {},
   "outputs": [],
   "source": [
    "def training_area(image, training_class):\n",
    "    \n",
    "    area = image.reduceRegion(\n",
    "           reducer = ee.Reducer.count(), \n",
    "           geometry = training_class.geometry(), \n",
    "           scale = 2, \n",
    "           maxPixels = 1e13\n",
    "                )\n",
    "\n",
    "    return(area.getInfo().get('B'))"
   ]
  },
  {
   "cell_type": "code",
   "execution_count": 21,
   "id": "d2809f60",
   "metadata": {},
   "outputs": [],
   "source": [
    "def training_polygons(training_class):\n",
    "    return(training_class.aggregate_count('label').getInfo())"
   ]
  },
  {
   "cell_type": "code",
   "execution_count": 22,
   "id": "6f40b354",
   "metadata": {},
   "outputs": [
    {
     "name": "stdout",
     "output_type": "stream",
     "text": [
      "water pixels: 486 , polygons 199\n",
      "vegetation_trees pixels: 17125 , polygons 772\n",
      "vegetation_grass pixels: 23681 , polygons 400\n",
      "turf pixels: 857 , polygons 215\n",
      "pv pixels: 1723 , polygons 344\n",
      "impervious pixels: 20360 , polygons 80\n",
      "soil pixels: 8761 , polygons 40\n"
     ]
    }
   ],
   "source": [
    "# training information\n",
    "training_classes = [water,\n",
    "                         vegetation_trees,\n",
    "                         vegetation_grass,\n",
    "                         turf,\n",
    "                         pv,\n",
    "                         impervious,\n",
    "                         soil]\n",
    "\n",
    "class_names = ['water',\n",
    "                         'vegetation_trees',\n",
    "                         'vegetation_grass',\n",
    "                         'turf',\n",
    "                         'pv',\n",
    "                         'impervious',\n",
    "                         'soil']\n",
    "\n",
    "try:\n",
    "    for i in range(len(training_classes)):\n",
    "        area_i = training_area(TRAINING_IMAGE, training_classes[i])\n",
    "        polygons_i = training_polygons(training_classes[i])\n",
    "        print(class_names[i],\"pixels:\", area_i ,\", polygons\", polygons_i)\n",
    "except:\n",
    "    print('ERROR. POSSIBLE MISMATCH IN CLASSES LIST AND NAMES LIST SIZES')\n",
    "\n"
   ]
  },
  {
   "cell_type": "markdown",
   "id": "2aaae5a7",
   "metadata": {},
   "source": [
    "## Separate Training Data into Train/Test"
   ]
  },
  {
   "cell_type": "code",
   "execution_count": 23,
   "id": "92671a39",
   "metadata": {},
   "outputs": [
    {
     "name": "stdout",
     "output_type": "stream",
     "text": [
      "Labeled Set Size in Pixels 284710\n",
      "Training Set Size in Pixels 227871\n",
      "Test Set Size in Pixels 56839\n"
     ]
    }
   ],
   "source": [
    "#Split Training and Test Set Randomly - there might be a better way to do this\n",
    "print(\"Labeled Set Size in Pixels\", training_set.aggregate_count('R').getInfo())\n",
    "sample = training_set.randomColumn()\n",
    "trainingSample = sample.filter('random <= 0.8')\n",
    "validationSample = sample.filter('random > 0.8')\n",
    "print(\"Training Set Size in Pixels\", trainingSample.aggregate_count('R').getInfo())\n",
    "print(\"Test Set Size in Pixels\", validationSample.aggregate_count('R').getInfo())"
   ]
  },
  {
   "cell_type": "markdown",
   "id": "d54c4f23",
   "metadata": {},
   "source": [
    "## Machine Learning Model"
   ]
  },
  {
   "cell_type": "code",
   "execution_count": 24,
   "id": "708858e5",
   "metadata": {},
   "outputs": [
    {
     "data": {
      "text/plain": [
       "<ee.Classifier at 0x7fcf90fd2ac0>"
      ]
     },
     "execution_count": 24,
     "metadata": {},
     "output_type": "execute_result"
    }
   ],
   "source": [
    "clf = ee.Classifier.smileRandomForest(numberOfTrees = 100).train(trainingSample, LABEL, BANDS)\n",
    "clf"
   ]
  },
  {
   "cell_type": "code",
   "execution_count": 25,
   "id": "6a713f48",
   "metadata": {},
   "outputs": [],
   "source": [
    "training_image_classified = TRAINING_IMAGE.select(BANDS).classify(clf)"
   ]
  },
  {
   "cell_type": "code",
   "execution_count": 26,
   "id": "ebdebad2",
   "metadata": {},
   "outputs": [],
   "source": [
    "legend_keys = ['water', 'vegetation_trees', 'vegetation_grass', 'turf','impervious','soil']\n",
    "legend_colors = ['#0B6AEF', '#097407', '#0CE708', '#8C46D2' ,' #A1A8AF','#D47911']\n",
    "\n",
    "Map.addLayer(training_image_classified, {'min': 1, 'max': 7, 'palette': legend_colors}, 'Classification')"
   ]
  },
  {
   "cell_type": "code",
   "execution_count": 27,
   "id": "314c9684",
   "metadata": {
    "scrolled": false
   },
   "outputs": [
    {
     "data": {
      "application/vnd.jupyter.widget-view+json": {
       "model_id": "0134a314ff4d4b42b5eef3a8e510b2fd",
       "version_major": 2,
       "version_minor": 0
      },
      "text/plain": [
       "Map(bottom=1061.0, center=[41.902277040963696, -39.63867187500001], controls=(WidgetControl(options=['position…"
      ]
     },
     "metadata": {},
     "output_type": "display_data"
    }
   ],
   "source": [
    "Map"
   ]
  },
  {
   "cell_type": "markdown",
   "id": "31a35992",
   "metadata": {},
   "source": [
    "## Evaluation Metrics\n",
    "\n",
    "### Train Accuracy"
   ]
  },
  {
   "cell_type": "code",
   "execution_count": 30,
   "id": "96b83152",
   "metadata": {},
   "outputs": [
    {
     "data": {
      "text/plain": [
       "[[0, 0, 0, 0, 0, 0, 0, 0],\n",
       " [0, 1473, 0, 0, 0, 0, 0, 0],\n",
       " [0, 0, 54688, 21, 0, 0, 0, 0],\n",
       " [0, 0, 147, 75601, 0, 0, 0, 2],\n",
       " [0, 0, 0, 0, 2637, 0, 1, 0],\n",
       " [0, 0, 0, 0, 0, 0, 0, 0],\n",
       " [0, 0, 0, 0, 0, 0, 65382, 0],\n",
       " [0, 0, 0, 0, 0, 0, 1, 27918]]"
      ]
     },
     "execution_count": 30,
     "metadata": {},
     "output_type": "execute_result"
    }
   ],
   "source": [
    "train_accuracy = trainingSample.classify(clf).errorMatrix('landcover', 'classification')\n",
    "train_accuracy.getInfo()"
   ]
  },
  {
   "cell_type": "code",
   "execution_count": 32,
   "id": "0f70dac5",
   "metadata": {},
   "outputs": [
    {
     "data": {
      "text/plain": [
       "0.9992451869698207"
      ]
     },
     "execution_count": 32,
     "metadata": {},
     "output_type": "execute_result"
    }
   ],
   "source": [
    "train_accuracy.accuracy().getInfo()"
   ]
  },
  {
   "cell_type": "code",
   "execution_count": 31,
   "id": "bcf143fe",
   "metadata": {},
   "outputs": [
    {
     "data": {
      "text/plain": [
       "227871"
      ]
     },
     "execution_count": 31,
     "metadata": {},
     "output_type": "execute_result"
    }
   ],
   "source": [
    "np.array(train_accuracy.getInfo()).sum()"
   ]
  },
  {
   "cell_type": "markdown",
   "id": "1e014540",
   "metadata": {},
   "source": [
    "### Test Accuracy"
   ]
  },
  {
   "cell_type": "code",
   "execution_count": 33,
   "id": "44fdf944",
   "metadata": {},
   "outputs": [],
   "source": [
    "test_accuracy = validationSample.classify(clf).errorMatrix('landcover', 'classification')"
   ]
  },
  {
   "cell_type": "code",
   "execution_count": 35,
   "id": "d42e0615",
   "metadata": {},
   "outputs": [
    {
     "data": {
      "text/plain": [
       "0.9786238322278717"
      ]
     },
     "execution_count": 35,
     "metadata": {},
     "output_type": "execute_result"
    }
   ],
   "source": [
    "test_accuracy.accuracy().getInfo()"
   ]
  },
  {
   "cell_type": "code",
   "execution_count": 34,
   "id": "91f5d3df",
   "metadata": {},
   "outputs": [
    {
     "data": {
      "text/plain": [
       "56839"
      ]
     },
     "execution_count": 34,
     "metadata": {},
     "output_type": "execute_result"
    }
   ],
   "source": [
    "np.array(test_accuracy.getInfo()).sum()"
   ]
  },
  {
   "cell_type": "markdown",
   "id": "92ae1379",
   "metadata": {},
   "source": [
    "## Binary Classification and Area Calculation"
   ]
  },
  {
   "cell_type": "code",
   "execution_count": 28,
   "id": "511f3144",
   "metadata": {},
   "outputs": [],
   "source": [
    "def area_calculation(image, class_number, shape, zcode, pixel_scale = 20):\n",
    "    \n",
    "    areaImage = image.eq(class_number).multiply(ee.Image.pixelArea())\n",
    "\n",
    "#     if zcode:\n",
    "#         area = areaImage.reduceRegion(\n",
    "#             reducer = ee.Reducer.sum(), \n",
    "#             geometry = shape.geometry(), \n",
    "#             scale = pixel_scale, \n",
    "#             maxPixels = 1e13)\n",
    "    \n",
    "#     else:\n",
    "    area = areaImage.reduceRegion(\n",
    "        reducer = ee.Reducer.sum(), \n",
    "        geometry = shape, \n",
    "        scale = pixel_scale, \n",
    "        maxPixels = 1e13)\n",
    "\n",
    "    \n",
    "    area_sq_m = area.getInfo().get('classification')\n",
    "    \n",
    "    area_sq_km = area_sq_m / 1e6\n",
    "    \n",
    "    return area_sq_km"
   ]
  },
  {
   "cell_type": "code",
   "execution_count": 29,
   "id": "3649dea5",
   "metadata": {},
   "outputs": [
    {
     "data": {
      "text/plain": [
       "{'2010_lacounty': <ee.image.Image at 0x7fcfb839b6d0>,\n",
       " '2012_lacounty': <ee.image.Image at 0x7fcfb839b8b0>,\n",
       " '2014_lacounty': <ee.image.Image at 0x7fcfb839ba90>,\n",
       " '2016_lacounty': <ee.image.Image at 0x7fcfb839bc70>,\n",
       " '2018_lacounty': <ee.image.Image at 0x7fcfb839be50>,\n",
       " '2020_lacounty': <ee.image.Image at 0x7fcfb839e070>}"
      ]
     },
     "execution_count": 29,
     "metadata": {},
     "output_type": "execute_result"
    }
   ],
   "source": [
    "test_image_params = {\n",
    "        'source_image_collection' : 'USDA/NAIP/DOQQ',\n",
    "        'years' : [2010,2012, 2014, 2016, 2018,2020],\n",
    "        'counties': {'lacounty': la_county}\n",
    "         }\n",
    "\n",
    "inference_images = get_images(test_image_params)\n",
    "inference_images"
   ]
  },
  {
   "cell_type": "code",
   "execution_count": 47,
   "id": "d6481fe6",
   "metadata": {},
   "outputs": [
    {
     "name": "stdout",
     "output_type": "stream",
     "text": [
      "2010_lacounty completed\n",
      "2012_lacounty completed\n",
      "2014_lacounty completed\n",
      "2016_lacounty completed\n",
      "2018_lacounty completed\n",
      "2020_lacounty completed\n"
     ]
    }
   ],
   "source": [
    "grass_areas = {}\n",
    "\n",
    "for i in inference_images:\n",
    "    im = inference_images[i]\n",
    "    im_classified = im.select(BANDS).classify(clf)\n",
    "    grass_areas[i] = area_calculation(im_classified, 3, la_county, 20)\n",
    "    print(i, 'completed')"
   ]
  },
  {
   "cell_type": "code",
   "execution_count": 48,
   "id": "fc10782f",
   "metadata": {},
   "outputs": [
    {
     "data": {
      "text/plain": [
       "{'2010_lacounty': 3069.2586644971657,\n",
       " '2012_lacounty': 1265.0236710808854,\n",
       " '2014_lacounty': 1227.6888985192109,\n",
       " '2016_lacounty': 704.2648467338138,\n",
       " '2018_lacounty': 1129.6989987678303,\n",
       " '2020_lacounty': 826.858711155899}"
      ]
     },
     "execution_count": 48,
     "metadata": {},
     "output_type": "execute_result"
    }
   ],
   "source": [
    "grass_areas"
   ]
  },
  {
   "cell_type": "code",
   "execution_count": null,
   "id": "5c1507f0",
   "metadata": {},
   "outputs": [],
   "source": []
  },
  {
   "cell_type": "code",
   "execution_count": 49,
   "id": "85eb8329",
   "metadata": {},
   "outputs": [
    {
     "data": {
      "text/plain": [
       "[<matplotlib.lines.Line2D at 0x7fe8e96c52e0>]"
      ]
     },
     "execution_count": 49,
     "metadata": {},
     "output_type": "execute_result"
    },
    {
     "data": {
      "image/png": "[encoded data removed]",
      "text/plain": [
       "<Figure size 432x288 with 1 Axes>"
      ]
     },
     "metadata": {
      "needs_background": "light"
     },
     "output_type": "display_data"
    }
   ],
   "source": [
    "values = np.array(list(grass_areas.values()))\n",
    "plt.plot(test_image_params['years'], values)"
   ]
  },
  {
   "cell_type": "code",
   "execution_count": 50,
   "id": "3ffb0584",
   "metadata": {},
   "outputs": [],
   "source": [
    "la_county_income_zipcode2 = ee.FeatureCollection(\"projects/california-lawn-detection/assets/income_zipcode2019\")\n",
    "la_county_income_zipcode = la_county_income_zipcode2.select(ee.List(['zipcode', '2019zipcod','shape_area']), ee.List(['ZipCode', 'Median_Income','Area_sqft']))\n",
    "\n",
    "\n"
   ]
  },
  {
   "cell_type": "code",
   "execution_count": 8,
   "id": "511a2086",
   "metadata": {},
   "outputs": [
    {
     "data": {
      "text/plain": [
       "True"
      ]
     },
     "execution_count": 8,
     "metadata": {},
     "output_type": "execute_result"
    }
   ],
   "source": [
    "a = '3'\n",
    "type(a)==str"
   ]
  },
  {
   "cell_type": "code",
   "execution_count": 58,
   "id": "3043e621",
   "metadata": {},
   "outputs": [],
   "source": [
    "Zipcode_list = ['90802','90732','90744','90704','91362','91316']"
   ]
  },
  {
   "cell_type": "code",
   "execution_count": 61,
   "id": "95b2388f",
   "metadata": {},
   "outputs": [
    {
     "name": "stdout",
     "output_type": "stream",
     "text": [
      "90802 completed in 10.099151134490967 seconds.\n",
      "90732 completed in 8.45103120803833 seconds.\n",
      "90744 completed in 8.424124956130981 seconds.\n",
      "90704 completed in 98.49644899368286 seconds.\n",
      "91362 completed in 21.4758038520813 seconds.\n",
      "91316 completed in 49.545308113098145 seconds.\n"
     ]
    }
   ],
   "source": [
    "keys = {'ImageYear','polygon','water_area','vegetation_trees_area', 'vegetation_grass_area', 'turf_area', 'impervious_area','soil_area', 'total_area'}\n",
    "dictionary = {}\n",
    "for i in keys:\n",
    "    dictionary[i] = []\n",
    "\n",
    "imagery = training_image_classified\n",
    "\n",
    "    \n",
    "for i in Zipcode_list:\n",
    "    start = time()\n",
    "    polygon = la_county_income_zipcode.filter(ee.Filter.eq('ZipCode', i))\n",
    "\n",
    "    dictionary['ImageYear'].append(nameof(imagery)) \n",
    "    dictionary['polygon'].append(i)\n",
    "    \n",
    "    water_area = area_calculation(imagery, 1, polygon, 20)\n",
    "    dictionary['water_area'].append(water_area)\n",
    "    \n",
    "    vegetation_trees_area = area_calculation(imagery, 2, polygon, 20)\n",
    "    dictionary['vegetation_trees_area'].append(vegetation_trees_area)\n",
    "    \n",
    "    vegetation_grass_area = area_calculation(imagery, 3, polygon, 20)\n",
    "    dictionary['vegetation_grass_area'].append(vegetation_grass_area)\n",
    "    \n",
    "    turf_area = area_calculation(imagery, 4, polygon, 20)\n",
    "    dictionary['turf_area'].append(turf_area)\n",
    "    \n",
    "    impervious_area = area_calculation(imagery, 6, polygon, 20)\n",
    "    dictionary['impervious_area'].append(impervious_area)\n",
    "    \n",
    "    soil_area = area_calculation(imagery, 7, polygon, 20)\n",
    "    dictionary['soil_area'].append(soil_area)\n",
    "\n",
    "    total_area = water_area + vegetation_trees_area + vegetation_grass_area + turf_area + impervious_area + soil_area\n",
    "    dictionary['total_area'].append(total_area)\n",
    "    end = time()\n",
    "    print(i, f'completed in {end-start} seconds.')"
   ]
  },
  {
   "cell_type": "code",
   "execution_count": 62,
   "id": "59cf79ed",
   "metadata": {},
   "outputs": [
    {
     "data": {
      "text/html": [
       "<div>\n",
       "<style scoped>\n",
       "    .dataframe tbody tr th:only-of-type {\n",
       "        vertical-align: middle;\n",
       "    }\n",
       "\n",
       "    .dataframe tbody tr th {\n",
       "        vertical-align: top;\n",
       "    }\n",
       "\n",
       "    .dataframe thead th {\n",
       "        text-align: right;\n",
       "    }\n",
       "</style>\n",
       "<table border=\"1\" class=\"dataframe\">\n",
       "  <thead>\n",
       "    <tr style=\"text-align: right;\">\n",
       "      <th></th>\n",
       "      <th>turf_area</th>\n",
       "      <th>vegetation_trees_area</th>\n",
       "      <th>polygon</th>\n",
       "      <th>water_area</th>\n",
       "      <th>impervious_area</th>\n",
       "      <th>total_area</th>\n",
       "      <th>soil_area</th>\n",
       "      <th>ImageYear</th>\n",
       "      <th>vegetation_grass_area</th>\n",
       "    </tr>\n",
       "  </thead>\n",
       "  <tbody>\n",
       "    <tr>\n",
       "      <th>0</th>\n",
       "      <td>0.164438</td>\n",
       "      <td>0.647374</td>\n",
       "      <td>90802</td>\n",
       "      <td>0.000000</td>\n",
       "      <td>12.688006</td>\n",
       "      <td>14.756617</td>\n",
       "      <td>0.760027</td>\n",
       "      <td>imagery</td>\n",
       "      <td>0.496773</td>\n",
       "    </tr>\n",
       "    <tr>\n",
       "      <th>1</th>\n",
       "      <td>0.159726</td>\n",
       "      <td>2.635687</td>\n",
       "      <td>90732</td>\n",
       "      <td>0.000000</td>\n",
       "      <td>2.946216</td>\n",
       "      <td>8.231549</td>\n",
       "      <td>1.869716</td>\n",
       "      <td>imagery</td>\n",
       "      <td>0.620204</td>\n",
       "    </tr>\n",
       "    <tr>\n",
       "      <th>2</th>\n",
       "      <td>0.190158</td>\n",
       "      <td>2.017314</td>\n",
       "      <td>90744</td>\n",
       "      <td>0.000000</td>\n",
       "      <td>15.849339</td>\n",
       "      <td>22.599279</td>\n",
       "      <td>3.527528</td>\n",
       "      <td>imagery</td>\n",
       "      <td>1.014940</td>\n",
       "    </tr>\n",
       "    <tr>\n",
       "      <th>3</th>\n",
       "      <td>9.193009</td>\n",
       "      <td>66.103575</td>\n",
       "      <td>90704</td>\n",
       "      <td>5.333700</td>\n",
       "      <td>35.695794</td>\n",
       "      <td>341.338173</td>\n",
       "      <td>138.000843</td>\n",
       "      <td>imagery</td>\n",
       "      <td>87.011250</td>\n",
       "    </tr>\n",
       "    <tr>\n",
       "      <th>4</th>\n",
       "      <td>0.023005</td>\n",
       "      <td>0.129558</td>\n",
       "      <td>91362</td>\n",
       "      <td>0.057541</td>\n",
       "      <td>1.716988</td>\n",
       "      <td>2.632023</td>\n",
       "      <td>0.202211</td>\n",
       "      <td>imagery</td>\n",
       "      <td>0.502720</td>\n",
       "    </tr>\n",
       "    <tr>\n",
       "      <th>5</th>\n",
       "      <td>0.763596</td>\n",
       "      <td>4.772787</td>\n",
       "      <td>91316</td>\n",
       "      <td>0.004292</td>\n",
       "      <td>7.122218</td>\n",
       "      <td>14.764068</td>\n",
       "      <td>0.461717</td>\n",
       "      <td>imagery</td>\n",
       "      <td>1.639458</td>\n",
       "    </tr>\n",
       "  </tbody>\n",
       "</table>\n",
       "</div>"
      ],
      "text/plain": [
       "   turf_area  vegetation_trees_area polygon  water_area  impervious_area  \\\n",
       "0   0.164438               0.647374   90802    0.000000        12.688006   \n",
       "1   0.159726               2.635687   90732    0.000000         2.946216   \n",
       "2   0.190158               2.017314   90744    0.000000        15.849339   \n",
       "3   9.193009              66.103575   90704    5.333700        35.695794   \n",
       "4   0.023005               0.129558   91362    0.057541         1.716988   \n",
       "5   0.763596               4.772787   91316    0.004292         7.122218   \n",
       "\n",
       "   total_area   soil_area ImageYear  vegetation_grass_area  \n",
       "0   14.756617    0.760027   imagery               0.496773  \n",
       "1    8.231549    1.869716   imagery               0.620204  \n",
       "2   22.599279    3.527528   imagery               1.014940  \n",
       "3  341.338173  138.000843   imagery              87.011250  \n",
       "4    2.632023    0.202211   imagery               0.502720  \n",
       "5   14.764068    0.461717   imagery               1.639458  "
      ]
     },
     "execution_count": 62,
     "metadata": {},
     "output_type": "execute_result"
    }
   ],
   "source": [
    "pd.DataFrame(dictionary)"
   ]
  },
  {
   "cell_type": "code",
   "execution_count": 45,
   "id": "1ee3cd65",
   "metadata": {},
   "outputs": [],
   "source": [
    "# classified = training_image_classified\n",
    "\n",
    "# water_area = area_calculation(classified, 1, la_county, 20)\n",
    "# vegetation_trees_area = area_calculation(classified, 2, la_county, 20)\n",
    "# vegetation_grass_area = area_calculation(classified, 3, la_county, 20)\n",
    "# turf_area = area_calculation(classified, 4, la_county, 20)\n",
    "# impervious_area = area_calculation(classified, 6, la_county, 20)\n",
    "# soil_area = area_calculation(classified, 7, la_county, 20)\n",
    "\n",
    "# total_area = water_area + vegetation_trees_area + vegetation_grass_area + turf_area + impervious_area + soil_area\n",
    "\n",
    "# water_percentage = water_area / total_area\n",
    "# vegetation_trees_percentage = vegetation_trees_area / total_area\n",
    "# vegetation_grass_percentage = vegetation_grass_area / total_area\n",
    "# turf_percentage = turf_area / total_area\n",
    "# impervious_percentage = impervious_area / total_area\n",
    "# soil_percentage = soil_area / total_area"
   ]
  }
 ],
 "metadata": {
  "kernelspec": {
   "display_name": "Python 3",
   "language": "python",
   "name": "python3"
  },
  "language_info": {
   "codemirror_mode": {
    "name": "ipython",
    "version": 3
   },
   "file_extension": ".py",
   "mimetype": "text/x-python",
   "name": "python",
   "nbconvert_exporter": "python",
   "pygments_lexer": "ipython3",
   "version": "3.8.3"
  }
 },
 "nbformat": 4,
 "nbformat_minor": 5
}
