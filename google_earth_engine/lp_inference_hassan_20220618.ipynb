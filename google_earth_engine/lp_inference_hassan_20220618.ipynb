{
 "cells": [
  {
   "cell_type": "code",
   "execution_count": 1,
   "id": "dcfcab72",
   "metadata": {},
   "outputs": [],
   "source": [
    "#Import required libraries\n",
    "import ee\n",
    "import geemap\n",
    "\n",
    "from mod.eeImage import get_images\n",
    "from mod.eeModel import clf, BANDS\n",
    "from mod.eeArea import area_calculation, get_areas"
   ]
  },
  {
   "cell_type": "code",
   "execution_count": 2,
   "id": "4b025217",
   "metadata": {},
   "outputs": [],
   "source": [
    "#Initialize Google Earth Engine\n",
    "# ee.Authenticate() #just needed the 1st time\n",
    "ee.Initialize()"
   ]
  },
  {
   "cell_type": "markdown",
   "id": "076ed4b2",
   "metadata": {},
   "source": [
    "### Import Images of LA from "
   ]
  },
  {
   "cell_type": "code",
   "execution_count": 2,
   "id": "f6b95d81",
   "metadata": {},
   "outputs": [],
   "source": [
    "params = {\n",
    "        'source_image_collection' : 'USDA/NAIP/DOQQ',\n",
    "        'years' : [2010,2012,2014,2016,2018,2020]\n",
    "         }"
   ]
  },
  {
   "cell_type": "code",
   "execution_count": 3,
   "id": "398dcb28",
   "metadata": {
    "scrolled": true
   },
   "outputs": [
    {
     "data": {
      "text/plain": [
       "{'2010_la_county': <ee.image.Image at 0x7fd0ee4bb7c0>,\n",
       " '2012_la_county': <ee.image.Image at 0x7fd0ee4bb9a0>,\n",
       " '2014_la_county': <ee.image.Image at 0x7fd0ee4bbb80>,\n",
       " '2016_la_county': <ee.image.Image at 0x7fd0ee4bbd60>,\n",
       " '2018_la_county': <ee.image.Image at 0x7fd0ee4bbf40>,\n",
       " '2020_la_county': <ee.image.Image at 0x7fd0ee4be160>}"
      ]
     },
     "execution_count": 3,
     "metadata": {},
     "output_type": "execute_result"
    }
   ],
   "source": [
    "images = get_images(params)\n",
    "images"
   ]
  },
  {
   "cell_type": "markdown",
   "id": "74fea22b",
   "metadata": {},
   "source": [
    "### Define classified image from which we will clip areas"
   ]
  },
  {
   "cell_type": "code",
   "execution_count": 5,
   "id": "4b4ad6f8",
   "metadata": {},
   "outputs": [],
   "source": [
    "rf_model = clf\n",
    "bands = BANDS"
   ]
  },
  {
   "cell_type": "code",
   "execution_count": 6,
   "id": "e01b2d06",
   "metadata": {},
   "outputs": [],
   "source": [
    "#for now we just use the LA 2020 one by importing it from the eeModel module\n",
    "\n",
    "training_image_classified = images['2020_la_county'].select(bands).classify(rf_model)"
   ]
  },
  {
   "cell_type": "markdown",
   "id": "d1da4a1f",
   "metadata": {},
   "source": [
    "### Get Areas by Passing In Zip Code"
   ]
  },
  {
   "cell_type": "code",
   "execution_count": 8,
   "id": "277d314c",
   "metadata": {},
   "outputs": [
    {
     "data": {
      "text/plain": [
       "{'ImageYear': 'testname',\n",
       " 'polygon': 'testpolygon',\n",
       " 'water_area': 0.0,\n",
       " 'vegetation_trees_area': 0.6473742569321577,\n",
       " 'vegetation_grass_area': 0.49677320525213503,\n",
       " 'turf_area': 0.16443753528562063,\n",
       " 'impervious_area': 12.688005716131128,\n",
       " 'soil_area': 0.7600267838706821,\n",
       " 'total_area': 14.756617497471723}"
      ]
     },
     "execution_count": 8,
     "metadata": {},
     "output_type": "execute_result"
    }
   ],
   "source": [
    "get_areas(training_image_classified, '90802')"
   ]
  },
  {
   "cell_type": "code",
   "execution_count": 9,
   "id": "f2bc1eb8",
   "metadata": {},
   "outputs": [
    {
     "data": {
      "text/plain": [
       "{'ImageYear': 'testname',\n",
       " 'polygon': 'testpolygon',\n",
       " 'water_area': 0.0,\n",
       " 'vegetation_trees_area': 2.635687282635604,\n",
       " 'vegetation_grass_area': 0.6202043969524312,\n",
       " 'turf_area': 0.1597259636497348,\n",
       " 'impervious_area': 2.9462155738286055,\n",
       " 'soil_area': 1.8697160730264089,\n",
       " 'total_area': 8.231549290092785}"
      ]
     },
     "execution_count": 9,
     "metadata": {},
     "output_type": "execute_result"
    }
   ],
   "source": [
    "get_areas(training_image_classified, '90732')"
   ]
  },
  {
   "cell_type": "markdown",
   "id": "8d7b4440",
   "metadata": {},
   "source": [
    "### Get Areas by Passing in a Polygon of Coordinates"
   ]
  },
  {
   "cell_type": "code",
   "execution_count": 10,
   "id": "5d8f5a7f",
   "metadata": {},
   "outputs": [],
   "source": [
    "coords = [[-118.180413,33.912948],\n",
    "          [-118.193457,33.875639],\n",
    "          [-118.285876,33.872960],\n",
    "          [-118.280523,33.928753]]\n",
    "\n",
    "\n",
    "poly = ee.Geometry.Polygon(coords)"
   ]
  },
  {
   "cell_type": "code",
   "execution_count": null,
   "id": "ab902145",
   "metadata": {},
   "outputs": [],
   "source": [
    "get_areas(training_image_classified, poly)"
   ]
  },
  {
   "cell_type": "markdown",
   "id": "8edd464b",
   "metadata": {},
   "source": [
    "### Visualize Polygons\n",
    "\n",
    "Below code is not necessary for Area Calculations, but let's see wha the zip code and polygon look like on the map "
   ]
  },
  {
   "cell_type": "code",
   "execution_count": 20,
   "id": "d728bd2d",
   "metadata": {},
   "outputs": [],
   "source": [
    "la_county_income_zipcode2 = ee.FeatureCollection(\"projects/california-lawn-detection/assets/income_zipcode2019\")\n",
    "la_county_income_zipcode = la_county_income_zipcode2.select(ee.List(['zipcode', '2019zipcod','shape_area']), \n",
    "                                                            ee.List(['ZipCode', 'Median_Income','Area_sqft']))\n",
    "\n",
    "shape = la_county_income_zipcode.filter(ee.Filter.eq('ZipCode', '90802'))"
   ]
  },
  {
   "cell_type": "code",
   "execution_count": 21,
   "id": "088e07bd",
   "metadata": {},
   "outputs": [],
   "source": [
    "Map = geemap.Map()\n",
    "Map.addLayer(poly, {}, 'Polygon')\n",
    "Map.addLayer(shape, {}, '90802')"
   ]
  },
  {
   "cell_type": "code",
   "execution_count": 22,
   "id": "450f1378",
   "metadata": {},
   "outputs": [
    {
     "data": {
      "application/vnd.jupyter.widget-view+json": {
       "model_id": "8596ce7c8ef147d29ad7b7428cc43366",
       "version_major": 2,
       "version_minor": 0
      },
      "text/plain": [
       "Map(center=[20, 0], controls=(WidgetControl(options=['position', 'transparent_bg'], widget=HBox(children=(Togg…"
      ]
     },
     "metadata": {},
     "output_type": "display_data"
    }
   ],
   "source": [
    "Map"
   ]
  }
 ],
 "metadata": {
  "kernelspec": {
   "display_name": "Python 3",
   "language": "python",
   "name": "python3"
  },
  "language_info": {
   "codemirror_mode": {
    "name": "ipython",
    "version": 3
   },
   "file_extension": ".py",
   "mimetype": "text/x-python",
   "name": "python",
   "nbconvert_exporter": "python",
   "pygments_lexer": "ipython3",
   "version": "3.8.3"
  }
 },
 "nbformat": 4,
 "nbformat_minor": 5
}
